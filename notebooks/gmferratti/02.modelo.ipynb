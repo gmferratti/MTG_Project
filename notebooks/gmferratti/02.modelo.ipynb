{
 "cells": [
  {
   "cell_type": "markdown",
   "metadata": {},
   "source": [
    "<h1>Modelagem</h1>"
   ]
  },
  {
   "cell_type": "markdown",
   "metadata": {},
   "source": [
    "Simular a probabilidade de conseguir curvar as jogadas.\n",
    "\n",
    "Dados necessários:\n",
    "\n",
    "1. Um conjunto razoável de decks do metagame (obtidos via Scraper).\n",
    "2. Comunicação com a API do mtg_sdk para obter os dados dos cards e dos sets.\n",
    "3. Simulação das mãos iniciais e da viabilidade das jogadas no turno. \n",
    "(Obs. adotar como premissa que os players sempre irão lançar cartas caso tenham mana o suficiente)\n",
    "\n",
    "Operacionalização:\n",
    "\n",
    "- Gerar várias mãos iniciais simuladas a partir de um decklist importada do meta. \n",
    "- Inserir possibilidade de mulligan na simulação com uma distribuição de probabilidade hard-coded (ex. probabilidade de 20% de mulligar 1x, 10% de mulligar 2x, etc.)\n",
    "- Avaliar se cada mão gerada atende aos critérios de \"balanceamento terreno/magia\", \"playable\" (ex. não floodou), \"curvable\" (para ser considerado curvable, tem que ter possibilidades de jogadas que consigam consumir a energia daquele baralho. Ex. duas jogadas de uma mana no turno 2, uma jogada de 2 e uma de 1 no turno 3)\n",
    "- Repetir o processo milhares de vezes para calcular a probabilidade"
   ]
  },
  {
   "cell_type": "markdown",
   "metadata": {},
   "source": [
    "<h2> Ideia para as Features </h2>"
   ]
  },
  {
   "cell_type": "markdown",
   "metadata": {},
   "source": [
    "Objeto deck tem que ter:\n",
    "\n",
    "1. Distribuição de cores do terreno\n",
    "2. Curva de mana adequada (conseguir jogar carta para turnos 2,3 e 4. Ou 1,2 e 3, etc)\n",
    "3. Mão inicial balanceada (terrenos/cartas)\n",
    "4. Viabilidade de jogada no turno"
   ]
  },
  {
   "cell_type": "markdown",
   "metadata": {},
   "source": [
    "<h2>TO DOS:</h2>"
   ]
  },
  {
   "cell_type": "markdown",
   "metadata": {},
   "source": [
    "- Pensar em atualizar a minha classe deck para receber os inputs no formato padrão do MTG Arena que a galera deixa disponível nos canais.\n",
    "- Determinar uma quantidade de turnos médio de uma partida na simulação\n",
    "- Pensar em lógica para terrenos com duas ou mais cores e terrenos que entram virados.\n",
    "- Definir o que é uma mão playable (no mínimo 2 a máximo 4 terrenos, cartas que podem ser jogadas até nos 3 primeiros turnos).\n",
    "- Identificar cartas que permitem lançar mais de um terreno no turno.\n",
    "- Se o nome do deck contiver \"Selesnya\" determinar branco e verde, \"Boros\": branco e vermelho, e assim por diante.\n",
    "- Adicionar atributo nome no deck."
   ]
  },
  {
   "cell_type": "markdown",
   "metadata": {},
   "source": [
    "ROADMAP GPT\n",
    "\n",
    "Com base nas suas anotações e objetivos, aqui está um plano mais detalhado para operacionalizar a simulação da probabilidade de conseguir curvar as jogadas:\n",
    "\n",
    "1. Obtenção dos Dados dos Decks do Metagame\n",
    "Scraping de Decklists:\n",
    "\n",
    "Utilize web scraping para obter decks do metagame em sites como MTGGoldfish, MTGTop8, ou outros repositórios de decklists populares.\n",
    "Extraia os decks no formato padrão do MTG Arena para facilitar a integração com o seu sistema.\n",
    "Integração com mtg_sdk:\n",
    "\n",
    "Use a mtg_sdk para obter detalhes das cartas dos decks, como custo de mana (cmc), cores (colors), tipos de terreno (type), e habilidades que afetam o jogo.\n",
    "Certifique-se de obter informações sobre terrenos duais e aqueles que entram em campo virados, que são críticos para a simulação.\n",
    "\n",
    "\n",
    "2. Simulação das Mãos Iniciais e Viabilidade das Jogadas\n",
    "Simulação de Mãos Iniciais:\n",
    "\n",
    "Geração de Mãos: Simule milhares de mãos iniciais para cada deck. Para cada mão gerada, avalie se ela é \"balanceada\" (entre terrenos e mágicas).\n",
    "Mulligan: Incorpore a lógica de mulligan com probabilidades predefinidas (ex.: 20% de mulligar uma vez, 10% de mulligar duas vezes). Caso o mulligan ocorra, gere uma nova mão com uma carta a menos.\n",
    "Critérios de Avaliação:\n",
    "\n",
    "Playable: Verifique se a mão inicial tem entre 2 e 4 terrenos e cartas jogáveis nos primeiros 3 turnos. Evite mãos com potencial de flood (excesso de terrenos) ou screw (falta de terrenos).\n",
    "Curvable: Avalie se há possibilidades de jogadas que maximizem o uso de mana nos turnos 1, 2, 3, etc. Por exemplo, uma mão pode ser considerada curvable se houver uma jogada de 2 mana no turno 2 e uma de 3 mana no turno 3.\n",
    "\n",
    "\n",
    "3. Atualização da Classe Deck\n",
    "Formato de Input:\n",
    "\n",
    "Modifique a classe Deck para aceitar inputs no formato padrão do MTG Arena, onde as decklists estão disponíveis publicamente. Isso pode incluir parsing de texto para construir a lista de cartas.\n",
    "Atributos e Métodos:\n",
    "\n",
    "Distribuição de Cores: Adicione métodos para calcular a distribuição de cores e terrenos no deck.\n",
    "Curva de Mana: Inclua métodos que avaliem se o deck possui uma curva de mana adequada para garantir jogadas eficientes nos turnos iniciais.\n",
    "Viabilidade de Jogada: Adicione métodos que simulem jogadas turno a turno, considerando o mana disponível e as cartas na mão.\n",
    "Terrenos Especiais:\n",
    "\n",
    "Implemente lógica para terrenos que entram em campo virados, terrenos que geram mais de uma cor de mana, e cartas que permitem jogar mais de um terreno por turno.\n",
    "\n",
    "\n",
    "4. Simulação de Partida\n",
    "Turnos Médios:\n",
    "\n",
    "Defina um número médio de turnos para a simulação (ex.: 7 a 10 turnos). Isso ajudará a simular se o deck consegue sustentar a pressão ao longo da partida.\n",
    "Lógica de Curva:\n",
    "\n",
    "Simule os primeiros turnos de uma partida, verificando se o deck consegue fazer jogadas significativas a cada turno, maximizando o uso do mana disponível.\n",
    "Análise dos Resultados:\n",
    "\n",
    "Após a simulação de milhares de partidas, calcule a probabilidade de obter uma mão inicial que seja equilibrada e curvable, ou seja, que permita jogadas eficientes nos primeiros turnos.\n",
    "\n",
    "\n",
    "5. Implementação e Testes\n",
    "Testes Unitários: Crie testes para garantir que cada parte da lógica (mulligan, curva de mana, viabilidade de jogada) funcione como esperado.\n",
    "Ajustes e Refinamentos: Com base nos resultados da simulação, refine os critérios de avaliação e ajuste a classe Deck conforme necessário.\n",
    "Esse plano te ajudará a criar uma simulação robusta que avalie a viabilidade das mãos iniciais e a capacidade do deck de curvar suas jogadas nos primeiros turnos. Se precisar de ajuda com qualquer parte da implementação ou se tiver outras ideias para melhorar o modelo, estou à disposição!\n"
   ]
  }
 ],
 "metadata": {
  "kernelspec": {
   "display_name": "mtg_env",
   "language": "python",
   "name": "python3"
  },
  "language_info": {
   "codemirror_mode": {
    "name": "ipython",
    "version": 3
   },
   "file_extension": ".py",
   "mimetype": "text/x-python",
   "name": "python",
   "nbconvert_exporter": "python",
   "pygments_lexer": "ipython3",
   "version": "3.12.5"
  }
 },
 "nbformat": 4,
 "nbformat_minor": 2
}
