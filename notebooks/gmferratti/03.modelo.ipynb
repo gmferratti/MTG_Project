{
 "cells": [
  {
   "cell_type": "code",
   "execution_count": null,
   "metadata": {},
   "outputs": [],
   "source": [
    "# Podemos criar um modelinho simples de\n",
    "# dado o balanceamento mana/outras cartas\n",
    "# e a quantidade de mulligans, calcular\n",
    "# a chance de vitórias."
   ]
  },
  {
   "cell_type": "code",
   "execution_count": null,
   "metadata": {},
   "outputs": [],
   "source": [
    "# Fazer a simulação dessas paradas."
   ]
  },
  {
   "cell_type": "code",
   "execution_count": null,
   "metadata": {},
   "outputs": [],
   "source": [
    "# Para responder essa pergunta, eu não preciso de detalhes das cartas...\n",
    "\n",
    "# Eu poderia, por nível de similaridade do metagame, "
   ]
  }
 ],
 "metadata": {
  "language_info": {
   "name": "python"
  }
 },
 "nbformat": 4,
 "nbformat_minor": 2
}
