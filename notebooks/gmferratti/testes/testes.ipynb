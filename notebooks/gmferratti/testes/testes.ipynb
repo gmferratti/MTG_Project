{
 "cells": [
  {
   "cell_type": "code",
   "execution_count": 9,
   "metadata": {},
   "outputs": [],
   "source": [
    "import os\n",
    "os.chdir(\"c:\\\\Users\\\\gufer\\\\OneDrive\\\\Documentos\\\\FIAP\\\\Fase_03\\\\\")"
   ]
  },
  {
   "cell_type": "code",
   "execution_count": 12,
   "metadata": {},
   "outputs": [],
   "source": [
    "# Testar aqui as classes implementadas\n",
    "from classes.deck import Deck\n",
    "from classes.hand import Card\n",
    "from classes.library import Library\n",
    "from classes.player import Player"
   ]
  },
  {
   "cell_type": "code",
   "execution_count": 13,
   "metadata": {},
   "outputs": [],
   "source": [
    "# Cartas Azuis\n",
    "blue_card1 = Card.where(name='Opt').all()[0]\n",
    "blue_card2 = Card.where(name='Counterspell').all()[0]\n",
    "blue_card3 = Card.where(name='Brainstorm').all()[0]\n",
    "blue_card4 = Card.where(name='Ponder').all()[0]\n",
    "\n",
    "# Cartas Pretas\n",
    "black_card1 = Card.where(name='Duress').all()[0]\n",
    "black_card2 = Card.where(name='Dark Ritual').all()[0]\n",
    "black_card3 = Card.where(name='Thoughtseize').all()[0]\n",
    "black_card4 = Card.where(name='Inquisition of Kozilek').all()[0]\n",
    "\n",
    "artifact_card = Card.where(name='Sol Ring').all()[0]"
   ]
  },
  {
   "cell_type": "code",
   "execution_count": 14,
   "metadata": {},
   "outputs": [
    {
     "name": "stdout",
     "output_type": "stream",
     "text": [
      "Tenth Edition\n",
      "Unlimited Edition\n",
      "Double Masters\n",
      "Commander 2018\n",
      "Seventh Edition\n",
      "Unlimited Edition\n",
      "Double Masters\n",
      "Double Masters 2022\n",
      "Unlimited Edition\n"
     ]
    }
   ],
   "source": [
    "# Printar a qual set cada uma das cartas azuis e pretas pertencem\n",
    "print(blue_card1.set_name)\n",
    "print(blue_card2.set_name)\n",
    "print(blue_card3.set_name)\n",
    "print(blue_card4.set_name)\n",
    "\n",
    "print(black_card1.set_name)\n",
    "print(black_card2.set_name)\n",
    "print(black_card3.set_name)\n",
    "print(black_card4.set_name)\n",
    "\n",
    "print(artifact_card.set_name)"
   ]
  },
  {
   "cell_type": "code",
   "execution_count": 18,
   "metadata": {},
   "outputs": [
    {
     "name": "stdout",
     "output_type": "stream",
     "text": [
      "Tenth Edition\n",
      "10E\n"
     ]
    }
   ],
   "source": [
    "# Pegando agora o relentless rats\n",
    "relentless_rats = Card.where(name='Relentless Rats').all()[0]\n",
    "print(relentless_rats.set_name)\n",
    "print(relentless_rats.set)"
   ]
  },
  {
   "cell_type": "code",
   "execution_count": 17,
   "metadata": {},
   "outputs": [
    {
     "name": "stdout",
     "output_type": "stream",
     "text": [
      "10E\n",
      "2ED\n",
      "2XM\n",
      "C18\n",
      "7ED\n",
      "2ED\n",
      "2XM\n",
      "2X2\n",
      "2ED\n"
     ]
    }
   ],
   "source": [
    "#Getting the set code of each card\n",
    "print(blue_card1.set)\n",
    "print(blue_card2.set)\n",
    "print(blue_card3.set)\n",
    "print(blue_card4.set)\n",
    "\n",
    "print(black_card1.set)\n",
    "print(black_card2.set)\n",
    "print(black_card3.set)\n",
    "print(black_card4.set)\n",
    "\n",
    "print(artifact_card.set)"
   ]
  }
 ],
 "metadata": {
  "kernelspec": {
   "display_name": "mtg_env",
   "language": "python",
   "name": "python3"
  },
  "language_info": {
   "codemirror_mode": {
    "name": "ipython",
    "version": 3
   },
   "file_extension": ".py",
   "mimetype": "text/x-python",
   "name": "python",
   "nbconvert_exporter": "python",
   "pygments_lexer": "ipython3",
   "version": "3.12.5"
  }
 },
 "nbformat": 4,
 "nbformat_minor": 2
}
