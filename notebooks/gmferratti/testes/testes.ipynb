{
 "cells": [
  {
   "cell_type": "code",
   "execution_count": null,
   "metadata": {},
   "outputs": [],
   "source": [
    "# Testar aqui as classes implementadas\n",
    "from classes.deck import Deck\n",
    "from classes.hand import Card\n",
    "from classes.library import Library\n",
    "from classes.player import Player"
   ]
  }
 ],
 "metadata": {
  "language_info": {
   "name": "python"
  }
 },
 "nbformat": 4,
 "nbformat_minor": 2
}
