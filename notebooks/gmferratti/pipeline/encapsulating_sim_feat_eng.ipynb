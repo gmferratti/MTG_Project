{
 "cells": [
  {
   "cell_type": "code",
   "execution_count": 1,
   "metadata": {},
   "outputs": [
    {
     "data": {
      "text/html": [
       "<pre style=\"white-space:pre;overflow-x:auto;line-height:normal;font-family:Menlo,'DejaVu Sans Mono',consolas,'Courier New',monospace\"><span style=\"color: #7fbfbf; text-decoration-color: #7fbfbf\">[09/15/24 19:26:41] </span><span style=\"color: #000080; text-decoration-color: #000080\">INFO    </span> Using                                                                  <a href=\"file://c:\\Users\\gufer\\miniconda3\\envs\\mtg_env\\Lib\\site-packages\\kedro\\framework\\project\\__init__.py\" target=\"_blank\"><span style=\"color: #7f7f7f; text-decoration-color: #7f7f7f\">__init__.py</span></a><span style=\"color: #7f7f7f; text-decoration-color: #7f7f7f\">:</span><a href=\"file://c:\\Users\\gufer\\miniconda3\\envs\\mtg_env\\Lib\\site-packages\\kedro\\framework\\project\\__init__.py#249\" target=\"_blank\"><span style=\"color: #7f7f7f; text-decoration-color: #7f7f7f\">249</span></a>\n",
       "<span style=\"color: #7fbfbf; text-decoration-color: #7fbfbf\">                    </span>         <span style=\"color: #008000; text-decoration-color: #008000\">'c:\\Users\\gufer\\miniconda3\\envs\\mtg_env\\Lib\\site-packages\\kedro\\framew</span> <span style=\"color: #7f7f7f; text-decoration-color: #7f7f7f\">               </span>\n",
       "<span style=\"color: #7fbfbf; text-decoration-color: #7fbfbf\">                    </span>         <span style=\"color: #008000; text-decoration-color: #008000\">ork\\project\\rich_logging.yml'</span> as logging configuration.                <span style=\"color: #7f7f7f; text-decoration-color: #7f7f7f\">               </span>\n",
       "</pre>\n"
      ],
      "text/plain": [
       "\u001b[2;36m[09/15/24 19:26:41]\u001b[0m\u001b[2;36m \u001b[0m\u001b[34mINFO    \u001b[0m Using                                                                  \u001b]8;id=368227;file://c:\\Users\\gufer\\miniconda3\\envs\\mtg_env\\Lib\\site-packages\\kedro\\framework\\project\\__init__.py\u001b\\\u001b[2m__init__.py\u001b[0m\u001b]8;;\u001b\\\u001b[2m:\u001b[0m\u001b]8;id=169814;file://c:\\Users\\gufer\\miniconda3\\envs\\mtg_env\\Lib\\site-packages\\kedro\\framework\\project\\__init__.py#249\u001b\\\u001b[2m249\u001b[0m\u001b]8;;\u001b\\\n",
       "\u001b[2;36m                    \u001b[0m         \u001b[32m'c:\\Users\\gufer\\miniconda3\\envs\\mtg_env\\Lib\\site-packages\\kedro\\framew\u001b[0m \u001b[2m               \u001b[0m\n",
       "\u001b[2;36m                    \u001b[0m         \u001b[32mork\\project\\rich_logging.yml'\u001b[0m as logging configuration.                \u001b[2m               \u001b[0m\n"
      ]
     },
     "metadata": {},
     "output_type": "display_data"
    },
    {
     "name": "stdout",
     "output_type": "stream",
     "text": [
      "Notebook current working directory: c:\\Users\\gufer\\OneDrive\\Documentos\\FIAP\\Fase_03\\notebooks\\gmferratti\\pipeline\n",
      "Project path: c:\\Users\\gufer\\OneDrive\\Documentos\\FIAP\\Fase_03\\mtg-project\n"
     ]
    },
    {
     "data": {
      "text/html": [
       "<pre style=\"white-space:pre;overflow-x:auto;line-height:normal;font-family:Menlo,'DejaVu Sans Mono',consolas,'Courier New',monospace\"><span style=\"color: #7fbfbf; text-decoration-color: #7fbfbf\">[09/15/24 19:26:43] </span><span style=\"color: #000080; text-decoration-color: #000080\">INFO    </span> Kedro is sending anonymous usage data with the sole purpose of improving <a href=\"file://c:\\Users\\gufer\\miniconda3\\envs\\mtg_env\\Lib\\site-packages\\kedro_telemetry\\plugin.py\" target=\"_blank\"><span style=\"color: #7f7f7f; text-decoration-color: #7f7f7f\">plugin.py</span></a><span style=\"color: #7f7f7f; text-decoration-color: #7f7f7f\">:</span><a href=\"file://c:\\Users\\gufer\\miniconda3\\envs\\mtg_env\\Lib\\site-packages\\kedro_telemetry\\plugin.py#233\" target=\"_blank\"><span style=\"color: #7f7f7f; text-decoration-color: #7f7f7f\">233</span></a>\n",
       "<span style=\"color: #7fbfbf; text-decoration-color: #7fbfbf\">                    </span>         the product. No personal data or IP addresses are stored on our side. If <span style=\"color: #7f7f7f; text-decoration-color: #7f7f7f\">             </span>\n",
       "<span style=\"color: #7fbfbf; text-decoration-color: #7fbfbf\">                    </span>         you want to opt out, set the `KEDRO_DISABLE_TELEMETRY` or `DO_NOT_TRACK` <span style=\"color: #7f7f7f; text-decoration-color: #7f7f7f\">             </span>\n",
       "<span style=\"color: #7fbfbf; text-decoration-color: #7fbfbf\">                    </span>         environment variables, or create a `.telemetry` file in the current      <span style=\"color: #7f7f7f; text-decoration-color: #7f7f7f\">             </span>\n",
       "<span style=\"color: #7fbfbf; text-decoration-color: #7fbfbf\">                    </span>         working directory with the contents `consent: false`. Read more at       <span style=\"color: #7f7f7f; text-decoration-color: #7f7f7f\">             </span>\n",
       "<span style=\"color: #7fbfbf; text-decoration-color: #7fbfbf\">                    </span>         <span style=\"color: #0000ff; text-decoration-color: #0000ff; text-decoration: underline\">https://docs.kedro.org/en/stable/configuration/telemetry.html</span>            <span style=\"color: #7f7f7f; text-decoration-color: #7f7f7f\">             </span>\n",
       "</pre>\n"
      ],
      "text/plain": [
       "\u001b[2;36m[09/15/24 19:26:43]\u001b[0m\u001b[2;36m \u001b[0m\u001b[34mINFO    \u001b[0m Kedro is sending anonymous usage data with the sole purpose of improving \u001b]8;id=778537;file://c:\\Users\\gufer\\miniconda3\\envs\\mtg_env\\Lib\\site-packages\\kedro_telemetry\\plugin.py\u001b\\\u001b[2mplugin.py\u001b[0m\u001b]8;;\u001b\\\u001b[2m:\u001b[0m\u001b]8;id=276992;file://c:\\Users\\gufer\\miniconda3\\envs\\mtg_env\\Lib\\site-packages\\kedro_telemetry\\plugin.py#233\u001b\\\u001b[2m233\u001b[0m\u001b]8;;\u001b\\\n",
       "\u001b[2;36m                    \u001b[0m         the product. No personal data or IP addresses are stored on our side. If \u001b[2m             \u001b[0m\n",
       "\u001b[2;36m                    \u001b[0m         you want to opt out, set the `KEDRO_DISABLE_TELEMETRY` or `DO_NOT_TRACK` \u001b[2m             \u001b[0m\n",
       "\u001b[2;36m                    \u001b[0m         environment variables, or create a `.telemetry` file in the current      \u001b[2m             \u001b[0m\n",
       "\u001b[2;36m                    \u001b[0m         working directory with the contents `consent: false`. Read more at       \u001b[2m             \u001b[0m\n",
       "\u001b[2;36m                    \u001b[0m         \u001b[4;94mhttps://docs.kedro.org/en/stable/configuration/telemetry.html\u001b[0m            \u001b[2m             \u001b[0m\n"
      ]
     },
     "metadata": {},
     "output_type": "display_data"
    },
    {
     "data": {
      "text/html": [
       "<pre style=\"white-space:pre;overflow-x:auto;line-height:normal;font-family:Menlo,'DejaVu Sans Mono',consolas,'Courier New',monospace\"></pre>\n"
      ],
      "text/plain": []
     },
     "metadata": {},
     "output_type": "display_data"
    },
    {
     "data": {
      "text/plain": [
       "\n",
       "\u001b[1m[\u001b[0m\n",
       "    \u001b[32m'decks_json_partitioned'\u001b[0m,\n",
       "    \u001b[32m'decks_txt_partitioned'\u001b[0m,\n",
       "    \u001b[32m'sampled_decks'\u001b[0m,\n",
       "    \u001b[32m'players'\u001b[0m,\n",
       "    \u001b[32m'players_with_decks'\u001b[0m,\n",
       "    \u001b[32m'matches_df'\u001b[0m,\n",
       "    \u001b[32m'features_df'\u001b[0m,\n",
       "    \u001b[32m'selected_features_df'\u001b[0m,\n",
       "    \u001b[32m'train_features'\u001b[0m,\n",
       "    \u001b[32m'test_features'\u001b[0m,\n",
       "    \u001b[32m'train_target'\u001b[0m,\n",
       "    \u001b[32m'test_target'\u001b[0m,\n",
       "    \u001b[32m'model_pkl'\u001b[0m,\n",
       "    \u001b[32m'parameters'\u001b[0m,\n",
       "    \u001b[32m'params:global'\u001b[0m,\n",
       "    \u001b[32m'params:global.run_date'\u001b[0m,\n",
       "    \u001b[32m'params:global.run_date.day'\u001b[0m,\n",
       "    \u001b[32m'params:global.run_date.month'\u001b[0m,\n",
       "    \u001b[32m'params:global.run_date.year'\u001b[0m,\n",
       "    \u001b[32m'params:global.user'\u001b[0m,\n",
       "    \u001b[32m'params:global.user.project_path'\u001b[0m,\n",
       "    \u001b[32m'params:preprocessing'\u001b[0m,\n",
       "    \u001b[32m'params:preprocessing.webscraper'\u001b[0m,\n",
       "    \u001b[32m'params:preprocessing.webscraper.zip_url'\u001b[0m,\n",
       "    \u001b[32m'params:preprocessing.webscraper.zip_folder'\u001b[0m,\n",
       "    \u001b[32m'params:preprocessing.webscraper.log_folder'\u001b[0m,\n",
       "    \u001b[32m'params:preprocessing.webscraper.deck_cards'\u001b[0m,\n",
       "    \u001b[32m'params:preprocessing.webscraper.sample_size_ratio'\u001b[0m,\n",
       "    \u001b[32m'params:simulation'\u001b[0m,\n",
       "    \u001b[32m'params:simulation.n_players'\u001b[0m,\n",
       "    \u001b[32m'params:simulation.matches_per_player'\u001b[0m,\n",
       "    \u001b[32m'params:simulation.hand_size_stop'\u001b[0m,\n",
       "    \u001b[32m'params:simulation.max_turns'\u001b[0m,\n",
       "    \u001b[32m'params:simulation.max_mulligans'\u001b[0m,\n",
       "    \u001b[32m'params:simulation.mulligan_prob'\u001b[0m,\n",
       "    \u001b[32m'params:simulation.extra_land_prob'\u001b[0m,\n",
       "    \u001b[32m'params:simulation.log_folder'\u001b[0m,\n",
       "    \u001b[32m'params:modeling'\u001b[0m,\n",
       "    \u001b[32m'params:modeling.feature_engineering'\u001b[0m,\n",
       "    \u001b[32m'params:modeling.feature_engineering.feat_corr_threshold'\u001b[0m,\n",
       "    \u001b[32m'params:modeling.xgboost'\u001b[0m,\n",
       "    \u001b[32m'params:modeling.xgboost.learning_rate'\u001b[0m,\n",
       "    \u001b[32m'params:modeling.xgboost.max_depth'\u001b[0m,\n",
       "    \u001b[32m'params:modeling.xgboost.n_estimators'\u001b[0m,\n",
       "    \u001b[32m'params:modeling.random_forest'\u001b[0m,\n",
       "    \u001b[32m'params:modeling.random_forest.n_estimators'\u001b[0m,\n",
       "    \u001b[32m'params:modeling.random_forest.max_depth'\u001b[0m,\n",
       "    \u001b[32m'params:modeling.random_forest.random_state'\u001b[0m,\n",
       "    \u001b[32m'params:evaluation'\u001b[0m,\n",
       "    \u001b[32m'params:evaluation.metrics'\u001b[0m,\n",
       "    \u001b[32m'params:evaluation.metrics.accuracy_threshold'\u001b[0m,\n",
       "    \u001b[32m'params:evaluation.metrics.f1_threshold'\u001b[0m,\n",
       "    \u001b[32m'params:evaluation.reporting'\u001b[0m,\n",
       "    \u001b[32m'params:evaluation.reporting.save_reports'\u001b[0m,\n",
       "    \u001b[32m'params:evaluation.reporting.report_format'\u001b[0m\n",
       "\u001b[1m]\u001b[0m"
      ]
     },
     "execution_count": 1,
     "metadata": {},
     "output_type": "execute_result"
    }
   ],
   "source": [
    "import os\n",
    "from kedro.framework.startup import bootstrap_project\n",
    "from kedro.framework.session import KedroSession\n",
    "import warnings\n",
    "\n",
    "warnings.filterwarnings(\"ignore\")\n",
    "\n",
    "# Encontrar o caminho absoluto do diretório atual\n",
    "notebook_cwd = os.getcwd()\n",
    "\n",
    "# Definir o caminho correto para a raiz do projeto Kedro\n",
    "project_path = r\"c:\\Users\\gufer\\OneDrive\\Documentos\\FIAP\\Fase_03\\mtg-project\"\n",
    "\n",
    "# Verificar o diretório atual e o caminho do projeto\n",
    "print(f\"Notebook current working directory: {notebook_cwd}\")\n",
    "print(f\"Project path: {project_path}\")\n",
    "\n",
    "# Alterar para o diretório raiz do projeto Kedro\n",
    "os.chdir(project_path)\n",
    "\n",
    "# Bootstrap o projeto Kedro\n",
    "bootstrap_project(project_path)\n",
    "\n",
    "# Inicialize o contexto do Kedro\n",
    "with KedroSession.create() as session:\n",
    "    context = session.load_context()\n",
    "\n",
    "# Recarregar o catálogo\n",
    "catalog = context.catalog\n",
    "\n",
    "# Acessar os parâmetros\n",
    "params = context.params\n",
    "\n",
    "# Listar o catálogo\n",
    "catalog.list()"
   ]
  },
  {
   "cell_type": "code",
   "execution_count": 2,
   "metadata": {},
   "outputs": [],
   "source": [
    "from typing import List, Dict\n",
    "from classes.deck import Deck\n",
    "from classes.player import Player\n",
    "from classes.player_tracker import PlayerTracker\n",
    "from src.mtg_project.pipelines.utils import setup_logger\n",
    "import pandas as pd\n",
    "import numpy as np\n",
    "from faker import Faker\n",
    "import random"
   ]
  },
  {
   "cell_type": "code",
   "execution_count": 3,
   "metadata": {},
   "outputs": [
    {
     "data": {
      "text/html": [
       "<pre style=\"white-space:pre;overflow-x:auto;line-height:normal;font-family:Menlo,'DejaVu Sans Mono',consolas,'Courier New',monospace\"><span style=\"color: #7fbfbf; text-decoration-color: #7fbfbf\">[09/15/24 19:26:44] </span><span style=\"color: #000080; text-decoration-color: #000080\">INFO    </span> Loading data from <span style=\"color: #ff8700; text-decoration-color: #ff8700\">params:simulation.n_players</span> <span style=\"font-weight: bold\">(</span>MemoryDataset<span style=\"font-weight: bold\">)</span><span style=\"color: #808000; text-decoration-color: #808000\">...</span>   <a href=\"file://c:\\Users\\gufer\\miniconda3\\envs\\mtg_env\\Lib\\site-packages\\kedro\\io\\data_catalog.py\" target=\"_blank\"><span style=\"color: #7f7f7f; text-decoration-color: #7f7f7f\">data_catalog.py</span></a><span style=\"color: #7f7f7f; text-decoration-color: #7f7f7f\">:</span><a href=\"file://c:\\Users\\gufer\\miniconda3\\envs\\mtg_env\\Lib\\site-packages\\kedro\\io\\data_catalog.py#539\" target=\"_blank\"><span style=\"color: #7f7f7f; text-decoration-color: #7f7f7f\">539</span></a>\n",
       "</pre>\n"
      ],
      "text/plain": [
       "\u001b[2;36m[09/15/24 19:26:44]\u001b[0m\u001b[2;36m \u001b[0m\u001b[34mINFO    \u001b[0m Loading data from \u001b[38;5;208mparams:simulation.n_players\u001b[0m \u001b[1m(\u001b[0mMemoryDataset\u001b[1m)\u001b[0m\u001b[33m...\u001b[0m   \u001b]8;id=107749;file://c:\\Users\\gufer\\miniconda3\\envs\\mtg_env\\Lib\\site-packages\\kedro\\io\\data_catalog.py\u001b\\\u001b[2mdata_catalog.py\u001b[0m\u001b]8;;\u001b\\\u001b[2m:\u001b[0m\u001b]8;id=27348;file://c:\\Users\\gufer\\miniconda3\\envs\\mtg_env\\Lib\\site-packages\\kedro\\io\\data_catalog.py#539\u001b\\\u001b[2m539\u001b[0m\u001b]8;;\u001b\\\n"
      ]
     },
     "metadata": {},
     "output_type": "display_data"
    },
    {
     "data": {
      "text/html": [
       "<pre style=\"white-space:pre;overflow-x:auto;line-height:normal;font-family:Menlo,'DejaVu Sans Mono',consolas,'Courier New',monospace\"><span style=\"color: #7fbfbf; text-decoration-color: #7fbfbf\">                    </span><span style=\"color: #000080; text-decoration-color: #000080\">INFO    </span> Saving data to <span style=\"color: #ff8700; text-decoration-color: #ff8700\">players</span> <span style=\"font-weight: bold\">(</span>PickleDataset<span style=\"font-weight: bold\">)</span><span style=\"color: #808000; text-decoration-color: #808000\">...</span>                          <a href=\"file://c:\\Users\\gufer\\miniconda3\\envs\\mtg_env\\Lib\\site-packages\\kedro\\io\\data_catalog.py\" target=\"_blank\"><span style=\"color: #7f7f7f; text-decoration-color: #7f7f7f\">data_catalog.py</span></a><span style=\"color: #7f7f7f; text-decoration-color: #7f7f7f\">:</span><a href=\"file://c:\\Users\\gufer\\miniconda3\\envs\\mtg_env\\Lib\\site-packages\\kedro\\io\\data_catalog.py#581\" target=\"_blank\"><span style=\"color: #7f7f7f; text-decoration-color: #7f7f7f\">581</span></a>\n",
       "</pre>\n"
      ],
      "text/plain": [
       "\u001b[2;36m                   \u001b[0m\u001b[2;36m \u001b[0m\u001b[34mINFO    \u001b[0m Saving data to \u001b[38;5;208mplayers\u001b[0m \u001b[1m(\u001b[0mPickleDataset\u001b[1m)\u001b[0m\u001b[33m...\u001b[0m                          \u001b]8;id=728061;file://c:\\Users\\gufer\\miniconda3\\envs\\mtg_env\\Lib\\site-packages\\kedro\\io\\data_catalog.py\u001b\\\u001b[2mdata_catalog.py\u001b[0m\u001b]8;;\u001b\\\u001b[2m:\u001b[0m\u001b]8;id=753561;file://c:\\Users\\gufer\\miniconda3\\envs\\mtg_env\\Lib\\site-packages\\kedro\\io\\data_catalog.py#581\u001b\\\u001b[2m581\u001b[0m\u001b]8;;\u001b\\\n"
      ]
     },
     "metadata": {},
     "output_type": "display_data"
    }
   ],
   "source": [
    "def create_players(n_players: int):\n",
    "    \"\"\"\n",
    "    Cria uma lista de objetos Player com nomes aleatórios.\n",
    "\n",
    "    Args:\n",
    "        n_players (int): Número de jogadores a serem criados.\n",
    "\n",
    "    Returns:\n",
    "        List[Player]: Lista de objetos Player com nomes gerados aleatoriamente.\n",
    "    \"\"\"\n",
    "    # Inicializando o gerador de dados falsos Faker\n",
    "    fake = Faker()\n",
    "    \n",
    "    # Gerando uma lista de nomes aleatórios usando o Faker\n",
    "    player_names = [fake.first_name() + \" \" + fake.last_name() for _ in range(n_players)]\n",
    "    \n",
    "    # Criando uma lista de objetos Player a partir dos nomes gerados\n",
    "    players = [Player(name) for name in player_names]\n",
    "\n",
    "    # Retornando a lista de objetos Player\n",
    "    return players\n",
    "\n",
    "n_players = catalog.load(\"params:simulation.n_players\")\n",
    "players = create_players(n_players)\n",
    "catalog.save(\"players\", players)"
   ]
  },
  {
   "cell_type": "code",
   "execution_count": 4,
   "metadata": {},
   "outputs": [
    {
     "data": {
      "text/html": [
       "<pre style=\"white-space:pre;overflow-x:auto;line-height:normal;font-family:Menlo,'DejaVu Sans Mono',consolas,'Courier New',monospace\"><span style=\"color: #7fbfbf; text-decoration-color: #7fbfbf\">                    </span><span style=\"color: #000080; text-decoration-color: #000080\">INFO    </span> Loading data from <span style=\"color: #ff8700; text-decoration-color: #ff8700\">players</span> <span style=\"font-weight: bold\">(</span>PickleDataset<span style=\"font-weight: bold\">)</span><span style=\"color: #808000; text-decoration-color: #808000\">...</span>                       <a href=\"file://c:\\Users\\gufer\\miniconda3\\envs\\mtg_env\\Lib\\site-packages\\kedro\\io\\data_catalog.py\" target=\"_blank\"><span style=\"color: #7f7f7f; text-decoration-color: #7f7f7f\">data_catalog.py</span></a><span style=\"color: #7f7f7f; text-decoration-color: #7f7f7f\">:</span><a href=\"file://c:\\Users\\gufer\\miniconda3\\envs\\mtg_env\\Lib\\site-packages\\kedro\\io\\data_catalog.py#539\" target=\"_blank\"><span style=\"color: #7f7f7f; text-decoration-color: #7f7f7f\">539</span></a>\n",
       "</pre>\n"
      ],
      "text/plain": [
       "\u001b[2;36m                   \u001b[0m\u001b[2;36m \u001b[0m\u001b[34mINFO    \u001b[0m Loading data from \u001b[38;5;208mplayers\u001b[0m \u001b[1m(\u001b[0mPickleDataset\u001b[1m)\u001b[0m\u001b[33m...\u001b[0m                       \u001b]8;id=513801;file://c:\\Users\\gufer\\miniconda3\\envs\\mtg_env\\Lib\\site-packages\\kedro\\io\\data_catalog.py\u001b\\\u001b[2mdata_catalog.py\u001b[0m\u001b]8;;\u001b\\\u001b[2m:\u001b[0m\u001b]8;id=372376;file://c:\\Users\\gufer\\miniconda3\\envs\\mtg_env\\Lib\\site-packages\\kedro\\io\\data_catalog.py#539\u001b\\\u001b[2m539\u001b[0m\u001b]8;;\u001b\\\n"
      ]
     },
     "metadata": {},
     "output_type": "display_data"
    },
    {
     "data": {
      "text/html": [
       "<pre style=\"white-space:pre;overflow-x:auto;line-height:normal;font-family:Menlo,'DejaVu Sans Mono',consolas,'Courier New',monospace\"><span style=\"color: #7fbfbf; text-decoration-color: #7fbfbf\">                    </span><span style=\"color: #000080; text-decoration-color: #000080\">INFO    </span> Loading data from <span style=\"color: #ff8700; text-decoration-color: #ff8700\">sampled_decks</span> <span style=\"font-weight: bold\">(</span>PickleDataset<span style=\"font-weight: bold\">)</span><span style=\"color: #808000; text-decoration-color: #808000\">...</span>                 <a href=\"file://c:\\Users\\gufer\\miniconda3\\envs\\mtg_env\\Lib\\site-packages\\kedro\\io\\data_catalog.py\" target=\"_blank\"><span style=\"color: #7f7f7f; text-decoration-color: #7f7f7f\">data_catalog.py</span></a><span style=\"color: #7f7f7f; text-decoration-color: #7f7f7f\">:</span><a href=\"file://c:\\Users\\gufer\\miniconda3\\envs\\mtg_env\\Lib\\site-packages\\kedro\\io\\data_catalog.py#539\" target=\"_blank\"><span style=\"color: #7f7f7f; text-decoration-color: #7f7f7f\">539</span></a>\n",
       "</pre>\n"
      ],
      "text/plain": [
       "\u001b[2;36m                   \u001b[0m\u001b[2;36m \u001b[0m\u001b[34mINFO    \u001b[0m Loading data from \u001b[38;5;208msampled_decks\u001b[0m \u001b[1m(\u001b[0mPickleDataset\u001b[1m)\u001b[0m\u001b[33m...\u001b[0m                 \u001b]8;id=416633;file://c:\\Users\\gufer\\miniconda3\\envs\\mtg_env\\Lib\\site-packages\\kedro\\io\\data_catalog.py\u001b\\\u001b[2mdata_catalog.py\u001b[0m\u001b]8;;\u001b\\\u001b[2m:\u001b[0m\u001b]8;id=240999;file://c:\\Users\\gufer\\miniconda3\\envs\\mtg_env\\Lib\\site-packages\\kedro\\io\\data_catalog.py#539\u001b\\\u001b[2m539\u001b[0m\u001b]8;;\u001b\\\n"
      ]
     },
     "metadata": {},
     "output_type": "display_data"
    },
    {
     "data": {
      "text/html": [
       "<pre style=\"white-space:pre;overflow-x:auto;line-height:normal;font-family:Menlo,'DejaVu Sans Mono',consolas,'Courier New',monospace\"><span style=\"color: #7fbfbf; text-decoration-color: #7fbfbf\">                    </span><span style=\"color: #000080; text-decoration-color: #000080\">INFO    </span> Loading data from <span style=\"color: #ff8700; text-decoration-color: #ff8700\">params:simulation.log_folder</span> <span style=\"font-weight: bold\">(</span>MemoryDataset<span style=\"font-weight: bold\">)</span><span style=\"color: #808000; text-decoration-color: #808000\">...</span>  <a href=\"file://c:\\Users\\gufer\\miniconda3\\envs\\mtg_env\\Lib\\site-packages\\kedro\\io\\data_catalog.py\" target=\"_blank\"><span style=\"color: #7f7f7f; text-decoration-color: #7f7f7f\">data_catalog.py</span></a><span style=\"color: #7f7f7f; text-decoration-color: #7f7f7f\">:</span><a href=\"file://c:\\Users\\gufer\\miniconda3\\envs\\mtg_env\\Lib\\site-packages\\kedro\\io\\data_catalog.py#539\" target=\"_blank\"><span style=\"color: #7f7f7f; text-decoration-color: #7f7f7f\">539</span></a>\n",
       "</pre>\n"
      ],
      "text/plain": [
       "\u001b[2;36m                   \u001b[0m\u001b[2;36m \u001b[0m\u001b[34mINFO    \u001b[0m Loading data from \u001b[38;5;208mparams:simulation.log_folder\u001b[0m \u001b[1m(\u001b[0mMemoryDataset\u001b[1m)\u001b[0m\u001b[33m...\u001b[0m  \u001b]8;id=642475;file://c:\\Users\\gufer\\miniconda3\\envs\\mtg_env\\Lib\\site-packages\\kedro\\io\\data_catalog.py\u001b\\\u001b[2mdata_catalog.py\u001b[0m\u001b]8;;\u001b\\\u001b[2m:\u001b[0m\u001b]8;id=878660;file://c:\\Users\\gufer\\miniconda3\\envs\\mtg_env\\Lib\\site-packages\\kedro\\io\\data_catalog.py#539\u001b\\\u001b[2m539\u001b[0m\u001b]8;;\u001b\\\n"
      ]
     },
     "metadata": {},
     "output_type": "display_data"
    }
   ],
   "source": [
    "import random\n",
    "import os\n",
    "from typing import List, Dict\n",
    "\n",
    "def assign_decks_to_players(\n",
    "        players: List[Player], \n",
    "        sampled_decks: Dict[str, str],\n",
    "        log_folder: str) -> List[Player]:\n",
    "    \"\"\"\n",
    "    Função para atribuir decks aleatórios a cada player na lista de players.\n",
    "\n",
    "    A função tentará atribuir um deck a cada player chamando o método assign_deck().\n",
    "    Caso ocorra algum erro na atribuição, tentará com outro deck disponível.\n",
    "\n",
    "    Args:\n",
    "        players (list): Lista de objetos Player.\n",
    "        sampled_decks (dict): Dicionário com os nomes e caminhos dos decks.\n",
    "        log_folder (str): Caminho da pasta para salvar o log.\n",
    "\n",
    "    Returns:\n",
    "        List[Player]: Lista de objetos Player com decks atribuídos.\n",
    "    \"\"\"\n",
    "    # Caminho do arquivo de log\n",
    "    log_filepath = os.path.join(log_folder, 'decks_assignment.txt')\n",
    "\n",
    "    # Cria a pasta de log se ela não existir\n",
    "    os.makedirs(log_folder, exist_ok=True)\n",
    "\n",
    "    # Configura o logger geral\n",
    "    logger = setup_logger(\"validate_decks\", log_filepath)\n",
    "    \n",
    "    # Log de início da validação\n",
    "    logger.info(\"Validating decks...\")\n",
    "\n",
    "    # Convertemos as chaves do dicionário para uma lista de nomes de decks disponíveis\n",
    "    available_decks = list(sampled_decks.keys())\n",
    "    \n",
    "    for player in players:\n",
    "        assigned = False\n",
    "        while not assigned and available_decks:\n",
    "            try:\n",
    "                # Seleciona um deck aleatório da lista de decks disponíveis\n",
    "                deck_name = random.choice(available_decks)\n",
    "\n",
    "                # Obter o caminho completo do deck a partir do dicionário sampled_decks\n",
    "                deck_path = sampled_decks[deck_name]\n",
    "\n",
    "                # Cria um novo objeto Deck\n",
    "                deck = Deck()\n",
    "\n",
    "                # Carrega o deck a partir do arquivo .txt no caminho obtido\n",
    "                deck.load_deck_from_txt(deck_path)\n",
    "\n",
    "                # Atribui o deck ao player\n",
    "                player.assign_deck(deck)\n",
    "                logger.info(f\"Deck '{deck_name}' assigned to player '{player.name}'\")\n",
    "                \n",
    "                # Remove o deck da lista de decks disponíveis para evitar reutilização\n",
    "                available_decks.remove(deck_name)\n",
    "\n",
    "                assigned = True  # Deck atribuído com sucesso\n",
    "            except Exception as e:\n",
    "                # Em caso de erro, tenta outro deck\n",
    "                logger.error(f\"Failed to assign deck '{deck_name}' to player '{player.name}': {e}\")\n",
    "                continue\n",
    "        \n",
    "        \n",
    "        # Se não houver mais decks disponíveis e não conseguir atribuir, lança um erro\n",
    "        if not assigned:\n",
    "            raise ValueError(f\"No available decks left to assign to player '{player.name}'.\")\n",
    "\n",
    "    logger.info(\"Deck assignment process completed.\")\n",
    "\n",
    "    return players\n",
    "\n",
    "players = catalog.load(\"players\")\n",
    "sampled_decks = catalog.load(\"sampled_decks\")\n",
    "log_folder = catalog.load(\"params:simulation.log_folder\")\n",
    "# players_with_decks = assign_decks_to_players(players, sampled_decks, log_folder)\n",
    "# catalog.save(\"players_with_decks\", players_with_decks)"
   ]
  },
  {
   "cell_type": "code",
   "execution_count": 5,
   "metadata": {},
   "outputs": [
    {
     "data": {
      "text/html": [
       "<pre style=\"white-space:pre;overflow-x:auto;line-height:normal;font-family:Menlo,'DejaVu Sans Mono',consolas,'Courier New',monospace\"><span style=\"color: #7fbfbf; text-decoration-color: #7fbfbf\">                    </span><span style=\"color: #000080; text-decoration-color: #000080\">INFO    </span> Loading data from <span style=\"color: #ff8700; text-decoration-color: #ff8700\">params:simulation</span> <span style=\"font-weight: bold\">(</span>MemoryDataset<span style=\"font-weight: bold\">)</span><span style=\"color: #808000; text-decoration-color: #808000\">...</span>             <a href=\"file://c:\\Users\\gufer\\miniconda3\\envs\\mtg_env\\Lib\\site-packages\\kedro\\io\\data_catalog.py\" target=\"_blank\"><span style=\"color: #7f7f7f; text-decoration-color: #7f7f7f\">data_catalog.py</span></a><span style=\"color: #7f7f7f; text-decoration-color: #7f7f7f\">:</span><a href=\"file://c:\\Users\\gufer\\miniconda3\\envs\\mtg_env\\Lib\\site-packages\\kedro\\io\\data_catalog.py#539\" target=\"_blank\"><span style=\"color: #7f7f7f; text-decoration-color: #7f7f7f\">539</span></a>\n",
       "</pre>\n"
      ],
      "text/plain": [
       "\u001b[2;36m                   \u001b[0m\u001b[2;36m \u001b[0m\u001b[34mINFO    \u001b[0m Loading data from \u001b[38;5;208mparams:simulation\u001b[0m \u001b[1m(\u001b[0mMemoryDataset\u001b[1m)\u001b[0m\u001b[33m...\u001b[0m             \u001b]8;id=253664;file://c:\\Users\\gufer\\miniconda3\\envs\\mtg_env\\Lib\\site-packages\\kedro\\io\\data_catalog.py\u001b\\\u001b[2mdata_catalog.py\u001b[0m\u001b]8;;\u001b\\\u001b[2m:\u001b[0m\u001b]8;id=482701;file://c:\\Users\\gufer\\miniconda3\\envs\\mtg_env\\Lib\\site-packages\\kedro\\io\\data_catalog.py#539\u001b\\\u001b[2m539\u001b[0m\u001b]8;;\u001b\\\n"
      ]
     },
     "metadata": {},
     "output_type": "display_data"
    },
    {
     "data": {
      "text/html": [
       "<pre style=\"white-space:pre;overflow-x:auto;line-height:normal;font-family:Menlo,'DejaVu Sans Mono',consolas,'Courier New',monospace\"><span style=\"color: #7fbfbf; text-decoration-color: #7fbfbf\">                    </span><span style=\"color: #000080; text-decoration-color: #000080\">INFO    </span> Loading data from <span style=\"color: #ff8700; text-decoration-color: #ff8700\">players_with_decks</span> <span style=\"font-weight: bold\">(</span>PickleDataset<span style=\"font-weight: bold\">)</span><span style=\"color: #808000; text-decoration-color: #808000\">...</span>            <a href=\"file://c:\\Users\\gufer\\miniconda3\\envs\\mtg_env\\Lib\\site-packages\\kedro\\io\\data_catalog.py\" target=\"_blank\"><span style=\"color: #7f7f7f; text-decoration-color: #7f7f7f\">data_catalog.py</span></a><span style=\"color: #7f7f7f; text-decoration-color: #7f7f7f\">:</span><a href=\"file://c:\\Users\\gufer\\miniconda3\\envs\\mtg_env\\Lib\\site-packages\\kedro\\io\\data_catalog.py#539\" target=\"_blank\"><span style=\"color: #7f7f7f; text-decoration-color: #7f7f7f\">539</span></a>\n",
       "</pre>\n"
      ],
      "text/plain": [
       "\u001b[2;36m                   \u001b[0m\u001b[2;36m \u001b[0m\u001b[34mINFO    \u001b[0m Loading data from \u001b[38;5;208mplayers_with_decks\u001b[0m \u001b[1m(\u001b[0mPickleDataset\u001b[1m)\u001b[0m\u001b[33m...\u001b[0m            \u001b]8;id=729915;file://c:\\Users\\gufer\\miniconda3\\envs\\mtg_env\\Lib\\site-packages\\kedro\\io\\data_catalog.py\u001b\\\u001b[2mdata_catalog.py\u001b[0m\u001b]8;;\u001b\\\u001b[2m:\u001b[0m\u001b]8;id=417659;file://c:\\Users\\gufer\\miniconda3\\envs\\mtg_env\\Lib\\site-packages\\kedro\\io\\data_catalog.py#539\u001b\\\u001b[2m539\u001b[0m\u001b]8;;\u001b\\\n"
      ]
     },
     "metadata": {},
     "output_type": "display_data"
    },
    {
     "data": {
      "text/html": [
       "<pre style=\"white-space:pre;overflow-x:auto;line-height:normal;font-family:Menlo,'DejaVu Sans Mono',consolas,'Courier New',monospace\"><span style=\"color: #7fbfbf; text-decoration-color: #7fbfbf\">                    </span><span style=\"color: #808000; text-decoration-color: #808000\">WARNING </span> Steven Guerrero couldn't play any spells.                                <a href=\"file://c:\\Users\\gufer\\OneDrive\\Documentos\\FIAP\\Fase_03\\mtg-project\\classes\\player.py\" target=\"_blank\"><span style=\"color: #7f7f7f; text-decoration-color: #7f7f7f\">player.py</span></a><span style=\"color: #7f7f7f; text-decoration-color: #7f7f7f\">:</span><a href=\"file://c:\\Users\\gufer\\OneDrive\\Documentos\\FIAP\\Fase_03\\mtg-project\\classes\\player.py#371\" target=\"_blank\"><span style=\"color: #7f7f7f; text-decoration-color: #7f7f7f\">371</span></a>\n",
       "</pre>\n"
      ],
      "text/plain": [
       "\u001b[2;36m                   \u001b[0m\u001b[2;36m \u001b[0m\u001b[33mWARNING \u001b[0m Steven Guerrero couldn't play any spells.                                \u001b]8;id=367715;file://c:\\Users\\gufer\\OneDrive\\Documentos\\FIAP\\Fase_03\\mtg-project\\classes\\player.py\u001b\\\u001b[2mplayer.py\u001b[0m\u001b]8;;\u001b\\\u001b[2m:\u001b[0m\u001b]8;id=309254;file://c:\\Users\\gufer\\OneDrive\\Documentos\\FIAP\\Fase_03\\mtg-project\\classes\\player.py#371\u001b\\\u001b[2m371\u001b[0m\u001b]8;;\u001b\\\n"
      ]
     },
     "metadata": {},
     "output_type": "display_data"
    },
    {
     "data": {
      "text/html": [
       "<pre style=\"white-space:pre;overflow-x:auto;line-height:normal;font-family:Menlo,'DejaVu Sans Mono',consolas,'Courier New',monospace\"><span style=\"color: #7fbfbf; text-decoration-color: #7fbfbf\">                    </span><span style=\"color: #808000; text-decoration-color: #808000\">WARNING </span> Steven Guerrero couldn't play any spells.                                <a href=\"file://c:\\Users\\gufer\\OneDrive\\Documentos\\FIAP\\Fase_03\\mtg-project\\classes\\player.py\" target=\"_blank\"><span style=\"color: #7f7f7f; text-decoration-color: #7f7f7f\">player.py</span></a><span style=\"color: #7f7f7f; text-decoration-color: #7f7f7f\">:</span><a href=\"file://c:\\Users\\gufer\\OneDrive\\Documentos\\FIAP\\Fase_03\\mtg-project\\classes\\player.py#371\" target=\"_blank\"><span style=\"color: #7f7f7f; text-decoration-color: #7f7f7f\">371</span></a>\n",
       "</pre>\n"
      ],
      "text/plain": [
       "\u001b[2;36m                   \u001b[0m\u001b[2;36m \u001b[0m\u001b[33mWARNING \u001b[0m Steven Guerrero couldn't play any spells.                                \u001b]8;id=557474;file://c:\\Users\\gufer\\OneDrive\\Documentos\\FIAP\\Fase_03\\mtg-project\\classes\\player.py\u001b\\\u001b[2mplayer.py\u001b[0m\u001b]8;;\u001b\\\u001b[2m:\u001b[0m\u001b]8;id=744082;file://c:\\Users\\gufer\\OneDrive\\Documentos\\FIAP\\Fase_03\\mtg-project\\classes\\player.py#371\u001b\\\u001b[2m371\u001b[0m\u001b]8;;\u001b\\\n"
      ]
     },
     "metadata": {},
     "output_type": "display_data"
    },
    {
     "data": {
      "text/html": [
       "<pre style=\"white-space:pre;overflow-x:auto;line-height:normal;font-family:Menlo,'DejaVu Sans Mono',consolas,'Courier New',monospace\"><span style=\"color: #7fbfbf; text-decoration-color: #7fbfbf\">                    </span><span style=\"color: #808000; text-decoration-color: #808000\">WARNING </span> Steven Guerrero couldn't play any spells.                                <a href=\"file://c:\\Users\\gufer\\OneDrive\\Documentos\\FIAP\\Fase_03\\mtg-project\\classes\\player.py\" target=\"_blank\"><span style=\"color: #7f7f7f; text-decoration-color: #7f7f7f\">player.py</span></a><span style=\"color: #7f7f7f; text-decoration-color: #7f7f7f\">:</span><a href=\"file://c:\\Users\\gufer\\OneDrive\\Documentos\\FIAP\\Fase_03\\mtg-project\\classes\\player.py#371\" target=\"_blank\"><span style=\"color: #7f7f7f; text-decoration-color: #7f7f7f\">371</span></a>\n",
       "</pre>\n"
      ],
      "text/plain": [
       "\u001b[2;36m                   \u001b[0m\u001b[2;36m \u001b[0m\u001b[33mWARNING \u001b[0m Steven Guerrero couldn't play any spells.                                \u001b]8;id=897137;file://c:\\Users\\gufer\\OneDrive\\Documentos\\FIAP\\Fase_03\\mtg-project\\classes\\player.py\u001b\\\u001b[2mplayer.py\u001b[0m\u001b]8;;\u001b\\\u001b[2m:\u001b[0m\u001b]8;id=321392;file://c:\\Users\\gufer\\OneDrive\\Documentos\\FIAP\\Fase_03\\mtg-project\\classes\\player.py#371\u001b\\\u001b[2m371\u001b[0m\u001b]8;;\u001b\\\n"
      ]
     },
     "metadata": {},
     "output_type": "display_data"
    },
    {
     "data": {
      "text/html": [
       "<pre style=\"white-space:pre;overflow-x:auto;line-height:normal;font-family:Menlo,'DejaVu Sans Mono',consolas,'Courier New',monospace\"><span style=\"color: #7fbfbf; text-decoration-color: #7fbfbf\">                    </span><span style=\"color: #808000; text-decoration-color: #808000\">WARNING </span> Steven Guerrero couldn't play any spells.                                <a href=\"file://c:\\Users\\gufer\\OneDrive\\Documentos\\FIAP\\Fase_03\\mtg-project\\classes\\player.py\" target=\"_blank\"><span style=\"color: #7f7f7f; text-decoration-color: #7f7f7f\">player.py</span></a><span style=\"color: #7f7f7f; text-decoration-color: #7f7f7f\">:</span><a href=\"file://c:\\Users\\gufer\\OneDrive\\Documentos\\FIAP\\Fase_03\\mtg-project\\classes\\player.py#371\" target=\"_blank\"><span style=\"color: #7f7f7f; text-decoration-color: #7f7f7f\">371</span></a>\n",
       "</pre>\n"
      ],
      "text/plain": [
       "\u001b[2;36m                   \u001b[0m\u001b[2;36m \u001b[0m\u001b[33mWARNING \u001b[0m Steven Guerrero couldn't play any spells.                                \u001b]8;id=652924;file://c:\\Users\\gufer\\OneDrive\\Documentos\\FIAP\\Fase_03\\mtg-project\\classes\\player.py\u001b\\\u001b[2mplayer.py\u001b[0m\u001b]8;;\u001b\\\u001b[2m:\u001b[0m\u001b]8;id=53633;file://c:\\Users\\gufer\\OneDrive\\Documentos\\FIAP\\Fase_03\\mtg-project\\classes\\player.py#371\u001b\\\u001b[2m371\u001b[0m\u001b]8;;\u001b\\\n"
      ]
     },
     "metadata": {},
     "output_type": "display_data"
    },
    {
     "data": {
      "text/html": [
       "<pre style=\"white-space:pre;overflow-x:auto;line-height:normal;font-family:Menlo,'DejaVu Sans Mono',consolas,'Courier New',monospace\"><span style=\"color: #7fbfbf; text-decoration-color: #7fbfbf\">                    </span><span style=\"color: #808000; text-decoration-color: #808000\">WARNING </span> Steven Guerrero couldn't play any spells.                                <a href=\"file://c:\\Users\\gufer\\OneDrive\\Documentos\\FIAP\\Fase_03\\mtg-project\\classes\\player.py\" target=\"_blank\"><span style=\"color: #7f7f7f; text-decoration-color: #7f7f7f\">player.py</span></a><span style=\"color: #7f7f7f; text-decoration-color: #7f7f7f\">:</span><a href=\"file://c:\\Users\\gufer\\OneDrive\\Documentos\\FIAP\\Fase_03\\mtg-project\\classes\\player.py#371\" target=\"_blank\"><span style=\"color: #7f7f7f; text-decoration-color: #7f7f7f\">371</span></a>\n",
       "</pre>\n"
      ],
      "text/plain": [
       "\u001b[2;36m                   \u001b[0m\u001b[2;36m \u001b[0m\u001b[33mWARNING \u001b[0m Steven Guerrero couldn't play any spells.                                \u001b]8;id=268152;file://c:\\Users\\gufer\\OneDrive\\Documentos\\FIAP\\Fase_03\\mtg-project\\classes\\player.py\u001b\\\u001b[2mplayer.py\u001b[0m\u001b]8;;\u001b\\\u001b[2m:\u001b[0m\u001b]8;id=205850;file://c:\\Users\\gufer\\OneDrive\\Documentos\\FIAP\\Fase_03\\mtg-project\\classes\\player.py#371\u001b\\\u001b[2m371\u001b[0m\u001b]8;;\u001b\\\n"
      ]
     },
     "metadata": {},
     "output_type": "display_data"
    },
    {
     "data": {
      "text/html": [
       "<pre style=\"white-space:pre;overflow-x:auto;line-height:normal;font-family:Menlo,'DejaVu Sans Mono',consolas,'Courier New',monospace\"><span style=\"color: #7fbfbf; text-decoration-color: #7fbfbf\">                    </span><span style=\"color: #808000; text-decoration-color: #808000\">WARNING </span> Steven Guerrero couldn't play any spells.                                <a href=\"file://c:\\Users\\gufer\\OneDrive\\Documentos\\FIAP\\Fase_03\\mtg-project\\classes\\player.py\" target=\"_blank\"><span style=\"color: #7f7f7f; text-decoration-color: #7f7f7f\">player.py</span></a><span style=\"color: #7f7f7f; text-decoration-color: #7f7f7f\">:</span><a href=\"file://c:\\Users\\gufer\\OneDrive\\Documentos\\FIAP\\Fase_03\\mtg-project\\classes\\player.py#371\" target=\"_blank\"><span style=\"color: #7f7f7f; text-decoration-color: #7f7f7f\">371</span></a>\n",
       "</pre>\n"
      ],
      "text/plain": [
       "\u001b[2;36m                   \u001b[0m\u001b[2;36m \u001b[0m\u001b[33mWARNING \u001b[0m Steven Guerrero couldn't play any spells.                                \u001b]8;id=334525;file://c:\\Users\\gufer\\OneDrive\\Documentos\\FIAP\\Fase_03\\mtg-project\\classes\\player.py\u001b\\\u001b[2mplayer.py\u001b[0m\u001b]8;;\u001b\\\u001b[2m:\u001b[0m\u001b]8;id=974978;file://c:\\Users\\gufer\\OneDrive\\Documentos\\FIAP\\Fase_03\\mtg-project\\classes\\player.py#371\u001b\\\u001b[2m371\u001b[0m\u001b]8;;\u001b\\\n"
      ]
     },
     "metadata": {},
     "output_type": "display_data"
    },
    {
     "data": {
      "text/html": [
       "<pre style=\"white-space:pre;overflow-x:auto;line-height:normal;font-family:Menlo,'DejaVu Sans Mono',consolas,'Courier New',monospace\"><span style=\"color: #7fbfbf; text-decoration-color: #7fbfbf\">                    </span><span style=\"color: #808000; text-decoration-color: #808000\">WARNING </span> Steven Guerrero couldn't play any spells.                                <a href=\"file://c:\\Users\\gufer\\OneDrive\\Documentos\\FIAP\\Fase_03\\mtg-project\\classes\\player.py\" target=\"_blank\"><span style=\"color: #7f7f7f; text-decoration-color: #7f7f7f\">player.py</span></a><span style=\"color: #7f7f7f; text-decoration-color: #7f7f7f\">:</span><a href=\"file://c:\\Users\\gufer\\OneDrive\\Documentos\\FIAP\\Fase_03\\mtg-project\\classes\\player.py#371\" target=\"_blank\"><span style=\"color: #7f7f7f; text-decoration-color: #7f7f7f\">371</span></a>\n",
       "</pre>\n"
      ],
      "text/plain": [
       "\u001b[2;36m                   \u001b[0m\u001b[2;36m \u001b[0m\u001b[33mWARNING \u001b[0m Steven Guerrero couldn't play any spells.                                \u001b]8;id=321481;file://c:\\Users\\gufer\\OneDrive\\Documentos\\FIAP\\Fase_03\\mtg-project\\classes\\player.py\u001b\\\u001b[2mplayer.py\u001b[0m\u001b]8;;\u001b\\\u001b[2m:\u001b[0m\u001b]8;id=729000;file://c:\\Users\\gufer\\OneDrive\\Documentos\\FIAP\\Fase_03\\mtg-project\\classes\\player.py#371\u001b\\\u001b[2m371\u001b[0m\u001b]8;;\u001b\\\n"
      ]
     },
     "metadata": {},
     "output_type": "display_data"
    },
    {
     "data": {
      "text/html": [
       "<pre style=\"white-space:pre;overflow-x:auto;line-height:normal;font-family:Menlo,'DejaVu Sans Mono',consolas,'Courier New',monospace\"><span style=\"color: #7fbfbf; text-decoration-color: #7fbfbf\">                    </span><span style=\"color: #808000; text-decoration-color: #808000\">WARNING </span> Steven Schwartz couldn't play any spells.                                <a href=\"file://c:\\Users\\gufer\\OneDrive\\Documentos\\FIAP\\Fase_03\\mtg-project\\classes\\player.py\" target=\"_blank\"><span style=\"color: #7f7f7f; text-decoration-color: #7f7f7f\">player.py</span></a><span style=\"color: #7f7f7f; text-decoration-color: #7f7f7f\">:</span><a href=\"file://c:\\Users\\gufer\\OneDrive\\Documentos\\FIAP\\Fase_03\\mtg-project\\classes\\player.py#371\" target=\"_blank\"><span style=\"color: #7f7f7f; text-decoration-color: #7f7f7f\">371</span></a>\n",
       "</pre>\n"
      ],
      "text/plain": [
       "\u001b[2;36m                   \u001b[0m\u001b[2;36m \u001b[0m\u001b[33mWARNING \u001b[0m Steven Schwartz couldn't play any spells.                                \u001b]8;id=932677;file://c:\\Users\\gufer\\OneDrive\\Documentos\\FIAP\\Fase_03\\mtg-project\\classes\\player.py\u001b\\\u001b[2mplayer.py\u001b[0m\u001b]8;;\u001b\\\u001b[2m:\u001b[0m\u001b]8;id=513526;file://c:\\Users\\gufer\\OneDrive\\Documentos\\FIAP\\Fase_03\\mtg-project\\classes\\player.py#371\u001b\\\u001b[2m371\u001b[0m\u001b]8;;\u001b\\\n"
      ]
     },
     "metadata": {},
     "output_type": "display_data"
    },
    {
     "data": {
      "text/html": [
       "<pre style=\"white-space:pre;overflow-x:auto;line-height:normal;font-family:Menlo,'DejaVu Sans Mono',consolas,'Courier New',monospace\"><span style=\"color: #7fbfbf; text-decoration-color: #7fbfbf\">                    </span><span style=\"color: #808000; text-decoration-color: #808000\">WARNING </span> Steven Schwartz couldn't play any spells.                                <a href=\"file://c:\\Users\\gufer\\OneDrive\\Documentos\\FIAP\\Fase_03\\mtg-project\\classes\\player.py\" target=\"_blank\"><span style=\"color: #7f7f7f; text-decoration-color: #7f7f7f\">player.py</span></a><span style=\"color: #7f7f7f; text-decoration-color: #7f7f7f\">:</span><a href=\"file://c:\\Users\\gufer\\OneDrive\\Documentos\\FIAP\\Fase_03\\mtg-project\\classes\\player.py#371\" target=\"_blank\"><span style=\"color: #7f7f7f; text-decoration-color: #7f7f7f\">371</span></a>\n",
       "</pre>\n"
      ],
      "text/plain": [
       "\u001b[2;36m                   \u001b[0m\u001b[2;36m \u001b[0m\u001b[33mWARNING \u001b[0m Steven Schwartz couldn't play any spells.                                \u001b]8;id=941015;file://c:\\Users\\gufer\\OneDrive\\Documentos\\FIAP\\Fase_03\\mtg-project\\classes\\player.py\u001b\\\u001b[2mplayer.py\u001b[0m\u001b]8;;\u001b\\\u001b[2m:\u001b[0m\u001b]8;id=466020;file://c:\\Users\\gufer\\OneDrive\\Documentos\\FIAP\\Fase_03\\mtg-project\\classes\\player.py#371\u001b\\\u001b[2m371\u001b[0m\u001b]8;;\u001b\\\n"
      ]
     },
     "metadata": {},
     "output_type": "display_data"
    },
    {
     "data": {
      "text/html": [
       "<pre style=\"white-space:pre;overflow-x:auto;line-height:normal;font-family:Menlo,'DejaVu Sans Mono',consolas,'Courier New',monospace\"><span style=\"color: #7fbfbf; text-decoration-color: #7fbfbf\">                    </span><span style=\"color: #808000; text-decoration-color: #808000\">WARNING </span> Steven Schwartz couldn't play any spells.                                <a href=\"file://c:\\Users\\gufer\\OneDrive\\Documentos\\FIAP\\Fase_03\\mtg-project\\classes\\player.py\" target=\"_blank\"><span style=\"color: #7f7f7f; text-decoration-color: #7f7f7f\">player.py</span></a><span style=\"color: #7f7f7f; text-decoration-color: #7f7f7f\">:</span><a href=\"file://c:\\Users\\gufer\\OneDrive\\Documentos\\FIAP\\Fase_03\\mtg-project\\classes\\player.py#371\" target=\"_blank\"><span style=\"color: #7f7f7f; text-decoration-color: #7f7f7f\">371</span></a>\n",
       "</pre>\n"
      ],
      "text/plain": [
       "\u001b[2;36m                   \u001b[0m\u001b[2;36m \u001b[0m\u001b[33mWARNING \u001b[0m Steven Schwartz couldn't play any spells.                                \u001b]8;id=814216;file://c:\\Users\\gufer\\OneDrive\\Documentos\\FIAP\\Fase_03\\mtg-project\\classes\\player.py\u001b\\\u001b[2mplayer.py\u001b[0m\u001b]8;;\u001b\\\u001b[2m:\u001b[0m\u001b]8;id=735985;file://c:\\Users\\gufer\\OneDrive\\Documentos\\FIAP\\Fase_03\\mtg-project\\classes\\player.py#371\u001b\\\u001b[2m371\u001b[0m\u001b]8;;\u001b\\\n"
      ]
     },
     "metadata": {},
     "output_type": "display_data"
    },
    {
     "data": {
      "text/html": [
       "<pre style=\"white-space:pre;overflow-x:auto;line-height:normal;font-family:Menlo,'DejaVu Sans Mono',consolas,'Courier New',monospace\"><span style=\"color: #7fbfbf; text-decoration-color: #7fbfbf\">                    </span><span style=\"color: #808000; text-decoration-color: #808000\">WARNING </span> Steven Schwartz couldn't play any spells.                                <a href=\"file://c:\\Users\\gufer\\OneDrive\\Documentos\\FIAP\\Fase_03\\mtg-project\\classes\\player.py\" target=\"_blank\"><span style=\"color: #7f7f7f; text-decoration-color: #7f7f7f\">player.py</span></a><span style=\"color: #7f7f7f; text-decoration-color: #7f7f7f\">:</span><a href=\"file://c:\\Users\\gufer\\OneDrive\\Documentos\\FIAP\\Fase_03\\mtg-project\\classes\\player.py#371\" target=\"_blank\"><span style=\"color: #7f7f7f; text-decoration-color: #7f7f7f\">371</span></a>\n",
       "</pre>\n"
      ],
      "text/plain": [
       "\u001b[2;36m                   \u001b[0m\u001b[2;36m \u001b[0m\u001b[33mWARNING \u001b[0m Steven Schwartz couldn't play any spells.                                \u001b]8;id=316876;file://c:\\Users\\gufer\\OneDrive\\Documentos\\FIAP\\Fase_03\\mtg-project\\classes\\player.py\u001b\\\u001b[2mplayer.py\u001b[0m\u001b]8;;\u001b\\\u001b[2m:\u001b[0m\u001b]8;id=796003;file://c:\\Users\\gufer\\OneDrive\\Documentos\\FIAP\\Fase_03\\mtg-project\\classes\\player.py#371\u001b\\\u001b[2m371\u001b[0m\u001b]8;;\u001b\\\n"
      ]
     },
     "metadata": {},
     "output_type": "display_data"
    },
    {
     "data": {
      "text/html": [
       "<pre style=\"white-space:pre;overflow-x:auto;line-height:normal;font-family:Menlo,'DejaVu Sans Mono',consolas,'Courier New',monospace\"><span style=\"color: #7fbfbf; text-decoration-color: #7fbfbf\">                    </span><span style=\"color: #808000; text-decoration-color: #808000\">WARNING </span> Steven Schwartz couldn't play any spells.                                <a href=\"file://c:\\Users\\gufer\\OneDrive\\Documentos\\FIAP\\Fase_03\\mtg-project\\classes\\player.py\" target=\"_blank\"><span style=\"color: #7f7f7f; text-decoration-color: #7f7f7f\">player.py</span></a><span style=\"color: #7f7f7f; text-decoration-color: #7f7f7f\">:</span><a href=\"file://c:\\Users\\gufer\\OneDrive\\Documentos\\FIAP\\Fase_03\\mtg-project\\classes\\player.py#371\" target=\"_blank\"><span style=\"color: #7f7f7f; text-decoration-color: #7f7f7f\">371</span></a>\n",
       "</pre>\n"
      ],
      "text/plain": [
       "\u001b[2;36m                   \u001b[0m\u001b[2;36m \u001b[0m\u001b[33mWARNING \u001b[0m Steven Schwartz couldn't play any spells.                                \u001b]8;id=253135;file://c:\\Users\\gufer\\OneDrive\\Documentos\\FIAP\\Fase_03\\mtg-project\\classes\\player.py\u001b\\\u001b[2mplayer.py\u001b[0m\u001b]8;;\u001b\\\u001b[2m:\u001b[0m\u001b]8;id=177877;file://c:\\Users\\gufer\\OneDrive\\Documentos\\FIAP\\Fase_03\\mtg-project\\classes\\player.py#371\u001b\\\u001b[2m371\u001b[0m\u001b]8;;\u001b\\\n"
      ]
     },
     "metadata": {},
     "output_type": "display_data"
    },
    {
     "data": {
      "text/html": [
       "<pre style=\"white-space:pre;overflow-x:auto;line-height:normal;font-family:Menlo,'DejaVu Sans Mono',consolas,'Courier New',monospace\"><span style=\"color: #7fbfbf; text-decoration-color: #7fbfbf\">                    </span><span style=\"color: #808000; text-decoration-color: #808000\">WARNING </span> Steven Schwartz couldn't play any spells.                                <a href=\"file://c:\\Users\\gufer\\OneDrive\\Documentos\\FIAP\\Fase_03\\mtg-project\\classes\\player.py\" target=\"_blank\"><span style=\"color: #7f7f7f; text-decoration-color: #7f7f7f\">player.py</span></a><span style=\"color: #7f7f7f; text-decoration-color: #7f7f7f\">:</span><a href=\"file://c:\\Users\\gufer\\OneDrive\\Documentos\\FIAP\\Fase_03\\mtg-project\\classes\\player.py#371\" target=\"_blank\"><span style=\"color: #7f7f7f; text-decoration-color: #7f7f7f\">371</span></a>\n",
       "</pre>\n"
      ],
      "text/plain": [
       "\u001b[2;36m                   \u001b[0m\u001b[2;36m \u001b[0m\u001b[33mWARNING \u001b[0m Steven Schwartz couldn't play any spells.                                \u001b]8;id=56944;file://c:\\Users\\gufer\\OneDrive\\Documentos\\FIAP\\Fase_03\\mtg-project\\classes\\player.py\u001b\\\u001b[2mplayer.py\u001b[0m\u001b]8;;\u001b\\\u001b[2m:\u001b[0m\u001b]8;id=46545;file://c:\\Users\\gufer\\OneDrive\\Documentos\\FIAP\\Fase_03\\mtg-project\\classes\\player.py#371\u001b\\\u001b[2m371\u001b[0m\u001b]8;;\u001b\\\n"
      ]
     },
     "metadata": {},
     "output_type": "display_data"
    },
    {
     "data": {
      "text/html": [
       "<pre style=\"white-space:pre;overflow-x:auto;line-height:normal;font-family:Menlo,'DejaVu Sans Mono',consolas,'Courier New',monospace\"><span style=\"color: #7fbfbf; text-decoration-color: #7fbfbf\">                    </span><span style=\"color: #808000; text-decoration-color: #808000\">WARNING </span> James Hopkins couldn't play any spells.                                  <a href=\"file://c:\\Users\\gufer\\OneDrive\\Documentos\\FIAP\\Fase_03\\mtg-project\\classes\\player.py\" target=\"_blank\"><span style=\"color: #7f7f7f; text-decoration-color: #7f7f7f\">player.py</span></a><span style=\"color: #7f7f7f; text-decoration-color: #7f7f7f\">:</span><a href=\"file://c:\\Users\\gufer\\OneDrive\\Documentos\\FIAP\\Fase_03\\mtg-project\\classes\\player.py#371\" target=\"_blank\"><span style=\"color: #7f7f7f; text-decoration-color: #7f7f7f\">371</span></a>\n",
       "</pre>\n"
      ],
      "text/plain": [
       "\u001b[2;36m                   \u001b[0m\u001b[2;36m \u001b[0m\u001b[33mWARNING \u001b[0m James Hopkins couldn't play any spells.                                  \u001b]8;id=580315;file://c:\\Users\\gufer\\OneDrive\\Documentos\\FIAP\\Fase_03\\mtg-project\\classes\\player.py\u001b\\\u001b[2mplayer.py\u001b[0m\u001b]8;;\u001b\\\u001b[2m:\u001b[0m\u001b]8;id=998558;file://c:\\Users\\gufer\\OneDrive\\Documentos\\FIAP\\Fase_03\\mtg-project\\classes\\player.py#371\u001b\\\u001b[2m371\u001b[0m\u001b]8;;\u001b\\\n"
      ]
     },
     "metadata": {},
     "output_type": "display_data"
    },
    {
     "data": {
      "text/html": [
       "<pre style=\"white-space:pre;overflow-x:auto;line-height:normal;font-family:Menlo,'DejaVu Sans Mono',consolas,'Courier New',monospace\"><span style=\"color: #7fbfbf; text-decoration-color: #7fbfbf\">                    </span><span style=\"color: #808000; text-decoration-color: #808000\">WARNING </span> James Hopkins couldn't play any spells.                                  <a href=\"file://c:\\Users\\gufer\\OneDrive\\Documentos\\FIAP\\Fase_03\\mtg-project\\classes\\player.py\" target=\"_blank\"><span style=\"color: #7f7f7f; text-decoration-color: #7f7f7f\">player.py</span></a><span style=\"color: #7f7f7f; text-decoration-color: #7f7f7f\">:</span><a href=\"file://c:\\Users\\gufer\\OneDrive\\Documentos\\FIAP\\Fase_03\\mtg-project\\classes\\player.py#371\" target=\"_blank\"><span style=\"color: #7f7f7f; text-decoration-color: #7f7f7f\">371</span></a>\n",
       "</pre>\n"
      ],
      "text/plain": [
       "\u001b[2;36m                   \u001b[0m\u001b[2;36m \u001b[0m\u001b[33mWARNING \u001b[0m James Hopkins couldn't play any spells.                                  \u001b]8;id=232969;file://c:\\Users\\gufer\\OneDrive\\Documentos\\FIAP\\Fase_03\\mtg-project\\classes\\player.py\u001b\\\u001b[2mplayer.py\u001b[0m\u001b]8;;\u001b\\\u001b[2m:\u001b[0m\u001b]8;id=725440;file://c:\\Users\\gufer\\OneDrive\\Documentos\\FIAP\\Fase_03\\mtg-project\\classes\\player.py#371\u001b\\\u001b[2m371\u001b[0m\u001b]8;;\u001b\\\n"
      ]
     },
     "metadata": {},
     "output_type": "display_data"
    },
    {
     "data": {
      "text/html": [
       "<pre style=\"white-space:pre;overflow-x:auto;line-height:normal;font-family:Menlo,'DejaVu Sans Mono',consolas,'Courier New',monospace\"><span style=\"color: #7fbfbf; text-decoration-color: #7fbfbf\">                    </span><span style=\"color: #808000; text-decoration-color: #808000\">WARNING </span> James Hopkins couldn't play any spells.                                  <a href=\"file://c:\\Users\\gufer\\OneDrive\\Documentos\\FIAP\\Fase_03\\mtg-project\\classes\\player.py\" target=\"_blank\"><span style=\"color: #7f7f7f; text-decoration-color: #7f7f7f\">player.py</span></a><span style=\"color: #7f7f7f; text-decoration-color: #7f7f7f\">:</span><a href=\"file://c:\\Users\\gufer\\OneDrive\\Documentos\\FIAP\\Fase_03\\mtg-project\\classes\\player.py#371\" target=\"_blank\"><span style=\"color: #7f7f7f; text-decoration-color: #7f7f7f\">371</span></a>\n",
       "</pre>\n"
      ],
      "text/plain": [
       "\u001b[2;36m                   \u001b[0m\u001b[2;36m \u001b[0m\u001b[33mWARNING \u001b[0m James Hopkins couldn't play any spells.                                  \u001b]8;id=628345;file://c:\\Users\\gufer\\OneDrive\\Documentos\\FIAP\\Fase_03\\mtg-project\\classes\\player.py\u001b\\\u001b[2mplayer.py\u001b[0m\u001b]8;;\u001b\\\u001b[2m:\u001b[0m\u001b]8;id=645853;file://c:\\Users\\gufer\\OneDrive\\Documentos\\FIAP\\Fase_03\\mtg-project\\classes\\player.py#371\u001b\\\u001b[2m371\u001b[0m\u001b]8;;\u001b\\\n"
      ]
     },
     "metadata": {},
     "output_type": "display_data"
    },
    {
     "data": {
      "text/html": [
       "<pre style=\"white-space:pre;overflow-x:auto;line-height:normal;font-family:Menlo,'DejaVu Sans Mono',consolas,'Courier New',monospace\"><span style=\"color: #7fbfbf; text-decoration-color: #7fbfbf\">                    </span><span style=\"color: #808000; text-decoration-color: #808000\">WARNING </span> James Hopkins couldn't play any spells.                                  <a href=\"file://c:\\Users\\gufer\\OneDrive\\Documentos\\FIAP\\Fase_03\\mtg-project\\classes\\player.py\" target=\"_blank\"><span style=\"color: #7f7f7f; text-decoration-color: #7f7f7f\">player.py</span></a><span style=\"color: #7f7f7f; text-decoration-color: #7f7f7f\">:</span><a href=\"file://c:\\Users\\gufer\\OneDrive\\Documentos\\FIAP\\Fase_03\\mtg-project\\classes\\player.py#371\" target=\"_blank\"><span style=\"color: #7f7f7f; text-decoration-color: #7f7f7f\">371</span></a>\n",
       "</pre>\n"
      ],
      "text/plain": [
       "\u001b[2;36m                   \u001b[0m\u001b[2;36m \u001b[0m\u001b[33mWARNING \u001b[0m James Hopkins couldn't play any spells.                                  \u001b]8;id=148173;file://c:\\Users\\gufer\\OneDrive\\Documentos\\FIAP\\Fase_03\\mtg-project\\classes\\player.py\u001b\\\u001b[2mplayer.py\u001b[0m\u001b]8;;\u001b\\\u001b[2m:\u001b[0m\u001b]8;id=21483;file://c:\\Users\\gufer\\OneDrive\\Documentos\\FIAP\\Fase_03\\mtg-project\\classes\\player.py#371\u001b\\\u001b[2m371\u001b[0m\u001b]8;;\u001b\\\n"
      ]
     },
     "metadata": {},
     "output_type": "display_data"
    },
    {
     "data": {
      "text/html": [
       "<pre style=\"white-space:pre;overflow-x:auto;line-height:normal;font-family:Menlo,'DejaVu Sans Mono',consolas,'Courier New',monospace\"><span style=\"color: #7fbfbf; text-decoration-color: #7fbfbf\">                    </span><span style=\"color: #808000; text-decoration-color: #808000\">WARNING </span> James Hopkins couldn't play any spells.                                  <a href=\"file://c:\\Users\\gufer\\OneDrive\\Documentos\\FIAP\\Fase_03\\mtg-project\\classes\\player.py\" target=\"_blank\"><span style=\"color: #7f7f7f; text-decoration-color: #7f7f7f\">player.py</span></a><span style=\"color: #7f7f7f; text-decoration-color: #7f7f7f\">:</span><a href=\"file://c:\\Users\\gufer\\OneDrive\\Documentos\\FIAP\\Fase_03\\mtg-project\\classes\\player.py#371\" target=\"_blank\"><span style=\"color: #7f7f7f; text-decoration-color: #7f7f7f\">371</span></a>\n",
       "</pre>\n"
      ],
      "text/plain": [
       "\u001b[2;36m                   \u001b[0m\u001b[2;36m \u001b[0m\u001b[33mWARNING \u001b[0m James Hopkins couldn't play any spells.                                  \u001b]8;id=579986;file://c:\\Users\\gufer\\OneDrive\\Documentos\\FIAP\\Fase_03\\mtg-project\\classes\\player.py\u001b\\\u001b[2mplayer.py\u001b[0m\u001b]8;;\u001b\\\u001b[2m:\u001b[0m\u001b]8;id=624451;file://c:\\Users\\gufer\\OneDrive\\Documentos\\FIAP\\Fase_03\\mtg-project\\classes\\player.py#371\u001b\\\u001b[2m371\u001b[0m\u001b]8;;\u001b\\\n"
      ]
     },
     "metadata": {},
     "output_type": "display_data"
    },
    {
     "data": {
      "text/html": [
       "<pre style=\"white-space:pre;overflow-x:auto;line-height:normal;font-family:Menlo,'DejaVu Sans Mono',consolas,'Courier New',monospace\"><span style=\"color: #7fbfbf; text-decoration-color: #7fbfbf\">                    </span><span style=\"color: #808000; text-decoration-color: #808000\">WARNING </span> James Hopkins couldn't play any spells.                                  <a href=\"file://c:\\Users\\gufer\\OneDrive\\Documentos\\FIAP\\Fase_03\\mtg-project\\classes\\player.py\" target=\"_blank\"><span style=\"color: #7f7f7f; text-decoration-color: #7f7f7f\">player.py</span></a><span style=\"color: #7f7f7f; text-decoration-color: #7f7f7f\">:</span><a href=\"file://c:\\Users\\gufer\\OneDrive\\Documentos\\FIAP\\Fase_03\\mtg-project\\classes\\player.py#371\" target=\"_blank\"><span style=\"color: #7f7f7f; text-decoration-color: #7f7f7f\">371</span></a>\n",
       "</pre>\n"
      ],
      "text/plain": [
       "\u001b[2;36m                   \u001b[0m\u001b[2;36m \u001b[0m\u001b[33mWARNING \u001b[0m James Hopkins couldn't play any spells.                                  \u001b]8;id=118756;file://c:\\Users\\gufer\\OneDrive\\Documentos\\FIAP\\Fase_03\\mtg-project\\classes\\player.py\u001b\\\u001b[2mplayer.py\u001b[0m\u001b]8;;\u001b\\\u001b[2m:\u001b[0m\u001b]8;id=443898;file://c:\\Users\\gufer\\OneDrive\\Documentos\\FIAP\\Fase_03\\mtg-project\\classes\\player.py#371\u001b\\\u001b[2m371\u001b[0m\u001b]8;;\u001b\\\n"
      ]
     },
     "metadata": {},
     "output_type": "display_data"
    },
    {
     "data": {
      "text/html": [
       "<pre style=\"white-space:pre;overflow-x:auto;line-height:normal;font-family:Menlo,'DejaVu Sans Mono',consolas,'Courier New',monospace\"><span style=\"color: #7fbfbf; text-decoration-color: #7fbfbf\">                    </span><span style=\"color: #808000; text-decoration-color: #808000\">WARNING </span> James Hopkins couldn't play any spells.                                  <a href=\"file://c:\\Users\\gufer\\OneDrive\\Documentos\\FIAP\\Fase_03\\mtg-project\\classes\\player.py\" target=\"_blank\"><span style=\"color: #7f7f7f; text-decoration-color: #7f7f7f\">player.py</span></a><span style=\"color: #7f7f7f; text-decoration-color: #7f7f7f\">:</span><a href=\"file://c:\\Users\\gufer\\OneDrive\\Documentos\\FIAP\\Fase_03\\mtg-project\\classes\\player.py#371\" target=\"_blank\"><span style=\"color: #7f7f7f; text-decoration-color: #7f7f7f\">371</span></a>\n",
       "</pre>\n"
      ],
      "text/plain": [
       "\u001b[2;36m                   \u001b[0m\u001b[2;36m \u001b[0m\u001b[33mWARNING \u001b[0m James Hopkins couldn't play any spells.                                  \u001b]8;id=250512;file://c:\\Users\\gufer\\OneDrive\\Documentos\\FIAP\\Fase_03\\mtg-project\\classes\\player.py\u001b\\\u001b[2mplayer.py\u001b[0m\u001b]8;;\u001b\\\u001b[2m:\u001b[0m\u001b]8;id=618030;file://c:\\Users\\gufer\\OneDrive\\Documentos\\FIAP\\Fase_03\\mtg-project\\classes\\player.py#371\u001b\\\u001b[2m371\u001b[0m\u001b]8;;\u001b\\\n"
      ]
     },
     "metadata": {},
     "output_type": "display_data"
    },
    {
     "data": {
      "text/html": [
       "<pre style=\"white-space:pre;overflow-x:auto;line-height:normal;font-family:Menlo,'DejaVu Sans Mono',consolas,'Courier New',monospace\"><span style=\"color: #7fbfbf; text-decoration-color: #7fbfbf\">                    </span><span style=\"color: #808000; text-decoration-color: #808000\">WARNING </span> Jessica Smith couldn't play any spells.                                  <a href=\"file://c:\\Users\\gufer\\OneDrive\\Documentos\\FIAP\\Fase_03\\mtg-project\\classes\\player.py\" target=\"_blank\"><span style=\"color: #7f7f7f; text-decoration-color: #7f7f7f\">player.py</span></a><span style=\"color: #7f7f7f; text-decoration-color: #7f7f7f\">:</span><a href=\"file://c:\\Users\\gufer\\OneDrive\\Documentos\\FIAP\\Fase_03\\mtg-project\\classes\\player.py#371\" target=\"_blank\"><span style=\"color: #7f7f7f; text-decoration-color: #7f7f7f\">371</span></a>\n",
       "</pre>\n"
      ],
      "text/plain": [
       "\u001b[2;36m                   \u001b[0m\u001b[2;36m \u001b[0m\u001b[33mWARNING \u001b[0m Jessica Smith couldn't play any spells.                                  \u001b]8;id=318366;file://c:\\Users\\gufer\\OneDrive\\Documentos\\FIAP\\Fase_03\\mtg-project\\classes\\player.py\u001b\\\u001b[2mplayer.py\u001b[0m\u001b]8;;\u001b\\\u001b[2m:\u001b[0m\u001b]8;id=423717;file://c:\\Users\\gufer\\OneDrive\\Documentos\\FIAP\\Fase_03\\mtg-project\\classes\\player.py#371\u001b\\\u001b[2m371\u001b[0m\u001b]8;;\u001b\\\n"
      ]
     },
     "metadata": {},
     "output_type": "display_data"
    },
    {
     "data": {
      "text/html": [
       "<pre style=\"white-space:pre;overflow-x:auto;line-height:normal;font-family:Menlo,'DejaVu Sans Mono',consolas,'Courier New',monospace\"><span style=\"color: #7fbfbf; text-decoration-color: #7fbfbf\">                    </span><span style=\"color: #808000; text-decoration-color: #808000\">WARNING </span> Jessica Smith couldn't play any spells.                                  <a href=\"file://c:\\Users\\gufer\\OneDrive\\Documentos\\FIAP\\Fase_03\\mtg-project\\classes\\player.py\" target=\"_blank\"><span style=\"color: #7f7f7f; text-decoration-color: #7f7f7f\">player.py</span></a><span style=\"color: #7f7f7f; text-decoration-color: #7f7f7f\">:</span><a href=\"file://c:\\Users\\gufer\\OneDrive\\Documentos\\FIAP\\Fase_03\\mtg-project\\classes\\player.py#371\" target=\"_blank\"><span style=\"color: #7f7f7f; text-decoration-color: #7f7f7f\">371</span></a>\n",
       "</pre>\n"
      ],
      "text/plain": [
       "\u001b[2;36m                   \u001b[0m\u001b[2;36m \u001b[0m\u001b[33mWARNING \u001b[0m Jessica Smith couldn't play any spells.                                  \u001b]8;id=370242;file://c:\\Users\\gufer\\OneDrive\\Documentos\\FIAP\\Fase_03\\mtg-project\\classes\\player.py\u001b\\\u001b[2mplayer.py\u001b[0m\u001b]8;;\u001b\\\u001b[2m:\u001b[0m\u001b]8;id=666679;file://c:\\Users\\gufer\\OneDrive\\Documentos\\FIAP\\Fase_03\\mtg-project\\classes\\player.py#371\u001b\\\u001b[2m371\u001b[0m\u001b]8;;\u001b\\\n"
      ]
     },
     "metadata": {},
     "output_type": "display_data"
    },
    {
     "data": {
      "text/html": [
       "<pre style=\"white-space:pre;overflow-x:auto;line-height:normal;font-family:Menlo,'DejaVu Sans Mono',consolas,'Courier New',monospace\"><span style=\"color: #7fbfbf; text-decoration-color: #7fbfbf\">                    </span><span style=\"color: #808000; text-decoration-color: #808000\">WARNING </span> Jessica Smith couldn't play any spells.                                  <a href=\"file://c:\\Users\\gufer\\OneDrive\\Documentos\\FIAP\\Fase_03\\mtg-project\\classes\\player.py\" target=\"_blank\"><span style=\"color: #7f7f7f; text-decoration-color: #7f7f7f\">player.py</span></a><span style=\"color: #7f7f7f; text-decoration-color: #7f7f7f\">:</span><a href=\"file://c:\\Users\\gufer\\OneDrive\\Documentos\\FIAP\\Fase_03\\mtg-project\\classes\\player.py#371\" target=\"_blank\"><span style=\"color: #7f7f7f; text-decoration-color: #7f7f7f\">371</span></a>\n",
       "</pre>\n"
      ],
      "text/plain": [
       "\u001b[2;36m                   \u001b[0m\u001b[2;36m \u001b[0m\u001b[33mWARNING \u001b[0m Jessica Smith couldn't play any spells.                                  \u001b]8;id=876564;file://c:\\Users\\gufer\\OneDrive\\Documentos\\FIAP\\Fase_03\\mtg-project\\classes\\player.py\u001b\\\u001b[2mplayer.py\u001b[0m\u001b]8;;\u001b\\\u001b[2m:\u001b[0m\u001b]8;id=960693;file://c:\\Users\\gufer\\OneDrive\\Documentos\\FIAP\\Fase_03\\mtg-project\\classes\\player.py#371\u001b\\\u001b[2m371\u001b[0m\u001b]8;;\u001b\\\n"
      ]
     },
     "metadata": {},
     "output_type": "display_data"
    },
    {
     "data": {
      "text/html": [
       "<pre style=\"white-space:pre;overflow-x:auto;line-height:normal;font-family:Menlo,'DejaVu Sans Mono',consolas,'Courier New',monospace\"><span style=\"color: #7fbfbf; text-decoration-color: #7fbfbf\">                    </span><span style=\"color: #808000; text-decoration-color: #808000\">WARNING </span> Jessica Smith couldn't play any spells.                                  <a href=\"file://c:\\Users\\gufer\\OneDrive\\Documentos\\FIAP\\Fase_03\\mtg-project\\classes\\player.py\" target=\"_blank\"><span style=\"color: #7f7f7f; text-decoration-color: #7f7f7f\">player.py</span></a><span style=\"color: #7f7f7f; text-decoration-color: #7f7f7f\">:</span><a href=\"file://c:\\Users\\gufer\\OneDrive\\Documentos\\FIAP\\Fase_03\\mtg-project\\classes\\player.py#371\" target=\"_blank\"><span style=\"color: #7f7f7f; text-decoration-color: #7f7f7f\">371</span></a>\n",
       "</pre>\n"
      ],
      "text/plain": [
       "\u001b[2;36m                   \u001b[0m\u001b[2;36m \u001b[0m\u001b[33mWARNING \u001b[0m Jessica Smith couldn't play any spells.                                  \u001b]8;id=451200;file://c:\\Users\\gufer\\OneDrive\\Documentos\\FIAP\\Fase_03\\mtg-project\\classes\\player.py\u001b\\\u001b[2mplayer.py\u001b[0m\u001b]8;;\u001b\\\u001b[2m:\u001b[0m\u001b]8;id=404746;file://c:\\Users\\gufer\\OneDrive\\Documentos\\FIAP\\Fase_03\\mtg-project\\classes\\player.py#371\u001b\\\u001b[2m371\u001b[0m\u001b]8;;\u001b\\\n"
      ]
     },
     "metadata": {},
     "output_type": "display_data"
    },
    {
     "data": {
      "text/html": [
       "<pre style=\"white-space:pre;overflow-x:auto;line-height:normal;font-family:Menlo,'DejaVu Sans Mono',consolas,'Courier New',monospace\"><span style=\"color: #7fbfbf; text-decoration-color: #7fbfbf\">                    </span><span style=\"color: #808000; text-decoration-color: #808000\">WARNING </span> Jessica Smith couldn't play any spells.                                  <a href=\"file://c:\\Users\\gufer\\OneDrive\\Documentos\\FIAP\\Fase_03\\mtg-project\\classes\\player.py\" target=\"_blank\"><span style=\"color: #7f7f7f; text-decoration-color: #7f7f7f\">player.py</span></a><span style=\"color: #7f7f7f; text-decoration-color: #7f7f7f\">:</span><a href=\"file://c:\\Users\\gufer\\OneDrive\\Documentos\\FIAP\\Fase_03\\mtg-project\\classes\\player.py#371\" target=\"_blank\"><span style=\"color: #7f7f7f; text-decoration-color: #7f7f7f\">371</span></a>\n",
       "</pre>\n"
      ],
      "text/plain": [
       "\u001b[2;36m                   \u001b[0m\u001b[2;36m \u001b[0m\u001b[33mWARNING \u001b[0m Jessica Smith couldn't play any spells.                                  \u001b]8;id=719880;file://c:\\Users\\gufer\\OneDrive\\Documentos\\FIAP\\Fase_03\\mtg-project\\classes\\player.py\u001b\\\u001b[2mplayer.py\u001b[0m\u001b]8;;\u001b\\\u001b[2m:\u001b[0m\u001b]8;id=156979;file://c:\\Users\\gufer\\OneDrive\\Documentos\\FIAP\\Fase_03\\mtg-project\\classes\\player.py#371\u001b\\\u001b[2m371\u001b[0m\u001b]8;;\u001b\\\n"
      ]
     },
     "metadata": {},
     "output_type": "display_data"
    },
    {
     "data": {
      "text/html": [
       "<pre style=\"white-space:pre;overflow-x:auto;line-height:normal;font-family:Menlo,'DejaVu Sans Mono',consolas,'Courier New',monospace\"><span style=\"color: #7fbfbf; text-decoration-color: #7fbfbf\">[09/15/24 19:26:45] </span><span style=\"color: #808000; text-decoration-color: #808000\">WARNING </span> Jessica Smith couldn't play any spells.                                  <a href=\"file://c:\\Users\\gufer\\OneDrive\\Documentos\\FIAP\\Fase_03\\mtg-project\\classes\\player.py\" target=\"_blank\"><span style=\"color: #7f7f7f; text-decoration-color: #7f7f7f\">player.py</span></a><span style=\"color: #7f7f7f; text-decoration-color: #7f7f7f\">:</span><a href=\"file://c:\\Users\\gufer\\OneDrive\\Documentos\\FIAP\\Fase_03\\mtg-project\\classes\\player.py#371\" target=\"_blank\"><span style=\"color: #7f7f7f; text-decoration-color: #7f7f7f\">371</span></a>\n",
       "</pre>\n"
      ],
      "text/plain": [
       "\u001b[2;36m[09/15/24 19:26:45]\u001b[0m\u001b[2;36m \u001b[0m\u001b[33mWARNING \u001b[0m Jessica Smith couldn't play any spells.                                  \u001b]8;id=221884;file://c:\\Users\\gufer\\OneDrive\\Documentos\\FIAP\\Fase_03\\mtg-project\\classes\\player.py\u001b\\\u001b[2mplayer.py\u001b[0m\u001b]8;;\u001b\\\u001b[2m:\u001b[0m\u001b]8;id=678203;file://c:\\Users\\gufer\\OneDrive\\Documentos\\FIAP\\Fase_03\\mtg-project\\classes\\player.py#371\u001b\\\u001b[2m371\u001b[0m\u001b]8;;\u001b\\\n"
      ]
     },
     "metadata": {},
     "output_type": "display_data"
    },
    {
     "data": {
      "text/html": [
       "<pre style=\"white-space:pre;overflow-x:auto;line-height:normal;font-family:Menlo,'DejaVu Sans Mono',consolas,'Courier New',monospace\"><span style=\"color: #7fbfbf; text-decoration-color: #7fbfbf\">                    </span><span style=\"color: #808000; text-decoration-color: #808000\">WARNING </span> Jessica Smith couldn't play any spells.                                  <a href=\"file://c:\\Users\\gufer\\OneDrive\\Documentos\\FIAP\\Fase_03\\mtg-project\\classes\\player.py\" target=\"_blank\"><span style=\"color: #7f7f7f; text-decoration-color: #7f7f7f\">player.py</span></a><span style=\"color: #7f7f7f; text-decoration-color: #7f7f7f\">:</span><a href=\"file://c:\\Users\\gufer\\OneDrive\\Documentos\\FIAP\\Fase_03\\mtg-project\\classes\\player.py#371\" target=\"_blank\"><span style=\"color: #7f7f7f; text-decoration-color: #7f7f7f\">371</span></a>\n",
       "</pre>\n"
      ],
      "text/plain": [
       "\u001b[2;36m                   \u001b[0m\u001b[2;36m \u001b[0m\u001b[33mWARNING \u001b[0m Jessica Smith couldn't play any spells.                                  \u001b]8;id=596898;file://c:\\Users\\gufer\\OneDrive\\Documentos\\FIAP\\Fase_03\\mtg-project\\classes\\player.py\u001b\\\u001b[2mplayer.py\u001b[0m\u001b]8;;\u001b\\\u001b[2m:\u001b[0m\u001b]8;id=591026;file://c:\\Users\\gufer\\OneDrive\\Documentos\\FIAP\\Fase_03\\mtg-project\\classes\\player.py#371\u001b\\\u001b[2m371\u001b[0m\u001b]8;;\u001b\\\n"
      ]
     },
     "metadata": {},
     "output_type": "display_data"
    },
    {
     "data": {
      "text/html": [
       "<pre style=\"white-space:pre;overflow-x:auto;line-height:normal;font-family:Menlo,'DejaVu Sans Mono',consolas,'Courier New',monospace\"><span style=\"color: #7fbfbf; text-decoration-color: #7fbfbf\">                    </span><span style=\"color: #808000; text-decoration-color: #808000\">WARNING </span> Jessica Smith couldn't play any spells.                                  <a href=\"file://c:\\Users\\gufer\\OneDrive\\Documentos\\FIAP\\Fase_03\\mtg-project\\classes\\player.py\" target=\"_blank\"><span style=\"color: #7f7f7f; text-decoration-color: #7f7f7f\">player.py</span></a><span style=\"color: #7f7f7f; text-decoration-color: #7f7f7f\">:</span><a href=\"file://c:\\Users\\gufer\\OneDrive\\Documentos\\FIAP\\Fase_03\\mtg-project\\classes\\player.py#371\" target=\"_blank\"><span style=\"color: #7f7f7f; text-decoration-color: #7f7f7f\">371</span></a>\n",
       "</pre>\n"
      ],
      "text/plain": [
       "\u001b[2;36m                   \u001b[0m\u001b[2;36m \u001b[0m\u001b[33mWARNING \u001b[0m Jessica Smith couldn't play any spells.                                  \u001b]8;id=135670;file://c:\\Users\\gufer\\OneDrive\\Documentos\\FIAP\\Fase_03\\mtg-project\\classes\\player.py\u001b\\\u001b[2mplayer.py\u001b[0m\u001b]8;;\u001b\\\u001b[2m:\u001b[0m\u001b]8;id=244129;file://c:\\Users\\gufer\\OneDrive\\Documentos\\FIAP\\Fase_03\\mtg-project\\classes\\player.py#371\u001b\\\u001b[2m371\u001b[0m\u001b]8;;\u001b\\\n"
      ]
     },
     "metadata": {},
     "output_type": "display_data"
    },
    {
     "data": {
      "text/html": [
       "<pre style=\"white-space:pre;overflow-x:auto;line-height:normal;font-family:Menlo,'DejaVu Sans Mono',consolas,'Courier New',monospace\"><span style=\"color: #7fbfbf; text-decoration-color: #7fbfbf\">                    </span><span style=\"color: #000080; text-decoration-color: #000080\">INFO    </span> Saving data to <span style=\"color: #ff8700; text-decoration-color: #ff8700\">matches_df</span> <span style=\"font-weight: bold\">(</span>ParquetDataset<span style=\"font-weight: bold\">)</span><span style=\"color: #808000; text-decoration-color: #808000\">...</span>                      <a href=\"file://c:\\Users\\gufer\\miniconda3\\envs\\mtg_env\\Lib\\site-packages\\kedro\\io\\data_catalog.py\" target=\"_blank\"><span style=\"color: #7f7f7f; text-decoration-color: #7f7f7f\">data_catalog.py</span></a><span style=\"color: #7f7f7f; text-decoration-color: #7f7f7f\">:</span><a href=\"file://c:\\Users\\gufer\\miniconda3\\envs\\mtg_env\\Lib\\site-packages\\kedro\\io\\data_catalog.py#581\" target=\"_blank\"><span style=\"color: #7f7f7f; text-decoration-color: #7f7f7f\">581</span></a>\n",
       "</pre>\n"
      ],
      "text/plain": [
       "\u001b[2;36m                   \u001b[0m\u001b[2;36m \u001b[0m\u001b[34mINFO    \u001b[0m Saving data to \u001b[38;5;208mmatches_df\u001b[0m \u001b[1m(\u001b[0mParquetDataset\u001b[1m)\u001b[0m\u001b[33m...\u001b[0m                      \u001b]8;id=772146;file://c:\\Users\\gufer\\miniconda3\\envs\\mtg_env\\Lib\\site-packages\\kedro\\io\\data_catalog.py\u001b\\\u001b[2mdata_catalog.py\u001b[0m\u001b]8;;\u001b\\\u001b[2m:\u001b[0m\u001b]8;id=558276;file://c:\\Users\\gufer\\miniconda3\\envs\\mtg_env\\Lib\\site-packages\\kedro\\io\\data_catalog.py#581\u001b\\\u001b[2m581\u001b[0m\u001b]8;;\u001b\\\n"
      ]
     },
     "metadata": {},
     "output_type": "display_data"
    }
   ],
   "source": [
    "def simulate_player_matches(params: dict, players_with_decks: list) -> pd.DataFrame:\n",
    "    \"\"\"\n",
    "    Simulates Magic: The Gathering matches for a list of players based on the provided simulation parameters.\n",
    "\n",
    "    Parameters:\n",
    "    -----------\n",
    "    params : dict\n",
    "        A dictionary containing the simulation parameters, including:\n",
    "        - 'max_mulligans': Maximum number of mulligans allowed per player.\n",
    "        - 'mulligan_prob': Probability of a player choosing to mulligan.\n",
    "        - 'hand_size_stop': Minimum hand size at which the simulation will stop.\n",
    "        - 'max_turns': Maximum number of turns per match.\n",
    "        - 'extra_land_prob': Probability of playing an extra land during a turn.\n",
    "        - 'matches_per_player': Number of matches to simulate per player.\n",
    "        - 'log_folder': Folder path for logging the simulation process.\n",
    "    \n",
    "    players_with_decks : list\n",
    "        A list of Player objects, each with an assigned deck to be used in the simulation.\n",
    "\n",
    "    Returns:\n",
    "    --------\n",
    "    pd.DataFrame\n",
    "        A DataFrame containing the match data for all players across all matches and turns, including:\n",
    "        - Player attributes at each turn.\n",
    "        - Match number for each simulation.\n",
    "    \"\"\"\n",
    "    \n",
    "    # Atribuir os parâmetros\n",
    "    max_mulligans = params[\"max_mulligans\"]\n",
    "    mulligan_prob = params[\"mulligan_prob\"]\n",
    "    hand_size_stop = params[\"hand_size_stop\"]\n",
    "    max_turns = params[\"max_turns\"]\n",
    "    extra_land_prob = params[\"extra_land_prob\"]\n",
    "    matches_per_player = params[\"matches_per_player\"]\n",
    "    log_folder = params[\"log_folder\"]\n",
    "\n",
    "    # Caminho do arquivo de log\n",
    "    log_filepath = os.path.join(log_folder, 'player_matches.txt')\n",
    "\n",
    "    # Cria a pasta de log se ela não existir\n",
    "    os.makedirs(log_folder, exist_ok=True)\n",
    "\n",
    "    # Configura o logger geral\n",
    "    logger = setup_logger(\"player_matches\", log_filepath)\n",
    "\n",
    "    # Log de início da validação\n",
    "    logger.info(\"Initiating simulations...\")\n",
    "\n",
    "    # Inicializa o tracker para armazenar os dados\n",
    "    tracker = PlayerTracker()\n",
    "\n",
    "    # Loop através dos jogadores e realizar as simulações de partidas\n",
    "    for player in players_with_decks:\n",
    "        for match in range(matches_per_player):\n",
    "            # Simular várias partidas para o jogador\n",
    "            player.play_a_match(tracker, \n",
    "                                max_mulligans, \n",
    "                                mulligan_prob, \n",
    "                                max_turns, \n",
    "                                hand_size_stop, \n",
    "                                extra_land_prob)\n",
    "\n",
    "    # Obter os dados de todas as partidas e turnos\n",
    "    matches_df = tracker.get_data()\n",
    "    \n",
    "    return matches_df\n",
    "\n",
    "# Chamada da função\n",
    "params = catalog.load(\"params:simulation\")\n",
    "players_with_decks = catalog.load(\"players_with_decks\")\n",
    "features_df = simulate_player_matches(params, players_with_decks)\n",
    "catalog.save(\"matches_df\",features_df)"
   ]
  },
  {
   "cell_type": "code",
   "execution_count": 6,
   "metadata": {},
   "outputs": [
    {
     "data": {
      "text/html": [
       "<pre style=\"white-space:pre;overflow-x:auto;line-height:normal;font-family:Menlo,'DejaVu Sans Mono',consolas,'Courier New',monospace\"></pre>\n"
      ],
      "text/plain": []
     },
     "metadata": {},
     "output_type": "display_data"
    },
    {
     "data": {
      "text/html": [
       "<div>\n",
       "<style scoped>\n",
       "    .dataframe tbody tr th:only-of-type {\n",
       "        vertical-align: middle;\n",
       "    }\n",
       "\n",
       "    .dataframe tbody tr th {\n",
       "        vertical-align: top;\n",
       "    }\n",
       "\n",
       "    .dataframe thead th {\n",
       "        text-align: right;\n",
       "    }\n",
       "</style>\n",
       "<table border=\"1\" class=\"dataframe\">\n",
       "  <thead>\n",
       "    <tr style=\"text-align: right;\">\n",
       "      <th></th>\n",
       "      <th>name</th>\n",
       "      <th>deck_name</th>\n",
       "      <th>deck_colors</th>\n",
       "      <th>match</th>\n",
       "      <th>turn</th>\n",
       "      <th>mulligan_count</th>\n",
       "      <th>lands_played</th>\n",
       "      <th>spells_played</th>\n",
       "      <th>mana_pool</th>\n",
       "      <th>spent_mana</th>\n",
       "      <th>hand_size</th>\n",
       "      <th>library_size</th>\n",
       "      <th>graveyard_size</th>\n",
       "      <th>full_hand</th>\n",
       "      <th>full_graveyard</th>\n",
       "    </tr>\n",
       "  </thead>\n",
       "  <tbody>\n",
       "    <tr>\n",
       "      <th>0</th>\n",
       "      <td>Steven Guerrero</td>\n",
       "      <td>elvish rage</td>\n",
       "      <td>{G}</td>\n",
       "      <td>1</td>\n",
       "      <td>0</td>\n",
       "      <td>0</td>\n",
       "      <td>0</td>\n",
       "      <td>0</td>\n",
       "      <td>0</td>\n",
       "      <td>0</td>\n",
       "      <td>7</td>\n",
       "      <td>53</td>\n",
       "      <td>0</td>\n",
       "      <td>Hand(7 cards: Karplusan Forest, Karplusan Fore...</td>\n",
       "      <td>Graveyard(0 cards: )</td>\n",
       "    </tr>\n",
       "    <tr>\n",
       "      <th>1</th>\n",
       "      <td>Steven Guerrero</td>\n",
       "      <td>elvish rage</td>\n",
       "      <td>{G}</td>\n",
       "      <td>1</td>\n",
       "      <td>1</td>\n",
       "      <td>0</td>\n",
       "      <td>1</td>\n",
       "      <td>1</td>\n",
       "      <td>1</td>\n",
       "      <td>1.0</td>\n",
       "      <td>6</td>\n",
       "      <td>52</td>\n",
       "      <td>1</td>\n",
       "      <td>Hand(6 cards: Karplusan Forest, Tribal Forcema...</td>\n",
       "      <td>Graveyard(1 cards: Elvish Pioneer)</td>\n",
       "    </tr>\n",
       "    <tr>\n",
       "      <th>2</th>\n",
       "      <td>Steven Guerrero</td>\n",
       "      <td>elvish rage</td>\n",
       "      <td>{G}</td>\n",
       "      <td>1</td>\n",
       "      <td>2</td>\n",
       "      <td>0</td>\n",
       "      <td>1</td>\n",
       "      <td>2</td>\n",
       "      <td>2</td>\n",
       "      <td>2.0</td>\n",
       "      <td>5</td>\n",
       "      <td>51</td>\n",
       "      <td>2</td>\n",
       "      <td>Hand(5 cards: Defiant Elf, Heedless One, Elven...</td>\n",
       "      <td>Graveyard(2 cards: Elvish Pioneer, Tribal Forc...</td>\n",
       "    </tr>\n",
       "    <tr>\n",
       "      <th>3</th>\n",
       "      <td>Steven Guerrero</td>\n",
       "      <td>elvish rage</td>\n",
       "      <td>{G}</td>\n",
       "      <td>1</td>\n",
       "      <td>3</td>\n",
       "      <td>0</td>\n",
       "      <td>1</td>\n",
       "      <td>5</td>\n",
       "      <td>3</td>\n",
       "      <td>3.0</td>\n",
       "      <td>2</td>\n",
       "      <td>50</td>\n",
       "      <td>5</td>\n",
       "      <td>Hand(2 cards: Heedless One, Elven Riders)</td>\n",
       "      <td>Graveyard(5 cards: Elvish Pioneer, Tribal Forc...</td>\n",
       "    </tr>\n",
       "    <tr>\n",
       "      <th>4</th>\n",
       "      <td>Steven Guerrero</td>\n",
       "      <td>elvish rage</td>\n",
       "      <td>{G}</td>\n",
       "      <td>1</td>\n",
       "      <td>4</td>\n",
       "      <td>0</td>\n",
       "      <td>0</td>\n",
       "      <td>6</td>\n",
       "      <td>3</td>\n",
       "      <td>3.0</td>\n",
       "      <td>2</td>\n",
       "      <td>49</td>\n",
       "      <td>6</td>\n",
       "      <td>Hand(2 cards: Heedless One, Elven Riders)</td>\n",
       "      <td>Graveyard(6 cards: Elvish Pioneer, Tribal Forc...</td>\n",
       "    </tr>\n",
       "    <tr>\n",
       "      <th>...</th>\n",
       "      <td>...</td>\n",
       "      <td>...</td>\n",
       "      <td>...</td>\n",
       "      <td>...</td>\n",
       "      <td>...</td>\n",
       "      <td>...</td>\n",
       "      <td>...</td>\n",
       "      <td>...</td>\n",
       "      <td>...</td>\n",
       "      <td>...</td>\n",
       "      <td>...</td>\n",
       "      <td>...</td>\n",
       "      <td>...</td>\n",
       "      <td>...</td>\n",
       "      <td>...</td>\n",
       "    </tr>\n",
       "    <tr>\n",
       "      <th>315</th>\n",
       "      <td>Jessica Smith</td>\n",
       "      <td>sliver evolution</td>\n",
       "      <td>{G, W, R}</td>\n",
       "      <td>10</td>\n",
       "      <td>1</td>\n",
       "      <td>0</td>\n",
       "      <td>1</td>\n",
       "      <td>0</td>\n",
       "      <td>1</td>\n",
       "      <td>0</td>\n",
       "      <td>7</td>\n",
       "      <td>52</td>\n",
       "      <td>0</td>\n",
       "      <td>Hand(7 cards: Gemstone Mine, Mountain, Karplus...</td>\n",
       "      <td>Graveyard(0 cards: )</td>\n",
       "    </tr>\n",
       "    <tr>\n",
       "      <th>316</th>\n",
       "      <td>Jessica Smith</td>\n",
       "      <td>sliver evolution</td>\n",
       "      <td>{G, W, R}</td>\n",
       "      <td>10</td>\n",
       "      <td>2</td>\n",
       "      <td>0</td>\n",
       "      <td>1</td>\n",
       "      <td>1</td>\n",
       "      <td>2</td>\n",
       "      <td>2.0</td>\n",
       "      <td>6</td>\n",
       "      <td>51</td>\n",
       "      <td>1</td>\n",
       "      <td>Hand(6 cards: Mountain, Karplusan Forest, Plai...</td>\n",
       "      <td>Graveyard(1 cards: Two-Headed Sliver)</td>\n",
       "    </tr>\n",
       "    <tr>\n",
       "      <th>317</th>\n",
       "      <td>Jessica Smith</td>\n",
       "      <td>sliver evolution</td>\n",
       "      <td>{G, W, R}</td>\n",
       "      <td>10</td>\n",
       "      <td>3</td>\n",
       "      <td>0</td>\n",
       "      <td>2</td>\n",
       "      <td>2</td>\n",
       "      <td>4</td>\n",
       "      <td>3.0</td>\n",
       "      <td>4</td>\n",
       "      <td>50</td>\n",
       "      <td>2</td>\n",
       "      <td>Hand(4 cards: Plains, Karplusan Forest, Bonesp...</td>\n",
       "      <td>Graveyard(2 cards: Two-Headed Sliver, Harmonic...</td>\n",
       "    </tr>\n",
       "    <tr>\n",
       "      <th>318</th>\n",
       "      <td>Jessica Smith</td>\n",
       "      <td>sliver evolution</td>\n",
       "      <td>{G, W, R}</td>\n",
       "      <td>10</td>\n",
       "      <td>4</td>\n",
       "      <td>0</td>\n",
       "      <td>1</td>\n",
       "      <td>4</td>\n",
       "      <td>5</td>\n",
       "      <td>5.0</td>\n",
       "      <td>2</td>\n",
       "      <td>49</td>\n",
       "      <td>4</td>\n",
       "      <td>Hand(2 cards: Karplusan Forest, Fury Sliver)</td>\n",
       "      <td>Graveyard(4 cards: Two-Headed Sliver, Harmonic...</td>\n",
       "    </tr>\n",
       "    <tr>\n",
       "      <th>319</th>\n",
       "      <td>Jessica Smith</td>\n",
       "      <td>sliver evolution</td>\n",
       "      <td>{G, W, R}</td>\n",
       "      <td>10</td>\n",
       "      <td>5</td>\n",
       "      <td>0</td>\n",
       "      <td>1</td>\n",
       "      <td>5</td>\n",
       "      <td>6</td>\n",
       "      <td>6.0</td>\n",
       "      <td>1</td>\n",
       "      <td>48</td>\n",
       "      <td>5</td>\n",
       "      <td>Hand(1 cards: Gemhide Sliver)</td>\n",
       "      <td>Graveyard(5 cards: Two-Headed Sliver, Harmonic...</td>\n",
       "    </tr>\n",
       "  </tbody>\n",
       "</table>\n",
       "<p>320 rows × 15 columns</p>\n",
       "</div>"
      ],
      "text/plain": [
       "\n",
       "                name         deck_name deck_colors match turn mulligan_count  \\\n",
       "\u001b[1;36m0\u001b[0m    Steven Guerrero       elvish rage         \u001b[1m{\u001b[0mG\u001b[1m}\u001b[0m     \u001b[1;36m1\u001b[0m    \u001b[1;36m0\u001b[0m              \u001b[1;36m0\u001b[0m   \n",
       "\u001b[1;36m1\u001b[0m    Steven Guerrero       elvish rage         \u001b[1m{\u001b[0mG\u001b[1m}\u001b[0m     \u001b[1;36m1\u001b[0m    \u001b[1;36m1\u001b[0m              \u001b[1;36m0\u001b[0m   \n",
       "\u001b[1;36m2\u001b[0m    Steven Guerrero       elvish rage         \u001b[1m{\u001b[0mG\u001b[1m}\u001b[0m     \u001b[1;36m1\u001b[0m    \u001b[1;36m2\u001b[0m              \u001b[1;36m0\u001b[0m   \n",
       "\u001b[1;36m3\u001b[0m    Steven Guerrero       elvish rage         \u001b[1m{\u001b[0mG\u001b[1m}\u001b[0m     \u001b[1;36m1\u001b[0m    \u001b[1;36m3\u001b[0m              \u001b[1;36m0\u001b[0m   \n",
       "\u001b[1;36m4\u001b[0m    Steven Guerrero       elvish rage         \u001b[1m{\u001b[0mG\u001b[1m}\u001b[0m     \u001b[1;36m1\u001b[0m    \u001b[1;36m4\u001b[0m              \u001b[1;36m0\u001b[0m   \n",
       "..               \u001b[33m...\u001b[0m               \u001b[33m...\u001b[0m         \u001b[33m...\u001b[0m   \u001b[33m...\u001b[0m  \u001b[33m...\u001b[0m            \u001b[33m...\u001b[0m   \n",
       "\u001b[1;36m315\u001b[0m    Jessica Smith  sliver evolution   \u001b[1m{\u001b[0mG, W, R\u001b[1m}\u001b[0m    \u001b[1;36m10\u001b[0m    \u001b[1;36m1\u001b[0m              \u001b[1;36m0\u001b[0m   \n",
       "\u001b[1;36m316\u001b[0m    Jessica Smith  sliver evolution   \u001b[1m{\u001b[0mG, W, R\u001b[1m}\u001b[0m    \u001b[1;36m10\u001b[0m    \u001b[1;36m2\u001b[0m              \u001b[1;36m0\u001b[0m   \n",
       "\u001b[1;36m317\u001b[0m    Jessica Smith  sliver evolution   \u001b[1m{\u001b[0mG, W, R\u001b[1m}\u001b[0m    \u001b[1;36m10\u001b[0m    \u001b[1;36m3\u001b[0m              \u001b[1;36m0\u001b[0m   \n",
       "\u001b[1;36m318\u001b[0m    Jessica Smith  sliver evolution   \u001b[1m{\u001b[0mG, W, R\u001b[1m}\u001b[0m    \u001b[1;36m10\u001b[0m    \u001b[1;36m4\u001b[0m              \u001b[1;36m0\u001b[0m   \n",
       "\u001b[1;36m319\u001b[0m    Jessica Smith  sliver evolution   \u001b[1m{\u001b[0mG, W, R\u001b[1m}\u001b[0m    \u001b[1;36m10\u001b[0m    \u001b[1;36m5\u001b[0m              \u001b[1;36m0\u001b[0m   \n",
       "\n",
       "    lands_played spells_played mana_pool spent_mana hand_size library_size  \\\n",
       "\u001b[1;36m0\u001b[0m              \u001b[1;36m0\u001b[0m             \u001b[1;36m0\u001b[0m         \u001b[1;36m0\u001b[0m          \u001b[1;36m0\u001b[0m         \u001b[1;36m7\u001b[0m           \u001b[1;36m53\u001b[0m   \n",
       "\u001b[1;36m1\u001b[0m              \u001b[1;36m1\u001b[0m             \u001b[1;36m1\u001b[0m         \u001b[1;36m1\u001b[0m        \u001b[1;36m1.0\u001b[0m         \u001b[1;36m6\u001b[0m           \u001b[1;36m52\u001b[0m   \n",
       "\u001b[1;36m2\u001b[0m              \u001b[1;36m1\u001b[0m             \u001b[1;36m2\u001b[0m         \u001b[1;36m2\u001b[0m        \u001b[1;36m2.0\u001b[0m         \u001b[1;36m5\u001b[0m           \u001b[1;36m51\u001b[0m   \n",
       "\u001b[1;36m3\u001b[0m              \u001b[1;36m1\u001b[0m             \u001b[1;36m5\u001b[0m         \u001b[1;36m3\u001b[0m        \u001b[1;36m3.0\u001b[0m         \u001b[1;36m2\u001b[0m           \u001b[1;36m50\u001b[0m   \n",
       "\u001b[1;36m4\u001b[0m              \u001b[1;36m0\u001b[0m             \u001b[1;36m6\u001b[0m         \u001b[1;36m3\u001b[0m        \u001b[1;36m3.0\u001b[0m         \u001b[1;36m2\u001b[0m           \u001b[1;36m49\u001b[0m   \n",
       "..           \u001b[33m...\u001b[0m           \u001b[33m...\u001b[0m       \u001b[33m...\u001b[0m        \u001b[33m...\u001b[0m       \u001b[33m...\u001b[0m          \u001b[33m...\u001b[0m   \n",
       "\u001b[1;36m315\u001b[0m            \u001b[1;36m1\u001b[0m             \u001b[1;36m0\u001b[0m         \u001b[1;36m1\u001b[0m          \u001b[1;36m0\u001b[0m         \u001b[1;36m7\u001b[0m           \u001b[1;36m52\u001b[0m   \n",
       "\u001b[1;36m316\u001b[0m            \u001b[1;36m1\u001b[0m             \u001b[1;36m1\u001b[0m         \u001b[1;36m2\u001b[0m        \u001b[1;36m2.0\u001b[0m         \u001b[1;36m6\u001b[0m           \u001b[1;36m51\u001b[0m   \n",
       "\u001b[1;36m317\u001b[0m            \u001b[1;36m2\u001b[0m             \u001b[1;36m2\u001b[0m         \u001b[1;36m4\u001b[0m        \u001b[1;36m3.0\u001b[0m         \u001b[1;36m4\u001b[0m           \u001b[1;36m50\u001b[0m   \n",
       "\u001b[1;36m318\u001b[0m            \u001b[1;36m1\u001b[0m             \u001b[1;36m4\u001b[0m         \u001b[1;36m5\u001b[0m        \u001b[1;36m5.0\u001b[0m         \u001b[1;36m2\u001b[0m           \u001b[1;36m49\u001b[0m   \n",
       "\u001b[1;36m319\u001b[0m            \u001b[1;36m1\u001b[0m             \u001b[1;36m5\u001b[0m         \u001b[1;36m6\u001b[0m        \u001b[1;36m6.0\u001b[0m         \u001b[1;36m1\u001b[0m           \u001b[1;36m48\u001b[0m   \n",
       "\n",
       "    graveyard_size                                          full_hand  \\\n",
       "\u001b[1;36m0\u001b[0m                \u001b[1;36m0\u001b[0m  \u001b[1;35mHand\u001b[0m\u001b[1m(\u001b[0m\u001b[1;36m7\u001b[0m cards: Karplusan Forest, Karplusan Fore\u001b[33m...\u001b[0m   \n",
       "\u001b[1;36m1\u001b[0m                \u001b[1;36m1\u001b[0m  \u001b[1;35mHand\u001b[0m\u001b[1m(\u001b[0m\u001b[1;36m6\u001b[0m cards: Karplusan Forest, Tribal Forcema\u001b[33m...\u001b[0m   \n",
       "\u001b[1;36m2\u001b[0m                \u001b[1;36m2\u001b[0m  \u001b[1;35mHand\u001b[0m\u001b[1m(\u001b[0m\u001b[1;36m5\u001b[0m cards: Defiant Elf, Heedless One, Elven\u001b[33m...\u001b[0m   \n",
       "\u001b[1;36m3\u001b[0m                \u001b[1;36m5\u001b[0m          \u001b[1;35mHand\u001b[0m\u001b[1m(\u001b[0m\u001b[1;36m2\u001b[0m cards: Heedless One, Elven Riders\u001b[1m)\u001b[0m   \n",
       "\u001b[1;36m4\u001b[0m                \u001b[1;36m6\u001b[0m          \u001b[1;35mHand\u001b[0m\u001b[1m(\u001b[0m\u001b[1;36m2\u001b[0m cards: Heedless One, Elven Riders\u001b[1m)\u001b[0m   \n",
       "..             \u001b[33m...\u001b[0m                                                \u001b[33m...\u001b[0m   \n",
       "\u001b[1;36m315\u001b[0m              \u001b[1;36m0\u001b[0m  \u001b[1;35mHand\u001b[0m\u001b[1m(\u001b[0m\u001b[1;36m7\u001b[0m cards: Gemstone Mine, Mountain, Karplus\u001b[33m...\u001b[0m   \n",
       "\u001b[1;36m316\u001b[0m              \u001b[1;36m1\u001b[0m  \u001b[1;35mHand\u001b[0m\u001b[1m(\u001b[0m\u001b[1;36m6\u001b[0m cards: Mountain, Karplusan Forest, Plai\u001b[33m...\u001b[0m   \n",
       "\u001b[1;36m317\u001b[0m              \u001b[1;36m2\u001b[0m  \u001b[1;35mHand\u001b[0m\u001b[1m(\u001b[0m\u001b[1;36m4\u001b[0m cards: Plains, Karplusan Forest, Bonesp\u001b[33m...\u001b[0m   \n",
       "\u001b[1;36m318\u001b[0m              \u001b[1;36m4\u001b[0m       \u001b[1;35mHand\u001b[0m\u001b[1m(\u001b[0m\u001b[1;36m2\u001b[0m cards: Karplusan Forest, Fury Sliver\u001b[1m)\u001b[0m   \n",
       "\u001b[1;36m319\u001b[0m              \u001b[1;36m5\u001b[0m                      \u001b[1;35mHand\u001b[0m\u001b[1m(\u001b[0m\u001b[1;36m1\u001b[0m cards: Gemhide Sliver\u001b[1m)\u001b[0m   \n",
       "\n",
       "                                        full_graveyard  \n",
       "\u001b[1;36m0\u001b[0m                                 \u001b[1;35mGraveyard\u001b[0m\u001b[1m(\u001b[0m\u001b[1;36m0\u001b[0m cards: \u001b[1m)\u001b[0m  \n",
       "\u001b[1;36m1\u001b[0m                   \u001b[1;35mGraveyard\u001b[0m\u001b[1m(\u001b[0m\u001b[1;36m1\u001b[0m cards: Elvish Pioneer\u001b[1m)\u001b[0m  \n",
       "\u001b[1;36m2\u001b[0m    \u001b[1;35mGraveyard\u001b[0m\u001b[1m(\u001b[0m\u001b[1;36m2\u001b[0m cards: Elvish Pioneer, Tribal Forc\u001b[33m...\u001b[0m  \n",
       "\u001b[1;36m3\u001b[0m    \u001b[1;35mGraveyard\u001b[0m\u001b[1m(\u001b[0m\u001b[1;36m5\u001b[0m cards: Elvish Pioneer, Tribal Forc\u001b[33m...\u001b[0m  \n",
       "\u001b[1;36m4\u001b[0m    \u001b[1;35mGraveyard\u001b[0m\u001b[1m(\u001b[0m\u001b[1;36m6\u001b[0m cards: Elvish Pioneer, Tribal Forc\u001b[33m...\u001b[0m  \n",
       "..                                                 \u001b[33m...\u001b[0m  \n",
       "\u001b[1;36m315\u001b[0m                               \u001b[1;35mGraveyard\u001b[0m\u001b[1m(\u001b[0m\u001b[1;36m0\u001b[0m cards: \u001b[1m)\u001b[0m  \n",
       "\u001b[1;36m316\u001b[0m              \u001b[1;35mGraveyard\u001b[0m\u001b[1m(\u001b[0m\u001b[1;36m1\u001b[0m cards: Two-Headed Sliver\u001b[1m)\u001b[0m  \n",
       "\u001b[1;36m317\u001b[0m  \u001b[1;35mGraveyard\u001b[0m\u001b[1m(\u001b[0m\u001b[1;36m2\u001b[0m cards: Two-Headed Sliver, Harmonic\u001b[33m...\u001b[0m  \n",
       "\u001b[1;36m318\u001b[0m  \u001b[1;35mGraveyard\u001b[0m\u001b[1m(\u001b[0m\u001b[1;36m4\u001b[0m cards: Two-Headed Sliver, Harmonic\u001b[33m...\u001b[0m  \n",
       "\u001b[1;36m319\u001b[0m  \u001b[1;35mGraveyard\u001b[0m\u001b[1m(\u001b[0m\u001b[1;36m5\u001b[0m cards: Two-Headed Sliver, Harmonic\u001b[33m...\u001b[0m  \n",
       "\n",
       "\u001b[1m[\u001b[0m\u001b[1;36m320\u001b[0m rows x \u001b[1;36m15\u001b[0m columns\u001b[1m]\u001b[0m"
      ]
     },
     "execution_count": 6,
     "metadata": {},
     "output_type": "execute_result"
    }
   ],
   "source": [
    "features_df"
   ]
  },
  {
   "cell_type": "code",
   "execution_count": 7,
   "metadata": {},
   "outputs": [
    {
     "data": {
      "text/html": [
       "<pre style=\"white-space:pre;overflow-x:auto;line-height:normal;font-family:Menlo,'DejaVu Sans Mono',consolas,'Courier New',monospace\"><span style=\"color: #7fbfbf; text-decoration-color: #7fbfbf\">                    </span><span style=\"color: #000080; text-decoration-color: #000080\">INFO    </span> Loading data from <span style=\"color: #ff8700; text-decoration-color: #ff8700\">matches_df</span> <span style=\"font-weight: bold\">(</span>ParquetDataset<span style=\"font-weight: bold\">)</span><span style=\"color: #808000; text-decoration-color: #808000\">...</span>                   <a href=\"file://c:\\Users\\gufer\\miniconda3\\envs\\mtg_env\\Lib\\site-packages\\kedro\\io\\data_catalog.py\" target=\"_blank\"><span style=\"color: #7f7f7f; text-decoration-color: #7f7f7f\">data_catalog.py</span></a><span style=\"color: #7f7f7f; text-decoration-color: #7f7f7f\">:</span><a href=\"file://c:\\Users\\gufer\\miniconda3\\envs\\mtg_env\\Lib\\site-packages\\kedro\\io\\data_catalog.py#539\" target=\"_blank\"><span style=\"color: #7f7f7f; text-decoration-color: #7f7f7f\">539</span></a>\n",
       "</pre>\n"
      ],
      "text/plain": [
       "\u001b[2;36m                   \u001b[0m\u001b[2;36m \u001b[0m\u001b[34mINFO    \u001b[0m Loading data from \u001b[38;5;208mmatches_df\u001b[0m \u001b[1m(\u001b[0mParquetDataset\u001b[1m)\u001b[0m\u001b[33m...\u001b[0m                   \u001b]8;id=574809;file://c:\\Users\\gufer\\miniconda3\\envs\\mtg_env\\Lib\\site-packages\\kedro\\io\\data_catalog.py\u001b\\\u001b[2mdata_catalog.py\u001b[0m\u001b]8;;\u001b\\\u001b[2m:\u001b[0m\u001b]8;id=156541;file://c:\\Users\\gufer\\miniconda3\\envs\\mtg_env\\Lib\\site-packages\\kedro\\io\\data_catalog.py#539\u001b\\\u001b[2m539\u001b[0m\u001b]8;;\u001b\\\n"
      ]
     },
     "metadata": {},
     "output_type": "display_data"
    },
    {
     "name": "stderr",
     "output_type": "stream",
     "text": [
      "2024-09-15 19:26:45,143 - INFO - Criando variáveis cumulativas por jogador e partida...\n",
      "2024-09-15 19:26:45,146 - INFO - Criando variáveis de razão...\n",
      "2024-09-15 19:26:45,148 - INFO - Criando variável de eficiência da curva de mana...\n",
      "2024-09-15 19:26:45,149 - INFO - Codificando cores de mana (One-Hot Encoding)...\n",
      "2024-09-15 19:26:45,162 - INFO - Engenharia de features concluída.\n"
     ]
    },
    {
     "data": {
      "text/html": [
       "<pre style=\"white-space:pre;overflow-x:auto;line-height:normal;font-family:Menlo,'DejaVu Sans Mono',consolas,'Courier New',monospace\"><span style=\"color: #7fbfbf; text-decoration-color: #7fbfbf\">                    </span><span style=\"color: #000080; text-decoration-color: #000080\">INFO    </span> Saving data to <span style=\"color: #ff8700; text-decoration-color: #ff8700\">features_df</span> <span style=\"font-weight: bold\">(</span>ParquetDataset<span style=\"font-weight: bold\">)</span><span style=\"color: #808000; text-decoration-color: #808000\">...</span>                     <a href=\"file://c:\\Users\\gufer\\miniconda3\\envs\\mtg_env\\Lib\\site-packages\\kedro\\io\\data_catalog.py\" target=\"_blank\"><span style=\"color: #7f7f7f; text-decoration-color: #7f7f7f\">data_catalog.py</span></a><span style=\"color: #7f7f7f; text-decoration-color: #7f7f7f\">:</span><a href=\"file://c:\\Users\\gufer\\miniconda3\\envs\\mtg_env\\Lib\\site-packages\\kedro\\io\\data_catalog.py#581\" target=\"_blank\"><span style=\"color: #7f7f7f; text-decoration-color: #7f7f7f\">581</span></a>\n",
       "</pre>\n"
      ],
      "text/plain": [
       "\u001b[2;36m                   \u001b[0m\u001b[2;36m \u001b[0m\u001b[34mINFO    \u001b[0m Saving data to \u001b[38;5;208mfeatures_df\u001b[0m \u001b[1m(\u001b[0mParquetDataset\u001b[1m)\u001b[0m\u001b[33m...\u001b[0m                     \u001b]8;id=626283;file://c:\\Users\\gufer\\miniconda3\\envs\\mtg_env\\Lib\\site-packages\\kedro\\io\\data_catalog.py\u001b\\\u001b[2mdata_catalog.py\u001b[0m\u001b]8;;\u001b\\\u001b[2m:\u001b[0m\u001b]8;id=388830;file://c:\\Users\\gufer\\miniconda3\\envs\\mtg_env\\Lib\\site-packages\\kedro\\io\\data_catalog.py#581\u001b\\\u001b[2m581\u001b[0m\u001b]8;;\u001b\\\n"
      ]
     },
     "metadata": {},
     "output_type": "display_data"
    },
    {
     "data": {
      "text/html": [
       "<pre style=\"white-space:pre;overflow-x:auto;line-height:normal;font-family:Menlo,'DejaVu Sans Mono',consolas,'Courier New',monospace\"></pre>\n"
      ],
      "text/plain": []
     },
     "metadata": {},
     "output_type": "display_data"
    },
    {
     "data": {
      "text/html": [
       "<div>\n",
       "<style scoped>\n",
       "    .dataframe tbody tr th:only-of-type {\n",
       "        vertical-align: middle;\n",
       "    }\n",
       "\n",
       "    .dataframe tbody tr th {\n",
       "        vertical-align: top;\n",
       "    }\n",
       "\n",
       "    .dataframe thead th {\n",
       "        text-align: right;\n",
       "    }\n",
       "</style>\n",
       "<table border=\"1\" class=\"dataframe\">\n",
       "  <thead>\n",
       "    <tr style=\"text-align: right;\">\n",
       "      <th></th>\n",
       "      <th>name</th>\n",
       "      <th>deck_name</th>\n",
       "      <th>match</th>\n",
       "      <th>turn</th>\n",
       "      <th>mulligan_count</th>\n",
       "      <th>lands_played</th>\n",
       "      <th>spells_played</th>\n",
       "      <th>mana_pool</th>\n",
       "      <th>spent_mana</th>\n",
       "      <th>hand_size</th>\n",
       "      <th>library_size</th>\n",
       "      <th>graveyard_size</th>\n",
       "      <th>full_hand</th>\n",
       "      <th>full_graveyard</th>\n",
       "      <th>cum_mana_pool</th>\n",
       "      <th>cum_spent_mana</th>\n",
       "      <th>spell_ratio</th>\n",
       "      <th>land_ratio</th>\n",
       "      <th>mana_curve_efficiency</th>\n",
       "      <th>W</th>\n",
       "      <th>U</th>\n",
       "      <th>B</th>\n",
       "      <th>R</th>\n",
       "      <th>G</th>\n",
       "      <th>n_colors</th>\n",
       "    </tr>\n",
       "  </thead>\n",
       "  <tbody>\n",
       "    <tr>\n",
       "      <th>0</th>\n",
       "      <td>Steven Guerrero</td>\n",
       "      <td>elvish rage</td>\n",
       "      <td>1</td>\n",
       "      <td>0</td>\n",
       "      <td>0</td>\n",
       "      <td>0</td>\n",
       "      <td>0</td>\n",
       "      <td>0</td>\n",
       "      <td>0</td>\n",
       "      <td>7</td>\n",
       "      <td>53</td>\n",
       "      <td>0</td>\n",
       "      <td>Hand(7 cards: Karplusan Forest, Karplusan Fore...</td>\n",
       "      <td>Graveyard(0 cards: )</td>\n",
       "      <td>0</td>\n",
       "      <td>0</td>\n",
       "      <td>0.00</td>\n",
       "      <td>0.00</td>\n",
       "      <td>0.00</td>\n",
       "      <td>0</td>\n",
       "      <td>0</td>\n",
       "      <td>0</td>\n",
       "      <td>0</td>\n",
       "      <td>1</td>\n",
       "      <td>1</td>\n",
       "    </tr>\n",
       "    <tr>\n",
       "      <th>1</th>\n",
       "      <td>Steven Guerrero</td>\n",
       "      <td>elvish rage</td>\n",
       "      <td>1</td>\n",
       "      <td>1</td>\n",
       "      <td>0</td>\n",
       "      <td>1</td>\n",
       "      <td>1</td>\n",
       "      <td>1</td>\n",
       "      <td>1</td>\n",
       "      <td>6</td>\n",
       "      <td>52</td>\n",
       "      <td>1</td>\n",
       "      <td>Hand(6 cards: Karplusan Forest, Tribal Forcema...</td>\n",
       "      <td>Graveyard(1 cards: Elvish Pioneer)</td>\n",
       "      <td>1</td>\n",
       "      <td>1</td>\n",
       "      <td>0.50</td>\n",
       "      <td>0.50</td>\n",
       "      <td>1.00</td>\n",
       "      <td>0</td>\n",
       "      <td>0</td>\n",
       "      <td>0</td>\n",
       "      <td>0</td>\n",
       "      <td>1</td>\n",
       "      <td>1</td>\n",
       "    </tr>\n",
       "    <tr>\n",
       "      <th>2</th>\n",
       "      <td>Steven Guerrero</td>\n",
       "      <td>elvish rage</td>\n",
       "      <td>1</td>\n",
       "      <td>2</td>\n",
       "      <td>0</td>\n",
       "      <td>1</td>\n",
       "      <td>2</td>\n",
       "      <td>2</td>\n",
       "      <td>2</td>\n",
       "      <td>5</td>\n",
       "      <td>51</td>\n",
       "      <td>2</td>\n",
       "      <td>Hand(5 cards: Defiant Elf, Heedless One, Elven...</td>\n",
       "      <td>Graveyard(2 cards: Elvish Pioneer, Tribal Forc...</td>\n",
       "      <td>3</td>\n",
       "      <td>3</td>\n",
       "      <td>0.67</td>\n",
       "      <td>0.33</td>\n",
       "      <td>1.00</td>\n",
       "      <td>0</td>\n",
       "      <td>0</td>\n",
       "      <td>0</td>\n",
       "      <td>0</td>\n",
       "      <td>1</td>\n",
       "      <td>1</td>\n",
       "    </tr>\n",
       "    <tr>\n",
       "      <th>3</th>\n",
       "      <td>Steven Guerrero</td>\n",
       "      <td>elvish rage</td>\n",
       "      <td>1</td>\n",
       "      <td>3</td>\n",
       "      <td>0</td>\n",
       "      <td>1</td>\n",
       "      <td>5</td>\n",
       "      <td>3</td>\n",
       "      <td>3</td>\n",
       "      <td>2</td>\n",
       "      <td>50</td>\n",
       "      <td>5</td>\n",
       "      <td>Hand(2 cards: Heedless One, Elven Riders)</td>\n",
       "      <td>Graveyard(5 cards: Elvish Pioneer, Tribal Forc...</td>\n",
       "      <td>6</td>\n",
       "      <td>6</td>\n",
       "      <td>1.25</td>\n",
       "      <td>0.25</td>\n",
       "      <td>1.00</td>\n",
       "      <td>0</td>\n",
       "      <td>0</td>\n",
       "      <td>0</td>\n",
       "      <td>0</td>\n",
       "      <td>1</td>\n",
       "      <td>1</td>\n",
       "    </tr>\n",
       "    <tr>\n",
       "      <th>4</th>\n",
       "      <td>Steven Guerrero</td>\n",
       "      <td>elvish rage</td>\n",
       "      <td>1</td>\n",
       "      <td>4</td>\n",
       "      <td>0</td>\n",
       "      <td>0</td>\n",
       "      <td>6</td>\n",
       "      <td>3</td>\n",
       "      <td>3</td>\n",
       "      <td>2</td>\n",
       "      <td>49</td>\n",
       "      <td>6</td>\n",
       "      <td>Hand(2 cards: Heedless One, Elven Riders)</td>\n",
       "      <td>Graveyard(6 cards: Elvish Pioneer, Tribal Forc...</td>\n",
       "      <td>9</td>\n",
       "      <td>9</td>\n",
       "      <td>1.20</td>\n",
       "      <td>0.00</td>\n",
       "      <td>1.00</td>\n",
       "      <td>0</td>\n",
       "      <td>0</td>\n",
       "      <td>0</td>\n",
       "      <td>0</td>\n",
       "      <td>1</td>\n",
       "      <td>1</td>\n",
       "    </tr>\n",
       "    <tr>\n",
       "      <th>...</th>\n",
       "      <td>...</td>\n",
       "      <td>...</td>\n",
       "      <td>...</td>\n",
       "      <td>...</td>\n",
       "      <td>...</td>\n",
       "      <td>...</td>\n",
       "      <td>...</td>\n",
       "      <td>...</td>\n",
       "      <td>...</td>\n",
       "      <td>...</td>\n",
       "      <td>...</td>\n",
       "      <td>...</td>\n",
       "      <td>...</td>\n",
       "      <td>...</td>\n",
       "      <td>...</td>\n",
       "      <td>...</td>\n",
       "      <td>...</td>\n",
       "      <td>...</td>\n",
       "      <td>...</td>\n",
       "      <td>...</td>\n",
       "      <td>...</td>\n",
       "      <td>...</td>\n",
       "      <td>...</td>\n",
       "      <td>...</td>\n",
       "      <td>...</td>\n",
       "    </tr>\n",
       "    <tr>\n",
       "      <th>315</th>\n",
       "      <td>Jessica Smith</td>\n",
       "      <td>sliver evolution</td>\n",
       "      <td>10</td>\n",
       "      <td>1</td>\n",
       "      <td>0</td>\n",
       "      <td>1</td>\n",
       "      <td>0</td>\n",
       "      <td>1</td>\n",
       "      <td>0</td>\n",
       "      <td>7</td>\n",
       "      <td>52</td>\n",
       "      <td>0</td>\n",
       "      <td>Hand(7 cards: Gemstone Mine, Mountain, Karplus...</td>\n",
       "      <td>Graveyard(0 cards: )</td>\n",
       "      <td>1</td>\n",
       "      <td>2</td>\n",
       "      <td>0.00</td>\n",
       "      <td>0.50</td>\n",
       "      <td>2.00</td>\n",
       "      <td>1</td>\n",
       "      <td>0</td>\n",
       "      <td>0</td>\n",
       "      <td>1</td>\n",
       "      <td>1</td>\n",
       "      <td>3</td>\n",
       "    </tr>\n",
       "    <tr>\n",
       "      <th>316</th>\n",
       "      <td>Jessica Smith</td>\n",
       "      <td>sliver evolution</td>\n",
       "      <td>10</td>\n",
       "      <td>2</td>\n",
       "      <td>0</td>\n",
       "      <td>1</td>\n",
       "      <td>1</td>\n",
       "      <td>2</td>\n",
       "      <td>2</td>\n",
       "      <td>6</td>\n",
       "      <td>51</td>\n",
       "      <td>1</td>\n",
       "      <td>Hand(6 cards: Mountain, Karplusan Forest, Plai...</td>\n",
       "      <td>Graveyard(1 cards: Two-Headed Sliver)</td>\n",
       "      <td>3</td>\n",
       "      <td>4</td>\n",
       "      <td>0.33</td>\n",
       "      <td>0.33</td>\n",
       "      <td>1.33</td>\n",
       "      <td>1</td>\n",
       "      <td>0</td>\n",
       "      <td>0</td>\n",
       "      <td>1</td>\n",
       "      <td>1</td>\n",
       "      <td>3</td>\n",
       "    </tr>\n",
       "    <tr>\n",
       "      <th>317</th>\n",
       "      <td>Jessica Smith</td>\n",
       "      <td>sliver evolution</td>\n",
       "      <td>10</td>\n",
       "      <td>3</td>\n",
       "      <td>0</td>\n",
       "      <td>2</td>\n",
       "      <td>2</td>\n",
       "      <td>4</td>\n",
       "      <td>3</td>\n",
       "      <td>4</td>\n",
       "      <td>50</td>\n",
       "      <td>2</td>\n",
       "      <td>Hand(4 cards: Plains, Karplusan Forest, Bonesp...</td>\n",
       "      <td>Graveyard(2 cards: Two-Headed Sliver, Harmonic...</td>\n",
       "      <td>7</td>\n",
       "      <td>7</td>\n",
       "      <td>0.50</td>\n",
       "      <td>0.50</td>\n",
       "      <td>1.00</td>\n",
       "      <td>1</td>\n",
       "      <td>0</td>\n",
       "      <td>0</td>\n",
       "      <td>1</td>\n",
       "      <td>1</td>\n",
       "      <td>3</td>\n",
       "    </tr>\n",
       "    <tr>\n",
       "      <th>318</th>\n",
       "      <td>Jessica Smith</td>\n",
       "      <td>sliver evolution</td>\n",
       "      <td>10</td>\n",
       "      <td>4</td>\n",
       "      <td>0</td>\n",
       "      <td>1</td>\n",
       "      <td>4</td>\n",
       "      <td>5</td>\n",
       "      <td>5</td>\n",
       "      <td>2</td>\n",
       "      <td>49</td>\n",
       "      <td>4</td>\n",
       "      <td>Hand(2 cards: Karplusan Forest, Fury Sliver)</td>\n",
       "      <td>Graveyard(4 cards: Two-Headed Sliver, Harmonic...</td>\n",
       "      <td>12</td>\n",
       "      <td>12</td>\n",
       "      <td>0.80</td>\n",
       "      <td>0.20</td>\n",
       "      <td>1.00</td>\n",
       "      <td>1</td>\n",
       "      <td>0</td>\n",
       "      <td>0</td>\n",
       "      <td>1</td>\n",
       "      <td>1</td>\n",
       "      <td>3</td>\n",
       "    </tr>\n",
       "    <tr>\n",
       "      <th>319</th>\n",
       "      <td>Jessica Smith</td>\n",
       "      <td>sliver evolution</td>\n",
       "      <td>10</td>\n",
       "      <td>5</td>\n",
       "      <td>0</td>\n",
       "      <td>1</td>\n",
       "      <td>5</td>\n",
       "      <td>6</td>\n",
       "      <td>6</td>\n",
       "      <td>1</td>\n",
       "      <td>48</td>\n",
       "      <td>5</td>\n",
       "      <td>Hand(1 cards: Gemhide Sliver)</td>\n",
       "      <td>Graveyard(5 cards: Two-Headed Sliver, Harmonic...</td>\n",
       "      <td>18</td>\n",
       "      <td>18</td>\n",
       "      <td>0.83</td>\n",
       "      <td>0.17</td>\n",
       "      <td>1.00</td>\n",
       "      <td>1</td>\n",
       "      <td>0</td>\n",
       "      <td>0</td>\n",
       "      <td>1</td>\n",
       "      <td>1</td>\n",
       "      <td>3</td>\n",
       "    </tr>\n",
       "  </tbody>\n",
       "</table>\n",
       "<p>320 rows × 25 columns</p>\n",
       "</div>"
      ],
      "text/plain": [
       "\n",
       "                name         deck_name  match  turn  mulligan_count  \\\n",
       "\u001b[1;36m0\u001b[0m    Steven Guerrero       elvish rage      \u001b[1;36m1\u001b[0m     \u001b[1;36m0\u001b[0m               \u001b[1;36m0\u001b[0m   \n",
       "\u001b[1;36m1\u001b[0m    Steven Guerrero       elvish rage      \u001b[1;36m1\u001b[0m     \u001b[1;36m1\u001b[0m               \u001b[1;36m0\u001b[0m   \n",
       "\u001b[1;36m2\u001b[0m    Steven Guerrero       elvish rage      \u001b[1;36m1\u001b[0m     \u001b[1;36m2\u001b[0m               \u001b[1;36m0\u001b[0m   \n",
       "\u001b[1;36m3\u001b[0m    Steven Guerrero       elvish rage      \u001b[1;36m1\u001b[0m     \u001b[1;36m3\u001b[0m               \u001b[1;36m0\u001b[0m   \n",
       "\u001b[1;36m4\u001b[0m    Steven Guerrero       elvish rage      \u001b[1;36m1\u001b[0m     \u001b[1;36m4\u001b[0m               \u001b[1;36m0\u001b[0m   \n",
       "..               \u001b[33m...\u001b[0m               \u001b[33m...\u001b[0m    \u001b[33m...\u001b[0m   \u001b[33m...\u001b[0m             \u001b[33m...\u001b[0m   \n",
       "\u001b[1;36m315\u001b[0m    Jessica Smith  sliver evolution     \u001b[1;36m10\u001b[0m     \u001b[1;36m1\u001b[0m               \u001b[1;36m0\u001b[0m   \n",
       "\u001b[1;36m316\u001b[0m    Jessica Smith  sliver evolution     \u001b[1;36m10\u001b[0m     \u001b[1;36m2\u001b[0m               \u001b[1;36m0\u001b[0m   \n",
       "\u001b[1;36m317\u001b[0m    Jessica Smith  sliver evolution     \u001b[1;36m10\u001b[0m     \u001b[1;36m3\u001b[0m               \u001b[1;36m0\u001b[0m   \n",
       "\u001b[1;36m318\u001b[0m    Jessica Smith  sliver evolution     \u001b[1;36m10\u001b[0m     \u001b[1;36m4\u001b[0m               \u001b[1;36m0\u001b[0m   \n",
       "\u001b[1;36m319\u001b[0m    Jessica Smith  sliver evolution     \u001b[1;36m10\u001b[0m     \u001b[1;36m5\u001b[0m               \u001b[1;36m0\u001b[0m   \n",
       "\n",
       "     lands_played  spells_played  mana_pool  spent_mana  hand_size  \\\n",
       "\u001b[1;36m0\u001b[0m               \u001b[1;36m0\u001b[0m              \u001b[1;36m0\u001b[0m          \u001b[1;36m0\u001b[0m           \u001b[1;36m0\u001b[0m          \u001b[1;36m7\u001b[0m   \n",
       "\u001b[1;36m1\u001b[0m               \u001b[1;36m1\u001b[0m              \u001b[1;36m1\u001b[0m          \u001b[1;36m1\u001b[0m           \u001b[1;36m1\u001b[0m          \u001b[1;36m6\u001b[0m   \n",
       "\u001b[1;36m2\u001b[0m               \u001b[1;36m1\u001b[0m              \u001b[1;36m2\u001b[0m          \u001b[1;36m2\u001b[0m           \u001b[1;36m2\u001b[0m          \u001b[1;36m5\u001b[0m   \n",
       "\u001b[1;36m3\u001b[0m               \u001b[1;36m1\u001b[0m              \u001b[1;36m5\u001b[0m          \u001b[1;36m3\u001b[0m           \u001b[1;36m3\u001b[0m          \u001b[1;36m2\u001b[0m   \n",
       "\u001b[1;36m4\u001b[0m               \u001b[1;36m0\u001b[0m              \u001b[1;36m6\u001b[0m          \u001b[1;36m3\u001b[0m           \u001b[1;36m3\u001b[0m          \u001b[1;36m2\u001b[0m   \n",
       "..            \u001b[33m...\u001b[0m            \u001b[33m...\u001b[0m        \u001b[33m...\u001b[0m         \u001b[33m...\u001b[0m        \u001b[33m...\u001b[0m   \n",
       "\u001b[1;36m315\u001b[0m             \u001b[1;36m1\u001b[0m              \u001b[1;36m0\u001b[0m          \u001b[1;36m1\u001b[0m           \u001b[1;36m0\u001b[0m          \u001b[1;36m7\u001b[0m   \n",
       "\u001b[1;36m316\u001b[0m             \u001b[1;36m1\u001b[0m              \u001b[1;36m1\u001b[0m          \u001b[1;36m2\u001b[0m           \u001b[1;36m2\u001b[0m          \u001b[1;36m6\u001b[0m   \n",
       "\u001b[1;36m317\u001b[0m             \u001b[1;36m2\u001b[0m              \u001b[1;36m2\u001b[0m          \u001b[1;36m4\u001b[0m           \u001b[1;36m3\u001b[0m          \u001b[1;36m4\u001b[0m   \n",
       "\u001b[1;36m318\u001b[0m             \u001b[1;36m1\u001b[0m              \u001b[1;36m4\u001b[0m          \u001b[1;36m5\u001b[0m           \u001b[1;36m5\u001b[0m          \u001b[1;36m2\u001b[0m   \n",
       "\u001b[1;36m319\u001b[0m             \u001b[1;36m1\u001b[0m              \u001b[1;36m5\u001b[0m          \u001b[1;36m6\u001b[0m           \u001b[1;36m6\u001b[0m          \u001b[1;36m1\u001b[0m   \n",
       "\n",
       "     library_size  graveyard_size  \\\n",
       "\u001b[1;36m0\u001b[0m              \u001b[1;36m53\u001b[0m               \u001b[1;36m0\u001b[0m   \n",
       "\u001b[1;36m1\u001b[0m              \u001b[1;36m52\u001b[0m               \u001b[1;36m1\u001b[0m   \n",
       "\u001b[1;36m2\u001b[0m              \u001b[1;36m51\u001b[0m               \u001b[1;36m2\u001b[0m   \n",
       "\u001b[1;36m3\u001b[0m              \u001b[1;36m50\u001b[0m               \u001b[1;36m5\u001b[0m   \n",
       "\u001b[1;36m4\u001b[0m              \u001b[1;36m49\u001b[0m               \u001b[1;36m6\u001b[0m   \n",
       "..            \u001b[33m...\u001b[0m             \u001b[33m...\u001b[0m   \n",
       "\u001b[1;36m315\u001b[0m            \u001b[1;36m52\u001b[0m               \u001b[1;36m0\u001b[0m   \n",
       "\u001b[1;36m316\u001b[0m            \u001b[1;36m51\u001b[0m               \u001b[1;36m1\u001b[0m   \n",
       "\u001b[1;36m317\u001b[0m            \u001b[1;36m50\u001b[0m               \u001b[1;36m2\u001b[0m   \n",
       "\u001b[1;36m318\u001b[0m            \u001b[1;36m49\u001b[0m               \u001b[1;36m4\u001b[0m   \n",
       "\u001b[1;36m319\u001b[0m            \u001b[1;36m48\u001b[0m               \u001b[1;36m5\u001b[0m   \n",
       "\n",
       "                                             full_hand  \\\n",
       "\u001b[1;36m0\u001b[0m    \u001b[1;35mHand\u001b[0m\u001b[1m(\u001b[0m\u001b[1;36m7\u001b[0m cards: Karplusan Forest, Karplusan Fore\u001b[33m...\u001b[0m   \n",
       "\u001b[1;36m1\u001b[0m    \u001b[1;35mHand\u001b[0m\u001b[1m(\u001b[0m\u001b[1;36m6\u001b[0m cards: Karplusan Forest, Tribal Forcema\u001b[33m...\u001b[0m   \n",
       "\u001b[1;36m2\u001b[0m    \u001b[1;35mHand\u001b[0m\u001b[1m(\u001b[0m\u001b[1;36m5\u001b[0m cards: Defiant Elf, Heedless One, Elven\u001b[33m...\u001b[0m   \n",
       "\u001b[1;36m3\u001b[0m            \u001b[1;35mHand\u001b[0m\u001b[1m(\u001b[0m\u001b[1;36m2\u001b[0m cards: Heedless One, Elven Riders\u001b[1m)\u001b[0m   \n",
       "\u001b[1;36m4\u001b[0m            \u001b[1;35mHand\u001b[0m\u001b[1m(\u001b[0m\u001b[1;36m2\u001b[0m cards: Heedless One, Elven Riders\u001b[1m)\u001b[0m   \n",
       "..                                                 \u001b[33m...\u001b[0m   \n",
       "\u001b[1;36m315\u001b[0m  \u001b[1;35mHand\u001b[0m\u001b[1m(\u001b[0m\u001b[1;36m7\u001b[0m cards: Gemstone Mine, Mountain, Karplus\u001b[33m...\u001b[0m   \n",
       "\u001b[1;36m316\u001b[0m  \u001b[1;35mHand\u001b[0m\u001b[1m(\u001b[0m\u001b[1;36m6\u001b[0m cards: Mountain, Karplusan Forest, Plai\u001b[33m...\u001b[0m   \n",
       "\u001b[1;36m317\u001b[0m  \u001b[1;35mHand\u001b[0m\u001b[1m(\u001b[0m\u001b[1;36m4\u001b[0m cards: Plains, Karplusan Forest, Bonesp\u001b[33m...\u001b[0m   \n",
       "\u001b[1;36m318\u001b[0m       \u001b[1;35mHand\u001b[0m\u001b[1m(\u001b[0m\u001b[1;36m2\u001b[0m cards: Karplusan Forest, Fury Sliver\u001b[1m)\u001b[0m   \n",
       "\u001b[1;36m319\u001b[0m                      \u001b[1;35mHand\u001b[0m\u001b[1m(\u001b[0m\u001b[1;36m1\u001b[0m cards: Gemhide Sliver\u001b[1m)\u001b[0m   \n",
       "\n",
       "                                        full_graveyard  cum_mana_pool  \\\n",
       "\u001b[1;36m0\u001b[0m                                 \u001b[1;35mGraveyard\u001b[0m\u001b[1m(\u001b[0m\u001b[1;36m0\u001b[0m cards: \u001b[1m)\u001b[0m              \u001b[1;36m0\u001b[0m   \n",
       "\u001b[1;36m1\u001b[0m                   \u001b[1;35mGraveyard\u001b[0m\u001b[1m(\u001b[0m\u001b[1;36m1\u001b[0m cards: Elvish Pioneer\u001b[1m)\u001b[0m              \u001b[1;36m1\u001b[0m   \n",
       "\u001b[1;36m2\u001b[0m    \u001b[1;35mGraveyard\u001b[0m\u001b[1m(\u001b[0m\u001b[1;36m2\u001b[0m cards: Elvish Pioneer, Tribal Forc\u001b[33m...\u001b[0m              \u001b[1;36m3\u001b[0m   \n",
       "\u001b[1;36m3\u001b[0m    \u001b[1;35mGraveyard\u001b[0m\u001b[1m(\u001b[0m\u001b[1;36m5\u001b[0m cards: Elvish Pioneer, Tribal Forc\u001b[33m...\u001b[0m              \u001b[1;36m6\u001b[0m   \n",
       "\u001b[1;36m4\u001b[0m    \u001b[1;35mGraveyard\u001b[0m\u001b[1m(\u001b[0m\u001b[1;36m6\u001b[0m cards: Elvish Pioneer, Tribal Forc\u001b[33m...\u001b[0m              \u001b[1;36m9\u001b[0m   \n",
       "..                                                 \u001b[33m...\u001b[0m            \u001b[33m...\u001b[0m   \n",
       "\u001b[1;36m315\u001b[0m                               \u001b[1;35mGraveyard\u001b[0m\u001b[1m(\u001b[0m\u001b[1;36m0\u001b[0m cards: \u001b[1m)\u001b[0m              \u001b[1;36m1\u001b[0m   \n",
       "\u001b[1;36m316\u001b[0m              \u001b[1;35mGraveyard\u001b[0m\u001b[1m(\u001b[0m\u001b[1;36m1\u001b[0m cards: Two-Headed Sliver\u001b[1m)\u001b[0m              \u001b[1;36m3\u001b[0m   \n",
       "\u001b[1;36m317\u001b[0m  \u001b[1;35mGraveyard\u001b[0m\u001b[1m(\u001b[0m\u001b[1;36m2\u001b[0m cards: Two-Headed Sliver, Harmonic\u001b[33m...\u001b[0m              \u001b[1;36m7\u001b[0m   \n",
       "\u001b[1;36m318\u001b[0m  \u001b[1;35mGraveyard\u001b[0m\u001b[1m(\u001b[0m\u001b[1;36m4\u001b[0m cards: Two-Headed Sliver, Harmonic\u001b[33m...\u001b[0m             \u001b[1;36m12\u001b[0m   \n",
       "\u001b[1;36m319\u001b[0m  \u001b[1;35mGraveyard\u001b[0m\u001b[1m(\u001b[0m\u001b[1;36m5\u001b[0m cards: Two-Headed Sliver, Harmonic\u001b[33m...\u001b[0m             \u001b[1;36m18\u001b[0m   \n",
       "\n",
       "     cum_spent_mana  spell_ratio  land_ratio  mana_curve_efficiency  W  U  B  \\\n",
       "\u001b[1;36m0\u001b[0m                 \u001b[1;36m0\u001b[0m         \u001b[1;36m0.00\u001b[0m        \u001b[1;36m0.00\u001b[0m                   \u001b[1;36m0.00\u001b[0m  \u001b[1;36m0\u001b[0m  \u001b[1;36m0\u001b[0m  \u001b[1;36m0\u001b[0m   \n",
       "\u001b[1;36m1\u001b[0m                 \u001b[1;36m1\u001b[0m         \u001b[1;36m0.50\u001b[0m        \u001b[1;36m0.50\u001b[0m                   \u001b[1;36m1.00\u001b[0m  \u001b[1;36m0\u001b[0m  \u001b[1;36m0\u001b[0m  \u001b[1;36m0\u001b[0m   \n",
       "\u001b[1;36m2\u001b[0m                 \u001b[1;36m3\u001b[0m         \u001b[1;36m0.67\u001b[0m        \u001b[1;36m0.33\u001b[0m                   \u001b[1;36m1.00\u001b[0m  \u001b[1;36m0\u001b[0m  \u001b[1;36m0\u001b[0m  \u001b[1;36m0\u001b[0m   \n",
       "\u001b[1;36m3\u001b[0m                 \u001b[1;36m6\u001b[0m         \u001b[1;36m1.25\u001b[0m        \u001b[1;36m0.25\u001b[0m                   \u001b[1;36m1.00\u001b[0m  \u001b[1;36m0\u001b[0m  \u001b[1;36m0\u001b[0m  \u001b[1;36m0\u001b[0m   \n",
       "\u001b[1;36m4\u001b[0m                 \u001b[1;36m9\u001b[0m         \u001b[1;36m1.20\u001b[0m        \u001b[1;36m0.00\u001b[0m                   \u001b[1;36m1.00\u001b[0m  \u001b[1;36m0\u001b[0m  \u001b[1;36m0\u001b[0m  \u001b[1;36m0\u001b[0m   \n",
       "..              \u001b[33m...\u001b[0m          \u001b[33m...\u001b[0m         \u001b[33m...\u001b[0m                    \u001b[33m...\u001b[0m .. .. ..   \n",
       "\u001b[1;36m315\u001b[0m               \u001b[1;36m2\u001b[0m         \u001b[1;36m0.00\u001b[0m        \u001b[1;36m0.50\u001b[0m                   \u001b[1;36m2.00\u001b[0m  \u001b[1;36m1\u001b[0m  \u001b[1;36m0\u001b[0m  \u001b[1;36m0\u001b[0m   \n",
       "\u001b[1;36m316\u001b[0m               \u001b[1;36m4\u001b[0m         \u001b[1;36m0.33\u001b[0m        \u001b[1;36m0.33\u001b[0m                   \u001b[1;36m1.33\u001b[0m  \u001b[1;36m1\u001b[0m  \u001b[1;36m0\u001b[0m  \u001b[1;36m0\u001b[0m   \n",
       "\u001b[1;36m317\u001b[0m               \u001b[1;36m7\u001b[0m         \u001b[1;36m0.50\u001b[0m        \u001b[1;36m0.50\u001b[0m                   \u001b[1;36m1.00\u001b[0m  \u001b[1;36m1\u001b[0m  \u001b[1;36m0\u001b[0m  \u001b[1;36m0\u001b[0m   \n",
       "\u001b[1;36m318\u001b[0m              \u001b[1;36m12\u001b[0m         \u001b[1;36m0.80\u001b[0m        \u001b[1;36m0.20\u001b[0m                   \u001b[1;36m1.00\u001b[0m  \u001b[1;36m1\u001b[0m  \u001b[1;36m0\u001b[0m  \u001b[1;36m0\u001b[0m   \n",
       "\u001b[1;36m319\u001b[0m              \u001b[1;36m18\u001b[0m         \u001b[1;36m0.83\u001b[0m        \u001b[1;36m0.17\u001b[0m                   \u001b[1;36m1.00\u001b[0m  \u001b[1;36m1\u001b[0m  \u001b[1;36m0\u001b[0m  \u001b[1;36m0\u001b[0m   \n",
       "\n",
       "     R  G  n_colors  \n",
       "\u001b[1;36m0\u001b[0m    \u001b[1;36m0\u001b[0m  \u001b[1;36m1\u001b[0m         \u001b[1;36m1\u001b[0m  \n",
       "\u001b[1;36m1\u001b[0m    \u001b[1;36m0\u001b[0m  \u001b[1;36m1\u001b[0m         \u001b[1;36m1\u001b[0m  \n",
       "\u001b[1;36m2\u001b[0m    \u001b[1;36m0\u001b[0m  \u001b[1;36m1\u001b[0m         \u001b[1;36m1\u001b[0m  \n",
       "\u001b[1;36m3\u001b[0m    \u001b[1;36m0\u001b[0m  \u001b[1;36m1\u001b[0m         \u001b[1;36m1\u001b[0m  \n",
       "\u001b[1;36m4\u001b[0m    \u001b[1;36m0\u001b[0m  \u001b[1;36m1\u001b[0m         \u001b[1;36m1\u001b[0m  \n",
       "..  .. ..       \u001b[33m...\u001b[0m  \n",
       "\u001b[1;36m315\u001b[0m  \u001b[1;36m1\u001b[0m  \u001b[1;36m1\u001b[0m         \u001b[1;36m3\u001b[0m  \n",
       "\u001b[1;36m316\u001b[0m  \u001b[1;36m1\u001b[0m  \u001b[1;36m1\u001b[0m         \u001b[1;36m3\u001b[0m  \n",
       "\u001b[1;36m317\u001b[0m  \u001b[1;36m1\u001b[0m  \u001b[1;36m1\u001b[0m         \u001b[1;36m3\u001b[0m  \n",
       "\u001b[1;36m318\u001b[0m  \u001b[1;36m1\u001b[0m  \u001b[1;36m1\u001b[0m         \u001b[1;36m3\u001b[0m  \n",
       "\u001b[1;36m319\u001b[0m  \u001b[1;36m1\u001b[0m  \u001b[1;36m1\u001b[0m         \u001b[1;36m3\u001b[0m  \n",
       "\n",
       "\u001b[1m[\u001b[0m\u001b[1;36m320\u001b[0m rows x \u001b[1;36m25\u001b[0m columns\u001b[1m]\u001b[0m"
      ]
     },
     "execution_count": 7,
     "metadata": {},
     "output_type": "execute_result"
    }
   ],
   "source": [
    "pd.set_option('display.max_columns', None)\n",
    "\n",
    "def feature_engineering(matches_df: pd.DataFrame) -> pd.DataFrame:\n",
    "    \"\"\"\n",
    "    Realiza engenharia de features nos dados das partidas de Magic: The Gathering.\n",
    "\n",
    "    Esta função cria variáveis cumulativas e baseadas em razões a partir dos dados das partidas, e prepara\n",
    "    o dataset para modelagem. Além disso, realiza a codificação de variáveis categóricas e trata valores\n",
    "    ausentes ou infinitos, garantindo que os dados estejam adequados para uso em modelos preditivos.\n",
    "\n",
    "    Args:\n",
    "        matches_df (pd.DataFrame): DataFrame contendo os dados das partidas, com colunas como 'mana_pool', \n",
    "        'spent_mana', 'spells_played', 'lands_played', 'turn', e 'deck_colors', entre outras.\n",
    "\n",
    "    Retorna:\n",
    "        pd.DataFrame: DataFrame com novas features calculadas, incluindo:\n",
    "        \n",
    "        - 'cum_mana_pool': Soma cumulativa do mana disponível ao longo dos turnos para cada jogador e partida.\n",
    "        - 'cum_spent_mana': Soma cumulativa do mana gasto ao longo dos turnos para cada jogador e partida.\n",
    "        - 'cum_spells_played': Soma cumulativa dos feitiços jogados ao longo dos turnos para cada jogador e partida.\n",
    "        - 'spell_ratio': Razão entre os feitiços jogados e o número de turnos (feitiços por turno).\n",
    "        - 'land_ratio': Razão entre os terrenos jogados e o número de turnos (terrenos por turno).\n",
    "        - 'mana_curve_efficiency': Eficiência da curva de mana, definida como a razão entre o mana gasto \n",
    "          cumulativo e o mana acumulado ao longo dos turnos.\n",
    "        - Colunas binárias codificadas em One-Hot para representar as cores de mana ('W', 'U', 'B', 'R', 'G').\n",
    "\n",
    "    A função também lida com erros de divisão, substituindo valores infinitos por 0, e preenche valores \n",
    "    ausentes na variável 'mana_curve_efficiency'.\n",
    "    \"\"\"\n",
    "\n",
    "    # Configura o logger geral\n",
    "    logger = setup_logger(\"feature_engineering\")\n",
    "\n",
    "    logger.info(\"Criando variáveis cumulativas por jogador e partida...\")\n",
    "\n",
    "    # Garantir que 'spent_mana' esteja no formato correto\n",
    "    matches_df[\"spent_mana\"] = matches_df[\"spent_mana\"].astype(int)\n",
    "\n",
    "    # Criação de variáveis cumulativas por 'name' e 'match'\n",
    "    matches_df['cum_mana_pool'] = matches_df.groupby(['name', 'match'])['mana_pool'].cumsum()\n",
    "    matches_df[\"cum_spent_mana\"] = matches_df.groupby(['name', 'match'])[\"spent_mana\"].cumsum()\n",
    "\n",
    "    logger.info(\"Criando variáveis de razão...\")\n",
    "\n",
    "    # Criação de variáveis baseadas em razões: feitiços por turno e terrenos por turno\n",
    "    matches_df['spell_ratio'] = (matches_df['spells_played'] / (matches_df['turn'] + 1)).round(2)\n",
    "    matches_df['land_ratio'] = (matches_df['lands_played'] / (matches_df['turn'] + 1)).round(2)\n",
    "\n",
    "    logger.info(\"Criando variável de eficiência da curva de mana...\")\n",
    "\n",
    "    # Criação da variável de eficiência da curva de mana (razão entre mana gasto e mana acumulado)\n",
    "    matches_df['mana_curve_efficiency'] = matches_df['cum_spent_mana'] / matches_df['cum_mana_pool']\n",
    "\n",
    "    # Tratamento de valores infinitos e valores ausentes\n",
    "    matches_df['mana_curve_efficiency'].replace([float('inf'), -float('inf')], 0, inplace=True)\n",
    "    matches_df['mana_curve_efficiency'].fillna(0, inplace=True)\n",
    "    matches_df['mana_curve_efficiency'] = matches_df['mana_curve_efficiency'].round(2)\n",
    "\n",
    "    # Codificação One-Hot para as cores de mana\n",
    "    all_colors = ['W', 'U', 'B', 'R', 'G']\n",
    "\n",
    "    logger.info(\"Codificando cores de mana (One-Hot Encoding)...\")\n",
    "\n",
    "    # Criar uma coluna binária para cada cor de mana\n",
    "    for color in all_colors:\n",
    "        matches_df[f'{color}'] = (matches_df['deck_colors'].apply(lambda x: 1 if color in x else 0)).astype(\"category\")\n",
    "\n",
    "    # Remover a coluna original de cores do deck\n",
    "    matches_df.drop(columns=['deck_colors'], inplace=True)\n",
    "\n",
    "    # Cria uma coluna com a quantidade de cores total do deck\n",
    "    matches_df['n_colors'] = matches_df[all_colors].sum(axis=1)\n",
    "\n",
    "    logger.info(\"Engenharia de features concluída.\")\n",
    "\n",
    "    return matches_df\n",
    "\n",
    "# Chamada da função\n",
    "features_df = catalog.load(\"matches_df\")\n",
    "features_df = feature_engineering(features_df)\n",
    "catalog.save(\"features_df\",features_df)\n",
    "features_df"
   ]
  },
  {
   "cell_type": "code",
   "execution_count": 8,
   "metadata": {},
   "outputs": [
    {
     "data": {
      "text/html": [
       "<pre style=\"white-space:pre;overflow-x:auto;line-height:normal;font-family:Menlo,'DejaVu Sans Mono',consolas,'Courier New',monospace\"><span style=\"color: #7fbfbf; text-decoration-color: #7fbfbf\">                    </span><span style=\"color: #000080; text-decoration-color: #000080\">INFO    </span> Loading data from <span style=\"color: #ff8700; text-decoration-color: #ff8700\">features_df</span> <span style=\"font-weight: bold\">(</span>ParquetDataset<span style=\"font-weight: bold\">)</span><span style=\"color: #808000; text-decoration-color: #808000\">...</span>                  <a href=\"file://c:\\Users\\gufer\\miniconda3\\envs\\mtg_env\\Lib\\site-packages\\kedro\\io\\data_catalog.py\" target=\"_blank\"><span style=\"color: #7f7f7f; text-decoration-color: #7f7f7f\">data_catalog.py</span></a><span style=\"color: #7f7f7f; text-decoration-color: #7f7f7f\">:</span><a href=\"file://c:\\Users\\gufer\\miniconda3\\envs\\mtg_env\\Lib\\site-packages\\kedro\\io\\data_catalog.py#539\" target=\"_blank\"><span style=\"color: #7f7f7f; text-decoration-color: #7f7f7f\">539</span></a>\n",
       "</pre>\n"
      ],
      "text/plain": [
       "\u001b[2;36m                   \u001b[0m\u001b[2;36m \u001b[0m\u001b[34mINFO    \u001b[0m Loading data from \u001b[38;5;208mfeatures_df\u001b[0m \u001b[1m(\u001b[0mParquetDataset\u001b[1m)\u001b[0m\u001b[33m...\u001b[0m                  \u001b]8;id=65444;file://c:\\Users\\gufer\\miniconda3\\envs\\mtg_env\\Lib\\site-packages\\kedro\\io\\data_catalog.py\u001b\\\u001b[2mdata_catalog.py\u001b[0m\u001b]8;;\u001b\\\u001b[2m:\u001b[0m\u001b]8;id=95352;file://c:\\Users\\gufer\\miniconda3\\envs\\mtg_env\\Lib\\site-packages\\kedro\\io\\data_catalog.py#539\u001b\\\u001b[2m539\u001b[0m\u001b]8;;\u001b\\\n"
      ]
     },
     "metadata": {},
     "output_type": "display_data"
    },
    {
     "data": {
      "text/html": [
       "<pre style=\"white-space:pre;overflow-x:auto;line-height:normal;font-family:Menlo,'DejaVu Sans Mono',consolas,'Courier New',monospace\"><span style=\"color: #7fbfbf; text-decoration-color: #7fbfbf\">                    </span><span style=\"color: #000080; text-decoration-color: #000080\">INFO    </span> Loading data from                                                  <a href=\"file://c:\\Users\\gufer\\miniconda3\\envs\\mtg_env\\Lib\\site-packages\\kedro\\io\\data_catalog.py\" target=\"_blank\"><span style=\"color: #7f7f7f; text-decoration-color: #7f7f7f\">data_catalog.py</span></a><span style=\"color: #7f7f7f; text-decoration-color: #7f7f7f\">:</span><a href=\"file://c:\\Users\\gufer\\miniconda3\\envs\\mtg_env\\Lib\\site-packages\\kedro\\io\\data_catalog.py#539\" target=\"_blank\"><span style=\"color: #7f7f7f; text-decoration-color: #7f7f7f\">539</span></a>\n",
       "<span style=\"color: #7fbfbf; text-decoration-color: #7fbfbf\">                    </span>         <span style=\"color: #ff8700; text-decoration-color: #ff8700\">params:modeling.feature_engineering.feat_corr_threshold</span>            <span style=\"color: #7f7f7f; text-decoration-color: #7f7f7f\">                   </span>\n",
       "<span style=\"color: #7fbfbf; text-decoration-color: #7fbfbf\">                    </span>         <span style=\"font-weight: bold\">(</span>MemoryDataset<span style=\"font-weight: bold\">)</span><span style=\"color: #808000; text-decoration-color: #808000\">...</span>                                                 <span style=\"color: #7f7f7f; text-decoration-color: #7f7f7f\">                   </span>\n",
       "</pre>\n"
      ],
      "text/plain": [
       "\u001b[2;36m                   \u001b[0m\u001b[2;36m \u001b[0m\u001b[34mINFO    \u001b[0m Loading data from                                                  \u001b]8;id=982667;file://c:\\Users\\gufer\\miniconda3\\envs\\mtg_env\\Lib\\site-packages\\kedro\\io\\data_catalog.py\u001b\\\u001b[2mdata_catalog.py\u001b[0m\u001b]8;;\u001b\\\u001b[2m:\u001b[0m\u001b]8;id=817220;file://c:\\Users\\gufer\\miniconda3\\envs\\mtg_env\\Lib\\site-packages\\kedro\\io\\data_catalog.py#539\u001b\\\u001b[2m539\u001b[0m\u001b]8;;\u001b\\\n",
       "\u001b[2;36m                    \u001b[0m         \u001b[38;5;208mparams:modeling.feature_engineering.feat_corr_threshold\u001b[0m            \u001b[2m                   \u001b[0m\n",
       "\u001b[2;36m                    \u001b[0m         \u001b[1m(\u001b[0mMemoryDataset\u001b[1m)\u001b[0m\u001b[33m...\u001b[0m                                                 \u001b[2m                   \u001b[0m\n"
      ]
     },
     "metadata": {},
     "output_type": "display_data"
    },
    {
     "name": "stderr",
     "output_type": "stream",
     "text": [
      "2024-09-15 19:26:45,229 - INFO - Iniciando o processo de seleção de features...\n",
      "2024-09-15 19:26:45,230 - INFO - Número inicial de features numéricas: 21\n",
      "2024-09-15 19:26:45,231 - INFO - Features derivadas do target removidas: ['cum_spent_mana', 'cum_mana_pool', 'spent_mana', 'mana_pool']\n",
      "2024-09-15 19:26:45,232 - INFO - Colunas-chave removidas: ['name', 'deck_name', 'match', 'turn']\n",
      "2024-09-15 19:26:45,235 - INFO - Número de features após a remoção de correlação maior que 0.9: 11\n",
      "2024-09-15 19:26:45,236 - INFO - Processo de seleção de features concluído.\n"
     ]
    },
    {
     "data": {
      "text/html": [
       "<pre style=\"white-space:pre;overflow-x:auto;line-height:normal;font-family:Menlo,'DejaVu Sans Mono',consolas,'Courier New',monospace\"><span style=\"color: #7fbfbf; text-decoration-color: #7fbfbf\">                    </span><span style=\"color: #000080; text-decoration-color: #000080\">INFO    </span> Saving data to <span style=\"color: #ff8700; text-decoration-color: #ff8700\">selected_features_df</span> <span style=\"font-weight: bold\">(</span>ParquetDataset<span style=\"font-weight: bold\">)</span><span style=\"color: #808000; text-decoration-color: #808000\">...</span>            <a href=\"file://c:\\Users\\gufer\\miniconda3\\envs\\mtg_env\\Lib\\site-packages\\kedro\\io\\data_catalog.py\" target=\"_blank\"><span style=\"color: #7f7f7f; text-decoration-color: #7f7f7f\">data_catalog.py</span></a><span style=\"color: #7f7f7f; text-decoration-color: #7f7f7f\">:</span><a href=\"file://c:\\Users\\gufer\\miniconda3\\envs\\mtg_env\\Lib\\site-packages\\kedro\\io\\data_catalog.py#581\" target=\"_blank\"><span style=\"color: #7f7f7f; text-decoration-color: #7f7f7f\">581</span></a>\n",
       "</pre>\n"
      ],
      "text/plain": [
       "\u001b[2;36m                   \u001b[0m\u001b[2;36m \u001b[0m\u001b[34mINFO    \u001b[0m Saving data to \u001b[38;5;208mselected_features_df\u001b[0m \u001b[1m(\u001b[0mParquetDataset\u001b[1m)\u001b[0m\u001b[33m...\u001b[0m            \u001b]8;id=992744;file://c:\\Users\\gufer\\miniconda3\\envs\\mtg_env\\Lib\\site-packages\\kedro\\io\\data_catalog.py\u001b\\\u001b[2mdata_catalog.py\u001b[0m\u001b]8;;\u001b\\\u001b[2m:\u001b[0m\u001b]8;id=692074;file://c:\\Users\\gufer\\miniconda3\\envs\\mtg_env\\Lib\\site-packages\\kedro\\io\\data_catalog.py#581\u001b\\\u001b[2m581\u001b[0m\u001b]8;;\u001b\\\n"
      ]
     },
     "metadata": {},
     "output_type": "display_data"
    }
   ],
   "source": [
    "def feature_selection(\n",
    "        features_df: pd.DataFrame,\n",
    "        target: str,\n",
    "        threshold_features: float,\n",
    "        derived_features: list = None,\n",
    "        key_columns: list = None) -> pd.DataFrame:\n",
    "    \"\"\"\n",
    "    Auxilia na seleção de features, removendo aquelas derivadas do target, \n",
    "    colunas-chave, e features altamente correlacionadas entre si.\n",
    "\n",
    "    Args:\n",
    "        features_df (pd.DataFrame): DataFrame contendo as features.\n",
    "        target (str): Nome da variável alvo.\n",
    "        threshold_features (float): Limiar para remover features com alta correlação.\n",
    "        derived_features (list, optional): Lista de features derivadas do target para serem removidas.\n",
    "        key_columns (list, optional): Lista de colunas-chave para serem removidas (ex: 'match', 'turn').\n",
    "\n",
    "    Returns:\n",
    "        pd.DataFrame: DataFrame com as features selecionadas.\n",
    "    \"\"\"\n",
    "    # Configura o logger geral\n",
    "    logger = setup_logger(\"feature_selection\")\n",
    "    logger.info(\"Iniciando o processo de seleção de features...\")\n",
    "\n",
    "    # Separar apenas colunas numéricas para o cálculo da correlação\n",
    "    numeric_features_df = features_df.select_dtypes(include=[np.number])\n",
    "\n",
    "    logger.info(f\"Número inicial de features numéricas: {numeric_features_df.shape[1]}\")\n",
    "\n",
    "    # Remover features derivadas do target, se fornecidas\n",
    "    if derived_features:\n",
    "        numeric_features_df = numeric_features_df.drop(columns=derived_features, errors='ignore')\n",
    "        logger.info(f\"Features derivadas do target removidas: {derived_features}\")\n",
    "\n",
    "    # Remover colunas-chave nao categoricas ou string\n",
    "    if key_columns:\n",
    "        numeric_features_df = numeric_features_df.drop(columns=key_columns, errors='ignore')\n",
    "        logger.info(f\"Colunas-chave removidas: {key_columns}\")\n",
    "\n",
    "    # Remover a variável alvo do conjunto de features\n",
    "    features_without_target = numeric_features_df.drop(columns=[target], errors='ignore')\n",
    "\n",
    "    # Calcular a matriz de correlação entre as features (excluindo o target)\n",
    "    corr_matrix = features_without_target.corr().abs()\n",
    "\n",
    "    # Criar uma máscara para identificar as correlações acima do limiar entre as features, excluindo a diagonal\n",
    "    upper = corr_matrix.where(np.triu(np.ones(corr_matrix.shape), k=1).astype(bool))\n",
    "\n",
    "    # Identificar colunas com alta correlação entre si, usando o limiar definido\n",
    "    to_drop_features = [column for column in upper.columns if any(upper[column] > threshold_features)]\n",
    "\n",
    "    # Remover as colunas altamente correlacionadas entre si\n",
    "    features_cleaned = features_without_target.drop(columns=to_drop_features)\n",
    "\n",
    "    logger.info(f\"Número de features após a remoção de correlação maior que {threshold_features}: {features_cleaned.shape[1]}\")\n",
    "\n",
    "    # Reconstruir o DataFrame final, reinserindo key_columns e target\n",
    "    features_cleaned = pd.concat([features_cleaned, features_df[key_columns], features_df[[target]]], axis=1)\n",
    "\n",
    "    logger.info(\"Processo de seleção de features concluído.\")\n",
    "\n",
    "    return features_cleaned\n",
    "\n",
    "\n",
    "derived_features = [\n",
    "    \"cum_spent_mana\", \n",
    "    \"cum_mana_pool\", \n",
    "    \"spent_mana\", \n",
    "    \"mana_pool\"\n",
    "]\n",
    "\n",
    "key_cols = [\n",
    "    \"name\",\n",
    "    \"deck_name\",\n",
    "    \"match\",\n",
    "    \"turn\"\n",
    "]\n",
    "\n",
    "features_df = catalog.load(\"features_df\")\n",
    "threshold_features = catalog.load(\"params:modeling.feature_engineering.feat_corr_threshold\")\n",
    "\n",
    "selected_features_df = feature_selection(\n",
    "    features_df=features_df,         \n",
    "    target=\"mana_curve_efficiency\", \n",
    "    threshold_features=threshold_features,        \n",
    "    derived_features=derived_features, \n",
    "    key_columns=key_cols            \n",
    ")\n",
    "\n",
    "# Salvando o DataFrame de features selecionadas\n",
    "catalog.save(\"selected_features_df\", selected_features_df)"
   ]
  },
  {
   "cell_type": "code",
   "execution_count": 9,
   "metadata": {},
   "outputs": [
    {
     "data": {
      "text/html": [
       "<pre style=\"white-space:pre;overflow-x:auto;line-height:normal;font-family:Menlo,'DejaVu Sans Mono',consolas,'Courier New',monospace\"></pre>\n"
      ],
      "text/plain": []
     },
     "metadata": {},
     "output_type": "display_data"
    },
    {
     "data": {
      "text/html": [
       "<div>\n",
       "<style scoped>\n",
       "    .dataframe tbody tr th:only-of-type {\n",
       "        vertical-align: middle;\n",
       "    }\n",
       "\n",
       "    .dataframe tbody tr th {\n",
       "        vertical-align: top;\n",
       "    }\n",
       "\n",
       "    .dataframe thead th {\n",
       "        text-align: right;\n",
       "    }\n",
       "</style>\n",
       "<table border=\"1\" class=\"dataframe\">\n",
       "  <thead>\n",
       "    <tr style=\"text-align: right;\">\n",
       "      <th></th>\n",
       "      <th>mulligan_count</th>\n",
       "      <th>lands_played</th>\n",
       "      <th>spells_played</th>\n",
       "      <th>hand_size</th>\n",
       "      <th>spell_ratio</th>\n",
       "      <th>land_ratio</th>\n",
       "      <th>W</th>\n",
       "      <th>U</th>\n",
       "      <th>B</th>\n",
       "      <th>R</th>\n",
       "      <th>G</th>\n",
       "      <th>name</th>\n",
       "      <th>deck_name</th>\n",
       "      <th>match</th>\n",
       "      <th>turn</th>\n",
       "      <th>mana_curve_efficiency</th>\n",
       "    </tr>\n",
       "  </thead>\n",
       "  <tbody>\n",
       "    <tr>\n",
       "      <th>0</th>\n",
       "      <td>0</td>\n",
       "      <td>0</td>\n",
       "      <td>0</td>\n",
       "      <td>7</td>\n",
       "      <td>0.00</td>\n",
       "      <td>0.00</td>\n",
       "      <td>0</td>\n",
       "      <td>0</td>\n",
       "      <td>0</td>\n",
       "      <td>0</td>\n",
       "      <td>1</td>\n",
       "      <td>Steven Guerrero</td>\n",
       "      <td>elvish rage</td>\n",
       "      <td>1</td>\n",
       "      <td>0</td>\n",
       "      <td>0.00</td>\n",
       "    </tr>\n",
       "    <tr>\n",
       "      <th>1</th>\n",
       "      <td>0</td>\n",
       "      <td>1</td>\n",
       "      <td>1</td>\n",
       "      <td>6</td>\n",
       "      <td>0.50</td>\n",
       "      <td>0.50</td>\n",
       "      <td>0</td>\n",
       "      <td>0</td>\n",
       "      <td>0</td>\n",
       "      <td>0</td>\n",
       "      <td>1</td>\n",
       "      <td>Steven Guerrero</td>\n",
       "      <td>elvish rage</td>\n",
       "      <td>1</td>\n",
       "      <td>1</td>\n",
       "      <td>1.00</td>\n",
       "    </tr>\n",
       "    <tr>\n",
       "      <th>2</th>\n",
       "      <td>0</td>\n",
       "      <td>1</td>\n",
       "      <td>2</td>\n",
       "      <td>5</td>\n",
       "      <td>0.67</td>\n",
       "      <td>0.33</td>\n",
       "      <td>0</td>\n",
       "      <td>0</td>\n",
       "      <td>0</td>\n",
       "      <td>0</td>\n",
       "      <td>1</td>\n",
       "      <td>Steven Guerrero</td>\n",
       "      <td>elvish rage</td>\n",
       "      <td>1</td>\n",
       "      <td>2</td>\n",
       "      <td>1.00</td>\n",
       "    </tr>\n",
       "    <tr>\n",
       "      <th>3</th>\n",
       "      <td>0</td>\n",
       "      <td>1</td>\n",
       "      <td>5</td>\n",
       "      <td>2</td>\n",
       "      <td>1.25</td>\n",
       "      <td>0.25</td>\n",
       "      <td>0</td>\n",
       "      <td>0</td>\n",
       "      <td>0</td>\n",
       "      <td>0</td>\n",
       "      <td>1</td>\n",
       "      <td>Steven Guerrero</td>\n",
       "      <td>elvish rage</td>\n",
       "      <td>1</td>\n",
       "      <td>3</td>\n",
       "      <td>1.00</td>\n",
       "    </tr>\n",
       "    <tr>\n",
       "      <th>4</th>\n",
       "      <td>0</td>\n",
       "      <td>0</td>\n",
       "      <td>6</td>\n",
       "      <td>2</td>\n",
       "      <td>1.20</td>\n",
       "      <td>0.00</td>\n",
       "      <td>0</td>\n",
       "      <td>0</td>\n",
       "      <td>0</td>\n",
       "      <td>0</td>\n",
       "      <td>1</td>\n",
       "      <td>Steven Guerrero</td>\n",
       "      <td>elvish rage</td>\n",
       "      <td>1</td>\n",
       "      <td>4</td>\n",
       "      <td>1.00</td>\n",
       "    </tr>\n",
       "    <tr>\n",
       "      <th>...</th>\n",
       "      <td>...</td>\n",
       "      <td>...</td>\n",
       "      <td>...</td>\n",
       "      <td>...</td>\n",
       "      <td>...</td>\n",
       "      <td>...</td>\n",
       "      <td>...</td>\n",
       "      <td>...</td>\n",
       "      <td>...</td>\n",
       "      <td>...</td>\n",
       "      <td>...</td>\n",
       "      <td>...</td>\n",
       "      <td>...</td>\n",
       "      <td>...</td>\n",
       "      <td>...</td>\n",
       "      <td>...</td>\n",
       "    </tr>\n",
       "    <tr>\n",
       "      <th>315</th>\n",
       "      <td>0</td>\n",
       "      <td>1</td>\n",
       "      <td>0</td>\n",
       "      <td>7</td>\n",
       "      <td>0.00</td>\n",
       "      <td>0.50</td>\n",
       "      <td>1</td>\n",
       "      <td>0</td>\n",
       "      <td>0</td>\n",
       "      <td>1</td>\n",
       "      <td>1</td>\n",
       "      <td>Jessica Smith</td>\n",
       "      <td>sliver evolution</td>\n",
       "      <td>10</td>\n",
       "      <td>1</td>\n",
       "      <td>2.00</td>\n",
       "    </tr>\n",
       "    <tr>\n",
       "      <th>316</th>\n",
       "      <td>0</td>\n",
       "      <td>1</td>\n",
       "      <td>1</td>\n",
       "      <td>6</td>\n",
       "      <td>0.33</td>\n",
       "      <td>0.33</td>\n",
       "      <td>1</td>\n",
       "      <td>0</td>\n",
       "      <td>0</td>\n",
       "      <td>1</td>\n",
       "      <td>1</td>\n",
       "      <td>Jessica Smith</td>\n",
       "      <td>sliver evolution</td>\n",
       "      <td>10</td>\n",
       "      <td>2</td>\n",
       "      <td>1.33</td>\n",
       "    </tr>\n",
       "    <tr>\n",
       "      <th>317</th>\n",
       "      <td>0</td>\n",
       "      <td>2</td>\n",
       "      <td>2</td>\n",
       "      <td>4</td>\n",
       "      <td>0.50</td>\n",
       "      <td>0.50</td>\n",
       "      <td>1</td>\n",
       "      <td>0</td>\n",
       "      <td>0</td>\n",
       "      <td>1</td>\n",
       "      <td>1</td>\n",
       "      <td>Jessica Smith</td>\n",
       "      <td>sliver evolution</td>\n",
       "      <td>10</td>\n",
       "      <td>3</td>\n",
       "      <td>1.00</td>\n",
       "    </tr>\n",
       "    <tr>\n",
       "      <th>318</th>\n",
       "      <td>0</td>\n",
       "      <td>1</td>\n",
       "      <td>4</td>\n",
       "      <td>2</td>\n",
       "      <td>0.80</td>\n",
       "      <td>0.20</td>\n",
       "      <td>1</td>\n",
       "      <td>0</td>\n",
       "      <td>0</td>\n",
       "      <td>1</td>\n",
       "      <td>1</td>\n",
       "      <td>Jessica Smith</td>\n",
       "      <td>sliver evolution</td>\n",
       "      <td>10</td>\n",
       "      <td>4</td>\n",
       "      <td>1.00</td>\n",
       "    </tr>\n",
       "    <tr>\n",
       "      <th>319</th>\n",
       "      <td>0</td>\n",
       "      <td>1</td>\n",
       "      <td>5</td>\n",
       "      <td>1</td>\n",
       "      <td>0.83</td>\n",
       "      <td>0.17</td>\n",
       "      <td>1</td>\n",
       "      <td>0</td>\n",
       "      <td>0</td>\n",
       "      <td>1</td>\n",
       "      <td>1</td>\n",
       "      <td>Jessica Smith</td>\n",
       "      <td>sliver evolution</td>\n",
       "      <td>10</td>\n",
       "      <td>5</td>\n",
       "      <td>1.00</td>\n",
       "    </tr>\n",
       "  </tbody>\n",
       "</table>\n",
       "<p>320 rows × 16 columns</p>\n",
       "</div>"
      ],
      "text/plain": [
       "\n",
       "     mulligan_count  lands_played  spells_played  hand_size  spell_ratio  \\\n",
       "\u001b[1;36m0\u001b[0m                 \u001b[1;36m0\u001b[0m             \u001b[1;36m0\u001b[0m              \u001b[1;36m0\u001b[0m          \u001b[1;36m7\u001b[0m         \u001b[1;36m0.00\u001b[0m   \n",
       "\u001b[1;36m1\u001b[0m                 \u001b[1;36m0\u001b[0m             \u001b[1;36m1\u001b[0m              \u001b[1;36m1\u001b[0m          \u001b[1;36m6\u001b[0m         \u001b[1;36m0.50\u001b[0m   \n",
       "\u001b[1;36m2\u001b[0m                 \u001b[1;36m0\u001b[0m             \u001b[1;36m1\u001b[0m              \u001b[1;36m2\u001b[0m          \u001b[1;36m5\u001b[0m         \u001b[1;36m0.67\u001b[0m   \n",
       "\u001b[1;36m3\u001b[0m                 \u001b[1;36m0\u001b[0m             \u001b[1;36m1\u001b[0m              \u001b[1;36m5\u001b[0m          \u001b[1;36m2\u001b[0m         \u001b[1;36m1.25\u001b[0m   \n",
       "\u001b[1;36m4\u001b[0m                 \u001b[1;36m0\u001b[0m             \u001b[1;36m0\u001b[0m              \u001b[1;36m6\u001b[0m          \u001b[1;36m2\u001b[0m         \u001b[1;36m1.20\u001b[0m   \n",
       "..              \u001b[33m...\u001b[0m           \u001b[33m...\u001b[0m            \u001b[33m...\u001b[0m        \u001b[33m...\u001b[0m          \u001b[33m...\u001b[0m   \n",
       "\u001b[1;36m315\u001b[0m               \u001b[1;36m0\u001b[0m             \u001b[1;36m1\u001b[0m              \u001b[1;36m0\u001b[0m          \u001b[1;36m7\u001b[0m         \u001b[1;36m0.00\u001b[0m   \n",
       "\u001b[1;36m316\u001b[0m               \u001b[1;36m0\u001b[0m             \u001b[1;36m1\u001b[0m              \u001b[1;36m1\u001b[0m          \u001b[1;36m6\u001b[0m         \u001b[1;36m0.33\u001b[0m   \n",
       "\u001b[1;36m317\u001b[0m               \u001b[1;36m0\u001b[0m             \u001b[1;36m2\u001b[0m              \u001b[1;36m2\u001b[0m          \u001b[1;36m4\u001b[0m         \u001b[1;36m0.50\u001b[0m   \n",
       "\u001b[1;36m318\u001b[0m               \u001b[1;36m0\u001b[0m             \u001b[1;36m1\u001b[0m              \u001b[1;36m4\u001b[0m          \u001b[1;36m2\u001b[0m         \u001b[1;36m0.80\u001b[0m   \n",
       "\u001b[1;36m319\u001b[0m               \u001b[1;36m0\u001b[0m             \u001b[1;36m1\u001b[0m              \u001b[1;36m5\u001b[0m          \u001b[1;36m1\u001b[0m         \u001b[1;36m0.83\u001b[0m   \n",
       "\n",
       "     land_ratio  W  U  B  R  G             name         deck_name  match  \\\n",
       "\u001b[1;36m0\u001b[0m          \u001b[1;36m0.00\u001b[0m  \u001b[1;36m0\u001b[0m  \u001b[1;36m0\u001b[0m  \u001b[1;36m0\u001b[0m  \u001b[1;36m0\u001b[0m  \u001b[1;36m1\u001b[0m  Steven Guerrero       elvish rage      \u001b[1;36m1\u001b[0m   \n",
       "\u001b[1;36m1\u001b[0m          \u001b[1;36m0.50\u001b[0m  \u001b[1;36m0\u001b[0m  \u001b[1;36m0\u001b[0m  \u001b[1;36m0\u001b[0m  \u001b[1;36m0\u001b[0m  \u001b[1;36m1\u001b[0m  Steven Guerrero       elvish rage      \u001b[1;36m1\u001b[0m   \n",
       "\u001b[1;36m2\u001b[0m          \u001b[1;36m0.33\u001b[0m  \u001b[1;36m0\u001b[0m  \u001b[1;36m0\u001b[0m  \u001b[1;36m0\u001b[0m  \u001b[1;36m0\u001b[0m  \u001b[1;36m1\u001b[0m  Steven Guerrero       elvish rage      \u001b[1;36m1\u001b[0m   \n",
       "\u001b[1;36m3\u001b[0m          \u001b[1;36m0.25\u001b[0m  \u001b[1;36m0\u001b[0m  \u001b[1;36m0\u001b[0m  \u001b[1;36m0\u001b[0m  \u001b[1;36m0\u001b[0m  \u001b[1;36m1\u001b[0m  Steven Guerrero       elvish rage      \u001b[1;36m1\u001b[0m   \n",
       "\u001b[1;36m4\u001b[0m          \u001b[1;36m0.00\u001b[0m  \u001b[1;36m0\u001b[0m  \u001b[1;36m0\u001b[0m  \u001b[1;36m0\u001b[0m  \u001b[1;36m0\u001b[0m  \u001b[1;36m1\u001b[0m  Steven Guerrero       elvish rage      \u001b[1;36m1\u001b[0m   \n",
       "..          \u001b[33m...\u001b[0m .. .. .. .. ..              \u001b[33m...\u001b[0m               \u001b[33m...\u001b[0m    \u001b[33m...\u001b[0m   \n",
       "\u001b[1;36m315\u001b[0m        \u001b[1;36m0.50\u001b[0m  \u001b[1;36m1\u001b[0m  \u001b[1;36m0\u001b[0m  \u001b[1;36m0\u001b[0m  \u001b[1;36m1\u001b[0m  \u001b[1;36m1\u001b[0m    Jessica Smith  sliver evolution     \u001b[1;36m10\u001b[0m   \n",
       "\u001b[1;36m316\u001b[0m        \u001b[1;36m0.33\u001b[0m  \u001b[1;36m1\u001b[0m  \u001b[1;36m0\u001b[0m  \u001b[1;36m0\u001b[0m  \u001b[1;36m1\u001b[0m  \u001b[1;36m1\u001b[0m    Jessica Smith  sliver evolution     \u001b[1;36m10\u001b[0m   \n",
       "\u001b[1;36m317\u001b[0m        \u001b[1;36m0.50\u001b[0m  \u001b[1;36m1\u001b[0m  \u001b[1;36m0\u001b[0m  \u001b[1;36m0\u001b[0m  \u001b[1;36m1\u001b[0m  \u001b[1;36m1\u001b[0m    Jessica Smith  sliver evolution     \u001b[1;36m10\u001b[0m   \n",
       "\u001b[1;36m318\u001b[0m        \u001b[1;36m0.20\u001b[0m  \u001b[1;36m1\u001b[0m  \u001b[1;36m0\u001b[0m  \u001b[1;36m0\u001b[0m  \u001b[1;36m1\u001b[0m  \u001b[1;36m1\u001b[0m    Jessica Smith  sliver evolution     \u001b[1;36m10\u001b[0m   \n",
       "\u001b[1;36m319\u001b[0m        \u001b[1;36m0.17\u001b[0m  \u001b[1;36m1\u001b[0m  \u001b[1;36m0\u001b[0m  \u001b[1;36m0\u001b[0m  \u001b[1;36m1\u001b[0m  \u001b[1;36m1\u001b[0m    Jessica Smith  sliver evolution     \u001b[1;36m10\u001b[0m   \n",
       "\n",
       "     turn  mana_curve_efficiency  \n",
       "\u001b[1;36m0\u001b[0m       \u001b[1;36m0\u001b[0m                   \u001b[1;36m0.00\u001b[0m  \n",
       "\u001b[1;36m1\u001b[0m       \u001b[1;36m1\u001b[0m                   \u001b[1;36m1.00\u001b[0m  \n",
       "\u001b[1;36m2\u001b[0m       \u001b[1;36m2\u001b[0m                   \u001b[1;36m1.00\u001b[0m  \n",
       "\u001b[1;36m3\u001b[0m       \u001b[1;36m3\u001b[0m                   \u001b[1;36m1.00\u001b[0m  \n",
       "\u001b[1;36m4\u001b[0m       \u001b[1;36m4\u001b[0m                   \u001b[1;36m1.00\u001b[0m  \n",
       "..    \u001b[33m...\u001b[0m                    \u001b[33m...\u001b[0m  \n",
       "\u001b[1;36m315\u001b[0m     \u001b[1;36m1\u001b[0m                   \u001b[1;36m2.00\u001b[0m  \n",
       "\u001b[1;36m316\u001b[0m     \u001b[1;36m2\u001b[0m                   \u001b[1;36m1.33\u001b[0m  \n",
       "\u001b[1;36m317\u001b[0m     \u001b[1;36m3\u001b[0m                   \u001b[1;36m1.00\u001b[0m  \n",
       "\u001b[1;36m318\u001b[0m     \u001b[1;36m4\u001b[0m                   \u001b[1;36m1.00\u001b[0m  \n",
       "\u001b[1;36m319\u001b[0m     \u001b[1;36m5\u001b[0m                   \u001b[1;36m1.00\u001b[0m  \n",
       "\n",
       "\u001b[1m[\u001b[0m\u001b[1;36m320\u001b[0m rows x \u001b[1;36m16\u001b[0m columns\u001b[1m]\u001b[0m"
      ]
     },
     "execution_count": 9,
     "metadata": {},
     "output_type": "execute_result"
    }
   ],
   "source": [
    "selected_features_df"
   ]
  },
  {
   "cell_type": "code",
   "execution_count": 11,
   "metadata": {},
   "outputs": [
    {
     "name": "stdout",
     "output_type": "stream",
     "text": [
      "Jogadores selecionados para o conjunto de teste: ['Steven Schwartz']\n"
     ]
    },
    {
     "data": {
      "text/html": [
       "<pre style=\"white-space:pre;overflow-x:auto;line-height:normal;font-family:Menlo,'DejaVu Sans Mono',consolas,'Courier New',monospace\"><span style=\"color: #7fbfbf; text-decoration-color: #7fbfbf\">[09/15/24 19:27:37] </span><span style=\"color: #000080; text-decoration-color: #000080\">INFO    </span> Saving data to <span style=\"color: #ff8700; text-decoration-color: #ff8700\">train_features</span> <span style=\"font-weight: bold\">(</span>ParquetDataset<span style=\"font-weight: bold\">)</span><span style=\"color: #808000; text-decoration-color: #808000\">...</span>                  <a href=\"file://c:\\Users\\gufer\\miniconda3\\envs\\mtg_env\\Lib\\site-packages\\kedro\\io\\data_catalog.py\" target=\"_blank\"><span style=\"color: #7f7f7f; text-decoration-color: #7f7f7f\">data_catalog.py</span></a><span style=\"color: #7f7f7f; text-decoration-color: #7f7f7f\">:</span><a href=\"file://c:\\Users\\gufer\\miniconda3\\envs\\mtg_env\\Lib\\site-packages\\kedro\\io\\data_catalog.py#581\" target=\"_blank\"><span style=\"color: #7f7f7f; text-decoration-color: #7f7f7f\">581</span></a>\n",
       "</pre>\n"
      ],
      "text/plain": [
       "\u001b[2;36m[09/15/24 19:27:37]\u001b[0m\u001b[2;36m \u001b[0m\u001b[34mINFO    \u001b[0m Saving data to \u001b[38;5;208mtrain_features\u001b[0m \u001b[1m(\u001b[0mParquetDataset\u001b[1m)\u001b[0m\u001b[33m...\u001b[0m                  \u001b]8;id=364020;file://c:\\Users\\gufer\\miniconda3\\envs\\mtg_env\\Lib\\site-packages\\kedro\\io\\data_catalog.py\u001b\\\u001b[2mdata_catalog.py\u001b[0m\u001b]8;;\u001b\\\u001b[2m:\u001b[0m\u001b]8;id=829774;file://c:\\Users\\gufer\\miniconda3\\envs\\mtg_env\\Lib\\site-packages\\kedro\\io\\data_catalog.py#581\u001b\\\u001b[2m581\u001b[0m\u001b]8;;\u001b\\\n"
      ]
     },
     "metadata": {},
     "output_type": "display_data"
    },
    {
     "data": {
      "text/html": [
       "<pre style=\"white-space:pre;overflow-x:auto;line-height:normal;font-family:Menlo,'DejaVu Sans Mono',consolas,'Courier New',monospace\"><span style=\"color: #7fbfbf; text-decoration-color: #7fbfbf\">                    </span><span style=\"color: #000080; text-decoration-color: #000080\">INFO    </span> Saving data to <span style=\"color: #ff8700; text-decoration-color: #ff8700\">test_features</span> <span style=\"font-weight: bold\">(</span>ParquetDataset<span style=\"font-weight: bold\">)</span><span style=\"color: #808000; text-decoration-color: #808000\">...</span>                   <a href=\"file://c:\\Users\\gufer\\miniconda3\\envs\\mtg_env\\Lib\\site-packages\\kedro\\io\\data_catalog.py\" target=\"_blank\"><span style=\"color: #7f7f7f; text-decoration-color: #7f7f7f\">data_catalog.py</span></a><span style=\"color: #7f7f7f; text-decoration-color: #7f7f7f\">:</span><a href=\"file://c:\\Users\\gufer\\miniconda3\\envs\\mtg_env\\Lib\\site-packages\\kedro\\io\\data_catalog.py#581\" target=\"_blank\"><span style=\"color: #7f7f7f; text-decoration-color: #7f7f7f\">581</span></a>\n",
       "</pre>\n"
      ],
      "text/plain": [
       "\u001b[2;36m                   \u001b[0m\u001b[2;36m \u001b[0m\u001b[34mINFO    \u001b[0m Saving data to \u001b[38;5;208mtest_features\u001b[0m \u001b[1m(\u001b[0mParquetDataset\u001b[1m)\u001b[0m\u001b[33m...\u001b[0m                   \u001b]8;id=402700;file://c:\\Users\\gufer\\miniconda3\\envs\\mtg_env\\Lib\\site-packages\\kedro\\io\\data_catalog.py\u001b\\\u001b[2mdata_catalog.py\u001b[0m\u001b]8;;\u001b\\\u001b[2m:\u001b[0m\u001b]8;id=555774;file://c:\\Users\\gufer\\miniconda3\\envs\\mtg_env\\Lib\\site-packages\\kedro\\io\\data_catalog.py#581\u001b\\\u001b[2m581\u001b[0m\u001b]8;;\u001b\\\n"
      ]
     },
     "metadata": {},
     "output_type": "display_data"
    },
    {
     "data": {
      "text/html": [
       "<pre style=\"white-space:pre;overflow-x:auto;line-height:normal;font-family:Menlo,'DejaVu Sans Mono',consolas,'Courier New',monospace\"><span style=\"color: #7fbfbf; text-decoration-color: #7fbfbf\">                    </span><span style=\"color: #000080; text-decoration-color: #000080\">INFO    </span> Saving data to <span style=\"color: #ff8700; text-decoration-color: #ff8700\">train_target</span> <span style=\"font-weight: bold\">(</span>ParquetDataset<span style=\"font-weight: bold\">)</span><span style=\"color: #808000; text-decoration-color: #808000\">...</span>                    <a href=\"file://c:\\Users\\gufer\\miniconda3\\envs\\mtg_env\\Lib\\site-packages\\kedro\\io\\data_catalog.py\" target=\"_blank\"><span style=\"color: #7f7f7f; text-decoration-color: #7f7f7f\">data_catalog.py</span></a><span style=\"color: #7f7f7f; text-decoration-color: #7f7f7f\">:</span><a href=\"file://c:\\Users\\gufer\\miniconda3\\envs\\mtg_env\\Lib\\site-packages\\kedro\\io\\data_catalog.py#581\" target=\"_blank\"><span style=\"color: #7f7f7f; text-decoration-color: #7f7f7f\">581</span></a>\n",
       "</pre>\n"
      ],
      "text/plain": [
       "\u001b[2;36m                   \u001b[0m\u001b[2;36m \u001b[0m\u001b[34mINFO    \u001b[0m Saving data to \u001b[38;5;208mtrain_target\u001b[0m \u001b[1m(\u001b[0mParquetDataset\u001b[1m)\u001b[0m\u001b[33m...\u001b[0m                    \u001b]8;id=560924;file://c:\\Users\\gufer\\miniconda3\\envs\\mtg_env\\Lib\\site-packages\\kedro\\io\\data_catalog.py\u001b\\\u001b[2mdata_catalog.py\u001b[0m\u001b]8;;\u001b\\\u001b[2m:\u001b[0m\u001b]8;id=383337;file://c:\\Users\\gufer\\miniconda3\\envs\\mtg_env\\Lib\\site-packages\\kedro\\io\\data_catalog.py#581\u001b\\\u001b[2m581\u001b[0m\u001b]8;;\u001b\\\n"
      ]
     },
     "metadata": {},
     "output_type": "display_data"
    },
    {
     "data": {
      "text/html": [
       "<pre style=\"white-space:pre;overflow-x:auto;line-height:normal;font-family:Menlo,'DejaVu Sans Mono',consolas,'Courier New',monospace\"><span style=\"color: #7fbfbf; text-decoration-color: #7fbfbf\">                    </span><span style=\"color: #000080; text-decoration-color: #000080\">INFO    </span> Saving data to <span style=\"color: #ff8700; text-decoration-color: #ff8700\">test_target</span> <span style=\"font-weight: bold\">(</span>ParquetDataset<span style=\"font-weight: bold\">)</span><span style=\"color: #808000; text-decoration-color: #808000\">...</span>                     <a href=\"file://c:\\Users\\gufer\\miniconda3\\envs\\mtg_env\\Lib\\site-packages\\kedro\\io\\data_catalog.py\" target=\"_blank\"><span style=\"color: #7f7f7f; text-decoration-color: #7f7f7f\">data_catalog.py</span></a><span style=\"color: #7f7f7f; text-decoration-color: #7f7f7f\">:</span><a href=\"file://c:\\Users\\gufer\\miniconda3\\envs\\mtg_env\\Lib\\site-packages\\kedro\\io\\data_catalog.py#581\" target=\"_blank\"><span style=\"color: #7f7f7f; text-decoration-color: #7f7f7f\">581</span></a>\n",
       "</pre>\n"
      ],
      "text/plain": [
       "\u001b[2;36m                   \u001b[0m\u001b[2;36m \u001b[0m\u001b[34mINFO    \u001b[0m Saving data to \u001b[38;5;208mtest_target\u001b[0m \u001b[1m(\u001b[0mParquetDataset\u001b[1m)\u001b[0m\u001b[33m...\u001b[0m                     \u001b]8;id=66681;file://c:\\Users\\gufer\\miniconda3\\envs\\mtg_env\\Lib\\site-packages\\kedro\\io\\data_catalog.py\u001b\\\u001b[2mdata_catalog.py\u001b[0m\u001b]8;;\u001b\\\u001b[2m:\u001b[0m\u001b]8;id=279584;file://c:\\Users\\gufer\\miniconda3\\envs\\mtg_env\\Lib\\site-packages\\kedro\\io\\data_catalog.py#581\u001b\\\u001b[2m581\u001b[0m\u001b]8;;\u001b\\\n"
      ]
     },
     "metadata": {},
     "output_type": "display_data"
    }
   ],
   "source": [
    "import random\n",
    "from typing import List\n",
    "import pandas as pd\n",
    "\n",
    "def train_test_split(\n",
    "        features_df: pd.DataFrame,\n",
    "        final_features_list: List[str], \n",
    "        target_column: str, \n",
    "        n_test_players: int) -> None:\n",
    "    \"\"\"\n",
    "    Segrega as partidas em treino e teste, permitindo que o modelo nunca veja um determinado grupo de jogadores durante o treino.\n",
    "    Filtra o DataFrame pelas features selecionadas e produz os DataFrames de treino e teste para features e targets.\n",
    "\n",
    "    Args:\n",
    "        features_df (pd.DataFrame): O DataFrame contendo os dados das partidas.\n",
    "        final_features_list (List[str]): Lista das features selecionadas para o modelo.\n",
    "        target_column (str): Nome da coluna target.\n",
    "        n_test_players (int): Número de jogadores a serem amostrados aleatoriamente para o conjunto de teste.\n",
    "        catalog (Kedro catalog): O catálogo do Kedro, para salvar os DataFrames de treino e teste.\n",
    "\n",
    "    Retorna:\n",
    "        None: Salva os DataFrames de treino e teste (features e targets) no catálogo fornecido.\n",
    "    \"\"\"\n",
    "    \n",
    "    # Verifica se a quantidade de jogadores para o teste é válida\n",
    "    unique_players = features_df['name'].unique()\n",
    "    if n_test_players > len(unique_players):\n",
    "        raise ValueError(f\"O número de jogadores de teste ({n_test_players}) excede o número de jogadores únicos ({len(unique_players)}).\")\n",
    "    \n",
    "    # Amostrando jogadores aleatoriamente\n",
    "    test_players = random.sample(list(unique_players), n_test_players)\n",
    "    print(f\"Jogadores selecionados para o conjunto de teste: {test_players}\")\n",
    "    \n",
    "    # Segregar os dados entre treino e teste com base nos jogadores amostrados\n",
    "    test_df = features_df[features_df['name'].isin(test_players)]\n",
    "    train_df = features_df[~features_df['name'].isin(test_players)]\n",
    "\n",
    "    # Filtrando apenas as features selecionadas\n",
    "    train_features = train_df[final_features_list]\n",
    "    test_features = test_df[final_features_list]\n",
    "\n",
    "    # Extraindo os targets\n",
    "    train_target = pd.DataFrame(train_df[target_column])\n",
    "    test_target = pd.DataFrame(test_df[target_column])\n",
    "\n",
    "\n",
    "    return train_features, test_features, train_target, test_target\n",
    "\n",
    "\n",
    "(train_features, test_features, train_target, test_target) = train_test_split(\n",
    "    features_df=selected_features_df,\n",
    "    final_features_list=selected_features_df.columns.tolist(),\n",
    "    target_column=\"mana_curve_efficiency\",\n",
    "    n_test_players=1,\n",
    ")\n",
    "\n",
    "# Salvando as features e targets no catálogo\n",
    "catalog.save(\"train_features\", train_features)\n",
    "catalog.save(\"test_features\", test_features)\n",
    "catalog.save(\"train_target\", train_target)\n",
    "catalog.save(\"test_target\", test_target)"
   ]
  }
 ],
 "metadata": {
  "kernelspec": {
   "display_name": "mtg_env",
   "language": "python",
   "name": "python3"
  },
  "language_info": {
   "codemirror_mode": {
    "name": "ipython",
    "version": 3
   },
   "file_extension": ".py",
   "mimetype": "text/x-python",
   "name": "python",
   "nbconvert_exporter": "python",
   "pygments_lexer": "ipython3",
   "version": "3.12.5"
  }
 },
 "nbformat": 4,
 "nbformat_minor": 2
}
