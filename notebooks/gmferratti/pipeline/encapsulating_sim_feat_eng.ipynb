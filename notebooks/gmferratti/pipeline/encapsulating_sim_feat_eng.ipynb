{
 "cells": [
  {
   "cell_type": "code",
   "execution_count": 1,
   "metadata": {},
   "outputs": [
    {
     "data": {
      "text/html": [
       "<pre style=\"white-space:pre;overflow-x:auto;line-height:normal;font-family:Menlo,'DejaVu Sans Mono',consolas,'Courier New',monospace\"><span style=\"color: #7fbfbf; text-decoration-color: #7fbfbf\">[09/15/24 02:09:39] </span><span style=\"color: #000080; text-decoration-color: #000080\">INFO    </span> Using                                                                  <a href=\"file://c:\\Users\\gufer\\miniconda3\\envs\\mtg_env\\Lib\\site-packages\\kedro\\framework\\project\\__init__.py\" target=\"_blank\"><span style=\"color: #7f7f7f; text-decoration-color: #7f7f7f\">__init__.py</span></a><span style=\"color: #7f7f7f; text-decoration-color: #7f7f7f\">:</span><a href=\"file://c:\\Users\\gufer\\miniconda3\\envs\\mtg_env\\Lib\\site-packages\\kedro\\framework\\project\\__init__.py#249\" target=\"_blank\"><span style=\"color: #7f7f7f; text-decoration-color: #7f7f7f\">249</span></a>\n",
       "<span style=\"color: #7fbfbf; text-decoration-color: #7fbfbf\">                    </span>         <span style=\"color: #008000; text-decoration-color: #008000\">'c:\\Users\\gufer\\miniconda3\\envs\\mtg_env\\Lib\\site-packages\\kedro\\framew</span> <span style=\"color: #7f7f7f; text-decoration-color: #7f7f7f\">               </span>\n",
       "<span style=\"color: #7fbfbf; text-decoration-color: #7fbfbf\">                    </span>         <span style=\"color: #008000; text-decoration-color: #008000\">ork\\project\\rich_logging.yml'</span> as logging configuration.                <span style=\"color: #7f7f7f; text-decoration-color: #7f7f7f\">               </span>\n",
       "</pre>\n"
      ],
      "text/plain": [
       "\u001b[2;36m[09/15/24 02:09:39]\u001b[0m\u001b[2;36m \u001b[0m\u001b[34mINFO    \u001b[0m Using                                                                  \u001b]8;id=330942;file://c:\\Users\\gufer\\miniconda3\\envs\\mtg_env\\Lib\\site-packages\\kedro\\framework\\project\\__init__.py\u001b\\\u001b[2m__init__.py\u001b[0m\u001b]8;;\u001b\\\u001b[2m:\u001b[0m\u001b]8;id=502630;file://c:\\Users\\gufer\\miniconda3\\envs\\mtg_env\\Lib\\site-packages\\kedro\\framework\\project\\__init__.py#249\u001b\\\u001b[2m249\u001b[0m\u001b]8;;\u001b\\\n",
       "\u001b[2;36m                    \u001b[0m         \u001b[32m'c:\\Users\\gufer\\miniconda3\\envs\\mtg_env\\Lib\\site-packages\\kedro\\framew\u001b[0m \u001b[2m               \u001b[0m\n",
       "\u001b[2;36m                    \u001b[0m         \u001b[32mork\\project\\rich_logging.yml'\u001b[0m as logging configuration.                \u001b[2m               \u001b[0m\n"
      ]
     },
     "metadata": {},
     "output_type": "display_data"
    },
    {
     "name": "stdout",
     "output_type": "stream",
     "text": [
      "Notebook current working directory: c:\\Users\\gufer\\OneDrive\\Documentos\\FIAP\\Fase_03\\notebooks\\gmferratti\\pipeline\n",
      "Project path: c:\\Users\\gufer\\OneDrive\\Documentos\\FIAP\\Fase_03\\mtg-project\n"
     ]
    },
    {
     "data": {
      "text/html": [
       "<pre style=\"white-space:pre;overflow-x:auto;line-height:normal;font-family:Menlo,'DejaVu Sans Mono',consolas,'Courier New',monospace\"><span style=\"color: #7fbfbf; text-decoration-color: #7fbfbf\">[09/15/24 02:09:41] </span><span style=\"color: #000080; text-decoration-color: #000080\">INFO    </span> Kedro is sending anonymous usage data with the sole purpose of improving <a href=\"file://c:\\Users\\gufer\\miniconda3\\envs\\mtg_env\\Lib\\site-packages\\kedro_telemetry\\plugin.py\" target=\"_blank\"><span style=\"color: #7f7f7f; text-decoration-color: #7f7f7f\">plugin.py</span></a><span style=\"color: #7f7f7f; text-decoration-color: #7f7f7f\">:</span><a href=\"file://c:\\Users\\gufer\\miniconda3\\envs\\mtg_env\\Lib\\site-packages\\kedro_telemetry\\plugin.py#233\" target=\"_blank\"><span style=\"color: #7f7f7f; text-decoration-color: #7f7f7f\">233</span></a>\n",
       "<span style=\"color: #7fbfbf; text-decoration-color: #7fbfbf\">                    </span>         the product. No personal data or IP addresses are stored on our side. If <span style=\"color: #7f7f7f; text-decoration-color: #7f7f7f\">             </span>\n",
       "<span style=\"color: #7fbfbf; text-decoration-color: #7fbfbf\">                    </span>         you want to opt out, set the `KEDRO_DISABLE_TELEMETRY` or `DO_NOT_TRACK` <span style=\"color: #7f7f7f; text-decoration-color: #7f7f7f\">             </span>\n",
       "<span style=\"color: #7fbfbf; text-decoration-color: #7fbfbf\">                    </span>         environment variables, or create a `.telemetry` file in the current      <span style=\"color: #7f7f7f; text-decoration-color: #7f7f7f\">             </span>\n",
       "<span style=\"color: #7fbfbf; text-decoration-color: #7fbfbf\">                    </span>         working directory with the contents `consent: false`. Read more at       <span style=\"color: #7f7f7f; text-decoration-color: #7f7f7f\">             </span>\n",
       "<span style=\"color: #7fbfbf; text-decoration-color: #7fbfbf\">                    </span>         <span style=\"color: #0000ff; text-decoration-color: #0000ff; text-decoration: underline\">https://docs.kedro.org/en/stable/configuration/telemetry.html</span>            <span style=\"color: #7f7f7f; text-decoration-color: #7f7f7f\">             </span>\n",
       "</pre>\n"
      ],
      "text/plain": [
       "\u001b[2;36m[09/15/24 02:09:41]\u001b[0m\u001b[2;36m \u001b[0m\u001b[34mINFO    \u001b[0m Kedro is sending anonymous usage data with the sole purpose of improving \u001b]8;id=930893;file://c:\\Users\\gufer\\miniconda3\\envs\\mtg_env\\Lib\\site-packages\\kedro_telemetry\\plugin.py\u001b\\\u001b[2mplugin.py\u001b[0m\u001b]8;;\u001b\\\u001b[2m:\u001b[0m\u001b]8;id=271194;file://c:\\Users\\gufer\\miniconda3\\envs\\mtg_env\\Lib\\site-packages\\kedro_telemetry\\plugin.py#233\u001b\\\u001b[2m233\u001b[0m\u001b]8;;\u001b\\\n",
       "\u001b[2;36m                    \u001b[0m         the product. No personal data or IP addresses are stored on our side. If \u001b[2m             \u001b[0m\n",
       "\u001b[2;36m                    \u001b[0m         you want to opt out, set the `KEDRO_DISABLE_TELEMETRY` or `DO_NOT_TRACK` \u001b[2m             \u001b[0m\n",
       "\u001b[2;36m                    \u001b[0m         environment variables, or create a `.telemetry` file in the current      \u001b[2m             \u001b[0m\n",
       "\u001b[2;36m                    \u001b[0m         working directory with the contents `consent: false`. Read more at       \u001b[2m             \u001b[0m\n",
       "\u001b[2;36m                    \u001b[0m         \u001b[4;94mhttps://docs.kedro.org/en/stable/configuration/telemetry.html\u001b[0m            \u001b[2m             \u001b[0m\n"
      ]
     },
     "metadata": {},
     "output_type": "display_data"
    },
    {
     "data": {
      "text/html": [
       "<pre style=\"white-space:pre;overflow-x:auto;line-height:normal;font-family:Menlo,'DejaVu Sans Mono',consolas,'Courier New',monospace\"></pre>\n"
      ],
      "text/plain": []
     },
     "metadata": {},
     "output_type": "display_data"
    },
    {
     "data": {
      "text/plain": [
       "\n",
       "\u001b[1m[\u001b[0m\n",
       "    \u001b[32m'decks_json_partitioned'\u001b[0m,\n",
       "    \u001b[32m'decks_txt_partitioned'\u001b[0m,\n",
       "    \u001b[32m'sampled_decks'\u001b[0m,\n",
       "    \u001b[32m'players'\u001b[0m,\n",
       "    \u001b[32m'players_with_decks'\u001b[0m,\n",
       "    \u001b[32m'matches_dataframe'\u001b[0m,\n",
       "    \u001b[32m'parameters'\u001b[0m,\n",
       "    \u001b[32m'params:global'\u001b[0m,\n",
       "    \u001b[32m'params:global.run_date'\u001b[0m,\n",
       "    \u001b[32m'params:global.run_date.day'\u001b[0m,\n",
       "    \u001b[32m'params:global.run_date.month'\u001b[0m,\n",
       "    \u001b[32m'params:global.run_date.year'\u001b[0m,\n",
       "    \u001b[32m'params:global.user'\u001b[0m,\n",
       "    \u001b[32m'params:global.user.project_path'\u001b[0m,\n",
       "    \u001b[32m'params:preprocessing'\u001b[0m,\n",
       "    \u001b[32m'params:preprocessing.webscraper'\u001b[0m,\n",
       "    \u001b[32m'params:preprocessing.webscraper.zip_url'\u001b[0m,\n",
       "    \u001b[32m'params:preprocessing.webscraper.zip_folder'\u001b[0m,\n",
       "    \u001b[32m'params:preprocessing.webscraper.log_folder'\u001b[0m,\n",
       "    \u001b[32m'params:preprocessing.webscraper.deck_cards'\u001b[0m,\n",
       "    \u001b[32m'params:preprocessing.webscraper.sample_size_ratio'\u001b[0m,\n",
       "    \u001b[32m'params:simulation'\u001b[0m,\n",
       "    \u001b[32m'params:simulation.n_players'\u001b[0m,\n",
       "    \u001b[32m'params:simulation.matches_per_player'\u001b[0m,\n",
       "    \u001b[32m'params:simulation.hand_size_stop'\u001b[0m,\n",
       "    \u001b[32m'params:simulation.max_turns'\u001b[0m,\n",
       "    \u001b[32m'params:simulation.max_mulligans'\u001b[0m,\n",
       "    \u001b[32m'params:simulation.mulligan_prob'\u001b[0m,\n",
       "    \u001b[32m'params:simulation.extra_land_prob'\u001b[0m,\n",
       "    \u001b[32m'params:simulation.log_folder'\u001b[0m,\n",
       "    \u001b[32m'params:modeling'\u001b[0m,\n",
       "    \u001b[32m'params:modeling.xgboost'\u001b[0m,\n",
       "    \u001b[32m'params:modeling.xgboost.learning_rate'\u001b[0m,\n",
       "    \u001b[32m'params:modeling.xgboost.max_depth'\u001b[0m,\n",
       "    \u001b[32m'params:modeling.xgboost.n_estimators'\u001b[0m,\n",
       "    \u001b[32m'params:modeling.random_forest'\u001b[0m,\n",
       "    \u001b[32m'params:modeling.random_forest.n_estimators'\u001b[0m,\n",
       "    \u001b[32m'params:modeling.random_forest.max_depth'\u001b[0m,\n",
       "    \u001b[32m'params:modeling.random_forest.random_state'\u001b[0m,\n",
       "    \u001b[32m'params:evaluation'\u001b[0m,\n",
       "    \u001b[32m'params:evaluation.metrics'\u001b[0m,\n",
       "    \u001b[32m'params:evaluation.metrics.accuracy_threshold'\u001b[0m,\n",
       "    \u001b[32m'params:evaluation.metrics.f1_threshold'\u001b[0m,\n",
       "    \u001b[32m'params:evaluation.reporting'\u001b[0m,\n",
       "    \u001b[32m'params:evaluation.reporting.save_reports'\u001b[0m,\n",
       "    \u001b[32m'params:evaluation.reporting.report_format'\u001b[0m\n",
       "\u001b[1m]\u001b[0m"
      ]
     },
     "execution_count": 1,
     "metadata": {},
     "output_type": "execute_result"
    }
   ],
   "source": [
    "import os\n",
    "from kedro.framework.startup import bootstrap_project\n",
    "from kedro.framework.session import KedroSession\n",
    "import warnings\n",
    "\n",
    "warnings.filterwarnings(\"ignore\")\n",
    "\n",
    "# Encontrar o caminho absoluto do diretório atual\n",
    "notebook_cwd = os.getcwd()\n",
    "\n",
    "# Definir o caminho correto para a raiz do projeto Kedro\n",
    "project_path = r\"c:\\Users\\gufer\\OneDrive\\Documentos\\FIAP\\Fase_03\\mtg-project\"\n",
    "\n",
    "# Verificar o diretório atual e o caminho do projeto\n",
    "print(f\"Notebook current working directory: {notebook_cwd}\")\n",
    "print(f\"Project path: {project_path}\")\n",
    "\n",
    "# Alterar para o diretório raiz do projeto Kedro\n",
    "os.chdir(project_path)\n",
    "\n",
    "# Bootstrap o projeto Kedro\n",
    "bootstrap_project(project_path)\n",
    "\n",
    "# Inicialize o contexto do Kedro\n",
    "with KedroSession.create() as session:\n",
    "    context = session.load_context()\n",
    "\n",
    "# Recarregar o catálogo\n",
    "catalog = context.catalog\n",
    "\n",
    "# Acessar os parâmetros\n",
    "params = context.params\n",
    "\n",
    "# Listar o catálogo\n",
    "catalog.list()"
   ]
  },
  {
   "cell_type": "code",
   "execution_count": 18,
   "metadata": {},
   "outputs": [],
   "source": [
    "from typing import List, Dict\n",
    "from classes.deck import Deck\n",
    "from classes.player import Player\n",
    "from classes.player_tracker import PlayerTracker\n",
    "from src.mtg_project.pipelines.utils import setup_logger\n",
    "import pandas as pd\n",
    "import numpy as np\n",
    "from faker import Faker\n",
    "import random"
   ]
  },
  {
   "cell_type": "code",
   "execution_count": 3,
   "metadata": {},
   "outputs": [
    {
     "data": {
      "text/html": [
       "<pre style=\"white-space:pre;overflow-x:auto;line-height:normal;font-family:Menlo,'DejaVu Sans Mono',consolas,'Courier New',monospace\"><span style=\"color: #7fbfbf; text-decoration-color: #7fbfbf\">[09/15/24 02:09:43] </span><span style=\"color: #000080; text-decoration-color: #000080\">INFO    </span> Loading data from <span style=\"color: #ff8700; text-decoration-color: #ff8700\">params:simulation.n_players</span> <span style=\"font-weight: bold\">(</span>MemoryDataset<span style=\"font-weight: bold\">)</span><span style=\"color: #808000; text-decoration-color: #808000\">...</span>   <a href=\"file://c:\\Users\\gufer\\miniconda3\\envs\\mtg_env\\Lib\\site-packages\\kedro\\io\\data_catalog.py\" target=\"_blank\"><span style=\"color: #7f7f7f; text-decoration-color: #7f7f7f\">data_catalog.py</span></a><span style=\"color: #7f7f7f; text-decoration-color: #7f7f7f\">:</span><a href=\"file://c:\\Users\\gufer\\miniconda3\\envs\\mtg_env\\Lib\\site-packages\\kedro\\io\\data_catalog.py#539\" target=\"_blank\"><span style=\"color: #7f7f7f; text-decoration-color: #7f7f7f\">539</span></a>\n",
       "</pre>\n"
      ],
      "text/plain": [
       "\u001b[2;36m[09/15/24 02:09:43]\u001b[0m\u001b[2;36m \u001b[0m\u001b[34mINFO    \u001b[0m Loading data from \u001b[38;5;208mparams:simulation.n_players\u001b[0m \u001b[1m(\u001b[0mMemoryDataset\u001b[1m)\u001b[0m\u001b[33m...\u001b[0m   \u001b]8;id=730749;file://c:\\Users\\gufer\\miniconda3\\envs\\mtg_env\\Lib\\site-packages\\kedro\\io\\data_catalog.py\u001b\\\u001b[2mdata_catalog.py\u001b[0m\u001b]8;;\u001b\\\u001b[2m:\u001b[0m\u001b]8;id=802885;file://c:\\Users\\gufer\\miniconda3\\envs\\mtg_env\\Lib\\site-packages\\kedro\\io\\data_catalog.py#539\u001b\\\u001b[2m539\u001b[0m\u001b]8;;\u001b\\\n"
      ]
     },
     "metadata": {},
     "output_type": "display_data"
    },
    {
     "data": {
      "text/html": [
       "<pre style=\"white-space:pre;overflow-x:auto;line-height:normal;font-family:Menlo,'DejaVu Sans Mono',consolas,'Courier New',monospace\"><span style=\"color: #7fbfbf; text-decoration-color: #7fbfbf\">                    </span><span style=\"color: #000080; text-decoration-color: #000080\">INFO    </span> Saving data to <span style=\"color: #ff8700; text-decoration-color: #ff8700\">players</span> <span style=\"font-weight: bold\">(</span>PickleDataset<span style=\"font-weight: bold\">)</span><span style=\"color: #808000; text-decoration-color: #808000\">...</span>                          <a href=\"file://c:\\Users\\gufer\\miniconda3\\envs\\mtg_env\\Lib\\site-packages\\kedro\\io\\data_catalog.py\" target=\"_blank\"><span style=\"color: #7f7f7f; text-decoration-color: #7f7f7f\">data_catalog.py</span></a><span style=\"color: #7f7f7f; text-decoration-color: #7f7f7f\">:</span><a href=\"file://c:\\Users\\gufer\\miniconda3\\envs\\mtg_env\\Lib\\site-packages\\kedro\\io\\data_catalog.py#581\" target=\"_blank\"><span style=\"color: #7f7f7f; text-decoration-color: #7f7f7f\">581</span></a>\n",
       "</pre>\n"
      ],
      "text/plain": [
       "\u001b[2;36m                   \u001b[0m\u001b[2;36m \u001b[0m\u001b[34mINFO    \u001b[0m Saving data to \u001b[38;5;208mplayers\u001b[0m \u001b[1m(\u001b[0mPickleDataset\u001b[1m)\u001b[0m\u001b[33m...\u001b[0m                          \u001b]8;id=908595;file://c:\\Users\\gufer\\miniconda3\\envs\\mtg_env\\Lib\\site-packages\\kedro\\io\\data_catalog.py\u001b\\\u001b[2mdata_catalog.py\u001b[0m\u001b]8;;\u001b\\\u001b[2m:\u001b[0m\u001b]8;id=810786;file://c:\\Users\\gufer\\miniconda3\\envs\\mtg_env\\Lib\\site-packages\\kedro\\io\\data_catalog.py#581\u001b\\\u001b[2m581\u001b[0m\u001b]8;;\u001b\\\n"
      ]
     },
     "metadata": {},
     "output_type": "display_data"
    }
   ],
   "source": [
    "def create_players(n_players: int):\n",
    "    \"\"\"\n",
    "    Cria uma lista de objetos Player com nomes aleatórios.\n",
    "\n",
    "    Args:\n",
    "        n_players (int): Número de jogadores a serem criados.\n",
    "\n",
    "    Returns:\n",
    "        List[Player]: Lista de objetos Player com nomes gerados aleatoriamente.\n",
    "    \"\"\"\n",
    "    # Inicializando o gerador de dados falsos Faker\n",
    "    fake = Faker()\n",
    "    \n",
    "    # Gerando uma lista de nomes aleatórios usando o Faker\n",
    "    player_names = [fake.first_name() + \" \" + fake.last_name() for _ in range(n_players)]\n",
    "    \n",
    "    # Criando uma lista de objetos Player a partir dos nomes gerados\n",
    "    players = [Player(name) for name in player_names]\n",
    "\n",
    "    # Retornando a lista de objetos Player\n",
    "    return players\n",
    "\n",
    "n_players = catalog.load(\"params:simulation.n_players\")\n",
    "players = create_players(n_players)\n",
    "catalog.save(\"players\", players)"
   ]
  },
  {
   "cell_type": "code",
   "execution_count": 4,
   "metadata": {},
   "outputs": [
    {
     "data": {
      "text/html": [
       "<pre style=\"white-space:pre;overflow-x:auto;line-height:normal;font-family:Menlo,'DejaVu Sans Mono',consolas,'Courier New',monospace\"><span style=\"color: #7fbfbf; text-decoration-color: #7fbfbf\">                    </span><span style=\"color: #000080; text-decoration-color: #000080\">INFO    </span> Loading data from <span style=\"color: #ff8700; text-decoration-color: #ff8700\">players</span> <span style=\"font-weight: bold\">(</span>PickleDataset<span style=\"font-weight: bold\">)</span><span style=\"color: #808000; text-decoration-color: #808000\">...</span>                       <a href=\"file://c:\\Users\\gufer\\miniconda3\\envs\\mtg_env\\Lib\\site-packages\\kedro\\io\\data_catalog.py\" target=\"_blank\"><span style=\"color: #7f7f7f; text-decoration-color: #7f7f7f\">data_catalog.py</span></a><span style=\"color: #7f7f7f; text-decoration-color: #7f7f7f\">:</span><a href=\"file://c:\\Users\\gufer\\miniconda3\\envs\\mtg_env\\Lib\\site-packages\\kedro\\io\\data_catalog.py#539\" target=\"_blank\"><span style=\"color: #7f7f7f; text-decoration-color: #7f7f7f\">539</span></a>\n",
       "</pre>\n"
      ],
      "text/plain": [
       "\u001b[2;36m                   \u001b[0m\u001b[2;36m \u001b[0m\u001b[34mINFO    \u001b[0m Loading data from \u001b[38;5;208mplayers\u001b[0m \u001b[1m(\u001b[0mPickleDataset\u001b[1m)\u001b[0m\u001b[33m...\u001b[0m                       \u001b]8;id=838290;file://c:\\Users\\gufer\\miniconda3\\envs\\mtg_env\\Lib\\site-packages\\kedro\\io\\data_catalog.py\u001b\\\u001b[2mdata_catalog.py\u001b[0m\u001b]8;;\u001b\\\u001b[2m:\u001b[0m\u001b]8;id=47215;file://c:\\Users\\gufer\\miniconda3\\envs\\mtg_env\\Lib\\site-packages\\kedro\\io\\data_catalog.py#539\u001b\\\u001b[2m539\u001b[0m\u001b]8;;\u001b\\\n"
      ]
     },
     "metadata": {},
     "output_type": "display_data"
    },
    {
     "data": {
      "text/html": [
       "<pre style=\"white-space:pre;overflow-x:auto;line-height:normal;font-family:Menlo,'DejaVu Sans Mono',consolas,'Courier New',monospace\"><span style=\"color: #7fbfbf; text-decoration-color: #7fbfbf\">                    </span><span style=\"color: #000080; text-decoration-color: #000080\">INFO    </span> Loading data from <span style=\"color: #ff8700; text-decoration-color: #ff8700\">sampled_decks</span> <span style=\"font-weight: bold\">(</span>PickleDataset<span style=\"font-weight: bold\">)</span><span style=\"color: #808000; text-decoration-color: #808000\">...</span>                 <a href=\"file://c:\\Users\\gufer\\miniconda3\\envs\\mtg_env\\Lib\\site-packages\\kedro\\io\\data_catalog.py\" target=\"_blank\"><span style=\"color: #7f7f7f; text-decoration-color: #7f7f7f\">data_catalog.py</span></a><span style=\"color: #7f7f7f; text-decoration-color: #7f7f7f\">:</span><a href=\"file://c:\\Users\\gufer\\miniconda3\\envs\\mtg_env\\Lib\\site-packages\\kedro\\io\\data_catalog.py#539\" target=\"_blank\"><span style=\"color: #7f7f7f; text-decoration-color: #7f7f7f\">539</span></a>\n",
       "</pre>\n"
      ],
      "text/plain": [
       "\u001b[2;36m                   \u001b[0m\u001b[2;36m \u001b[0m\u001b[34mINFO    \u001b[0m Loading data from \u001b[38;5;208msampled_decks\u001b[0m \u001b[1m(\u001b[0mPickleDataset\u001b[1m)\u001b[0m\u001b[33m...\u001b[0m                 \u001b]8;id=109394;file://c:\\Users\\gufer\\miniconda3\\envs\\mtg_env\\Lib\\site-packages\\kedro\\io\\data_catalog.py\u001b\\\u001b[2mdata_catalog.py\u001b[0m\u001b]8;;\u001b\\\u001b[2m:\u001b[0m\u001b]8;id=519166;file://c:\\Users\\gufer\\miniconda3\\envs\\mtg_env\\Lib\\site-packages\\kedro\\io\\data_catalog.py#539\u001b\\\u001b[2m539\u001b[0m\u001b]8;;\u001b\\\n"
      ]
     },
     "metadata": {},
     "output_type": "display_data"
    },
    {
     "data": {
      "text/html": [
       "<pre style=\"white-space:pre;overflow-x:auto;line-height:normal;font-family:Menlo,'DejaVu Sans Mono',consolas,'Courier New',monospace\"><span style=\"color: #7fbfbf; text-decoration-color: #7fbfbf\">                    </span><span style=\"color: #000080; text-decoration-color: #000080\">INFO    </span> Loading data from <span style=\"color: #ff8700; text-decoration-color: #ff8700\">params:simulation.log_folder</span> <span style=\"font-weight: bold\">(</span>MemoryDataset<span style=\"font-weight: bold\">)</span><span style=\"color: #808000; text-decoration-color: #808000\">...</span>  <a href=\"file://c:\\Users\\gufer\\miniconda3\\envs\\mtg_env\\Lib\\site-packages\\kedro\\io\\data_catalog.py\" target=\"_blank\"><span style=\"color: #7f7f7f; text-decoration-color: #7f7f7f\">data_catalog.py</span></a><span style=\"color: #7f7f7f; text-decoration-color: #7f7f7f\">:</span><a href=\"file://c:\\Users\\gufer\\miniconda3\\envs\\mtg_env\\Lib\\site-packages\\kedro\\io\\data_catalog.py#539\" target=\"_blank\"><span style=\"color: #7f7f7f; text-decoration-color: #7f7f7f\">539</span></a>\n",
       "</pre>\n"
      ],
      "text/plain": [
       "\u001b[2;36m                   \u001b[0m\u001b[2;36m \u001b[0m\u001b[34mINFO    \u001b[0m Loading data from \u001b[38;5;208mparams:simulation.log_folder\u001b[0m \u001b[1m(\u001b[0mMemoryDataset\u001b[1m)\u001b[0m\u001b[33m...\u001b[0m  \u001b]8;id=630448;file://c:\\Users\\gufer\\miniconda3\\envs\\mtg_env\\Lib\\site-packages\\kedro\\io\\data_catalog.py\u001b\\\u001b[2mdata_catalog.py\u001b[0m\u001b]8;;\u001b\\\u001b[2m:\u001b[0m\u001b]8;id=742124;file://c:\\Users\\gufer\\miniconda3\\envs\\mtg_env\\Lib\\site-packages\\kedro\\io\\data_catalog.py#539\u001b\\\u001b[2m539\u001b[0m\u001b]8;;\u001b\\\n"
      ]
     },
     "metadata": {},
     "output_type": "display_data"
    },
    {
     "data": {
      "text/html": [
       "<pre style=\"white-space:pre;overflow-x:auto;line-height:normal;font-family:Menlo,'DejaVu Sans Mono',consolas,'Courier New',monospace\"><span style=\"color: #7fbfbf; text-decoration-color: #7fbfbf\">[09/15/24 02:10:28] </span><span style=\"color: #000080; text-decoration-color: #000080\">INFO    </span> Saving data to <span style=\"color: #ff8700; text-decoration-color: #ff8700\">players_with_decks</span> <span style=\"font-weight: bold\">(</span>PickleDataset<span style=\"font-weight: bold\">)</span><span style=\"color: #808000; text-decoration-color: #808000\">...</span>               <a href=\"file://c:\\Users\\gufer\\miniconda3\\envs\\mtg_env\\Lib\\site-packages\\kedro\\io\\data_catalog.py\" target=\"_blank\"><span style=\"color: #7f7f7f; text-decoration-color: #7f7f7f\">data_catalog.py</span></a><span style=\"color: #7f7f7f; text-decoration-color: #7f7f7f\">:</span><a href=\"file://c:\\Users\\gufer\\miniconda3\\envs\\mtg_env\\Lib\\site-packages\\kedro\\io\\data_catalog.py#581\" target=\"_blank\"><span style=\"color: #7f7f7f; text-decoration-color: #7f7f7f\">581</span></a>\n",
       "</pre>\n"
      ],
      "text/plain": [
       "\u001b[2;36m[09/15/24 02:10:28]\u001b[0m\u001b[2;36m \u001b[0m\u001b[34mINFO    \u001b[0m Saving data to \u001b[38;5;208mplayers_with_decks\u001b[0m \u001b[1m(\u001b[0mPickleDataset\u001b[1m)\u001b[0m\u001b[33m...\u001b[0m               \u001b]8;id=314954;file://c:\\Users\\gufer\\miniconda3\\envs\\mtg_env\\Lib\\site-packages\\kedro\\io\\data_catalog.py\u001b\\\u001b[2mdata_catalog.py\u001b[0m\u001b]8;;\u001b\\\u001b[2m:\u001b[0m\u001b]8;id=26114;file://c:\\Users\\gufer\\miniconda3\\envs\\mtg_env\\Lib\\site-packages\\kedro\\io\\data_catalog.py#581\u001b\\\u001b[2m581\u001b[0m\u001b]8;;\u001b\\\n"
      ]
     },
     "metadata": {},
     "output_type": "display_data"
    }
   ],
   "source": [
    "import random\n",
    "import os\n",
    "from typing import List, Dict\n",
    "\n",
    "def assign_decks_to_players(\n",
    "        players: List[Player], \n",
    "        sampled_decks: Dict[str, str],\n",
    "        log_folder: str) -> List[Player]:\n",
    "    \"\"\"\n",
    "    Função para atribuir decks aleatórios a cada player na lista de players.\n",
    "\n",
    "    A função tentará atribuir um deck a cada player chamando o método assign_deck().\n",
    "    Caso ocorra algum erro na atribuição, tentará com outro deck disponível.\n",
    "\n",
    "    Args:\n",
    "        players (list): Lista de objetos Player.\n",
    "        sampled_decks (dict): Dicionário com os nomes e caminhos dos decks.\n",
    "        log_folder (str): Caminho da pasta para salvar o log.\n",
    "\n",
    "    Returns:\n",
    "        List[Player]: Lista de objetos Player com decks atribuídos.\n",
    "    \"\"\"\n",
    "    # Caminho do arquivo de log\n",
    "    log_filepath = os.path.join(log_folder, 'decks_assignment.txt')\n",
    "\n",
    "    # Cria a pasta de log se ela não existir\n",
    "    os.makedirs(log_folder, exist_ok=True)\n",
    "\n",
    "    # Configura o logger geral\n",
    "    logger = setup_logger(\"validate_decks\", log_filepath)\n",
    "    \n",
    "    # Log de início da validação\n",
    "    logger.info(\"Validating decks...\")\n",
    "\n",
    "    # Convertemos as chaves do dicionário para uma lista de nomes de decks disponíveis\n",
    "    available_decks = list(sampled_decks.keys())\n",
    "    \n",
    "    for player in players:\n",
    "        assigned = False\n",
    "        while not assigned and available_decks:\n",
    "            try:\n",
    "                # Seleciona um deck aleatório da lista de decks disponíveis\n",
    "                deck_name = random.choice(available_decks)\n",
    "\n",
    "                # Obter o caminho completo do deck a partir do dicionário sampled_decks\n",
    "                deck_path = sampled_decks[deck_name]\n",
    "\n",
    "                # Cria um novo objeto Deck\n",
    "                deck = Deck()\n",
    "\n",
    "                # Carrega o deck a partir do arquivo .txt no caminho obtido\n",
    "                deck.load_deck_from_txt(deck_path)\n",
    "\n",
    "                # Atribui o deck ao player\n",
    "                player.assign_deck(deck)\n",
    "                logger.info(f\"Deck '{deck_name}' assigned to player '{player.name}'\")\n",
    "                \n",
    "                # Remove o deck da lista de decks disponíveis para evitar reutilização\n",
    "                available_decks.remove(deck_name)\n",
    "\n",
    "                assigned = True  # Deck atribuído com sucesso\n",
    "            except Exception as e:\n",
    "                # Em caso de erro, tenta outro deck\n",
    "                logger.error(f\"Failed to assign deck '{deck_name}' to player '{player.name}': {e}\")\n",
    "                continue\n",
    "        \n",
    "        \n",
    "        # Se não houver mais decks disponíveis e não conseguir atribuir, lança um erro\n",
    "        if not assigned:\n",
    "            raise ValueError(f\"No available decks left to assign to player '{player.name}'.\")\n",
    "\n",
    "    logger.info(\"Deck assignment process completed.\")\n",
    "\n",
    "    return players\n",
    "\n",
    "players = catalog.load(\"players\")\n",
    "sampled_decks = catalog.load(\"sampled_decks\")\n",
    "log_folder = catalog.load(\"params:simulation.log_folder\")\n",
    "players_with_decks = assign_decks_to_players(players, sampled_decks, log_folder)\n",
    "catalog.save(\"players_with_decks\", players_with_decks)"
   ]
  },
  {
   "cell_type": "code",
   "execution_count": 5,
   "metadata": {},
   "outputs": [
    {
     "data": {
      "text/html": [
       "<pre style=\"white-space:pre;overflow-x:auto;line-height:normal;font-family:Menlo,'DejaVu Sans Mono',consolas,'Courier New',monospace\"><span style=\"color: #7fbfbf; text-decoration-color: #7fbfbf\">                    </span><span style=\"color: #000080; text-decoration-color: #000080\">INFO    </span> Loading data from <span style=\"color: #ff8700; text-decoration-color: #ff8700\">params:simulation</span> <span style=\"font-weight: bold\">(</span>MemoryDataset<span style=\"font-weight: bold\">)</span><span style=\"color: #808000; text-decoration-color: #808000\">...</span>             <a href=\"file://c:\\Users\\gufer\\miniconda3\\envs\\mtg_env\\Lib\\site-packages\\kedro\\io\\data_catalog.py\" target=\"_blank\"><span style=\"color: #7f7f7f; text-decoration-color: #7f7f7f\">data_catalog.py</span></a><span style=\"color: #7f7f7f; text-decoration-color: #7f7f7f\">:</span><a href=\"file://c:\\Users\\gufer\\miniconda3\\envs\\mtg_env\\Lib\\site-packages\\kedro\\io\\data_catalog.py#539\" target=\"_blank\"><span style=\"color: #7f7f7f; text-decoration-color: #7f7f7f\">539</span></a>\n",
       "</pre>\n"
      ],
      "text/plain": [
       "\u001b[2;36m                   \u001b[0m\u001b[2;36m \u001b[0m\u001b[34mINFO    \u001b[0m Loading data from \u001b[38;5;208mparams:simulation\u001b[0m \u001b[1m(\u001b[0mMemoryDataset\u001b[1m)\u001b[0m\u001b[33m...\u001b[0m             \u001b]8;id=278107;file://c:\\Users\\gufer\\miniconda3\\envs\\mtg_env\\Lib\\site-packages\\kedro\\io\\data_catalog.py\u001b\\\u001b[2mdata_catalog.py\u001b[0m\u001b]8;;\u001b\\\u001b[2m:\u001b[0m\u001b]8;id=190474;file://c:\\Users\\gufer\\miniconda3\\envs\\mtg_env\\Lib\\site-packages\\kedro\\io\\data_catalog.py#539\u001b\\\u001b[2m539\u001b[0m\u001b]8;;\u001b\\\n"
      ]
     },
     "metadata": {},
     "output_type": "display_data"
    },
    {
     "data": {
      "text/html": [
       "<pre style=\"white-space:pre;overflow-x:auto;line-height:normal;font-family:Menlo,'DejaVu Sans Mono',consolas,'Courier New',monospace\"><span style=\"color: #7fbfbf; text-decoration-color: #7fbfbf\">                    </span><span style=\"color: #000080; text-decoration-color: #000080\">INFO    </span> Loading data from <span style=\"color: #ff8700; text-decoration-color: #ff8700\">players_with_decks</span> <span style=\"font-weight: bold\">(</span>PickleDataset<span style=\"font-weight: bold\">)</span><span style=\"color: #808000; text-decoration-color: #808000\">...</span>            <a href=\"file://c:\\Users\\gufer\\miniconda3\\envs\\mtg_env\\Lib\\site-packages\\kedro\\io\\data_catalog.py\" target=\"_blank\"><span style=\"color: #7f7f7f; text-decoration-color: #7f7f7f\">data_catalog.py</span></a><span style=\"color: #7f7f7f; text-decoration-color: #7f7f7f\">:</span><a href=\"file://c:\\Users\\gufer\\miniconda3\\envs\\mtg_env\\Lib\\site-packages\\kedro\\io\\data_catalog.py#539\" target=\"_blank\"><span style=\"color: #7f7f7f; text-decoration-color: #7f7f7f\">539</span></a>\n",
       "</pre>\n"
      ],
      "text/plain": [
       "\u001b[2;36m                   \u001b[0m\u001b[2;36m \u001b[0m\u001b[34mINFO    \u001b[0m Loading data from \u001b[38;5;208mplayers_with_decks\u001b[0m \u001b[1m(\u001b[0mPickleDataset\u001b[1m)\u001b[0m\u001b[33m...\u001b[0m            \u001b]8;id=62743;file://c:\\Users\\gufer\\miniconda3\\envs\\mtg_env\\Lib\\site-packages\\kedro\\io\\data_catalog.py\u001b\\\u001b[2mdata_catalog.py\u001b[0m\u001b]8;;\u001b\\\u001b[2m:\u001b[0m\u001b]8;id=969381;file://c:\\Users\\gufer\\miniconda3\\envs\\mtg_env\\Lib\\site-packages\\kedro\\io\\data_catalog.py#539\u001b\\\u001b[2m539\u001b[0m\u001b]8;;\u001b\\\n"
      ]
     },
     "metadata": {},
     "output_type": "display_data"
    },
    {
     "data": {
      "text/html": [
       "<pre style=\"white-space:pre;overflow-x:auto;line-height:normal;font-family:Menlo,'DejaVu Sans Mono',consolas,'Courier New',monospace\"><span style=\"color: #7fbfbf; text-decoration-color: #7fbfbf\">                    </span><span style=\"color: #808000; text-decoration-color: #808000\">WARNING </span> Hunter Lopez couldn't play any spells.                                   <a href=\"file://c:\\Users\\gufer\\OneDrive\\Documentos\\FIAP\\Fase_03\\mtg-project\\classes\\player.py\" target=\"_blank\"><span style=\"color: #7f7f7f; text-decoration-color: #7f7f7f\">player.py</span></a><span style=\"color: #7f7f7f; text-decoration-color: #7f7f7f\">:</span><a href=\"file://c:\\Users\\gufer\\OneDrive\\Documentos\\FIAP\\Fase_03\\mtg-project\\classes\\player.py#371\" target=\"_blank\"><span style=\"color: #7f7f7f; text-decoration-color: #7f7f7f\">371</span></a>\n",
       "</pre>\n"
      ],
      "text/plain": [
       "\u001b[2;36m                   \u001b[0m\u001b[2;36m \u001b[0m\u001b[33mWARNING \u001b[0m Hunter Lopez couldn't play any spells.                                   \u001b]8;id=604122;file://c:\\Users\\gufer\\OneDrive\\Documentos\\FIAP\\Fase_03\\mtg-project\\classes\\player.py\u001b\\\u001b[2mplayer.py\u001b[0m\u001b]8;;\u001b\\\u001b[2m:\u001b[0m\u001b]8;id=23698;file://c:\\Users\\gufer\\OneDrive\\Documentos\\FIAP\\Fase_03\\mtg-project\\classes\\player.py#371\u001b\\\u001b[2m371\u001b[0m\u001b]8;;\u001b\\\n"
      ]
     },
     "metadata": {},
     "output_type": "display_data"
    },
    {
     "data": {
      "text/html": [
       "<pre style=\"white-space:pre;overflow-x:auto;line-height:normal;font-family:Menlo,'DejaVu Sans Mono',consolas,'Courier New',monospace\"><span style=\"color: #7fbfbf; text-decoration-color: #7fbfbf\">                    </span><span style=\"color: #808000; text-decoration-color: #808000\">WARNING </span> Hunter Lopez couldn't play any spells.                                   <a href=\"file://c:\\Users\\gufer\\OneDrive\\Documentos\\FIAP\\Fase_03\\mtg-project\\classes\\player.py\" target=\"_blank\"><span style=\"color: #7f7f7f; text-decoration-color: #7f7f7f\">player.py</span></a><span style=\"color: #7f7f7f; text-decoration-color: #7f7f7f\">:</span><a href=\"file://c:\\Users\\gufer\\OneDrive\\Documentos\\FIAP\\Fase_03\\mtg-project\\classes\\player.py#371\" target=\"_blank\"><span style=\"color: #7f7f7f; text-decoration-color: #7f7f7f\">371</span></a>\n",
       "</pre>\n"
      ],
      "text/plain": [
       "\u001b[2;36m                   \u001b[0m\u001b[2;36m \u001b[0m\u001b[33mWARNING \u001b[0m Hunter Lopez couldn't play any spells.                                   \u001b]8;id=333;file://c:\\Users\\gufer\\OneDrive\\Documentos\\FIAP\\Fase_03\\mtg-project\\classes\\player.py\u001b\\\u001b[2mplayer.py\u001b[0m\u001b]8;;\u001b\\\u001b[2m:\u001b[0m\u001b]8;id=802276;file://c:\\Users\\gufer\\OneDrive\\Documentos\\FIAP\\Fase_03\\mtg-project\\classes\\player.py#371\u001b\\\u001b[2m371\u001b[0m\u001b]8;;\u001b\\\n"
      ]
     },
     "metadata": {},
     "output_type": "display_data"
    },
    {
     "data": {
      "text/html": [
       "<pre style=\"white-space:pre;overflow-x:auto;line-height:normal;font-family:Menlo,'DejaVu Sans Mono',consolas,'Courier New',monospace\"><span style=\"color: #7fbfbf; text-decoration-color: #7fbfbf\">                    </span><span style=\"color: #808000; text-decoration-color: #808000\">WARNING </span> Hunter Lopez couldn't play any spells.                                   <a href=\"file://c:\\Users\\gufer\\OneDrive\\Documentos\\FIAP\\Fase_03\\mtg-project\\classes\\player.py\" target=\"_blank\"><span style=\"color: #7f7f7f; text-decoration-color: #7f7f7f\">player.py</span></a><span style=\"color: #7f7f7f; text-decoration-color: #7f7f7f\">:</span><a href=\"file://c:\\Users\\gufer\\OneDrive\\Documentos\\FIAP\\Fase_03\\mtg-project\\classes\\player.py#371\" target=\"_blank\"><span style=\"color: #7f7f7f; text-decoration-color: #7f7f7f\">371</span></a>\n",
       "</pre>\n"
      ],
      "text/plain": [
       "\u001b[2;36m                   \u001b[0m\u001b[2;36m \u001b[0m\u001b[33mWARNING \u001b[0m Hunter Lopez couldn't play any spells.                                   \u001b]8;id=818643;file://c:\\Users\\gufer\\OneDrive\\Documentos\\FIAP\\Fase_03\\mtg-project\\classes\\player.py\u001b\\\u001b[2mplayer.py\u001b[0m\u001b]8;;\u001b\\\u001b[2m:\u001b[0m\u001b]8;id=700820;file://c:\\Users\\gufer\\OneDrive\\Documentos\\FIAP\\Fase_03\\mtg-project\\classes\\player.py#371\u001b\\\u001b[2m371\u001b[0m\u001b]8;;\u001b\\\n"
      ]
     },
     "metadata": {},
     "output_type": "display_data"
    },
    {
     "data": {
      "text/html": [
       "<pre style=\"white-space:pre;overflow-x:auto;line-height:normal;font-family:Menlo,'DejaVu Sans Mono',consolas,'Courier New',monospace\"><span style=\"color: #7fbfbf; text-decoration-color: #7fbfbf\">                    </span><span style=\"color: #808000; text-decoration-color: #808000\">WARNING </span> Hunter Lopez couldn't play any spells.                                   <a href=\"file://c:\\Users\\gufer\\OneDrive\\Documentos\\FIAP\\Fase_03\\mtg-project\\classes\\player.py\" target=\"_blank\"><span style=\"color: #7f7f7f; text-decoration-color: #7f7f7f\">player.py</span></a><span style=\"color: #7f7f7f; text-decoration-color: #7f7f7f\">:</span><a href=\"file://c:\\Users\\gufer\\OneDrive\\Documentos\\FIAP\\Fase_03\\mtg-project\\classes\\player.py#371\" target=\"_blank\"><span style=\"color: #7f7f7f; text-decoration-color: #7f7f7f\">371</span></a>\n",
       "</pre>\n"
      ],
      "text/plain": [
       "\u001b[2;36m                   \u001b[0m\u001b[2;36m \u001b[0m\u001b[33mWARNING \u001b[0m Hunter Lopez couldn't play any spells.                                   \u001b]8;id=88221;file://c:\\Users\\gufer\\OneDrive\\Documentos\\FIAP\\Fase_03\\mtg-project\\classes\\player.py\u001b\\\u001b[2mplayer.py\u001b[0m\u001b]8;;\u001b\\\u001b[2m:\u001b[0m\u001b]8;id=101444;file://c:\\Users\\gufer\\OneDrive\\Documentos\\FIAP\\Fase_03\\mtg-project\\classes\\player.py#371\u001b\\\u001b[2m371\u001b[0m\u001b]8;;\u001b\\\n"
      ]
     },
     "metadata": {},
     "output_type": "display_data"
    },
    {
     "data": {
      "text/html": [
       "<pre style=\"white-space:pre;overflow-x:auto;line-height:normal;font-family:Menlo,'DejaVu Sans Mono',consolas,'Courier New',monospace\"><span style=\"color: #7fbfbf; text-decoration-color: #7fbfbf\">                    </span><span style=\"color: #808000; text-decoration-color: #808000\">WARNING </span> Hunter Lopez couldn't play any spells.                                   <a href=\"file://c:\\Users\\gufer\\OneDrive\\Documentos\\FIAP\\Fase_03\\mtg-project\\classes\\player.py\" target=\"_blank\"><span style=\"color: #7f7f7f; text-decoration-color: #7f7f7f\">player.py</span></a><span style=\"color: #7f7f7f; text-decoration-color: #7f7f7f\">:</span><a href=\"file://c:\\Users\\gufer\\OneDrive\\Documentos\\FIAP\\Fase_03\\mtg-project\\classes\\player.py#371\" target=\"_blank\"><span style=\"color: #7f7f7f; text-decoration-color: #7f7f7f\">371</span></a>\n",
       "</pre>\n"
      ],
      "text/plain": [
       "\u001b[2;36m                   \u001b[0m\u001b[2;36m \u001b[0m\u001b[33mWARNING \u001b[0m Hunter Lopez couldn't play any spells.                                   \u001b]8;id=597558;file://c:\\Users\\gufer\\OneDrive\\Documentos\\FIAP\\Fase_03\\mtg-project\\classes\\player.py\u001b\\\u001b[2mplayer.py\u001b[0m\u001b]8;;\u001b\\\u001b[2m:\u001b[0m\u001b]8;id=868864;file://c:\\Users\\gufer\\OneDrive\\Documentos\\FIAP\\Fase_03\\mtg-project\\classes\\player.py#371\u001b\\\u001b[2m371\u001b[0m\u001b]8;;\u001b\\\n"
      ]
     },
     "metadata": {},
     "output_type": "display_data"
    },
    {
     "data": {
      "text/html": [
       "<pre style=\"white-space:pre;overflow-x:auto;line-height:normal;font-family:Menlo,'DejaVu Sans Mono',consolas,'Courier New',monospace\"><span style=\"color: #7fbfbf; text-decoration-color: #7fbfbf\">                    </span><span style=\"color: #808000; text-decoration-color: #808000\">WARNING </span> Hunter Lopez couldn't play any spells.                                   <a href=\"file://c:\\Users\\gufer\\OneDrive\\Documentos\\FIAP\\Fase_03\\mtg-project\\classes\\player.py\" target=\"_blank\"><span style=\"color: #7f7f7f; text-decoration-color: #7f7f7f\">player.py</span></a><span style=\"color: #7f7f7f; text-decoration-color: #7f7f7f\">:</span><a href=\"file://c:\\Users\\gufer\\OneDrive\\Documentos\\FIAP\\Fase_03\\mtg-project\\classes\\player.py#371\" target=\"_blank\"><span style=\"color: #7f7f7f; text-decoration-color: #7f7f7f\">371</span></a>\n",
       "</pre>\n"
      ],
      "text/plain": [
       "\u001b[2;36m                   \u001b[0m\u001b[2;36m \u001b[0m\u001b[33mWARNING \u001b[0m Hunter Lopez couldn't play any spells.                                   \u001b]8;id=717740;file://c:\\Users\\gufer\\OneDrive\\Documentos\\FIAP\\Fase_03\\mtg-project\\classes\\player.py\u001b\\\u001b[2mplayer.py\u001b[0m\u001b]8;;\u001b\\\u001b[2m:\u001b[0m\u001b]8;id=644581;file://c:\\Users\\gufer\\OneDrive\\Documentos\\FIAP\\Fase_03\\mtg-project\\classes\\player.py#371\u001b\\\u001b[2m371\u001b[0m\u001b]8;;\u001b\\\n"
      ]
     },
     "metadata": {},
     "output_type": "display_data"
    },
    {
     "data": {
      "text/html": [
       "<pre style=\"white-space:pre;overflow-x:auto;line-height:normal;font-family:Menlo,'DejaVu Sans Mono',consolas,'Courier New',monospace\"><span style=\"color: #7fbfbf; text-decoration-color: #7fbfbf\">                    </span><span style=\"color: #808000; text-decoration-color: #808000\">WARNING </span> Hunter Lopez couldn't play any spells.                                   <a href=\"file://c:\\Users\\gufer\\OneDrive\\Documentos\\FIAP\\Fase_03\\mtg-project\\classes\\player.py\" target=\"_blank\"><span style=\"color: #7f7f7f; text-decoration-color: #7f7f7f\">player.py</span></a><span style=\"color: #7f7f7f; text-decoration-color: #7f7f7f\">:</span><a href=\"file://c:\\Users\\gufer\\OneDrive\\Documentos\\FIAP\\Fase_03\\mtg-project\\classes\\player.py#371\" target=\"_blank\"><span style=\"color: #7f7f7f; text-decoration-color: #7f7f7f\">371</span></a>\n",
       "</pre>\n"
      ],
      "text/plain": [
       "\u001b[2;36m                   \u001b[0m\u001b[2;36m \u001b[0m\u001b[33mWARNING \u001b[0m Hunter Lopez couldn't play any spells.                                   \u001b]8;id=589398;file://c:\\Users\\gufer\\OneDrive\\Documentos\\FIAP\\Fase_03\\mtg-project\\classes\\player.py\u001b\\\u001b[2mplayer.py\u001b[0m\u001b]8;;\u001b\\\u001b[2m:\u001b[0m\u001b]8;id=991798;file://c:\\Users\\gufer\\OneDrive\\Documentos\\FIAP\\Fase_03\\mtg-project\\classes\\player.py#371\u001b\\\u001b[2m371\u001b[0m\u001b]8;;\u001b\\\n"
      ]
     },
     "metadata": {},
     "output_type": "display_data"
    },
    {
     "data": {
      "text/html": [
       "<pre style=\"white-space:pre;overflow-x:auto;line-height:normal;font-family:Menlo,'DejaVu Sans Mono',consolas,'Courier New',monospace\"><span style=\"color: #7fbfbf; text-decoration-color: #7fbfbf\">                    </span><span style=\"color: #808000; text-decoration-color: #808000\">WARNING </span> Hunter Lopez couldn't play any spells.                                   <a href=\"file://c:\\Users\\gufer\\OneDrive\\Documentos\\FIAP\\Fase_03\\mtg-project\\classes\\player.py\" target=\"_blank\"><span style=\"color: #7f7f7f; text-decoration-color: #7f7f7f\">player.py</span></a><span style=\"color: #7f7f7f; text-decoration-color: #7f7f7f\">:</span><a href=\"file://c:\\Users\\gufer\\OneDrive\\Documentos\\FIAP\\Fase_03\\mtg-project\\classes\\player.py#371\" target=\"_blank\"><span style=\"color: #7f7f7f; text-decoration-color: #7f7f7f\">371</span></a>\n",
       "</pre>\n"
      ],
      "text/plain": [
       "\u001b[2;36m                   \u001b[0m\u001b[2;36m \u001b[0m\u001b[33mWARNING \u001b[0m Hunter Lopez couldn't play any spells.                                   \u001b]8;id=40266;file://c:\\Users\\gufer\\OneDrive\\Documentos\\FIAP\\Fase_03\\mtg-project\\classes\\player.py\u001b\\\u001b[2mplayer.py\u001b[0m\u001b]8;;\u001b\\\u001b[2m:\u001b[0m\u001b]8;id=176410;file://c:\\Users\\gufer\\OneDrive\\Documentos\\FIAP\\Fase_03\\mtg-project\\classes\\player.py#371\u001b\\\u001b[2m371\u001b[0m\u001b]8;;\u001b\\\n"
      ]
     },
     "metadata": {},
     "output_type": "display_data"
    },
    {
     "data": {
      "text/html": [
       "<pre style=\"white-space:pre;overflow-x:auto;line-height:normal;font-family:Menlo,'DejaVu Sans Mono',consolas,'Courier New',monospace\"><span style=\"color: #7fbfbf; text-decoration-color: #7fbfbf\">                    </span><span style=\"color: #808000; text-decoration-color: #808000\">WARNING </span> Hunter Lopez couldn't play any spells.                                   <a href=\"file://c:\\Users\\gufer\\OneDrive\\Documentos\\FIAP\\Fase_03\\mtg-project\\classes\\player.py\" target=\"_blank\"><span style=\"color: #7f7f7f; text-decoration-color: #7f7f7f\">player.py</span></a><span style=\"color: #7f7f7f; text-decoration-color: #7f7f7f\">:</span><a href=\"file://c:\\Users\\gufer\\OneDrive\\Documentos\\FIAP\\Fase_03\\mtg-project\\classes\\player.py#371\" target=\"_blank\"><span style=\"color: #7f7f7f; text-decoration-color: #7f7f7f\">371</span></a>\n",
       "</pre>\n"
      ],
      "text/plain": [
       "\u001b[2;36m                   \u001b[0m\u001b[2;36m \u001b[0m\u001b[33mWARNING \u001b[0m Hunter Lopez couldn't play any spells.                                   \u001b]8;id=155610;file://c:\\Users\\gufer\\OneDrive\\Documentos\\FIAP\\Fase_03\\mtg-project\\classes\\player.py\u001b\\\u001b[2mplayer.py\u001b[0m\u001b]8;;\u001b\\\u001b[2m:\u001b[0m\u001b]8;id=18154;file://c:\\Users\\gufer\\OneDrive\\Documentos\\FIAP\\Fase_03\\mtg-project\\classes\\player.py#371\u001b\\\u001b[2m371\u001b[0m\u001b]8;;\u001b\\\n"
      ]
     },
     "metadata": {},
     "output_type": "display_data"
    },
    {
     "data": {
      "text/html": [
       "<pre style=\"white-space:pre;overflow-x:auto;line-height:normal;font-family:Menlo,'DejaVu Sans Mono',consolas,'Courier New',monospace\"><span style=\"color: #7fbfbf; text-decoration-color: #7fbfbf\">                    </span><span style=\"color: #808000; text-decoration-color: #808000\">WARNING </span> Hunter Lopez couldn't play any spells.                                   <a href=\"file://c:\\Users\\gufer\\OneDrive\\Documentos\\FIAP\\Fase_03\\mtg-project\\classes\\player.py\" target=\"_blank\"><span style=\"color: #7f7f7f; text-decoration-color: #7f7f7f\">player.py</span></a><span style=\"color: #7f7f7f; text-decoration-color: #7f7f7f\">:</span><a href=\"file://c:\\Users\\gufer\\OneDrive\\Documentos\\FIAP\\Fase_03\\mtg-project\\classes\\player.py#371\" target=\"_blank\"><span style=\"color: #7f7f7f; text-decoration-color: #7f7f7f\">371</span></a>\n",
       "</pre>\n"
      ],
      "text/plain": [
       "\u001b[2;36m                   \u001b[0m\u001b[2;36m \u001b[0m\u001b[33mWARNING \u001b[0m Hunter Lopez couldn't play any spells.                                   \u001b]8;id=481846;file://c:\\Users\\gufer\\OneDrive\\Documentos\\FIAP\\Fase_03\\mtg-project\\classes\\player.py\u001b\\\u001b[2mplayer.py\u001b[0m\u001b]8;;\u001b\\\u001b[2m:\u001b[0m\u001b]8;id=185692;file://c:\\Users\\gufer\\OneDrive\\Documentos\\FIAP\\Fase_03\\mtg-project\\classes\\player.py#371\u001b\\\u001b[2m371\u001b[0m\u001b]8;;\u001b\\\n"
      ]
     },
     "metadata": {},
     "output_type": "display_data"
    },
    {
     "data": {
      "text/html": [
       "<pre style=\"white-space:pre;overflow-x:auto;line-height:normal;font-family:Menlo,'DejaVu Sans Mono',consolas,'Courier New',monospace\"><span style=\"color: #7fbfbf; text-decoration-color: #7fbfbf\">                    </span><span style=\"color: #808000; text-decoration-color: #808000\">WARNING </span> Hunter Lopez couldn't play any spells.                                   <a href=\"file://c:\\Users\\gufer\\OneDrive\\Documentos\\FIAP\\Fase_03\\mtg-project\\classes\\player.py\" target=\"_blank\"><span style=\"color: #7f7f7f; text-decoration-color: #7f7f7f\">player.py</span></a><span style=\"color: #7f7f7f; text-decoration-color: #7f7f7f\">:</span><a href=\"file://c:\\Users\\gufer\\OneDrive\\Documentos\\FIAP\\Fase_03\\mtg-project\\classes\\player.py#371\" target=\"_blank\"><span style=\"color: #7f7f7f; text-decoration-color: #7f7f7f\">371</span></a>\n",
       "</pre>\n"
      ],
      "text/plain": [
       "\u001b[2;36m                   \u001b[0m\u001b[2;36m \u001b[0m\u001b[33mWARNING \u001b[0m Hunter Lopez couldn't play any spells.                                   \u001b]8;id=267464;file://c:\\Users\\gufer\\OneDrive\\Documentos\\FIAP\\Fase_03\\mtg-project\\classes\\player.py\u001b\\\u001b[2mplayer.py\u001b[0m\u001b]8;;\u001b\\\u001b[2m:\u001b[0m\u001b]8;id=715637;file://c:\\Users\\gufer\\OneDrive\\Documentos\\FIAP\\Fase_03\\mtg-project\\classes\\player.py#371\u001b\\\u001b[2m371\u001b[0m\u001b]8;;\u001b\\\n"
      ]
     },
     "metadata": {},
     "output_type": "display_data"
    },
    {
     "data": {
      "text/html": [
       "<pre style=\"white-space:pre;overflow-x:auto;line-height:normal;font-family:Menlo,'DejaVu Sans Mono',consolas,'Courier New',monospace\"><span style=\"color: #7fbfbf; text-decoration-color: #7fbfbf\">                    </span><span style=\"color: #808000; text-decoration-color: #808000\">WARNING </span> Hunter Lopez couldn't play any spells.                                   <a href=\"file://c:\\Users\\gufer\\OneDrive\\Documentos\\FIAP\\Fase_03\\mtg-project\\classes\\player.py\" target=\"_blank\"><span style=\"color: #7f7f7f; text-decoration-color: #7f7f7f\">player.py</span></a><span style=\"color: #7f7f7f; text-decoration-color: #7f7f7f\">:</span><a href=\"file://c:\\Users\\gufer\\OneDrive\\Documentos\\FIAP\\Fase_03\\mtg-project\\classes\\player.py#371\" target=\"_blank\"><span style=\"color: #7f7f7f; text-decoration-color: #7f7f7f\">371</span></a>\n",
       "</pre>\n"
      ],
      "text/plain": [
       "\u001b[2;36m                   \u001b[0m\u001b[2;36m \u001b[0m\u001b[33mWARNING \u001b[0m Hunter Lopez couldn't play any spells.                                   \u001b]8;id=540249;file://c:\\Users\\gufer\\OneDrive\\Documentos\\FIAP\\Fase_03\\mtg-project\\classes\\player.py\u001b\\\u001b[2mplayer.py\u001b[0m\u001b]8;;\u001b\\\u001b[2m:\u001b[0m\u001b]8;id=188193;file://c:\\Users\\gufer\\OneDrive\\Documentos\\FIAP\\Fase_03\\mtg-project\\classes\\player.py#371\u001b\\\u001b[2m371\u001b[0m\u001b]8;;\u001b\\\n"
      ]
     },
     "metadata": {},
     "output_type": "display_data"
    },
    {
     "data": {
      "text/html": [
       "<pre style=\"white-space:pre;overflow-x:auto;line-height:normal;font-family:Menlo,'DejaVu Sans Mono',consolas,'Courier New',monospace\"><span style=\"color: #7fbfbf; text-decoration-color: #7fbfbf\">                    </span><span style=\"color: #808000; text-decoration-color: #808000\">WARNING </span> Jacqueline Page couldn't play any spells.                                <a href=\"file://c:\\Users\\gufer\\OneDrive\\Documentos\\FIAP\\Fase_03\\mtg-project\\classes\\player.py\" target=\"_blank\"><span style=\"color: #7f7f7f; text-decoration-color: #7f7f7f\">player.py</span></a><span style=\"color: #7f7f7f; text-decoration-color: #7f7f7f\">:</span><a href=\"file://c:\\Users\\gufer\\OneDrive\\Documentos\\FIAP\\Fase_03\\mtg-project\\classes\\player.py#371\" target=\"_blank\"><span style=\"color: #7f7f7f; text-decoration-color: #7f7f7f\">371</span></a>\n",
       "</pre>\n"
      ],
      "text/plain": [
       "\u001b[2;36m                   \u001b[0m\u001b[2;36m \u001b[0m\u001b[33mWARNING \u001b[0m Jacqueline Page couldn't play any spells.                                \u001b]8;id=224481;file://c:\\Users\\gufer\\OneDrive\\Documentos\\FIAP\\Fase_03\\mtg-project\\classes\\player.py\u001b\\\u001b[2mplayer.py\u001b[0m\u001b]8;;\u001b\\\u001b[2m:\u001b[0m\u001b]8;id=448271;file://c:\\Users\\gufer\\OneDrive\\Documentos\\FIAP\\Fase_03\\mtg-project\\classes\\player.py#371\u001b\\\u001b[2m371\u001b[0m\u001b]8;;\u001b\\\n"
      ]
     },
     "metadata": {},
     "output_type": "display_data"
    },
    {
     "data": {
      "text/html": [
       "<pre style=\"white-space:pre;overflow-x:auto;line-height:normal;font-family:Menlo,'DejaVu Sans Mono',consolas,'Courier New',monospace\"><span style=\"color: #7fbfbf; text-decoration-color: #7fbfbf\">                    </span><span style=\"color: #808000; text-decoration-color: #808000\">WARNING </span> Jacqueline Page couldn't play any spells.                                <a href=\"file://c:\\Users\\gufer\\OneDrive\\Documentos\\FIAP\\Fase_03\\mtg-project\\classes\\player.py\" target=\"_blank\"><span style=\"color: #7f7f7f; text-decoration-color: #7f7f7f\">player.py</span></a><span style=\"color: #7f7f7f; text-decoration-color: #7f7f7f\">:</span><a href=\"file://c:\\Users\\gufer\\OneDrive\\Documentos\\FIAP\\Fase_03\\mtg-project\\classes\\player.py#371\" target=\"_blank\"><span style=\"color: #7f7f7f; text-decoration-color: #7f7f7f\">371</span></a>\n",
       "</pre>\n"
      ],
      "text/plain": [
       "\u001b[2;36m                   \u001b[0m\u001b[2;36m \u001b[0m\u001b[33mWARNING \u001b[0m Jacqueline Page couldn't play any spells.                                \u001b]8;id=506594;file://c:\\Users\\gufer\\OneDrive\\Documentos\\FIAP\\Fase_03\\mtg-project\\classes\\player.py\u001b\\\u001b[2mplayer.py\u001b[0m\u001b]8;;\u001b\\\u001b[2m:\u001b[0m\u001b]8;id=622388;file://c:\\Users\\gufer\\OneDrive\\Documentos\\FIAP\\Fase_03\\mtg-project\\classes\\player.py#371\u001b\\\u001b[2m371\u001b[0m\u001b]8;;\u001b\\\n"
      ]
     },
     "metadata": {},
     "output_type": "display_data"
    },
    {
     "data": {
      "text/html": [
       "<pre style=\"white-space:pre;overflow-x:auto;line-height:normal;font-family:Menlo,'DejaVu Sans Mono',consolas,'Courier New',monospace\"><span style=\"color: #7fbfbf; text-decoration-color: #7fbfbf\">                    </span><span style=\"color: #808000; text-decoration-color: #808000\">WARNING </span> Jacqueline Page couldn't play any spells.                                <a href=\"file://c:\\Users\\gufer\\OneDrive\\Documentos\\FIAP\\Fase_03\\mtg-project\\classes\\player.py\" target=\"_blank\"><span style=\"color: #7f7f7f; text-decoration-color: #7f7f7f\">player.py</span></a><span style=\"color: #7f7f7f; text-decoration-color: #7f7f7f\">:</span><a href=\"file://c:\\Users\\gufer\\OneDrive\\Documentos\\FIAP\\Fase_03\\mtg-project\\classes\\player.py#371\" target=\"_blank\"><span style=\"color: #7f7f7f; text-decoration-color: #7f7f7f\">371</span></a>\n",
       "</pre>\n"
      ],
      "text/plain": [
       "\u001b[2;36m                   \u001b[0m\u001b[2;36m \u001b[0m\u001b[33mWARNING \u001b[0m Jacqueline Page couldn't play any spells.                                \u001b]8;id=388315;file://c:\\Users\\gufer\\OneDrive\\Documentos\\FIAP\\Fase_03\\mtg-project\\classes\\player.py\u001b\\\u001b[2mplayer.py\u001b[0m\u001b]8;;\u001b\\\u001b[2m:\u001b[0m\u001b]8;id=463672;file://c:\\Users\\gufer\\OneDrive\\Documentos\\FIAP\\Fase_03\\mtg-project\\classes\\player.py#371\u001b\\\u001b[2m371\u001b[0m\u001b]8;;\u001b\\\n"
      ]
     },
     "metadata": {},
     "output_type": "display_data"
    },
    {
     "data": {
      "text/html": [
       "<pre style=\"white-space:pre;overflow-x:auto;line-height:normal;font-family:Menlo,'DejaVu Sans Mono',consolas,'Courier New',monospace\"><span style=\"color: #7fbfbf; text-decoration-color: #7fbfbf\">                    </span><span style=\"color: #808000; text-decoration-color: #808000\">WARNING </span> Jacqueline Page couldn't play any spells.                                <a href=\"file://c:\\Users\\gufer\\OneDrive\\Documentos\\FIAP\\Fase_03\\mtg-project\\classes\\player.py\" target=\"_blank\"><span style=\"color: #7f7f7f; text-decoration-color: #7f7f7f\">player.py</span></a><span style=\"color: #7f7f7f; text-decoration-color: #7f7f7f\">:</span><a href=\"file://c:\\Users\\gufer\\OneDrive\\Documentos\\FIAP\\Fase_03\\mtg-project\\classes\\player.py#371\" target=\"_blank\"><span style=\"color: #7f7f7f; text-decoration-color: #7f7f7f\">371</span></a>\n",
       "</pre>\n"
      ],
      "text/plain": [
       "\u001b[2;36m                   \u001b[0m\u001b[2;36m \u001b[0m\u001b[33mWARNING \u001b[0m Jacqueline Page couldn't play any spells.                                \u001b]8;id=611024;file://c:\\Users\\gufer\\OneDrive\\Documentos\\FIAP\\Fase_03\\mtg-project\\classes\\player.py\u001b\\\u001b[2mplayer.py\u001b[0m\u001b]8;;\u001b\\\u001b[2m:\u001b[0m\u001b]8;id=628979;file://c:\\Users\\gufer\\OneDrive\\Documentos\\FIAP\\Fase_03\\mtg-project\\classes\\player.py#371\u001b\\\u001b[2m371\u001b[0m\u001b]8;;\u001b\\\n"
      ]
     },
     "metadata": {},
     "output_type": "display_data"
    },
    {
     "data": {
      "text/html": [
       "<pre style=\"white-space:pre;overflow-x:auto;line-height:normal;font-family:Menlo,'DejaVu Sans Mono',consolas,'Courier New',monospace\"><span style=\"color: #7fbfbf; text-decoration-color: #7fbfbf\">                    </span><span style=\"color: #808000; text-decoration-color: #808000\">WARNING </span> Jacqueline Page couldn't play any spells.                                <a href=\"file://c:\\Users\\gufer\\OneDrive\\Documentos\\FIAP\\Fase_03\\mtg-project\\classes\\player.py\" target=\"_blank\"><span style=\"color: #7f7f7f; text-decoration-color: #7f7f7f\">player.py</span></a><span style=\"color: #7f7f7f; text-decoration-color: #7f7f7f\">:</span><a href=\"file://c:\\Users\\gufer\\OneDrive\\Documentos\\FIAP\\Fase_03\\mtg-project\\classes\\player.py#371\" target=\"_blank\"><span style=\"color: #7f7f7f; text-decoration-color: #7f7f7f\">371</span></a>\n",
       "</pre>\n"
      ],
      "text/plain": [
       "\u001b[2;36m                   \u001b[0m\u001b[2;36m \u001b[0m\u001b[33mWARNING \u001b[0m Jacqueline Page couldn't play any spells.                                \u001b]8;id=972661;file://c:\\Users\\gufer\\OneDrive\\Documentos\\FIAP\\Fase_03\\mtg-project\\classes\\player.py\u001b\\\u001b[2mplayer.py\u001b[0m\u001b]8;;\u001b\\\u001b[2m:\u001b[0m\u001b]8;id=142909;file://c:\\Users\\gufer\\OneDrive\\Documentos\\FIAP\\Fase_03\\mtg-project\\classes\\player.py#371\u001b\\\u001b[2m371\u001b[0m\u001b]8;;\u001b\\\n"
      ]
     },
     "metadata": {},
     "output_type": "display_data"
    },
    {
     "data": {
      "text/html": [
       "<pre style=\"white-space:pre;overflow-x:auto;line-height:normal;font-family:Menlo,'DejaVu Sans Mono',consolas,'Courier New',monospace\"><span style=\"color: #7fbfbf; text-decoration-color: #7fbfbf\">                    </span><span style=\"color: #808000; text-decoration-color: #808000\">WARNING </span> Jacqueline Page couldn't play any spells.                                <a href=\"file://c:\\Users\\gufer\\OneDrive\\Documentos\\FIAP\\Fase_03\\mtg-project\\classes\\player.py\" target=\"_blank\"><span style=\"color: #7f7f7f; text-decoration-color: #7f7f7f\">player.py</span></a><span style=\"color: #7f7f7f; text-decoration-color: #7f7f7f\">:</span><a href=\"file://c:\\Users\\gufer\\OneDrive\\Documentos\\FIAP\\Fase_03\\mtg-project\\classes\\player.py#371\" target=\"_blank\"><span style=\"color: #7f7f7f; text-decoration-color: #7f7f7f\">371</span></a>\n",
       "</pre>\n"
      ],
      "text/plain": [
       "\u001b[2;36m                   \u001b[0m\u001b[2;36m \u001b[0m\u001b[33mWARNING \u001b[0m Jacqueline Page couldn't play any spells.                                \u001b]8;id=187524;file://c:\\Users\\gufer\\OneDrive\\Documentos\\FIAP\\Fase_03\\mtg-project\\classes\\player.py\u001b\\\u001b[2mplayer.py\u001b[0m\u001b]8;;\u001b\\\u001b[2m:\u001b[0m\u001b]8;id=568186;file://c:\\Users\\gufer\\OneDrive\\Documentos\\FIAP\\Fase_03\\mtg-project\\classes\\player.py#371\u001b\\\u001b[2m371\u001b[0m\u001b]8;;\u001b\\\n"
      ]
     },
     "metadata": {},
     "output_type": "display_data"
    },
    {
     "data": {
      "text/html": [
       "<pre style=\"white-space:pre;overflow-x:auto;line-height:normal;font-family:Menlo,'DejaVu Sans Mono',consolas,'Courier New',monospace\"><span style=\"color: #7fbfbf; text-decoration-color: #7fbfbf\">                    </span><span style=\"color: #808000; text-decoration-color: #808000\">WARNING </span> Jacqueline Page couldn't play any spells.                                <a href=\"file://c:\\Users\\gufer\\OneDrive\\Documentos\\FIAP\\Fase_03\\mtg-project\\classes\\player.py\" target=\"_blank\"><span style=\"color: #7f7f7f; text-decoration-color: #7f7f7f\">player.py</span></a><span style=\"color: #7f7f7f; text-decoration-color: #7f7f7f\">:</span><a href=\"file://c:\\Users\\gufer\\OneDrive\\Documentos\\FIAP\\Fase_03\\mtg-project\\classes\\player.py#371\" target=\"_blank\"><span style=\"color: #7f7f7f; text-decoration-color: #7f7f7f\">371</span></a>\n",
       "</pre>\n"
      ],
      "text/plain": [
       "\u001b[2;36m                   \u001b[0m\u001b[2;36m \u001b[0m\u001b[33mWARNING \u001b[0m Jacqueline Page couldn't play any spells.                                \u001b]8;id=209445;file://c:\\Users\\gufer\\OneDrive\\Documentos\\FIAP\\Fase_03\\mtg-project\\classes\\player.py\u001b\\\u001b[2mplayer.py\u001b[0m\u001b]8;;\u001b\\\u001b[2m:\u001b[0m\u001b]8;id=454536;file://c:\\Users\\gufer\\OneDrive\\Documentos\\FIAP\\Fase_03\\mtg-project\\classes\\player.py#371\u001b\\\u001b[2m371\u001b[0m\u001b]8;;\u001b\\\n"
      ]
     },
     "metadata": {},
     "output_type": "display_data"
    },
    {
     "data": {
      "text/html": [
       "<pre style=\"white-space:pre;overflow-x:auto;line-height:normal;font-family:Menlo,'DejaVu Sans Mono',consolas,'Courier New',monospace\"><span style=\"color: #7fbfbf; text-decoration-color: #7fbfbf\">                    </span><span style=\"color: #808000; text-decoration-color: #808000\">WARNING </span> Michael Clark couldn't play any spells.                                  <a href=\"file://c:\\Users\\gufer\\OneDrive\\Documentos\\FIAP\\Fase_03\\mtg-project\\classes\\player.py\" target=\"_blank\"><span style=\"color: #7f7f7f; text-decoration-color: #7f7f7f\">player.py</span></a><span style=\"color: #7f7f7f; text-decoration-color: #7f7f7f\">:</span><a href=\"file://c:\\Users\\gufer\\OneDrive\\Documentos\\FIAP\\Fase_03\\mtg-project\\classes\\player.py#371\" target=\"_blank\"><span style=\"color: #7f7f7f; text-decoration-color: #7f7f7f\">371</span></a>\n",
       "</pre>\n"
      ],
      "text/plain": [
       "\u001b[2;36m                   \u001b[0m\u001b[2;36m \u001b[0m\u001b[33mWARNING \u001b[0m Michael Clark couldn't play any spells.                                  \u001b]8;id=871618;file://c:\\Users\\gufer\\OneDrive\\Documentos\\FIAP\\Fase_03\\mtg-project\\classes\\player.py\u001b\\\u001b[2mplayer.py\u001b[0m\u001b]8;;\u001b\\\u001b[2m:\u001b[0m\u001b]8;id=493709;file://c:\\Users\\gufer\\OneDrive\\Documentos\\FIAP\\Fase_03\\mtg-project\\classes\\player.py#371\u001b\\\u001b[2m371\u001b[0m\u001b]8;;\u001b\\\n"
      ]
     },
     "metadata": {},
     "output_type": "display_data"
    },
    {
     "data": {
      "text/html": [
       "<pre style=\"white-space:pre;overflow-x:auto;line-height:normal;font-family:Menlo,'DejaVu Sans Mono',consolas,'Courier New',monospace\"><span style=\"color: #7fbfbf; text-decoration-color: #7fbfbf\">                    </span><span style=\"color: #808000; text-decoration-color: #808000\">WARNING </span> Michael Clark couldn't play any spells.                                  <a href=\"file://c:\\Users\\gufer\\OneDrive\\Documentos\\FIAP\\Fase_03\\mtg-project\\classes\\player.py\" target=\"_blank\"><span style=\"color: #7f7f7f; text-decoration-color: #7f7f7f\">player.py</span></a><span style=\"color: #7f7f7f; text-decoration-color: #7f7f7f\">:</span><a href=\"file://c:\\Users\\gufer\\OneDrive\\Documentos\\FIAP\\Fase_03\\mtg-project\\classes\\player.py#371\" target=\"_blank\"><span style=\"color: #7f7f7f; text-decoration-color: #7f7f7f\">371</span></a>\n",
       "</pre>\n"
      ],
      "text/plain": [
       "\u001b[2;36m                   \u001b[0m\u001b[2;36m \u001b[0m\u001b[33mWARNING \u001b[0m Michael Clark couldn't play any spells.                                  \u001b]8;id=899315;file://c:\\Users\\gufer\\OneDrive\\Documentos\\FIAP\\Fase_03\\mtg-project\\classes\\player.py\u001b\\\u001b[2mplayer.py\u001b[0m\u001b]8;;\u001b\\\u001b[2m:\u001b[0m\u001b]8;id=34629;file://c:\\Users\\gufer\\OneDrive\\Documentos\\FIAP\\Fase_03\\mtg-project\\classes\\player.py#371\u001b\\\u001b[2m371\u001b[0m\u001b]8;;\u001b\\\n"
      ]
     },
     "metadata": {},
     "output_type": "display_data"
    },
    {
     "data": {
      "text/html": [
       "<pre style=\"white-space:pre;overflow-x:auto;line-height:normal;font-family:Menlo,'DejaVu Sans Mono',consolas,'Courier New',monospace\"><span style=\"color: #7fbfbf; text-decoration-color: #7fbfbf\">                    </span><span style=\"color: #808000; text-decoration-color: #808000\">WARNING </span> Michael Clark couldn't play any spells.                                  <a href=\"file://c:\\Users\\gufer\\OneDrive\\Documentos\\FIAP\\Fase_03\\mtg-project\\classes\\player.py\" target=\"_blank\"><span style=\"color: #7f7f7f; text-decoration-color: #7f7f7f\">player.py</span></a><span style=\"color: #7f7f7f; text-decoration-color: #7f7f7f\">:</span><a href=\"file://c:\\Users\\gufer\\OneDrive\\Documentos\\FIAP\\Fase_03\\mtg-project\\classes\\player.py#371\" target=\"_blank\"><span style=\"color: #7f7f7f; text-decoration-color: #7f7f7f\">371</span></a>\n",
       "</pre>\n"
      ],
      "text/plain": [
       "\u001b[2;36m                   \u001b[0m\u001b[2;36m \u001b[0m\u001b[33mWARNING \u001b[0m Michael Clark couldn't play any spells.                                  \u001b]8;id=335579;file://c:\\Users\\gufer\\OneDrive\\Documentos\\FIAP\\Fase_03\\mtg-project\\classes\\player.py\u001b\\\u001b[2mplayer.py\u001b[0m\u001b]8;;\u001b\\\u001b[2m:\u001b[0m\u001b]8;id=346409;file://c:\\Users\\gufer\\OneDrive\\Documentos\\FIAP\\Fase_03\\mtg-project\\classes\\player.py#371\u001b\\\u001b[2m371\u001b[0m\u001b]8;;\u001b\\\n"
      ]
     },
     "metadata": {},
     "output_type": "display_data"
    },
    {
     "data": {
      "text/html": [
       "<pre style=\"white-space:pre;overflow-x:auto;line-height:normal;font-family:Menlo,'DejaVu Sans Mono',consolas,'Courier New',monospace\"><span style=\"color: #7fbfbf; text-decoration-color: #7fbfbf\">                    </span><span style=\"color: #808000; text-decoration-color: #808000\">WARNING </span> Michael Clark couldn't play any spells.                                  <a href=\"file://c:\\Users\\gufer\\OneDrive\\Documentos\\FIAP\\Fase_03\\mtg-project\\classes\\player.py\" target=\"_blank\"><span style=\"color: #7f7f7f; text-decoration-color: #7f7f7f\">player.py</span></a><span style=\"color: #7f7f7f; text-decoration-color: #7f7f7f\">:</span><a href=\"file://c:\\Users\\gufer\\OneDrive\\Documentos\\FIAP\\Fase_03\\mtg-project\\classes\\player.py#371\" target=\"_blank\"><span style=\"color: #7f7f7f; text-decoration-color: #7f7f7f\">371</span></a>\n",
       "</pre>\n"
      ],
      "text/plain": [
       "\u001b[2;36m                   \u001b[0m\u001b[2;36m \u001b[0m\u001b[33mWARNING \u001b[0m Michael Clark couldn't play any spells.                                  \u001b]8;id=391169;file://c:\\Users\\gufer\\OneDrive\\Documentos\\FIAP\\Fase_03\\mtg-project\\classes\\player.py\u001b\\\u001b[2mplayer.py\u001b[0m\u001b]8;;\u001b\\\u001b[2m:\u001b[0m\u001b]8;id=372743;file://c:\\Users\\gufer\\OneDrive\\Documentos\\FIAP\\Fase_03\\mtg-project\\classes\\player.py#371\u001b\\\u001b[2m371\u001b[0m\u001b]8;;\u001b\\\n"
      ]
     },
     "metadata": {},
     "output_type": "display_data"
    },
    {
     "data": {
      "text/html": [
       "<pre style=\"white-space:pre;overflow-x:auto;line-height:normal;font-family:Menlo,'DejaVu Sans Mono',consolas,'Courier New',monospace\"><span style=\"color: #7fbfbf; text-decoration-color: #7fbfbf\">                    </span><span style=\"color: #808000; text-decoration-color: #808000\">WARNING </span> Michael Clark couldn't play any spells.                                  <a href=\"file://c:\\Users\\gufer\\OneDrive\\Documentos\\FIAP\\Fase_03\\mtg-project\\classes\\player.py\" target=\"_blank\"><span style=\"color: #7f7f7f; text-decoration-color: #7f7f7f\">player.py</span></a><span style=\"color: #7f7f7f; text-decoration-color: #7f7f7f\">:</span><a href=\"file://c:\\Users\\gufer\\OneDrive\\Documentos\\FIAP\\Fase_03\\mtg-project\\classes\\player.py#371\" target=\"_blank\"><span style=\"color: #7f7f7f; text-decoration-color: #7f7f7f\">371</span></a>\n",
       "</pre>\n"
      ],
      "text/plain": [
       "\u001b[2;36m                   \u001b[0m\u001b[2;36m \u001b[0m\u001b[33mWARNING \u001b[0m Michael Clark couldn't play any spells.                                  \u001b]8;id=522699;file://c:\\Users\\gufer\\OneDrive\\Documentos\\FIAP\\Fase_03\\mtg-project\\classes\\player.py\u001b\\\u001b[2mplayer.py\u001b[0m\u001b]8;;\u001b\\\u001b[2m:\u001b[0m\u001b]8;id=257943;file://c:\\Users\\gufer\\OneDrive\\Documentos\\FIAP\\Fase_03\\mtg-project\\classes\\player.py#371\u001b\\\u001b[2m371\u001b[0m\u001b]8;;\u001b\\\n"
      ]
     },
     "metadata": {},
     "output_type": "display_data"
    },
    {
     "data": {
      "text/html": [
       "<pre style=\"white-space:pre;overflow-x:auto;line-height:normal;font-family:Menlo,'DejaVu Sans Mono',consolas,'Courier New',monospace\"><span style=\"color: #7fbfbf; text-decoration-color: #7fbfbf\">                    </span><span style=\"color: #808000; text-decoration-color: #808000\">WARNING </span> Michael Clark couldn't play any spells.                                  <a href=\"file://c:\\Users\\gufer\\OneDrive\\Documentos\\FIAP\\Fase_03\\mtg-project\\classes\\player.py\" target=\"_blank\"><span style=\"color: #7f7f7f; text-decoration-color: #7f7f7f\">player.py</span></a><span style=\"color: #7f7f7f; text-decoration-color: #7f7f7f\">:</span><a href=\"file://c:\\Users\\gufer\\OneDrive\\Documentos\\FIAP\\Fase_03\\mtg-project\\classes\\player.py#371\" target=\"_blank\"><span style=\"color: #7f7f7f; text-decoration-color: #7f7f7f\">371</span></a>\n",
       "</pre>\n"
      ],
      "text/plain": [
       "\u001b[2;36m                   \u001b[0m\u001b[2;36m \u001b[0m\u001b[33mWARNING \u001b[0m Michael Clark couldn't play any spells.                                  \u001b]8;id=58618;file://c:\\Users\\gufer\\OneDrive\\Documentos\\FIAP\\Fase_03\\mtg-project\\classes\\player.py\u001b\\\u001b[2mplayer.py\u001b[0m\u001b]8;;\u001b\\\u001b[2m:\u001b[0m\u001b]8;id=665762;file://c:\\Users\\gufer\\OneDrive\\Documentos\\FIAP\\Fase_03\\mtg-project\\classes\\player.py#371\u001b\\\u001b[2m371\u001b[0m\u001b]8;;\u001b\\\n"
      ]
     },
     "metadata": {},
     "output_type": "display_data"
    },
    {
     "data": {
      "text/html": [
       "<pre style=\"white-space:pre;overflow-x:auto;line-height:normal;font-family:Menlo,'DejaVu Sans Mono',consolas,'Courier New',monospace\"><span style=\"color: #7fbfbf; text-decoration-color: #7fbfbf\">                    </span><span style=\"color: #808000; text-decoration-color: #808000\">WARNING </span> Michael Clark couldn't play any spells.                                  <a href=\"file://c:\\Users\\gufer\\OneDrive\\Documentos\\FIAP\\Fase_03\\mtg-project\\classes\\player.py\" target=\"_blank\"><span style=\"color: #7f7f7f; text-decoration-color: #7f7f7f\">player.py</span></a><span style=\"color: #7f7f7f; text-decoration-color: #7f7f7f\">:</span><a href=\"file://c:\\Users\\gufer\\OneDrive\\Documentos\\FIAP\\Fase_03\\mtg-project\\classes\\player.py#371\" target=\"_blank\"><span style=\"color: #7f7f7f; text-decoration-color: #7f7f7f\">371</span></a>\n",
       "</pre>\n"
      ],
      "text/plain": [
       "\u001b[2;36m                   \u001b[0m\u001b[2;36m \u001b[0m\u001b[33mWARNING \u001b[0m Michael Clark couldn't play any spells.                                  \u001b]8;id=826875;file://c:\\Users\\gufer\\OneDrive\\Documentos\\FIAP\\Fase_03\\mtg-project\\classes\\player.py\u001b\\\u001b[2mplayer.py\u001b[0m\u001b]8;;\u001b\\\u001b[2m:\u001b[0m\u001b]8;id=646975;file://c:\\Users\\gufer\\OneDrive\\Documentos\\FIAP\\Fase_03\\mtg-project\\classes\\player.py#371\u001b\\\u001b[2m371\u001b[0m\u001b]8;;\u001b\\\n"
      ]
     },
     "metadata": {},
     "output_type": "display_data"
    },
    {
     "data": {
      "text/html": [
       "<pre style=\"white-space:pre;overflow-x:auto;line-height:normal;font-family:Menlo,'DejaVu Sans Mono',consolas,'Courier New',monospace\"><span style=\"color: #7fbfbf; text-decoration-color: #7fbfbf\">                    </span><span style=\"color: #808000; text-decoration-color: #808000\">WARNING </span> Michael Clark couldn't play any spells.                                  <a href=\"file://c:\\Users\\gufer\\OneDrive\\Documentos\\FIAP\\Fase_03\\mtg-project\\classes\\player.py\" target=\"_blank\"><span style=\"color: #7f7f7f; text-decoration-color: #7f7f7f\">player.py</span></a><span style=\"color: #7f7f7f; text-decoration-color: #7f7f7f\">:</span><a href=\"file://c:\\Users\\gufer\\OneDrive\\Documentos\\FIAP\\Fase_03\\mtg-project\\classes\\player.py#371\" target=\"_blank\"><span style=\"color: #7f7f7f; text-decoration-color: #7f7f7f\">371</span></a>\n",
       "</pre>\n"
      ],
      "text/plain": [
       "\u001b[2;36m                   \u001b[0m\u001b[2;36m \u001b[0m\u001b[33mWARNING \u001b[0m Michael Clark couldn't play any spells.                                  \u001b]8;id=600146;file://c:\\Users\\gufer\\OneDrive\\Documentos\\FIAP\\Fase_03\\mtg-project\\classes\\player.py\u001b\\\u001b[2mplayer.py\u001b[0m\u001b]8;;\u001b\\\u001b[2m:\u001b[0m\u001b]8;id=235470;file://c:\\Users\\gufer\\OneDrive\\Documentos\\FIAP\\Fase_03\\mtg-project\\classes\\player.py#371\u001b\\\u001b[2m371\u001b[0m\u001b]8;;\u001b\\\n"
      ]
     },
     "metadata": {},
     "output_type": "display_data"
    },
    {
     "data": {
      "text/html": [
       "<pre style=\"white-space:pre;overflow-x:auto;line-height:normal;font-family:Menlo,'DejaVu Sans Mono',consolas,'Courier New',monospace\"><span style=\"color: #7fbfbf; text-decoration-color: #7fbfbf\">                    </span><span style=\"color: #808000; text-decoration-color: #808000\">WARNING </span> Chelsea Bowen couldn't play any spells.                                  <a href=\"file://c:\\Users\\gufer\\OneDrive\\Documentos\\FIAP\\Fase_03\\mtg-project\\classes\\player.py\" target=\"_blank\"><span style=\"color: #7f7f7f; text-decoration-color: #7f7f7f\">player.py</span></a><span style=\"color: #7f7f7f; text-decoration-color: #7f7f7f\">:</span><a href=\"file://c:\\Users\\gufer\\OneDrive\\Documentos\\FIAP\\Fase_03\\mtg-project\\classes\\player.py#371\" target=\"_blank\"><span style=\"color: #7f7f7f; text-decoration-color: #7f7f7f\">371</span></a>\n",
       "</pre>\n"
      ],
      "text/plain": [
       "\u001b[2;36m                   \u001b[0m\u001b[2;36m \u001b[0m\u001b[33mWARNING \u001b[0m Chelsea Bowen couldn't play any spells.                                  \u001b]8;id=990902;file://c:\\Users\\gufer\\OneDrive\\Documentos\\FIAP\\Fase_03\\mtg-project\\classes\\player.py\u001b\\\u001b[2mplayer.py\u001b[0m\u001b]8;;\u001b\\\u001b[2m:\u001b[0m\u001b]8;id=194742;file://c:\\Users\\gufer\\OneDrive\\Documentos\\FIAP\\Fase_03\\mtg-project\\classes\\player.py#371\u001b\\\u001b[2m371\u001b[0m\u001b]8;;\u001b\\\n"
      ]
     },
     "metadata": {},
     "output_type": "display_data"
    },
    {
     "data": {
      "text/html": [
       "<pre style=\"white-space:pre;overflow-x:auto;line-height:normal;font-family:Menlo,'DejaVu Sans Mono',consolas,'Courier New',monospace\"><span style=\"color: #7fbfbf; text-decoration-color: #7fbfbf\">                    </span><span style=\"color: #808000; text-decoration-color: #808000\">WARNING </span> Chelsea Bowen couldn't play any spells.                                  <a href=\"file://c:\\Users\\gufer\\OneDrive\\Documentos\\FIAP\\Fase_03\\mtg-project\\classes\\player.py\" target=\"_blank\"><span style=\"color: #7f7f7f; text-decoration-color: #7f7f7f\">player.py</span></a><span style=\"color: #7f7f7f; text-decoration-color: #7f7f7f\">:</span><a href=\"file://c:\\Users\\gufer\\OneDrive\\Documentos\\FIAP\\Fase_03\\mtg-project\\classes\\player.py#371\" target=\"_blank\"><span style=\"color: #7f7f7f; text-decoration-color: #7f7f7f\">371</span></a>\n",
       "</pre>\n"
      ],
      "text/plain": [
       "\u001b[2;36m                   \u001b[0m\u001b[2;36m \u001b[0m\u001b[33mWARNING \u001b[0m Chelsea Bowen couldn't play any spells.                                  \u001b]8;id=205614;file://c:\\Users\\gufer\\OneDrive\\Documentos\\FIAP\\Fase_03\\mtg-project\\classes\\player.py\u001b\\\u001b[2mplayer.py\u001b[0m\u001b]8;;\u001b\\\u001b[2m:\u001b[0m\u001b]8;id=852376;file://c:\\Users\\gufer\\OneDrive\\Documentos\\FIAP\\Fase_03\\mtg-project\\classes\\player.py#371\u001b\\\u001b[2m371\u001b[0m\u001b]8;;\u001b\\\n"
      ]
     },
     "metadata": {},
     "output_type": "display_data"
    },
    {
     "data": {
      "text/html": [
       "<pre style=\"white-space:pre;overflow-x:auto;line-height:normal;font-family:Menlo,'DejaVu Sans Mono',consolas,'Courier New',monospace\"><span style=\"color: #7fbfbf; text-decoration-color: #7fbfbf\">                    </span><span style=\"color: #808000; text-decoration-color: #808000\">WARNING </span> Chelsea Bowen couldn't play any spells.                                  <a href=\"file://c:\\Users\\gufer\\OneDrive\\Documentos\\FIAP\\Fase_03\\mtg-project\\classes\\player.py\" target=\"_blank\"><span style=\"color: #7f7f7f; text-decoration-color: #7f7f7f\">player.py</span></a><span style=\"color: #7f7f7f; text-decoration-color: #7f7f7f\">:</span><a href=\"file://c:\\Users\\gufer\\OneDrive\\Documentos\\FIAP\\Fase_03\\mtg-project\\classes\\player.py#371\" target=\"_blank\"><span style=\"color: #7f7f7f; text-decoration-color: #7f7f7f\">371</span></a>\n",
       "</pre>\n"
      ],
      "text/plain": [
       "\u001b[2;36m                   \u001b[0m\u001b[2;36m \u001b[0m\u001b[33mWARNING \u001b[0m Chelsea Bowen couldn't play any spells.                                  \u001b]8;id=96148;file://c:\\Users\\gufer\\OneDrive\\Documentos\\FIAP\\Fase_03\\mtg-project\\classes\\player.py\u001b\\\u001b[2mplayer.py\u001b[0m\u001b]8;;\u001b\\\u001b[2m:\u001b[0m\u001b]8;id=275709;file://c:\\Users\\gufer\\OneDrive\\Documentos\\FIAP\\Fase_03\\mtg-project\\classes\\player.py#371\u001b\\\u001b[2m371\u001b[0m\u001b]8;;\u001b\\\n"
      ]
     },
     "metadata": {},
     "output_type": "display_data"
    },
    {
     "data": {
      "text/html": [
       "<pre style=\"white-space:pre;overflow-x:auto;line-height:normal;font-family:Menlo,'DejaVu Sans Mono',consolas,'Courier New',monospace\"><span style=\"color: #7fbfbf; text-decoration-color: #7fbfbf\">                    </span><span style=\"color: #808000; text-decoration-color: #808000\">WARNING </span> Chelsea Bowen couldn't play any spells.                                  <a href=\"file://c:\\Users\\gufer\\OneDrive\\Documentos\\FIAP\\Fase_03\\mtg-project\\classes\\player.py\" target=\"_blank\"><span style=\"color: #7f7f7f; text-decoration-color: #7f7f7f\">player.py</span></a><span style=\"color: #7f7f7f; text-decoration-color: #7f7f7f\">:</span><a href=\"file://c:\\Users\\gufer\\OneDrive\\Documentos\\FIAP\\Fase_03\\mtg-project\\classes\\player.py#371\" target=\"_blank\"><span style=\"color: #7f7f7f; text-decoration-color: #7f7f7f\">371</span></a>\n",
       "</pre>\n"
      ],
      "text/plain": [
       "\u001b[2;36m                   \u001b[0m\u001b[2;36m \u001b[0m\u001b[33mWARNING \u001b[0m Chelsea Bowen couldn't play any spells.                                  \u001b]8;id=357444;file://c:\\Users\\gufer\\OneDrive\\Documentos\\FIAP\\Fase_03\\mtg-project\\classes\\player.py\u001b\\\u001b[2mplayer.py\u001b[0m\u001b]8;;\u001b\\\u001b[2m:\u001b[0m\u001b]8;id=461594;file://c:\\Users\\gufer\\OneDrive\\Documentos\\FIAP\\Fase_03\\mtg-project\\classes\\player.py#371\u001b\\\u001b[2m371\u001b[0m\u001b]8;;\u001b\\\n"
      ]
     },
     "metadata": {},
     "output_type": "display_data"
    },
    {
     "data": {
      "text/html": [
       "<pre style=\"white-space:pre;overflow-x:auto;line-height:normal;font-family:Menlo,'DejaVu Sans Mono',consolas,'Courier New',monospace\"><span style=\"color: #7fbfbf; text-decoration-color: #7fbfbf\">                    </span><span style=\"color: #808000; text-decoration-color: #808000\">WARNING </span> Chelsea Bowen couldn't play any spells.                                  <a href=\"file://c:\\Users\\gufer\\OneDrive\\Documentos\\FIAP\\Fase_03\\mtg-project\\classes\\player.py\" target=\"_blank\"><span style=\"color: #7f7f7f; text-decoration-color: #7f7f7f\">player.py</span></a><span style=\"color: #7f7f7f; text-decoration-color: #7f7f7f\">:</span><a href=\"file://c:\\Users\\gufer\\OneDrive\\Documentos\\FIAP\\Fase_03\\mtg-project\\classes\\player.py#371\" target=\"_blank\"><span style=\"color: #7f7f7f; text-decoration-color: #7f7f7f\">371</span></a>\n",
       "</pre>\n"
      ],
      "text/plain": [
       "\u001b[2;36m                   \u001b[0m\u001b[2;36m \u001b[0m\u001b[33mWARNING \u001b[0m Chelsea Bowen couldn't play any spells.                                  \u001b]8;id=314161;file://c:\\Users\\gufer\\OneDrive\\Documentos\\FIAP\\Fase_03\\mtg-project\\classes\\player.py\u001b\\\u001b[2mplayer.py\u001b[0m\u001b]8;;\u001b\\\u001b[2m:\u001b[0m\u001b]8;id=508930;file://c:\\Users\\gufer\\OneDrive\\Documentos\\FIAP\\Fase_03\\mtg-project\\classes\\player.py#371\u001b\\\u001b[2m371\u001b[0m\u001b]8;;\u001b\\\n"
      ]
     },
     "metadata": {},
     "output_type": "display_data"
    },
    {
     "data": {
      "text/html": [
       "<pre style=\"white-space:pre;overflow-x:auto;line-height:normal;font-family:Menlo,'DejaVu Sans Mono',consolas,'Courier New',monospace\"><span style=\"color: #7fbfbf; text-decoration-color: #7fbfbf\">                    </span><span style=\"color: #808000; text-decoration-color: #808000\">WARNING </span> Chelsea Bowen couldn't play any spells.                                  <a href=\"file://c:\\Users\\gufer\\OneDrive\\Documentos\\FIAP\\Fase_03\\mtg-project\\classes\\player.py\" target=\"_blank\"><span style=\"color: #7f7f7f; text-decoration-color: #7f7f7f\">player.py</span></a><span style=\"color: #7f7f7f; text-decoration-color: #7f7f7f\">:</span><a href=\"file://c:\\Users\\gufer\\OneDrive\\Documentos\\FIAP\\Fase_03\\mtg-project\\classes\\player.py#371\" target=\"_blank\"><span style=\"color: #7f7f7f; text-decoration-color: #7f7f7f\">371</span></a>\n",
       "</pre>\n"
      ],
      "text/plain": [
       "\u001b[2;36m                   \u001b[0m\u001b[2;36m \u001b[0m\u001b[33mWARNING \u001b[0m Chelsea Bowen couldn't play any spells.                                  \u001b]8;id=830226;file://c:\\Users\\gufer\\OneDrive\\Documentos\\FIAP\\Fase_03\\mtg-project\\classes\\player.py\u001b\\\u001b[2mplayer.py\u001b[0m\u001b]8;;\u001b\\\u001b[2m:\u001b[0m\u001b]8;id=511807;file://c:\\Users\\gufer\\OneDrive\\Documentos\\FIAP\\Fase_03\\mtg-project\\classes\\player.py#371\u001b\\\u001b[2m371\u001b[0m\u001b]8;;\u001b\\\n"
      ]
     },
     "metadata": {},
     "output_type": "display_data"
    },
    {
     "data": {
      "text/html": [
       "<pre style=\"white-space:pre;overflow-x:auto;line-height:normal;font-family:Menlo,'DejaVu Sans Mono',consolas,'Courier New',monospace\"><span style=\"color: #7fbfbf; text-decoration-color: #7fbfbf\">                    </span><span style=\"color: #808000; text-decoration-color: #808000\">WARNING </span> Chelsea Bowen couldn't play any spells.                                  <a href=\"file://c:\\Users\\gufer\\OneDrive\\Documentos\\FIAP\\Fase_03\\mtg-project\\classes\\player.py\" target=\"_blank\"><span style=\"color: #7f7f7f; text-decoration-color: #7f7f7f\">player.py</span></a><span style=\"color: #7f7f7f; text-decoration-color: #7f7f7f\">:</span><a href=\"file://c:\\Users\\gufer\\OneDrive\\Documentos\\FIAP\\Fase_03\\mtg-project\\classes\\player.py#371\" target=\"_blank\"><span style=\"color: #7f7f7f; text-decoration-color: #7f7f7f\">371</span></a>\n",
       "</pre>\n"
      ],
      "text/plain": [
       "\u001b[2;36m                   \u001b[0m\u001b[2;36m \u001b[0m\u001b[33mWARNING \u001b[0m Chelsea Bowen couldn't play any spells.                                  \u001b]8;id=38828;file://c:\\Users\\gufer\\OneDrive\\Documentos\\FIAP\\Fase_03\\mtg-project\\classes\\player.py\u001b\\\u001b[2mplayer.py\u001b[0m\u001b]8;;\u001b\\\u001b[2m:\u001b[0m\u001b]8;id=190501;file://c:\\Users\\gufer\\OneDrive\\Documentos\\FIAP\\Fase_03\\mtg-project\\classes\\player.py#371\u001b\\\u001b[2m371\u001b[0m\u001b]8;;\u001b\\\n"
      ]
     },
     "metadata": {},
     "output_type": "display_data"
    },
    {
     "data": {
      "text/html": [
       "<pre style=\"white-space:pre;overflow-x:auto;line-height:normal;font-family:Menlo,'DejaVu Sans Mono',consolas,'Courier New',monospace\"><span style=\"color: #7fbfbf; text-decoration-color: #7fbfbf\">                    </span><span style=\"color: #808000; text-decoration-color: #808000\">WARNING </span> Chelsea Bowen couldn't play any spells.                                  <a href=\"file://c:\\Users\\gufer\\OneDrive\\Documentos\\FIAP\\Fase_03\\mtg-project\\classes\\player.py\" target=\"_blank\"><span style=\"color: #7f7f7f; text-decoration-color: #7f7f7f\">player.py</span></a><span style=\"color: #7f7f7f; text-decoration-color: #7f7f7f\">:</span><a href=\"file://c:\\Users\\gufer\\OneDrive\\Documentos\\FIAP\\Fase_03\\mtg-project\\classes\\player.py#371\" target=\"_blank\"><span style=\"color: #7f7f7f; text-decoration-color: #7f7f7f\">371</span></a>\n",
       "</pre>\n"
      ],
      "text/plain": [
       "\u001b[2;36m                   \u001b[0m\u001b[2;36m \u001b[0m\u001b[33mWARNING \u001b[0m Chelsea Bowen couldn't play any spells.                                  \u001b]8;id=125378;file://c:\\Users\\gufer\\OneDrive\\Documentos\\FIAP\\Fase_03\\mtg-project\\classes\\player.py\u001b\\\u001b[2mplayer.py\u001b[0m\u001b]8;;\u001b\\\u001b[2m:\u001b[0m\u001b]8;id=393354;file://c:\\Users\\gufer\\OneDrive\\Documentos\\FIAP\\Fase_03\\mtg-project\\classes\\player.py#371\u001b\\\u001b[2m371\u001b[0m\u001b]8;;\u001b\\\n"
      ]
     },
     "metadata": {},
     "output_type": "display_data"
    },
    {
     "data": {
      "text/html": [
       "<pre style=\"white-space:pre;overflow-x:auto;line-height:normal;font-family:Menlo,'DejaVu Sans Mono',consolas,'Courier New',monospace\"><span style=\"color: #7fbfbf; text-decoration-color: #7fbfbf\">                    </span><span style=\"color: #808000; text-decoration-color: #808000\">WARNING </span> Chelsea Bowen couldn't play any spells.                                  <a href=\"file://c:\\Users\\gufer\\OneDrive\\Documentos\\FIAP\\Fase_03\\mtg-project\\classes\\player.py\" target=\"_blank\"><span style=\"color: #7f7f7f; text-decoration-color: #7f7f7f\">player.py</span></a><span style=\"color: #7f7f7f; text-decoration-color: #7f7f7f\">:</span><a href=\"file://c:\\Users\\gufer\\OneDrive\\Documentos\\FIAP\\Fase_03\\mtg-project\\classes\\player.py#371\" target=\"_blank\"><span style=\"color: #7f7f7f; text-decoration-color: #7f7f7f\">371</span></a>\n",
       "</pre>\n"
      ],
      "text/plain": [
       "\u001b[2;36m                   \u001b[0m\u001b[2;36m \u001b[0m\u001b[33mWARNING \u001b[0m Chelsea Bowen couldn't play any spells.                                  \u001b]8;id=539400;file://c:\\Users\\gufer\\OneDrive\\Documentos\\FIAP\\Fase_03\\mtg-project\\classes\\player.py\u001b\\\u001b[2mplayer.py\u001b[0m\u001b]8;;\u001b\\\u001b[2m:\u001b[0m\u001b]8;id=315890;file://c:\\Users\\gufer\\OneDrive\\Documentos\\FIAP\\Fase_03\\mtg-project\\classes\\player.py#371\u001b\\\u001b[2m371\u001b[0m\u001b]8;;\u001b\\\n"
      ]
     },
     "metadata": {},
     "output_type": "display_data"
    },
    {
     "data": {
      "text/html": [
       "<pre style=\"white-space:pre;overflow-x:auto;line-height:normal;font-family:Menlo,'DejaVu Sans Mono',consolas,'Courier New',monospace\"><span style=\"color: #7fbfbf; text-decoration-color: #7fbfbf\">                    </span><span style=\"color: #808000; text-decoration-color: #808000\">WARNING </span> Chelsea Bowen couldn't play any spells.                                  <a href=\"file://c:\\Users\\gufer\\OneDrive\\Documentos\\FIAP\\Fase_03\\mtg-project\\classes\\player.py\" target=\"_blank\"><span style=\"color: #7f7f7f; text-decoration-color: #7f7f7f\">player.py</span></a><span style=\"color: #7f7f7f; text-decoration-color: #7f7f7f\">:</span><a href=\"file://c:\\Users\\gufer\\OneDrive\\Documentos\\FIAP\\Fase_03\\mtg-project\\classes\\player.py#371\" target=\"_blank\"><span style=\"color: #7f7f7f; text-decoration-color: #7f7f7f\">371</span></a>\n",
       "</pre>\n"
      ],
      "text/plain": [
       "\u001b[2;36m                   \u001b[0m\u001b[2;36m \u001b[0m\u001b[33mWARNING \u001b[0m Chelsea Bowen couldn't play any spells.                                  \u001b]8;id=366470;file://c:\\Users\\gufer\\OneDrive\\Documentos\\FIAP\\Fase_03\\mtg-project\\classes\\player.py\u001b\\\u001b[2mplayer.py\u001b[0m\u001b]8;;\u001b\\\u001b[2m:\u001b[0m\u001b]8;id=691916;file://c:\\Users\\gufer\\OneDrive\\Documentos\\FIAP\\Fase_03\\mtg-project\\classes\\player.py#371\u001b\\\u001b[2m371\u001b[0m\u001b]8;;\u001b\\\n"
      ]
     },
     "metadata": {},
     "output_type": "display_data"
    },
    {
     "data": {
      "text/html": [
       "<pre style=\"white-space:pre;overflow-x:auto;line-height:normal;font-family:Menlo,'DejaVu Sans Mono',consolas,'Courier New',monospace\"><span style=\"color: #7fbfbf; text-decoration-color: #7fbfbf\">                    </span><span style=\"color: #808000; text-decoration-color: #808000\">WARNING </span> Chelsea Bowen couldn't play any spells.                                  <a href=\"file://c:\\Users\\gufer\\OneDrive\\Documentos\\FIAP\\Fase_03\\mtg-project\\classes\\player.py\" target=\"_blank\"><span style=\"color: #7f7f7f; text-decoration-color: #7f7f7f\">player.py</span></a><span style=\"color: #7f7f7f; text-decoration-color: #7f7f7f\">:</span><a href=\"file://c:\\Users\\gufer\\OneDrive\\Documentos\\FIAP\\Fase_03\\mtg-project\\classes\\player.py#371\" target=\"_blank\"><span style=\"color: #7f7f7f; text-decoration-color: #7f7f7f\">371</span></a>\n",
       "</pre>\n"
      ],
      "text/plain": [
       "\u001b[2;36m                   \u001b[0m\u001b[2;36m \u001b[0m\u001b[33mWARNING \u001b[0m Chelsea Bowen couldn't play any spells.                                  \u001b]8;id=875733;file://c:\\Users\\gufer\\OneDrive\\Documentos\\FIAP\\Fase_03\\mtg-project\\classes\\player.py\u001b\\\u001b[2mplayer.py\u001b[0m\u001b]8;;\u001b\\\u001b[2m:\u001b[0m\u001b]8;id=525363;file://c:\\Users\\gufer\\OneDrive\\Documentos\\FIAP\\Fase_03\\mtg-project\\classes\\player.py#371\u001b\\\u001b[2m371\u001b[0m\u001b]8;;\u001b\\\n"
      ]
     },
     "metadata": {},
     "output_type": "display_data"
    },
    {
     "data": {
      "text/html": [
       "<pre style=\"white-space:pre;overflow-x:auto;line-height:normal;font-family:Menlo,'DejaVu Sans Mono',consolas,'Courier New',monospace\"><span style=\"color: #7fbfbf; text-decoration-color: #7fbfbf\">                    </span><span style=\"color: #808000; text-decoration-color: #808000\">WARNING </span> Chelsea Bowen couldn't play any spells.                                  <a href=\"file://c:\\Users\\gufer\\OneDrive\\Documentos\\FIAP\\Fase_03\\mtg-project\\classes\\player.py\" target=\"_blank\"><span style=\"color: #7f7f7f; text-decoration-color: #7f7f7f\">player.py</span></a><span style=\"color: #7f7f7f; text-decoration-color: #7f7f7f\">:</span><a href=\"file://c:\\Users\\gufer\\OneDrive\\Documentos\\FIAP\\Fase_03\\mtg-project\\classes\\player.py#371\" target=\"_blank\"><span style=\"color: #7f7f7f; text-decoration-color: #7f7f7f\">371</span></a>\n",
       "</pre>\n"
      ],
      "text/plain": [
       "\u001b[2;36m                   \u001b[0m\u001b[2;36m \u001b[0m\u001b[33mWARNING \u001b[0m Chelsea Bowen couldn't play any spells.                                  \u001b]8;id=453329;file://c:\\Users\\gufer\\OneDrive\\Documentos\\FIAP\\Fase_03\\mtg-project\\classes\\player.py\u001b\\\u001b[2mplayer.py\u001b[0m\u001b]8;;\u001b\\\u001b[2m:\u001b[0m\u001b]8;id=430528;file://c:\\Users\\gufer\\OneDrive\\Documentos\\FIAP\\Fase_03\\mtg-project\\classes\\player.py#371\u001b\\\u001b[2m371\u001b[0m\u001b]8;;\u001b\\\n"
      ]
     },
     "metadata": {},
     "output_type": "display_data"
    },
    {
     "data": {
      "text/html": [
       "<pre style=\"white-space:pre;overflow-x:auto;line-height:normal;font-family:Menlo,'DejaVu Sans Mono',consolas,'Courier New',monospace\"><span style=\"color: #7fbfbf; text-decoration-color: #7fbfbf\">                    </span><span style=\"color: #808000; text-decoration-color: #808000\">WARNING </span> Chelsea Bowen couldn't play any spells.                                  <a href=\"file://c:\\Users\\gufer\\OneDrive\\Documentos\\FIAP\\Fase_03\\mtg-project\\classes\\player.py\" target=\"_blank\"><span style=\"color: #7f7f7f; text-decoration-color: #7f7f7f\">player.py</span></a><span style=\"color: #7f7f7f; text-decoration-color: #7f7f7f\">:</span><a href=\"file://c:\\Users\\gufer\\OneDrive\\Documentos\\FIAP\\Fase_03\\mtg-project\\classes\\player.py#371\" target=\"_blank\"><span style=\"color: #7f7f7f; text-decoration-color: #7f7f7f\">371</span></a>\n",
       "</pre>\n"
      ],
      "text/plain": [
       "\u001b[2;36m                   \u001b[0m\u001b[2;36m \u001b[0m\u001b[33mWARNING \u001b[0m Chelsea Bowen couldn't play any spells.                                  \u001b]8;id=188662;file://c:\\Users\\gufer\\OneDrive\\Documentos\\FIAP\\Fase_03\\mtg-project\\classes\\player.py\u001b\\\u001b[2mplayer.py\u001b[0m\u001b]8;;\u001b\\\u001b[2m:\u001b[0m\u001b]8;id=55430;file://c:\\Users\\gufer\\OneDrive\\Documentos\\FIAP\\Fase_03\\mtg-project\\classes\\player.py#371\u001b\\\u001b[2m371\u001b[0m\u001b]8;;\u001b\\\n"
      ]
     },
     "metadata": {},
     "output_type": "display_data"
    },
    {
     "data": {
      "text/html": [
       "<pre style=\"white-space:pre;overflow-x:auto;line-height:normal;font-family:Menlo,'DejaVu Sans Mono',consolas,'Courier New',monospace\"><span style=\"color: #7fbfbf; text-decoration-color: #7fbfbf\">                    </span><span style=\"color: #808000; text-decoration-color: #808000\">WARNING </span> Chelsea Bowen couldn't play any spells.                                  <a href=\"file://c:\\Users\\gufer\\OneDrive\\Documentos\\FIAP\\Fase_03\\mtg-project\\classes\\player.py\" target=\"_blank\"><span style=\"color: #7f7f7f; text-decoration-color: #7f7f7f\">player.py</span></a><span style=\"color: #7f7f7f; text-decoration-color: #7f7f7f\">:</span><a href=\"file://c:\\Users\\gufer\\OneDrive\\Documentos\\FIAP\\Fase_03\\mtg-project\\classes\\player.py#371\" target=\"_blank\"><span style=\"color: #7f7f7f; text-decoration-color: #7f7f7f\">371</span></a>\n",
       "</pre>\n"
      ],
      "text/plain": [
       "\u001b[2;36m                   \u001b[0m\u001b[2;36m \u001b[0m\u001b[33mWARNING \u001b[0m Chelsea Bowen couldn't play any spells.                                  \u001b]8;id=726916;file://c:\\Users\\gufer\\OneDrive\\Documentos\\FIAP\\Fase_03\\mtg-project\\classes\\player.py\u001b\\\u001b[2mplayer.py\u001b[0m\u001b]8;;\u001b\\\u001b[2m:\u001b[0m\u001b]8;id=159587;file://c:\\Users\\gufer\\OneDrive\\Documentos\\FIAP\\Fase_03\\mtg-project\\classes\\player.py#371\u001b\\\u001b[2m371\u001b[0m\u001b]8;;\u001b\\\n"
      ]
     },
     "metadata": {},
     "output_type": "display_data"
    },
    {
     "data": {
      "text/html": [
       "<pre style=\"white-space:pre;overflow-x:auto;line-height:normal;font-family:Menlo,'DejaVu Sans Mono',consolas,'Courier New',monospace\"><span style=\"color: #7fbfbf; text-decoration-color: #7fbfbf\">                    </span><span style=\"color: #808000; text-decoration-color: #808000\">WARNING </span> Chelsea Bowen couldn't play any spells.                                  <a href=\"file://c:\\Users\\gufer\\OneDrive\\Documentos\\FIAP\\Fase_03\\mtg-project\\classes\\player.py\" target=\"_blank\"><span style=\"color: #7f7f7f; text-decoration-color: #7f7f7f\">player.py</span></a><span style=\"color: #7f7f7f; text-decoration-color: #7f7f7f\">:</span><a href=\"file://c:\\Users\\gufer\\OneDrive\\Documentos\\FIAP\\Fase_03\\mtg-project\\classes\\player.py#371\" target=\"_blank\"><span style=\"color: #7f7f7f; text-decoration-color: #7f7f7f\">371</span></a>\n",
       "</pre>\n"
      ],
      "text/plain": [
       "\u001b[2;36m                   \u001b[0m\u001b[2;36m \u001b[0m\u001b[33mWARNING \u001b[0m Chelsea Bowen couldn't play any spells.                                  \u001b]8;id=123767;file://c:\\Users\\gufer\\OneDrive\\Documentos\\FIAP\\Fase_03\\mtg-project\\classes\\player.py\u001b\\\u001b[2mplayer.py\u001b[0m\u001b]8;;\u001b\\\u001b[2m:\u001b[0m\u001b]8;id=748802;file://c:\\Users\\gufer\\OneDrive\\Documentos\\FIAP\\Fase_03\\mtg-project\\classes\\player.py#371\u001b\\\u001b[2m371\u001b[0m\u001b]8;;\u001b\\\n"
      ]
     },
     "metadata": {},
     "output_type": "display_data"
    },
    {
     "data": {
      "text/html": [
       "<pre style=\"white-space:pre;overflow-x:auto;line-height:normal;font-family:Menlo,'DejaVu Sans Mono',consolas,'Courier New',monospace\"><span style=\"color: #7fbfbf; text-decoration-color: #7fbfbf\">                    </span><span style=\"color: #808000; text-decoration-color: #808000\">WARNING </span> Chelsea Bowen couldn't play any spells.                                  <a href=\"file://c:\\Users\\gufer\\OneDrive\\Documentos\\FIAP\\Fase_03\\mtg-project\\classes\\player.py\" target=\"_blank\"><span style=\"color: #7f7f7f; text-decoration-color: #7f7f7f\">player.py</span></a><span style=\"color: #7f7f7f; text-decoration-color: #7f7f7f\">:</span><a href=\"file://c:\\Users\\gufer\\OneDrive\\Documentos\\FIAP\\Fase_03\\mtg-project\\classes\\player.py#371\" target=\"_blank\"><span style=\"color: #7f7f7f; text-decoration-color: #7f7f7f\">371</span></a>\n",
       "</pre>\n"
      ],
      "text/plain": [
       "\u001b[2;36m                   \u001b[0m\u001b[2;36m \u001b[0m\u001b[33mWARNING \u001b[0m Chelsea Bowen couldn't play any spells.                                  \u001b]8;id=305000;file://c:\\Users\\gufer\\OneDrive\\Documentos\\FIAP\\Fase_03\\mtg-project\\classes\\player.py\u001b\\\u001b[2mplayer.py\u001b[0m\u001b]8;;\u001b\\\u001b[2m:\u001b[0m\u001b]8;id=782867;file://c:\\Users\\gufer\\OneDrive\\Documentos\\FIAP\\Fase_03\\mtg-project\\classes\\player.py#371\u001b\\\u001b[2m371\u001b[0m\u001b]8;;\u001b\\\n"
      ]
     },
     "metadata": {},
     "output_type": "display_data"
    },
    {
     "data": {
      "text/html": [
       "<pre style=\"white-space:pre;overflow-x:auto;line-height:normal;font-family:Menlo,'DejaVu Sans Mono',consolas,'Courier New',monospace\"><span style=\"color: #7fbfbf; text-decoration-color: #7fbfbf\">                    </span><span style=\"color: #808000; text-decoration-color: #808000\">WARNING </span> Chelsea Bowen couldn't play any spells.                                  <a href=\"file://c:\\Users\\gufer\\OneDrive\\Documentos\\FIAP\\Fase_03\\mtg-project\\classes\\player.py\" target=\"_blank\"><span style=\"color: #7f7f7f; text-decoration-color: #7f7f7f\">player.py</span></a><span style=\"color: #7f7f7f; text-decoration-color: #7f7f7f\">:</span><a href=\"file://c:\\Users\\gufer\\OneDrive\\Documentos\\FIAP\\Fase_03\\mtg-project\\classes\\player.py#371\" target=\"_blank\"><span style=\"color: #7f7f7f; text-decoration-color: #7f7f7f\">371</span></a>\n",
       "</pre>\n"
      ],
      "text/plain": [
       "\u001b[2;36m                   \u001b[0m\u001b[2;36m \u001b[0m\u001b[33mWARNING \u001b[0m Chelsea Bowen couldn't play any spells.                                  \u001b]8;id=357463;file://c:\\Users\\gufer\\OneDrive\\Documentos\\FIAP\\Fase_03\\mtg-project\\classes\\player.py\u001b\\\u001b[2mplayer.py\u001b[0m\u001b]8;;\u001b\\\u001b[2m:\u001b[0m\u001b]8;id=495029;file://c:\\Users\\gufer\\OneDrive\\Documentos\\FIAP\\Fase_03\\mtg-project\\classes\\player.py#371\u001b\\\u001b[2m371\u001b[0m\u001b]8;;\u001b\\\n"
      ]
     },
     "metadata": {},
     "output_type": "display_data"
    },
    {
     "data": {
      "text/html": [
       "<pre style=\"white-space:pre;overflow-x:auto;line-height:normal;font-family:Menlo,'DejaVu Sans Mono',consolas,'Courier New',monospace\"><span style=\"color: #7fbfbf; text-decoration-color: #7fbfbf\">                    </span><span style=\"color: #808000; text-decoration-color: #808000\">WARNING </span> Chelsea Bowen couldn't play any spells.                                  <a href=\"file://c:\\Users\\gufer\\OneDrive\\Documentos\\FIAP\\Fase_03\\mtg-project\\classes\\player.py\" target=\"_blank\"><span style=\"color: #7f7f7f; text-decoration-color: #7f7f7f\">player.py</span></a><span style=\"color: #7f7f7f; text-decoration-color: #7f7f7f\">:</span><a href=\"file://c:\\Users\\gufer\\OneDrive\\Documentos\\FIAP\\Fase_03\\mtg-project\\classes\\player.py#371\" target=\"_blank\"><span style=\"color: #7f7f7f; text-decoration-color: #7f7f7f\">371</span></a>\n",
       "</pre>\n"
      ],
      "text/plain": [
       "\u001b[2;36m                   \u001b[0m\u001b[2;36m \u001b[0m\u001b[33mWARNING \u001b[0m Chelsea Bowen couldn't play any spells.                                  \u001b]8;id=767532;file://c:\\Users\\gufer\\OneDrive\\Documentos\\FIAP\\Fase_03\\mtg-project\\classes\\player.py\u001b\\\u001b[2mplayer.py\u001b[0m\u001b]8;;\u001b\\\u001b[2m:\u001b[0m\u001b]8;id=723431;file://c:\\Users\\gufer\\OneDrive\\Documentos\\FIAP\\Fase_03\\mtg-project\\classes\\player.py#371\u001b\\\u001b[2m371\u001b[0m\u001b]8;;\u001b\\\n"
      ]
     },
     "metadata": {},
     "output_type": "display_data"
    },
    {
     "data": {
      "text/html": [
       "<pre style=\"white-space:pre;overflow-x:auto;line-height:normal;font-family:Menlo,'DejaVu Sans Mono',consolas,'Courier New',monospace\"><span style=\"color: #7fbfbf; text-decoration-color: #7fbfbf\">                    </span><span style=\"color: #808000; text-decoration-color: #808000\">WARNING </span> Chelsea Bowen couldn't play any spells.                                  <a href=\"file://c:\\Users\\gufer\\OneDrive\\Documentos\\FIAP\\Fase_03\\mtg-project\\classes\\player.py\" target=\"_blank\"><span style=\"color: #7f7f7f; text-decoration-color: #7f7f7f\">player.py</span></a><span style=\"color: #7f7f7f; text-decoration-color: #7f7f7f\">:</span><a href=\"file://c:\\Users\\gufer\\OneDrive\\Documentos\\FIAP\\Fase_03\\mtg-project\\classes\\player.py#371\" target=\"_blank\"><span style=\"color: #7f7f7f; text-decoration-color: #7f7f7f\">371</span></a>\n",
       "</pre>\n"
      ],
      "text/plain": [
       "\u001b[2;36m                   \u001b[0m\u001b[2;36m \u001b[0m\u001b[33mWARNING \u001b[0m Chelsea Bowen couldn't play any spells.                                  \u001b]8;id=14039;file://c:\\Users\\gufer\\OneDrive\\Documentos\\FIAP\\Fase_03\\mtg-project\\classes\\player.py\u001b\\\u001b[2mplayer.py\u001b[0m\u001b]8;;\u001b\\\u001b[2m:\u001b[0m\u001b]8;id=259814;file://c:\\Users\\gufer\\OneDrive\\Documentos\\FIAP\\Fase_03\\mtg-project\\classes\\player.py#371\u001b\\\u001b[2m371\u001b[0m\u001b]8;;\u001b\\\n"
      ]
     },
     "metadata": {},
     "output_type": "display_data"
    },
    {
     "data": {
      "text/html": [
       "<pre style=\"white-space:pre;overflow-x:auto;line-height:normal;font-family:Menlo,'DejaVu Sans Mono',consolas,'Courier New',monospace\"><span style=\"color: #7fbfbf; text-decoration-color: #7fbfbf\">                    </span><span style=\"color: #000080; text-decoration-color: #000080\">INFO    </span> Saving data to <span style=\"color: #ff8700; text-decoration-color: #ff8700\">matches_dataframe</span> <span style=\"font-weight: bold\">(</span>ParquetDataset<span style=\"font-weight: bold\">)</span><span style=\"color: #808000; text-decoration-color: #808000\">...</span>               <a href=\"file://c:\\Users\\gufer\\miniconda3\\envs\\mtg_env\\Lib\\site-packages\\kedro\\io\\data_catalog.py\" target=\"_blank\"><span style=\"color: #7f7f7f; text-decoration-color: #7f7f7f\">data_catalog.py</span></a><span style=\"color: #7f7f7f; text-decoration-color: #7f7f7f\">:</span><a href=\"file://c:\\Users\\gufer\\miniconda3\\envs\\mtg_env\\Lib\\site-packages\\kedro\\io\\data_catalog.py#581\" target=\"_blank\"><span style=\"color: #7f7f7f; text-decoration-color: #7f7f7f\">581</span></a>\n",
       "</pre>\n"
      ],
      "text/plain": [
       "\u001b[2;36m                   \u001b[0m\u001b[2;36m \u001b[0m\u001b[34mINFO    \u001b[0m Saving data to \u001b[38;5;208mmatches_dataframe\u001b[0m \u001b[1m(\u001b[0mParquetDataset\u001b[1m)\u001b[0m\u001b[33m...\u001b[0m               \u001b]8;id=214635;file://c:\\Users\\gufer\\miniconda3\\envs\\mtg_env\\Lib\\site-packages\\kedro\\io\\data_catalog.py\u001b\\\u001b[2mdata_catalog.py\u001b[0m\u001b]8;;\u001b\\\u001b[2m:\u001b[0m\u001b]8;id=559459;file://c:\\Users\\gufer\\miniconda3\\envs\\mtg_env\\Lib\\site-packages\\kedro\\io\\data_catalog.py#581\u001b\\\u001b[2m581\u001b[0m\u001b]8;;\u001b\\\n"
      ]
     },
     "metadata": {},
     "output_type": "display_data"
    }
   ],
   "source": [
    "def simulate_player_matches(params: dict, players_with_decks: list) -> pd.DataFrame:\n",
    "    \"\"\"\n",
    "    Simulates Magic: The Gathering matches for a list of players based on the provided simulation parameters.\n",
    "\n",
    "    Parameters:\n",
    "    -----------\n",
    "    params : dict\n",
    "        A dictionary containing the simulation parameters, including:\n",
    "        - 'max_mulligans': Maximum number of mulligans allowed per player.\n",
    "        - 'mulligan_prob': Probability of a player choosing to mulligan.\n",
    "        - 'hand_size_stop': Minimum hand size at which the simulation will stop.\n",
    "        - 'max_turns': Maximum number of turns per match.\n",
    "        - 'extra_land_prob': Probability of playing an extra land during a turn.\n",
    "        - 'matches_per_player': Number of matches to simulate per player.\n",
    "        - 'log_folder': Folder path for logging the simulation process.\n",
    "    \n",
    "    players_with_decks : list\n",
    "        A list of Player objects, each with an assigned deck to be used in the simulation.\n",
    "\n",
    "    Returns:\n",
    "    --------\n",
    "    pd.DataFrame\n",
    "        A DataFrame containing the match data for all players across all matches and turns, including:\n",
    "        - Player attributes at each turn.\n",
    "        - Match number for each simulation.\n",
    "    \"\"\"\n",
    "    \n",
    "    # Atribuir os parâmetros\n",
    "    max_mulligans = params[\"max_mulligans\"]\n",
    "    mulligan_prob = params[\"mulligan_prob\"]\n",
    "    hand_size_stop = params[\"hand_size_stop\"]\n",
    "    max_turns = params[\"max_turns\"]\n",
    "    extra_land_prob = params[\"extra_land_prob\"]\n",
    "    matches_per_player = params[\"matches_per_player\"]\n",
    "    log_folder = params[\"log_folder\"]\n",
    "\n",
    "    # Caminho do arquivo de log\n",
    "    log_filepath = os.path.join(log_folder, 'player_matches.txt')\n",
    "\n",
    "    # Cria a pasta de log se ela não existir\n",
    "    os.makedirs(log_folder, exist_ok=True)\n",
    "\n",
    "    # Configura o logger geral\n",
    "    logger = setup_logger(\"player_matches\", log_filepath)\n",
    "\n",
    "    # Log de início da validação\n",
    "    logger.info(\"Initiating simulations...\")\n",
    "\n",
    "    # Inicializa o tracker para armazenar os dados\n",
    "    tracker = PlayerTracker()\n",
    "\n",
    "    # Loop através dos jogadores e realizar as simulações de partidas\n",
    "    for player in players_with_decks:\n",
    "        for match in range(matches_per_player):\n",
    "            # Simular várias partidas para o jogador\n",
    "            player.play_a_match(tracker, \n",
    "                                max_mulligans, \n",
    "                                mulligan_prob, \n",
    "                                max_turns, \n",
    "                                hand_size_stop, \n",
    "                                extra_land_prob)\n",
    "\n",
    "    # Obter os dados de todas as partidas e turnos\n",
    "    matches_dataframe = tracker.get_data()\n",
    "    \n",
    "    return matches_dataframe\n",
    "\n",
    "# Chamada da função\n",
    "params = catalog.load(\"params:simulation\")\n",
    "players_with_decks = catalog.load(\"players_with_decks\")\n",
    "matches_df = simulate_player_matches(params, players_with_decks)\n",
    "catalog.save(\"matches_dataframe\",matches_df)"
   ]
  },
  {
   "cell_type": "code",
   "execution_count": 14,
   "metadata": {},
   "outputs": [
    {
     "data": {
      "text/html": [
       "<pre style=\"white-space:pre;overflow-x:auto;line-height:normal;font-family:Menlo,'DejaVu Sans Mono',consolas,'Courier New',monospace\"></pre>\n"
      ],
      "text/plain": []
     },
     "metadata": {},
     "output_type": "display_data"
    },
    {
     "data": {
      "text/html": [
       "<div>\n",
       "<style scoped>\n",
       "    .dataframe tbody tr th:only-of-type {\n",
       "        vertical-align: middle;\n",
       "    }\n",
       "\n",
       "    .dataframe tbody tr th {\n",
       "        vertical-align: top;\n",
       "    }\n",
       "\n",
       "    .dataframe thead th {\n",
       "        text-align: right;\n",
       "    }\n",
       "</style>\n",
       "<table border=\"1\" class=\"dataframe\">\n",
       "  <thead>\n",
       "    <tr style=\"text-align: right;\">\n",
       "      <th></th>\n",
       "      <th>name</th>\n",
       "      <th>deck_name</th>\n",
       "      <th>deck_colors</th>\n",
       "      <th>match</th>\n",
       "      <th>turn</th>\n",
       "      <th>mulligan_count</th>\n",
       "      <th>lands_played</th>\n",
       "      <th>spells_played</th>\n",
       "      <th>mana_pool</th>\n",
       "      <th>spent_mana</th>\n",
       "      <th>hand_size</th>\n",
       "      <th>library_size</th>\n",
       "      <th>graveyard_size</th>\n",
       "      <th>full_hand</th>\n",
       "      <th>full_graveyard</th>\n",
       "      <th>cum_spent_mana</th>\n",
       "      <th>cum_spells_played</th>\n",
       "      <th>spell_ratio</th>\n",
       "      <th>land_ratio</th>\n",
       "    </tr>\n",
       "  </thead>\n",
       "  <tbody>\n",
       "    <tr>\n",
       "      <th>0</th>\n",
       "      <td>Hunter Lopez</td>\n",
       "      <td>sorin</td>\n",
       "      <td>[B, W]</td>\n",
       "      <td>1</td>\n",
       "      <td>0</td>\n",
       "      <td>0</td>\n",
       "      <td>0</td>\n",
       "      <td>0</td>\n",
       "      <td>0</td>\n",
       "      <td>0</td>\n",
       "      <td>7</td>\n",
       "      <td>53</td>\n",
       "      <td>0</td>\n",
       "      <td>Hand(7 cards: Swamp, Swamp, Swamp, Plains, Swa...</td>\n",
       "      <td>Graveyard(0 cards: )</td>\n",
       "      <td>0</td>\n",
       "      <td>0</td>\n",
       "      <td>0.000000</td>\n",
       "      <td>0.000000</td>\n",
       "    </tr>\n",
       "    <tr>\n",
       "      <th>1</th>\n",
       "      <td>Hunter Lopez</td>\n",
       "      <td>sorin</td>\n",
       "      <td>[B, W]</td>\n",
       "      <td>1</td>\n",
       "      <td>1</td>\n",
       "      <td>0</td>\n",
       "      <td>1</td>\n",
       "      <td>0</td>\n",
       "      <td>1</td>\n",
       "      <td>0</td>\n",
       "      <td>7</td>\n",
       "      <td>52</td>\n",
       "      <td>0</td>\n",
       "      <td>Hand(7 cards: Swamp, Swamp, Plains, Swamp, Unm...</td>\n",
       "      <td>Graveyard(0 cards: )</td>\n",
       "      <td>0</td>\n",
       "      <td>0</td>\n",
       "      <td>0.000000</td>\n",
       "      <td>0.500000</td>\n",
       "    </tr>\n",
       "    <tr>\n",
       "      <th>2</th>\n",
       "      <td>Hunter Lopez</td>\n",
       "      <td>sorin</td>\n",
       "      <td>[B, W]</td>\n",
       "      <td>1</td>\n",
       "      <td>2</td>\n",
       "      <td>0</td>\n",
       "      <td>2</td>\n",
       "      <td>1</td>\n",
       "      <td>3</td>\n",
       "      <td>2</td>\n",
       "      <td>5</td>\n",
       "      <td>51</td>\n",
       "      <td>1</td>\n",
       "      <td>Hand(5 cards: Plains, Swamp, Unmake, Field of ...</td>\n",
       "      <td>Graveyard(1 cards: Sorin's Thirst)</td>\n",
       "      <td>2</td>\n",
       "      <td>1</td>\n",
       "      <td>0.333333</td>\n",
       "      <td>0.666667</td>\n",
       "    </tr>\n",
       "    <tr>\n",
       "      <th>3</th>\n",
       "      <td>Hunter Lopez</td>\n",
       "      <td>sorin</td>\n",
       "      <td>[B, W]</td>\n",
       "      <td>1</td>\n",
       "      <td>3</td>\n",
       "      <td>0</td>\n",
       "      <td>2</td>\n",
       "      <td>2</td>\n",
       "      <td>5</td>\n",
       "      <td>4</td>\n",
       "      <td>3</td>\n",
       "      <td>50</td>\n",
       "      <td>2</td>\n",
       "      <td>Hand(3 cards: Unmake, Mesmeric Fiend, Bloodrag...</td>\n",
       "      <td>Graveyard(2 cards: Sorin's Thirst, Field of So...</td>\n",
       "      <td>6</td>\n",
       "      <td>3</td>\n",
       "      <td>0.500000</td>\n",
       "      <td>0.500000</td>\n",
       "    </tr>\n",
       "    <tr>\n",
       "      <th>4</th>\n",
       "      <td>Hunter Lopez</td>\n",
       "      <td>sorin</td>\n",
       "      <td>[B, W]</td>\n",
       "      <td>1</td>\n",
       "      <td>4</td>\n",
       "      <td>0</td>\n",
       "      <td>1</td>\n",
       "      <td>4</td>\n",
       "      <td>6</td>\n",
       "      <td>6</td>\n",
       "      <td>1</td>\n",
       "      <td>49</td>\n",
       "      <td>4</td>\n",
       "      <td>Hand(1 cards: Mesmeric Fiend)</td>\n",
       "      <td>Graveyard(4 cards: Sorin's Thirst, Field of So...</td>\n",
       "      <td>12</td>\n",
       "      <td>7</td>\n",
       "      <td>0.800000</td>\n",
       "      <td>0.200000</td>\n",
       "    </tr>\n",
       "    <tr>\n",
       "      <th>...</th>\n",
       "      <td>...</td>\n",
       "      <td>...</td>\n",
       "      <td>...</td>\n",
       "      <td>...</td>\n",
       "      <td>...</td>\n",
       "      <td>...</td>\n",
       "      <td>...</td>\n",
       "      <td>...</td>\n",
       "      <td>...</td>\n",
       "      <td>...</td>\n",
       "      <td>...</td>\n",
       "      <td>...</td>\n",
       "      <td>...</td>\n",
       "      <td>...</td>\n",
       "      <td>...</td>\n",
       "      <td>...</td>\n",
       "      <td>...</td>\n",
       "      <td>...</td>\n",
       "      <td>...</td>\n",
       "    </tr>\n",
       "    <tr>\n",
       "      <th>392</th>\n",
       "      <td>Chelsea Bowen</td>\n",
       "      <td>liliana death wielder</td>\n",
       "      <td>[G, B]</td>\n",
       "      <td>10</td>\n",
       "      <td>3</td>\n",
       "      <td>0</td>\n",
       "      <td>2</td>\n",
       "      <td>2</td>\n",
       "      <td>4</td>\n",
       "      <td>3</td>\n",
       "      <td>4</td>\n",
       "      <td>50</td>\n",
       "      <td>2</td>\n",
       "      <td>Hand(4 cards: Swamp, Karplusan Forest, Karplus...</td>\n",
       "      <td>Graveyard(2 cards: Tattered Mummy, Baleful Ammit)</td>\n",
       "      <td>1120</td>\n",
       "      <td>1583</td>\n",
       "      <td>0.500000</td>\n",
       "      <td>0.500000</td>\n",
       "    </tr>\n",
       "    <tr>\n",
       "      <th>393</th>\n",
       "      <td>Chelsea Bowen</td>\n",
       "      <td>liliana death wielder</td>\n",
       "      <td>[G, B]</td>\n",
       "      <td>10</td>\n",
       "      <td>4</td>\n",
       "      <td>0</td>\n",
       "      <td>1</td>\n",
       "      <td>3</td>\n",
       "      <td>5</td>\n",
       "      <td>4</td>\n",
       "      <td>3</td>\n",
       "      <td>49</td>\n",
       "      <td>3</td>\n",
       "      <td>Hand(3 cards: Karplusan Forest, Karplusan Fore...</td>\n",
       "      <td>Graveyard(3 cards: Tattered Mummy, Baleful Amm...</td>\n",
       "      <td>1124</td>\n",
       "      <td>1586</td>\n",
       "      <td>0.600000</td>\n",
       "      <td>0.200000</td>\n",
       "    </tr>\n",
       "    <tr>\n",
       "      <th>394</th>\n",
       "      <td>Chelsea Bowen</td>\n",
       "      <td>liliana death wielder</td>\n",
       "      <td>[G, B]</td>\n",
       "      <td>10</td>\n",
       "      <td>5</td>\n",
       "      <td>0</td>\n",
       "      <td>1</td>\n",
       "      <td>4</td>\n",
       "      <td>6</td>\n",
       "      <td>6</td>\n",
       "      <td>2</td>\n",
       "      <td>48</td>\n",
       "      <td>4</td>\n",
       "      <td>Hand(2 cards: Karplusan Forest, Foul Orchard)</td>\n",
       "      <td>Graveyard(4 cards: Tattered Mummy, Baleful Amm...</td>\n",
       "      <td>1130</td>\n",
       "      <td>1590</td>\n",
       "      <td>0.666667</td>\n",
       "      <td>0.166667</td>\n",
       "    </tr>\n",
       "    <tr>\n",
       "      <th>395</th>\n",
       "      <td>Chelsea Bowen</td>\n",
       "      <td>liliana death wielder</td>\n",
       "      <td>[G, B]</td>\n",
       "      <td>10</td>\n",
       "      <td>6</td>\n",
       "      <td>0</td>\n",
       "      <td>1</td>\n",
       "      <td>5</td>\n",
       "      <td>7</td>\n",
       "      <td>1</td>\n",
       "      <td>1</td>\n",
       "      <td>47</td>\n",
       "      <td>5</td>\n",
       "      <td>Hand(1 cards: Foul Orchard)</td>\n",
       "      <td>Graveyard(5 cards: Tattered Mummy, Baleful Amm...</td>\n",
       "      <td>1131</td>\n",
       "      <td>1595</td>\n",
       "      <td>0.714286</td>\n",
       "      <td>0.142857</td>\n",
       "    </tr>\n",
       "    <tr>\n",
       "      <th>396</th>\n",
       "      <td>Chelsea Bowen</td>\n",
       "      <td>liliana death wielder</td>\n",
       "      <td>[G, B]</td>\n",
       "      <td>10</td>\n",
       "      <td>7</td>\n",
       "      <td>0</td>\n",
       "      <td>1</td>\n",
       "      <td>5</td>\n",
       "      <td>8</td>\n",
       "      <td>0</td>\n",
       "      <td>1</td>\n",
       "      <td>46</td>\n",
       "      <td>5</td>\n",
       "      <td>Hand(1 cards: Swamp)</td>\n",
       "      <td>Graveyard(5 cards: Tattered Mummy, Baleful Amm...</td>\n",
       "      <td>1131</td>\n",
       "      <td>1600</td>\n",
       "      <td>0.625000</td>\n",
       "      <td>0.125000</td>\n",
       "    </tr>\n",
       "  </tbody>\n",
       "</table>\n",
       "<p>397 rows × 19 columns</p>\n",
       "</div>"
      ],
      "text/plain": [
       "\n",
       "              name              deck_name deck_colors  match  turn  \\\n",
       "\u001b[1;36m0\u001b[0m     Hunter Lopez                  sorin      \u001b[1m[\u001b[0mB, W\u001b[1m]\u001b[0m      \u001b[1;36m1\u001b[0m     \u001b[1;36m0\u001b[0m   \n",
       "\u001b[1;36m1\u001b[0m     Hunter Lopez                  sorin      \u001b[1m[\u001b[0mB, W\u001b[1m]\u001b[0m      \u001b[1;36m1\u001b[0m     \u001b[1;36m1\u001b[0m   \n",
       "\u001b[1;36m2\u001b[0m     Hunter Lopez                  sorin      \u001b[1m[\u001b[0mB, W\u001b[1m]\u001b[0m      \u001b[1;36m1\u001b[0m     \u001b[1;36m2\u001b[0m   \n",
       "\u001b[1;36m3\u001b[0m     Hunter Lopez                  sorin      \u001b[1m[\u001b[0mB, W\u001b[1m]\u001b[0m      \u001b[1;36m1\u001b[0m     \u001b[1;36m3\u001b[0m   \n",
       "\u001b[1;36m4\u001b[0m     Hunter Lopez                  sorin      \u001b[1m[\u001b[0mB, W\u001b[1m]\u001b[0m      \u001b[1;36m1\u001b[0m     \u001b[1;36m4\u001b[0m   \n",
       "..             \u001b[33m...\u001b[0m                    \u001b[33m...\u001b[0m         \u001b[33m...\u001b[0m    \u001b[33m...\u001b[0m   \u001b[33m...\u001b[0m   \n",
       "\u001b[1;36m392\u001b[0m  Chelsea Bowen  liliana death wielder      \u001b[1m[\u001b[0mG, B\u001b[1m]\u001b[0m     \u001b[1;36m10\u001b[0m     \u001b[1;36m3\u001b[0m   \n",
       "\u001b[1;36m393\u001b[0m  Chelsea Bowen  liliana death wielder      \u001b[1m[\u001b[0mG, B\u001b[1m]\u001b[0m     \u001b[1;36m10\u001b[0m     \u001b[1;36m4\u001b[0m   \n",
       "\u001b[1;36m394\u001b[0m  Chelsea Bowen  liliana death wielder      \u001b[1m[\u001b[0mG, B\u001b[1m]\u001b[0m     \u001b[1;36m10\u001b[0m     \u001b[1;36m5\u001b[0m   \n",
       "\u001b[1;36m395\u001b[0m  Chelsea Bowen  liliana death wielder      \u001b[1m[\u001b[0mG, B\u001b[1m]\u001b[0m     \u001b[1;36m10\u001b[0m     \u001b[1;36m6\u001b[0m   \n",
       "\u001b[1;36m396\u001b[0m  Chelsea Bowen  liliana death wielder      \u001b[1m[\u001b[0mG, B\u001b[1m]\u001b[0m     \u001b[1;36m10\u001b[0m     \u001b[1;36m7\u001b[0m   \n",
       "\n",
       "     mulligan_count  lands_played  spells_played  mana_pool  spent_mana  \\\n",
       "\u001b[1;36m0\u001b[0m                 \u001b[1;36m0\u001b[0m             \u001b[1;36m0\u001b[0m              \u001b[1;36m0\u001b[0m          \u001b[1;36m0\u001b[0m           \u001b[1;36m0\u001b[0m   \n",
       "\u001b[1;36m1\u001b[0m                 \u001b[1;36m0\u001b[0m             \u001b[1;36m1\u001b[0m              \u001b[1;36m0\u001b[0m          \u001b[1;36m1\u001b[0m           \u001b[1;36m0\u001b[0m   \n",
       "\u001b[1;36m2\u001b[0m                 \u001b[1;36m0\u001b[0m             \u001b[1;36m2\u001b[0m              \u001b[1;36m1\u001b[0m          \u001b[1;36m3\u001b[0m           \u001b[1;36m2\u001b[0m   \n",
       "\u001b[1;36m3\u001b[0m                 \u001b[1;36m0\u001b[0m             \u001b[1;36m2\u001b[0m              \u001b[1;36m2\u001b[0m          \u001b[1;36m5\u001b[0m           \u001b[1;36m4\u001b[0m   \n",
       "\u001b[1;36m4\u001b[0m                 \u001b[1;36m0\u001b[0m             \u001b[1;36m1\u001b[0m              \u001b[1;36m4\u001b[0m          \u001b[1;36m6\u001b[0m           \u001b[1;36m6\u001b[0m   \n",
       "..              \u001b[33m...\u001b[0m           \u001b[33m...\u001b[0m            \u001b[33m...\u001b[0m        \u001b[33m...\u001b[0m         \u001b[33m...\u001b[0m   \n",
       "\u001b[1;36m392\u001b[0m               \u001b[1;36m0\u001b[0m             \u001b[1;36m2\u001b[0m              \u001b[1;36m2\u001b[0m          \u001b[1;36m4\u001b[0m           \u001b[1;36m3\u001b[0m   \n",
       "\u001b[1;36m393\u001b[0m               \u001b[1;36m0\u001b[0m             \u001b[1;36m1\u001b[0m              \u001b[1;36m3\u001b[0m          \u001b[1;36m5\u001b[0m           \u001b[1;36m4\u001b[0m   \n",
       "\u001b[1;36m394\u001b[0m               \u001b[1;36m0\u001b[0m             \u001b[1;36m1\u001b[0m              \u001b[1;36m4\u001b[0m          \u001b[1;36m6\u001b[0m           \u001b[1;36m6\u001b[0m   \n",
       "\u001b[1;36m395\u001b[0m               \u001b[1;36m0\u001b[0m             \u001b[1;36m1\u001b[0m              \u001b[1;36m5\u001b[0m          \u001b[1;36m7\u001b[0m           \u001b[1;36m1\u001b[0m   \n",
       "\u001b[1;36m396\u001b[0m               \u001b[1;36m0\u001b[0m             \u001b[1;36m1\u001b[0m              \u001b[1;36m5\u001b[0m          \u001b[1;36m8\u001b[0m           \u001b[1;36m0\u001b[0m   \n",
       "\n",
       "     hand_size  library_size  graveyard_size  \\\n",
       "\u001b[1;36m0\u001b[0m            \u001b[1;36m7\u001b[0m            \u001b[1;36m53\u001b[0m               \u001b[1;36m0\u001b[0m   \n",
       "\u001b[1;36m1\u001b[0m            \u001b[1;36m7\u001b[0m            \u001b[1;36m52\u001b[0m               \u001b[1;36m0\u001b[0m   \n",
       "\u001b[1;36m2\u001b[0m            \u001b[1;36m5\u001b[0m            \u001b[1;36m51\u001b[0m               \u001b[1;36m1\u001b[0m   \n",
       "\u001b[1;36m3\u001b[0m            \u001b[1;36m3\u001b[0m            \u001b[1;36m50\u001b[0m               \u001b[1;36m2\u001b[0m   \n",
       "\u001b[1;36m4\u001b[0m            \u001b[1;36m1\u001b[0m            \u001b[1;36m49\u001b[0m               \u001b[1;36m4\u001b[0m   \n",
       "..         \u001b[33m...\u001b[0m           \u001b[33m...\u001b[0m             \u001b[33m...\u001b[0m   \n",
       "\u001b[1;36m392\u001b[0m          \u001b[1;36m4\u001b[0m            \u001b[1;36m50\u001b[0m               \u001b[1;36m2\u001b[0m   \n",
       "\u001b[1;36m393\u001b[0m          \u001b[1;36m3\u001b[0m            \u001b[1;36m49\u001b[0m               \u001b[1;36m3\u001b[0m   \n",
       "\u001b[1;36m394\u001b[0m          \u001b[1;36m2\u001b[0m            \u001b[1;36m48\u001b[0m               \u001b[1;36m4\u001b[0m   \n",
       "\u001b[1;36m395\u001b[0m          \u001b[1;36m1\u001b[0m            \u001b[1;36m47\u001b[0m               \u001b[1;36m5\u001b[0m   \n",
       "\u001b[1;36m396\u001b[0m          \u001b[1;36m1\u001b[0m            \u001b[1;36m46\u001b[0m               \u001b[1;36m5\u001b[0m   \n",
       "\n",
       "                                             full_hand  \\\n",
       "\u001b[1;36m0\u001b[0m    \u001b[1;35mHand\u001b[0m\u001b[1m(\u001b[0m\u001b[1;36m7\u001b[0m cards: Swamp, Swamp, Swamp, Plains, Swa\u001b[33m...\u001b[0m   \n",
       "\u001b[1;36m1\u001b[0m    \u001b[1;35mHand\u001b[0m\u001b[1m(\u001b[0m\u001b[1;36m7\u001b[0m cards: Swamp, Swamp, Plains, Swamp, Unm\u001b[33m...\u001b[0m   \n",
       "\u001b[1;36m2\u001b[0m    \u001b[1;35mHand\u001b[0m\u001b[1m(\u001b[0m\u001b[1;36m5\u001b[0m cards: Plains, Swamp, Unmake, Field of \u001b[33m...\u001b[0m   \n",
       "\u001b[1;36m3\u001b[0m    \u001b[1;35mHand\u001b[0m\u001b[1m(\u001b[0m\u001b[1;36m3\u001b[0m cards: Unmake, Mesmeric Fiend, Bloodrag\u001b[33m...\u001b[0m   \n",
       "\u001b[1;36m4\u001b[0m                        \u001b[1;35mHand\u001b[0m\u001b[1m(\u001b[0m\u001b[1;36m1\u001b[0m cards: Mesmeric Fiend\u001b[1m)\u001b[0m   \n",
       "..                                                 \u001b[33m...\u001b[0m   \n",
       "\u001b[1;36m392\u001b[0m  \u001b[1;35mHand\u001b[0m\u001b[1m(\u001b[0m\u001b[1;36m4\u001b[0m cards: Swamp, Karplusan Forest, Karplus\u001b[33m...\u001b[0m   \n",
       "\u001b[1;36m393\u001b[0m  \u001b[1;35mHand\u001b[0m\u001b[1m(\u001b[0m\u001b[1;36m3\u001b[0m cards: Karplusan Forest, Karplusan Fore\u001b[33m...\u001b[0m   \n",
       "\u001b[1;36m394\u001b[0m      \u001b[1;35mHand\u001b[0m\u001b[1m(\u001b[0m\u001b[1;36m2\u001b[0m cards: Karplusan Forest, Foul Orchard\u001b[1m)\u001b[0m   \n",
       "\u001b[1;36m395\u001b[0m                        \u001b[1;35mHand\u001b[0m\u001b[1m(\u001b[0m\u001b[1;36m1\u001b[0m cards: Foul Orchard\u001b[1m)\u001b[0m   \n",
       "\u001b[1;36m396\u001b[0m                               \u001b[1;35mHand\u001b[0m\u001b[1m(\u001b[0m\u001b[1;36m1\u001b[0m cards: Swamp\u001b[1m)\u001b[0m   \n",
       "\n",
       "                                        full_graveyard  cum_spent_mana  \\\n",
       "\u001b[1;36m0\u001b[0m                                 \u001b[1;35mGraveyard\u001b[0m\u001b[1m(\u001b[0m\u001b[1;36m0\u001b[0m cards: \u001b[1m)\u001b[0m               \u001b[1;36m0\u001b[0m   \n",
       "\u001b[1;36m1\u001b[0m                                 \u001b[1;35mGraveyard\u001b[0m\u001b[1m(\u001b[0m\u001b[1;36m0\u001b[0m cards: \u001b[1m)\u001b[0m               \u001b[1;36m0\u001b[0m   \n",
       "\u001b[1;36m2\u001b[0m                   \u001b[1;35mGraveyard\u001b[0m\u001b[1m(\u001b[0m\u001b[1;36m1\u001b[0m cards: Sorin's Thirst\u001b[1m)\u001b[0m               \u001b[1;36m2\u001b[0m   \n",
       "\u001b[1;36m3\u001b[0m    \u001b[1;35mGraveyard\u001b[0m\u001b[1m(\u001b[0m\u001b[1;36m2\u001b[0m cards: Sorin's Thirst, Field of So\u001b[33m...\u001b[0m               \u001b[1;36m6\u001b[0m   \n",
       "\u001b[1;36m4\u001b[0m    \u001b[1;35mGraveyard\u001b[0m\u001b[1m(\u001b[0m\u001b[1;36m4\u001b[0m cards: Sorin's Thirst, Field of So\u001b[33m...\u001b[0m              \u001b[1;36m12\u001b[0m   \n",
       "..                                                 \u001b[33m...\u001b[0m             \u001b[33m...\u001b[0m   \n",
       "\u001b[1;36m392\u001b[0m  \u001b[1;35mGraveyard\u001b[0m\u001b[1m(\u001b[0m\u001b[1;36m2\u001b[0m cards: Tattered Mummy, Baleful Ammit\u001b[1m)\u001b[0m            \u001b[1;36m1120\u001b[0m   \n",
       "\u001b[1;36m393\u001b[0m  \u001b[1;35mGraveyard\u001b[0m\u001b[1m(\u001b[0m\u001b[1;36m3\u001b[0m cards: Tattered Mummy, Baleful Amm\u001b[33m...\u001b[0m            \u001b[1;36m1124\u001b[0m   \n",
       "\u001b[1;36m394\u001b[0m  \u001b[1;35mGraveyard\u001b[0m\u001b[1m(\u001b[0m\u001b[1;36m4\u001b[0m cards: Tattered Mummy, Baleful Amm\u001b[33m...\u001b[0m            \u001b[1;36m1130\u001b[0m   \n",
       "\u001b[1;36m395\u001b[0m  \u001b[1;35mGraveyard\u001b[0m\u001b[1m(\u001b[0m\u001b[1;36m5\u001b[0m cards: Tattered Mummy, Baleful Amm\u001b[33m...\u001b[0m            \u001b[1;36m1131\u001b[0m   \n",
       "\u001b[1;36m396\u001b[0m  \u001b[1;35mGraveyard\u001b[0m\u001b[1m(\u001b[0m\u001b[1;36m5\u001b[0m cards: Tattered Mummy, Baleful Amm\u001b[33m...\u001b[0m            \u001b[1;36m1131\u001b[0m   \n",
       "\n",
       "     cum_spells_played  spell_ratio  land_ratio  \n",
       "\u001b[1;36m0\u001b[0m                    \u001b[1;36m0\u001b[0m     \u001b[1;36m0.000000\u001b[0m    \u001b[1;36m0.000000\u001b[0m  \n",
       "\u001b[1;36m1\u001b[0m                    \u001b[1;36m0\u001b[0m     \u001b[1;36m0.000000\u001b[0m    \u001b[1;36m0.500000\u001b[0m  \n",
       "\u001b[1;36m2\u001b[0m                    \u001b[1;36m1\u001b[0m     \u001b[1;36m0.333333\u001b[0m    \u001b[1;36m0.666667\u001b[0m  \n",
       "\u001b[1;36m3\u001b[0m                    \u001b[1;36m3\u001b[0m     \u001b[1;36m0.500000\u001b[0m    \u001b[1;36m0.500000\u001b[0m  \n",
       "\u001b[1;36m4\u001b[0m                    \u001b[1;36m7\u001b[0m     \u001b[1;36m0.800000\u001b[0m    \u001b[1;36m0.200000\u001b[0m  \n",
       "..                 \u001b[33m...\u001b[0m          \u001b[33m...\u001b[0m         \u001b[33m...\u001b[0m  \n",
       "\u001b[1;36m392\u001b[0m               \u001b[1;36m1583\u001b[0m     \u001b[1;36m0.500000\u001b[0m    \u001b[1;36m0.500000\u001b[0m  \n",
       "\u001b[1;36m393\u001b[0m               \u001b[1;36m1586\u001b[0m     \u001b[1;36m0.600000\u001b[0m    \u001b[1;36m0.200000\u001b[0m  \n",
       "\u001b[1;36m394\u001b[0m               \u001b[1;36m1590\u001b[0m     \u001b[1;36m0.666667\u001b[0m    \u001b[1;36m0.166667\u001b[0m  \n",
       "\u001b[1;36m395\u001b[0m               \u001b[1;36m1595\u001b[0m     \u001b[1;36m0.714286\u001b[0m    \u001b[1;36m0.142857\u001b[0m  \n",
       "\u001b[1;36m396\u001b[0m               \u001b[1;36m1600\u001b[0m     \u001b[1;36m0.625000\u001b[0m    \u001b[1;36m0.125000\u001b[0m  \n",
       "\n",
       "\u001b[1m[\u001b[0m\u001b[1;36m397\u001b[0m rows x \u001b[1;36m19\u001b[0m columns\u001b[1m]\u001b[0m"
      ]
     },
     "execution_count": 14,
     "metadata": {},
     "output_type": "execute_result"
    }
   ],
   "source": [
    "matches_df"
   ]
  },
  {
   "cell_type": "code",
   "execution_count": 38,
   "metadata": {},
   "outputs": [
    {
     "data": {
      "text/html": [
       "<pre style=\"white-space:pre;overflow-x:auto;line-height:normal;font-family:Menlo,'DejaVu Sans Mono',consolas,'Courier New',monospace\"><span style=\"color: #7fbfbf; text-decoration-color: #7fbfbf\">[09/15/24 02:49:49] </span><span style=\"color: #000080; text-decoration-color: #000080\">INFO    </span> Loading data from <span style=\"color: #ff8700; text-decoration-color: #ff8700\">matches_dataframe</span> <span style=\"font-weight: bold\">(</span>ParquetDataset<span style=\"font-weight: bold\">)</span><span style=\"color: #808000; text-decoration-color: #808000\">...</span>            <a href=\"file://c:\\Users\\gufer\\miniconda3\\envs\\mtg_env\\Lib\\site-packages\\kedro\\io\\data_catalog.py\" target=\"_blank\"><span style=\"color: #7f7f7f; text-decoration-color: #7f7f7f\">data_catalog.py</span></a><span style=\"color: #7f7f7f; text-decoration-color: #7f7f7f\">:</span><a href=\"file://c:\\Users\\gufer\\miniconda3\\envs\\mtg_env\\Lib\\site-packages\\kedro\\io\\data_catalog.py#539\" target=\"_blank\"><span style=\"color: #7f7f7f; text-decoration-color: #7f7f7f\">539</span></a>\n",
       "</pre>\n"
      ],
      "text/plain": [
       "\u001b[2;36m[09/15/24 02:49:49]\u001b[0m\u001b[2;36m \u001b[0m\u001b[34mINFO    \u001b[0m Loading data from \u001b[38;5;208mmatches_dataframe\u001b[0m \u001b[1m(\u001b[0mParquetDataset\u001b[1m)\u001b[0m\u001b[33m...\u001b[0m            \u001b]8;id=825895;file://c:\\Users\\gufer\\miniconda3\\envs\\mtg_env\\Lib\\site-packages\\kedro\\io\\data_catalog.py\u001b\\\u001b[2mdata_catalog.py\u001b[0m\u001b]8;;\u001b\\\u001b[2m:\u001b[0m\u001b]8;id=451946;file://c:\\Users\\gufer\\miniconda3\\envs\\mtg_env\\Lib\\site-packages\\kedro\\io\\data_catalog.py#539\u001b\\\u001b[2m539\u001b[0m\u001b]8;;\u001b\\\n"
      ]
     },
     "metadata": {},
     "output_type": "display_data"
    },
    {
     "data": {
      "text/html": [
       "<pre style=\"white-space:pre;overflow-x:auto;line-height:normal;font-family:Menlo,'DejaVu Sans Mono',consolas,'Courier New',monospace\"></pre>\n"
      ],
      "text/plain": []
     },
     "metadata": {},
     "output_type": "display_data"
    },
    {
     "data": {
      "text/html": [
       "<div>\n",
       "<style scoped>\n",
       "    .dataframe tbody tr th:only-of-type {\n",
       "        vertical-align: middle;\n",
       "    }\n",
       "\n",
       "    .dataframe tbody tr th {\n",
       "        vertical-align: top;\n",
       "    }\n",
       "\n",
       "    .dataframe thead th {\n",
       "        text-align: right;\n",
       "    }\n",
       "</style>\n",
       "<table border=\"1\" class=\"dataframe\">\n",
       "  <thead>\n",
       "    <tr style=\"text-align: right;\">\n",
       "      <th></th>\n",
       "      <th>name</th>\n",
       "      <th>deck_name</th>\n",
       "      <th>match</th>\n",
       "      <th>turn</th>\n",
       "      <th>mulligan_count</th>\n",
       "      <th>lands_played</th>\n",
       "      <th>spells_played</th>\n",
       "      <th>mana_pool</th>\n",
       "      <th>spent_mana</th>\n",
       "      <th>hand_size</th>\n",
       "      <th>...</th>\n",
       "      <th>cum_spent_mana</th>\n",
       "      <th>cum_spells_played</th>\n",
       "      <th>spell_ratio</th>\n",
       "      <th>land_ratio</th>\n",
       "      <th>mana_curve_efficiency</th>\n",
       "      <th>W</th>\n",
       "      <th>U</th>\n",
       "      <th>B</th>\n",
       "      <th>R</th>\n",
       "      <th>G</th>\n",
       "    </tr>\n",
       "  </thead>\n",
       "  <tbody>\n",
       "    <tr>\n",
       "      <th>0</th>\n",
       "      <td>Hunter Lopez</td>\n",
       "      <td>sorin</td>\n",
       "      <td>1</td>\n",
       "      <td>0</td>\n",
       "      <td>0</td>\n",
       "      <td>0</td>\n",
       "      <td>0</td>\n",
       "      <td>0</td>\n",
       "      <td>0</td>\n",
       "      <td>7</td>\n",
       "      <td>...</td>\n",
       "      <td>0</td>\n",
       "      <td>0</td>\n",
       "      <td>0.00</td>\n",
       "      <td>0.00</td>\n",
       "      <td>0.00</td>\n",
       "      <td>1</td>\n",
       "      <td>0</td>\n",
       "      <td>1</td>\n",
       "      <td>0</td>\n",
       "      <td>0</td>\n",
       "    </tr>\n",
       "    <tr>\n",
       "      <th>1</th>\n",
       "      <td>Hunter Lopez</td>\n",
       "      <td>sorin</td>\n",
       "      <td>1</td>\n",
       "      <td>1</td>\n",
       "      <td>0</td>\n",
       "      <td>1</td>\n",
       "      <td>0</td>\n",
       "      <td>1</td>\n",
       "      <td>0</td>\n",
       "      <td>7</td>\n",
       "      <td>...</td>\n",
       "      <td>0</td>\n",
       "      <td>0</td>\n",
       "      <td>0.00</td>\n",
       "      <td>0.50</td>\n",
       "      <td>0.00</td>\n",
       "      <td>1</td>\n",
       "      <td>0</td>\n",
       "      <td>1</td>\n",
       "      <td>0</td>\n",
       "      <td>0</td>\n",
       "    </tr>\n",
       "    <tr>\n",
       "      <th>2</th>\n",
       "      <td>Hunter Lopez</td>\n",
       "      <td>sorin</td>\n",
       "      <td>1</td>\n",
       "      <td>2</td>\n",
       "      <td>0</td>\n",
       "      <td>2</td>\n",
       "      <td>1</td>\n",
       "      <td>3</td>\n",
       "      <td>2</td>\n",
       "      <td>5</td>\n",
       "      <td>...</td>\n",
       "      <td>2</td>\n",
       "      <td>1</td>\n",
       "      <td>0.33</td>\n",
       "      <td>0.67</td>\n",
       "      <td>0.50</td>\n",
       "      <td>1</td>\n",
       "      <td>0</td>\n",
       "      <td>1</td>\n",
       "      <td>0</td>\n",
       "      <td>0</td>\n",
       "    </tr>\n",
       "    <tr>\n",
       "      <th>3</th>\n",
       "      <td>Hunter Lopez</td>\n",
       "      <td>sorin</td>\n",
       "      <td>1</td>\n",
       "      <td>3</td>\n",
       "      <td>0</td>\n",
       "      <td>2</td>\n",
       "      <td>2</td>\n",
       "      <td>5</td>\n",
       "      <td>4</td>\n",
       "      <td>3</td>\n",
       "      <td>...</td>\n",
       "      <td>6</td>\n",
       "      <td>3</td>\n",
       "      <td>0.50</td>\n",
       "      <td>0.50</td>\n",
       "      <td>0.67</td>\n",
       "      <td>1</td>\n",
       "      <td>0</td>\n",
       "      <td>1</td>\n",
       "      <td>0</td>\n",
       "      <td>0</td>\n",
       "    </tr>\n",
       "    <tr>\n",
       "      <th>4</th>\n",
       "      <td>Hunter Lopez</td>\n",
       "      <td>sorin</td>\n",
       "      <td>1</td>\n",
       "      <td>4</td>\n",
       "      <td>0</td>\n",
       "      <td>1</td>\n",
       "      <td>4</td>\n",
       "      <td>6</td>\n",
       "      <td>6</td>\n",
       "      <td>1</td>\n",
       "      <td>...</td>\n",
       "      <td>12</td>\n",
       "      <td>7</td>\n",
       "      <td>0.80</td>\n",
       "      <td>0.20</td>\n",
       "      <td>0.80</td>\n",
       "      <td>1</td>\n",
       "      <td>0</td>\n",
       "      <td>1</td>\n",
       "      <td>0</td>\n",
       "      <td>0</td>\n",
       "    </tr>\n",
       "  </tbody>\n",
       "</table>\n",
       "<p>5 rows × 25 columns</p>\n",
       "</div>"
      ],
      "text/plain": [
       "\n",
       "           name deck_name  match  turn  mulligan_count  lands_played  \\\n",
       "\u001b[1;36m0\u001b[0m  Hunter Lopez     sorin      \u001b[1;36m1\u001b[0m     \u001b[1;36m0\u001b[0m               \u001b[1;36m0\u001b[0m             \u001b[1;36m0\u001b[0m   \n",
       "\u001b[1;36m1\u001b[0m  Hunter Lopez     sorin      \u001b[1;36m1\u001b[0m     \u001b[1;36m1\u001b[0m               \u001b[1;36m0\u001b[0m             \u001b[1;36m1\u001b[0m   \n",
       "\u001b[1;36m2\u001b[0m  Hunter Lopez     sorin      \u001b[1;36m1\u001b[0m     \u001b[1;36m2\u001b[0m               \u001b[1;36m0\u001b[0m             \u001b[1;36m2\u001b[0m   \n",
       "\u001b[1;36m3\u001b[0m  Hunter Lopez     sorin      \u001b[1;36m1\u001b[0m     \u001b[1;36m3\u001b[0m               \u001b[1;36m0\u001b[0m             \u001b[1;36m2\u001b[0m   \n",
       "\u001b[1;36m4\u001b[0m  Hunter Lopez     sorin      \u001b[1;36m1\u001b[0m     \u001b[1;36m4\u001b[0m               \u001b[1;36m0\u001b[0m             \u001b[1;36m1\u001b[0m   \n",
       "\n",
       "   spells_played  mana_pool  spent_mana  hand_size  \u001b[33m...\u001b[0m  cum_spent_mana  \\\n",
       "\u001b[1;36m0\u001b[0m              \u001b[1;36m0\u001b[0m          \u001b[1;36m0\u001b[0m           \u001b[1;36m0\u001b[0m          \u001b[1;36m7\u001b[0m  \u001b[33m...\u001b[0m               \u001b[1;36m0\u001b[0m   \n",
       "\u001b[1;36m1\u001b[0m              \u001b[1;36m0\u001b[0m          \u001b[1;36m1\u001b[0m           \u001b[1;36m0\u001b[0m          \u001b[1;36m7\u001b[0m  \u001b[33m...\u001b[0m               \u001b[1;36m0\u001b[0m   \n",
       "\u001b[1;36m2\u001b[0m              \u001b[1;36m1\u001b[0m          \u001b[1;36m3\u001b[0m           \u001b[1;36m2\u001b[0m          \u001b[1;36m5\u001b[0m  \u001b[33m...\u001b[0m               \u001b[1;36m2\u001b[0m   \n",
       "\u001b[1;36m3\u001b[0m              \u001b[1;36m2\u001b[0m          \u001b[1;36m5\u001b[0m           \u001b[1;36m4\u001b[0m          \u001b[1;36m3\u001b[0m  \u001b[33m...\u001b[0m               \u001b[1;36m6\u001b[0m   \n",
       "\u001b[1;36m4\u001b[0m              \u001b[1;36m4\u001b[0m          \u001b[1;36m6\u001b[0m           \u001b[1;36m6\u001b[0m          \u001b[1;36m1\u001b[0m  \u001b[33m...\u001b[0m              \u001b[1;36m12\u001b[0m   \n",
       "\n",
       "   cum_spells_played spell_ratio land_ratio  mana_curve_efficiency  W  U  B  \\\n",
       "\u001b[1;36m0\u001b[0m                  \u001b[1;36m0\u001b[0m        \u001b[1;36m0.00\u001b[0m       \u001b[1;36m0.00\u001b[0m                   \u001b[1;36m0.00\u001b[0m  \u001b[1;36m1\u001b[0m  \u001b[1;36m0\u001b[0m  \u001b[1;36m1\u001b[0m   \n",
       "\u001b[1;36m1\u001b[0m                  \u001b[1;36m0\u001b[0m        \u001b[1;36m0.00\u001b[0m       \u001b[1;36m0.50\u001b[0m                   \u001b[1;36m0.00\u001b[0m  \u001b[1;36m1\u001b[0m  \u001b[1;36m0\u001b[0m  \u001b[1;36m1\u001b[0m   \n",
       "\u001b[1;36m2\u001b[0m                  \u001b[1;36m1\u001b[0m        \u001b[1;36m0.33\u001b[0m       \u001b[1;36m0.67\u001b[0m                   \u001b[1;36m0.50\u001b[0m  \u001b[1;36m1\u001b[0m  \u001b[1;36m0\u001b[0m  \u001b[1;36m1\u001b[0m   \n",
       "\u001b[1;36m3\u001b[0m                  \u001b[1;36m3\u001b[0m        \u001b[1;36m0.50\u001b[0m       \u001b[1;36m0.50\u001b[0m                   \u001b[1;36m0.67\u001b[0m  \u001b[1;36m1\u001b[0m  \u001b[1;36m0\u001b[0m  \u001b[1;36m1\u001b[0m   \n",
       "\u001b[1;36m4\u001b[0m                  \u001b[1;36m7\u001b[0m        \u001b[1;36m0.80\u001b[0m       \u001b[1;36m0.20\u001b[0m                   \u001b[1;36m0.80\u001b[0m  \u001b[1;36m1\u001b[0m  \u001b[1;36m0\u001b[0m  \u001b[1;36m1\u001b[0m   \n",
       "\n",
       "   R  G  \n",
       "\u001b[1;36m0\u001b[0m  \u001b[1;36m0\u001b[0m  \u001b[1;36m0\u001b[0m  \n",
       "\u001b[1;36m1\u001b[0m  \u001b[1;36m0\u001b[0m  \u001b[1;36m0\u001b[0m  \n",
       "\u001b[1;36m2\u001b[0m  \u001b[1;36m0\u001b[0m  \u001b[1;36m0\u001b[0m  \n",
       "\u001b[1;36m3\u001b[0m  \u001b[1;36m0\u001b[0m  \u001b[1;36m0\u001b[0m  \n",
       "\u001b[1;36m4\u001b[0m  \u001b[1;36m0\u001b[0m  \u001b[1;36m0\u001b[0m  \n",
       "\n",
       "\u001b[1m[\u001b[0m\u001b[1;36m5\u001b[0m rows x \u001b[1;36m25\u001b[0m columns\u001b[1m]\u001b[0m"
      ]
     },
     "execution_count": 38,
     "metadata": {},
     "output_type": "execute_result"
    }
   ],
   "source": [
    "# Carregar o dataframe\n",
    "matches_df = catalog.load(\"matches_dataframe\")\n",
    "matches_df[\"spent_mana\"] = matches_df[\"spent_mana\"].astype(int)\n",
    "\n",
    "# Creating cumulative variables\n",
    "matches_df['cum_mana_pool'] = matches_df['mana_pool'].cumsum()\n",
    "matches_df[\"cum_spent_mana\"] = matches_df[\"spent_mana\"].cumsum()\n",
    "matches_df[\"cum_spells_played\"] = matches_df[\"spells_played\"].cumsum()\n",
    "\n",
    "# Creating ratio variables\n",
    "matches_df['spell_ratio'] = (matches_df['spells_played'] / (matches_df['turn'] + 1)).round(2)\n",
    "matches_df['land_ratio'] = (matches_df['lands_played'] / (matches_df['turn'] + 1)).round(2)\n",
    "\n",
    "# Creating target variable\n",
    "matches_df['mana_curve_efficiency'] = matches_df['cum_spent_mana'] / matches_df['cum_mana_pool']\n",
    "matches_df['mana_curve_efficiency'].replace([float('inf'), -float('inf')], 0, inplace=True)\n",
    "matches_df['mana_curve_efficiency'].fillna(0, inplace=True)\n",
    "matches_df['mana_curve_efficiency'] = matches_df['mana_curve_efficiency'].round(2)\n",
    "\n",
    "# Expand deck_colors into multiple columns (One-Hot Encoding for individual colors)\n",
    "all_colors = ['W', 'U', 'B', 'R', 'G']\n",
    "\n",
    "# Criar uma coluna para cada cor\n",
    "for color in all_colors:\n",
    "    matches_df[f'{color}'] = (matches_df['deck_colors'].apply(lambda x: 1 if color in x else 0)).astype(\"category\")\n",
    "\n",
    "# Drop the original deck_colors column\n",
    "matches_df.drop(columns=['deck_colors'], inplace=True)\n",
    "\n",
    "# Visualizando as primeiras linhas para confirmar as alterações\n",
    "matches_df.head()"
   ]
  },
  {
   "cell_type": "code",
   "execution_count": 33,
   "metadata": {},
   "outputs": [
    {
     "name": "stdout",
     "output_type": "stream",
     "text": [
      "Colunas removidas por alta correlação: ['spells_played', 'hand_size', 'library_size', 'graveyard_size', 'cum_spells_played']\n"
     ]
    },
    {
     "data": {
      "text/html": [
       "<pre style=\"white-space:pre;overflow-x:auto;line-height:normal;font-family:Menlo,'DejaVu Sans Mono',consolas,'Courier New',monospace\"></pre>\n"
      ],
      "text/plain": []
     },
     "metadata": {},
     "output_type": "display_data"
    },
    {
     "data": {
      "text/html": [
       "<div>\n",
       "<style scoped>\n",
       "    .dataframe tbody tr th:only-of-type {\n",
       "        vertical-align: middle;\n",
       "    }\n",
       "\n",
       "    .dataframe tbody tr th {\n",
       "        vertical-align: top;\n",
       "    }\n",
       "\n",
       "    .dataframe thead th {\n",
       "        text-align: right;\n",
       "    }\n",
       "</style>\n",
       "<table border=\"1\" class=\"dataframe\">\n",
       "  <thead>\n",
       "    <tr style=\"text-align: right;\">\n",
       "      <th></th>\n",
       "      <th>name</th>\n",
       "      <th>deck_name</th>\n",
       "      <th>deck_colors</th>\n",
       "      <th>match</th>\n",
       "      <th>turn</th>\n",
       "      <th>mulligan_count</th>\n",
       "      <th>lands_played</th>\n",
       "      <th>mana_pool</th>\n",
       "      <th>spent_mana</th>\n",
       "      <th>full_hand</th>\n",
       "      <th>full_graveyard</th>\n",
       "      <th>cum_spent_mana</th>\n",
       "      <th>spell_ratio</th>\n",
       "      <th>land_ratio</th>\n",
       "      <th>color_W</th>\n",
       "      <th>color_U</th>\n",
       "      <th>color_B</th>\n",
       "      <th>color_R</th>\n",
       "      <th>color_G</th>\n",
       "    </tr>\n",
       "  </thead>\n",
       "  <tbody>\n",
       "    <tr>\n",
       "      <th>0</th>\n",
       "      <td>Hunter Lopez</td>\n",
       "      <td>sorin</td>\n",
       "      <td>[B, W]</td>\n",
       "      <td>1</td>\n",
       "      <td>0</td>\n",
       "      <td>0</td>\n",
       "      <td>0</td>\n",
       "      <td>0</td>\n",
       "      <td>0</td>\n",
       "      <td>Hand(7 cards: Swamp, Swamp, Swamp, Plains, Swa...</td>\n",
       "      <td>Graveyard(0 cards: )</td>\n",
       "      <td>0</td>\n",
       "      <td>0.000000</td>\n",
       "      <td>0.000000</td>\n",
       "      <td>1</td>\n",
       "      <td>0</td>\n",
       "      <td>1</td>\n",
       "      <td>0</td>\n",
       "      <td>0</td>\n",
       "    </tr>\n",
       "    <tr>\n",
       "      <th>1</th>\n",
       "      <td>Hunter Lopez</td>\n",
       "      <td>sorin</td>\n",
       "      <td>[B, W]</td>\n",
       "      <td>1</td>\n",
       "      <td>1</td>\n",
       "      <td>0</td>\n",
       "      <td>1</td>\n",
       "      <td>1</td>\n",
       "      <td>0</td>\n",
       "      <td>Hand(7 cards: Swamp, Swamp, Plains, Swamp, Unm...</td>\n",
       "      <td>Graveyard(0 cards: )</td>\n",
       "      <td>0</td>\n",
       "      <td>0.000000</td>\n",
       "      <td>0.500000</td>\n",
       "      <td>1</td>\n",
       "      <td>0</td>\n",
       "      <td>1</td>\n",
       "      <td>0</td>\n",
       "      <td>0</td>\n",
       "    </tr>\n",
       "    <tr>\n",
       "      <th>2</th>\n",
       "      <td>Hunter Lopez</td>\n",
       "      <td>sorin</td>\n",
       "      <td>[B, W]</td>\n",
       "      <td>1</td>\n",
       "      <td>2</td>\n",
       "      <td>0</td>\n",
       "      <td>2</td>\n",
       "      <td>3</td>\n",
       "      <td>2</td>\n",
       "      <td>Hand(5 cards: Plains, Swamp, Unmake, Field of ...</td>\n",
       "      <td>Graveyard(1 cards: Sorin's Thirst)</td>\n",
       "      <td>2</td>\n",
       "      <td>0.333333</td>\n",
       "      <td>0.666667</td>\n",
       "      <td>1</td>\n",
       "      <td>0</td>\n",
       "      <td>1</td>\n",
       "      <td>0</td>\n",
       "      <td>0</td>\n",
       "    </tr>\n",
       "    <tr>\n",
       "      <th>3</th>\n",
       "      <td>Hunter Lopez</td>\n",
       "      <td>sorin</td>\n",
       "      <td>[B, W]</td>\n",
       "      <td>1</td>\n",
       "      <td>3</td>\n",
       "      <td>0</td>\n",
       "      <td>2</td>\n",
       "      <td>5</td>\n",
       "      <td>4</td>\n",
       "      <td>Hand(3 cards: Unmake, Mesmeric Fiend, Bloodrag...</td>\n",
       "      <td>Graveyard(2 cards: Sorin's Thirst, Field of So...</td>\n",
       "      <td>6</td>\n",
       "      <td>0.500000</td>\n",
       "      <td>0.500000</td>\n",
       "      <td>1</td>\n",
       "      <td>0</td>\n",
       "      <td>1</td>\n",
       "      <td>0</td>\n",
       "      <td>0</td>\n",
       "    </tr>\n",
       "    <tr>\n",
       "      <th>4</th>\n",
       "      <td>Hunter Lopez</td>\n",
       "      <td>sorin</td>\n",
       "      <td>[B, W]</td>\n",
       "      <td>1</td>\n",
       "      <td>4</td>\n",
       "      <td>0</td>\n",
       "      <td>1</td>\n",
       "      <td>6</td>\n",
       "      <td>6</td>\n",
       "      <td>Hand(1 cards: Mesmeric Fiend)</td>\n",
       "      <td>Graveyard(4 cards: Sorin's Thirst, Field of So...</td>\n",
       "      <td>12</td>\n",
       "      <td>0.800000</td>\n",
       "      <td>0.200000</td>\n",
       "      <td>1</td>\n",
       "      <td>0</td>\n",
       "      <td>1</td>\n",
       "      <td>0</td>\n",
       "      <td>0</td>\n",
       "    </tr>\n",
       "  </tbody>\n",
       "</table>\n",
       "</div>"
      ],
      "text/plain": [
       "\n",
       "           name deck_name deck_colors  match  turn  mulligan_count  \\\n",
       "\u001b[1;36m0\u001b[0m  Hunter Lopez     sorin      \u001b[1m[\u001b[0mB, W\u001b[1m]\u001b[0m      \u001b[1;36m1\u001b[0m     \u001b[1;36m0\u001b[0m               \u001b[1;36m0\u001b[0m   \n",
       "\u001b[1;36m1\u001b[0m  Hunter Lopez     sorin      \u001b[1m[\u001b[0mB, W\u001b[1m]\u001b[0m      \u001b[1;36m1\u001b[0m     \u001b[1;36m1\u001b[0m               \u001b[1;36m0\u001b[0m   \n",
       "\u001b[1;36m2\u001b[0m  Hunter Lopez     sorin      \u001b[1m[\u001b[0mB, W\u001b[1m]\u001b[0m      \u001b[1;36m1\u001b[0m     \u001b[1;36m2\u001b[0m               \u001b[1;36m0\u001b[0m   \n",
       "\u001b[1;36m3\u001b[0m  Hunter Lopez     sorin      \u001b[1m[\u001b[0mB, W\u001b[1m]\u001b[0m      \u001b[1;36m1\u001b[0m     \u001b[1;36m3\u001b[0m               \u001b[1;36m0\u001b[0m   \n",
       "\u001b[1;36m4\u001b[0m  Hunter Lopez     sorin      \u001b[1m[\u001b[0mB, W\u001b[1m]\u001b[0m      \u001b[1;36m1\u001b[0m     \u001b[1;36m4\u001b[0m               \u001b[1;36m0\u001b[0m   \n",
       "\n",
       "   lands_played  mana_pool  spent_mana  \\\n",
       "\u001b[1;36m0\u001b[0m             \u001b[1;36m0\u001b[0m          \u001b[1;36m0\u001b[0m           \u001b[1;36m0\u001b[0m   \n",
       "\u001b[1;36m1\u001b[0m             \u001b[1;36m1\u001b[0m          \u001b[1;36m1\u001b[0m           \u001b[1;36m0\u001b[0m   \n",
       "\u001b[1;36m2\u001b[0m             \u001b[1;36m2\u001b[0m          \u001b[1;36m3\u001b[0m           \u001b[1;36m2\u001b[0m   \n",
       "\u001b[1;36m3\u001b[0m             \u001b[1;36m2\u001b[0m          \u001b[1;36m5\u001b[0m           \u001b[1;36m4\u001b[0m   \n",
       "\u001b[1;36m4\u001b[0m             \u001b[1;36m1\u001b[0m          \u001b[1;36m6\u001b[0m           \u001b[1;36m6\u001b[0m   \n",
       "\n",
       "                                           full_hand  \\\n",
       "\u001b[1;36m0\u001b[0m  \u001b[1;35mHand\u001b[0m\u001b[1m(\u001b[0m\u001b[1;36m7\u001b[0m cards: Swamp, Swamp, Swamp, Plains, Swa\u001b[33m...\u001b[0m   \n",
       "\u001b[1;36m1\u001b[0m  \u001b[1;35mHand\u001b[0m\u001b[1m(\u001b[0m\u001b[1;36m7\u001b[0m cards: Swamp, Swamp, Plains, Swamp, Unm\u001b[33m...\u001b[0m   \n",
       "\u001b[1;36m2\u001b[0m  \u001b[1;35mHand\u001b[0m\u001b[1m(\u001b[0m\u001b[1;36m5\u001b[0m cards: Plains, Swamp, Unmake, Field of \u001b[33m...\u001b[0m   \n",
       "\u001b[1;36m3\u001b[0m  \u001b[1;35mHand\u001b[0m\u001b[1m(\u001b[0m\u001b[1;36m3\u001b[0m cards: Unmake, Mesmeric Fiend, Bloodrag\u001b[33m...\u001b[0m   \n",
       "\u001b[1;36m4\u001b[0m                      \u001b[1;35mHand\u001b[0m\u001b[1m(\u001b[0m\u001b[1;36m1\u001b[0m cards: Mesmeric Fiend\u001b[1m)\u001b[0m   \n",
       "\n",
       "                                      full_graveyard  cum_spent_mana  \\\n",
       "\u001b[1;36m0\u001b[0m                               \u001b[1;35mGraveyard\u001b[0m\u001b[1m(\u001b[0m\u001b[1;36m0\u001b[0m cards: \u001b[1m)\u001b[0m               \u001b[1;36m0\u001b[0m   \n",
       "\u001b[1;36m1\u001b[0m                               \u001b[1;35mGraveyard\u001b[0m\u001b[1m(\u001b[0m\u001b[1;36m0\u001b[0m cards: \u001b[1m)\u001b[0m               \u001b[1;36m0\u001b[0m   \n",
       "\u001b[1;36m2\u001b[0m                 \u001b[1;35mGraveyard\u001b[0m\u001b[1m(\u001b[0m\u001b[1;36m1\u001b[0m cards: Sorin's Thirst\u001b[1m)\u001b[0m               \u001b[1;36m2\u001b[0m   \n",
       "\u001b[1;36m3\u001b[0m  \u001b[1;35mGraveyard\u001b[0m\u001b[1m(\u001b[0m\u001b[1;36m2\u001b[0m cards: Sorin's Thirst, Field of So\u001b[33m...\u001b[0m               \u001b[1;36m6\u001b[0m   \n",
       "\u001b[1;36m4\u001b[0m  \u001b[1;35mGraveyard\u001b[0m\u001b[1m(\u001b[0m\u001b[1;36m4\u001b[0m cards: Sorin's Thirst, Field of So\u001b[33m...\u001b[0m              \u001b[1;36m12\u001b[0m   \n",
       "\n",
       "   spell_ratio  land_ratio color_W color_U color_B color_R color_G  \n",
       "\u001b[1;36m0\u001b[0m     \u001b[1;36m0.000000\u001b[0m    \u001b[1;36m0.000000\u001b[0m       \u001b[1;36m1\u001b[0m       \u001b[1;36m0\u001b[0m       \u001b[1;36m1\u001b[0m       \u001b[1;36m0\u001b[0m       \u001b[1;36m0\u001b[0m  \n",
       "\u001b[1;36m1\u001b[0m     \u001b[1;36m0.000000\u001b[0m    \u001b[1;36m0.500000\u001b[0m       \u001b[1;36m1\u001b[0m       \u001b[1;36m0\u001b[0m       \u001b[1;36m1\u001b[0m       \u001b[1;36m0\u001b[0m       \u001b[1;36m0\u001b[0m  \n",
       "\u001b[1;36m2\u001b[0m     \u001b[1;36m0.333333\u001b[0m    \u001b[1;36m0.666667\u001b[0m       \u001b[1;36m1\u001b[0m       \u001b[1;36m0\u001b[0m       \u001b[1;36m1\u001b[0m       \u001b[1;36m0\u001b[0m       \u001b[1;36m0\u001b[0m  \n",
       "\u001b[1;36m3\u001b[0m     \u001b[1;36m0.500000\u001b[0m    \u001b[1;36m0.500000\u001b[0m       \u001b[1;36m1\u001b[0m       \u001b[1;36m0\u001b[0m       \u001b[1;36m1\u001b[0m       \u001b[1;36m0\u001b[0m       \u001b[1;36m0\u001b[0m  \n",
       "\u001b[1;36m4\u001b[0m     \u001b[1;36m0.800000\u001b[0m    \u001b[1;36m0.200000\u001b[0m       \u001b[1;36m1\u001b[0m       \u001b[1;36m0\u001b[0m       \u001b[1;36m1\u001b[0m       \u001b[1;36m0\u001b[0m       \u001b[1;36m0\u001b[0m  "
      ]
     },
     "execution_count": 33,
     "metadata": {},
     "output_type": "execute_result"
    }
   ],
   "source": [
    "threshold = 0.85\n",
    "\n",
    "# Remover colunas do tipo 'object' ou 'category'\n",
    "matches_df_numeric = matches_df.select_dtypes(include=[np.number])\n",
    "\n",
    "# Calcular a matriz de correlação\n",
    "corr_matrix = matches_df_numeric.corr().abs()\n",
    "\n",
    "# Criar uma máscara para identificar as correlações acima do limiar (excluindo a diagonal da matriz)\n",
    "upper = corr_matrix.where(np.triu(np.ones(corr_matrix.shape), k=1).astype(bool))\n",
    "\n",
    "# Identificar colunas com alta correlação (acima do limiar)\n",
    "to_drop = [column for column in upper.columns if any(upper[column] > threshold)]\n",
    "\n",
    "# Remover as colunas altamente correlacionadas\n",
    "matches_df_cleaned = matches_df.drop(columns=to_drop)\n",
    "\n",
    "# Exibindo as colunas removidas e o dataframe resultante\n",
    "print(f\"Colunas removidas por alta correlação: {to_drop}\")\n",
    "matches_df_cleaned.head()"
   ]
  }
 ],
 "metadata": {
  "kernelspec": {
   "display_name": "mtg_env",
   "language": "python",
   "name": "python3"
  },
  "language_info": {
   "codemirror_mode": {
    "name": "ipython",
    "version": 3
   },
   "file_extension": ".py",
   "mimetype": "text/x-python",
   "name": "python",
   "nbconvert_exporter": "python",
   "pygments_lexer": "ipython3",
   "version": "3.12.5"
  }
 },
 "nbformat": 4,
 "nbformat_minor": 2
}
