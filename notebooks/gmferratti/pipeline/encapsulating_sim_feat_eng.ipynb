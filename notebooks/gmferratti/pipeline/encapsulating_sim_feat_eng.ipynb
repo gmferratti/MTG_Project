{
 "cells": [
  {
   "cell_type": "code",
   "execution_count": 1,
   "metadata": {},
   "outputs": [
    {
     "data": {
      "text/html": [
       "<pre style=\"white-space:pre;overflow-x:auto;line-height:normal;font-family:Menlo,'DejaVu Sans Mono',consolas,'Courier New',monospace\"><span style=\"color: #7fbfbf; text-decoration-color: #7fbfbf\">[09/17/24 21:23:32] </span><span style=\"color: #000080; text-decoration-color: #000080\">INFO    </span> Using                                                                  <a href=\"file://c:\\Users\\gufer\\miniconda3\\envs\\mtg_env\\Lib\\site-packages\\kedro\\framework\\project\\__init__.py\" target=\"_blank\"><span style=\"color: #7f7f7f; text-decoration-color: #7f7f7f\">__init__.py</span></a><span style=\"color: #7f7f7f; text-decoration-color: #7f7f7f\">:</span><a href=\"file://c:\\Users\\gufer\\miniconda3\\envs\\mtg_env\\Lib\\site-packages\\kedro\\framework\\project\\__init__.py#249\" target=\"_blank\"><span style=\"color: #7f7f7f; text-decoration-color: #7f7f7f\">249</span></a>\n",
       "<span style=\"color: #7fbfbf; text-decoration-color: #7fbfbf\">                    </span>         <span style=\"color: #008000; text-decoration-color: #008000\">'c:\\Users\\gufer\\miniconda3\\envs\\mtg_env\\Lib\\site-packages\\kedro\\framew</span> <span style=\"color: #7f7f7f; text-decoration-color: #7f7f7f\">               </span>\n",
       "<span style=\"color: #7fbfbf; text-decoration-color: #7fbfbf\">                    </span>         <span style=\"color: #008000; text-decoration-color: #008000\">ork\\project\\rich_logging.yml'</span> as logging configuration.                <span style=\"color: #7f7f7f; text-decoration-color: #7f7f7f\">               </span>\n",
       "</pre>\n"
      ],
      "text/plain": [
       "\u001b[2;36m[09/17/24 21:23:32]\u001b[0m\u001b[2;36m \u001b[0m\u001b[34mINFO    \u001b[0m Using                                                                  \u001b]8;id=810904;file://c:\\Users\\gufer\\miniconda3\\envs\\mtg_env\\Lib\\site-packages\\kedro\\framework\\project\\__init__.py\u001b\\\u001b[2m__init__.py\u001b[0m\u001b]8;;\u001b\\\u001b[2m:\u001b[0m\u001b]8;id=347726;file://c:\\Users\\gufer\\miniconda3\\envs\\mtg_env\\Lib\\site-packages\\kedro\\framework\\project\\__init__.py#249\u001b\\\u001b[2m249\u001b[0m\u001b]8;;\u001b\\\n",
       "\u001b[2;36m                    \u001b[0m         \u001b[32m'c:\\Users\\gufer\\miniconda3\\envs\\mtg_env\\Lib\\site-packages\\kedro\\framew\u001b[0m \u001b[2m               \u001b[0m\n",
       "\u001b[2;36m                    \u001b[0m         \u001b[32mork\\project\\rich_logging.yml'\u001b[0m as logging configuration.                \u001b[2m               \u001b[0m\n"
      ]
     },
     "metadata": {},
     "output_type": "display_data"
    },
    {
     "name": "stdout",
     "output_type": "stream",
     "text": [
      "Notebook current working directory: c:\\Users\\gufer\\OneDrive\\Documentos\\FIAP\\Fase_03\\notebooks\\gmferratti\\pipeline\n",
      "Project path: c:\\Users\\gufer\\OneDrive\\Documentos\\FIAP\\Fase_03\\mtg-project\n"
     ]
    },
    {
     "data": {
      "text/html": [
       "<pre style=\"white-space:pre;overflow-x:auto;line-height:normal;font-family:Menlo,'DejaVu Sans Mono',consolas,'Courier New',monospace\"><span style=\"color: #7fbfbf; text-decoration-color: #7fbfbf\">[09/17/24 21:23:36] </span><span style=\"color: #000080; text-decoration-color: #000080\">INFO    </span> Kedro is sending anonymous usage data with the sole purpose of improving <a href=\"file://c:\\Users\\gufer\\miniconda3\\envs\\mtg_env\\Lib\\site-packages\\kedro_telemetry\\plugin.py\" target=\"_blank\"><span style=\"color: #7f7f7f; text-decoration-color: #7f7f7f\">plugin.py</span></a><span style=\"color: #7f7f7f; text-decoration-color: #7f7f7f\">:</span><a href=\"file://c:\\Users\\gufer\\miniconda3\\envs\\mtg_env\\Lib\\site-packages\\kedro_telemetry\\plugin.py#233\" target=\"_blank\"><span style=\"color: #7f7f7f; text-decoration-color: #7f7f7f\">233</span></a>\n",
       "<span style=\"color: #7fbfbf; text-decoration-color: #7fbfbf\">                    </span>         the product. No personal data or IP addresses are stored on our side. If <span style=\"color: #7f7f7f; text-decoration-color: #7f7f7f\">             </span>\n",
       "<span style=\"color: #7fbfbf; text-decoration-color: #7fbfbf\">                    </span>         you want to opt out, set the `KEDRO_DISABLE_TELEMETRY` or `DO_NOT_TRACK` <span style=\"color: #7f7f7f; text-decoration-color: #7f7f7f\">             </span>\n",
       "<span style=\"color: #7fbfbf; text-decoration-color: #7fbfbf\">                    </span>         environment variables, or create a `.telemetry` file in the current      <span style=\"color: #7f7f7f; text-decoration-color: #7f7f7f\">             </span>\n",
       "<span style=\"color: #7fbfbf; text-decoration-color: #7fbfbf\">                    </span>         working directory with the contents `consent: false`. Read more at       <span style=\"color: #7f7f7f; text-decoration-color: #7f7f7f\">             </span>\n",
       "<span style=\"color: #7fbfbf; text-decoration-color: #7fbfbf\">                    </span>         <span style=\"color: #0000ff; text-decoration-color: #0000ff; text-decoration: underline\">https://docs.kedro.org/en/stable/configuration/telemetry.html</span>            <span style=\"color: #7f7f7f; text-decoration-color: #7f7f7f\">             </span>\n",
       "</pre>\n"
      ],
      "text/plain": [
       "\u001b[2;36m[09/17/24 21:23:36]\u001b[0m\u001b[2;36m \u001b[0m\u001b[34mINFO    \u001b[0m Kedro is sending anonymous usage data with the sole purpose of improving \u001b]8;id=445855;file://c:\\Users\\gufer\\miniconda3\\envs\\mtg_env\\Lib\\site-packages\\kedro_telemetry\\plugin.py\u001b\\\u001b[2mplugin.py\u001b[0m\u001b]8;;\u001b\\\u001b[2m:\u001b[0m\u001b]8;id=124740;file://c:\\Users\\gufer\\miniconda3\\envs\\mtg_env\\Lib\\site-packages\\kedro_telemetry\\plugin.py#233\u001b\\\u001b[2m233\u001b[0m\u001b]8;;\u001b\\\n",
       "\u001b[2;36m                    \u001b[0m         the product. No personal data or IP addresses are stored on our side. If \u001b[2m             \u001b[0m\n",
       "\u001b[2;36m                    \u001b[0m         you want to opt out, set the `KEDRO_DISABLE_TELEMETRY` or `DO_NOT_TRACK` \u001b[2m             \u001b[0m\n",
       "\u001b[2;36m                    \u001b[0m         environment variables, or create a `.telemetry` file in the current      \u001b[2m             \u001b[0m\n",
       "\u001b[2;36m                    \u001b[0m         working directory with the contents `consent: false`. Read more at       \u001b[2m             \u001b[0m\n",
       "\u001b[2;36m                    \u001b[0m         \u001b[4;94mhttps://docs.kedro.org/en/stable/configuration/telemetry.html\u001b[0m            \u001b[2m             \u001b[0m\n"
      ]
     },
     "metadata": {},
     "output_type": "display_data"
    },
    {
     "data": {
      "text/html": [
       "<pre style=\"white-space:pre;overflow-x:auto;line-height:normal;font-family:Menlo,'DejaVu Sans Mono',consolas,'Courier New',monospace\"></pre>\n"
      ],
      "text/plain": []
     },
     "metadata": {},
     "output_type": "display_data"
    },
    {
     "data": {
      "text/plain": [
       "\n",
       "\u001b[1m[\u001b[0m\n",
       "    \u001b[32m'decks_json_partitioned'\u001b[0m,\n",
       "    \u001b[32m'decks_txt_partitioned'\u001b[0m,\n",
       "    \u001b[32m'sampled_decks'\u001b[0m,\n",
       "    \u001b[32m'players'\u001b[0m,\n",
       "    \u001b[32m'players_with_decks'\u001b[0m,\n",
       "    \u001b[32m'matches_df'\u001b[0m,\n",
       "    \u001b[32m'features_df'\u001b[0m,\n",
       "    \u001b[32m'selected_features_df'\u001b[0m,\n",
       "    \u001b[32m'train_features'\u001b[0m,\n",
       "    \u001b[32m'test_features'\u001b[0m,\n",
       "    \u001b[32m'train_target'\u001b[0m,\n",
       "    \u001b[32m'test_target'\u001b[0m,\n",
       "    \u001b[32m'model_pkl'\u001b[0m,\n",
       "    \u001b[32m'parameters'\u001b[0m,\n",
       "    \u001b[32m'params:global'\u001b[0m,\n",
       "    \u001b[32m'params:global.run_date'\u001b[0m,\n",
       "    \u001b[32m'params:global.run_date.day'\u001b[0m,\n",
       "    \u001b[32m'params:global.run_date.month'\u001b[0m,\n",
       "    \u001b[32m'params:global.run_date.year'\u001b[0m,\n",
       "    \u001b[32m'params:global.user'\u001b[0m,\n",
       "    \u001b[32m'params:global.user.project_path'\u001b[0m,\n",
       "    \u001b[32m'params:preprocessing'\u001b[0m,\n",
       "    \u001b[32m'params:preprocessing.webscraper'\u001b[0m,\n",
       "    \u001b[32m'params:preprocessing.webscraper.zip_url'\u001b[0m,\n",
       "    \u001b[32m'params:preprocessing.webscraper.zip_folder'\u001b[0m,\n",
       "    \u001b[32m'params:preprocessing.webscraper.log_folder'\u001b[0m,\n",
       "    \u001b[32m'params:preprocessing.webscraper.deck_cards'\u001b[0m,\n",
       "    \u001b[32m'params:preprocessing.webscraper.sample_size_ratio'\u001b[0m,\n",
       "    \u001b[32m'params:simulation'\u001b[0m,\n",
       "    \u001b[32m'params:simulation.n_players'\u001b[0m,\n",
       "    \u001b[32m'params:simulation.matches_per_player'\u001b[0m,\n",
       "    \u001b[32m'params:simulation.hand_size_stop'\u001b[0m,\n",
       "    \u001b[32m'params:simulation.max_turns'\u001b[0m,\n",
       "    \u001b[32m'params:simulation.max_mulligans'\u001b[0m,\n",
       "    \u001b[32m'params:simulation.mulligan_prob'\u001b[0m,\n",
       "    \u001b[32m'params:simulation.extra_land_prob'\u001b[0m,\n",
       "    \u001b[32m'params:simulation.log_folder'\u001b[0m,\n",
       "    \u001b[32m'params:modeling'\u001b[0m,\n",
       "    \u001b[32m'params:modeling.feature_engineering'\u001b[0m,\n",
       "    \u001b[32m'params:modeling.feature_engineering.feat_corr_threshold'\u001b[0m,\n",
       "    \u001b[32m'params:modeling.feature_selection'\u001b[0m,\n",
       "    \u001b[32m'params:modeling.feature_selection.n_test_players'\u001b[0m,\n",
       "    \u001b[32m'params:modeling.feature_selection.target_column'\u001b[0m,\n",
       "    \u001b[32m'params:evaluation'\u001b[0m,\n",
       "    \u001b[32m'params:evaluation.metrics'\u001b[0m,\n",
       "    \u001b[32m'params:evaluation.metrics.accuracy_threshold'\u001b[0m,\n",
       "    \u001b[32m'params:evaluation.metrics.f1_threshold'\u001b[0m,\n",
       "    \u001b[32m'params:evaluation.reporting'\u001b[0m,\n",
       "    \u001b[32m'params:evaluation.reporting.save_reports'\u001b[0m,\n",
       "    \u001b[32m'params:evaluation.reporting.report_format'\u001b[0m\n",
       "\u001b[1m]\u001b[0m"
      ]
     },
     "execution_count": 1,
     "metadata": {},
     "output_type": "execute_result"
    }
   ],
   "source": [
    "import os\n",
    "from kedro.framework.startup import bootstrap_project\n",
    "from kedro.framework.session import KedroSession\n",
    "import warnings\n",
    "\n",
    "warnings.filterwarnings(\"ignore\")\n",
    "\n",
    "# Encontrar o caminho absoluto do diretório atual\n",
    "notebook_cwd = os.getcwd()\n",
    "\n",
    "# Definir o caminho correto para a raiz do projeto Kedro\n",
    "project_path = r\"c:\\Users\\gufer\\OneDrive\\Documentos\\FIAP\\Fase_03\\mtg-project\"\n",
    "\n",
    "# Verificar o diretório atual e o caminho do projeto\n",
    "print(f\"Notebook current working directory: {notebook_cwd}\")\n",
    "print(f\"Project path: {project_path}\")\n",
    "\n",
    "# Alterar para o diretório raiz do projeto Kedro\n",
    "os.chdir(project_path)\n",
    "\n",
    "# Bootstrap o projeto Kedro\n",
    "bootstrap_project(project_path)\n",
    "\n",
    "# Inicialize o contexto do Kedro\n",
    "with KedroSession.create() as session:\n",
    "    context = session.load_context()\n",
    "\n",
    "# Recarregar o catálogo\n",
    "catalog = context.catalog\n",
    "\n",
    "# Acessar os parâmetros\n",
    "params = context.params\n",
    "\n",
    "# Listar o catálogo\n",
    "catalog.list()"
   ]
  },
  {
   "cell_type": "code",
   "execution_count": 2,
   "metadata": {},
   "outputs": [],
   "source": [
    "from typing import List, Dict\n",
    "from classes.deck import Deck\n",
    "from classes.player import Player\n",
    "from classes.player_tracker import PlayerTracker\n",
    "from src.mtg_project.pipelines.utils import setup_logger\n",
    "import pandas as pd\n",
    "import numpy as np\n",
    "from faker import Faker\n",
    "import random"
   ]
  },
  {
   "cell_type": "code",
   "execution_count": 3,
   "metadata": {},
   "outputs": [],
   "source": [
    "# with KedroSession.create(env=\"local\", project_path=project_path) as session:\n",
    "#     session.run(pipeline_name=\"modeling\")"
   ]
  },
  {
   "cell_type": "code",
   "execution_count": 4,
   "metadata": {},
   "outputs": [
    {
     "data": {
      "text/html": [
       "<pre style=\"white-space:pre;overflow-x:auto;line-height:normal;font-family:Menlo,'DejaVu Sans Mono',consolas,'Courier New',monospace\"><span style=\"color: #7fbfbf; text-decoration-color: #7fbfbf\">[09/17/24 21:23:37] </span><span style=\"color: #000080; text-decoration-color: #000080\">INFO    </span> Loading data from <span style=\"color: #ff8700; text-decoration-color: #ff8700\">params:simulation.n_players</span> <span style=\"font-weight: bold\">(</span>MemoryDataset<span style=\"font-weight: bold\">)</span><span style=\"color: #808000; text-decoration-color: #808000\">...</span>   <a href=\"file://c:\\Users\\gufer\\miniconda3\\envs\\mtg_env\\Lib\\site-packages\\kedro\\io\\data_catalog.py\" target=\"_blank\"><span style=\"color: #7f7f7f; text-decoration-color: #7f7f7f\">data_catalog.py</span></a><span style=\"color: #7f7f7f; text-decoration-color: #7f7f7f\">:</span><a href=\"file://c:\\Users\\gufer\\miniconda3\\envs\\mtg_env\\Lib\\site-packages\\kedro\\io\\data_catalog.py#539\" target=\"_blank\"><span style=\"color: #7f7f7f; text-decoration-color: #7f7f7f\">539</span></a>\n",
       "</pre>\n"
      ],
      "text/plain": [
       "\u001b[2;36m[09/17/24 21:23:37]\u001b[0m\u001b[2;36m \u001b[0m\u001b[34mINFO    \u001b[0m Loading data from \u001b[38;5;208mparams:simulation.n_players\u001b[0m \u001b[1m(\u001b[0mMemoryDataset\u001b[1m)\u001b[0m\u001b[33m...\u001b[0m   \u001b]8;id=888933;file://c:\\Users\\gufer\\miniconda3\\envs\\mtg_env\\Lib\\site-packages\\kedro\\io\\data_catalog.py\u001b\\\u001b[2mdata_catalog.py\u001b[0m\u001b]8;;\u001b\\\u001b[2m:\u001b[0m\u001b]8;id=455020;file://c:\\Users\\gufer\\miniconda3\\envs\\mtg_env\\Lib\\site-packages\\kedro\\io\\data_catalog.py#539\u001b\\\u001b[2m539\u001b[0m\u001b]8;;\u001b\\\n"
      ]
     },
     "metadata": {},
     "output_type": "display_data"
    },
    {
     "data": {
      "text/html": [
       "<pre style=\"white-space:pre;overflow-x:auto;line-height:normal;font-family:Menlo,'DejaVu Sans Mono',consolas,'Courier New',monospace\"><span style=\"color: #7fbfbf; text-decoration-color: #7fbfbf\">                    </span><span style=\"color: #000080; text-decoration-color: #000080\">INFO    </span> Saving data to <span style=\"color: #ff8700; text-decoration-color: #ff8700\">players</span> <span style=\"font-weight: bold\">(</span>PickleDataset<span style=\"font-weight: bold\">)</span><span style=\"color: #808000; text-decoration-color: #808000\">...</span>                          <a href=\"file://c:\\Users\\gufer\\miniconda3\\envs\\mtg_env\\Lib\\site-packages\\kedro\\io\\data_catalog.py\" target=\"_blank\"><span style=\"color: #7f7f7f; text-decoration-color: #7f7f7f\">data_catalog.py</span></a><span style=\"color: #7f7f7f; text-decoration-color: #7f7f7f\">:</span><a href=\"file://c:\\Users\\gufer\\miniconda3\\envs\\mtg_env\\Lib\\site-packages\\kedro\\io\\data_catalog.py#581\" target=\"_blank\"><span style=\"color: #7f7f7f; text-decoration-color: #7f7f7f\">581</span></a>\n",
       "</pre>\n"
      ],
      "text/plain": [
       "\u001b[2;36m                   \u001b[0m\u001b[2;36m \u001b[0m\u001b[34mINFO    \u001b[0m Saving data to \u001b[38;5;208mplayers\u001b[0m \u001b[1m(\u001b[0mPickleDataset\u001b[1m)\u001b[0m\u001b[33m...\u001b[0m                          \u001b]8;id=906239;file://c:\\Users\\gufer\\miniconda3\\envs\\mtg_env\\Lib\\site-packages\\kedro\\io\\data_catalog.py\u001b\\\u001b[2mdata_catalog.py\u001b[0m\u001b]8;;\u001b\\\u001b[2m:\u001b[0m\u001b]8;id=311592;file://c:\\Users\\gufer\\miniconda3\\envs\\mtg_env\\Lib\\site-packages\\kedro\\io\\data_catalog.py#581\u001b\\\u001b[2m581\u001b[0m\u001b]8;;\u001b\\\n"
      ]
     },
     "metadata": {},
     "output_type": "display_data"
    }
   ],
   "source": [
    "def create_players(n_players: int):\n",
    "    \"\"\"\n",
    "    Cria uma lista de objetos Player com nomes aleatórios.\n",
    "\n",
    "    Args:\n",
    "        n_players (int): Número de jogadores a serem criados.\n",
    "\n",
    "    Returns:\n",
    "        List[Player]: Lista de objetos Player com nomes gerados aleatoriamente.\n",
    "    \"\"\"\n",
    "    # Inicializando o gerador de dados falsos Faker\n",
    "    fake = Faker()\n",
    "    \n",
    "    # Gerando uma lista de nomes aleatórios usando o Faker\n",
    "    player_names = [fake.first_name() + \" \" + fake.last_name() for _ in range(n_players)]\n",
    "    \n",
    "    # Criando uma lista de objetos Player a partir dos nomes gerados\n",
    "    players = [Player(name) for name in player_names]\n",
    "\n",
    "    # Retornando a lista de objetos Player\n",
    "    return players\n",
    "\n",
    "n_players = catalog.load(\"params:simulation.n_players\")\n",
    "players = create_players(n_players)\n",
    "catalog.save(\"players\", players)"
   ]
  },
  {
   "cell_type": "code",
   "execution_count": 5,
   "metadata": {},
   "outputs": [
    {
     "data": {
      "text/html": [
       "<pre style=\"white-space:pre;overflow-x:auto;line-height:normal;font-family:Menlo,'DejaVu Sans Mono',consolas,'Courier New',monospace\"><span style=\"color: #7fbfbf; text-decoration-color: #7fbfbf\">                    </span><span style=\"color: #000080; text-decoration-color: #000080\">INFO    </span> Loading data from <span style=\"color: #ff8700; text-decoration-color: #ff8700\">players</span> <span style=\"font-weight: bold\">(</span>PickleDataset<span style=\"font-weight: bold\">)</span><span style=\"color: #808000; text-decoration-color: #808000\">...</span>                       <a href=\"file://c:\\Users\\gufer\\miniconda3\\envs\\mtg_env\\Lib\\site-packages\\kedro\\io\\data_catalog.py\" target=\"_blank\"><span style=\"color: #7f7f7f; text-decoration-color: #7f7f7f\">data_catalog.py</span></a><span style=\"color: #7f7f7f; text-decoration-color: #7f7f7f\">:</span><a href=\"file://c:\\Users\\gufer\\miniconda3\\envs\\mtg_env\\Lib\\site-packages\\kedro\\io\\data_catalog.py#539\" target=\"_blank\"><span style=\"color: #7f7f7f; text-decoration-color: #7f7f7f\">539</span></a>\n",
       "</pre>\n"
      ],
      "text/plain": [
       "\u001b[2;36m                   \u001b[0m\u001b[2;36m \u001b[0m\u001b[34mINFO    \u001b[0m Loading data from \u001b[38;5;208mplayers\u001b[0m \u001b[1m(\u001b[0mPickleDataset\u001b[1m)\u001b[0m\u001b[33m...\u001b[0m                       \u001b]8;id=961613;file://c:\\Users\\gufer\\miniconda3\\envs\\mtg_env\\Lib\\site-packages\\kedro\\io\\data_catalog.py\u001b\\\u001b[2mdata_catalog.py\u001b[0m\u001b]8;;\u001b\\\u001b[2m:\u001b[0m\u001b]8;id=786295;file://c:\\Users\\gufer\\miniconda3\\envs\\mtg_env\\Lib\\site-packages\\kedro\\io\\data_catalog.py#539\u001b\\\u001b[2m539\u001b[0m\u001b]8;;\u001b\\\n"
      ]
     },
     "metadata": {},
     "output_type": "display_data"
    },
    {
     "data": {
      "text/html": [
       "<pre style=\"white-space:pre;overflow-x:auto;line-height:normal;font-family:Menlo,'DejaVu Sans Mono',consolas,'Courier New',monospace\"><span style=\"color: #7fbfbf; text-decoration-color: #7fbfbf\">                    </span><span style=\"color: #000080; text-decoration-color: #000080\">INFO    </span> Loading data from <span style=\"color: #ff8700; text-decoration-color: #ff8700\">sampled_decks</span> <span style=\"font-weight: bold\">(</span>PickleDataset<span style=\"font-weight: bold\">)</span><span style=\"color: #808000; text-decoration-color: #808000\">...</span>                 <a href=\"file://c:\\Users\\gufer\\miniconda3\\envs\\mtg_env\\Lib\\site-packages\\kedro\\io\\data_catalog.py\" target=\"_blank\"><span style=\"color: #7f7f7f; text-decoration-color: #7f7f7f\">data_catalog.py</span></a><span style=\"color: #7f7f7f; text-decoration-color: #7f7f7f\">:</span><a href=\"file://c:\\Users\\gufer\\miniconda3\\envs\\mtg_env\\Lib\\site-packages\\kedro\\io\\data_catalog.py#539\" target=\"_blank\"><span style=\"color: #7f7f7f; text-decoration-color: #7f7f7f\">539</span></a>\n",
       "</pre>\n"
      ],
      "text/plain": [
       "\u001b[2;36m                   \u001b[0m\u001b[2;36m \u001b[0m\u001b[34mINFO    \u001b[0m Loading data from \u001b[38;5;208msampled_decks\u001b[0m \u001b[1m(\u001b[0mPickleDataset\u001b[1m)\u001b[0m\u001b[33m...\u001b[0m                 \u001b]8;id=942219;file://c:\\Users\\gufer\\miniconda3\\envs\\mtg_env\\Lib\\site-packages\\kedro\\io\\data_catalog.py\u001b\\\u001b[2mdata_catalog.py\u001b[0m\u001b]8;;\u001b\\\u001b[2m:\u001b[0m\u001b]8;id=689518;file://c:\\Users\\gufer\\miniconda3\\envs\\mtg_env\\Lib\\site-packages\\kedro\\io\\data_catalog.py#539\u001b\\\u001b[2m539\u001b[0m\u001b]8;;\u001b\\\n"
      ]
     },
     "metadata": {},
     "output_type": "display_data"
    },
    {
     "data": {
      "text/html": [
       "<pre style=\"white-space:pre;overflow-x:auto;line-height:normal;font-family:Menlo,'DejaVu Sans Mono',consolas,'Courier New',monospace\"><span style=\"color: #7fbfbf; text-decoration-color: #7fbfbf\">                    </span><span style=\"color: #000080; text-decoration-color: #000080\">INFO    </span> Loading data from <span style=\"color: #ff8700; text-decoration-color: #ff8700\">params:simulation.log_folder</span> <span style=\"font-weight: bold\">(</span>MemoryDataset<span style=\"font-weight: bold\">)</span><span style=\"color: #808000; text-decoration-color: #808000\">...</span>  <a href=\"file://c:\\Users\\gufer\\miniconda3\\envs\\mtg_env\\Lib\\site-packages\\kedro\\io\\data_catalog.py\" target=\"_blank\"><span style=\"color: #7f7f7f; text-decoration-color: #7f7f7f\">data_catalog.py</span></a><span style=\"color: #7f7f7f; text-decoration-color: #7f7f7f\">:</span><a href=\"file://c:\\Users\\gufer\\miniconda3\\envs\\mtg_env\\Lib\\site-packages\\kedro\\io\\data_catalog.py#539\" target=\"_blank\"><span style=\"color: #7f7f7f; text-decoration-color: #7f7f7f\">539</span></a>\n",
       "</pre>\n"
      ],
      "text/plain": [
       "\u001b[2;36m                   \u001b[0m\u001b[2;36m \u001b[0m\u001b[34mINFO    \u001b[0m Loading data from \u001b[38;5;208mparams:simulation.log_folder\u001b[0m \u001b[1m(\u001b[0mMemoryDataset\u001b[1m)\u001b[0m\u001b[33m...\u001b[0m  \u001b]8;id=514061;file://c:\\Users\\gufer\\miniconda3\\envs\\mtg_env\\Lib\\site-packages\\kedro\\io\\data_catalog.py\u001b\\\u001b[2mdata_catalog.py\u001b[0m\u001b]8;;\u001b\\\u001b[2m:\u001b[0m\u001b]8;id=102247;file://c:\\Users\\gufer\\miniconda3\\envs\\mtg_env\\Lib\\site-packages\\kedro\\io\\data_catalog.py#539\u001b\\\u001b[2m539\u001b[0m\u001b]8;;\u001b\\\n"
      ]
     },
     "metadata": {},
     "output_type": "display_data"
    }
   ],
   "source": [
    "import random\n",
    "import os\n",
    "from typing import List, Dict\n",
    "\n",
    "def assign_decks_to_players(\n",
    "        players: List[Player], \n",
    "        sampled_decks: Dict[str, str],\n",
    "        log_folder: str) -> List[Player]:\n",
    "    \"\"\"\n",
    "    Função para atribuir decks aleatórios a cada player na lista de players.\n",
    "\n",
    "    A função tentará atribuir um deck a cada player chamando o método assign_deck().\n",
    "    Caso ocorra algum erro na atribuição, tentará com outro deck disponível.\n",
    "\n",
    "    Args:\n",
    "        players (list): Lista de objetos Player.\n",
    "        sampled_decks (dict): Dicionário com os nomes e caminhos dos decks.\n",
    "        log_folder (str): Caminho da pasta para salvar o log.\n",
    "\n",
    "    Returns:\n",
    "        List[Player]: Lista de objetos Player com decks atribuídos.\n",
    "    \"\"\"\n",
    "    # Caminho do arquivo de log\n",
    "    log_filepath = os.path.join(log_folder, 'decks_assignment.txt')\n",
    "\n",
    "    # Cria a pasta de log se ela não existir\n",
    "    os.makedirs(log_folder, exist_ok=True)\n",
    "\n",
    "    # Configura o logger geral\n",
    "    logger = setup_logger(\"validate_decks\", log_filepath)\n",
    "    \n",
    "    # Log de início da validação\n",
    "    logger.info(\"Validating decks...\")\n",
    "\n",
    "    # Convertemos as chaves do dicionário para uma lista de nomes de decks disponíveis\n",
    "    available_decks = list(sampled_decks.keys())\n",
    "    \n",
    "    for player in players:\n",
    "        assigned = False\n",
    "        while not assigned and available_decks:\n",
    "            try:\n",
    "                # Seleciona um deck aleatório da lista de decks disponíveis\n",
    "                deck_name = random.choice(available_decks)\n",
    "\n",
    "                # Obter o caminho completo do deck a partir do dicionário sampled_decks\n",
    "                deck_path = sampled_decks[deck_name]\n",
    "\n",
    "                # Cria um novo objeto Deck\n",
    "                deck = Deck()\n",
    "\n",
    "                # Carrega o deck a partir do arquivo .txt no caminho obtido\n",
    "                deck.load_deck_from_txt(deck_path)\n",
    "\n",
    "                # Atribui o deck ao player\n",
    "                player.assign_deck(deck)\n",
    "                logger.info(f\"Deck '{deck_name}' assigned to player '{player.name}'\")\n",
    "                \n",
    "                # Remove o deck da lista de decks disponíveis para evitar reutilização\n",
    "                available_decks.remove(deck_name)\n",
    "\n",
    "                assigned = True  # Deck atribuído com sucesso\n",
    "            except Exception as e:\n",
    "                # Em caso de erro, tenta outro deck\n",
    "                logger.error(f\"Failed to assign deck '{deck_name}' to player '{player.name}': {e}\")\n",
    "                continue\n",
    "        \n",
    "        \n",
    "        # Se não houver mais decks disponíveis e não conseguir atribuir, lança um erro\n",
    "        if not assigned:\n",
    "            raise ValueError(f\"No available decks left to assign to player '{player.name}'.\")\n",
    "\n",
    "    logger.info(\"Deck assignment process completed.\")\n",
    "\n",
    "    return players\n",
    "\n",
    "players = catalog.load(\"players\")\n",
    "sampled_decks = catalog.load(\"sampled_decks\")\n",
    "log_folder = catalog.load(\"params:simulation.log_folder\")\n",
    "# players_with_decks = assign_decks_to_players(players, sampled_decks, log_folder)\n",
    "# catalog.save(\"players_with_decks\", players_with_decks)"
   ]
  },
  {
   "cell_type": "code",
   "execution_count": 6,
   "metadata": {},
   "outputs": [
    {
     "data": {
      "text/html": [
       "<pre style=\"white-space:pre;overflow-x:auto;line-height:normal;font-family:Menlo,'DejaVu Sans Mono',consolas,'Courier New',monospace\"><span style=\"color: #7fbfbf; text-decoration-color: #7fbfbf\">                    </span><span style=\"color: #000080; text-decoration-color: #000080\">INFO    </span> Loading data from <span style=\"color: #ff8700; text-decoration-color: #ff8700\">params:simulation</span> <span style=\"font-weight: bold\">(</span>MemoryDataset<span style=\"font-weight: bold\">)</span><span style=\"color: #808000; text-decoration-color: #808000\">...</span>             <a href=\"file://c:\\Users\\gufer\\miniconda3\\envs\\mtg_env\\Lib\\site-packages\\kedro\\io\\data_catalog.py\" target=\"_blank\"><span style=\"color: #7f7f7f; text-decoration-color: #7f7f7f\">data_catalog.py</span></a><span style=\"color: #7f7f7f; text-decoration-color: #7f7f7f\">:</span><a href=\"file://c:\\Users\\gufer\\miniconda3\\envs\\mtg_env\\Lib\\site-packages\\kedro\\io\\data_catalog.py#539\" target=\"_blank\"><span style=\"color: #7f7f7f; text-decoration-color: #7f7f7f\">539</span></a>\n",
       "</pre>\n"
      ],
      "text/plain": [
       "\u001b[2;36m                   \u001b[0m\u001b[2;36m \u001b[0m\u001b[34mINFO    \u001b[0m Loading data from \u001b[38;5;208mparams:simulation\u001b[0m \u001b[1m(\u001b[0mMemoryDataset\u001b[1m)\u001b[0m\u001b[33m...\u001b[0m             \u001b]8;id=571164;file://c:\\Users\\gufer\\miniconda3\\envs\\mtg_env\\Lib\\site-packages\\kedro\\io\\data_catalog.py\u001b\\\u001b[2mdata_catalog.py\u001b[0m\u001b]8;;\u001b\\\u001b[2m:\u001b[0m\u001b]8;id=917108;file://c:\\Users\\gufer\\miniconda3\\envs\\mtg_env\\Lib\\site-packages\\kedro\\io\\data_catalog.py#539\u001b\\\u001b[2m539\u001b[0m\u001b]8;;\u001b\\\n"
      ]
     },
     "metadata": {},
     "output_type": "display_data"
    },
    {
     "data": {
      "text/html": [
       "<pre style=\"white-space:pre;overflow-x:auto;line-height:normal;font-family:Menlo,'DejaVu Sans Mono',consolas,'Courier New',monospace\"><span style=\"color: #7fbfbf; text-decoration-color: #7fbfbf\">                    </span><span style=\"color: #000080; text-decoration-color: #000080\">INFO    </span> Loading data from <span style=\"color: #ff8700; text-decoration-color: #ff8700\">players_with_decks</span> <span style=\"font-weight: bold\">(</span>PickleDataset<span style=\"font-weight: bold\">)</span><span style=\"color: #808000; text-decoration-color: #808000\">...</span>            <a href=\"file://c:\\Users\\gufer\\miniconda3\\envs\\mtg_env\\Lib\\site-packages\\kedro\\io\\data_catalog.py\" target=\"_blank\"><span style=\"color: #7f7f7f; text-decoration-color: #7f7f7f\">data_catalog.py</span></a><span style=\"color: #7f7f7f; text-decoration-color: #7f7f7f\">:</span><a href=\"file://c:\\Users\\gufer\\miniconda3\\envs\\mtg_env\\Lib\\site-packages\\kedro\\io\\data_catalog.py#539\" target=\"_blank\"><span style=\"color: #7f7f7f; text-decoration-color: #7f7f7f\">539</span></a>\n",
       "</pre>\n"
      ],
      "text/plain": [
       "\u001b[2;36m                   \u001b[0m\u001b[2;36m \u001b[0m\u001b[34mINFO    \u001b[0m Loading data from \u001b[38;5;208mplayers_with_decks\u001b[0m \u001b[1m(\u001b[0mPickleDataset\u001b[1m)\u001b[0m\u001b[33m...\u001b[0m            \u001b]8;id=544488;file://c:\\Users\\gufer\\miniconda3\\envs\\mtg_env\\Lib\\site-packages\\kedro\\io\\data_catalog.py\u001b\\\u001b[2mdata_catalog.py\u001b[0m\u001b]8;;\u001b\\\u001b[2m:\u001b[0m\u001b]8;id=126409;file://c:\\Users\\gufer\\miniconda3\\envs\\mtg_env\\Lib\\site-packages\\kedro\\io\\data_catalog.py#539\u001b\\\u001b[2m539\u001b[0m\u001b]8;;\u001b\\\n"
      ]
     },
     "metadata": {},
     "output_type": "display_data"
    },
    {
     "data": {
      "text/html": [
       "<pre style=\"white-space:pre;overflow-x:auto;line-height:normal;font-family:Menlo,'DejaVu Sans Mono',consolas,'Courier New',monospace\"><span style=\"color: #7fbfbf; text-decoration-color: #7fbfbf\">                    </span><span style=\"color: #808000; text-decoration-color: #808000\">WARNING </span> Shari Grant couldn't play any spells.                                    <a href=\"file://c:\\Users\\gufer\\OneDrive\\Documentos\\FIAP\\Fase_03\\mtg-project\\classes\\player.py\" target=\"_blank\"><span style=\"color: #7f7f7f; text-decoration-color: #7f7f7f\">player.py</span></a><span style=\"color: #7f7f7f; text-decoration-color: #7f7f7f\">:</span><a href=\"file://c:\\Users\\gufer\\OneDrive\\Documentos\\FIAP\\Fase_03\\mtg-project\\classes\\player.py#372\" target=\"_blank\"><span style=\"color: #7f7f7f; text-decoration-color: #7f7f7f\">372</span></a>\n",
       "</pre>\n"
      ],
      "text/plain": [
       "\u001b[2;36m                   \u001b[0m\u001b[2;36m \u001b[0m\u001b[33mWARNING \u001b[0m Shari Grant couldn't play any spells.                                    \u001b]8;id=862580;file://c:\\Users\\gufer\\OneDrive\\Documentos\\FIAP\\Fase_03\\mtg-project\\classes\\player.py\u001b\\\u001b[2mplayer.py\u001b[0m\u001b]8;;\u001b\\\u001b[2m:\u001b[0m\u001b]8;id=682678;file://c:\\Users\\gufer\\OneDrive\\Documentos\\FIAP\\Fase_03\\mtg-project\\classes\\player.py#372\u001b\\\u001b[2m372\u001b[0m\u001b]8;;\u001b\\\n"
      ]
     },
     "metadata": {},
     "output_type": "display_data"
    },
    {
     "data": {
      "text/html": [
       "<pre style=\"white-space:pre;overflow-x:auto;line-height:normal;font-family:Menlo,'DejaVu Sans Mono',consolas,'Courier New',monospace\"><span style=\"color: #7fbfbf; text-decoration-color: #7fbfbf\">                    </span><span style=\"color: #808000; text-decoration-color: #808000\">WARNING </span> Shari Grant couldn't play any spells.                                    <a href=\"file://c:\\Users\\gufer\\OneDrive\\Documentos\\FIAP\\Fase_03\\mtg-project\\classes\\player.py\" target=\"_blank\"><span style=\"color: #7f7f7f; text-decoration-color: #7f7f7f\">player.py</span></a><span style=\"color: #7f7f7f; text-decoration-color: #7f7f7f\">:</span><a href=\"file://c:\\Users\\gufer\\OneDrive\\Documentos\\FIAP\\Fase_03\\mtg-project\\classes\\player.py#372\" target=\"_blank\"><span style=\"color: #7f7f7f; text-decoration-color: #7f7f7f\">372</span></a>\n",
       "</pre>\n"
      ],
      "text/plain": [
       "\u001b[2;36m                   \u001b[0m\u001b[2;36m \u001b[0m\u001b[33mWARNING \u001b[0m Shari Grant couldn't play any spells.                                    \u001b]8;id=72374;file://c:\\Users\\gufer\\OneDrive\\Documentos\\FIAP\\Fase_03\\mtg-project\\classes\\player.py\u001b\\\u001b[2mplayer.py\u001b[0m\u001b]8;;\u001b\\\u001b[2m:\u001b[0m\u001b]8;id=709030;file://c:\\Users\\gufer\\OneDrive\\Documentos\\FIAP\\Fase_03\\mtg-project\\classes\\player.py#372\u001b\\\u001b[2m372\u001b[0m\u001b]8;;\u001b\\\n"
      ]
     },
     "metadata": {},
     "output_type": "display_data"
    },
    {
     "data": {
      "text/html": [
       "<pre style=\"white-space:pre;overflow-x:auto;line-height:normal;font-family:Menlo,'DejaVu Sans Mono',consolas,'Courier New',monospace\"><span style=\"color: #7fbfbf; text-decoration-color: #7fbfbf\">                    </span><span style=\"color: #808000; text-decoration-color: #808000\">WARNING </span> Shari Grant couldn't play any spells.                                    <a href=\"file://c:\\Users\\gufer\\OneDrive\\Documentos\\FIAP\\Fase_03\\mtg-project\\classes\\player.py\" target=\"_blank\"><span style=\"color: #7f7f7f; text-decoration-color: #7f7f7f\">player.py</span></a><span style=\"color: #7f7f7f; text-decoration-color: #7f7f7f\">:</span><a href=\"file://c:\\Users\\gufer\\OneDrive\\Documentos\\FIAP\\Fase_03\\mtg-project\\classes\\player.py#372\" target=\"_blank\"><span style=\"color: #7f7f7f; text-decoration-color: #7f7f7f\">372</span></a>\n",
       "</pre>\n"
      ],
      "text/plain": [
       "\u001b[2;36m                   \u001b[0m\u001b[2;36m \u001b[0m\u001b[33mWARNING \u001b[0m Shari Grant couldn't play any spells.                                    \u001b]8;id=95287;file://c:\\Users\\gufer\\OneDrive\\Documentos\\FIAP\\Fase_03\\mtg-project\\classes\\player.py\u001b\\\u001b[2mplayer.py\u001b[0m\u001b]8;;\u001b\\\u001b[2m:\u001b[0m\u001b]8;id=178293;file://c:\\Users\\gufer\\OneDrive\\Documentos\\FIAP\\Fase_03\\mtg-project\\classes\\player.py#372\u001b\\\u001b[2m372\u001b[0m\u001b]8;;\u001b\\\n"
      ]
     },
     "metadata": {},
     "output_type": "display_data"
    },
    {
     "data": {
      "text/html": [
       "<pre style=\"white-space:pre;overflow-x:auto;line-height:normal;font-family:Menlo,'DejaVu Sans Mono',consolas,'Courier New',monospace\"><span style=\"color: #7fbfbf; text-decoration-color: #7fbfbf\">                    </span><span style=\"color: #808000; text-decoration-color: #808000\">WARNING </span> Shari Grant couldn't play any spells.                                    <a href=\"file://c:\\Users\\gufer\\OneDrive\\Documentos\\FIAP\\Fase_03\\mtg-project\\classes\\player.py\" target=\"_blank\"><span style=\"color: #7f7f7f; text-decoration-color: #7f7f7f\">player.py</span></a><span style=\"color: #7f7f7f; text-decoration-color: #7f7f7f\">:</span><a href=\"file://c:\\Users\\gufer\\OneDrive\\Documentos\\FIAP\\Fase_03\\mtg-project\\classes\\player.py#372\" target=\"_blank\"><span style=\"color: #7f7f7f; text-decoration-color: #7f7f7f\">372</span></a>\n",
       "</pre>\n"
      ],
      "text/plain": [
       "\u001b[2;36m                   \u001b[0m\u001b[2;36m \u001b[0m\u001b[33mWARNING \u001b[0m Shari Grant couldn't play any spells.                                    \u001b]8;id=170271;file://c:\\Users\\gufer\\OneDrive\\Documentos\\FIAP\\Fase_03\\mtg-project\\classes\\player.py\u001b\\\u001b[2mplayer.py\u001b[0m\u001b]8;;\u001b\\\u001b[2m:\u001b[0m\u001b]8;id=476591;file://c:\\Users\\gufer\\OneDrive\\Documentos\\FIAP\\Fase_03\\mtg-project\\classes\\player.py#372\u001b\\\u001b[2m372\u001b[0m\u001b]8;;\u001b\\\n"
      ]
     },
     "metadata": {},
     "output_type": "display_data"
    },
    {
     "data": {
      "text/html": [
       "<pre style=\"white-space:pre;overflow-x:auto;line-height:normal;font-family:Menlo,'DejaVu Sans Mono',consolas,'Courier New',monospace\"><span style=\"color: #7fbfbf; text-decoration-color: #7fbfbf\">                    </span><span style=\"color: #808000; text-decoration-color: #808000\">WARNING </span> Shari Grant couldn't play any spells.                                    <a href=\"file://c:\\Users\\gufer\\OneDrive\\Documentos\\FIAP\\Fase_03\\mtg-project\\classes\\player.py\" target=\"_blank\"><span style=\"color: #7f7f7f; text-decoration-color: #7f7f7f\">player.py</span></a><span style=\"color: #7f7f7f; text-decoration-color: #7f7f7f\">:</span><a href=\"file://c:\\Users\\gufer\\OneDrive\\Documentos\\FIAP\\Fase_03\\mtg-project\\classes\\player.py#372\" target=\"_blank\"><span style=\"color: #7f7f7f; text-decoration-color: #7f7f7f\">372</span></a>\n",
       "</pre>\n"
      ],
      "text/plain": [
       "\u001b[2;36m                   \u001b[0m\u001b[2;36m \u001b[0m\u001b[33mWARNING \u001b[0m Shari Grant couldn't play any spells.                                    \u001b]8;id=319504;file://c:\\Users\\gufer\\OneDrive\\Documentos\\FIAP\\Fase_03\\mtg-project\\classes\\player.py\u001b\\\u001b[2mplayer.py\u001b[0m\u001b]8;;\u001b\\\u001b[2m:\u001b[0m\u001b]8;id=886629;file://c:\\Users\\gufer\\OneDrive\\Documentos\\FIAP\\Fase_03\\mtg-project\\classes\\player.py#372\u001b\\\u001b[2m372\u001b[0m\u001b]8;;\u001b\\\n"
      ]
     },
     "metadata": {},
     "output_type": "display_data"
    },
    {
     "data": {
      "text/html": [
       "<pre style=\"white-space:pre;overflow-x:auto;line-height:normal;font-family:Menlo,'DejaVu Sans Mono',consolas,'Courier New',monospace\"><span style=\"color: #7fbfbf; text-decoration-color: #7fbfbf\">                    </span><span style=\"color: #808000; text-decoration-color: #808000\">WARNING </span> Shari Grant couldn't play any spells.                                    <a href=\"file://c:\\Users\\gufer\\OneDrive\\Documentos\\FIAP\\Fase_03\\mtg-project\\classes\\player.py\" target=\"_blank\"><span style=\"color: #7f7f7f; text-decoration-color: #7f7f7f\">player.py</span></a><span style=\"color: #7f7f7f; text-decoration-color: #7f7f7f\">:</span><a href=\"file://c:\\Users\\gufer\\OneDrive\\Documentos\\FIAP\\Fase_03\\mtg-project\\classes\\player.py#372\" target=\"_blank\"><span style=\"color: #7f7f7f; text-decoration-color: #7f7f7f\">372</span></a>\n",
       "</pre>\n"
      ],
      "text/plain": [
       "\u001b[2;36m                   \u001b[0m\u001b[2;36m \u001b[0m\u001b[33mWARNING \u001b[0m Shari Grant couldn't play any spells.                                    \u001b]8;id=830961;file://c:\\Users\\gufer\\OneDrive\\Documentos\\FIAP\\Fase_03\\mtg-project\\classes\\player.py\u001b\\\u001b[2mplayer.py\u001b[0m\u001b]8;;\u001b\\\u001b[2m:\u001b[0m\u001b]8;id=462321;file://c:\\Users\\gufer\\OneDrive\\Documentos\\FIAP\\Fase_03\\mtg-project\\classes\\player.py#372\u001b\\\u001b[2m372\u001b[0m\u001b]8;;\u001b\\\n"
      ]
     },
     "metadata": {},
     "output_type": "display_data"
    },
    {
     "data": {
      "text/html": [
       "<pre style=\"white-space:pre;overflow-x:auto;line-height:normal;font-family:Menlo,'DejaVu Sans Mono',consolas,'Courier New',monospace\"><span style=\"color: #7fbfbf; text-decoration-color: #7fbfbf\">[09/17/24 21:23:38] </span><span style=\"color: #808000; text-decoration-color: #808000\">WARNING </span> Shari Grant couldn't play any spells.                                    <a href=\"file://c:\\Users\\gufer\\OneDrive\\Documentos\\FIAP\\Fase_03\\mtg-project\\classes\\player.py\" target=\"_blank\"><span style=\"color: #7f7f7f; text-decoration-color: #7f7f7f\">player.py</span></a><span style=\"color: #7f7f7f; text-decoration-color: #7f7f7f\">:</span><a href=\"file://c:\\Users\\gufer\\OneDrive\\Documentos\\FIAP\\Fase_03\\mtg-project\\classes\\player.py#372\" target=\"_blank\"><span style=\"color: #7f7f7f; text-decoration-color: #7f7f7f\">372</span></a>\n",
       "</pre>\n"
      ],
      "text/plain": [
       "\u001b[2;36m[09/17/24 21:23:38]\u001b[0m\u001b[2;36m \u001b[0m\u001b[33mWARNING \u001b[0m Shari Grant couldn't play any spells.                                    \u001b]8;id=760164;file://c:\\Users\\gufer\\OneDrive\\Documentos\\FIAP\\Fase_03\\mtg-project\\classes\\player.py\u001b\\\u001b[2mplayer.py\u001b[0m\u001b]8;;\u001b\\\u001b[2m:\u001b[0m\u001b]8;id=208451;file://c:\\Users\\gufer\\OneDrive\\Documentos\\FIAP\\Fase_03\\mtg-project\\classes\\player.py#372\u001b\\\u001b[2m372\u001b[0m\u001b]8;;\u001b\\\n"
      ]
     },
     "metadata": {},
     "output_type": "display_data"
    },
    {
     "data": {
      "text/html": [
       "<pre style=\"white-space:pre;overflow-x:auto;line-height:normal;font-family:Menlo,'DejaVu Sans Mono',consolas,'Courier New',monospace\"><span style=\"color: #7fbfbf; text-decoration-color: #7fbfbf\">                    </span><span style=\"color: #808000; text-decoration-color: #808000\">WARNING </span> Shari Grant couldn't play any spells.                                    <a href=\"file://c:\\Users\\gufer\\OneDrive\\Documentos\\FIAP\\Fase_03\\mtg-project\\classes\\player.py\" target=\"_blank\"><span style=\"color: #7f7f7f; text-decoration-color: #7f7f7f\">player.py</span></a><span style=\"color: #7f7f7f; text-decoration-color: #7f7f7f\">:</span><a href=\"file://c:\\Users\\gufer\\OneDrive\\Documentos\\FIAP\\Fase_03\\mtg-project\\classes\\player.py#372\" target=\"_blank\"><span style=\"color: #7f7f7f; text-decoration-color: #7f7f7f\">372</span></a>\n",
       "</pre>\n"
      ],
      "text/plain": [
       "\u001b[2;36m                   \u001b[0m\u001b[2;36m \u001b[0m\u001b[33mWARNING \u001b[0m Shari Grant couldn't play any spells.                                    \u001b]8;id=479772;file://c:\\Users\\gufer\\OneDrive\\Documentos\\FIAP\\Fase_03\\mtg-project\\classes\\player.py\u001b\\\u001b[2mplayer.py\u001b[0m\u001b]8;;\u001b\\\u001b[2m:\u001b[0m\u001b]8;id=389916;file://c:\\Users\\gufer\\OneDrive\\Documentos\\FIAP\\Fase_03\\mtg-project\\classes\\player.py#372\u001b\\\u001b[2m372\u001b[0m\u001b]8;;\u001b\\\n"
      ]
     },
     "metadata": {},
     "output_type": "display_data"
    },
    {
     "data": {
      "text/html": [
       "<pre style=\"white-space:pre;overflow-x:auto;line-height:normal;font-family:Menlo,'DejaVu Sans Mono',consolas,'Courier New',monospace\"><span style=\"color: #7fbfbf; text-decoration-color: #7fbfbf\">                    </span><span style=\"color: #808000; text-decoration-color: #808000\">WARNING </span> Shari Grant couldn't play any spells.                                    <a href=\"file://c:\\Users\\gufer\\OneDrive\\Documentos\\FIAP\\Fase_03\\mtg-project\\classes\\player.py\" target=\"_blank\"><span style=\"color: #7f7f7f; text-decoration-color: #7f7f7f\">player.py</span></a><span style=\"color: #7f7f7f; text-decoration-color: #7f7f7f\">:</span><a href=\"file://c:\\Users\\gufer\\OneDrive\\Documentos\\FIAP\\Fase_03\\mtg-project\\classes\\player.py#372\" target=\"_blank\"><span style=\"color: #7f7f7f; text-decoration-color: #7f7f7f\">372</span></a>\n",
       "</pre>\n"
      ],
      "text/plain": [
       "\u001b[2;36m                   \u001b[0m\u001b[2;36m \u001b[0m\u001b[33mWARNING \u001b[0m Shari Grant couldn't play any spells.                                    \u001b]8;id=173684;file://c:\\Users\\gufer\\OneDrive\\Documentos\\FIAP\\Fase_03\\mtg-project\\classes\\player.py\u001b\\\u001b[2mplayer.py\u001b[0m\u001b]8;;\u001b\\\u001b[2m:\u001b[0m\u001b]8;id=400197;file://c:\\Users\\gufer\\OneDrive\\Documentos\\FIAP\\Fase_03\\mtg-project\\classes\\player.py#372\u001b\\\u001b[2m372\u001b[0m\u001b]8;;\u001b\\\n"
      ]
     },
     "metadata": {},
     "output_type": "display_data"
    },
    {
     "data": {
      "text/html": [
       "<pre style=\"white-space:pre;overflow-x:auto;line-height:normal;font-family:Menlo,'DejaVu Sans Mono',consolas,'Courier New',monospace\"><span style=\"color: #7fbfbf; text-decoration-color: #7fbfbf\">                    </span><span style=\"color: #808000; text-decoration-color: #808000\">WARNING </span> Shari Grant couldn't play any spells.                                    <a href=\"file://c:\\Users\\gufer\\OneDrive\\Documentos\\FIAP\\Fase_03\\mtg-project\\classes\\player.py\" target=\"_blank\"><span style=\"color: #7f7f7f; text-decoration-color: #7f7f7f\">player.py</span></a><span style=\"color: #7f7f7f; text-decoration-color: #7f7f7f\">:</span><a href=\"file://c:\\Users\\gufer\\OneDrive\\Documentos\\FIAP\\Fase_03\\mtg-project\\classes\\player.py#372\" target=\"_blank\"><span style=\"color: #7f7f7f; text-decoration-color: #7f7f7f\">372</span></a>\n",
       "</pre>\n"
      ],
      "text/plain": [
       "\u001b[2;36m                   \u001b[0m\u001b[2;36m \u001b[0m\u001b[33mWARNING \u001b[0m Shari Grant couldn't play any spells.                                    \u001b]8;id=757225;file://c:\\Users\\gufer\\OneDrive\\Documentos\\FIAP\\Fase_03\\mtg-project\\classes\\player.py\u001b\\\u001b[2mplayer.py\u001b[0m\u001b]8;;\u001b\\\u001b[2m:\u001b[0m\u001b]8;id=126960;file://c:\\Users\\gufer\\OneDrive\\Documentos\\FIAP\\Fase_03\\mtg-project\\classes\\player.py#372\u001b\\\u001b[2m372\u001b[0m\u001b]8;;\u001b\\\n"
      ]
     },
     "metadata": {},
     "output_type": "display_data"
    },
    {
     "data": {
      "text/html": [
       "<pre style=\"white-space:pre;overflow-x:auto;line-height:normal;font-family:Menlo,'DejaVu Sans Mono',consolas,'Courier New',monospace\"><span style=\"color: #7fbfbf; text-decoration-color: #7fbfbf\">                    </span><span style=\"color: #808000; text-decoration-color: #808000\">WARNING </span> David Walsh couldn't play any spells.                                    <a href=\"file://c:\\Users\\gufer\\OneDrive\\Documentos\\FIAP\\Fase_03\\mtg-project\\classes\\player.py\" target=\"_blank\"><span style=\"color: #7f7f7f; text-decoration-color: #7f7f7f\">player.py</span></a><span style=\"color: #7f7f7f; text-decoration-color: #7f7f7f\">:</span><a href=\"file://c:\\Users\\gufer\\OneDrive\\Documentos\\FIAP\\Fase_03\\mtg-project\\classes\\player.py#372\" target=\"_blank\"><span style=\"color: #7f7f7f; text-decoration-color: #7f7f7f\">372</span></a>\n",
       "</pre>\n"
      ],
      "text/plain": [
       "\u001b[2;36m                   \u001b[0m\u001b[2;36m \u001b[0m\u001b[33mWARNING \u001b[0m David Walsh couldn't play any spells.                                    \u001b]8;id=613830;file://c:\\Users\\gufer\\OneDrive\\Documentos\\FIAP\\Fase_03\\mtg-project\\classes\\player.py\u001b\\\u001b[2mplayer.py\u001b[0m\u001b]8;;\u001b\\\u001b[2m:\u001b[0m\u001b]8;id=490093;file://c:\\Users\\gufer\\OneDrive\\Documentos\\FIAP\\Fase_03\\mtg-project\\classes\\player.py#372\u001b\\\u001b[2m372\u001b[0m\u001b]8;;\u001b\\\n"
      ]
     },
     "metadata": {},
     "output_type": "display_data"
    },
    {
     "data": {
      "text/html": [
       "<pre style=\"white-space:pre;overflow-x:auto;line-height:normal;font-family:Menlo,'DejaVu Sans Mono',consolas,'Courier New',monospace\"><span style=\"color: #7fbfbf; text-decoration-color: #7fbfbf\">                    </span><span style=\"color: #808000; text-decoration-color: #808000\">WARNING </span> David Walsh couldn't play any spells.                                    <a href=\"file://c:\\Users\\gufer\\OneDrive\\Documentos\\FIAP\\Fase_03\\mtg-project\\classes\\player.py\" target=\"_blank\"><span style=\"color: #7f7f7f; text-decoration-color: #7f7f7f\">player.py</span></a><span style=\"color: #7f7f7f; text-decoration-color: #7f7f7f\">:</span><a href=\"file://c:\\Users\\gufer\\OneDrive\\Documentos\\FIAP\\Fase_03\\mtg-project\\classes\\player.py#372\" target=\"_blank\"><span style=\"color: #7f7f7f; text-decoration-color: #7f7f7f\">372</span></a>\n",
       "</pre>\n"
      ],
      "text/plain": [
       "\u001b[2;36m                   \u001b[0m\u001b[2;36m \u001b[0m\u001b[33mWARNING \u001b[0m David Walsh couldn't play any spells.                                    \u001b]8;id=781221;file://c:\\Users\\gufer\\OneDrive\\Documentos\\FIAP\\Fase_03\\mtg-project\\classes\\player.py\u001b\\\u001b[2mplayer.py\u001b[0m\u001b]8;;\u001b\\\u001b[2m:\u001b[0m\u001b]8;id=117093;file://c:\\Users\\gufer\\OneDrive\\Documentos\\FIAP\\Fase_03\\mtg-project\\classes\\player.py#372\u001b\\\u001b[2m372\u001b[0m\u001b]8;;\u001b\\\n"
      ]
     },
     "metadata": {},
     "output_type": "display_data"
    },
    {
     "data": {
      "text/html": [
       "<pre style=\"white-space:pre;overflow-x:auto;line-height:normal;font-family:Menlo,'DejaVu Sans Mono',consolas,'Courier New',monospace\"><span style=\"color: #7fbfbf; text-decoration-color: #7fbfbf\">                    </span><span style=\"color: #808000; text-decoration-color: #808000\">WARNING </span> David Walsh couldn't play any spells.                                    <a href=\"file://c:\\Users\\gufer\\OneDrive\\Documentos\\FIAP\\Fase_03\\mtg-project\\classes\\player.py\" target=\"_blank\"><span style=\"color: #7f7f7f; text-decoration-color: #7f7f7f\">player.py</span></a><span style=\"color: #7f7f7f; text-decoration-color: #7f7f7f\">:</span><a href=\"file://c:\\Users\\gufer\\OneDrive\\Documentos\\FIAP\\Fase_03\\mtg-project\\classes\\player.py#372\" target=\"_blank\"><span style=\"color: #7f7f7f; text-decoration-color: #7f7f7f\">372</span></a>\n",
       "</pre>\n"
      ],
      "text/plain": [
       "\u001b[2;36m                   \u001b[0m\u001b[2;36m \u001b[0m\u001b[33mWARNING \u001b[0m David Walsh couldn't play any spells.                                    \u001b]8;id=700154;file://c:\\Users\\gufer\\OneDrive\\Documentos\\FIAP\\Fase_03\\mtg-project\\classes\\player.py\u001b\\\u001b[2mplayer.py\u001b[0m\u001b]8;;\u001b\\\u001b[2m:\u001b[0m\u001b]8;id=201197;file://c:\\Users\\gufer\\OneDrive\\Documentos\\FIAP\\Fase_03\\mtg-project\\classes\\player.py#372\u001b\\\u001b[2m372\u001b[0m\u001b]8;;\u001b\\\n"
      ]
     },
     "metadata": {},
     "output_type": "display_data"
    },
    {
     "data": {
      "text/html": [
       "<pre style=\"white-space:pre;overflow-x:auto;line-height:normal;font-family:Menlo,'DejaVu Sans Mono',consolas,'Courier New',monospace\"><span style=\"color: #7fbfbf; text-decoration-color: #7fbfbf\">                    </span><span style=\"color: #808000; text-decoration-color: #808000\">WARNING </span> David Walsh couldn't play any spells.                                    <a href=\"file://c:\\Users\\gufer\\OneDrive\\Documentos\\FIAP\\Fase_03\\mtg-project\\classes\\player.py\" target=\"_blank\"><span style=\"color: #7f7f7f; text-decoration-color: #7f7f7f\">player.py</span></a><span style=\"color: #7f7f7f; text-decoration-color: #7f7f7f\">:</span><a href=\"file://c:\\Users\\gufer\\OneDrive\\Documentos\\FIAP\\Fase_03\\mtg-project\\classes\\player.py#372\" target=\"_blank\"><span style=\"color: #7f7f7f; text-decoration-color: #7f7f7f\">372</span></a>\n",
       "</pre>\n"
      ],
      "text/plain": [
       "\u001b[2;36m                   \u001b[0m\u001b[2;36m \u001b[0m\u001b[33mWARNING \u001b[0m David Walsh couldn't play any spells.                                    \u001b]8;id=322335;file://c:\\Users\\gufer\\OneDrive\\Documentos\\FIAP\\Fase_03\\mtg-project\\classes\\player.py\u001b\\\u001b[2mplayer.py\u001b[0m\u001b]8;;\u001b\\\u001b[2m:\u001b[0m\u001b]8;id=3127;file://c:\\Users\\gufer\\OneDrive\\Documentos\\FIAP\\Fase_03\\mtg-project\\classes\\player.py#372\u001b\\\u001b[2m372\u001b[0m\u001b]8;;\u001b\\\n"
      ]
     },
     "metadata": {},
     "output_type": "display_data"
    },
    {
     "data": {
      "text/html": [
       "<pre style=\"white-space:pre;overflow-x:auto;line-height:normal;font-family:Menlo,'DejaVu Sans Mono',consolas,'Courier New',monospace\"><span style=\"color: #7fbfbf; text-decoration-color: #7fbfbf\">                    </span><span style=\"color: #808000; text-decoration-color: #808000\">WARNING </span> David Walsh couldn't play any spells.                                    <a href=\"file://c:\\Users\\gufer\\OneDrive\\Documentos\\FIAP\\Fase_03\\mtg-project\\classes\\player.py\" target=\"_blank\"><span style=\"color: #7f7f7f; text-decoration-color: #7f7f7f\">player.py</span></a><span style=\"color: #7f7f7f; text-decoration-color: #7f7f7f\">:</span><a href=\"file://c:\\Users\\gufer\\OneDrive\\Documentos\\FIAP\\Fase_03\\mtg-project\\classes\\player.py#372\" target=\"_blank\"><span style=\"color: #7f7f7f; text-decoration-color: #7f7f7f\">372</span></a>\n",
       "</pre>\n"
      ],
      "text/plain": [
       "\u001b[2;36m                   \u001b[0m\u001b[2;36m \u001b[0m\u001b[33mWARNING \u001b[0m David Walsh couldn't play any spells.                                    \u001b]8;id=378524;file://c:\\Users\\gufer\\OneDrive\\Documentos\\FIAP\\Fase_03\\mtg-project\\classes\\player.py\u001b\\\u001b[2mplayer.py\u001b[0m\u001b]8;;\u001b\\\u001b[2m:\u001b[0m\u001b]8;id=810445;file://c:\\Users\\gufer\\OneDrive\\Documentos\\FIAP\\Fase_03\\mtg-project\\classes\\player.py#372\u001b\\\u001b[2m372\u001b[0m\u001b]8;;\u001b\\\n"
      ]
     },
     "metadata": {},
     "output_type": "display_data"
    },
    {
     "data": {
      "text/html": [
       "<pre style=\"white-space:pre;overflow-x:auto;line-height:normal;font-family:Menlo,'DejaVu Sans Mono',consolas,'Courier New',monospace\"><span style=\"color: #7fbfbf; text-decoration-color: #7fbfbf\">                    </span><span style=\"color: #808000; text-decoration-color: #808000\">WARNING </span> David Walsh couldn't play any spells.                                    <a href=\"file://c:\\Users\\gufer\\OneDrive\\Documentos\\FIAP\\Fase_03\\mtg-project\\classes\\player.py\" target=\"_blank\"><span style=\"color: #7f7f7f; text-decoration-color: #7f7f7f\">player.py</span></a><span style=\"color: #7f7f7f; text-decoration-color: #7f7f7f\">:</span><a href=\"file://c:\\Users\\gufer\\OneDrive\\Documentos\\FIAP\\Fase_03\\mtg-project\\classes\\player.py#372\" target=\"_blank\"><span style=\"color: #7f7f7f; text-decoration-color: #7f7f7f\">372</span></a>\n",
       "</pre>\n"
      ],
      "text/plain": [
       "\u001b[2;36m                   \u001b[0m\u001b[2;36m \u001b[0m\u001b[33mWARNING \u001b[0m David Walsh couldn't play any spells.                                    \u001b]8;id=534936;file://c:\\Users\\gufer\\OneDrive\\Documentos\\FIAP\\Fase_03\\mtg-project\\classes\\player.py\u001b\\\u001b[2mplayer.py\u001b[0m\u001b]8;;\u001b\\\u001b[2m:\u001b[0m\u001b]8;id=633205;file://c:\\Users\\gufer\\OneDrive\\Documentos\\FIAP\\Fase_03\\mtg-project\\classes\\player.py#372\u001b\\\u001b[2m372\u001b[0m\u001b]8;;\u001b\\\n"
      ]
     },
     "metadata": {},
     "output_type": "display_data"
    },
    {
     "data": {
      "text/html": [
       "<pre style=\"white-space:pre;overflow-x:auto;line-height:normal;font-family:Menlo,'DejaVu Sans Mono',consolas,'Courier New',monospace\"><span style=\"color: #7fbfbf; text-decoration-color: #7fbfbf\">                    </span><span style=\"color: #808000; text-decoration-color: #808000\">WARNING </span> David Walsh couldn't play any spells.                                    <a href=\"file://c:\\Users\\gufer\\OneDrive\\Documentos\\FIAP\\Fase_03\\mtg-project\\classes\\player.py\" target=\"_blank\"><span style=\"color: #7f7f7f; text-decoration-color: #7f7f7f\">player.py</span></a><span style=\"color: #7f7f7f; text-decoration-color: #7f7f7f\">:</span><a href=\"file://c:\\Users\\gufer\\OneDrive\\Documentos\\FIAP\\Fase_03\\mtg-project\\classes\\player.py#372\" target=\"_blank\"><span style=\"color: #7f7f7f; text-decoration-color: #7f7f7f\">372</span></a>\n",
       "</pre>\n"
      ],
      "text/plain": [
       "\u001b[2;36m                   \u001b[0m\u001b[2;36m \u001b[0m\u001b[33mWARNING \u001b[0m David Walsh couldn't play any spells.                                    \u001b]8;id=653690;file://c:\\Users\\gufer\\OneDrive\\Documentos\\FIAP\\Fase_03\\mtg-project\\classes\\player.py\u001b\\\u001b[2mplayer.py\u001b[0m\u001b]8;;\u001b\\\u001b[2m:\u001b[0m\u001b]8;id=334639;file://c:\\Users\\gufer\\OneDrive\\Documentos\\FIAP\\Fase_03\\mtg-project\\classes\\player.py#372\u001b\\\u001b[2m372\u001b[0m\u001b]8;;\u001b\\\n"
      ]
     },
     "metadata": {},
     "output_type": "display_data"
    },
    {
     "data": {
      "text/html": [
       "<pre style=\"white-space:pre;overflow-x:auto;line-height:normal;font-family:Menlo,'DejaVu Sans Mono',consolas,'Courier New',monospace\"><span style=\"color: #7fbfbf; text-decoration-color: #7fbfbf\">                    </span><span style=\"color: #808000; text-decoration-color: #808000\">WARNING </span> David Walsh couldn't play any spells.                                    <a href=\"file://c:\\Users\\gufer\\OneDrive\\Documentos\\FIAP\\Fase_03\\mtg-project\\classes\\player.py\" target=\"_blank\"><span style=\"color: #7f7f7f; text-decoration-color: #7f7f7f\">player.py</span></a><span style=\"color: #7f7f7f; text-decoration-color: #7f7f7f\">:</span><a href=\"file://c:\\Users\\gufer\\OneDrive\\Documentos\\FIAP\\Fase_03\\mtg-project\\classes\\player.py#372\" target=\"_blank\"><span style=\"color: #7f7f7f; text-decoration-color: #7f7f7f\">372</span></a>\n",
       "</pre>\n"
      ],
      "text/plain": [
       "\u001b[2;36m                   \u001b[0m\u001b[2;36m \u001b[0m\u001b[33mWARNING \u001b[0m David Walsh couldn't play any spells.                                    \u001b]8;id=92461;file://c:\\Users\\gufer\\OneDrive\\Documentos\\FIAP\\Fase_03\\mtg-project\\classes\\player.py\u001b\\\u001b[2mplayer.py\u001b[0m\u001b]8;;\u001b\\\u001b[2m:\u001b[0m\u001b]8;id=861749;file://c:\\Users\\gufer\\OneDrive\\Documentos\\FIAP\\Fase_03\\mtg-project\\classes\\player.py#372\u001b\\\u001b[2m372\u001b[0m\u001b]8;;\u001b\\\n"
      ]
     },
     "metadata": {},
     "output_type": "display_data"
    },
    {
     "data": {
      "text/html": [
       "<pre style=\"white-space:pre;overflow-x:auto;line-height:normal;font-family:Menlo,'DejaVu Sans Mono',consolas,'Courier New',monospace\"><span style=\"color: #7fbfbf; text-decoration-color: #7fbfbf\">                    </span><span style=\"color: #808000; text-decoration-color: #808000\">WARNING </span> David Walsh couldn't play any spells.                                    <a href=\"file://c:\\Users\\gufer\\OneDrive\\Documentos\\FIAP\\Fase_03\\mtg-project\\classes\\player.py\" target=\"_blank\"><span style=\"color: #7f7f7f; text-decoration-color: #7f7f7f\">player.py</span></a><span style=\"color: #7f7f7f; text-decoration-color: #7f7f7f\">:</span><a href=\"file://c:\\Users\\gufer\\OneDrive\\Documentos\\FIAP\\Fase_03\\mtg-project\\classes\\player.py#372\" target=\"_blank\"><span style=\"color: #7f7f7f; text-decoration-color: #7f7f7f\">372</span></a>\n",
       "</pre>\n"
      ],
      "text/plain": [
       "\u001b[2;36m                   \u001b[0m\u001b[2;36m \u001b[0m\u001b[33mWARNING \u001b[0m David Walsh couldn't play any spells.                                    \u001b]8;id=907253;file://c:\\Users\\gufer\\OneDrive\\Documentos\\FIAP\\Fase_03\\mtg-project\\classes\\player.py\u001b\\\u001b[2mplayer.py\u001b[0m\u001b]8;;\u001b\\\u001b[2m:\u001b[0m\u001b]8;id=463070;file://c:\\Users\\gufer\\OneDrive\\Documentos\\FIAP\\Fase_03\\mtg-project\\classes\\player.py#372\u001b\\\u001b[2m372\u001b[0m\u001b]8;;\u001b\\\n"
      ]
     },
     "metadata": {},
     "output_type": "display_data"
    },
    {
     "data": {
      "text/html": [
       "<pre style=\"white-space:pre;overflow-x:auto;line-height:normal;font-family:Menlo,'DejaVu Sans Mono',consolas,'Courier New',monospace\"><span style=\"color: #7fbfbf; text-decoration-color: #7fbfbf\">                    </span><span style=\"color: #808000; text-decoration-color: #808000\">WARNING </span> Manuel Collins couldn't play any spells.                                 <a href=\"file://c:\\Users\\gufer\\OneDrive\\Documentos\\FIAP\\Fase_03\\mtg-project\\classes\\player.py\" target=\"_blank\"><span style=\"color: #7f7f7f; text-decoration-color: #7f7f7f\">player.py</span></a><span style=\"color: #7f7f7f; text-decoration-color: #7f7f7f\">:</span><a href=\"file://c:\\Users\\gufer\\OneDrive\\Documentos\\FIAP\\Fase_03\\mtg-project\\classes\\player.py#372\" target=\"_blank\"><span style=\"color: #7f7f7f; text-decoration-color: #7f7f7f\">372</span></a>\n",
       "</pre>\n"
      ],
      "text/plain": [
       "\u001b[2;36m                   \u001b[0m\u001b[2;36m \u001b[0m\u001b[33mWARNING \u001b[0m Manuel Collins couldn't play any spells.                                 \u001b]8;id=646870;file://c:\\Users\\gufer\\OneDrive\\Documentos\\FIAP\\Fase_03\\mtg-project\\classes\\player.py\u001b\\\u001b[2mplayer.py\u001b[0m\u001b]8;;\u001b\\\u001b[2m:\u001b[0m\u001b]8;id=275953;file://c:\\Users\\gufer\\OneDrive\\Documentos\\FIAP\\Fase_03\\mtg-project\\classes\\player.py#372\u001b\\\u001b[2m372\u001b[0m\u001b]8;;\u001b\\\n"
      ]
     },
     "metadata": {},
     "output_type": "display_data"
    },
    {
     "data": {
      "text/html": [
       "<pre style=\"white-space:pre;overflow-x:auto;line-height:normal;font-family:Menlo,'DejaVu Sans Mono',consolas,'Courier New',monospace\"><span style=\"color: #7fbfbf; text-decoration-color: #7fbfbf\">                    </span><span style=\"color: #808000; text-decoration-color: #808000\">WARNING </span> Manuel Collins couldn't play any spells.                                 <a href=\"file://c:\\Users\\gufer\\OneDrive\\Documentos\\FIAP\\Fase_03\\mtg-project\\classes\\player.py\" target=\"_blank\"><span style=\"color: #7f7f7f; text-decoration-color: #7f7f7f\">player.py</span></a><span style=\"color: #7f7f7f; text-decoration-color: #7f7f7f\">:</span><a href=\"file://c:\\Users\\gufer\\OneDrive\\Documentos\\FIAP\\Fase_03\\mtg-project\\classes\\player.py#372\" target=\"_blank\"><span style=\"color: #7f7f7f; text-decoration-color: #7f7f7f\">372</span></a>\n",
       "</pre>\n"
      ],
      "text/plain": [
       "\u001b[2;36m                   \u001b[0m\u001b[2;36m \u001b[0m\u001b[33mWARNING \u001b[0m Manuel Collins couldn't play any spells.                                 \u001b]8;id=404335;file://c:\\Users\\gufer\\OneDrive\\Documentos\\FIAP\\Fase_03\\mtg-project\\classes\\player.py\u001b\\\u001b[2mplayer.py\u001b[0m\u001b]8;;\u001b\\\u001b[2m:\u001b[0m\u001b]8;id=68792;file://c:\\Users\\gufer\\OneDrive\\Documentos\\FIAP\\Fase_03\\mtg-project\\classes\\player.py#372\u001b\\\u001b[2m372\u001b[0m\u001b]8;;\u001b\\\n"
      ]
     },
     "metadata": {},
     "output_type": "display_data"
    },
    {
     "data": {
      "text/html": [
       "<pre style=\"white-space:pre;overflow-x:auto;line-height:normal;font-family:Menlo,'DejaVu Sans Mono',consolas,'Courier New',monospace\"><span style=\"color: #7fbfbf; text-decoration-color: #7fbfbf\">                    </span><span style=\"color: #808000; text-decoration-color: #808000\">WARNING </span> Manuel Collins couldn't play any spells.                                 <a href=\"file://c:\\Users\\gufer\\OneDrive\\Documentos\\FIAP\\Fase_03\\mtg-project\\classes\\player.py\" target=\"_blank\"><span style=\"color: #7f7f7f; text-decoration-color: #7f7f7f\">player.py</span></a><span style=\"color: #7f7f7f; text-decoration-color: #7f7f7f\">:</span><a href=\"file://c:\\Users\\gufer\\OneDrive\\Documentos\\FIAP\\Fase_03\\mtg-project\\classes\\player.py#372\" target=\"_blank\"><span style=\"color: #7f7f7f; text-decoration-color: #7f7f7f\">372</span></a>\n",
       "</pre>\n"
      ],
      "text/plain": [
       "\u001b[2;36m                   \u001b[0m\u001b[2;36m \u001b[0m\u001b[33mWARNING \u001b[0m Manuel Collins couldn't play any spells.                                 \u001b]8;id=123066;file://c:\\Users\\gufer\\OneDrive\\Documentos\\FIAP\\Fase_03\\mtg-project\\classes\\player.py\u001b\\\u001b[2mplayer.py\u001b[0m\u001b]8;;\u001b\\\u001b[2m:\u001b[0m\u001b]8;id=300173;file://c:\\Users\\gufer\\OneDrive\\Documentos\\FIAP\\Fase_03\\mtg-project\\classes\\player.py#372\u001b\\\u001b[2m372\u001b[0m\u001b]8;;\u001b\\\n"
      ]
     },
     "metadata": {},
     "output_type": "display_data"
    },
    {
     "data": {
      "text/html": [
       "<pre style=\"white-space:pre;overflow-x:auto;line-height:normal;font-family:Menlo,'DejaVu Sans Mono',consolas,'Courier New',monospace\"><span style=\"color: #7fbfbf; text-decoration-color: #7fbfbf\">                    </span><span style=\"color: #808000; text-decoration-color: #808000\">WARNING </span> Manuel Collins couldn't play any spells.                                 <a href=\"file://c:\\Users\\gufer\\OneDrive\\Documentos\\FIAP\\Fase_03\\mtg-project\\classes\\player.py\" target=\"_blank\"><span style=\"color: #7f7f7f; text-decoration-color: #7f7f7f\">player.py</span></a><span style=\"color: #7f7f7f; text-decoration-color: #7f7f7f\">:</span><a href=\"file://c:\\Users\\gufer\\OneDrive\\Documentos\\FIAP\\Fase_03\\mtg-project\\classes\\player.py#372\" target=\"_blank\"><span style=\"color: #7f7f7f; text-decoration-color: #7f7f7f\">372</span></a>\n",
       "</pre>\n"
      ],
      "text/plain": [
       "\u001b[2;36m                   \u001b[0m\u001b[2;36m \u001b[0m\u001b[33mWARNING \u001b[0m Manuel Collins couldn't play any spells.                                 \u001b]8;id=134698;file://c:\\Users\\gufer\\OneDrive\\Documentos\\FIAP\\Fase_03\\mtg-project\\classes\\player.py\u001b\\\u001b[2mplayer.py\u001b[0m\u001b]8;;\u001b\\\u001b[2m:\u001b[0m\u001b]8;id=689968;file://c:\\Users\\gufer\\OneDrive\\Documentos\\FIAP\\Fase_03\\mtg-project\\classes\\player.py#372\u001b\\\u001b[2m372\u001b[0m\u001b]8;;\u001b\\\n"
      ]
     },
     "metadata": {},
     "output_type": "display_data"
    },
    {
     "data": {
      "text/html": [
       "<pre style=\"white-space:pre;overflow-x:auto;line-height:normal;font-family:Menlo,'DejaVu Sans Mono',consolas,'Courier New',monospace\"><span style=\"color: #7fbfbf; text-decoration-color: #7fbfbf\">                    </span><span style=\"color: #808000; text-decoration-color: #808000\">WARNING </span> Manuel Collins couldn't play any spells.                                 <a href=\"file://c:\\Users\\gufer\\OneDrive\\Documentos\\FIAP\\Fase_03\\mtg-project\\classes\\player.py\" target=\"_blank\"><span style=\"color: #7f7f7f; text-decoration-color: #7f7f7f\">player.py</span></a><span style=\"color: #7f7f7f; text-decoration-color: #7f7f7f\">:</span><a href=\"file://c:\\Users\\gufer\\OneDrive\\Documentos\\FIAP\\Fase_03\\mtg-project\\classes\\player.py#372\" target=\"_blank\"><span style=\"color: #7f7f7f; text-decoration-color: #7f7f7f\">372</span></a>\n",
       "</pre>\n"
      ],
      "text/plain": [
       "\u001b[2;36m                   \u001b[0m\u001b[2;36m \u001b[0m\u001b[33mWARNING \u001b[0m Manuel Collins couldn't play any spells.                                 \u001b]8;id=237698;file://c:\\Users\\gufer\\OneDrive\\Documentos\\FIAP\\Fase_03\\mtg-project\\classes\\player.py\u001b\\\u001b[2mplayer.py\u001b[0m\u001b]8;;\u001b\\\u001b[2m:\u001b[0m\u001b]8;id=768091;file://c:\\Users\\gufer\\OneDrive\\Documentos\\FIAP\\Fase_03\\mtg-project\\classes\\player.py#372\u001b\\\u001b[2m372\u001b[0m\u001b]8;;\u001b\\\n"
      ]
     },
     "metadata": {},
     "output_type": "display_data"
    },
    {
     "data": {
      "text/html": [
       "<pre style=\"white-space:pre;overflow-x:auto;line-height:normal;font-family:Menlo,'DejaVu Sans Mono',consolas,'Courier New',monospace\"><span style=\"color: #7fbfbf; text-decoration-color: #7fbfbf\">                    </span><span style=\"color: #808000; text-decoration-color: #808000\">WARNING </span> Manuel Collins couldn't play any spells.                                 <a href=\"file://c:\\Users\\gufer\\OneDrive\\Documentos\\FIAP\\Fase_03\\mtg-project\\classes\\player.py\" target=\"_blank\"><span style=\"color: #7f7f7f; text-decoration-color: #7f7f7f\">player.py</span></a><span style=\"color: #7f7f7f; text-decoration-color: #7f7f7f\">:</span><a href=\"file://c:\\Users\\gufer\\OneDrive\\Documentos\\FIAP\\Fase_03\\mtg-project\\classes\\player.py#372\" target=\"_blank\"><span style=\"color: #7f7f7f; text-decoration-color: #7f7f7f\">372</span></a>\n",
       "</pre>\n"
      ],
      "text/plain": [
       "\u001b[2;36m                   \u001b[0m\u001b[2;36m \u001b[0m\u001b[33mWARNING \u001b[0m Manuel Collins couldn't play any spells.                                 \u001b]8;id=307530;file://c:\\Users\\gufer\\OneDrive\\Documentos\\FIAP\\Fase_03\\mtg-project\\classes\\player.py\u001b\\\u001b[2mplayer.py\u001b[0m\u001b]8;;\u001b\\\u001b[2m:\u001b[0m\u001b]8;id=176992;file://c:\\Users\\gufer\\OneDrive\\Documentos\\FIAP\\Fase_03\\mtg-project\\classes\\player.py#372\u001b\\\u001b[2m372\u001b[0m\u001b]8;;\u001b\\\n"
      ]
     },
     "metadata": {},
     "output_type": "display_data"
    },
    {
     "data": {
      "text/html": [
       "<pre style=\"white-space:pre;overflow-x:auto;line-height:normal;font-family:Menlo,'DejaVu Sans Mono',consolas,'Courier New',monospace\"><span style=\"color: #7fbfbf; text-decoration-color: #7fbfbf\">                    </span><span style=\"color: #808000; text-decoration-color: #808000\">WARNING </span> Manuel Collins couldn't play any spells.                                 <a href=\"file://c:\\Users\\gufer\\OneDrive\\Documentos\\FIAP\\Fase_03\\mtg-project\\classes\\player.py\" target=\"_blank\"><span style=\"color: #7f7f7f; text-decoration-color: #7f7f7f\">player.py</span></a><span style=\"color: #7f7f7f; text-decoration-color: #7f7f7f\">:</span><a href=\"file://c:\\Users\\gufer\\OneDrive\\Documentos\\FIAP\\Fase_03\\mtg-project\\classes\\player.py#372\" target=\"_blank\"><span style=\"color: #7f7f7f; text-decoration-color: #7f7f7f\">372</span></a>\n",
       "</pre>\n"
      ],
      "text/plain": [
       "\u001b[2;36m                   \u001b[0m\u001b[2;36m \u001b[0m\u001b[33mWARNING \u001b[0m Manuel Collins couldn't play any spells.                                 \u001b]8;id=8491;file://c:\\Users\\gufer\\OneDrive\\Documentos\\FIAP\\Fase_03\\mtg-project\\classes\\player.py\u001b\\\u001b[2mplayer.py\u001b[0m\u001b]8;;\u001b\\\u001b[2m:\u001b[0m\u001b]8;id=330119;file://c:\\Users\\gufer\\OneDrive\\Documentos\\FIAP\\Fase_03\\mtg-project\\classes\\player.py#372\u001b\\\u001b[2m372\u001b[0m\u001b]8;;\u001b\\\n"
      ]
     },
     "metadata": {},
     "output_type": "display_data"
    },
    {
     "data": {
      "text/html": [
       "<pre style=\"white-space:pre;overflow-x:auto;line-height:normal;font-family:Menlo,'DejaVu Sans Mono',consolas,'Courier New',monospace\"><span style=\"color: #7fbfbf; text-decoration-color: #7fbfbf\">                    </span><span style=\"color: #808000; text-decoration-color: #808000\">WARNING </span> Manuel Collins couldn't play any spells.                                 <a href=\"file://c:\\Users\\gufer\\OneDrive\\Documentos\\FIAP\\Fase_03\\mtg-project\\classes\\player.py\" target=\"_blank\"><span style=\"color: #7f7f7f; text-decoration-color: #7f7f7f\">player.py</span></a><span style=\"color: #7f7f7f; text-decoration-color: #7f7f7f\">:</span><a href=\"file://c:\\Users\\gufer\\OneDrive\\Documentos\\FIAP\\Fase_03\\mtg-project\\classes\\player.py#372\" target=\"_blank\"><span style=\"color: #7f7f7f; text-decoration-color: #7f7f7f\">372</span></a>\n",
       "</pre>\n"
      ],
      "text/plain": [
       "\u001b[2;36m                   \u001b[0m\u001b[2;36m \u001b[0m\u001b[33mWARNING \u001b[0m Manuel Collins couldn't play any spells.                                 \u001b]8;id=895666;file://c:\\Users\\gufer\\OneDrive\\Documentos\\FIAP\\Fase_03\\mtg-project\\classes\\player.py\u001b\\\u001b[2mplayer.py\u001b[0m\u001b]8;;\u001b\\\u001b[2m:\u001b[0m\u001b]8;id=694273;file://c:\\Users\\gufer\\OneDrive\\Documentos\\FIAP\\Fase_03\\mtg-project\\classes\\player.py#372\u001b\\\u001b[2m372\u001b[0m\u001b]8;;\u001b\\\n"
      ]
     },
     "metadata": {},
     "output_type": "display_data"
    },
    {
     "data": {
      "text/html": [
       "<pre style=\"white-space:pre;overflow-x:auto;line-height:normal;font-family:Menlo,'DejaVu Sans Mono',consolas,'Courier New',monospace\"><span style=\"color: #7fbfbf; text-decoration-color: #7fbfbf\">                    </span><span style=\"color: #808000; text-decoration-color: #808000\">WARNING </span> Manuel Collins couldn't play any spells.                                 <a href=\"file://c:\\Users\\gufer\\OneDrive\\Documentos\\FIAP\\Fase_03\\mtg-project\\classes\\player.py\" target=\"_blank\"><span style=\"color: #7f7f7f; text-decoration-color: #7f7f7f\">player.py</span></a><span style=\"color: #7f7f7f; text-decoration-color: #7f7f7f\">:</span><a href=\"file://c:\\Users\\gufer\\OneDrive\\Documentos\\FIAP\\Fase_03\\mtg-project\\classes\\player.py#372\" target=\"_blank\"><span style=\"color: #7f7f7f; text-decoration-color: #7f7f7f\">372</span></a>\n",
       "</pre>\n"
      ],
      "text/plain": [
       "\u001b[2;36m                   \u001b[0m\u001b[2;36m \u001b[0m\u001b[33mWARNING \u001b[0m Manuel Collins couldn't play any spells.                                 \u001b]8;id=368540;file://c:\\Users\\gufer\\OneDrive\\Documentos\\FIAP\\Fase_03\\mtg-project\\classes\\player.py\u001b\\\u001b[2mplayer.py\u001b[0m\u001b]8;;\u001b\\\u001b[2m:\u001b[0m\u001b]8;id=893169;file://c:\\Users\\gufer\\OneDrive\\Documentos\\FIAP\\Fase_03\\mtg-project\\classes\\player.py#372\u001b\\\u001b[2m372\u001b[0m\u001b]8;;\u001b\\\n"
      ]
     },
     "metadata": {},
     "output_type": "display_data"
    },
    {
     "data": {
      "text/html": [
       "<pre style=\"white-space:pre;overflow-x:auto;line-height:normal;font-family:Menlo,'DejaVu Sans Mono',consolas,'Courier New',monospace\"><span style=\"color: #7fbfbf; text-decoration-color: #7fbfbf\">                    </span><span style=\"color: #808000; text-decoration-color: #808000\">WARNING </span> Manuel Collins couldn't play any spells.                                 <a href=\"file://c:\\Users\\gufer\\OneDrive\\Documentos\\FIAP\\Fase_03\\mtg-project\\classes\\player.py\" target=\"_blank\"><span style=\"color: #7f7f7f; text-decoration-color: #7f7f7f\">player.py</span></a><span style=\"color: #7f7f7f; text-decoration-color: #7f7f7f\">:</span><a href=\"file://c:\\Users\\gufer\\OneDrive\\Documentos\\FIAP\\Fase_03\\mtg-project\\classes\\player.py#372\" target=\"_blank\"><span style=\"color: #7f7f7f; text-decoration-color: #7f7f7f\">372</span></a>\n",
       "</pre>\n"
      ],
      "text/plain": [
       "\u001b[2;36m                   \u001b[0m\u001b[2;36m \u001b[0m\u001b[33mWARNING \u001b[0m Manuel Collins couldn't play any spells.                                 \u001b]8;id=873617;file://c:\\Users\\gufer\\OneDrive\\Documentos\\FIAP\\Fase_03\\mtg-project\\classes\\player.py\u001b\\\u001b[2mplayer.py\u001b[0m\u001b]8;;\u001b\\\u001b[2m:\u001b[0m\u001b]8;id=922923;file://c:\\Users\\gufer\\OneDrive\\Documentos\\FIAP\\Fase_03\\mtg-project\\classes\\player.py#372\u001b\\\u001b[2m372\u001b[0m\u001b]8;;\u001b\\\n"
      ]
     },
     "metadata": {},
     "output_type": "display_data"
    },
    {
     "data": {
      "text/html": [
       "<pre style=\"white-space:pre;overflow-x:auto;line-height:normal;font-family:Menlo,'DejaVu Sans Mono',consolas,'Courier New',monospace\"><span style=\"color: #7fbfbf; text-decoration-color: #7fbfbf\">                    </span><span style=\"color: #808000; text-decoration-color: #808000\">WARNING </span> Manuel Collins couldn't play any spells.                                 <a href=\"file://c:\\Users\\gufer\\OneDrive\\Documentos\\FIAP\\Fase_03\\mtg-project\\classes\\player.py\" target=\"_blank\"><span style=\"color: #7f7f7f; text-decoration-color: #7f7f7f\">player.py</span></a><span style=\"color: #7f7f7f; text-decoration-color: #7f7f7f\">:</span><a href=\"file://c:\\Users\\gufer\\OneDrive\\Documentos\\FIAP\\Fase_03\\mtg-project\\classes\\player.py#372\" target=\"_blank\"><span style=\"color: #7f7f7f; text-decoration-color: #7f7f7f\">372</span></a>\n",
       "</pre>\n"
      ],
      "text/plain": [
       "\u001b[2;36m                   \u001b[0m\u001b[2;36m \u001b[0m\u001b[33mWARNING \u001b[0m Manuel Collins couldn't play any spells.                                 \u001b]8;id=388245;file://c:\\Users\\gufer\\OneDrive\\Documentos\\FIAP\\Fase_03\\mtg-project\\classes\\player.py\u001b\\\u001b[2mplayer.py\u001b[0m\u001b]8;;\u001b\\\u001b[2m:\u001b[0m\u001b]8;id=535885;file://c:\\Users\\gufer\\OneDrive\\Documentos\\FIAP\\Fase_03\\mtg-project\\classes\\player.py#372\u001b\\\u001b[2m372\u001b[0m\u001b]8;;\u001b\\\n"
      ]
     },
     "metadata": {},
     "output_type": "display_data"
    },
    {
     "data": {
      "text/html": [
       "<pre style=\"white-space:pre;overflow-x:auto;line-height:normal;font-family:Menlo,'DejaVu Sans Mono',consolas,'Courier New',monospace\"><span style=\"color: #7fbfbf; text-decoration-color: #7fbfbf\">                    </span><span style=\"color: #808000; text-decoration-color: #808000\">WARNING </span> Manuel Collins couldn't play any spells.                                 <a href=\"file://c:\\Users\\gufer\\OneDrive\\Documentos\\FIAP\\Fase_03\\mtg-project\\classes\\player.py\" target=\"_blank\"><span style=\"color: #7f7f7f; text-decoration-color: #7f7f7f\">player.py</span></a><span style=\"color: #7f7f7f; text-decoration-color: #7f7f7f\">:</span><a href=\"file://c:\\Users\\gufer\\OneDrive\\Documentos\\FIAP\\Fase_03\\mtg-project\\classes\\player.py#372\" target=\"_blank\"><span style=\"color: #7f7f7f; text-decoration-color: #7f7f7f\">372</span></a>\n",
       "</pre>\n"
      ],
      "text/plain": [
       "\u001b[2;36m                   \u001b[0m\u001b[2;36m \u001b[0m\u001b[33mWARNING \u001b[0m Manuel Collins couldn't play any spells.                                 \u001b]8;id=173382;file://c:\\Users\\gufer\\OneDrive\\Documentos\\FIAP\\Fase_03\\mtg-project\\classes\\player.py\u001b\\\u001b[2mplayer.py\u001b[0m\u001b]8;;\u001b\\\u001b[2m:\u001b[0m\u001b]8;id=925649;file://c:\\Users\\gufer\\OneDrive\\Documentos\\FIAP\\Fase_03\\mtg-project\\classes\\player.py#372\u001b\\\u001b[2m372\u001b[0m\u001b]8;;\u001b\\\n"
      ]
     },
     "metadata": {},
     "output_type": "display_data"
    },
    {
     "data": {
      "text/html": [
       "<pre style=\"white-space:pre;overflow-x:auto;line-height:normal;font-family:Menlo,'DejaVu Sans Mono',consolas,'Courier New',monospace\"><span style=\"color: #7fbfbf; text-decoration-color: #7fbfbf\">                    </span><span style=\"color: #808000; text-decoration-color: #808000\">WARNING </span> Manuel Collins couldn't play any spells.                                 <a href=\"file://c:\\Users\\gufer\\OneDrive\\Documentos\\FIAP\\Fase_03\\mtg-project\\classes\\player.py\" target=\"_blank\"><span style=\"color: #7f7f7f; text-decoration-color: #7f7f7f\">player.py</span></a><span style=\"color: #7f7f7f; text-decoration-color: #7f7f7f\">:</span><a href=\"file://c:\\Users\\gufer\\OneDrive\\Documentos\\FIAP\\Fase_03\\mtg-project\\classes\\player.py#372\" target=\"_blank\"><span style=\"color: #7f7f7f; text-decoration-color: #7f7f7f\">372</span></a>\n",
       "</pre>\n"
      ],
      "text/plain": [
       "\u001b[2;36m                   \u001b[0m\u001b[2;36m \u001b[0m\u001b[33mWARNING \u001b[0m Manuel Collins couldn't play any spells.                                 \u001b]8;id=753123;file://c:\\Users\\gufer\\OneDrive\\Documentos\\FIAP\\Fase_03\\mtg-project\\classes\\player.py\u001b\\\u001b[2mplayer.py\u001b[0m\u001b]8;;\u001b\\\u001b[2m:\u001b[0m\u001b]8;id=426527;file://c:\\Users\\gufer\\OneDrive\\Documentos\\FIAP\\Fase_03\\mtg-project\\classes\\player.py#372\u001b\\\u001b[2m372\u001b[0m\u001b]8;;\u001b\\\n"
      ]
     },
     "metadata": {},
     "output_type": "display_data"
    },
    {
     "data": {
      "text/html": [
       "<pre style=\"white-space:pre;overflow-x:auto;line-height:normal;font-family:Menlo,'DejaVu Sans Mono',consolas,'Courier New',monospace\"><span style=\"color: #7fbfbf; text-decoration-color: #7fbfbf\">                    </span><span style=\"color: #808000; text-decoration-color: #808000\">WARNING </span> Manuel Collins couldn't play any spells.                                 <a href=\"file://c:\\Users\\gufer\\OneDrive\\Documentos\\FIAP\\Fase_03\\mtg-project\\classes\\player.py\" target=\"_blank\"><span style=\"color: #7f7f7f; text-decoration-color: #7f7f7f\">player.py</span></a><span style=\"color: #7f7f7f; text-decoration-color: #7f7f7f\">:</span><a href=\"file://c:\\Users\\gufer\\OneDrive\\Documentos\\FIAP\\Fase_03\\mtg-project\\classes\\player.py#372\" target=\"_blank\"><span style=\"color: #7f7f7f; text-decoration-color: #7f7f7f\">372</span></a>\n",
       "</pre>\n"
      ],
      "text/plain": [
       "\u001b[2;36m                   \u001b[0m\u001b[2;36m \u001b[0m\u001b[33mWARNING \u001b[0m Manuel Collins couldn't play any spells.                                 \u001b]8;id=337762;file://c:\\Users\\gufer\\OneDrive\\Documentos\\FIAP\\Fase_03\\mtg-project\\classes\\player.py\u001b\\\u001b[2mplayer.py\u001b[0m\u001b]8;;\u001b\\\u001b[2m:\u001b[0m\u001b]8;id=924891;file://c:\\Users\\gufer\\OneDrive\\Documentos\\FIAP\\Fase_03\\mtg-project\\classes\\player.py#372\u001b\\\u001b[2m372\u001b[0m\u001b]8;;\u001b\\\n"
      ]
     },
     "metadata": {},
     "output_type": "display_data"
    },
    {
     "data": {
      "text/html": [
       "<pre style=\"white-space:pre;overflow-x:auto;line-height:normal;font-family:Menlo,'DejaVu Sans Mono',consolas,'Courier New',monospace\"><span style=\"color: #7fbfbf; text-decoration-color: #7fbfbf\">                    </span><span style=\"color: #808000; text-decoration-color: #808000\">WARNING </span> Manuel Collins couldn't play any spells.                                 <a href=\"file://c:\\Users\\gufer\\OneDrive\\Documentos\\FIAP\\Fase_03\\mtg-project\\classes\\player.py\" target=\"_blank\"><span style=\"color: #7f7f7f; text-decoration-color: #7f7f7f\">player.py</span></a><span style=\"color: #7f7f7f; text-decoration-color: #7f7f7f\">:</span><a href=\"file://c:\\Users\\gufer\\OneDrive\\Documentos\\FIAP\\Fase_03\\mtg-project\\classes\\player.py#372\" target=\"_blank\"><span style=\"color: #7f7f7f; text-decoration-color: #7f7f7f\">372</span></a>\n",
       "</pre>\n"
      ],
      "text/plain": [
       "\u001b[2;36m                   \u001b[0m\u001b[2;36m \u001b[0m\u001b[33mWARNING \u001b[0m Manuel Collins couldn't play any spells.                                 \u001b]8;id=239564;file://c:\\Users\\gufer\\OneDrive\\Documentos\\FIAP\\Fase_03\\mtg-project\\classes\\player.py\u001b\\\u001b[2mplayer.py\u001b[0m\u001b]8;;\u001b\\\u001b[2m:\u001b[0m\u001b]8;id=670102;file://c:\\Users\\gufer\\OneDrive\\Documentos\\FIAP\\Fase_03\\mtg-project\\classes\\player.py#372\u001b\\\u001b[2m372\u001b[0m\u001b]8;;\u001b\\\n"
      ]
     },
     "metadata": {},
     "output_type": "display_data"
    },
    {
     "data": {
      "text/html": [
       "<pre style=\"white-space:pre;overflow-x:auto;line-height:normal;font-family:Menlo,'DejaVu Sans Mono',consolas,'Courier New',monospace\"><span style=\"color: #7fbfbf; text-decoration-color: #7fbfbf\">                    </span><span style=\"color: #808000; text-decoration-color: #808000\">WARNING </span> Kathryn Henry couldn't play any spells.                                  <a href=\"file://c:\\Users\\gufer\\OneDrive\\Documentos\\FIAP\\Fase_03\\mtg-project\\classes\\player.py\" target=\"_blank\"><span style=\"color: #7f7f7f; text-decoration-color: #7f7f7f\">player.py</span></a><span style=\"color: #7f7f7f; text-decoration-color: #7f7f7f\">:</span><a href=\"file://c:\\Users\\gufer\\OneDrive\\Documentos\\FIAP\\Fase_03\\mtg-project\\classes\\player.py#372\" target=\"_blank\"><span style=\"color: #7f7f7f; text-decoration-color: #7f7f7f\">372</span></a>\n",
       "</pre>\n"
      ],
      "text/plain": [
       "\u001b[2;36m                   \u001b[0m\u001b[2;36m \u001b[0m\u001b[33mWARNING \u001b[0m Kathryn Henry couldn't play any spells.                                  \u001b]8;id=150242;file://c:\\Users\\gufer\\OneDrive\\Documentos\\FIAP\\Fase_03\\mtg-project\\classes\\player.py\u001b\\\u001b[2mplayer.py\u001b[0m\u001b]8;;\u001b\\\u001b[2m:\u001b[0m\u001b]8;id=40425;file://c:\\Users\\gufer\\OneDrive\\Documentos\\FIAP\\Fase_03\\mtg-project\\classes\\player.py#372\u001b\\\u001b[2m372\u001b[0m\u001b]8;;\u001b\\\n"
      ]
     },
     "metadata": {},
     "output_type": "display_data"
    },
    {
     "data": {
      "text/html": [
       "<pre style=\"white-space:pre;overflow-x:auto;line-height:normal;font-family:Menlo,'DejaVu Sans Mono',consolas,'Courier New',monospace\"><span style=\"color: #7fbfbf; text-decoration-color: #7fbfbf\">                    </span><span style=\"color: #808000; text-decoration-color: #808000\">WARNING </span> Kathryn Henry couldn't play any spells.                                  <a href=\"file://c:\\Users\\gufer\\OneDrive\\Documentos\\FIAP\\Fase_03\\mtg-project\\classes\\player.py\" target=\"_blank\"><span style=\"color: #7f7f7f; text-decoration-color: #7f7f7f\">player.py</span></a><span style=\"color: #7f7f7f; text-decoration-color: #7f7f7f\">:</span><a href=\"file://c:\\Users\\gufer\\OneDrive\\Documentos\\FIAP\\Fase_03\\mtg-project\\classes\\player.py#372\" target=\"_blank\"><span style=\"color: #7f7f7f; text-decoration-color: #7f7f7f\">372</span></a>\n",
       "</pre>\n"
      ],
      "text/plain": [
       "\u001b[2;36m                   \u001b[0m\u001b[2;36m \u001b[0m\u001b[33mWARNING \u001b[0m Kathryn Henry couldn't play any spells.                                  \u001b]8;id=567738;file://c:\\Users\\gufer\\OneDrive\\Documentos\\FIAP\\Fase_03\\mtg-project\\classes\\player.py\u001b\\\u001b[2mplayer.py\u001b[0m\u001b]8;;\u001b\\\u001b[2m:\u001b[0m\u001b]8;id=992568;file://c:\\Users\\gufer\\OneDrive\\Documentos\\FIAP\\Fase_03\\mtg-project\\classes\\player.py#372\u001b\\\u001b[2m372\u001b[0m\u001b]8;;\u001b\\\n"
      ]
     },
     "metadata": {},
     "output_type": "display_data"
    },
    {
     "data": {
      "text/html": [
       "<pre style=\"white-space:pre;overflow-x:auto;line-height:normal;font-family:Menlo,'DejaVu Sans Mono',consolas,'Courier New',monospace\"><span style=\"color: #7fbfbf; text-decoration-color: #7fbfbf\">                    </span><span style=\"color: #808000; text-decoration-color: #808000\">WARNING </span> Kathryn Henry couldn't play any spells.                                  <a href=\"file://c:\\Users\\gufer\\OneDrive\\Documentos\\FIAP\\Fase_03\\mtg-project\\classes\\player.py\" target=\"_blank\"><span style=\"color: #7f7f7f; text-decoration-color: #7f7f7f\">player.py</span></a><span style=\"color: #7f7f7f; text-decoration-color: #7f7f7f\">:</span><a href=\"file://c:\\Users\\gufer\\OneDrive\\Documentos\\FIAP\\Fase_03\\mtg-project\\classes\\player.py#372\" target=\"_blank\"><span style=\"color: #7f7f7f; text-decoration-color: #7f7f7f\">372</span></a>\n",
       "</pre>\n"
      ],
      "text/plain": [
       "\u001b[2;36m                   \u001b[0m\u001b[2;36m \u001b[0m\u001b[33mWARNING \u001b[0m Kathryn Henry couldn't play any spells.                                  \u001b]8;id=139096;file://c:\\Users\\gufer\\OneDrive\\Documentos\\FIAP\\Fase_03\\mtg-project\\classes\\player.py\u001b\\\u001b[2mplayer.py\u001b[0m\u001b]8;;\u001b\\\u001b[2m:\u001b[0m\u001b]8;id=892488;file://c:\\Users\\gufer\\OneDrive\\Documentos\\FIAP\\Fase_03\\mtg-project\\classes\\player.py#372\u001b\\\u001b[2m372\u001b[0m\u001b]8;;\u001b\\\n"
      ]
     },
     "metadata": {},
     "output_type": "display_data"
    },
    {
     "data": {
      "text/html": [
       "<pre style=\"white-space:pre;overflow-x:auto;line-height:normal;font-family:Menlo,'DejaVu Sans Mono',consolas,'Courier New',monospace\"><span style=\"color: #7fbfbf; text-decoration-color: #7fbfbf\">                    </span><span style=\"color: #808000; text-decoration-color: #808000\">WARNING </span> Kathryn Henry couldn't play any spells.                                  <a href=\"file://c:\\Users\\gufer\\OneDrive\\Documentos\\FIAP\\Fase_03\\mtg-project\\classes\\player.py\" target=\"_blank\"><span style=\"color: #7f7f7f; text-decoration-color: #7f7f7f\">player.py</span></a><span style=\"color: #7f7f7f; text-decoration-color: #7f7f7f\">:</span><a href=\"file://c:\\Users\\gufer\\OneDrive\\Documentos\\FIAP\\Fase_03\\mtg-project\\classes\\player.py#372\" target=\"_blank\"><span style=\"color: #7f7f7f; text-decoration-color: #7f7f7f\">372</span></a>\n",
       "</pre>\n"
      ],
      "text/plain": [
       "\u001b[2;36m                   \u001b[0m\u001b[2;36m \u001b[0m\u001b[33mWARNING \u001b[0m Kathryn Henry couldn't play any spells.                                  \u001b]8;id=617773;file://c:\\Users\\gufer\\OneDrive\\Documentos\\FIAP\\Fase_03\\mtg-project\\classes\\player.py\u001b\\\u001b[2mplayer.py\u001b[0m\u001b]8;;\u001b\\\u001b[2m:\u001b[0m\u001b]8;id=102099;file://c:\\Users\\gufer\\OneDrive\\Documentos\\FIAP\\Fase_03\\mtg-project\\classes\\player.py#372\u001b\\\u001b[2m372\u001b[0m\u001b]8;;\u001b\\\n"
      ]
     },
     "metadata": {},
     "output_type": "display_data"
    },
    {
     "data": {
      "text/html": [
       "<pre style=\"white-space:pre;overflow-x:auto;line-height:normal;font-family:Menlo,'DejaVu Sans Mono',consolas,'Courier New',monospace\"><span style=\"color: #7fbfbf; text-decoration-color: #7fbfbf\">                    </span><span style=\"color: #808000; text-decoration-color: #808000\">WARNING </span> Kathryn Henry couldn't play any spells.                                  <a href=\"file://c:\\Users\\gufer\\OneDrive\\Documentos\\FIAP\\Fase_03\\mtg-project\\classes\\player.py\" target=\"_blank\"><span style=\"color: #7f7f7f; text-decoration-color: #7f7f7f\">player.py</span></a><span style=\"color: #7f7f7f; text-decoration-color: #7f7f7f\">:</span><a href=\"file://c:\\Users\\gufer\\OneDrive\\Documentos\\FIAP\\Fase_03\\mtg-project\\classes\\player.py#372\" target=\"_blank\"><span style=\"color: #7f7f7f; text-decoration-color: #7f7f7f\">372</span></a>\n",
       "</pre>\n"
      ],
      "text/plain": [
       "\u001b[2;36m                   \u001b[0m\u001b[2;36m \u001b[0m\u001b[33mWARNING \u001b[0m Kathryn Henry couldn't play any spells.                                  \u001b]8;id=147233;file://c:\\Users\\gufer\\OneDrive\\Documentos\\FIAP\\Fase_03\\mtg-project\\classes\\player.py\u001b\\\u001b[2mplayer.py\u001b[0m\u001b]8;;\u001b\\\u001b[2m:\u001b[0m\u001b]8;id=946911;file://c:\\Users\\gufer\\OneDrive\\Documentos\\FIAP\\Fase_03\\mtg-project\\classes\\player.py#372\u001b\\\u001b[2m372\u001b[0m\u001b]8;;\u001b\\\n"
      ]
     },
     "metadata": {},
     "output_type": "display_data"
    },
    {
     "data": {
      "text/html": [
       "<pre style=\"white-space:pre;overflow-x:auto;line-height:normal;font-family:Menlo,'DejaVu Sans Mono',consolas,'Courier New',monospace\"><span style=\"color: #7fbfbf; text-decoration-color: #7fbfbf\">                    </span><span style=\"color: #808000; text-decoration-color: #808000\">WARNING </span> Kathryn Henry couldn't play any spells.                                  <a href=\"file://c:\\Users\\gufer\\OneDrive\\Documentos\\FIAP\\Fase_03\\mtg-project\\classes\\player.py\" target=\"_blank\"><span style=\"color: #7f7f7f; text-decoration-color: #7f7f7f\">player.py</span></a><span style=\"color: #7f7f7f; text-decoration-color: #7f7f7f\">:</span><a href=\"file://c:\\Users\\gufer\\OneDrive\\Documentos\\FIAP\\Fase_03\\mtg-project\\classes\\player.py#372\" target=\"_blank\"><span style=\"color: #7f7f7f; text-decoration-color: #7f7f7f\">372</span></a>\n",
       "</pre>\n"
      ],
      "text/plain": [
       "\u001b[2;36m                   \u001b[0m\u001b[2;36m \u001b[0m\u001b[33mWARNING \u001b[0m Kathryn Henry couldn't play any spells.                                  \u001b]8;id=734538;file://c:\\Users\\gufer\\OneDrive\\Documentos\\FIAP\\Fase_03\\mtg-project\\classes\\player.py\u001b\\\u001b[2mplayer.py\u001b[0m\u001b]8;;\u001b\\\u001b[2m:\u001b[0m\u001b]8;id=840345;file://c:\\Users\\gufer\\OneDrive\\Documentos\\FIAP\\Fase_03\\mtg-project\\classes\\player.py#372\u001b\\\u001b[2m372\u001b[0m\u001b]8;;\u001b\\\n"
      ]
     },
     "metadata": {},
     "output_type": "display_data"
    },
    {
     "data": {
      "text/html": [
       "<pre style=\"white-space:pre;overflow-x:auto;line-height:normal;font-family:Menlo,'DejaVu Sans Mono',consolas,'Courier New',monospace\"><span style=\"color: #7fbfbf; text-decoration-color: #7fbfbf\">                    </span><span style=\"color: #808000; text-decoration-color: #808000\">WARNING </span> Kathryn Henry couldn't play any spells.                                  <a href=\"file://c:\\Users\\gufer\\OneDrive\\Documentos\\FIAP\\Fase_03\\mtg-project\\classes\\player.py\" target=\"_blank\"><span style=\"color: #7f7f7f; text-decoration-color: #7f7f7f\">player.py</span></a><span style=\"color: #7f7f7f; text-decoration-color: #7f7f7f\">:</span><a href=\"file://c:\\Users\\gufer\\OneDrive\\Documentos\\FIAP\\Fase_03\\mtg-project\\classes\\player.py#372\" target=\"_blank\"><span style=\"color: #7f7f7f; text-decoration-color: #7f7f7f\">372</span></a>\n",
       "</pre>\n"
      ],
      "text/plain": [
       "\u001b[2;36m                   \u001b[0m\u001b[2;36m \u001b[0m\u001b[33mWARNING \u001b[0m Kathryn Henry couldn't play any spells.                                  \u001b]8;id=675467;file://c:\\Users\\gufer\\OneDrive\\Documentos\\FIAP\\Fase_03\\mtg-project\\classes\\player.py\u001b\\\u001b[2mplayer.py\u001b[0m\u001b]8;;\u001b\\\u001b[2m:\u001b[0m\u001b]8;id=504708;file://c:\\Users\\gufer\\OneDrive\\Documentos\\FIAP\\Fase_03\\mtg-project\\classes\\player.py#372\u001b\\\u001b[2m372\u001b[0m\u001b]8;;\u001b\\\n"
      ]
     },
     "metadata": {},
     "output_type": "display_data"
    },
    {
     "data": {
      "text/html": [
       "<pre style=\"white-space:pre;overflow-x:auto;line-height:normal;font-family:Menlo,'DejaVu Sans Mono',consolas,'Courier New',monospace\"><span style=\"color: #7fbfbf; text-decoration-color: #7fbfbf\">                    </span><span style=\"color: #808000; text-decoration-color: #808000\">WARNING </span> Kathryn Henry couldn't play any spells.                                  <a href=\"file://c:\\Users\\gufer\\OneDrive\\Documentos\\FIAP\\Fase_03\\mtg-project\\classes\\player.py\" target=\"_blank\"><span style=\"color: #7f7f7f; text-decoration-color: #7f7f7f\">player.py</span></a><span style=\"color: #7f7f7f; text-decoration-color: #7f7f7f\">:</span><a href=\"file://c:\\Users\\gufer\\OneDrive\\Documentos\\FIAP\\Fase_03\\mtg-project\\classes\\player.py#372\" target=\"_blank\"><span style=\"color: #7f7f7f; text-decoration-color: #7f7f7f\">372</span></a>\n",
       "</pre>\n"
      ],
      "text/plain": [
       "\u001b[2;36m                   \u001b[0m\u001b[2;36m \u001b[0m\u001b[33mWARNING \u001b[0m Kathryn Henry couldn't play any spells.                                  \u001b]8;id=474088;file://c:\\Users\\gufer\\OneDrive\\Documentos\\FIAP\\Fase_03\\mtg-project\\classes\\player.py\u001b\\\u001b[2mplayer.py\u001b[0m\u001b]8;;\u001b\\\u001b[2m:\u001b[0m\u001b]8;id=516239;file://c:\\Users\\gufer\\OneDrive\\Documentos\\FIAP\\Fase_03\\mtg-project\\classes\\player.py#372\u001b\\\u001b[2m372\u001b[0m\u001b]8;;\u001b\\\n"
      ]
     },
     "metadata": {},
     "output_type": "display_data"
    },
    {
     "data": {
      "text/html": [
       "<pre style=\"white-space:pre;overflow-x:auto;line-height:normal;font-family:Menlo,'DejaVu Sans Mono',consolas,'Courier New',monospace\"><span style=\"color: #7fbfbf; text-decoration-color: #7fbfbf\">                    </span><span style=\"color: #808000; text-decoration-color: #808000\">WARNING </span> Kathryn Henry couldn't play any spells.                                  <a href=\"file://c:\\Users\\gufer\\OneDrive\\Documentos\\FIAP\\Fase_03\\mtg-project\\classes\\player.py\" target=\"_blank\"><span style=\"color: #7f7f7f; text-decoration-color: #7f7f7f\">player.py</span></a><span style=\"color: #7f7f7f; text-decoration-color: #7f7f7f\">:</span><a href=\"file://c:\\Users\\gufer\\OneDrive\\Documentos\\FIAP\\Fase_03\\mtg-project\\classes\\player.py#372\" target=\"_blank\"><span style=\"color: #7f7f7f; text-decoration-color: #7f7f7f\">372</span></a>\n",
       "</pre>\n"
      ],
      "text/plain": [
       "\u001b[2;36m                   \u001b[0m\u001b[2;36m \u001b[0m\u001b[33mWARNING \u001b[0m Kathryn Henry couldn't play any spells.                                  \u001b]8;id=827668;file://c:\\Users\\gufer\\OneDrive\\Documentos\\FIAP\\Fase_03\\mtg-project\\classes\\player.py\u001b\\\u001b[2mplayer.py\u001b[0m\u001b]8;;\u001b\\\u001b[2m:\u001b[0m\u001b]8;id=996077;file://c:\\Users\\gufer\\OneDrive\\Documentos\\FIAP\\Fase_03\\mtg-project\\classes\\player.py#372\u001b\\\u001b[2m372\u001b[0m\u001b]8;;\u001b\\\n"
      ]
     },
     "metadata": {},
     "output_type": "display_data"
    },
    {
     "data": {
      "text/html": [
       "<pre style=\"white-space:pre;overflow-x:auto;line-height:normal;font-family:Menlo,'DejaVu Sans Mono',consolas,'Courier New',monospace\"><span style=\"color: #7fbfbf; text-decoration-color: #7fbfbf\">                    </span><span style=\"color: #808000; text-decoration-color: #808000\">WARNING </span> Kathryn Henry couldn't play any spells.                                  <a href=\"file://c:\\Users\\gufer\\OneDrive\\Documentos\\FIAP\\Fase_03\\mtg-project\\classes\\player.py\" target=\"_blank\"><span style=\"color: #7f7f7f; text-decoration-color: #7f7f7f\">player.py</span></a><span style=\"color: #7f7f7f; text-decoration-color: #7f7f7f\">:</span><a href=\"file://c:\\Users\\gufer\\OneDrive\\Documentos\\FIAP\\Fase_03\\mtg-project\\classes\\player.py#372\" target=\"_blank\"><span style=\"color: #7f7f7f; text-decoration-color: #7f7f7f\">372</span></a>\n",
       "</pre>\n"
      ],
      "text/plain": [
       "\u001b[2;36m                   \u001b[0m\u001b[2;36m \u001b[0m\u001b[33mWARNING \u001b[0m Kathryn Henry couldn't play any spells.                                  \u001b]8;id=864710;file://c:\\Users\\gufer\\OneDrive\\Documentos\\FIAP\\Fase_03\\mtg-project\\classes\\player.py\u001b\\\u001b[2mplayer.py\u001b[0m\u001b]8;;\u001b\\\u001b[2m:\u001b[0m\u001b]8;id=688113;file://c:\\Users\\gufer\\OneDrive\\Documentos\\FIAP\\Fase_03\\mtg-project\\classes\\player.py#372\u001b\\\u001b[2m372\u001b[0m\u001b]8;;\u001b\\\n"
      ]
     },
     "metadata": {},
     "output_type": "display_data"
    },
    {
     "data": {
      "text/html": [
       "<pre style=\"white-space:pre;overflow-x:auto;line-height:normal;font-family:Menlo,'DejaVu Sans Mono',consolas,'Courier New',monospace\"><span style=\"color: #7fbfbf; text-decoration-color: #7fbfbf\">                    </span><span style=\"color: #000080; text-decoration-color: #000080\">INFO    </span> Saving data to <span style=\"color: #ff8700; text-decoration-color: #ff8700\">matches_df</span> <span style=\"font-weight: bold\">(</span>ParquetDataset<span style=\"font-weight: bold\">)</span><span style=\"color: #808000; text-decoration-color: #808000\">...</span>                      <a href=\"file://c:\\Users\\gufer\\miniconda3\\envs\\mtg_env\\Lib\\site-packages\\kedro\\io\\data_catalog.py\" target=\"_blank\"><span style=\"color: #7f7f7f; text-decoration-color: #7f7f7f\">data_catalog.py</span></a><span style=\"color: #7f7f7f; text-decoration-color: #7f7f7f\">:</span><a href=\"file://c:\\Users\\gufer\\miniconda3\\envs\\mtg_env\\Lib\\site-packages\\kedro\\io\\data_catalog.py#581\" target=\"_blank\"><span style=\"color: #7f7f7f; text-decoration-color: #7f7f7f\">581</span></a>\n",
       "</pre>\n"
      ],
      "text/plain": [
       "\u001b[2;36m                   \u001b[0m\u001b[2;36m \u001b[0m\u001b[34mINFO    \u001b[0m Saving data to \u001b[38;5;208mmatches_df\u001b[0m \u001b[1m(\u001b[0mParquetDataset\u001b[1m)\u001b[0m\u001b[33m...\u001b[0m                      \u001b]8;id=789646;file://c:\\Users\\gufer\\miniconda3\\envs\\mtg_env\\Lib\\site-packages\\kedro\\io\\data_catalog.py\u001b\\\u001b[2mdata_catalog.py\u001b[0m\u001b]8;;\u001b\\\u001b[2m:\u001b[0m\u001b]8;id=907109;file://c:\\Users\\gufer\\miniconda3\\envs\\mtg_env\\Lib\\site-packages\\kedro\\io\\data_catalog.py#581\u001b\\\u001b[2m581\u001b[0m\u001b]8;;\u001b\\\n"
      ]
     },
     "metadata": {},
     "output_type": "display_data"
    }
   ],
   "source": [
    "def simulate_player_matches(params: dict, players_with_decks: list) -> pd.DataFrame:\n",
    "    \"\"\"\n",
    "    Simulates Magic: The Gathering matches for a list of players based on the provided simulation parameters.\n",
    "\n",
    "    Parameters:\n",
    "    -----------\n",
    "    params : dict\n",
    "        A dictionary containing the simulation parameters, including:\n",
    "        - 'max_mulligans': Maximum number of mulligans allowed per player.\n",
    "        - 'mulligan_prob': Probability of a player choosing to mulligan.\n",
    "        - 'hand_size_stop': Minimum hand size at which the simulation will stop.\n",
    "        - 'max_turns': Maximum number of turns per match.\n",
    "        - 'extra_land_prob': Probability of playing an extra land during a turn.\n",
    "        - 'matches_per_player': Number of matches to simulate per player.\n",
    "        - 'log_folder': Folder path for logging the simulation process.\n",
    "    \n",
    "    players_with_decks : list\n",
    "        A list of Player objects, each with an assigned deck to be used in the simulation.\n",
    "\n",
    "    Returns:\n",
    "    --------\n",
    "    pd.DataFrame\n",
    "        A DataFrame containing the match data for all players across all matches and turns, including:\n",
    "        - Player attributes at each turn.\n",
    "        - Match number for each simulation.\n",
    "    \"\"\"\n",
    "    \n",
    "    # Atribuir os parâmetros\n",
    "    max_mulligans = params[\"max_mulligans\"]\n",
    "    mulligan_prob = params[\"mulligan_prob\"]\n",
    "    hand_size_stop = params[\"hand_size_stop\"]\n",
    "    max_turns = params[\"max_turns\"]\n",
    "    extra_land_prob = params[\"extra_land_prob\"]\n",
    "    matches_per_player = params[\"matches_per_player\"]\n",
    "    log_folder = params[\"log_folder\"]\n",
    "\n",
    "    # Caminho do arquivo de log\n",
    "    log_filepath = os.path.join(log_folder, 'player_matches.txt')\n",
    "\n",
    "    # Cria a pasta de log se ela não existir\n",
    "    os.makedirs(log_folder, exist_ok=True)\n",
    "\n",
    "    # Configura o logger geral\n",
    "    logger = setup_logger(\"player_matches\", log_filepath)\n",
    "\n",
    "    # Log de início da validação\n",
    "    logger.info(\"Initiating simulations...\")\n",
    "\n",
    "    # Inicializa o tracker para armazenar os dados\n",
    "    tracker = PlayerTracker()\n",
    "\n",
    "    # Loop através dos jogadores e realizar as simulações de partidas\n",
    "    for player in players_with_decks:\n",
    "        for match in range(matches_per_player):\n",
    "            # Simular várias partidas para o jogador\n",
    "            player.play_a_match(tracker, \n",
    "                                max_mulligans, \n",
    "                                mulligan_prob, \n",
    "                                max_turns, \n",
    "                                hand_size_stop, \n",
    "                                extra_land_prob)\n",
    "\n",
    "    # Obter os dados de todas as partidas e turnos\n",
    "    matches_df = tracker.get_data()\n",
    "    \n",
    "    return matches_df\n",
    "\n",
    "# Chamada da função\n",
    "params = catalog.load(\"params:simulation\")\n",
    "players_with_decks = catalog.load(\"players_with_decks\")\n",
    "features_df = simulate_player_matches(params, players_with_decks)\n",
    "catalog.save(\"matches_df\",features_df)"
   ]
  },
  {
   "cell_type": "code",
   "execution_count": 15,
   "metadata": {},
   "outputs": [
    {
     "data": {
      "text/html": [
       "<pre style=\"white-space:pre;overflow-x:auto;line-height:normal;font-family:Menlo,'DejaVu Sans Mono',consolas,'Courier New',monospace\"><span style=\"color: #7fbfbf; text-decoration-color: #7fbfbf\">[09/17/24 21:27:36] </span><span style=\"color: #000080; text-decoration-color: #000080\">INFO    </span> Loading data from <span style=\"color: #ff8700; text-decoration-color: #ff8700\">matches_df</span> <span style=\"font-weight: bold\">(</span>ParquetDataset<span style=\"font-weight: bold\">)</span><span style=\"color: #808000; text-decoration-color: #808000\">...</span>                   <a href=\"file://c:\\Users\\gufer\\miniconda3\\envs\\mtg_env\\Lib\\site-packages\\kedro\\io\\data_catalog.py\" target=\"_blank\"><span style=\"color: #7f7f7f; text-decoration-color: #7f7f7f\">data_catalog.py</span></a><span style=\"color: #7f7f7f; text-decoration-color: #7f7f7f\">:</span><a href=\"file://c:\\Users\\gufer\\miniconda3\\envs\\mtg_env\\Lib\\site-packages\\kedro\\io\\data_catalog.py#539\" target=\"_blank\"><span style=\"color: #7f7f7f; text-decoration-color: #7f7f7f\">539</span></a>\n",
       "</pre>\n"
      ],
      "text/plain": [
       "\u001b[2;36m[09/17/24 21:27:36]\u001b[0m\u001b[2;36m \u001b[0m\u001b[34mINFO    \u001b[0m Loading data from \u001b[38;5;208mmatches_df\u001b[0m \u001b[1m(\u001b[0mParquetDataset\u001b[1m)\u001b[0m\u001b[33m...\u001b[0m                   \u001b]8;id=177329;file://c:\\Users\\gufer\\miniconda3\\envs\\mtg_env\\Lib\\site-packages\\kedro\\io\\data_catalog.py\u001b\\\u001b[2mdata_catalog.py\u001b[0m\u001b]8;;\u001b\\\u001b[2m:\u001b[0m\u001b]8;id=646480;file://c:\\Users\\gufer\\miniconda3\\envs\\mtg_env\\Lib\\site-packages\\kedro\\io\\data_catalog.py#539\u001b\\\u001b[2m539\u001b[0m\u001b]8;;\u001b\\\n"
      ]
     },
     "metadata": {},
     "output_type": "display_data"
    },
    {
     "data": {
      "text/html": [
       "<pre style=\"white-space:pre;overflow-x:auto;line-height:normal;font-family:Menlo,'DejaVu Sans Mono',consolas,'Courier New',monospace\"></pre>\n"
      ],
      "text/plain": []
     },
     "metadata": {},
     "output_type": "display_data"
    },
    {
     "data": {
      "text/html": [
       "<div>\n",
       "<style scoped>\n",
       "    .dataframe tbody tr th:only-of-type {\n",
       "        vertical-align: middle;\n",
       "    }\n",
       "\n",
       "    .dataframe tbody tr th {\n",
       "        vertical-align: top;\n",
       "    }\n",
       "\n",
       "    .dataframe thead th {\n",
       "        text-align: right;\n",
       "    }\n",
       "</style>\n",
       "<table border=\"1\" class=\"dataframe\">\n",
       "  <thead>\n",
       "    <tr style=\"text-align: right;\">\n",
       "      <th></th>\n",
       "      <th>name</th>\n",
       "      <th>deck_name</th>\n",
       "      <th>deck_colors</th>\n",
       "      <th>match</th>\n",
       "      <th>turn</th>\n",
       "      <th>mulligan_count</th>\n",
       "      <th>lands_played</th>\n",
       "      <th>spells_played</th>\n",
       "      <th>mana_pool</th>\n",
       "      <th>spent_mana</th>\n",
       "      <th>hand_size</th>\n",
       "      <th>library_size</th>\n",
       "      <th>graveyard_size</th>\n",
       "      <th>full_hand</th>\n",
       "      <th>full_graveyard</th>\n",
       "      <th>cum_mana_pool</th>\n",
       "      <th>cum_spent_mana</th>\n",
       "      <th>spell_ratio</th>\n",
       "      <th>land_ratio</th>\n",
       "      <th>mana_curve_efficiency</th>\n",
       "      <th>mana_curve_efficiency_lag_1</th>\n",
       "      <th>mana_curve_efficiency_lag_2</th>\n",
       "      <th>spell_ratio_lag_1</th>\n",
       "      <th>land_ratio_lag_1</th>\n",
       "      <th>rolling_mean_mana_curve_efficiency_3</th>\n",
       "      <th>rolling_mean_spell_ratio_3</th>\n",
       "      <th>rolling_mean_land_ratio_3</th>\n",
       "    </tr>\n",
       "  </thead>\n",
       "  <tbody>\n",
       "    <tr>\n",
       "      <th>336</th>\n",
       "      <td>Kathryn Henry</td>\n",
       "      <td>azorius spirits</td>\n",
       "      <td>[W, U]</td>\n",
       "      <td>9</td>\n",
       "      <td>0</td>\n",
       "      <td>0</td>\n",
       "      <td>0</td>\n",
       "      <td>0</td>\n",
       "      <td>0</td>\n",
       "      <td>0</td>\n",
       "      <td>7</td>\n",
       "      <td>53</td>\n",
       "      <td>0</td>\n",
       "      <td>Hand(7 cards: Island, Plains, Island, Plains, ...</td>\n",
       "      <td>Graveyard(0 cards: )</td>\n",
       "      <td>0</td>\n",
       "      <td>0</td>\n",
       "      <td>0.00</td>\n",
       "      <td>0.00</td>\n",
       "      <td>0.00</td>\n",
       "      <td>0.00</td>\n",
       "      <td>0.0</td>\n",
       "      <td>0.00</td>\n",
       "      <td>0.00</td>\n",
       "      <td>0.000000</td>\n",
       "      <td>0.000000</td>\n",
       "      <td>0.000000</td>\n",
       "    </tr>\n",
       "    <tr>\n",
       "      <th>337</th>\n",
       "      <td>Kathryn Henry</td>\n",
       "      <td>azorius spirits</td>\n",
       "      <td>[W, U]</td>\n",
       "      <td>9</td>\n",
       "      <td>0</td>\n",
       "      <td>1</td>\n",
       "      <td>0</td>\n",
       "      <td>0</td>\n",
       "      <td>0</td>\n",
       "      <td>0</td>\n",
       "      <td>6</td>\n",
       "      <td>54</td>\n",
       "      <td>0</td>\n",
       "      <td>Hand(6 cards: Temple of Enlightenment, Glacial...</td>\n",
       "      <td>Graveyard(0 cards: )</td>\n",
       "      <td>0</td>\n",
       "      <td>0</td>\n",
       "      <td>0.00</td>\n",
       "      <td>0.00</td>\n",
       "      <td>0.00</td>\n",
       "      <td>0.00</td>\n",
       "      <td>0.0</td>\n",
       "      <td>0.00</td>\n",
       "      <td>0.00</td>\n",
       "      <td>0.000000</td>\n",
       "      <td>0.000000</td>\n",
       "      <td>0.000000</td>\n",
       "    </tr>\n",
       "    <tr>\n",
       "      <th>338</th>\n",
       "      <td>Kathryn Henry</td>\n",
       "      <td>azorius spirits</td>\n",
       "      <td>[W, U]</td>\n",
       "      <td>9</td>\n",
       "      <td>1</td>\n",
       "      <td>1</td>\n",
       "      <td>1</td>\n",
       "      <td>1</td>\n",
       "      <td>1</td>\n",
       "      <td>1</td>\n",
       "      <td>5</td>\n",
       "      <td>53</td>\n",
       "      <td>1</td>\n",
       "      <td>Hand(5 cards: Glacial Fortress, Island, Watche...</td>\n",
       "      <td>Graveyard(1 cards: Spell Pierce)</td>\n",
       "      <td>1</td>\n",
       "      <td>1</td>\n",
       "      <td>0.50</td>\n",
       "      <td>0.50</td>\n",
       "      <td>1.00</td>\n",
       "      <td>0.00</td>\n",
       "      <td>0.0</td>\n",
       "      <td>0.00</td>\n",
       "      <td>0.00</td>\n",
       "      <td>0.333333</td>\n",
       "      <td>0.166667</td>\n",
       "      <td>0.166667</td>\n",
       "    </tr>\n",
       "    <tr>\n",
       "      <th>339</th>\n",
       "      <td>Kathryn Henry</td>\n",
       "      <td>azorius spirits</td>\n",
       "      <td>[W, U]</td>\n",
       "      <td>9</td>\n",
       "      <td>2</td>\n",
       "      <td>1</td>\n",
       "      <td>2</td>\n",
       "      <td>2</td>\n",
       "      <td>3</td>\n",
       "      <td>2</td>\n",
       "      <td>3</td>\n",
       "      <td>52</td>\n",
       "      <td>2</td>\n",
       "      <td>Hand(3 cards: Mausoleum Wanderer, Lofty Denial...</td>\n",
       "      <td>Graveyard(2 cards: Spell Pierce, Watcher of th...</td>\n",
       "      <td>4</td>\n",
       "      <td>3</td>\n",
       "      <td>0.67</td>\n",
       "      <td>0.67</td>\n",
       "      <td>0.75</td>\n",
       "      <td>1.00</td>\n",
       "      <td>0.0</td>\n",
       "      <td>0.50</td>\n",
       "      <td>0.50</td>\n",
       "      <td>0.583333</td>\n",
       "      <td>0.390000</td>\n",
       "      <td>0.390000</td>\n",
       "    </tr>\n",
       "    <tr>\n",
       "      <th>340</th>\n",
       "      <td>Kathryn Henry</td>\n",
       "      <td>azorius spirits</td>\n",
       "      <td>[W, U]</td>\n",
       "      <td>9</td>\n",
       "      <td>3</td>\n",
       "      <td>1</td>\n",
       "      <td>1</td>\n",
       "      <td>4</td>\n",
       "      <td>4</td>\n",
       "      <td>4</td>\n",
       "      <td>1</td>\n",
       "      <td>51</td>\n",
       "      <td>4</td>\n",
       "      <td>Hand(1 cards: Mausoleum Wanderer)</td>\n",
       "      <td>Graveyard(4 cards: Spell Pierce, Watcher of th...</td>\n",
       "      <td>8</td>\n",
       "      <td>7</td>\n",
       "      <td>1.00</td>\n",
       "      <td>0.25</td>\n",
       "      <td>0.88</td>\n",
       "      <td>0.75</td>\n",
       "      <td>1.0</td>\n",
       "      <td>0.67</td>\n",
       "      <td>0.67</td>\n",
       "      <td>0.876667</td>\n",
       "      <td>0.723333</td>\n",
       "      <td>0.473333</td>\n",
       "    </tr>\n",
       "    <tr>\n",
       "      <th>341</th>\n",
       "      <td>Kathryn Henry</td>\n",
       "      <td>azorius spirits</td>\n",
       "      <td>[W, U]</td>\n",
       "      <td>10</td>\n",
       "      <td>0</td>\n",
       "      <td>0</td>\n",
       "      <td>0</td>\n",
       "      <td>0</td>\n",
       "      <td>0</td>\n",
       "      <td>0</td>\n",
       "      <td>7</td>\n",
       "      <td>53</td>\n",
       "      <td>0</td>\n",
       "      <td>Hand(7 cards: Plains, Temple of Enlightenment,...</td>\n",
       "      <td>Graveyard(0 cards: )</td>\n",
       "      <td>0</td>\n",
       "      <td>0</td>\n",
       "      <td>0.00</td>\n",
       "      <td>0.00</td>\n",
       "      <td>0.00</td>\n",
       "      <td>0.00</td>\n",
       "      <td>0.0</td>\n",
       "      <td>0.00</td>\n",
       "      <td>0.00</td>\n",
       "      <td>0.000000</td>\n",
       "      <td>0.000000</td>\n",
       "      <td>0.000000</td>\n",
       "    </tr>\n",
       "    <tr>\n",
       "      <th>342</th>\n",
       "      <td>Kathryn Henry</td>\n",
       "      <td>azorius spirits</td>\n",
       "      <td>[W, U]</td>\n",
       "      <td>10</td>\n",
       "      <td>1</td>\n",
       "      <td>0</td>\n",
       "      <td>1</td>\n",
       "      <td>1</td>\n",
       "      <td>1</td>\n",
       "      <td>1</td>\n",
       "      <td>6</td>\n",
       "      <td>52</td>\n",
       "      <td>1</td>\n",
       "      <td>Hand(6 cards: Temple of Enlightenment, Plains,...</td>\n",
       "      <td>Graveyard(1 cards: Spell Pierce)</td>\n",
       "      <td>1</td>\n",
       "      <td>1</td>\n",
       "      <td>0.50</td>\n",
       "      <td>0.50</td>\n",
       "      <td>1.00</td>\n",
       "      <td>0.00</td>\n",
       "      <td>0.0</td>\n",
       "      <td>0.00</td>\n",
       "      <td>0.00</td>\n",
       "      <td>0.000000</td>\n",
       "      <td>0.000000</td>\n",
       "      <td>0.000000</td>\n",
       "    </tr>\n",
       "    <tr>\n",
       "      <th>343</th>\n",
       "      <td>Kathryn Henry</td>\n",
       "      <td>azorius spirits</td>\n",
       "      <td>[W, U]</td>\n",
       "      <td>10</td>\n",
       "      <td>2</td>\n",
       "      <td>0</td>\n",
       "      <td>1</td>\n",
       "      <td>2</td>\n",
       "      <td>2</td>\n",
       "      <td>2</td>\n",
       "      <td>5</td>\n",
       "      <td>51</td>\n",
       "      <td>2</td>\n",
       "      <td>Hand(5 cards: Plains, Empyrean Eagle, Rattlech...</td>\n",
       "      <td>Graveyard(2 cards: Spell Pierce, Rattlechains)</td>\n",
       "      <td>3</td>\n",
       "      <td>3</td>\n",
       "      <td>0.67</td>\n",
       "      <td>0.33</td>\n",
       "      <td>1.00</td>\n",
       "      <td>1.00</td>\n",
       "      <td>0.0</td>\n",
       "      <td>0.50</td>\n",
       "      <td>0.50</td>\n",
       "      <td>0.666667</td>\n",
       "      <td>0.390000</td>\n",
       "      <td>0.276667</td>\n",
       "    </tr>\n",
       "    <tr>\n",
       "      <th>344</th>\n",
       "      <td>Kathryn Henry</td>\n",
       "      <td>azorius spirits</td>\n",
       "      <td>[W, U]</td>\n",
       "      <td>10</td>\n",
       "      <td>3</td>\n",
       "      <td>0</td>\n",
       "      <td>1</td>\n",
       "      <td>3</td>\n",
       "      <td>3</td>\n",
       "      <td>3</td>\n",
       "      <td>4</td>\n",
       "      <td>50</td>\n",
       "      <td>3</td>\n",
       "      <td>Hand(4 cards: Island, Rattlechains, Selfless S...</td>\n",
       "      <td>Graveyard(3 cards: Spell Pierce, Rattlechains,...</td>\n",
       "      <td>6</td>\n",
       "      <td>6</td>\n",
       "      <td>0.75</td>\n",
       "      <td>0.25</td>\n",
       "      <td>1.00</td>\n",
       "      <td>1.00</td>\n",
       "      <td>1.0</td>\n",
       "      <td>0.67</td>\n",
       "      <td>0.33</td>\n",
       "      <td>1.000000</td>\n",
       "      <td>0.640000</td>\n",
       "      <td>0.360000</td>\n",
       "    </tr>\n",
       "    <tr>\n",
       "      <th>345</th>\n",
       "      <td>Kathryn Henry</td>\n",
       "      <td>azorius spirits</td>\n",
       "      <td>[W, U]</td>\n",
       "      <td>10</td>\n",
       "      <td>4</td>\n",
       "      <td>0</td>\n",
       "      <td>1</td>\n",
       "      <td>5</td>\n",
       "      <td>4</td>\n",
       "      <td>4</td>\n",
       "      <td>2</td>\n",
       "      <td>49</td>\n",
       "      <td>5</td>\n",
       "      <td>Hand(2 cards: Island, Spectral Sailor)</td>\n",
       "      <td>Graveyard(5 cards: Spell Pierce, Rattlechains,...</td>\n",
       "      <td>10</td>\n",
       "      <td>10</td>\n",
       "      <td>1.00</td>\n",
       "      <td>0.20</td>\n",
       "      <td>1.00</td>\n",
       "      <td>1.00</td>\n",
       "      <td>1.0</td>\n",
       "      <td>0.75</td>\n",
       "      <td>0.25</td>\n",
       "      <td>1.000000</td>\n",
       "      <td>0.806667</td>\n",
       "      <td>0.260000</td>\n",
       "    </tr>\n",
       "  </tbody>\n",
       "</table>\n",
       "</div>"
      ],
      "text/plain": [
       "\n",
       "              name        deck_name deck_colors  match  turn  mulligan_count  \\\n",
       "\u001b[1;36m336\u001b[0m  Kathryn Henry  azorius spirits      \u001b[1m[\u001b[0mW, U\u001b[1m]\u001b[0m      \u001b[1;36m9\u001b[0m     \u001b[1;36m0\u001b[0m               \u001b[1;36m0\u001b[0m   \n",
       "\u001b[1;36m337\u001b[0m  Kathryn Henry  azorius spirits      \u001b[1m[\u001b[0mW, U\u001b[1m]\u001b[0m      \u001b[1;36m9\u001b[0m     \u001b[1;36m0\u001b[0m               \u001b[1;36m1\u001b[0m   \n",
       "\u001b[1;36m338\u001b[0m  Kathryn Henry  azorius spirits      \u001b[1m[\u001b[0mW, U\u001b[1m]\u001b[0m      \u001b[1;36m9\u001b[0m     \u001b[1;36m1\u001b[0m               \u001b[1;36m1\u001b[0m   \n",
       "\u001b[1;36m339\u001b[0m  Kathryn Henry  azorius spirits      \u001b[1m[\u001b[0mW, U\u001b[1m]\u001b[0m      \u001b[1;36m9\u001b[0m     \u001b[1;36m2\u001b[0m               \u001b[1;36m1\u001b[0m   \n",
       "\u001b[1;36m340\u001b[0m  Kathryn Henry  azorius spirits      \u001b[1m[\u001b[0mW, U\u001b[1m]\u001b[0m      \u001b[1;36m9\u001b[0m     \u001b[1;36m3\u001b[0m               \u001b[1;36m1\u001b[0m   \n",
       "\u001b[1;36m341\u001b[0m  Kathryn Henry  azorius spirits      \u001b[1m[\u001b[0mW, U\u001b[1m]\u001b[0m     \u001b[1;36m10\u001b[0m     \u001b[1;36m0\u001b[0m               \u001b[1;36m0\u001b[0m   \n",
       "\u001b[1;36m342\u001b[0m  Kathryn Henry  azorius spirits      \u001b[1m[\u001b[0mW, U\u001b[1m]\u001b[0m     \u001b[1;36m10\u001b[0m     \u001b[1;36m1\u001b[0m               \u001b[1;36m0\u001b[0m   \n",
       "\u001b[1;36m343\u001b[0m  Kathryn Henry  azorius spirits      \u001b[1m[\u001b[0mW, U\u001b[1m]\u001b[0m     \u001b[1;36m10\u001b[0m     \u001b[1;36m2\u001b[0m               \u001b[1;36m0\u001b[0m   \n",
       "\u001b[1;36m344\u001b[0m  Kathryn Henry  azorius spirits      \u001b[1m[\u001b[0mW, U\u001b[1m]\u001b[0m     \u001b[1;36m10\u001b[0m     \u001b[1;36m3\u001b[0m               \u001b[1;36m0\u001b[0m   \n",
       "\u001b[1;36m345\u001b[0m  Kathryn Henry  azorius spirits      \u001b[1m[\u001b[0mW, U\u001b[1m]\u001b[0m     \u001b[1;36m10\u001b[0m     \u001b[1;36m4\u001b[0m               \u001b[1;36m0\u001b[0m   \n",
       "\n",
       "     lands_played  spells_played  mana_pool  spent_mana  hand_size  \\\n",
       "\u001b[1;36m336\u001b[0m             \u001b[1;36m0\u001b[0m              \u001b[1;36m0\u001b[0m          \u001b[1;36m0\u001b[0m           \u001b[1;36m0\u001b[0m          \u001b[1;36m7\u001b[0m   \n",
       "\u001b[1;36m337\u001b[0m             \u001b[1;36m0\u001b[0m              \u001b[1;36m0\u001b[0m          \u001b[1;36m0\u001b[0m           \u001b[1;36m0\u001b[0m          \u001b[1;36m6\u001b[0m   \n",
       "\u001b[1;36m338\u001b[0m             \u001b[1;36m1\u001b[0m              \u001b[1;36m1\u001b[0m          \u001b[1;36m1\u001b[0m           \u001b[1;36m1\u001b[0m          \u001b[1;36m5\u001b[0m   \n",
       "\u001b[1;36m339\u001b[0m             \u001b[1;36m2\u001b[0m              \u001b[1;36m2\u001b[0m          \u001b[1;36m3\u001b[0m           \u001b[1;36m2\u001b[0m          \u001b[1;36m3\u001b[0m   \n",
       "\u001b[1;36m340\u001b[0m             \u001b[1;36m1\u001b[0m              \u001b[1;36m4\u001b[0m          \u001b[1;36m4\u001b[0m           \u001b[1;36m4\u001b[0m          \u001b[1;36m1\u001b[0m   \n",
       "\u001b[1;36m341\u001b[0m             \u001b[1;36m0\u001b[0m              \u001b[1;36m0\u001b[0m          \u001b[1;36m0\u001b[0m           \u001b[1;36m0\u001b[0m          \u001b[1;36m7\u001b[0m   \n",
       "\u001b[1;36m342\u001b[0m             \u001b[1;36m1\u001b[0m              \u001b[1;36m1\u001b[0m          \u001b[1;36m1\u001b[0m           \u001b[1;36m1\u001b[0m          \u001b[1;36m6\u001b[0m   \n",
       "\u001b[1;36m343\u001b[0m             \u001b[1;36m1\u001b[0m              \u001b[1;36m2\u001b[0m          \u001b[1;36m2\u001b[0m           \u001b[1;36m2\u001b[0m          \u001b[1;36m5\u001b[0m   \n",
       "\u001b[1;36m344\u001b[0m             \u001b[1;36m1\u001b[0m              \u001b[1;36m3\u001b[0m          \u001b[1;36m3\u001b[0m           \u001b[1;36m3\u001b[0m          \u001b[1;36m4\u001b[0m   \n",
       "\u001b[1;36m345\u001b[0m             \u001b[1;36m1\u001b[0m              \u001b[1;36m5\u001b[0m          \u001b[1;36m4\u001b[0m           \u001b[1;36m4\u001b[0m          \u001b[1;36m2\u001b[0m   \n",
       "\n",
       "     library_size  graveyard_size  \\\n",
       "\u001b[1;36m336\u001b[0m            \u001b[1;36m53\u001b[0m               \u001b[1;36m0\u001b[0m   \n",
       "\u001b[1;36m337\u001b[0m            \u001b[1;36m54\u001b[0m               \u001b[1;36m0\u001b[0m   \n",
       "\u001b[1;36m338\u001b[0m            \u001b[1;36m53\u001b[0m               \u001b[1;36m1\u001b[0m   \n",
       "\u001b[1;36m339\u001b[0m            \u001b[1;36m52\u001b[0m               \u001b[1;36m2\u001b[0m   \n",
       "\u001b[1;36m340\u001b[0m            \u001b[1;36m51\u001b[0m               \u001b[1;36m4\u001b[0m   \n",
       "\u001b[1;36m341\u001b[0m            \u001b[1;36m53\u001b[0m               \u001b[1;36m0\u001b[0m   \n",
       "\u001b[1;36m342\u001b[0m            \u001b[1;36m52\u001b[0m               \u001b[1;36m1\u001b[0m   \n",
       "\u001b[1;36m343\u001b[0m            \u001b[1;36m51\u001b[0m               \u001b[1;36m2\u001b[0m   \n",
       "\u001b[1;36m344\u001b[0m            \u001b[1;36m50\u001b[0m               \u001b[1;36m3\u001b[0m   \n",
       "\u001b[1;36m345\u001b[0m            \u001b[1;36m49\u001b[0m               \u001b[1;36m5\u001b[0m   \n",
       "\n",
       "                                             full_hand  \\\n",
       "\u001b[1;36m336\u001b[0m  \u001b[1;35mHand\u001b[0m\u001b[1m(\u001b[0m\u001b[1;36m7\u001b[0m cards: Island, Plains, Island, Plains, \u001b[33m...\u001b[0m   \n",
       "\u001b[1;36m337\u001b[0m  \u001b[1;35mHand\u001b[0m\u001b[1m(\u001b[0m\u001b[1;36m6\u001b[0m cards: Temple of Enlightenment, Glacial\u001b[33m...\u001b[0m   \n",
       "\u001b[1;36m338\u001b[0m  \u001b[1;35mHand\u001b[0m\u001b[1m(\u001b[0m\u001b[1;36m5\u001b[0m cards: Glacial Fortress, Island, Watche\u001b[33m...\u001b[0m   \n",
       "\u001b[1;36m339\u001b[0m  \u001b[1;35mHand\u001b[0m\u001b[1m(\u001b[0m\u001b[1;36m3\u001b[0m cards: Mausoleum Wanderer, Lofty Denial\u001b[33m...\u001b[0m   \n",
       "\u001b[1;36m340\u001b[0m                  \u001b[1;35mHand\u001b[0m\u001b[1m(\u001b[0m\u001b[1;36m1\u001b[0m cards: Mausoleum Wanderer\u001b[1m)\u001b[0m   \n",
       "\u001b[1;36m341\u001b[0m  \u001b[1;35mHand\u001b[0m\u001b[1m(\u001b[0m\u001b[1;36m7\u001b[0m cards: Plains, Temple of Enlightenment,\u001b[33m...\u001b[0m   \n",
       "\u001b[1;36m342\u001b[0m  \u001b[1;35mHand\u001b[0m\u001b[1m(\u001b[0m\u001b[1;36m6\u001b[0m cards: Temple of Enlightenment, Plains,\u001b[33m...\u001b[0m   \n",
       "\u001b[1;36m343\u001b[0m  \u001b[1;35mHand\u001b[0m\u001b[1m(\u001b[0m\u001b[1;36m5\u001b[0m cards: Plains, Empyrean Eagle, Rattlech\u001b[33m...\u001b[0m   \n",
       "\u001b[1;36m344\u001b[0m  \u001b[1;35mHand\u001b[0m\u001b[1m(\u001b[0m\u001b[1;36m4\u001b[0m cards: Island, Rattlechains, Selfless S\u001b[33m...\u001b[0m   \n",
       "\u001b[1;36m345\u001b[0m             \u001b[1;35mHand\u001b[0m\u001b[1m(\u001b[0m\u001b[1;36m2\u001b[0m cards: Island, Spectral Sailor\u001b[1m)\u001b[0m   \n",
       "\n",
       "                                        full_graveyard  cum_mana_pool  \\\n",
       "\u001b[1;36m336\u001b[0m                               \u001b[1;35mGraveyard\u001b[0m\u001b[1m(\u001b[0m\u001b[1;36m0\u001b[0m cards: \u001b[1m)\u001b[0m              \u001b[1;36m0\u001b[0m   \n",
       "\u001b[1;36m337\u001b[0m                               \u001b[1;35mGraveyard\u001b[0m\u001b[1m(\u001b[0m\u001b[1;36m0\u001b[0m cards: \u001b[1m)\u001b[0m              \u001b[1;36m0\u001b[0m   \n",
       "\u001b[1;36m338\u001b[0m                   \u001b[1;35mGraveyard\u001b[0m\u001b[1m(\u001b[0m\u001b[1;36m1\u001b[0m cards: Spell Pierce\u001b[1m)\u001b[0m              \u001b[1;36m1\u001b[0m   \n",
       "\u001b[1;36m339\u001b[0m  \u001b[1;35mGraveyard\u001b[0m\u001b[1m(\u001b[0m\u001b[1;36m2\u001b[0m cards: Spell Pierce, Watcher of th\u001b[33m...\u001b[0m              \u001b[1;36m4\u001b[0m   \n",
       "\u001b[1;36m340\u001b[0m  \u001b[1;35mGraveyard\u001b[0m\u001b[1m(\u001b[0m\u001b[1;36m4\u001b[0m cards: Spell Pierce, Watcher of th\u001b[33m...\u001b[0m              \u001b[1;36m8\u001b[0m   \n",
       "\u001b[1;36m341\u001b[0m                               \u001b[1;35mGraveyard\u001b[0m\u001b[1m(\u001b[0m\u001b[1;36m0\u001b[0m cards: \u001b[1m)\u001b[0m              \u001b[1;36m0\u001b[0m   \n",
       "\u001b[1;36m342\u001b[0m                   \u001b[1;35mGraveyard\u001b[0m\u001b[1m(\u001b[0m\u001b[1;36m1\u001b[0m cards: Spell Pierce\u001b[1m)\u001b[0m              \u001b[1;36m1\u001b[0m   \n",
       "\u001b[1;36m343\u001b[0m     \u001b[1;35mGraveyard\u001b[0m\u001b[1m(\u001b[0m\u001b[1;36m2\u001b[0m cards: Spell Pierce, Rattlechains\u001b[1m)\u001b[0m              \u001b[1;36m3\u001b[0m   \n",
       "\u001b[1;36m344\u001b[0m  \u001b[1;35mGraveyard\u001b[0m\u001b[1m(\u001b[0m\u001b[1;36m3\u001b[0m cards: Spell Pierce, Rattlechains,\u001b[33m...\u001b[0m              \u001b[1;36m6\u001b[0m   \n",
       "\u001b[1;36m345\u001b[0m  \u001b[1;35mGraveyard\u001b[0m\u001b[1m(\u001b[0m\u001b[1;36m5\u001b[0m cards: Spell Pierce, Rattlechains,\u001b[33m...\u001b[0m             \u001b[1;36m10\u001b[0m   \n",
       "\n",
       "     cum_spent_mana  spell_ratio  land_ratio  mana_curve_efficiency  \\\n",
       "\u001b[1;36m336\u001b[0m               \u001b[1;36m0\u001b[0m         \u001b[1;36m0.00\u001b[0m        \u001b[1;36m0.00\u001b[0m                   \u001b[1;36m0.00\u001b[0m   \n",
       "\u001b[1;36m337\u001b[0m               \u001b[1;36m0\u001b[0m         \u001b[1;36m0.00\u001b[0m        \u001b[1;36m0.00\u001b[0m                   \u001b[1;36m0.00\u001b[0m   \n",
       "\u001b[1;36m338\u001b[0m               \u001b[1;36m1\u001b[0m         \u001b[1;36m0.50\u001b[0m        \u001b[1;36m0.50\u001b[0m                   \u001b[1;36m1.00\u001b[0m   \n",
       "\u001b[1;36m339\u001b[0m               \u001b[1;36m3\u001b[0m         \u001b[1;36m0.67\u001b[0m        \u001b[1;36m0.67\u001b[0m                   \u001b[1;36m0.75\u001b[0m   \n",
       "\u001b[1;36m340\u001b[0m               \u001b[1;36m7\u001b[0m         \u001b[1;36m1.00\u001b[0m        \u001b[1;36m0.25\u001b[0m                   \u001b[1;36m0.88\u001b[0m   \n",
       "\u001b[1;36m341\u001b[0m               \u001b[1;36m0\u001b[0m         \u001b[1;36m0.00\u001b[0m        \u001b[1;36m0.00\u001b[0m                   \u001b[1;36m0.00\u001b[0m   \n",
       "\u001b[1;36m342\u001b[0m               \u001b[1;36m1\u001b[0m         \u001b[1;36m0.50\u001b[0m        \u001b[1;36m0.50\u001b[0m                   \u001b[1;36m1.00\u001b[0m   \n",
       "\u001b[1;36m343\u001b[0m               \u001b[1;36m3\u001b[0m         \u001b[1;36m0.67\u001b[0m        \u001b[1;36m0.33\u001b[0m                   \u001b[1;36m1.00\u001b[0m   \n",
       "\u001b[1;36m344\u001b[0m               \u001b[1;36m6\u001b[0m         \u001b[1;36m0.75\u001b[0m        \u001b[1;36m0.25\u001b[0m                   \u001b[1;36m1.00\u001b[0m   \n",
       "\u001b[1;36m345\u001b[0m              \u001b[1;36m10\u001b[0m         \u001b[1;36m1.00\u001b[0m        \u001b[1;36m0.20\u001b[0m                   \u001b[1;36m1.00\u001b[0m   \n",
       "\n",
       "     mana_curve_efficiency_lag_1  mana_curve_efficiency_lag_2  \\\n",
       "\u001b[1;36m336\u001b[0m                         \u001b[1;36m0.00\u001b[0m                          \u001b[1;36m0.0\u001b[0m   \n",
       "\u001b[1;36m337\u001b[0m                         \u001b[1;36m0.00\u001b[0m                          \u001b[1;36m0.0\u001b[0m   \n",
       "\u001b[1;36m338\u001b[0m                         \u001b[1;36m0.00\u001b[0m                          \u001b[1;36m0.0\u001b[0m   \n",
       "\u001b[1;36m339\u001b[0m                         \u001b[1;36m1.00\u001b[0m                          \u001b[1;36m0.0\u001b[0m   \n",
       "\u001b[1;36m340\u001b[0m                         \u001b[1;36m0.75\u001b[0m                          \u001b[1;36m1.0\u001b[0m   \n",
       "\u001b[1;36m341\u001b[0m                         \u001b[1;36m0.00\u001b[0m                          \u001b[1;36m0.0\u001b[0m   \n",
       "\u001b[1;36m342\u001b[0m                         \u001b[1;36m0.00\u001b[0m                          \u001b[1;36m0.0\u001b[0m   \n",
       "\u001b[1;36m343\u001b[0m                         \u001b[1;36m1.00\u001b[0m                          \u001b[1;36m0.0\u001b[0m   \n",
       "\u001b[1;36m344\u001b[0m                         \u001b[1;36m1.00\u001b[0m                          \u001b[1;36m1.0\u001b[0m   \n",
       "\u001b[1;36m345\u001b[0m                         \u001b[1;36m1.00\u001b[0m                          \u001b[1;36m1.0\u001b[0m   \n",
       "\n",
       "     spell_ratio_lag_1  land_ratio_lag_1  \\\n",
       "\u001b[1;36m336\u001b[0m               \u001b[1;36m0.00\u001b[0m              \u001b[1;36m0.00\u001b[0m   \n",
       "\u001b[1;36m337\u001b[0m               \u001b[1;36m0.00\u001b[0m              \u001b[1;36m0.00\u001b[0m   \n",
       "\u001b[1;36m338\u001b[0m               \u001b[1;36m0.00\u001b[0m              \u001b[1;36m0.00\u001b[0m   \n",
       "\u001b[1;36m339\u001b[0m               \u001b[1;36m0.50\u001b[0m              \u001b[1;36m0.50\u001b[0m   \n",
       "\u001b[1;36m340\u001b[0m               \u001b[1;36m0.67\u001b[0m              \u001b[1;36m0.67\u001b[0m   \n",
       "\u001b[1;36m341\u001b[0m               \u001b[1;36m0.00\u001b[0m              \u001b[1;36m0.00\u001b[0m   \n",
       "\u001b[1;36m342\u001b[0m               \u001b[1;36m0.00\u001b[0m              \u001b[1;36m0.00\u001b[0m   \n",
       "\u001b[1;36m343\u001b[0m               \u001b[1;36m0.50\u001b[0m              \u001b[1;36m0.50\u001b[0m   \n",
       "\u001b[1;36m344\u001b[0m               \u001b[1;36m0.67\u001b[0m              \u001b[1;36m0.33\u001b[0m   \n",
       "\u001b[1;36m345\u001b[0m               \u001b[1;36m0.75\u001b[0m              \u001b[1;36m0.25\u001b[0m   \n",
       "\n",
       "     rolling_mean_mana_curve_efficiency_3  rolling_mean_spell_ratio_3  \\\n",
       "\u001b[1;36m336\u001b[0m                              \u001b[1;36m0.000000\u001b[0m                    \u001b[1;36m0.000000\u001b[0m   \n",
       "\u001b[1;36m337\u001b[0m                              \u001b[1;36m0.000000\u001b[0m                    \u001b[1;36m0.000000\u001b[0m   \n",
       "\u001b[1;36m338\u001b[0m                              \u001b[1;36m0.333333\u001b[0m                    \u001b[1;36m0.166667\u001b[0m   \n",
       "\u001b[1;36m339\u001b[0m                              \u001b[1;36m0.583333\u001b[0m                    \u001b[1;36m0.390000\u001b[0m   \n",
       "\u001b[1;36m340\u001b[0m                              \u001b[1;36m0.876667\u001b[0m                    \u001b[1;36m0.723333\u001b[0m   \n",
       "\u001b[1;36m341\u001b[0m                              \u001b[1;36m0.000000\u001b[0m                    \u001b[1;36m0.000000\u001b[0m   \n",
       "\u001b[1;36m342\u001b[0m                              \u001b[1;36m0.000000\u001b[0m                    \u001b[1;36m0.000000\u001b[0m   \n",
       "\u001b[1;36m343\u001b[0m                              \u001b[1;36m0.666667\u001b[0m                    \u001b[1;36m0.390000\u001b[0m   \n",
       "\u001b[1;36m344\u001b[0m                              \u001b[1;36m1.000000\u001b[0m                    \u001b[1;36m0.640000\u001b[0m   \n",
       "\u001b[1;36m345\u001b[0m                              \u001b[1;36m1.000000\u001b[0m                    \u001b[1;36m0.806667\u001b[0m   \n",
       "\n",
       "     rolling_mean_land_ratio_3  \n",
       "\u001b[1;36m336\u001b[0m                   \u001b[1;36m0.000000\u001b[0m  \n",
       "\u001b[1;36m337\u001b[0m                   \u001b[1;36m0.000000\u001b[0m  \n",
       "\u001b[1;36m338\u001b[0m                   \u001b[1;36m0.166667\u001b[0m  \n",
       "\u001b[1;36m339\u001b[0m                   \u001b[1;36m0.390000\u001b[0m  \n",
       "\u001b[1;36m340\u001b[0m                   \u001b[1;36m0.473333\u001b[0m  \n",
       "\u001b[1;36m341\u001b[0m                   \u001b[1;36m0.000000\u001b[0m  \n",
       "\u001b[1;36m342\u001b[0m                   \u001b[1;36m0.000000\u001b[0m  \n",
       "\u001b[1;36m343\u001b[0m                   \u001b[1;36m0.276667\u001b[0m  \n",
       "\u001b[1;36m344\u001b[0m                   \u001b[1;36m0.360000\u001b[0m  \n",
       "\u001b[1;36m345\u001b[0m                   \u001b[1;36m0.260000\u001b[0m  "
      ]
     },
     "execution_count": 15,
     "metadata": {},
     "output_type": "execute_result"
    }
   ],
   "source": [
    "import pandas as pd\n",
    "\n",
    "def feature_engineering(matches_df: pd.DataFrame) -> pd.DataFrame:\n",
    "    \"\"\"\n",
    "    Realiza engenharia de features nos dados das partidas de Magic: The Gathering, com lag features \n",
    "    e rolling features aplicadas separadamente por jogador e partida, iniciando a contagem a partir\n",
    "    do último turno 0 em caso de mulligan.\n",
    "\n",
    "    Args:\n",
    "        matches_df (pd.DataFrame): DataFrame contendo os dados das partidas.\n",
    "\n",
    "    Retorna:\n",
    "        pd.DataFrame: DataFrame com novas features calculadas.\n",
    "    \"\"\"\n",
    "\n",
    "    # Configura o logger geral\n",
    "    logger = setup_logger(\"feature_engineering\")\n",
    "\n",
    "    logger.info(\"Criando variáveis cumulativas por jogador e partida...\")\n",
    "\n",
    "    # Garantir que 'spent_mana' esteja no formato correto\n",
    "    matches_df[\"spent_mana\"] = matches_df[\"spent_mana\"].astype(int)\n",
    "\n",
    "    # Criação de variáveis cumulativas por 'name' e 'match'\n",
    "    matches_df['cum_mana_pool'] = matches_df.groupby(['name', 'match'])['mana_pool'].cumsum()\n",
    "    matches_df[\"cum_spent_mana\"] = matches_df.groupby(['name', 'match'])[\"spent_mana\"].cumsum()\n",
    "\n",
    "    logger.info(\"Criando variáveis de razão...\")\n",
    "\n",
    "    # Criação de variáveis baseadas em razões: feitiços por turno e terrenos por turno\n",
    "    matches_df['spell_ratio'] = (matches_df['spells_played'] / (matches_df['turn'] + 1)).round(2)\n",
    "    matches_df['land_ratio'] = (matches_df['lands_played'] / (matches_df['turn'] + 1)).round(2)\n",
    "\n",
    "    logger.info(\"Criando variável de eficiência da curva de mana...\")\n",
    "\n",
    "    # Criação da variável de eficiência da curva de mana (razão entre mana gasto e mana acumulado)\n",
    "    matches_df['mana_curve_efficiency'] = matches_df['cum_spent_mana'] / matches_df['cum_mana_pool']\n",
    "\n",
    "    # Tratamento de valores infinitos e valores ausentes\n",
    "    matches_df['mana_curve_efficiency'].replace([float('inf'), -float('inf')], 0, inplace=True)\n",
    "    matches_df['mana_curve_efficiency'].fillna(0, inplace=True)\n",
    "    matches_df['mana_curve_efficiency'] = matches_df['mana_curve_efficiency'].round(2)\n",
    "\n",
    "    logger.info(\"Identificando o último turno 0 por jogador e partida...\")\n",
    "\n",
    "    # Encontrar o último turno 0 em cada partida\n",
    "    matches_df['is_last_turn_0'] = matches_df.groupby(['name', 'match'])['turn'].transform(lambda x: (x == 0).cumsum())\n",
    "\n",
    "    # Criar uma máscara para selecionar apenas os turnos após o último turno 0\n",
    "    valid_turns_mask = matches_df.groupby(['name', 'match'])['is_last_turn_0'].transform(max) == matches_df['is_last_turn_0']\n",
    "\n",
    "    logger.info(\"Criando lag features a partir do último turno 0...\")\n",
    "\n",
    "    # Aplicar as lag features apenas nos turnos válidos (após o último turno 0)\n",
    "    matches_df.loc[valid_turns_mask, 'mana_curve_efficiency_lag_1'] = matches_df.groupby(['name', 'match'])['mana_curve_efficiency'].shift(1)\n",
    "    matches_df.loc[valid_turns_mask, 'mana_curve_efficiency_lag_2'] = matches_df.groupby(['name', 'match'])['mana_curve_efficiency'].shift(2)\n",
    "    matches_df.loc[valid_turns_mask, 'spell_ratio_lag_1'] = matches_df.groupby(['name', 'match'])['spell_ratio'].shift(1)\n",
    "    matches_df.loc[valid_turns_mask, 'land_ratio_lag_1'] = matches_df.groupby(['name', 'match'])['land_ratio'].shift(1)\n",
    "\n",
    "    logger.info(\"Criando rolling features a partir do último turno 0...\")\n",
    "\n",
    "    # Aplicar rolling features a partir do último turno 0\n",
    "    matches_df.loc[valid_turns_mask, 'rolling_mean_mana_curve_efficiency_3'] = matches_df.groupby(['name', 'match'])['mana_curve_efficiency'].rolling(window=3).mean().reset_index(level=[0,1], drop=True)\n",
    "    matches_df.loc[valid_turns_mask, 'rolling_mean_spell_ratio_3'] = matches_df.groupby(['name', 'match'])['spell_ratio'].rolling(window=3).mean().reset_index(level=[0,1], drop=True)\n",
    "    matches_df.loc[valid_turns_mask, 'rolling_mean_land_ratio_3'] = matches_df.groupby(['name', 'match'])['land_ratio'].rolling(window=3).mean().reset_index(level=[0,1], drop=True)\n",
    "\n",
    "    # Tratamento de valores nulos gerados pelos shifts e rolling\n",
    "    matches_df.fillna(0, inplace=True)\n",
    "\n",
    "    # Remover a coluna auxiliar 'is_last_turn_0'\n",
    "    matches_df.drop(columns=['is_last_turn_0'], inplace=True)\n",
    "\n",
    "    logger.info(\"Engenharia de features concluída.\")\n",
    "\n",
    "    return matches_df\n",
    "\n",
    "\n",
    "pd.set_option('display.max_columns', None)\n",
    "    \n",
    "# Chamada da função\n",
    "features_df = catalog.load(\"matches_df\")\n",
    "features_df = feature_engineering(features_df)\n",
    "features_df.tail(10)"
   ]
  },
  {
   "cell_type": "code",
   "execution_count": 19,
   "metadata": {},
   "outputs": [
    {
     "data": {
      "text/html": [
       "<pre style=\"white-space:pre;overflow-x:auto;line-height:normal;font-family:Menlo,'DejaVu Sans Mono',consolas,'Courier New',monospace\"><span style=\"color: #7fbfbf; text-decoration-color: #7fbfbf\">[09/17/24 21:32:32] </span><span style=\"color: #000080; text-decoration-color: #000080\">INFO    </span> Loading data from <span style=\"color: #ff8700; text-decoration-color: #ff8700\">features_df</span> <span style=\"font-weight: bold\">(</span>ParquetDataset<span style=\"font-weight: bold\">)</span><span style=\"color: #808000; text-decoration-color: #808000\">...</span>                  <a href=\"file://c:\\Users\\gufer\\miniconda3\\envs\\mtg_env\\Lib\\site-packages\\kedro\\io\\data_catalog.py\" target=\"_blank\"><span style=\"color: #7f7f7f; text-decoration-color: #7f7f7f\">data_catalog.py</span></a><span style=\"color: #7f7f7f; text-decoration-color: #7f7f7f\">:</span><a href=\"file://c:\\Users\\gufer\\miniconda3\\envs\\mtg_env\\Lib\\site-packages\\kedro\\io\\data_catalog.py#539\" target=\"_blank\"><span style=\"color: #7f7f7f; text-decoration-color: #7f7f7f\">539</span></a>\n",
       "</pre>\n"
      ],
      "text/plain": [
       "\u001b[2;36m[09/17/24 21:32:32]\u001b[0m\u001b[2;36m \u001b[0m\u001b[34mINFO    \u001b[0m Loading data from \u001b[38;5;208mfeatures_df\u001b[0m \u001b[1m(\u001b[0mParquetDataset\u001b[1m)\u001b[0m\u001b[33m...\u001b[0m                  \u001b]8;id=227536;file://c:\\Users\\gufer\\miniconda3\\envs\\mtg_env\\Lib\\site-packages\\kedro\\io\\data_catalog.py\u001b\\\u001b[2mdata_catalog.py\u001b[0m\u001b]8;;\u001b\\\u001b[2m:\u001b[0m\u001b]8;id=109079;file://c:\\Users\\gufer\\miniconda3\\envs\\mtg_env\\Lib\\site-packages\\kedro\\io\\data_catalog.py#539\u001b\\\u001b[2m539\u001b[0m\u001b]8;;\u001b\\\n"
      ]
     },
     "metadata": {},
     "output_type": "display_data"
    },
    {
     "data": {
      "text/html": [
       "<pre style=\"white-space:pre;overflow-x:auto;line-height:normal;font-family:Menlo,'DejaVu Sans Mono',consolas,'Courier New',monospace\"><span style=\"color: #7fbfbf; text-decoration-color: #7fbfbf\">[09/17/24 21:32:33] </span><span style=\"color: #000080; text-decoration-color: #000080\">INFO    </span> Loading data from                                                  <a href=\"file://c:\\Users\\gufer\\miniconda3\\envs\\mtg_env\\Lib\\site-packages\\kedro\\io\\data_catalog.py\" target=\"_blank\"><span style=\"color: #7f7f7f; text-decoration-color: #7f7f7f\">data_catalog.py</span></a><span style=\"color: #7f7f7f; text-decoration-color: #7f7f7f\">:</span><a href=\"file://c:\\Users\\gufer\\miniconda3\\envs\\mtg_env\\Lib\\site-packages\\kedro\\io\\data_catalog.py#539\" target=\"_blank\"><span style=\"color: #7f7f7f; text-decoration-color: #7f7f7f\">539</span></a>\n",
       "<span style=\"color: #7fbfbf; text-decoration-color: #7fbfbf\">                    </span>         <span style=\"color: #ff8700; text-decoration-color: #ff8700\">params:modeling.feature_engineering.feat_corr_threshold</span>            <span style=\"color: #7f7f7f; text-decoration-color: #7f7f7f\">                   </span>\n",
       "<span style=\"color: #7fbfbf; text-decoration-color: #7fbfbf\">                    </span>         <span style=\"font-weight: bold\">(</span>MemoryDataset<span style=\"font-weight: bold\">)</span><span style=\"color: #808000; text-decoration-color: #808000\">...</span>                                                 <span style=\"color: #7f7f7f; text-decoration-color: #7f7f7f\">                   </span>\n",
       "</pre>\n"
      ],
      "text/plain": [
       "\u001b[2;36m[09/17/24 21:32:33]\u001b[0m\u001b[2;36m \u001b[0m\u001b[34mINFO    \u001b[0m Loading data from                                                  \u001b]8;id=933000;file://c:\\Users\\gufer\\miniconda3\\envs\\mtg_env\\Lib\\site-packages\\kedro\\io\\data_catalog.py\u001b\\\u001b[2mdata_catalog.py\u001b[0m\u001b]8;;\u001b\\\u001b[2m:\u001b[0m\u001b]8;id=653712;file://c:\\Users\\gufer\\miniconda3\\envs\\mtg_env\\Lib\\site-packages\\kedro\\io\\data_catalog.py#539\u001b\\\u001b[2m539\u001b[0m\u001b]8;;\u001b\\\n",
       "\u001b[2;36m                    \u001b[0m         \u001b[38;5;208mparams:modeling.feature_engineering.feat_corr_threshold\u001b[0m            \u001b[2m                   \u001b[0m\n",
       "\u001b[2;36m                    \u001b[0m         \u001b[1m(\u001b[0mMemoryDataset\u001b[1m)\u001b[0m\u001b[33m...\u001b[0m                                                 \u001b[2m                   \u001b[0m\n"
      ]
     },
     "metadata": {},
     "output_type": "display_data"
    },
    {
     "data": {
      "text/html": [
       "<pre style=\"white-space:pre;overflow-x:auto;line-height:normal;font-family:Menlo,'DejaVu Sans Mono',consolas,'Courier New',monospace\"><span style=\"color: #7fbfbf; text-decoration-color: #7fbfbf\">                    </span><span style=\"color: #000080; text-decoration-color: #000080\">INFO    </span> Saving data to <span style=\"color: #ff8700; text-decoration-color: #ff8700\">selected_features_df</span> <span style=\"font-weight: bold\">(</span>ParquetDataset<span style=\"font-weight: bold\">)</span><span style=\"color: #808000; text-decoration-color: #808000\">...</span>            <a href=\"file://c:\\Users\\gufer\\miniconda3\\envs\\mtg_env\\Lib\\site-packages\\kedro\\io\\data_catalog.py\" target=\"_blank\"><span style=\"color: #7f7f7f; text-decoration-color: #7f7f7f\">data_catalog.py</span></a><span style=\"color: #7f7f7f; text-decoration-color: #7f7f7f\">:</span><a href=\"file://c:\\Users\\gufer\\miniconda3\\envs\\mtg_env\\Lib\\site-packages\\kedro\\io\\data_catalog.py#581\" target=\"_blank\"><span style=\"color: #7f7f7f; text-decoration-color: #7f7f7f\">581</span></a>\n",
       "</pre>\n"
      ],
      "text/plain": [
       "\u001b[2;36m                   \u001b[0m\u001b[2;36m \u001b[0m\u001b[34mINFO    \u001b[0m Saving data to \u001b[38;5;208mselected_features_df\u001b[0m \u001b[1m(\u001b[0mParquetDataset\u001b[1m)\u001b[0m\u001b[33m...\u001b[0m            \u001b]8;id=475007;file://c:\\Users\\gufer\\miniconda3\\envs\\mtg_env\\Lib\\site-packages\\kedro\\io\\data_catalog.py\u001b\\\u001b[2mdata_catalog.py\u001b[0m\u001b]8;;\u001b\\\u001b[2m:\u001b[0m\u001b]8;id=349895;file://c:\\Users\\gufer\\miniconda3\\envs\\mtg_env\\Lib\\site-packages\\kedro\\io\\data_catalog.py#581\u001b\\\u001b[2m581\u001b[0m\u001b]8;;\u001b\\\n"
      ]
     },
     "metadata": {},
     "output_type": "display_data"
    }
   ],
   "source": [
    "def feature_selection(\n",
    "        features_df: pd.DataFrame,\n",
    "        target: str,\n",
    "        threshold_features: float,\n",
    "        derived_features: list = None,\n",
    "        key_columns: list = None,\n",
    "        cols_to_keep: list= None) -> pd.DataFrame:\n",
    "    \"\"\"\n",
    "    Auxilia na seleção de features, removendo aquelas diretamente derivadas do target, \n",
    "    colunas-chave, e features altamente correlacionadas entre si.\n",
    "\n",
    "    Args:\n",
    "        features_df (pd.DataFrame): DataFrame contendo as features.\n",
    "        target (str): Nome da variável alvo.\n",
    "        threshold_features (float): Limiar para remover features com alta correlação.\n",
    "        derived_features (list, optional): Lista de features derivadas do target para serem removidas.\n",
    "        key_columns (list, optional): Lista de colunas-chave para serem removidas (ex: 'match', 'turn').\n",
    "\n",
    "    Returns:\n",
    "        pd.DataFrame: DataFrame com as features selecionadas.\n",
    "    \"\"\"\n",
    "    # Configura o logger geral\n",
    "    logger = setup_logger(\"feature_selection\")\n",
    "    logger.info(\"Iniciando o processo de seleção de features...\")\n",
    "\n",
    "    # Separar apenas colunas numéricas para o cálculo da correlação\n",
    "    numeric_features_df = features_df.select_dtypes(include=[np.number])\n",
    "\n",
    "    logger.info(f\"Número inicial de features numéricas: {numeric_features_df.shape[1]}\")\n",
    "\n",
    "    # Remover features derivadas do target, se fornecidas\n",
    "    if derived_features:\n",
    "        numeric_features_df = numeric_features_df.drop(columns=derived_features, errors='ignore')\n",
    "        logger.info(f\"Features derivadas do target removidas: {derived_features}\")\n",
    "\n",
    "    # Remover colunas-chave nao categoricas ou string\n",
    "    if key_columns:\n",
    "        numeric_features_df = numeric_features_df.drop(columns=key_columns, errors='ignore')\n",
    "        logger.info(f\"Colunas-chave removidas: {key_columns}\")\n",
    "\n",
    "    # Remover a variável alvo do conjunto de features\n",
    "    features_without_target = numeric_features_df.drop(columns=[target], errors='ignore')\n",
    "\n",
    "    # Calcular a matriz de correlação entre as features (excluindo o target)\n",
    "    corr_matrix = features_without_target.corr().abs()\n",
    "\n",
    "    # Criar uma máscara para identificar as correlações acima do limiar entre as features, excluindo a diagonal\n",
    "    upper = corr_matrix.where(np.triu(np.ones(corr_matrix.shape), k=1).astype(bool))\n",
    "\n",
    "    # Identificar colunas com alta correlação entre si, usando o limiar definido\n",
    "    to_drop_features = [column for column in upper.columns if any(upper[column] > threshold_features)]\n",
    "\n",
    "    # Manter compulsoriamente algumas colunas\n",
    "    if cols_to_keep:\n",
    "        to_drop_features = [col for col in to_drop_features if col not in cols_to_keep]\n",
    "\n",
    "    # Remover as colunas altamente correlacionadas entre si\n",
    "    features_cleaned = features_without_target.drop(columns=to_drop_features)\n",
    "\n",
    "    logger.info(f\"Número de features após a remoção de correlação maior que {threshold_features}: {features_cleaned.shape[1]}\")    \n",
    "\n",
    "    # Reconstruir o DataFrame final, reinserindo key_columns e target\n",
    "    features_cleaned = pd.concat([features_cleaned, features_df[key_columns], features_df[[target]]], axis=1)\n",
    "\n",
    "    logger.info(\"Processo de seleção de features concluído.\")\n",
    "\n",
    "    return features_cleaned\n",
    "\n",
    "\n",
    "derived_features = [\n",
    "    \"cum_spent_mana\", \n",
    "    \"cum_mana_pool\", \n",
    "    \"spent_mana\", \n",
    "    \"mana_pool\"\n",
    "]\n",
    "\n",
    "key_cols = [\n",
    "    \"name\",\n",
    "    \"deck_name\",\n",
    "    \"match\",\n",
    "    \"turn\"\n",
    "]\n",
    "\n",
    "features_df = catalog.load(\"features_df\")\n",
    "threshold_features = catalog.load(\"params:modeling.feature_engineering.feat_corr_threshold\")\n",
    "\n",
    "selected_features_df = feature_selection(\n",
    "    features_df=features_df,         \n",
    "    target=\"mana_curve_efficiency\", \n",
    "    threshold_features=threshold_features,        \n",
    "    derived_features=derived_features, \n",
    "    key_columns=key_cols,\n",
    "    cols_to_keep=[\"W\",\"U\",\"B\",\"R\",\"G\"]     \n",
    ")\n",
    "\n",
    "# Salvando o DataFrame de features selecionadas\n",
    "catalog.save(\"selected_features_df\", selected_features_df)"
   ]
  },
  {
   "cell_type": "code",
   "execution_count": 20,
   "metadata": {},
   "outputs": [
    {
     "data": {
      "text/html": [
       "<pre style=\"white-space:pre;overflow-x:auto;line-height:normal;font-family:Menlo,'DejaVu Sans Mono',consolas,'Courier New',monospace\"></pre>\n"
      ],
      "text/plain": []
     },
     "metadata": {},
     "output_type": "display_data"
    },
    {
     "data": {
      "text/html": [
       "<div>\n",
       "<style scoped>\n",
       "    .dataframe tbody tr th:only-of-type {\n",
       "        vertical-align: middle;\n",
       "    }\n",
       "\n",
       "    .dataframe tbody tr th {\n",
       "        vertical-align: top;\n",
       "    }\n",
       "\n",
       "    .dataframe thead th {\n",
       "        text-align: right;\n",
       "    }\n",
       "</style>\n",
       "<table border=\"1\" class=\"dataframe\">\n",
       "  <thead>\n",
       "    <tr style=\"text-align: right;\">\n",
       "      <th></th>\n",
       "      <th>mulligan_count</th>\n",
       "      <th>lands_played</th>\n",
       "      <th>spells_played</th>\n",
       "      <th>hand_size</th>\n",
       "      <th>spell_ratio</th>\n",
       "      <th>land_ratio</th>\n",
       "      <th>W</th>\n",
       "      <th>U</th>\n",
       "      <th>B</th>\n",
       "      <th>R</th>\n",
       "      <th>G</th>\n",
       "      <th>mana_curve_efficiency_lag_1</th>\n",
       "      <th>mana_curve_efficiency_lag_2</th>\n",
       "      <th>spell_ratio_lag_1</th>\n",
       "      <th>land_ratio_lag_1</th>\n",
       "      <th>rolling_mean_mana_curve_efficiency_3</th>\n",
       "      <th>rolling_mean_spell_ratio_3</th>\n",
       "      <th>rolling_mean_land_ratio_3</th>\n",
       "      <th>name</th>\n",
       "      <th>deck_name</th>\n",
       "      <th>match</th>\n",
       "      <th>turn</th>\n",
       "      <th>mana_curve_efficiency</th>\n",
       "    </tr>\n",
       "  </thead>\n",
       "  <tbody>\n",
       "    <tr>\n",
       "      <th>0</th>\n",
       "      <td>0</td>\n",
       "      <td>0</td>\n",
       "      <td>0</td>\n",
       "      <td>7</td>\n",
       "      <td>0.00</td>\n",
       "      <td>0.00</td>\n",
       "      <td>1</td>\n",
       "      <td>1</td>\n",
       "      <td>0</td>\n",
       "      <td>0</td>\n",
       "      <td>0</td>\n",
       "      <td>0.00</td>\n",
       "      <td>0.00</td>\n",
       "      <td>0.00</td>\n",
       "      <td>0.00</td>\n",
       "      <td>0.000000</td>\n",
       "      <td>0.000000</td>\n",
       "      <td>0.000000</td>\n",
       "      <td>Shari Grant</td>\n",
       "      <td>azorius advance</td>\n",
       "      <td>1</td>\n",
       "      <td>0</td>\n",
       "      <td>0.00</td>\n",
       "    </tr>\n",
       "    <tr>\n",
       "      <th>1</th>\n",
       "      <td>0</td>\n",
       "      <td>1</td>\n",
       "      <td>0</td>\n",
       "      <td>7</td>\n",
       "      <td>0.00</td>\n",
       "      <td>0.50</td>\n",
       "      <td>1</td>\n",
       "      <td>1</td>\n",
       "      <td>0</td>\n",
       "      <td>0</td>\n",
       "      <td>0</td>\n",
       "      <td>0.00</td>\n",
       "      <td>0.00</td>\n",
       "      <td>0.00</td>\n",
       "      <td>0.00</td>\n",
       "      <td>0.000000</td>\n",
       "      <td>0.000000</td>\n",
       "      <td>0.000000</td>\n",
       "      <td>Shari Grant</td>\n",
       "      <td>azorius advance</td>\n",
       "      <td>1</td>\n",
       "      <td>1</td>\n",
       "      <td>0.00</td>\n",
       "    </tr>\n",
       "    <tr>\n",
       "      <th>2</th>\n",
       "      <td>0</td>\n",
       "      <td>1</td>\n",
       "      <td>1</td>\n",
       "      <td>6</td>\n",
       "      <td>0.33</td>\n",
       "      <td>0.33</td>\n",
       "      <td>1</td>\n",
       "      <td>1</td>\n",
       "      <td>0</td>\n",
       "      <td>0</td>\n",
       "      <td>0</td>\n",
       "      <td>0.00</td>\n",
       "      <td>0.00</td>\n",
       "      <td>0.00</td>\n",
       "      <td>0.50</td>\n",
       "      <td>0.223333</td>\n",
       "      <td>0.110000</td>\n",
       "      <td>0.276667</td>\n",
       "      <td>Shari Grant</td>\n",
       "      <td>azorius advance</td>\n",
       "      <td>1</td>\n",
       "      <td>2</td>\n",
       "      <td>0.67</td>\n",
       "    </tr>\n",
       "    <tr>\n",
       "      <th>3</th>\n",
       "      <td>0</td>\n",
       "      <td>0</td>\n",
       "      <td>2</td>\n",
       "      <td>6</td>\n",
       "      <td>0.50</td>\n",
       "      <td>0.00</td>\n",
       "      <td>1</td>\n",
       "      <td>1</td>\n",
       "      <td>0</td>\n",
       "      <td>0</td>\n",
       "      <td>0</td>\n",
       "      <td>0.67</td>\n",
       "      <td>0.00</td>\n",
       "      <td>0.33</td>\n",
       "      <td>0.33</td>\n",
       "      <td>0.490000</td>\n",
       "      <td>0.276667</td>\n",
       "      <td>0.276667</td>\n",
       "      <td>Shari Grant</td>\n",
       "      <td>azorius advance</td>\n",
       "      <td>1</td>\n",
       "      <td>3</td>\n",
       "      <td>0.80</td>\n",
       "    </tr>\n",
       "    <tr>\n",
       "      <th>4</th>\n",
       "      <td>0</td>\n",
       "      <td>1</td>\n",
       "      <td>3</td>\n",
       "      <td>5</td>\n",
       "      <td>0.60</td>\n",
       "      <td>0.20</td>\n",
       "      <td>1</td>\n",
       "      <td>1</td>\n",
       "      <td>0</td>\n",
       "      <td>0</td>\n",
       "      <td>0</td>\n",
       "      <td>0.80</td>\n",
       "      <td>0.67</td>\n",
       "      <td>0.50</td>\n",
       "      <td>0.00</td>\n",
       "      <td>0.783333</td>\n",
       "      <td>0.476667</td>\n",
       "      <td>0.176667</td>\n",
       "      <td>Shari Grant</td>\n",
       "      <td>azorius advance</td>\n",
       "      <td>1</td>\n",
       "      <td>4</td>\n",
       "      <td>0.88</td>\n",
       "    </tr>\n",
       "    <tr>\n",
       "      <th>...</th>\n",
       "      <td>...</td>\n",
       "      <td>...</td>\n",
       "      <td>...</td>\n",
       "      <td>...</td>\n",
       "      <td>...</td>\n",
       "      <td>...</td>\n",
       "      <td>...</td>\n",
       "      <td>...</td>\n",
       "      <td>...</td>\n",
       "      <td>...</td>\n",
       "      <td>...</td>\n",
       "      <td>...</td>\n",
       "      <td>...</td>\n",
       "      <td>...</td>\n",
       "      <td>...</td>\n",
       "      <td>...</td>\n",
       "      <td>...</td>\n",
       "      <td>...</td>\n",
       "      <td>...</td>\n",
       "      <td>...</td>\n",
       "      <td>...</td>\n",
       "      <td>...</td>\n",
       "      <td>...</td>\n",
       "    </tr>\n",
       "    <tr>\n",
       "      <th>331</th>\n",
       "      <td>1</td>\n",
       "      <td>0</td>\n",
       "      <td>0</td>\n",
       "      <td>6</td>\n",
       "      <td>0.00</td>\n",
       "      <td>0.00</td>\n",
       "      <td>1</td>\n",
       "      <td>1</td>\n",
       "      <td>0</td>\n",
       "      <td>0</td>\n",
       "      <td>0</td>\n",
       "      <td>0.00</td>\n",
       "      <td>1.18</td>\n",
       "      <td>0.00</td>\n",
       "      <td>0.00</td>\n",
       "      <td>0.393333</td>\n",
       "      <td>0.333333</td>\n",
       "      <td>0.133333</td>\n",
       "      <td>Kathryn Henry</td>\n",
       "      <td>azorius spirits</td>\n",
       "      <td>10</td>\n",
       "      <td>0</td>\n",
       "      <td>0.00</td>\n",
       "    </tr>\n",
       "    <tr>\n",
       "      <th>332</th>\n",
       "      <td>1</td>\n",
       "      <td>1</td>\n",
       "      <td>1</td>\n",
       "      <td>5</td>\n",
       "      <td>0.50</td>\n",
       "      <td>0.50</td>\n",
       "      <td>1</td>\n",
       "      <td>1</td>\n",
       "      <td>0</td>\n",
       "      <td>0</td>\n",
       "      <td>0</td>\n",
       "      <td>0.00</td>\n",
       "      <td>0.00</td>\n",
       "      <td>0.00</td>\n",
       "      <td>0.00</td>\n",
       "      <td>3.666667</td>\n",
       "      <td>0.166667</td>\n",
       "      <td>0.166667</td>\n",
       "      <td>Kathryn Henry</td>\n",
       "      <td>azorius spirits</td>\n",
       "      <td>10</td>\n",
       "      <td>1</td>\n",
       "      <td>11.00</td>\n",
       "    </tr>\n",
       "    <tr>\n",
       "      <th>333</th>\n",
       "      <td>1</td>\n",
       "      <td>1</td>\n",
       "      <td>2</td>\n",
       "      <td>4</td>\n",
       "      <td>0.67</td>\n",
       "      <td>0.33</td>\n",
       "      <td>1</td>\n",
       "      <td>1</td>\n",
       "      <td>0</td>\n",
       "      <td>0</td>\n",
       "      <td>0</td>\n",
       "      <td>11.00</td>\n",
       "      <td>0.00</td>\n",
       "      <td>0.50</td>\n",
       "      <td>0.50</td>\n",
       "      <td>5.110000</td>\n",
       "      <td>0.390000</td>\n",
       "      <td>0.276667</td>\n",
       "      <td>Kathryn Henry</td>\n",
       "      <td>azorius spirits</td>\n",
       "      <td>10</td>\n",
       "      <td>2</td>\n",
       "      <td>4.33</td>\n",
       "    </tr>\n",
       "    <tr>\n",
       "      <th>334</th>\n",
       "      <td>1</td>\n",
       "      <td>1</td>\n",
       "      <td>4</td>\n",
       "      <td>2</td>\n",
       "      <td>1.00</td>\n",
       "      <td>0.25</td>\n",
       "      <td>1</td>\n",
       "      <td>1</td>\n",
       "      <td>0</td>\n",
       "      <td>0</td>\n",
       "      <td>0</td>\n",
       "      <td>4.33</td>\n",
       "      <td>11.00</td>\n",
       "      <td>0.67</td>\n",
       "      <td>0.33</td>\n",
       "      <td>6.000000</td>\n",
       "      <td>0.723333</td>\n",
       "      <td>0.360000</td>\n",
       "      <td>Kathryn Henry</td>\n",
       "      <td>azorius spirits</td>\n",
       "      <td>10</td>\n",
       "      <td>3</td>\n",
       "      <td>2.67</td>\n",
       "    </tr>\n",
       "    <tr>\n",
       "      <th>335</th>\n",
       "      <td>1</td>\n",
       "      <td>1</td>\n",
       "      <td>5</td>\n",
       "      <td>1</td>\n",
       "      <td>1.00</td>\n",
       "      <td>0.20</td>\n",
       "      <td>1</td>\n",
       "      <td>1</td>\n",
       "      <td>0</td>\n",
       "      <td>0</td>\n",
       "      <td>0</td>\n",
       "      <td>2.67</td>\n",
       "      <td>4.33</td>\n",
       "      <td>1.00</td>\n",
       "      <td>0.25</td>\n",
       "      <td>2.933333</td>\n",
       "      <td>0.890000</td>\n",
       "      <td>0.260000</td>\n",
       "      <td>Kathryn Henry</td>\n",
       "      <td>azorius spirits</td>\n",
       "      <td>10</td>\n",
       "      <td>4</td>\n",
       "      <td>1.80</td>\n",
       "    </tr>\n",
       "  </tbody>\n",
       "</table>\n",
       "<p>336 rows × 23 columns</p>\n",
       "</div>"
      ],
      "text/plain": [
       "\n",
       "     mulligan_count  lands_played  spells_played  hand_size  spell_ratio  \\\n",
       "\u001b[1;36m0\u001b[0m                 \u001b[1;36m0\u001b[0m             \u001b[1;36m0\u001b[0m              \u001b[1;36m0\u001b[0m          \u001b[1;36m7\u001b[0m         \u001b[1;36m0.00\u001b[0m   \n",
       "\u001b[1;36m1\u001b[0m                 \u001b[1;36m0\u001b[0m             \u001b[1;36m1\u001b[0m              \u001b[1;36m0\u001b[0m          \u001b[1;36m7\u001b[0m         \u001b[1;36m0.00\u001b[0m   \n",
       "\u001b[1;36m2\u001b[0m                 \u001b[1;36m0\u001b[0m             \u001b[1;36m1\u001b[0m              \u001b[1;36m1\u001b[0m          \u001b[1;36m6\u001b[0m         \u001b[1;36m0.33\u001b[0m   \n",
       "\u001b[1;36m3\u001b[0m                 \u001b[1;36m0\u001b[0m             \u001b[1;36m0\u001b[0m              \u001b[1;36m2\u001b[0m          \u001b[1;36m6\u001b[0m         \u001b[1;36m0.50\u001b[0m   \n",
       "\u001b[1;36m4\u001b[0m                 \u001b[1;36m0\u001b[0m             \u001b[1;36m1\u001b[0m              \u001b[1;36m3\u001b[0m          \u001b[1;36m5\u001b[0m         \u001b[1;36m0.60\u001b[0m   \n",
       "..              \u001b[33m...\u001b[0m           \u001b[33m...\u001b[0m            \u001b[33m...\u001b[0m        \u001b[33m...\u001b[0m          \u001b[33m...\u001b[0m   \n",
       "\u001b[1;36m331\u001b[0m               \u001b[1;36m1\u001b[0m             \u001b[1;36m0\u001b[0m              \u001b[1;36m0\u001b[0m          \u001b[1;36m6\u001b[0m         \u001b[1;36m0.00\u001b[0m   \n",
       "\u001b[1;36m332\u001b[0m               \u001b[1;36m1\u001b[0m             \u001b[1;36m1\u001b[0m              \u001b[1;36m1\u001b[0m          \u001b[1;36m5\u001b[0m         \u001b[1;36m0.50\u001b[0m   \n",
       "\u001b[1;36m333\u001b[0m               \u001b[1;36m1\u001b[0m             \u001b[1;36m1\u001b[0m              \u001b[1;36m2\u001b[0m          \u001b[1;36m4\u001b[0m         \u001b[1;36m0.67\u001b[0m   \n",
       "\u001b[1;36m334\u001b[0m               \u001b[1;36m1\u001b[0m             \u001b[1;36m1\u001b[0m              \u001b[1;36m4\u001b[0m          \u001b[1;36m2\u001b[0m         \u001b[1;36m1.00\u001b[0m   \n",
       "\u001b[1;36m335\u001b[0m               \u001b[1;36m1\u001b[0m             \u001b[1;36m1\u001b[0m              \u001b[1;36m5\u001b[0m          \u001b[1;36m1\u001b[0m         \u001b[1;36m1.00\u001b[0m   \n",
       "\n",
       "     land_ratio  W  U  B  R  G  mana_curve_efficiency_lag_1  \\\n",
       "\u001b[1;36m0\u001b[0m          \u001b[1;36m0.00\u001b[0m  \u001b[1;36m1\u001b[0m  \u001b[1;36m1\u001b[0m  \u001b[1;36m0\u001b[0m  \u001b[1;36m0\u001b[0m  \u001b[1;36m0\u001b[0m                         \u001b[1;36m0.00\u001b[0m   \n",
       "\u001b[1;36m1\u001b[0m          \u001b[1;36m0.50\u001b[0m  \u001b[1;36m1\u001b[0m  \u001b[1;36m1\u001b[0m  \u001b[1;36m0\u001b[0m  \u001b[1;36m0\u001b[0m  \u001b[1;36m0\u001b[0m                         \u001b[1;36m0.00\u001b[0m   \n",
       "\u001b[1;36m2\u001b[0m          \u001b[1;36m0.33\u001b[0m  \u001b[1;36m1\u001b[0m  \u001b[1;36m1\u001b[0m  \u001b[1;36m0\u001b[0m  \u001b[1;36m0\u001b[0m  \u001b[1;36m0\u001b[0m                         \u001b[1;36m0.00\u001b[0m   \n",
       "\u001b[1;36m3\u001b[0m          \u001b[1;36m0.00\u001b[0m  \u001b[1;36m1\u001b[0m  \u001b[1;36m1\u001b[0m  \u001b[1;36m0\u001b[0m  \u001b[1;36m0\u001b[0m  \u001b[1;36m0\u001b[0m                         \u001b[1;36m0.67\u001b[0m   \n",
       "\u001b[1;36m4\u001b[0m          \u001b[1;36m0.20\u001b[0m  \u001b[1;36m1\u001b[0m  \u001b[1;36m1\u001b[0m  \u001b[1;36m0\u001b[0m  \u001b[1;36m0\u001b[0m  \u001b[1;36m0\u001b[0m                         \u001b[1;36m0.80\u001b[0m   \n",
       "..          \u001b[33m...\u001b[0m .. .. .. .. ..                          \u001b[33m...\u001b[0m   \n",
       "\u001b[1;36m331\u001b[0m        \u001b[1;36m0.00\u001b[0m  \u001b[1;36m1\u001b[0m  \u001b[1;36m1\u001b[0m  \u001b[1;36m0\u001b[0m  \u001b[1;36m0\u001b[0m  \u001b[1;36m0\u001b[0m                         \u001b[1;36m0.00\u001b[0m   \n",
       "\u001b[1;36m332\u001b[0m        \u001b[1;36m0.50\u001b[0m  \u001b[1;36m1\u001b[0m  \u001b[1;36m1\u001b[0m  \u001b[1;36m0\u001b[0m  \u001b[1;36m0\u001b[0m  \u001b[1;36m0\u001b[0m                         \u001b[1;36m0.00\u001b[0m   \n",
       "\u001b[1;36m333\u001b[0m        \u001b[1;36m0.33\u001b[0m  \u001b[1;36m1\u001b[0m  \u001b[1;36m1\u001b[0m  \u001b[1;36m0\u001b[0m  \u001b[1;36m0\u001b[0m  \u001b[1;36m0\u001b[0m                        \u001b[1;36m11.00\u001b[0m   \n",
       "\u001b[1;36m334\u001b[0m        \u001b[1;36m0.25\u001b[0m  \u001b[1;36m1\u001b[0m  \u001b[1;36m1\u001b[0m  \u001b[1;36m0\u001b[0m  \u001b[1;36m0\u001b[0m  \u001b[1;36m0\u001b[0m                         \u001b[1;36m4.33\u001b[0m   \n",
       "\u001b[1;36m335\u001b[0m        \u001b[1;36m0.20\u001b[0m  \u001b[1;36m1\u001b[0m  \u001b[1;36m1\u001b[0m  \u001b[1;36m0\u001b[0m  \u001b[1;36m0\u001b[0m  \u001b[1;36m0\u001b[0m                         \u001b[1;36m2.67\u001b[0m   \n",
       "\n",
       "     mana_curve_efficiency_lag_2  spell_ratio_lag_1  land_ratio_lag_1  \\\n",
       "\u001b[1;36m0\u001b[0m                           \u001b[1;36m0.00\u001b[0m               \u001b[1;36m0.00\u001b[0m              \u001b[1;36m0.00\u001b[0m   \n",
       "\u001b[1;36m1\u001b[0m                           \u001b[1;36m0.00\u001b[0m               \u001b[1;36m0.00\u001b[0m              \u001b[1;36m0.00\u001b[0m   \n",
       "\u001b[1;36m2\u001b[0m                           \u001b[1;36m0.00\u001b[0m               \u001b[1;36m0.00\u001b[0m              \u001b[1;36m0.50\u001b[0m   \n",
       "\u001b[1;36m3\u001b[0m                           \u001b[1;36m0.00\u001b[0m               \u001b[1;36m0.33\u001b[0m              \u001b[1;36m0.33\u001b[0m   \n",
       "\u001b[1;36m4\u001b[0m                           \u001b[1;36m0.67\u001b[0m               \u001b[1;36m0.50\u001b[0m              \u001b[1;36m0.00\u001b[0m   \n",
       "..                           \u001b[33m...\u001b[0m                \u001b[33m...\u001b[0m               \u001b[33m...\u001b[0m   \n",
       "\u001b[1;36m331\u001b[0m                         \u001b[1;36m1.18\u001b[0m               \u001b[1;36m0.00\u001b[0m              \u001b[1;36m0.00\u001b[0m   \n",
       "\u001b[1;36m332\u001b[0m                         \u001b[1;36m0.00\u001b[0m               \u001b[1;36m0.00\u001b[0m              \u001b[1;36m0.00\u001b[0m   \n",
       "\u001b[1;36m333\u001b[0m                         \u001b[1;36m0.00\u001b[0m               \u001b[1;36m0.50\u001b[0m              \u001b[1;36m0.50\u001b[0m   \n",
       "\u001b[1;36m334\u001b[0m                        \u001b[1;36m11.00\u001b[0m               \u001b[1;36m0.67\u001b[0m              \u001b[1;36m0.33\u001b[0m   \n",
       "\u001b[1;36m335\u001b[0m                         \u001b[1;36m4.33\u001b[0m               \u001b[1;36m1.00\u001b[0m              \u001b[1;36m0.25\u001b[0m   \n",
       "\n",
       "     rolling_mean_mana_curve_efficiency_3  rolling_mean_spell_ratio_3  \\\n",
       "\u001b[1;36m0\u001b[0m                                \u001b[1;36m0.000000\u001b[0m                    \u001b[1;36m0.000000\u001b[0m   \n",
       "\u001b[1;36m1\u001b[0m                                \u001b[1;36m0.000000\u001b[0m                    \u001b[1;36m0.000000\u001b[0m   \n",
       "\u001b[1;36m2\u001b[0m                                \u001b[1;36m0.223333\u001b[0m                    \u001b[1;36m0.110000\u001b[0m   \n",
       "\u001b[1;36m3\u001b[0m                                \u001b[1;36m0.490000\u001b[0m                    \u001b[1;36m0.276667\u001b[0m   \n",
       "\u001b[1;36m4\u001b[0m                                \u001b[1;36m0.783333\u001b[0m                    \u001b[1;36m0.476667\u001b[0m   \n",
       "..                                    \u001b[33m...\u001b[0m                         \u001b[33m...\u001b[0m   \n",
       "\u001b[1;36m331\u001b[0m                              \u001b[1;36m0.393333\u001b[0m                    \u001b[1;36m0.333333\u001b[0m   \n",
       "\u001b[1;36m332\u001b[0m                              \u001b[1;36m3.666667\u001b[0m                    \u001b[1;36m0.166667\u001b[0m   \n",
       "\u001b[1;36m333\u001b[0m                              \u001b[1;36m5.110000\u001b[0m                    \u001b[1;36m0.390000\u001b[0m   \n",
       "\u001b[1;36m334\u001b[0m                              \u001b[1;36m6.000000\u001b[0m                    \u001b[1;36m0.723333\u001b[0m   \n",
       "\u001b[1;36m335\u001b[0m                              \u001b[1;36m2.933333\u001b[0m                    \u001b[1;36m0.890000\u001b[0m   \n",
       "\n",
       "     rolling_mean_land_ratio_3           name        deck_name  match  turn  \\\n",
       "\u001b[1;36m0\u001b[0m                     \u001b[1;36m0.000000\u001b[0m    Shari Grant  azorius advance      \u001b[1;36m1\u001b[0m     \u001b[1;36m0\u001b[0m   \n",
       "\u001b[1;36m1\u001b[0m                     \u001b[1;36m0.000000\u001b[0m    Shari Grant  azorius advance      \u001b[1;36m1\u001b[0m     \u001b[1;36m1\u001b[0m   \n",
       "\u001b[1;36m2\u001b[0m                     \u001b[1;36m0.276667\u001b[0m    Shari Grant  azorius advance      \u001b[1;36m1\u001b[0m     \u001b[1;36m2\u001b[0m   \n",
       "\u001b[1;36m3\u001b[0m                     \u001b[1;36m0.276667\u001b[0m    Shari Grant  azorius advance      \u001b[1;36m1\u001b[0m     \u001b[1;36m3\u001b[0m   \n",
       "\u001b[1;36m4\u001b[0m                     \u001b[1;36m0.176667\u001b[0m    Shari Grant  azorius advance      \u001b[1;36m1\u001b[0m     \u001b[1;36m4\u001b[0m   \n",
       "..                         \u001b[33m...\u001b[0m            \u001b[33m...\u001b[0m              \u001b[33m...\u001b[0m    \u001b[33m...\u001b[0m   \u001b[33m...\u001b[0m   \n",
       "\u001b[1;36m331\u001b[0m                   \u001b[1;36m0.133333\u001b[0m  Kathryn Henry  azorius spirits     \u001b[1;36m10\u001b[0m     \u001b[1;36m0\u001b[0m   \n",
       "\u001b[1;36m332\u001b[0m                   \u001b[1;36m0.166667\u001b[0m  Kathryn Henry  azorius spirits     \u001b[1;36m10\u001b[0m     \u001b[1;36m1\u001b[0m   \n",
       "\u001b[1;36m333\u001b[0m                   \u001b[1;36m0.276667\u001b[0m  Kathryn Henry  azorius spirits     \u001b[1;36m10\u001b[0m     \u001b[1;36m2\u001b[0m   \n",
       "\u001b[1;36m334\u001b[0m                   \u001b[1;36m0.360000\u001b[0m  Kathryn Henry  azorius spirits     \u001b[1;36m10\u001b[0m     \u001b[1;36m3\u001b[0m   \n",
       "\u001b[1;36m335\u001b[0m                   \u001b[1;36m0.260000\u001b[0m  Kathryn Henry  azorius spirits     \u001b[1;36m10\u001b[0m     \u001b[1;36m4\u001b[0m   \n",
       "\n",
       "     mana_curve_efficiency  \n",
       "\u001b[1;36m0\u001b[0m                     \u001b[1;36m0.00\u001b[0m  \n",
       "\u001b[1;36m1\u001b[0m                     \u001b[1;36m0.00\u001b[0m  \n",
       "\u001b[1;36m2\u001b[0m                     \u001b[1;36m0.67\u001b[0m  \n",
       "\u001b[1;36m3\u001b[0m                     \u001b[1;36m0.80\u001b[0m  \n",
       "\u001b[1;36m4\u001b[0m                     \u001b[1;36m0.88\u001b[0m  \n",
       "..                     \u001b[33m...\u001b[0m  \n",
       "\u001b[1;36m331\u001b[0m                   \u001b[1;36m0.00\u001b[0m  \n",
       "\u001b[1;36m332\u001b[0m                  \u001b[1;36m11.00\u001b[0m  \n",
       "\u001b[1;36m333\u001b[0m                   \u001b[1;36m4.33\u001b[0m  \n",
       "\u001b[1;36m334\u001b[0m                   \u001b[1;36m2.67\u001b[0m  \n",
       "\u001b[1;36m335\u001b[0m                   \u001b[1;36m1.80\u001b[0m  \n",
       "\n",
       "\u001b[1m[\u001b[0m\u001b[1;36m336\u001b[0m rows x \u001b[1;36m23\u001b[0m columns\u001b[1m]\u001b[0m"
      ]
     },
     "execution_count": 20,
     "metadata": {},
     "output_type": "execute_result"
    }
   ],
   "source": [
    "selected_features_df"
   ]
  },
  {
   "cell_type": "code",
   "execution_count": 11,
   "metadata": {},
   "outputs": [
    {
     "name": "stdout",
     "output_type": "stream",
     "text": [
      "Jogadores selecionados para o conjunto de teste: ['David Walsh']\n"
     ]
    },
    {
     "data": {
      "text/html": [
       "<pre style=\"white-space:pre;overflow-x:auto;line-height:normal;font-family:Menlo,'DejaVu Sans Mono',consolas,'Courier New',monospace\"><span style=\"color: #7fbfbf; text-decoration-color: #7fbfbf\">                    </span><span style=\"color: #000080; text-decoration-color: #000080\">INFO    </span> Saving data to <span style=\"color: #ff8700; text-decoration-color: #ff8700\">train_features</span> <span style=\"font-weight: bold\">(</span>ParquetDataset<span style=\"font-weight: bold\">)</span><span style=\"color: #808000; text-decoration-color: #808000\">...</span>                  <a href=\"file://c:\\Users\\gufer\\miniconda3\\envs\\mtg_env\\Lib\\site-packages\\kedro\\io\\data_catalog.py\" target=\"_blank\"><span style=\"color: #7f7f7f; text-decoration-color: #7f7f7f\">data_catalog.py</span></a><span style=\"color: #7f7f7f; text-decoration-color: #7f7f7f\">:</span><a href=\"file://c:\\Users\\gufer\\miniconda3\\envs\\mtg_env\\Lib\\site-packages\\kedro\\io\\data_catalog.py#581\" target=\"_blank\"><span style=\"color: #7f7f7f; text-decoration-color: #7f7f7f\">581</span></a>\n",
       "</pre>\n"
      ],
      "text/plain": [
       "\u001b[2;36m                   \u001b[0m\u001b[2;36m \u001b[0m\u001b[34mINFO    \u001b[0m Saving data to \u001b[38;5;208mtrain_features\u001b[0m \u001b[1m(\u001b[0mParquetDataset\u001b[1m)\u001b[0m\u001b[33m...\u001b[0m                  \u001b]8;id=765513;file://c:\\Users\\gufer\\miniconda3\\envs\\mtg_env\\Lib\\site-packages\\kedro\\io\\data_catalog.py\u001b\\\u001b[2mdata_catalog.py\u001b[0m\u001b]8;;\u001b\\\u001b[2m:\u001b[0m\u001b]8;id=86499;file://c:\\Users\\gufer\\miniconda3\\envs\\mtg_env\\Lib\\site-packages\\kedro\\io\\data_catalog.py#581\u001b\\\u001b[2m581\u001b[0m\u001b]8;;\u001b\\\n"
      ]
     },
     "metadata": {},
     "output_type": "display_data"
    },
    {
     "data": {
      "text/html": [
       "<pre style=\"white-space:pre;overflow-x:auto;line-height:normal;font-family:Menlo,'DejaVu Sans Mono',consolas,'Courier New',monospace\"><span style=\"color: #7fbfbf; text-decoration-color: #7fbfbf\">                    </span><span style=\"color: #000080; text-decoration-color: #000080\">INFO    </span> Saving data to <span style=\"color: #ff8700; text-decoration-color: #ff8700\">test_features</span> <span style=\"font-weight: bold\">(</span>ParquetDataset<span style=\"font-weight: bold\">)</span><span style=\"color: #808000; text-decoration-color: #808000\">...</span>                   <a href=\"file://c:\\Users\\gufer\\miniconda3\\envs\\mtg_env\\Lib\\site-packages\\kedro\\io\\data_catalog.py\" target=\"_blank\"><span style=\"color: #7f7f7f; text-decoration-color: #7f7f7f\">data_catalog.py</span></a><span style=\"color: #7f7f7f; text-decoration-color: #7f7f7f\">:</span><a href=\"file://c:\\Users\\gufer\\miniconda3\\envs\\mtg_env\\Lib\\site-packages\\kedro\\io\\data_catalog.py#581\" target=\"_blank\"><span style=\"color: #7f7f7f; text-decoration-color: #7f7f7f\">581</span></a>\n",
       "</pre>\n"
      ],
      "text/plain": [
       "\u001b[2;36m                   \u001b[0m\u001b[2;36m \u001b[0m\u001b[34mINFO    \u001b[0m Saving data to \u001b[38;5;208mtest_features\u001b[0m \u001b[1m(\u001b[0mParquetDataset\u001b[1m)\u001b[0m\u001b[33m...\u001b[0m                   \u001b]8;id=34178;file://c:\\Users\\gufer\\miniconda3\\envs\\mtg_env\\Lib\\site-packages\\kedro\\io\\data_catalog.py\u001b\\\u001b[2mdata_catalog.py\u001b[0m\u001b]8;;\u001b\\\u001b[2m:\u001b[0m\u001b]8;id=190993;file://c:\\Users\\gufer\\miniconda3\\envs\\mtg_env\\Lib\\site-packages\\kedro\\io\\data_catalog.py#581\u001b\\\u001b[2m581\u001b[0m\u001b]8;;\u001b\\\n"
      ]
     },
     "metadata": {},
     "output_type": "display_data"
    },
    {
     "data": {
      "text/html": [
       "<pre style=\"white-space:pre;overflow-x:auto;line-height:normal;font-family:Menlo,'DejaVu Sans Mono',consolas,'Courier New',monospace\"><span style=\"color: #7fbfbf; text-decoration-color: #7fbfbf\">                    </span><span style=\"color: #000080; text-decoration-color: #000080\">INFO    </span> Saving data to <span style=\"color: #ff8700; text-decoration-color: #ff8700\">train_target</span> <span style=\"font-weight: bold\">(</span>ParquetDataset<span style=\"font-weight: bold\">)</span><span style=\"color: #808000; text-decoration-color: #808000\">...</span>                    <a href=\"file://c:\\Users\\gufer\\miniconda3\\envs\\mtg_env\\Lib\\site-packages\\kedro\\io\\data_catalog.py\" target=\"_blank\"><span style=\"color: #7f7f7f; text-decoration-color: #7f7f7f\">data_catalog.py</span></a><span style=\"color: #7f7f7f; text-decoration-color: #7f7f7f\">:</span><a href=\"file://c:\\Users\\gufer\\miniconda3\\envs\\mtg_env\\Lib\\site-packages\\kedro\\io\\data_catalog.py#581\" target=\"_blank\"><span style=\"color: #7f7f7f; text-decoration-color: #7f7f7f\">581</span></a>\n",
       "</pre>\n"
      ],
      "text/plain": [
       "\u001b[2;36m                   \u001b[0m\u001b[2;36m \u001b[0m\u001b[34mINFO    \u001b[0m Saving data to \u001b[38;5;208mtrain_target\u001b[0m \u001b[1m(\u001b[0mParquetDataset\u001b[1m)\u001b[0m\u001b[33m...\u001b[0m                    \u001b]8;id=758823;file://c:\\Users\\gufer\\miniconda3\\envs\\mtg_env\\Lib\\site-packages\\kedro\\io\\data_catalog.py\u001b\\\u001b[2mdata_catalog.py\u001b[0m\u001b]8;;\u001b\\\u001b[2m:\u001b[0m\u001b]8;id=729842;file://c:\\Users\\gufer\\miniconda3\\envs\\mtg_env\\Lib\\site-packages\\kedro\\io\\data_catalog.py#581\u001b\\\u001b[2m581\u001b[0m\u001b]8;;\u001b\\\n"
      ]
     },
     "metadata": {},
     "output_type": "display_data"
    },
    {
     "data": {
      "text/html": [
       "<pre style=\"white-space:pre;overflow-x:auto;line-height:normal;font-family:Menlo,'DejaVu Sans Mono',consolas,'Courier New',monospace\"><span style=\"color: #7fbfbf; text-decoration-color: #7fbfbf\">                    </span><span style=\"color: #000080; text-decoration-color: #000080\">INFO    </span> Saving data to <span style=\"color: #ff8700; text-decoration-color: #ff8700\">test_target</span> <span style=\"font-weight: bold\">(</span>ParquetDataset<span style=\"font-weight: bold\">)</span><span style=\"color: #808000; text-decoration-color: #808000\">...</span>                     <a href=\"file://c:\\Users\\gufer\\miniconda3\\envs\\mtg_env\\Lib\\site-packages\\kedro\\io\\data_catalog.py\" target=\"_blank\"><span style=\"color: #7f7f7f; text-decoration-color: #7f7f7f\">data_catalog.py</span></a><span style=\"color: #7f7f7f; text-decoration-color: #7f7f7f\">:</span><a href=\"file://c:\\Users\\gufer\\miniconda3\\envs\\mtg_env\\Lib\\site-packages\\kedro\\io\\data_catalog.py#581\" target=\"_blank\"><span style=\"color: #7f7f7f; text-decoration-color: #7f7f7f\">581</span></a>\n",
       "</pre>\n"
      ],
      "text/plain": [
       "\u001b[2;36m                   \u001b[0m\u001b[2;36m \u001b[0m\u001b[34mINFO    \u001b[0m Saving data to \u001b[38;5;208mtest_target\u001b[0m \u001b[1m(\u001b[0mParquetDataset\u001b[1m)\u001b[0m\u001b[33m...\u001b[0m                     \u001b]8;id=665442;file://c:\\Users\\gufer\\miniconda3\\envs\\mtg_env\\Lib\\site-packages\\kedro\\io\\data_catalog.py\u001b\\\u001b[2mdata_catalog.py\u001b[0m\u001b]8;;\u001b\\\u001b[2m:\u001b[0m\u001b]8;id=4039;file://c:\\Users\\gufer\\miniconda3\\envs\\mtg_env\\Lib\\site-packages\\kedro\\io\\data_catalog.py#581\u001b\\\u001b[2m581\u001b[0m\u001b]8;;\u001b\\\n"
      ]
     },
     "metadata": {},
     "output_type": "display_data"
    }
   ],
   "source": [
    "import random\n",
    "from typing import List\n",
    "import pandas as pd\n",
    "\n",
    "import random\n",
    "import pandas as pd\n",
    "from typing import List\n",
    "\n",
    "def train_test_split(\n",
    "        features_df: pd.DataFrame,\n",
    "        final_features_list: List[str], \n",
    "        target_column: str, \n",
    "        n_test_players: int = None, \n",
    "        hide_advanced_turns: bool = False,\n",
    "        turn_threshold: int = None) -> None:\n",
    "    \"\"\"\n",
    "    Segrega as partidas em treino e teste, permitindo que o modelo nunca veja um determinado grupo de jogadores ou\n",
    "    escondendo os turnos mais avançados de cada jogador durante o treino.\n",
    "    \n",
    "    Filtra o DataFrame pelas features selecionadas e produz os DataFrames de treino e teste para features e targets.\n",
    "\n",
    "    Args:\n",
    "        features_df (pd.DataFrame): O DataFrame contendo os dados das partidas.\n",
    "        final_features_list (List[str]): Lista das features selecionadas para o modelo.\n",
    "        target_column (str): Nome da coluna target.\n",
    "        n_test_players (int, opcional): Número de jogadores a serem amostrados aleatoriamente para o conjunto de teste.\n",
    "        hide_advanced_turns (bool, opcional): Se True, usa a estratégia de esconder os turnos mais avançados no conjunto de teste.\n",
    "        turn_threshold (int, opcional): Limite de turnos para segregar treino e teste. Os turnos maiores que esse valor serão usados como teste.\n",
    "\n",
    "    Retorna:\n",
    "        Tuple: DataFrames de treino e teste para features e targets.\n",
    "    \"\"\"\n",
    "    \n",
    "    if hide_advanced_turns and turn_threshold is None:\n",
    "        raise ValueError(\"Se `hide_advanced_turns` for True, `turn_threshold` deve ser fornecido.\")\n",
    "    \n",
    "    if hide_advanced_turns:\n",
    "        # Estratégia de esconder turnos mais avançados\n",
    "        print(f\"Usando a estratégia de esconder turnos mais avançados (turnos > {turn_threshold}).\")\n",
    "        \n",
    "        # Dividir os dados entre treino e teste com base no turn_threshold\n",
    "        train_df = features_df[features_df['turn'] <= turn_threshold]\n",
    "        test_df = features_df[features_df['turn'] > turn_threshold]\n",
    "    \n",
    "    else:\n",
    "        # Estratégia de esconder jogadores\n",
    "        print(f\"Usando a estratégia de esconder {n_test_players} jogadores.\")\n",
    "        \n",
    "        # Verifica se a quantidade de jogadores para o teste é válida\n",
    "        unique_players = features_df['name'].unique()\n",
    "        if n_test_players > len(unique_players):\n",
    "            raise ValueError(f\"O número de jogadores de teste ({n_test_players}) excede o número de jogadores únicos ({len(unique_players)}).\")\n",
    "        \n",
    "        # Amostrando jogadores aleatoriamente\n",
    "        test_players = random.sample(list(unique_players), n_test_players)\n",
    "        print(f\"Jogadores selecionados para o conjunto de teste: {test_players}\")\n",
    "        \n",
    "        # Segregar os dados entre treino e teste com base nos jogadores amostrados\n",
    "        test_df = features_df[features_df['name'].isin(test_players)]\n",
    "        train_df = features_df[~features_df['name'].isin(test_players)]\n",
    "    \n",
    "    # Filtrando apenas as features selecionadas\n",
    "    train_features = train_df[final_features_list]\n",
    "    test_features = test_df[final_features_list]\n",
    "\n",
    "    # Extraindo os targets\n",
    "    train_target = train_df[[target_column]]\n",
    "    test_target = test_df[[target_column]]\n",
    "\n",
    "    return train_features, test_features, train_target, test_target\n",
    "\n",
    "\n",
    "(train_features, test_features, train_target, test_target) = train_test_split(\n",
    "    features_df=selected_features_df,\n",
    "    final_features_list=selected_features_df.columns.tolist(),\n",
    "    target_column=\"mana_curve_efficiency\",\n",
    "    n_test_players=1,\n",
    ")\n",
    "\n",
    "# Salvando as features e targets no catálogo\n",
    "catalog.save(\"train_features\", train_features)\n",
    "catalog.save(\"test_features\", test_features)\n",
    "catalog.save(\"train_target\", train_target)\n",
    "catalog.save(\"test_target\", test_target)"
   ]
  },
  {
   "cell_type": "code",
   "execution_count": 12,
   "metadata": {},
   "outputs": [
    {
     "data": {
      "text/html": [
       "<pre style=\"white-space:pre;overflow-x:auto;line-height:normal;font-family:Menlo,'DejaVu Sans Mono',consolas,'Courier New',monospace\"><span style=\"color: #7fbfbf; text-decoration-color: #7fbfbf\">                    </span><span style=\"color: #000080; text-decoration-color: #000080\">INFO    </span> Loading data from <span style=\"color: #ff8700; text-decoration-color: #ff8700\">train_features</span> <span style=\"font-weight: bold\">(</span>ParquetDataset<span style=\"font-weight: bold\">)</span><span style=\"color: #808000; text-decoration-color: #808000\">...</span>               <a href=\"file://c:\\Users\\gufer\\miniconda3\\envs\\mtg_env\\Lib\\site-packages\\kedro\\io\\data_catalog.py\" target=\"_blank\"><span style=\"color: #7f7f7f; text-decoration-color: #7f7f7f\">data_catalog.py</span></a><span style=\"color: #7f7f7f; text-decoration-color: #7f7f7f\">:</span><a href=\"file://c:\\Users\\gufer\\miniconda3\\envs\\mtg_env\\Lib\\site-packages\\kedro\\io\\data_catalog.py#539\" target=\"_blank\"><span style=\"color: #7f7f7f; text-decoration-color: #7f7f7f\">539</span></a>\n",
       "</pre>\n"
      ],
      "text/plain": [
       "\u001b[2;36m                   \u001b[0m\u001b[2;36m \u001b[0m\u001b[34mINFO    \u001b[0m Loading data from \u001b[38;5;208mtrain_features\u001b[0m \u001b[1m(\u001b[0mParquetDataset\u001b[1m)\u001b[0m\u001b[33m...\u001b[0m               \u001b]8;id=546420;file://c:\\Users\\gufer\\miniconda3\\envs\\mtg_env\\Lib\\site-packages\\kedro\\io\\data_catalog.py\u001b\\\u001b[2mdata_catalog.py\u001b[0m\u001b]8;;\u001b\\\u001b[2m:\u001b[0m\u001b]8;id=166671;file://c:\\Users\\gufer\\miniconda3\\envs\\mtg_env\\Lib\\site-packages\\kedro\\io\\data_catalog.py#539\u001b\\\u001b[2m539\u001b[0m\u001b]8;;\u001b\\\n"
      ]
     },
     "metadata": {},
     "output_type": "display_data"
    },
    {
     "data": {
      "text/html": [
       "<pre style=\"white-space:pre;overflow-x:auto;line-height:normal;font-family:Menlo,'DejaVu Sans Mono',consolas,'Courier New',monospace\"><span style=\"color: #7fbfbf; text-decoration-color: #7fbfbf\">                    </span><span style=\"color: #000080; text-decoration-color: #000080\">INFO    </span> Loading data from <span style=\"color: #ff8700; text-decoration-color: #ff8700\">train_target</span> <span style=\"font-weight: bold\">(</span>ParquetDataset<span style=\"font-weight: bold\">)</span><span style=\"color: #808000; text-decoration-color: #808000\">...</span>                 <a href=\"file://c:\\Users\\gufer\\miniconda3\\envs\\mtg_env\\Lib\\site-packages\\kedro\\io\\data_catalog.py\" target=\"_blank\"><span style=\"color: #7f7f7f; text-decoration-color: #7f7f7f\">data_catalog.py</span></a><span style=\"color: #7f7f7f; text-decoration-color: #7f7f7f\">:</span><a href=\"file://c:\\Users\\gufer\\miniconda3\\envs\\mtg_env\\Lib\\site-packages\\kedro\\io\\data_catalog.py#539\" target=\"_blank\"><span style=\"color: #7f7f7f; text-decoration-color: #7f7f7f\">539</span></a>\n",
       "</pre>\n"
      ],
      "text/plain": [
       "\u001b[2;36m                   \u001b[0m\u001b[2;36m \u001b[0m\u001b[34mINFO    \u001b[0m Loading data from \u001b[38;5;208mtrain_target\u001b[0m \u001b[1m(\u001b[0mParquetDataset\u001b[1m)\u001b[0m\u001b[33m...\u001b[0m                 \u001b]8;id=710952;file://c:\\Users\\gufer\\miniconda3\\envs\\mtg_env\\Lib\\site-packages\\kedro\\io\\data_catalog.py\u001b\\\u001b[2mdata_catalog.py\u001b[0m\u001b]8;;\u001b\\\u001b[2m:\u001b[0m\u001b]8;id=398114;file://c:\\Users\\gufer\\miniconda3\\envs\\mtg_env\\Lib\\site-packages\\kedro\\io\\data_catalog.py#539\u001b\\\u001b[2m539\u001b[0m\u001b]8;;\u001b\\\n"
      ]
     },
     "metadata": {},
     "output_type": "display_data"
    },
    {
     "data": {
      "text/html": [
       "<pre style=\"white-space:pre;overflow-x:auto;line-height:normal;font-family:Menlo,'DejaVu Sans Mono',consolas,'Courier New',monospace\"></pre>\n"
      ],
      "text/plain": []
     },
     "metadata": {},
     "output_type": "display_data"
    },
    {
     "data": {
      "text/html": [
       "<div>\n",
       "<style scoped>\n",
       "    .dataframe tbody tr th:only-of-type {\n",
       "        vertical-align: middle;\n",
       "    }\n",
       "\n",
       "    .dataframe tbody tr th {\n",
       "        vertical-align: top;\n",
       "    }\n",
       "\n",
       "    .dataframe thead th {\n",
       "        text-align: right;\n",
       "    }\n",
       "</style>\n",
       "<table border=\"1\" class=\"dataframe\">\n",
       "  <thead>\n",
       "    <tr style=\"text-align: right;\">\n",
       "      <th></th>\n",
       "      <th>mana_curve_efficiency</th>\n",
       "    </tr>\n",
       "  </thead>\n",
       "  <tbody>\n",
       "    <tr>\n",
       "      <th>0</th>\n",
       "      <td>0.00</td>\n",
       "    </tr>\n",
       "    <tr>\n",
       "      <th>1</th>\n",
       "      <td>0.00</td>\n",
       "    </tr>\n",
       "    <tr>\n",
       "      <th>2</th>\n",
       "      <td>0.67</td>\n",
       "    </tr>\n",
       "    <tr>\n",
       "      <th>3</th>\n",
       "      <td>0.80</td>\n",
       "    </tr>\n",
       "    <tr>\n",
       "      <th>4</th>\n",
       "      <td>0.88</td>\n",
       "    </tr>\n",
       "    <tr>\n",
       "      <th>...</th>\n",
       "      <td>...</td>\n",
       "    </tr>\n",
       "    <tr>\n",
       "      <th>331</th>\n",
       "      <td>0.00</td>\n",
       "    </tr>\n",
       "    <tr>\n",
       "      <th>332</th>\n",
       "      <td>11.00</td>\n",
       "    </tr>\n",
       "    <tr>\n",
       "      <th>333</th>\n",
       "      <td>4.33</td>\n",
       "    </tr>\n",
       "    <tr>\n",
       "      <th>334</th>\n",
       "      <td>2.67</td>\n",
       "    </tr>\n",
       "    <tr>\n",
       "      <th>335</th>\n",
       "      <td>1.80</td>\n",
       "    </tr>\n",
       "  </tbody>\n",
       "</table>\n",
       "<p>241 rows × 1 columns</p>\n",
       "</div>"
      ],
      "text/plain": [
       "\n",
       "     mana_curve_efficiency\n",
       "\u001b[1;36m0\u001b[0m                     \u001b[1;36m0.00\u001b[0m\n",
       "\u001b[1;36m1\u001b[0m                     \u001b[1;36m0.00\u001b[0m\n",
       "\u001b[1;36m2\u001b[0m                     \u001b[1;36m0.67\u001b[0m\n",
       "\u001b[1;36m3\u001b[0m                     \u001b[1;36m0.80\u001b[0m\n",
       "\u001b[1;36m4\u001b[0m                     \u001b[1;36m0.88\u001b[0m\n",
       "..                     \u001b[33m...\u001b[0m\n",
       "\u001b[1;36m331\u001b[0m                   \u001b[1;36m0.00\u001b[0m\n",
       "\u001b[1;36m332\u001b[0m                  \u001b[1;36m11.00\u001b[0m\n",
       "\u001b[1;36m333\u001b[0m                   \u001b[1;36m4.33\u001b[0m\n",
       "\u001b[1;36m334\u001b[0m                   \u001b[1;36m2.67\u001b[0m\n",
       "\u001b[1;36m335\u001b[0m                   \u001b[1;36m1.80\u001b[0m\n",
       "\n",
       "\u001b[1m[\u001b[0m\u001b[1;36m241\u001b[0m rows x \u001b[1;36m1\u001b[0m columns\u001b[1m]\u001b[0m"
      ]
     },
     "execution_count": 12,
     "metadata": {},
     "output_type": "execute_result"
    }
   ],
   "source": [
    "train_features = catalog.load(\"train_features\")\n",
    "train_target = catalog.load(\"train_target\")\n",
    "\n",
    "key_cols = [\n",
    "    \"name\",\n",
    "    \"deck_name\",\n",
    "    \"match\",\n",
    "    \"turn\"\n",
    "]\n",
    "\n",
    "def fit_model(\n",
    "    train_features: pd.DataFrame,\n",
    "    train_target: pd.DataFrame,\n",
    "    params: dict,\n",
    "    key_cols = key_cols\n",
    "):\n",
    "    \n",
    "    return None\n",
    "    \n",
    "\n",
    "#train_features.drop(columns=key_cols, inplace=True)\n",
    "#train_features\n",
    "train_target"
   ]
  }
 ],
 "metadata": {
  "kernelspec": {
   "display_name": "mtg_env",
   "language": "python",
   "name": "python3"
  },
  "language_info": {
   "codemirror_mode": {
    "name": "ipython",
    "version": 3
   },
   "file_extension": ".py",
   "mimetype": "text/x-python",
   "name": "python",
   "nbconvert_exporter": "python",
   "pygments_lexer": "ipython3",
   "version": "3.12.5"
  }
 },
 "nbformat": 4,
 "nbformat_minor": 2
}
