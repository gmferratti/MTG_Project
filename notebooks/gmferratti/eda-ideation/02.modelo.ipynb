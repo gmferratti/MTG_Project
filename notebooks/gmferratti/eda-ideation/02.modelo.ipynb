{
 "cells": [
  {
   "cell_type": "markdown",
   "metadata": {},
   "source": [
    "<h1>Modelagem</h1>"
   ]
  },
  {
   "cell_type": "markdown",
   "metadata": {},
   "source": [
    "Simular a probabilidade de conseguir curvar as jogadas.\n",
    "\n",
    "Dados necessários:\n",
    "\n",
    "1. Um conjunto razoável de decks do metagame (obtidos via Scraper).\n",
    "2. Comunicação com a API do mtg_sdk para obter os dados dos cards e dos sets.\n",
    "3. Simulação das mãos iniciais e da viabilidade das jogadas no turno. \n",
    "(Obs. adotar como premissa que os players sempre irão lançar cartas caso tenham mana o suficiente)\n",
    "\n",
    "Operacionalização:\n",
    "\n",
    "- Gerar várias mãos iniciais simuladas a partir de um decklist importada do meta. \n",
    "- Inserir possibilidade de mulligan na simulação com uma distribuição de probabilidade hard-coded (ex. probabilidade de 20% de mulligar 1x, 10% de mulligar 2x, etc.)\n",
    "- Avaliar se cada mão gerada atende aos critérios de \"balanceamento terreno/magia\", \"playable\" (ex. não floodou), \"curvable\" (para ser considerado curvable, tem que ter possibilidades de jogadas que consigam consumir a energia daquele baralho. Ex. duas jogadas de uma mana no turno 2, uma jogada de 2 e uma de 1 no turno 3)\n",
    "- Repetir o processo milhares de vezes para calcular a probabilidade"
   ]
  },
  {
   "cell_type": "markdown",
   "metadata": {},
   "source": [
    "<h2> Ideia para as Features </h2>"
   ]
  },
  {
   "cell_type": "markdown",
   "metadata": {},
   "source": [
    "Objeto deck tem que ter:\n",
    "\n",
    "1. Distribuição de cores do terreno\n",
    "2. Curva de mana adequada (conseguir jogar carta para turnos 2,3 e 4. Ou 1,2 e 3, etc)\n",
    "3. Mão inicial balanceada (terrenos/cartas)\n",
    "4. Viabilidade de jogada no turno"
   ]
  },
  {
   "cell_type": "markdown",
   "metadata": {},
   "source": [
    "<h2>TO DOS:</h2>"
   ]
  },
  {
   "cell_type": "markdown",
   "metadata": {},
   "source": [
    "- Implementar classe grimório\n",
    "- Determinar uma quantidade de turnos médio de uma partida na simulação\n",
    "- Pensar em lógica para terrenos com duas ou mais cores e terrenos que entram virados.\n",
    "- Definir o que é uma mão playable (no mínimo 2 a máximo 4 terrenos, cartas que podem ser jogadas até nos 3 primeiros turnos).\n",
    "- Identificar cartas que permitem lançar mais de um terreno no turno.\n",
    "- Definir estratégia de substituição de Mulligan para a simulação (se tiver com pouco terreno, volta a carta de custo de mana mais alto, se tiver com muito terreno, retorna carta de terreno)"
   ]
  }
 ],
 "metadata": {
  "kernelspec": {
   "display_name": "mtg_env",
   "language": "python",
   "name": "python3"
  },
  "language_info": {
   "codemirror_mode": {
    "name": "ipython",
    "version": 3
   },
   "file_extension": ".py",
   "mimetype": "text/x-python",
   "name": "python",
   "nbconvert_exporter": "python",
   "pygments_lexer": "ipython3",
   "version": "3.12.5"
  }
 },
 "nbformat": 4,
 "nbformat_minor": 2
}
