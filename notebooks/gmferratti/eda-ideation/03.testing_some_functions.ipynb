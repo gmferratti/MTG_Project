{
 "cells": [
  {
   "cell_type": "code",
   "execution_count": 3,
   "metadata": {},
   "outputs": [],
   "source": [
    "import os\n",
    "project_path = \"c:\\\\Users\\\\gufer\\\\OneDrive\\\\Documentos\\\\FIAP\\\\Fase_03\\\\\"\n",
    "os.chdir(project_path)"
   ]
  },
  {
   "cell_type": "code",
   "execution_count": 5,
   "metadata": {},
   "outputs": [
    {
     "data": {
      "text/html": [
       "<div>\n",
       "<style scoped>\n",
       "    .dataframe tbody tr th:only-of-type {\n",
       "        vertical-align: middle;\n",
       "    }\n",
       "\n",
       "    .dataframe tbody tr th {\n",
       "        vertical-align: top;\n",
       "    }\n",
       "\n",
       "    .dataframe thead th {\n",
       "        text-align: right;\n",
       "    }\n",
       "</style>\n",
       "<table border=\"1\" class=\"dataframe\">\n",
       "  <thead>\n",
       "    <tr style=\"text-align: right;\">\n",
       "      <th></th>\n",
       "      <th>W</th>\n",
       "      <th>U</th>\n",
       "      <th>B</th>\n",
       "      <th>R</th>\n",
       "      <th>G</th>\n",
       "    </tr>\n",
       "  </thead>\n",
       "  <tbody>\n",
       "    <tr>\n",
       "      <th>Monowhite</th>\n",
       "      <td>1</td>\n",
       "      <td>0</td>\n",
       "      <td>0</td>\n",
       "      <td>0</td>\n",
       "      <td>0</td>\n",
       "    </tr>\n",
       "    <tr>\n",
       "      <th>Monoblue</th>\n",
       "      <td>0</td>\n",
       "      <td>1</td>\n",
       "      <td>0</td>\n",
       "      <td>0</td>\n",
       "      <td>0</td>\n",
       "    </tr>\n",
       "    <tr>\n",
       "      <th>Monoblack</th>\n",
       "      <td>0</td>\n",
       "      <td>0</td>\n",
       "      <td>1</td>\n",
       "      <td>0</td>\n",
       "      <td>0</td>\n",
       "    </tr>\n",
       "    <tr>\n",
       "      <th>Monored</th>\n",
       "      <td>0</td>\n",
       "      <td>0</td>\n",
       "      <td>0</td>\n",
       "      <td>1</td>\n",
       "      <td>0</td>\n",
       "    </tr>\n",
       "    <tr>\n",
       "      <th>Monogreen</th>\n",
       "      <td>0</td>\n",
       "      <td>0</td>\n",
       "      <td>0</td>\n",
       "      <td>0</td>\n",
       "      <td>1</td>\n",
       "    </tr>\n",
       "    <tr>\n",
       "      <th>...</th>\n",
       "      <td>...</td>\n",
       "      <td>...</td>\n",
       "      <td>...</td>\n",
       "      <td>...</td>\n",
       "      <td>...</td>\n",
       "    </tr>\n",
       "    <tr>\n",
       "      <th>UGB</th>\n",
       "      <td>0</td>\n",
       "      <td>1</td>\n",
       "      <td>1</td>\n",
       "      <td>0</td>\n",
       "      <td>1</td>\n",
       "    </tr>\n",
       "    <tr>\n",
       "      <th>BUG</th>\n",
       "      <td>0</td>\n",
       "      <td>1</td>\n",
       "      <td>1</td>\n",
       "      <td>0</td>\n",
       "      <td>1</td>\n",
       "    </tr>\n",
       "    <tr>\n",
       "      <th>BGU</th>\n",
       "      <td>0</td>\n",
       "      <td>1</td>\n",
       "      <td>1</td>\n",
       "      <td>0</td>\n",
       "      <td>1</td>\n",
       "    </tr>\n",
       "    <tr>\n",
       "      <th>GBU</th>\n",
       "      <td>0</td>\n",
       "      <td>1</td>\n",
       "      <td>1</td>\n",
       "      <td>0</td>\n",
       "      <td>1</td>\n",
       "    </tr>\n",
       "    <tr>\n",
       "      <th>GUB</th>\n",
       "      <td>0</td>\n",
       "      <td>1</td>\n",
       "      <td>1</td>\n",
       "      <td>0</td>\n",
       "      <td>1</td>\n",
       "    </tr>\n",
       "  </tbody>\n",
       "</table>\n",
       "<p>105 rows × 5 columns</p>\n",
       "</div>"
      ],
      "text/plain": [
       "           W  U  B  R  G\n",
       "Monowhite  1  0  0  0  0\n",
       "Monoblue   0  1  0  0  0\n",
       "Monoblack  0  0  1  0  0\n",
       "Monored    0  0  0  1  0\n",
       "Monogreen  0  0  0  0  1\n",
       "...       .. .. .. .. ..\n",
       "UGB        0  1  1  0  1\n",
       "BUG        0  1  1  0  1\n",
       "BGU        0  1  1  0  1\n",
       "GBU        0  1  1  0  1\n",
       "GUB        0  1  1  0  1\n",
       "\n",
       "[105 rows x 5 columns]"
      ]
     },
     "execution_count": 5,
     "metadata": {},
     "output_type": "execute_result"
    }
   ],
   "source": [
    "import pandas as pd\n",
    "from classes.deck.constants import color_combinations, color_combinations_abbreviated\n",
    "\n",
    "df_cc = pd.DataFrame.from_dict(color_combinations, orient='index')\n",
    "df_cca = pd.DataFrame.from_dict(color_combinations_abbreviated, orient='index')\n",
    "df_colors = pd.concat([df_cc, df_cca], axis=0)\n",
    "df_colors"
   ]
  },
  {
   "cell_type": "code",
   "execution_count": 17,
   "metadata": {},
   "outputs": [],
   "source": [
    "from typing import Dict, Union\n",
    "\n",
    "def get_deck_colors(deck_name: str, \n",
    "                    df_colors: pd.DataFrame) -> Union[Dict[str, int], str]:\n",
    "    \"\"\"\n",
    "    Identifica as cores de um deck de Magic: The Gathering com base no nome do deck.\n",
    "\n",
    "    Args:\n",
    "        deck_name (str): O nome do deck, que pode incluir combinações de cores abreviadas (ex. \"RW\") ou nomes completos (ex. \"Selesnya\").\n",
    "        df_colors (pd.DataFrame): DataFrame contendo combinações de cores e seus valores binarizados.\n",
    "\n",
    "    Returns:\n",
    "        Union[Dict[str, int], str]: Um dicionário com as cores e seus valores binarizados (1 para presente, 0 para ausente) \n",
    "                                    ou uma mensagem de erro se a combinação de cores não for encontrada.\n",
    "    \"\"\"\n",
    "    # Extrair letras maiúsculas do nome do deck para abreviações\n",
    "    deck_letters = ''.join([char for char in deck_name if char.isupper()])\n",
    "    deck_letters_sorted = ''.join(sorted(deck_letters))\n",
    "\n",
    "    # Tentar localizar as cores no DataFrame concatenado usando as letras\n",
    "    if deck_letters_sorted in df_colors.index:\n",
    "        return df_colors.loc[deck_letters_sorted].to_dict()\n",
    "\n",
    "    # Se não encontrar pelas letras, verificar os nomes completos\n",
    "    for full_name in df_colors.index:\n",
    "        if full_name.lower() in deck_name.lower():\n",
    "            return df_colors.loc[full_name].to_dict()\n",
    "\n",
    "    # Caso não encontre nenhuma correspondência\n",
    "    return \"Combinação de cores não encontrada para o deck\""
   ]
  },
  {
   "cell_type": "code",
   "execution_count": 18,
   "metadata": {},
   "outputs": [
    {
     "name": "stdout",
     "output_type": "stream",
     "text": [
      "As cores para o deck 'Selesnya Rabbits' são: {'W': 1, 'U': 0, 'B': 0, 'R': 0, 'G': 1}\n"
     ]
    }
   ],
   "source": [
    "# Testando a determinação de cores a partir do nome do deck\n",
    "from deck import Deck\n",
    "\n",
    "deck = Deck()\n",
    "deck_name = \"Selesnya Rabbits\"\n",
    "deck_colors = deck.determine_deck_colors_from_name(deck_name, df_colors)\n",
    "\n",
    "print(f\"As cores para o deck '{deck_name}' são: {deck_colors}\")"
   ]
  },
  {
   "cell_type": "code",
   "execution_count": 21,
   "metadata": {},
   "outputs": [],
   "source": [
    "# Carregue o nome do deck e as cartas a partir de um arquivo txt\n",
    "deck.load_deck_from_txt(\"deck\\\\deck_samples\\\\sample_01.txt\")"
   ]
  },
  {
   "cell_type": "code",
   "execution_count": 22,
   "metadata": {},
   "outputs": [
    {
     "data": {
      "text/plain": [
       "{'W': 0, 'U': 0, 'B': 0, 'R': 1, 'G': 1}"
      ]
     },
     "execution_count": 22,
     "metadata": {},
     "output_type": "execute_result"
    }
   ],
   "source": [
    "# Determine as cores a partir do nome do deck\n",
    "deck.determine_deck_colors_from_name(deck.deck_name, df_colors)"
   ]
  },
  {
   "cell_type": "code",
   "execution_count": 23,
   "metadata": {},
   "outputs": [],
   "source": [
    "from mtgsdk import Card\n",
    "\n",
    "def is_tapped_land(card: Card) -> bool:\n",
    "    \"\"\"\n",
    "    Determines if a land card enters the battlefield tapped.\n",
    "\n",
    "    Args:\n",
    "        card (Card): An instance of the Card class from mtgsdk.\n",
    "\n",
    "    Returns:\n",
    "        bool: True if the land enters tapped, False otherwise.\n",
    "    \"\"\"\n",
    "    # Verifica se o card é um terreno (Land)\n",
    "    if 'Land' not in card.type:\n",
    "        return False\n",
    "    \n",
    "    # Verifica se o texto do card indica que ele entra em jogo virado\n",
    "    if card.text and ('tapped' in card.text.lower() or 'enters the battlefield tapped' in card.text.lower()):\n",
    "        return True\n",
    "    \n",
    "    return False"
   ]
  },
  {
   "cell_type": "code",
   "execution_count": 24,
   "metadata": {},
   "outputs": [
    {
     "name": "stdout",
     "output_type": "stream",
     "text": [
      "Terrenos que entram virados: ['Minas Tirith', 'Rivendell', 'Mines of Moria', 'The Shire']\n",
      "Terrenos que não entram virados: ['Mountain', 'Mount Doom', 'Forest', 'Island', 'Plains', 'Mount Doom']\n"
     ]
    }
   ],
   "source": [
    "import random\n",
    "\n",
    "#  Função para buscar e testar uma amostra aleatória de terrenos\n",
    "def test_tapped_lands_sample(sample_size=10):\n",
    "    # Buscar todos os terrenos (Land)\n",
    "    lands = Card.where(type='Land').where(set='LTR').all()\n",
    "    \n",
    "    # Filtrar uma amostra aleatória\n",
    "    sample_lands = random.sample(lands, min(sample_size, len(lands)))\n",
    "\n",
    "    # Testar se os terrenos entram virados\n",
    "    tapped_lands = [card.name for card in sample_lands if is_tapped_land(card)]\n",
    "    non_tapped_lands = [card.name for card in sample_lands if not is_tapped_land(card)]\n",
    "\n",
    "    return tapped_lands, non_tapped_lands\n",
    "\n",
    "# Executar o teste com uma amostra de 10 terrenos\n",
    "tapped_lands, non_tapped_lands = test_tapped_lands_sample(10)\n",
    "\n",
    "print(\"Terrenos que entram virados:\", tapped_lands)\n",
    "print(\"Terrenos que não entram virados:\", non_tapped_lands)"
   ]
  },
  {
   "cell_type": "code",
   "execution_count": 27,
   "metadata": {},
   "outputs": [
    {
     "ename": "ValueError",
     "evalue": "The deck provided is not valid.",
     "output_type": "error",
     "traceback": [
      "\u001b[1;31m---------------------------------------------------------------------------\u001b[0m",
      "\u001b[1;31mValueError\u001b[0m                                Traceback (most recent call last)",
      "Cell \u001b[1;32mIn[27], line 4\u001b[0m\n\u001b[0;32m      1\u001b[0m \u001b[38;5;28;01mfrom\u001b[39;00m \u001b[38;5;21;01mplayer\u001b[39;00m \u001b[38;5;28;01mimport\u001b[39;00m Player\n\u001b[0;32m      3\u001b[0m \u001b[38;5;66;03m# Crie um jogador\u001b[39;00m\n\u001b[1;32m----> 4\u001b[0m player \u001b[38;5;241m=\u001b[39m \u001b[43mPlayer\u001b[49m\u001b[43m(\u001b[49m\u001b[43mname\u001b[49m\u001b[38;5;241;43m=\u001b[39;49m\u001b[38;5;124;43m\"\u001b[39;49m\u001b[38;5;124;43mJohn\u001b[39;49m\u001b[38;5;124;43m\"\u001b[39;49m\u001b[43m,\u001b[49m\u001b[43m \u001b[49m\u001b[43mdeck\u001b[49m\u001b[38;5;241;43m=\u001b[39;49m\u001b[43mdeck\u001b[49m\u001b[43m)\u001b[49m\n\u001b[0;32m      6\u001b[0m \u001b[38;5;66;03m# O jogador compra sua mão inicial\u001b[39;00m\n\u001b[0;32m      7\u001b[0m player\u001b[38;5;241m.\u001b[39mdraw_initial_hand()\n",
      "File \u001b[1;32mc:\\Users\\gufer\\OneDrive\\Documentos\\FIAP\\Fase_03\\player.py:37\u001b[0m, in \u001b[0;36mPlayer.__init__\u001b[1;34m(self, name, deck)\u001b[0m\n\u001b[0;32m     21\u001b[0m \u001b[38;5;250m\u001b[39m\u001b[38;5;124;03m\"\"\"\u001b[39;00m\n\u001b[0;32m     22\u001b[0m \u001b[38;5;124;03mConstructs all the necessary attributes for the Player object.\u001b[39;00m\n\u001b[0;32m     23\u001b[0m \u001b[38;5;124;03m\u001b[39;00m\n\u001b[1;32m   (...)\u001b[0m\n\u001b[0;32m     34\u001b[0m \u001b[38;5;124;03m    If the deck is not valid.\u001b[39;00m\n\u001b[0;32m     35\u001b[0m \u001b[38;5;124;03m\"\"\"\u001b[39;00m\n\u001b[0;32m     36\u001b[0m \u001b[38;5;28;01mif\u001b[39;00m \u001b[38;5;129;01mnot\u001b[39;00m deck\u001b[38;5;241m.\u001b[39mis_valid():\n\u001b[1;32m---> 37\u001b[0m     \u001b[38;5;28;01mraise\u001b[39;00m \u001b[38;5;167;01mValueError\u001b[39;00m(\u001b[38;5;124m\"\u001b[39m\u001b[38;5;124mThe deck provided is not valid.\u001b[39m\u001b[38;5;124m\"\u001b[39m)\n\u001b[0;32m     39\u001b[0m \u001b[38;5;28mself\u001b[39m\u001b[38;5;241m.\u001b[39mname \u001b[38;5;241m=\u001b[39m name\n\u001b[0;32m     40\u001b[0m \u001b[38;5;28mself\u001b[39m\u001b[38;5;241m.\u001b[39mdeck \u001b[38;5;241m=\u001b[39m deck\n",
      "\u001b[1;31mValueError\u001b[0m: The deck provided is not valid."
     ]
    }
   ],
   "source": [
    "from player import Player\n",
    "\n",
    "# Crie um jogador\n",
    "player = Player(name=\"John\", deck=deck)\n",
    "\n",
    "# O jogador compra sua mão inicial\n",
    "player.draw_initial_hand()\n",
    "print(player.hand)  # Verifique a mão inicial\n",
    "\n",
    "# Realize um mulligan\n",
    "player.mulligan()\n",
    "print(player.hand)  # Verifique a mão após o mulligan"
   ]
  }
 ],
 "metadata": {
  "kernelspec": {
   "display_name": "mtg_env",
   "language": "python",
   "name": "python3"
  },
  "language_info": {
   "codemirror_mode": {
    "name": "ipython",
    "version": 3
   },
   "file_extension": ".py",
   "mimetype": "text/x-python",
   "name": "python",
   "nbconvert_exporter": "python",
   "pygments_lexer": "ipython3",
   "version": "3.12.5"
  }
 },
 "nbformat": 4,
 "nbformat_minor": 2
}
