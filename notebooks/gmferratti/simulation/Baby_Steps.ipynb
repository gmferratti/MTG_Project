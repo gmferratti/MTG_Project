{
 "cells": [
  {
   "cell_type": "code",
   "execution_count": 1,
   "metadata": {},
   "outputs": [],
   "source": [
    "import logging\n",
    "logging.basicConfig(level=logging.INFO)"
   ]
  },
  {
   "cell_type": "code",
   "execution_count": 2,
   "metadata": {},
   "outputs": [],
   "source": [
    "import os\n",
    "notebook_path = os.getcwd()\n",
    "os.chdir(\"c:\\\\Users\\\\gufer\\\\OneDrive\\\\Documentos\\\\FIAP\\\\Fase_03\\\\mtg-project\")"
   ]
  },
  {
   "cell_type": "code",
   "execution_count": 3,
   "metadata": {},
   "outputs": [
    {
     "name": "stderr",
     "output_type": "stream",
     "text": [
      "INFO:numexpr.utils:NumExpr defaulting to 12 threads.\n"
     ]
    }
   ],
   "source": [
    "# Importing or reloading my classes\n",
    "import importlib\n",
    "import classes\n",
    "\n",
    "importlib.reload(classes)\n",
    "from classes.deck import Deck\n",
    "from classes.player import Player\n",
    "from classes.library import Library\n",
    "from classes.hand import Hand"
   ]
  },
  {
   "cell_type": "code",
   "execution_count": 4,
   "metadata": {},
   "outputs": [
    {
     "data": {
      "text/plain": [
       "Player:\n",
       "  Name: Gustavo\n",
       "  Deck: None\n",
       "  Turn: 0\n",
       "  Hand: 0 cards\n",
       "  Library: 0 cards\n",
       "  Lands played: 0\n",
       "  Mana pool: 0\n",
       "  Spells played: 0"
      ]
     },
     "execution_count": 4,
     "metadata": {},
     "output_type": "execute_result"
    }
   ],
   "source": [
    "# Initializing player\n",
    "me = Player(\"Gustavo\")\n",
    "me"
   ]
  },
  {
   "cell_type": "code",
   "execution_count": 5,
   "metadata": {},
   "outputs": [],
   "source": [
    "# Loading my favorite dinosaur deck from untappeg GG stored in a txt file\n",
    "my_deck = Deck()\n",
    "os.chdir(notebook_path)\n",
    "my_deck.load_deck_from_txt(\"deck_samples\\\\sample_01.txt\")"
   ]
  },
  {
   "cell_type": "code",
   "execution_count": 6,
   "metadata": {},
   "outputs": [
    {
     "data": {
      "text/plain": [
       "{'w': 0, 'u': 0, 'b': 0, 'r': 1, 'g': 1}"
      ]
     },
     "execution_count": 6,
     "metadata": {},
     "output_type": "execute_result"
    }
   ],
   "source": [
    "# Infering the colors from the deck name on txt\n",
    "my_deck.determine_deck_colors_from_name()"
   ]
  },
  {
   "cell_type": "code",
   "execution_count": 7,
   "metadata": {},
   "outputs": [
    {
     "data": {
      "text/plain": [
       "Player:\n",
       "  Name: Gustavo\n",
       "  Deck: gruul dinosaurs\n",
       "  Turn: 0\n",
       "  Hand: 0 cards\n",
       "  Library: 60 cards\n",
       "  Lands played: 0\n",
       "  Mana pool: 0\n",
       "  Spells played: 0"
      ]
     },
     "execution_count": 7,
     "metadata": {},
     "output_type": "execute_result"
    }
   ],
   "source": [
    "# Assigning the deck to myself\n",
    "me.assign_deck(my_deck)\n",
    "me"
   ]
  },
  {
   "cell_type": "code",
   "execution_count": 8,
   "metadata": {},
   "outputs": [
    {
     "data": {
      "text/plain": [
       "Player:\n",
       "  Name: Gustavo\n",
       "  Deck: gruul dinosaurs\n",
       "  Turn: 0\n",
       "  Hand: 7 cards\n",
       "  Library: 53 cards\n",
       "  Lands played: 0\n",
       "  Mana pool: 0\n",
       "  Spells played: 0"
      ]
     },
     "execution_count": 8,
     "metadata": {},
     "output_type": "execute_result"
    }
   ],
   "source": [
    "# drawing initial hand\n",
    "me.draw_initial_hand()\n",
    "me"
   ]
  },
  {
   "cell_type": "code",
   "execution_count": 9,
   "metadata": {},
   "outputs": [
    {
     "data": {
      "text/plain": [
       "Hand(7 cards: Karplusan Forest, Mountain, Mountain, Goldvein Hydra, Vaultborn Tyrant, Itzquinth, Firstborn of Gishath, Etali's Favor)"
      ]
     },
     "execution_count": 9,
     "metadata": {},
     "output_type": "execute_result"
    }
   ],
   "source": [
    "# Checking initial hand\n",
    "me.hand"
   ]
  },
  {
   "cell_type": "code",
   "execution_count": 9,
   "metadata": {},
   "outputs": [
    {
     "name": "stdout",
     "output_type": "stream",
     "text": [
      "Debugging mana in hand for player Gustavo:\n",
      "Card: Karplusan Forest, Mana cost: None\n",
      "Card: Karplusan Forest, Mana cost: None\n",
      "Card: Karplusan Forest, Mana cost: None\n",
      "Card: Mountain, Mana cost: None\n",
      "Card: Hulking Raptor, Mana cost: {2}{G}{G}\n",
      "Processed symbols: ['2', 'G', 'G']\n",
      "Card: Intrepid Paleontologist, Mana cost: {1}{G}\n",
      "Processed symbols: ['1', 'G']\n",
      "Card: Itzquinth, Firstborn of Gishath, Mana cost: {R}{G}\n",
      "Processed symbols: ['R', 'G']\n",
      "Final mana counts in hand: {'C': 3, 'W': 0, 'U': 0, 'B': 0, 'R': 1, 'G': 4}\n"
     ]
    },
    {
     "data": {
      "text/plain": [
       "{'C': 3, 'W': 0, 'U': 0, 'B': 0, 'R': 1, 'G': 4}"
      ]
     },
     "execution_count": 9,
     "metadata": {},
     "output_type": "execute_result"
    }
   ],
   "source": [
    "def debug_mana_in_hand(player):\n",
    "    \"\"\"\n",
    "    Debugs the mana calculation in the player's hand.\n",
    "    Prints each card's mana cost and updates the player's mana color dictionary.\n",
    "    \n",
    "    Args:\n",
    "        player (Player): The player whose hand's mana is being debugged.\n",
    "    \"\"\"\n",
    "    print(f\"Debugging mana in hand for player {player.name}:\")\n",
    "    # Reset the mana counts\n",
    "    player.hand_mana_per_color = {'C': 0, 'W': 0, 'U': 0, 'B': 0, 'R': 0, 'G': 0}\n",
    "\n",
    "    for card in player.hand.cards:\n",
    "        print(f\"Card: {card.name}, Mana cost: {card.mana_cost}\")\n",
    "        if card.mana_cost:\n",
    "            # Remove brackets {} and split mana symbols\n",
    "            symbols = card.mana_cost.replace(\"{\", \"\").replace(\"}\", \" \").split()\n",
    "            print(f\"Processed symbols: {symbols}\")\n",
    "            for symbol in symbols:\n",
    "                if symbol in player.hand_mana_per_color:\n",
    "                    player.hand_mana_per_color[symbol] += 1\n",
    "                elif symbol.isdigit():\n",
    "                    player.hand_mana_per_color['C'] += int(symbol)\n",
    "    \n",
    "    print(f\"Final mana counts in hand: {player.hand_mana_per_color}\")\n",
    "    return player.hand_mana_per_color\n",
    "\n",
    "debug_mana_in_hand(me)"
   ]
  },
  {
   "cell_type": "code",
   "execution_count": 11,
   "metadata": {},
   "outputs": [
    {
     "name": "stdout",
     "output_type": "stream",
     "text": [
      "Debugging mana in hand for player Gustavo:\n",
      "Card: Karplusan Forest, Mana cost: None, Color identity: ['G', 'R']\n",
      "Card: Karplusan Forest, Mana cost: None, Color identity: ['G', 'R']\n",
      "Card: Karplusan Forest, Mana cost: None, Color identity: ['G', 'R']\n",
      "Card: Mountain, Mana cost: None, Color identity: ['R']\n",
      "Card: Hulking Raptor, Mana cost: {2}{G}{G}, Color identity: ['G']\n",
      "Processed symbols: ['2', 'G', 'G']\n",
      "Card: Intrepid Paleontologist, Mana cost: {1}{G}, Color identity: ['G']\n",
      "Processed symbols: ['1', 'G']\n",
      "Card: Itzquinth, Firstborn of Gishath, Mana cost: {R}{G}, Color identity: ['G', 'R']\n",
      "Processed symbols: ['R', 'G']\n",
      "Final mana counts in hand: {'C': 3, 'W': 0, 'U': 0, 'B': 0, 'R': 5, 'G': 7}\n"
     ]
    },
    {
     "data": {
      "text/plain": [
       "{'C': 3, 'W': 0, 'U': 0, 'B': 0, 'R': 5, 'G': 7}"
      ]
     },
     "execution_count": 11,
     "metadata": {},
     "output_type": "execute_result"
    }
   ],
   "source": [
    "def debug_mana_in_hand(player):\n",
    "    \"\"\"\n",
    "    Debugs the mana calculation in the player's hand, considering mana cost and color identity for lands.\n",
    "    \n",
    "    Args:\n",
    "        player (Player): The player whose hand's mana is being debugged.\n",
    "    \"\"\"\n",
    "    print(f\"Debugging mana in hand for player {player.name}:\")\n",
    "    # Reset the mana counts\n",
    "    player.hand_mana_per_color = {'C': 0, 'W': 0, 'U': 0, 'B': 0, 'R': 0, 'G': 0}\n",
    "\n",
    "    for card in player.hand.cards:\n",
    "        print(f\"Card: {card.name}, Mana cost: {card.mana_cost}, Color identity: {card.color_identity}\")\n",
    "        if card.mana_cost:\n",
    "            # Remove brackets {} and split mana symbols\n",
    "            symbols = card.mana_cost.replace(\"{\", \"\").replace(\"}\", \" \").split()\n",
    "            print(f\"Processed symbols: {symbols}\")\n",
    "            for symbol in symbols:\n",
    "                if symbol in player.hand_mana_per_color:\n",
    "                    player.hand_mana_per_color[symbol] += 1\n",
    "                elif symbol.isdigit():\n",
    "                    player.hand_mana_per_color['C'] += int(symbol)\n",
    "        # Process lands based on color identity\n",
    "        elif card.color_identity:\n",
    "            for color in card.color_identity:\n",
    "                if color in player.hand_mana_per_color:\n",
    "                    player.hand_mana_per_color[color] += 1\n",
    "\n",
    "    print(f\"Final mana counts in hand: {player.hand_mana_per_color}\")\n",
    "    return player.hand_mana_per_color\n",
    "\n",
    "debug_mana_in_hand(me)"
   ]
  },
  {
   "cell_type": "code",
   "execution_count": 16,
   "metadata": {},
   "outputs": [
    {
     "data": {
      "text/plain": [
       "7"
      ]
     },
     "execution_count": 16,
     "metadata": {},
     "output_type": "execute_result"
    }
   ],
   "source": [
    "me.hand_size"
   ]
  },
  {
   "cell_type": "code",
   "execution_count": 13,
   "metadata": {},
   "outputs": [
    {
     "data": {
      "text/plain": [
       "{'C': 0, 'W': 0, 'U': 0, 'B': 0, 'R': 0, 'G': 0}"
      ]
     },
     "execution_count": 13,
     "metadata": {},
     "output_type": "execute_result"
    }
   ],
   "source": [
    "me.mana_colors_in_hand()"
   ]
  },
  {
   "cell_type": "code",
   "execution_count": 10,
   "metadata": {},
   "outputs": [
    {
     "name": "stdout",
     "output_type": "stream",
     "text": [
      "Initial hand has already been drawn. Use the mulligan method to draw a new hand.\n"
     ]
    }
   ],
   "source": [
    "# trying to draw initial hand again should not work\n",
    "try:\n",
    "    me.draw_initial_hand()\n",
    "except Exception as e:\n",
    "    print(e)"
   ]
  },
  {
   "cell_type": "code",
   "execution_count": 11,
   "metadata": {},
   "outputs": [
    {
     "name": "stderr",
     "output_type": "stream",
     "text": [
      "INFO:classes.library:Returning Trumpeting Carnosaur to the library after mulligan\n"
     ]
    },
    {
     "data": {
      "text/plain": [
       "Player:\n",
       "  Name: Gustavo\n",
       "  Deck: Gruul Dinosaurs\n",
       "  Turn: 0\n",
       "  Hand: 6 cards\n",
       "  Library: 54 cards\n",
       "  Lands played: 0\n",
       "  Mana pool: 0\n",
       "  Spells played: 0"
      ]
     },
     "execution_count": 11,
     "metadata": {},
     "output_type": "execute_result"
    }
   ],
   "source": [
    "# asking mulligan\n",
    "me.ask_mulligan()\n",
    "me"
   ]
  },
  {
   "cell_type": "code",
   "execution_count": 12,
   "metadata": {},
   "outputs": [
    {
     "data": {
      "text/plain": [
       "Hand(6 cards: Karplusan Forest, Bonehoard Dracosaur, Hulking Raptor, Hulking Raptor, Hulking Raptor, Intrepid Paleontologist)"
      ]
     },
     "execution_count": 12,
     "metadata": {},
     "output_type": "execute_result"
    }
   ],
   "source": [
    "# checking the hand hand again\n",
    "me.hand"
   ]
  },
  {
   "cell_type": "code",
   "execution_count": 13,
   "metadata": {},
   "outputs": [
    {
     "name": "stderr",
     "output_type": "stream",
     "text": [
      "INFO:classes.library:Returning Railway Brawler to the library after mulligan\n",
      "INFO:classes.library:Returning Bonehoard Dracosaur to the library after mulligan\n"
     ]
    },
    {
     "data": {
      "text/plain": [
       "Player:\n",
       "  Name: Gustavo\n",
       "  Deck: Gruul Dinosaurs\n",
       "  Turn: 0\n",
       "  Hand: 5 cards\n",
       "  Library: 55 cards\n",
       "  Lands played: 0\n",
       "  Mana pool: 0\n",
       "  Spells played: 0"
      ]
     },
     "execution_count": 13,
     "metadata": {},
     "output_type": "execute_result"
    }
   ],
   "source": [
    "# mulliganing once again\n",
    "me.ask_mulligan()\n",
    "me"
   ]
  },
  {
   "cell_type": "code",
   "execution_count": 14,
   "metadata": {},
   "outputs": [
    {
     "name": "stderr",
     "output_type": "stream",
     "text": [
      "INFO:classes.player:Gustavo played the land Karplusan Forest.\n",
      "INFO:classes.player:Gustavo played the spell Triumphant Chomp.\n"
     ]
    },
    {
     "data": {
      "text/plain": [
       "Player:\n",
       "  Name: Gustavo\n",
       "  Deck: Gruul Dinosaurs\n",
       "  Turn: 1\n",
       "  Hand: 4 cards\n",
       "  Library: 54 cards\n",
       "  Lands played: 1\n",
       "  Mana pool: 1\n",
       "  Spells played: 1"
      ]
     },
     "execution_count": 14,
     "metadata": {},
     "output_type": "execute_result"
    }
   ],
   "source": [
    "# starting the game. Next turn\n",
    "me.next_turn()\n",
    "me"
   ]
  },
  {
   "cell_type": "code",
   "execution_count": 15,
   "metadata": {},
   "outputs": [
    {
     "name": "stdout",
     "output_type": "stream",
     "text": [
      "Mulligan can only be performed at the beginning of the game.\n"
     ]
    }
   ],
   "source": [
    "# trying to ask mulligan after the game has started\n",
    "try:\n",
    "    me.ask_mulligan()\n",
    "except Exception as e:\n",
    "    print(e)"
   ]
  },
  {
   "cell_type": "code",
   "execution_count": 16,
   "metadata": {},
   "outputs": [
    {
     "name": "stderr",
     "output_type": "stream",
     "text": [
      "INFO:classes.player:Gustavo played the land Karplusan Forest.\n",
      "INFO:classes.player:Gustavo played the spell Glimpse the Core.\n"
     ]
    },
    {
     "data": {
      "text/plain": [
       "Player:\n",
       "  Name: Gustavo\n",
       "  Deck: Gruul Dinosaurs\n",
       "  Turn: 2\n",
       "  Hand: 3 cards\n",
       "  Library: 53 cards\n",
       "  Lands played: 1\n",
       "  Mana pool: 2\n",
       "  Spells played: 2"
      ]
     },
     "execution_count": 16,
     "metadata": {},
     "output_type": "execute_result"
    }
   ],
   "source": [
    "# Playing\n",
    "me.next_turn()\n",
    "me"
   ]
  },
  {
   "cell_type": "code",
   "execution_count": 21,
   "metadata": {},
   "outputs": [
    {
     "name": "stderr",
     "output_type": "stream",
     "text": [
      "INFO:classes.player:Gustavo played the spell Hulking Raptor.\n",
      "INFO:classes.player:Gustavo played the spell Triumphant Chomp.\n"
     ]
    },
    {
     "data": {
      "text/plain": [
       "Player:\n",
       "  Name: Gustavo\n",
       "  Deck: Gruul Dinosaurs\n",
       "  Turn: 9\n",
       "  Hand: 1 cards\n",
       "  Library: 45 cards\n",
       "  Lands played: 0\n",
       "  Mana pool: 5\n",
       "  Spells played: 9"
      ]
     },
     "execution_count": 21,
     "metadata": {},
     "output_type": "execute_result"
    }
   ],
   "source": [
    "# Playing\n",
    "me.next_turn()\n",
    "me"
   ]
  },
  {
   "cell_type": "code",
   "execution_count": 18,
   "metadata": {},
   "outputs": [],
   "source": [
    "# TODO: pensar na regra do extra land\n",
    "# TODO: Para além de jogar o terreno, preciso ver se tenho a mana necessária da cor certa\n",
    "# TODO: Simular as jogadas temporalmente e ir salvando o estado do jogo em um dataframe\n",
    "# TODO: Condição de parada: acabar a mão ou depois de X turnos\n",
    "# TODO: Terrenos bicolores e que entram virados\n",
    "# TODO: parece que não estou jogando mais que um spell por turno\n",
    "# Adicionar uma coluna card played no dataframe"
   ]
  }
 ],
 "metadata": {
  "kernelspec": {
   "display_name": "mtg_env",
   "language": "python",
   "name": "python3"
  },
  "language_info": {
   "codemirror_mode": {
    "name": "ipython",
    "version": 3
   },
   "file_extension": ".py",
   "mimetype": "text/x-python",
   "name": "python",
   "nbconvert_exporter": "python",
   "pygments_lexer": "ipython3",
   "version": "3.12.5"
  }
 },
 "nbformat": 4,
 "nbformat_minor": 2
}
