{
 "cells": [
  {
   "cell_type": "code",
   "execution_count": 1,
   "metadata": {},
   "outputs": [
    {
     "data": {
      "text/html": [
       "<div>\n",
       "<style scoped>\n",
       "    .dataframe tbody tr th:only-of-type {\n",
       "        vertical-align: middle;\n",
       "    }\n",
       "\n",
       "    .dataframe tbody tr th {\n",
       "        vertical-align: top;\n",
       "    }\n",
       "\n",
       "    .dataframe thead th {\n",
       "        text-align: right;\n",
       "    }\n",
       "</style>\n",
       "<table border=\"1\" class=\"dataframe\">\n",
       "  <thead>\n",
       "    <tr style=\"text-align: right;\">\n",
       "      <th></th>\n",
       "      <th>W</th>\n",
       "      <th>U</th>\n",
       "      <th>B</th>\n",
       "      <th>R</th>\n",
       "      <th>G</th>\n",
       "    </tr>\n",
       "  </thead>\n",
       "  <tbody>\n",
       "    <tr>\n",
       "      <th>Monowhite</th>\n",
       "      <td>1</td>\n",
       "      <td>0</td>\n",
       "      <td>0</td>\n",
       "      <td>0</td>\n",
       "      <td>0</td>\n",
       "    </tr>\n",
       "    <tr>\n",
       "      <th>Monoblue</th>\n",
       "      <td>0</td>\n",
       "      <td>1</td>\n",
       "      <td>0</td>\n",
       "      <td>0</td>\n",
       "      <td>0</td>\n",
       "    </tr>\n",
       "    <tr>\n",
       "      <th>Monoblack</th>\n",
       "      <td>0</td>\n",
       "      <td>0</td>\n",
       "      <td>1</td>\n",
       "      <td>0</td>\n",
       "      <td>0</td>\n",
       "    </tr>\n",
       "    <tr>\n",
       "      <th>Monored</th>\n",
       "      <td>0</td>\n",
       "      <td>0</td>\n",
       "      <td>0</td>\n",
       "      <td>1</td>\n",
       "      <td>0</td>\n",
       "    </tr>\n",
       "    <tr>\n",
       "      <th>Monogreen</th>\n",
       "      <td>0</td>\n",
       "      <td>0</td>\n",
       "      <td>0</td>\n",
       "      <td>0</td>\n",
       "      <td>1</td>\n",
       "    </tr>\n",
       "    <tr>\n",
       "      <th>...</th>\n",
       "      <td>...</td>\n",
       "      <td>...</td>\n",
       "      <td>...</td>\n",
       "      <td>...</td>\n",
       "      <td>...</td>\n",
       "    </tr>\n",
       "    <tr>\n",
       "      <th>UGB</th>\n",
       "      <td>0</td>\n",
       "      <td>1</td>\n",
       "      <td>1</td>\n",
       "      <td>0</td>\n",
       "      <td>1</td>\n",
       "    </tr>\n",
       "    <tr>\n",
       "      <th>BUG</th>\n",
       "      <td>0</td>\n",
       "      <td>1</td>\n",
       "      <td>1</td>\n",
       "      <td>0</td>\n",
       "      <td>1</td>\n",
       "    </tr>\n",
       "    <tr>\n",
       "      <th>BGU</th>\n",
       "      <td>0</td>\n",
       "      <td>1</td>\n",
       "      <td>1</td>\n",
       "      <td>0</td>\n",
       "      <td>1</td>\n",
       "    </tr>\n",
       "    <tr>\n",
       "      <th>GBU</th>\n",
       "      <td>0</td>\n",
       "      <td>1</td>\n",
       "      <td>1</td>\n",
       "      <td>0</td>\n",
       "      <td>1</td>\n",
       "    </tr>\n",
       "    <tr>\n",
       "      <th>GUB</th>\n",
       "      <td>0</td>\n",
       "      <td>1</td>\n",
       "      <td>1</td>\n",
       "      <td>0</td>\n",
       "      <td>1</td>\n",
       "    </tr>\n",
       "  </tbody>\n",
       "</table>\n",
       "<p>105 rows × 5 columns</p>\n",
       "</div>"
      ],
      "text/plain": [
       "           W  U  B  R  G\n",
       "Monowhite  1  0  0  0  0\n",
       "Monoblue   0  1  0  0  0\n",
       "Monoblack  0  0  1  0  0\n",
       "Monored    0  0  0  1  0\n",
       "Monogreen  0  0  0  0  1\n",
       "...       .. .. .. .. ..\n",
       "UGB        0  1  1  0  1\n",
       "BUG        0  1  1  0  1\n",
       "BGU        0  1  1  0  1\n",
       "GBU        0  1  1  0  1\n",
       "GUB        0  1  1  0  1\n",
       "\n",
       "[105 rows x 5 columns]"
      ]
     },
     "execution_count": 1,
     "metadata": {},
     "output_type": "execute_result"
    }
   ],
   "source": [
    "import pandas as pd\n",
    "from constants import color_combinations, color_combinations_abbreviated\n",
    "\n",
    "df_cc = pd.DataFrame.from_dict(color_combinations, orient='index')\n",
    "df_cca = pd.DataFrame.from_dict(color_combinations_abbreviated, orient='index')\n",
    "df_colors = pd.concat([df_cc, df_cca], axis=0)\n",
    "df_colors"
   ]
  },
  {
   "cell_type": "code",
   "execution_count": 2,
   "metadata": {},
   "outputs": [],
   "source": [
    "from typing import Dict, Union\n",
    "\n",
    "def get_deck_colors(deck_name: str, \n",
    "                    df_colors: pd.DataFrame) -> Union[Dict[str, int], str]:\n",
    "    \"\"\"\n",
    "    Identifica as cores de um deck de Magic: The Gathering com base no nome do deck.\n",
    "\n",
    "    Args:\n",
    "        deck_name (str): O nome do deck, que pode incluir combinações de cores abreviadas (ex. \"RW\") ou nomes completos (ex. \"Selesnya\").\n",
    "        df_colors (pd.DataFrame): DataFrame contendo combinações de cores e seus valores binarizados.\n",
    "\n",
    "    Returns:\n",
    "        Union[Dict[str, int], str]: Um dicionário com as cores e seus valores binarizados (1 para presente, 0 para ausente) \n",
    "                                    ou uma mensagem de erro se a combinação de cores não for encontrada.\n",
    "    \"\"\"\n",
    "    # Extrair letras maiúsculas do nome do deck para abreviações\n",
    "    deck_letters = ''.join([char for char in deck_name if char.isupper()])\n",
    "    deck_letters_sorted = ''.join(sorted(deck_letters))\n",
    "\n",
    "    # Tentar localizar as cores no DataFrame concatenado usando as letras\n",
    "    if deck_letters_sorted in df_colors.index:\n",
    "        return df_colors.loc[deck_letters_sorted].to_dict()\n",
    "\n",
    "    # Se não encontrar pelas letras, verificar os nomes completos\n",
    "    for full_name in df_colors.index:\n",
    "        if full_name.lower() in deck_name.lower():\n",
    "            return df_colors.loc[full_name].to_dict()\n",
    "\n",
    "    # Caso não encontre nenhuma correspondência\n",
    "    return \"Combinação de cores não encontrada para o deck\""
   ]
  },
  {
   "cell_type": "code",
   "execution_count": 3,
   "metadata": {},
   "outputs": [
    {
     "name": "stdout",
     "output_type": "stream",
     "text": [
      "As cores para o deck 'Selesnya Rabbits' são: {'W': 1, 'U': 0, 'B': 0, 'R': 0, 'G': 1}\n"
     ]
    }
   ],
   "source": [
    "# Testando a determinação de cores a partir do nome do deck\n",
    "from deck import Deck\n",
    "\n",
    "deck = Deck()\n",
    "deck_name = \"Selesnya Rabbits\"\n",
    "deck_colors = deck.determine_deck_colors_from_name(deck_name, df_colors)\n",
    "\n",
    "print(f\"As cores para o deck '{deck_name}' são: {deck_colors}\")"
   ]
  },
  {
   "cell_type": "code",
   "execution_count": 5,
   "metadata": {},
   "outputs": [
    {
     "ename": "IndexError",
     "evalue": "list index out of range",
     "output_type": "error",
     "traceback": [
      "\u001b[1;31m---------------------------------------------------------------------------\u001b[0m",
      "\u001b[1;31mIndexError\u001b[0m                                Traceback (most recent call last)",
      "Cell \u001b[1;32mIn[5], line 3\u001b[0m\n\u001b[0;32m      1\u001b[0m \u001b[38;5;28;01mfrom\u001b[39;00m \u001b[38;5;21;01mmtgsdk\u001b[39;00m \u001b[38;5;28;01mimport\u001b[39;00m Card\n\u001b[1;32m----> 3\u001b[0m card \u001b[38;5;241m=\u001b[39m \u001b[43mCard\u001b[49m\u001b[38;5;241;43m.\u001b[39;49m\u001b[43mwhere\u001b[49m\u001b[43m(\u001b[49m\u001b[43mname\u001b[49m\u001b[38;5;241;43m=\u001b[39;49m\u001b[38;5;124;43m\"\u001b[39;49m\u001b[38;5;124;43mCaretaker\u001b[39;49m\u001b[38;5;124;43m'\u001b[39;49m\u001b[38;5;124;43ms Talent\u001b[39;49m\u001b[38;5;124;43m\"\u001b[39;49m\u001b[43m)\u001b[49m\u001b[38;5;241;43m.\u001b[39;49m\u001b[43mall\u001b[49m\u001b[43m(\u001b[49m\u001b[43m)\u001b[49m\u001b[43m[\u001b[49m\u001b[38;5;241;43m0\u001b[39;49m\u001b[43m]\u001b[49m\n",
      "\u001b[1;31mIndexError\u001b[0m: list index out of range"
     ]
    }
   ],
   "source": [
    "from mtgsdk import Card"
   ]
  },
  {
   "cell_type": "code",
   "execution_count": 4,
   "metadata": {},
   "outputs": [
    {
     "ename": "ValueError",
     "evalue": "Card 'Caretaker's Talent' not found in the database.",
     "output_type": "error",
     "traceback": [
      "\u001b[1;31m---------------------------------------------------------------------------\u001b[0m",
      "\u001b[1;31mValueError\u001b[0m                                Traceback (most recent call last)",
      "Cell \u001b[1;32mIn[4], line 5\u001b[0m\n\u001b[0;32m      2\u001b[0m deck \u001b[38;5;241m=\u001b[39m Deck()\n\u001b[0;32m      4\u001b[0m \u001b[38;5;66;03m# Carregue o nome do deck e as cartas a partir de um arquivo txt\u001b[39;00m\n\u001b[1;32m----> 5\u001b[0m \u001b[43mdeck\u001b[49m\u001b[38;5;241;43m.\u001b[39;49m\u001b[43mload_deck_from_txt\u001b[49m\u001b[43m(\u001b[49m\u001b[38;5;124;43m\"\u001b[39;49m\u001b[38;5;124;43mdeck_samples\u001b[39;49m\u001b[38;5;130;43;01m\\\\\u001b[39;49;00m\u001b[38;5;124;43mboros_other.txt\u001b[39;49m\u001b[38;5;124;43m\"\u001b[39;49m\u001b[43m)\u001b[49m\n\u001b[0;32m      7\u001b[0m \u001b[38;5;66;03m# Verifique o nome do deck e as cartas adicionadas\u001b[39;00m\n\u001b[0;32m      8\u001b[0m \u001b[38;5;28mprint\u001b[39m(deck\u001b[38;5;241m.\u001b[39mdeck_name)  \u001b[38;5;66;03m# Deve exibir: \"RW Token Control\"\u001b[39;00m\n",
      "File \u001b[1;32mc:\\Users\\gufer\\OneDrive\\Documentos\\FIAP\\Fase_03\\deck\\deck.py:57\u001b[0m, in \u001b[0;36mDeck.load_deck_from_txt\u001b[1;34m(self, file_path)\u001b[0m\n\u001b[0;32m     55\u001b[0m cards \u001b[38;5;241m=\u001b[39m Card\u001b[38;5;241m.\u001b[39mwhere(name\u001b[38;5;241m=\u001b[39mcard_name\u001b[38;5;241m.\u001b[39mstrip())\u001b[38;5;241m.\u001b[39mall()\n\u001b[0;32m     56\u001b[0m \u001b[38;5;28;01mif\u001b[39;00m \u001b[38;5;129;01mnot\u001b[39;00m cards:\n\u001b[1;32m---> 57\u001b[0m     \u001b[38;5;28;01mraise\u001b[39;00m \u001b[38;5;167;01mValueError\u001b[39;00m(\u001b[38;5;124mf\u001b[39m\u001b[38;5;124m\"\u001b[39m\u001b[38;5;124mCard \u001b[39m\u001b[38;5;124m'\u001b[39m\u001b[38;5;132;01m{\u001b[39;00mcard_name\u001b[38;5;241m.\u001b[39mstrip()\u001b[38;5;132;01m}\u001b[39;00m\u001b[38;5;124m'\u001b[39m\u001b[38;5;124m not found in the database.\u001b[39m\u001b[38;5;124m\"\u001b[39m)\n\u001b[0;32m     59\u001b[0m \u001b[38;5;66;03m# Assumindo que o primeiro resultado é o correto\u001b[39;00m\n\u001b[0;32m     60\u001b[0m card \u001b[38;5;241m=\u001b[39m cards[\u001b[38;5;241m0\u001b[39m]\n",
      "\u001b[1;31mValueError\u001b[0m: Card 'Caretaker's Talent' not found in the database."
     ]
    }
   ],
   "source": [
    "# Crie uma instância do deck\n",
    "deck = Deck()\n",
    "\n",
    "# Carregue o nome do deck e as cartas a partir de um arquivo txt\n",
    "deck.load_deck_from_txt(\"deck_samples\\\\boros_other.txt\")\n",
    "\n",
    "# Verifique o nome do deck e as cartas adicionadas\n",
    "print(deck.deck_name)  # Deve exibir: \"RW Token Control\"\n",
    "print([card.name for card in deck.cards])  # Lista de nomes das cartas adicionadas ao deck"
   ]
  }
 ],
 "metadata": {
  "kernelspec": {
   "display_name": "mtg_env",
   "language": "python",
   "name": "python3"
  },
  "language_info": {
   "codemirror_mode": {
    "name": "ipython",
    "version": 3
   },
   "file_extension": ".py",
   "mimetype": "text/x-python",
   "name": "python",
   "nbconvert_exporter": "python",
   "pygments_lexer": "ipython3",
   "version": "3.12.5"
  }
 },
 "nbformat": 4,
 "nbformat_minor": 2
}
