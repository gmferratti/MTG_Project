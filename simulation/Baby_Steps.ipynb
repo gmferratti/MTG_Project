{
 "cells": [
  {
   "cell_type": "code",
   "execution_count": 1,
   "metadata": {},
   "outputs": [],
   "source": [
    "# Changing word Directory to Root Folder\n",
    "import os\n",
    "import sys\n",
    "sys.path.append(os.path.join(os.getcwd(), '..'))\n",
    "os.chdir(os.path.join(os.getcwd(), '..'))"
   ]
  },
  {
   "cell_type": "code",
   "execution_count": 2,
   "metadata": {},
   "outputs": [],
   "source": [
    "# Importing or reloading my classes\n",
    "import importlib\n",
    "import classes\n",
    "importlib.reload(classes)\n",
    "from classes.deck import Deck\n",
    "from classes.player import Player\n",
    "from classes.library import Library\n",
    "from classes.hand import Hand"
   ]
  },
  {
   "cell_type": "code",
   "execution_count": 3,
   "metadata": {},
   "outputs": [
    {
     "data": {
      "text/plain": [
       "Player(Gustavo, Deck:None ,Turn: 0, Hand: Hand(0 cards: ), Library: None cards)"
      ]
     },
     "execution_count": 3,
     "metadata": {},
     "output_type": "execute_result"
    }
   ],
   "source": [
    "# Initializing player\n",
    "me = Player(\"Gustavo\")\n",
    "me"
   ]
  },
  {
   "cell_type": "code",
   "execution_count": 4,
   "metadata": {},
   "outputs": [],
   "source": [
    "# Loading my favorite dinosaur deck from untappeg GG stored in a txt file\n",
    "my_deck = Deck()\n",
    "my_deck.load_deck_from_txt(\"data\\\\deck_samples\\\\sample_01.txt\")"
   ]
  },
  {
   "cell_type": "code",
   "execution_count": 5,
   "metadata": {},
   "outputs": [
    {
     "data": {
      "text/plain": [
       "{'W': 0, 'U': 0, 'B': 0, 'R': 1, 'G': 1}"
      ]
     },
     "execution_count": 5,
     "metadata": {},
     "output_type": "execute_result"
    }
   ],
   "source": [
    "# Infering the colors from the deck name on txt\n",
    "my_deck.determine_deck_colors_from_name()"
   ]
  },
  {
   "cell_type": "code",
   "execution_count": 6,
   "metadata": {},
   "outputs": [
    {
     "data": {
      "text/plain": [
       "Player(Gustavo, Deck:Gruul Dinosaurs ,Turn: 0, Hand: Hand(0 cards: ), Library: Library(60 cards) cards)"
      ]
     },
     "execution_count": 6,
     "metadata": {},
     "output_type": "execute_result"
    }
   ],
   "source": [
    "# Assigning the deck to myself\n",
    "me.assign_deck(my_deck)\n",
    "me"
   ]
  },
  {
   "cell_type": "code",
   "execution_count": 7,
   "metadata": {},
   "outputs": [],
   "source": [
    "# drawing initial hand\n",
    "me.draw_initial_hand()"
   ]
  },
  {
   "cell_type": "code",
   "execution_count": 8,
   "metadata": {},
   "outputs": [
    {
     "data": {
      "text/plain": [
       "Player(Gustavo, Deck:Gruul Dinosaurs ,Turn: 0, Hand: Hand(7 cards: Mountain, Karplusan Forest, Ixalli's Lorekeeper, Wingbane Vantasaur, Calamity, Galloping Inferno, Hulking Raptor, Ixalli's Lorekeeper), Library: Library(53 cards) cards)"
      ]
     },
     "execution_count": 8,
     "metadata": {},
     "output_type": "execute_result"
    }
   ],
   "source": [
    "# Checking my status\n",
    "me"
   ]
  },
  {
   "cell_type": "code",
   "execution_count": 9,
   "metadata": {},
   "outputs": [
    {
     "name": "stdout",
     "output_type": "stream",
     "text": [
      "Initial hand has already been drawn. Use the mulligan method to draw a new hand.\n"
     ]
    }
   ],
   "source": [
    "# trying to draw initial hand again should not work\n",
    "try:\n",
    "    me.draw_initial_hand()\n",
    "except Exception as e:\n",
    "    print(e)\n"
   ]
  },
  {
   "cell_type": "code",
   "execution_count": 10,
   "metadata": {},
   "outputs": [
    {
     "data": {
      "text/plain": [
       "Player(Gustavo, Deck:Gruul Dinosaurs ,Turn: 0, Hand: Hand(6 cards: Karplusan Forest, Wingbane Vantasaur, Itzquinth, Firstborn of Gishath, Intrepid Paleontologist, Trumpeting Carnosaur, Wingbane Vantasaur), Library: Library(54 cards) cards)"
      ]
     },
     "execution_count": 10,
     "metadata": {},
     "output_type": "execute_result"
    }
   ],
   "source": [
    "# asking mulligan\n",
    "me.ask_mulligan()\n",
    "me"
   ]
  },
  {
   "cell_type": "code",
   "execution_count": 11,
   "metadata": {},
   "outputs": [
    {
     "data": {
      "text/plain": [
       "Player(Gustavo, Deck:Gruul Dinosaurs ,Turn: 0, Hand: Hand(5 cards: Karplusan Forest, Karplusan Forest, Itzquinth, Firstborn of Gishath, Ixalli's Lorekeeper, Intrepid Paleontologist), Library: Library(55 cards) cards)"
      ]
     },
     "execution_count": 11,
     "metadata": {},
     "output_type": "execute_result"
    }
   ],
   "source": [
    "# mulliganing once again\n",
    "me.ask_mulligan()\n",
    "me"
   ]
  },
  {
   "cell_type": "code",
   "execution_count": 12,
   "metadata": {},
   "outputs": [
    {
     "data": {
      "text/plain": [
       "Player(Gustavo, Deck:Gruul Dinosaurs ,Turn: 1, Hand: Hand(6 cards: Karplusan Forest, Karplusan Forest, Itzquinth, Firstborn of Gishath, Ixalli's Lorekeeper, Intrepid Paleontologist, Triumphant Chomp), Library: Library(54 cards) cards)"
      ]
     },
     "execution_count": 12,
     "metadata": {},
     "output_type": "execute_result"
    }
   ],
   "source": [
    "# starting the game. Next turn\n",
    "me.next_turn()\n",
    "me"
   ]
  },
  {
   "cell_type": "code",
   "execution_count": 13,
   "metadata": {},
   "outputs": [
    {
     "data": {
      "text/plain": [
       "Player(Gustavo, Deck:Gruul Dinosaurs ,Turn: 2, Hand: Hand(7 cards: Karplusan Forest, Karplusan Forest, Itzquinth, Firstborn of Gishath, Ixalli's Lorekeeper, Intrepid Paleontologist, Triumphant Chomp, Hulking Raptor), Library: Library(53 cards) cards)"
      ]
     },
     "execution_count": 13,
     "metadata": {},
     "output_type": "execute_result"
    }
   ],
   "source": [
    "me.next_turn()\n",
    "me"
   ]
  },
  {
   "cell_type": "code",
   "execution_count": 17,
   "metadata": {},
   "outputs": [
    {
     "data": {
      "text/plain": [
       "Player(Gustavo, Deck:Gruul Dinosaurs ,Turn: 2, Hand: Hand(7 cards: Karplusan Forest, Karplusan Forest, Itzquinth, Firstborn of Gishath, Ixalli's Lorekeeper, Intrepid Paleontologist, Triumphant Chomp, Hulking Raptor), Library: Library(53 cards) cards)"
      ]
     },
     "execution_count": 17,
     "metadata": {},
     "output_type": "execute_result"
    }
   ],
   "source": [
    "# TODO: se o turno for diferente do turno zero, nao da para pedir mulligan\n",
    "# TODO: contador de Lib esta funcionando soh ateh o maximum hand_size, parece que ele esta retornando as cartas para a lib e nao descartando\n",
    "me.next_turn\n",
    "me"
   ]
  }
 ],
 "metadata": {
  "kernelspec": {
   "display_name": "mtg_env",
   "language": "python",
   "name": "python3"
  },
  "language_info": {
   "codemirror_mode": {
    "name": "ipython",
    "version": 3
   },
   "file_extension": ".py",
   "mimetype": "text/x-python",
   "name": "python",
   "nbconvert_exporter": "python",
   "pygments_lexer": "ipython3",
   "version": "3.12.5"
  }
 },
 "nbformat": 4,
 "nbformat_minor": 2
}
