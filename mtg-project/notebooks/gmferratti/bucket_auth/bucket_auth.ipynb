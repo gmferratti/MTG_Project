{
 "cells": [
  {
   "cell_type": "code",
   "execution_count": 1,
   "metadata": {},
   "outputs": [
    {
     "name": "stdout",
     "output_type": "stream",
     "text": [
      "Conectado ao projeto: mtg-project-437014\n",
      "Buckets disponíveis no projeto:\n",
      "mana_curve_bucket\n"
     ]
    }
   ],
   "source": [
    "# Teste de autenticação e listagem de buckets no Google Cloud Storage\n",
    "\n",
    "from google.cloud import storage\n",
    "from google.auth import load_credentials_from_file\n",
    "\n",
    "# Defina o caminho para o seu arquivo de credenciais JSON\n",
    "credentials_path = \"C:\\\\Users\\\\.env\\\\mtg-project-437014-423d6155e8aa.json\"\n",
    "\n",
    "# Carregar as credenciais do arquivo JSON\n",
    "credentials, project = load_credentials_from_file(credentials_path)\n",
    "\n",
    "# Inicializar o cliente de armazenamento com as credenciais carregadas\n",
    "client = storage.Client(credentials=credentials, project=project)\n",
    "\n",
    "# Testar a listagem de buckets no Google Cloud Storage\n",
    "try:\n",
    "    buckets = list(client.list_buckets())\n",
    "    if buckets:\n",
    "        print(f\"Conectado ao projeto: {project}\")\n",
    "        print(\"Buckets disponíveis no projeto:\")\n",
    "        for bucket in buckets:\n",
    "            print(bucket.name)\n",
    "    else:\n",
    "        print(f\"Nenhum bucket encontrado no projeto: {project}\")\n",
    "except Exception as e:\n",
    "    print(f\"Erro ao tentar listar os buckets: {e}\")\n"
   ]
  }
 ],
 "metadata": {
  "kernelspec": {
   "display_name": "mtg_env",
   "language": "python",
   "name": "python3"
  },
  "language_info": {
   "codemirror_mode": {
    "name": "ipython",
    "version": 3
   },
   "file_extension": ".py",
   "mimetype": "text/x-python",
   "name": "python",
   "nbconvert_exporter": "python",
   "pygments_lexer": "ipython3",
   "version": "3.12.5"
  }
 },
 "nbformat": 4,
 "nbformat_minor": 2
}
