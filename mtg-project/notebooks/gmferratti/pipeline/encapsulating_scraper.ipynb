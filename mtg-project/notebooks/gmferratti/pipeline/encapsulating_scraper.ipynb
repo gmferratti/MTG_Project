{
 "cells": [
  {
   "cell_type": "code",
   "execution_count": 1,
   "metadata": {},
   "outputs": [
    {
     "data": {
      "text/html": [
       "<pre style=\"white-space:pre;overflow-x:auto;line-height:normal;font-family:Menlo,'DejaVu Sans Mono',consolas,'Courier New',monospace\"><span style=\"color: #7fbfbf; text-decoration-color: #7fbfbf\">[09/28/24 15:40:55] </span><span style=\"color: #000080; text-decoration-color: #000080\">INFO    </span> Using                                                                  <a href=\"file://c:\\Users\\gufer\\miniconda3\\envs\\mtg_env\\Lib\\site-packages\\kedro\\framework\\project\\__init__.py\" target=\"_blank\"><span style=\"color: #7f7f7f; text-decoration-color: #7f7f7f\">__init__.py</span></a><span style=\"color: #7f7f7f; text-decoration-color: #7f7f7f\">:</span><a href=\"file://c:\\Users\\gufer\\miniconda3\\envs\\mtg_env\\Lib\\site-packages\\kedro\\framework\\project\\__init__.py#249\" target=\"_blank\"><span style=\"color: #7f7f7f; text-decoration-color: #7f7f7f\">249</span></a>\n",
       "<span style=\"color: #7fbfbf; text-decoration-color: #7fbfbf\">                    </span>         <span style=\"color: #008000; text-decoration-color: #008000\">'c:\\Users\\gufer\\miniconda3\\envs\\mtg_env\\Lib\\site-packages\\kedro\\framew</span> <span style=\"color: #7f7f7f; text-decoration-color: #7f7f7f\">               </span>\n",
       "<span style=\"color: #7fbfbf; text-decoration-color: #7fbfbf\">                    </span>         <span style=\"color: #008000; text-decoration-color: #008000\">ork\\project\\rich_logging.yml'</span> as logging configuration.                <span style=\"color: #7f7f7f; text-decoration-color: #7f7f7f\">               </span>\n",
       "</pre>\n"
      ],
      "text/plain": [
       "\u001b[2;36m[09/28/24 15:40:55]\u001b[0m\u001b[2;36m \u001b[0m\u001b[34mINFO    \u001b[0m Using                                                                  \u001b]8;id=838357;file://c:\\Users\\gufer\\miniconda3\\envs\\mtg_env\\Lib\\site-packages\\kedro\\framework\\project\\__init__.py\u001b\\\u001b[2m__init__.py\u001b[0m\u001b]8;;\u001b\\\u001b[2m:\u001b[0m\u001b]8;id=295160;file://c:\\Users\\gufer\\miniconda3\\envs\\mtg_env\\Lib\\site-packages\\kedro\\framework\\project\\__init__.py#249\u001b\\\u001b[2m249\u001b[0m\u001b]8;;\u001b\\\n",
       "\u001b[2;36m                    \u001b[0m         \u001b[32m'c:\\Users\\gufer\\miniconda3\\envs\\mtg_env\\Lib\\site-packages\\kedro\\framew\u001b[0m \u001b[2m               \u001b[0m\n",
       "\u001b[2;36m                    \u001b[0m         \u001b[32mork\\project\\rich_logging.yml'\u001b[0m as logging configuration.                \u001b[2m               \u001b[0m\n"
      ]
     },
     "metadata": {},
     "output_type": "display_data"
    },
    {
     "name": "stdout",
     "output_type": "stream",
     "text": [
      "Notebook current working directory: c:\\Users\\gufer\\OneDrive\\Documentos\\FIAP\\Fase_03\\mtg-project\\notebooks\\gmferratti\\pipeline\n",
      "Project path: c:\\Users\\gufer\\OneDrive\\Documentos\\FIAP\\Fase_03\\mtg-project\n"
     ]
    },
    {
     "data": {
      "text/html": [
       "<pre style=\"white-space:pre;overflow-x:auto;line-height:normal;font-family:Menlo,'DejaVu Sans Mono',consolas,'Courier New',monospace\"><span style=\"color: #7fbfbf; text-decoration-color: #7fbfbf\">[09/28/24 15:40:59] </span><span style=\"color: #000080; text-decoration-color: #000080\">INFO    </span> Kedro is sending anonymous usage data with the sole purpose of improving <a href=\"file://c:\\Users\\gufer\\miniconda3\\envs\\mtg_env\\Lib\\site-packages\\kedro_telemetry\\plugin.py\" target=\"_blank\"><span style=\"color: #7f7f7f; text-decoration-color: #7f7f7f\">plugin.py</span></a><span style=\"color: #7f7f7f; text-decoration-color: #7f7f7f\">:</span><a href=\"file://c:\\Users\\gufer\\miniconda3\\envs\\mtg_env\\Lib\\site-packages\\kedro_telemetry\\plugin.py#233\" target=\"_blank\"><span style=\"color: #7f7f7f; text-decoration-color: #7f7f7f\">233</span></a>\n",
       "<span style=\"color: #7fbfbf; text-decoration-color: #7fbfbf\">                    </span>         the product. No personal data or IP addresses are stored on our side. If <span style=\"color: #7f7f7f; text-decoration-color: #7f7f7f\">             </span>\n",
       "<span style=\"color: #7fbfbf; text-decoration-color: #7fbfbf\">                    </span>         you want to opt out, set the `KEDRO_DISABLE_TELEMETRY` or `DO_NOT_TRACK` <span style=\"color: #7f7f7f; text-decoration-color: #7f7f7f\">             </span>\n",
       "<span style=\"color: #7fbfbf; text-decoration-color: #7fbfbf\">                    </span>         environment variables, or create a `.telemetry` file in the current      <span style=\"color: #7f7f7f; text-decoration-color: #7f7f7f\">             </span>\n",
       "<span style=\"color: #7fbfbf; text-decoration-color: #7fbfbf\">                    </span>         working directory with the contents `consent: false`. Read more at       <span style=\"color: #7f7f7f; text-decoration-color: #7f7f7f\">             </span>\n",
       "<span style=\"color: #7fbfbf; text-decoration-color: #7fbfbf\">                    </span>         <span style=\"color: #0000ff; text-decoration-color: #0000ff; text-decoration: underline\">https://docs.kedro.org/en/stable/configuration/telemetry.html</span>            <span style=\"color: #7f7f7f; text-decoration-color: #7f7f7f\">             </span>\n",
       "</pre>\n"
      ],
      "text/plain": [
       "\u001b[2;36m[09/28/24 15:40:59]\u001b[0m\u001b[2;36m \u001b[0m\u001b[34mINFO    \u001b[0m Kedro is sending anonymous usage data with the sole purpose of improving \u001b]8;id=659900;file://c:\\Users\\gufer\\miniconda3\\envs\\mtg_env\\Lib\\site-packages\\kedro_telemetry\\plugin.py\u001b\\\u001b[2mplugin.py\u001b[0m\u001b]8;;\u001b\\\u001b[2m:\u001b[0m\u001b]8;id=551820;file://c:\\Users\\gufer\\miniconda3\\envs\\mtg_env\\Lib\\site-packages\\kedro_telemetry\\plugin.py#233\u001b\\\u001b[2m233\u001b[0m\u001b]8;;\u001b\\\n",
       "\u001b[2;36m                    \u001b[0m         the product. No personal data or IP addresses are stored on our side. If \u001b[2m             \u001b[0m\n",
       "\u001b[2;36m                    \u001b[0m         you want to opt out, set the `KEDRO_DISABLE_TELEMETRY` or `DO_NOT_TRACK` \u001b[2m             \u001b[0m\n",
       "\u001b[2;36m                    \u001b[0m         environment variables, or create a `.telemetry` file in the current      \u001b[2m             \u001b[0m\n",
       "\u001b[2;36m                    \u001b[0m         working directory with the contents `consent: false`. Read more at       \u001b[2m             \u001b[0m\n",
       "\u001b[2;36m                    \u001b[0m         \u001b[4;94mhttps://docs.kedro.org/en/stable/configuration/telemetry.html\u001b[0m            \u001b[2m             \u001b[0m\n"
      ]
     },
     "metadata": {},
     "output_type": "display_data"
    },
    {
     "data": {
      "text/html": [
       "<pre style=\"white-space:pre;overflow-x:auto;line-height:normal;font-family:Menlo,'DejaVu Sans Mono',consolas,'Courier New',monospace\"></pre>\n"
      ],
      "text/plain": []
     },
     "metadata": {},
     "output_type": "display_data"
    },
    {
     "data": {
      "text/plain": [
       "\n",
       "\u001b[1m[\u001b[0m\n",
       "    \u001b[32m'decks_json_partitioned'\u001b[0m,\n",
       "    \u001b[32m'decks_txt_partitioned'\u001b[0m,\n",
       "    \u001b[32m'sampled_decks'\u001b[0m,\n",
       "    \u001b[32m'players'\u001b[0m,\n",
       "    \u001b[32m'players_with_decks'\u001b[0m,\n",
       "    \u001b[32m'matches_df'\u001b[0m,\n",
       "    \u001b[32m'features_df'\u001b[0m,\n",
       "    \u001b[32m'selected_features_df'\u001b[0m,\n",
       "    \u001b[32m'selected_features_cols'\u001b[0m,\n",
       "    \u001b[32m'train_features'\u001b[0m,\n",
       "    \u001b[32m'test_features'\u001b[0m,\n",
       "    \u001b[32m'train_target'\u001b[0m,\n",
       "    \u001b[32m'test_target'\u001b[0m,\n",
       "    \u001b[32m'best_model'\u001b[0m,\n",
       "    \u001b[32m'best_hiper_params'\u001b[0m,\n",
       "    \u001b[32m'predicted_target'\u001b[0m,\n",
       "    \u001b[32m'shap_values'\u001b[0m,\n",
       "    \u001b[32m'error_metrics'\u001b[0m,\n",
       "    \u001b[32m'graph_objects'\u001b[0m,\n",
       "    \u001b[32m'parameters'\u001b[0m,\n",
       "    \u001b[32m'params:global'\u001b[0m,\n",
       "    \u001b[32m'params:global.user'\u001b[0m,\n",
       "    \u001b[32m'params:global.user.project_path'\u001b[0m,\n",
       "    \u001b[32m'params:preprocessing'\u001b[0m,\n",
       "    \u001b[32m'params:preprocessing.webscraper'\u001b[0m,\n",
       "    \u001b[32m'params:preprocessing.webscraper.zip_url'\u001b[0m,\n",
       "    \u001b[32m'params:preprocessing.webscraper.zip_folder'\u001b[0m,\n",
       "    \u001b[32m'params:preprocessing.webscraper.log_folder'\u001b[0m,\n",
       "    \u001b[32m'params:preprocessing.webscraper.deck_cards'\u001b[0m,\n",
       "    \u001b[32m'params:preprocessing.webscraper.sample_size_ratio'\u001b[0m,\n",
       "    \u001b[32m'params:simulation'\u001b[0m,\n",
       "    \u001b[32m'params:simulation.n_players'\u001b[0m,\n",
       "    \u001b[32m'params:simulation.matches_per_player'\u001b[0m,\n",
       "    \u001b[32m'params:simulation.hand_size_stop'\u001b[0m,\n",
       "    \u001b[32m'params:simulation.max_turns'\u001b[0m,\n",
       "    \u001b[32m'params:simulation.max_mulligans'\u001b[0m,\n",
       "    \u001b[32m'params:simulation.mulligan_prob'\u001b[0m,\n",
       "    \u001b[32m'params:simulation.extra_land_prob'\u001b[0m,\n",
       "    \u001b[32m'params:simulation.log_folder'\u001b[0m,\n",
       "    \u001b[32m'params:modeling'\u001b[0m,\n",
       "    \u001b[32m'params:modeling.feature_engineering'\u001b[0m,\n",
       "    \u001b[32m'params:modeling.feature_engineering.feat_corr_threshold'\u001b[0m,\n",
       "    \u001b[32m'params:modeling.feature_selection'\u001b[0m,\n",
       "    \u001b[32m'params:modeling.feature_selection.hide_players'\u001b[0m,\n",
       "    \u001b[32m'params:modeling.feature_selection.n_test_players'\u001b[0m,\n",
       "    \u001b[32m'params:modeling.feature_selection.hide_advanced_turns'\u001b[0m,\n",
       "    \u001b[32m'params:modeling.feature_selection.turn_threshold'\u001b[0m,\n",
       "    \u001b[32m'params:modeling.feature_selection.target_column'\u001b[0m,\n",
       "    \u001b[32m'params:modeling.model_selection'\u001b[0m,\n",
       "    \u001b[32m'params:modeling.model_selection.params_grid'\u001b[0m,\n",
       "    \u001b[32m'params:modeling.model_selection.params_grid.max_depth'\u001b[0m,\n",
       "    \u001b[32m'params:modeling.model_selection.params_grid.min_samples_split'\u001b[0m,\n",
       "    \u001b[32m'params:modeling.model_selection.params_grid.min_samples_leaf'\u001b[0m,\n",
       "    \u001b[32m'params:modeling.model_selection.params_grid.max_features'\u001b[0m,\n",
       "    \u001b[32m'params:modeling.model_selection.params_grid.max_leaf_nodes'\u001b[0m,\n",
       "    \u001b[32m'params:modeling.model_selection.params_grid.min_weight_fraction_leaf'\u001b[0m,\n",
       "    \u001b[32m'params:modeling.model_selection.scoring_metric'\u001b[0m,\n",
       "    \u001b[32m'params:reporting'\u001b[0m,\n",
       "    \u001b[32m'params:reporting.initial_turn_plot'\u001b[0m,\n",
       "    \u001b[32m'params:reporting.final_turn_plot'\u001b[0m\n",
       "\u001b[1m]\u001b[0m"
      ]
     },
     "execution_count": 1,
     "metadata": {},
     "output_type": "execute_result"
    }
   ],
   "source": [
    "import os\n",
    "from kedro.framework.startup import bootstrap_project\n",
    "from kedro.framework.session import KedroSession\n",
    "import warnings\n",
    "\n",
    "warnings.filterwarnings(\"ignore\")\n",
    "\n",
    "# Encontrar o caminho absoluto do diretório atual\n",
    "notebook_cwd = os.getcwd()\n",
    "\n",
    "# Definir o caminho para a raiz do projeto Kedro com base na estrutura de diretórios\n",
    "# Neste caso, navegamos 4 níveis acima até a raiz do projeto\n",
    "project_path = os.path.abspath(os.path.join(notebook_cwd, \"../../../\"))\n",
    "\n",
    "# Verificar o diretório atual e o caminho do projeto\n",
    "print(f\"Notebook current working directory: {notebook_cwd}\")\n",
    "print(f\"Project path: {project_path}\")\n",
    "\n",
    "# Alterar para o diretório raiz do projeto Kedro\n",
    "os.chdir(project_path)\n",
    "\n",
    "# Bootstrap o projeto Kedro\n",
    "bootstrap_project(project_path)\n",
    "\n",
    "# Inicialize o contexto do Kedro\n",
    "with KedroSession.create() as session:\n",
    "    context = session.load_context()\n",
    "\n",
    "# Recarregar o catálogo\n",
    "catalog = context.catalog\n",
    "\n",
    "# Acessa os parâmetros\n",
    "params = context.params\n",
    "\n",
    "catalog.list()"
   ]
  },
  {
   "cell_type": "code",
   "execution_count": 3,
   "metadata": {},
   "outputs": [
    {
     "data": {
      "text/html": [
       "<pre style=\"white-space:pre;overflow-x:auto;line-height:normal;font-family:Menlo,'DejaVu Sans Mono',consolas,'Courier New',monospace\"><span style=\"color: #7fbfbf; text-decoration-color: #7fbfbf\">[09/14/24 16:25:11] </span><span style=\"color: #000080; text-decoration-color: #000080\">INFO    </span> Kedro project mtg-project                                               <a href=\"file://c:\\Users\\gufer\\miniconda3\\envs\\mtg_env\\Lib\\site-packages\\kedro\\framework\\session\\session.py\" target=\"_blank\"><span style=\"color: #7f7f7f; text-decoration-color: #7f7f7f\">session.py</span></a><span style=\"color: #7f7f7f; text-decoration-color: #7f7f7f\">:</span><a href=\"file://c:\\Users\\gufer\\miniconda3\\envs\\mtg_env\\Lib\\site-packages\\kedro\\framework\\session\\session.py#327\" target=\"_blank\"><span style=\"color: #7f7f7f; text-decoration-color: #7f7f7f\">327</span></a>\n",
       "</pre>\n"
      ],
      "text/plain": [
       "\u001b[2;36m[09/14/24 16:25:11]\u001b[0m\u001b[2;36m \u001b[0m\u001b[34mINFO    \u001b[0m Kedro project mtg-project                                               \u001b]8;id=627296;file://c:\\Users\\gufer\\miniconda3\\envs\\mtg_env\\Lib\\site-packages\\kedro\\framework\\session\\session.py\u001b\\\u001b[2msession.py\u001b[0m\u001b]8;;\u001b\\\u001b[2m:\u001b[0m\u001b]8;id=520345;file://c:\\Users\\gufer\\miniconda3\\envs\\mtg_env\\Lib\\site-packages\\kedro\\framework\\session\\session.py#327\u001b\\\u001b[2m327\u001b[0m\u001b]8;;\u001b\\\n"
      ]
     },
     "metadata": {},
     "output_type": "display_data"
    },
    {
     "data": {
      "text/html": [
       "<pre style=\"white-space:pre;overflow-x:auto;line-height:normal;font-family:Menlo,'DejaVu Sans Mono',consolas,'Courier New',monospace\"><span style=\"color: #7fbfbf; text-decoration-color: #7fbfbf\">                    </span><span style=\"color: #000080; text-decoration-color: #000080\">INFO    </span> Kedro is sending anonymous usage data with the sole purpose of improving <a href=\"file://c:\\Users\\gufer\\miniconda3\\envs\\mtg_env\\Lib\\site-packages\\kedro_telemetry\\plugin.py\" target=\"_blank\"><span style=\"color: #7f7f7f; text-decoration-color: #7f7f7f\">plugin.py</span></a><span style=\"color: #7f7f7f; text-decoration-color: #7f7f7f\">:</span><a href=\"file://c:\\Users\\gufer\\miniconda3\\envs\\mtg_env\\Lib\\site-packages\\kedro_telemetry\\plugin.py#233\" target=\"_blank\"><span style=\"color: #7f7f7f; text-decoration-color: #7f7f7f\">233</span></a>\n",
       "<span style=\"color: #7fbfbf; text-decoration-color: #7fbfbf\">                    </span>         the product. No personal data or IP addresses are stored on our side. If <span style=\"color: #7f7f7f; text-decoration-color: #7f7f7f\">             </span>\n",
       "<span style=\"color: #7fbfbf; text-decoration-color: #7fbfbf\">                    </span>         you want to opt out, set the `KEDRO_DISABLE_TELEMETRY` or `DO_NOT_TRACK` <span style=\"color: #7f7f7f; text-decoration-color: #7f7f7f\">             </span>\n",
       "<span style=\"color: #7fbfbf; text-decoration-color: #7fbfbf\">                    </span>         environment variables, or create a `.telemetry` file in the current      <span style=\"color: #7f7f7f; text-decoration-color: #7f7f7f\">             </span>\n",
       "<span style=\"color: #7fbfbf; text-decoration-color: #7fbfbf\">                    </span>         working directory with the contents `consent: false`. Read more at       <span style=\"color: #7f7f7f; text-decoration-color: #7f7f7f\">             </span>\n",
       "<span style=\"color: #7fbfbf; text-decoration-color: #7fbfbf\">                    </span>         <span style=\"color: #0000ff; text-decoration-color: #0000ff; text-decoration: underline\">https://docs.kedro.org/en/stable/configuration/telemetry.html</span>            <span style=\"color: #7f7f7f; text-decoration-color: #7f7f7f\">             </span>\n",
       "</pre>\n"
      ],
      "text/plain": [
       "\u001b[2;36m                   \u001b[0m\u001b[2;36m \u001b[0m\u001b[34mINFO    \u001b[0m Kedro is sending anonymous usage data with the sole purpose of improving \u001b]8;id=640053;file://c:\\Users\\gufer\\miniconda3\\envs\\mtg_env\\Lib\\site-packages\\kedro_telemetry\\plugin.py\u001b\\\u001b[2mplugin.py\u001b[0m\u001b]8;;\u001b\\\u001b[2m:\u001b[0m\u001b]8;id=386822;file://c:\\Users\\gufer\\miniconda3\\envs\\mtg_env\\Lib\\site-packages\\kedro_telemetry\\plugin.py#233\u001b\\\u001b[2m233\u001b[0m\u001b]8;;\u001b\\\n",
       "\u001b[2;36m                    \u001b[0m         the product. No personal data or IP addresses are stored on our side. If \u001b[2m             \u001b[0m\n",
       "\u001b[2;36m                    \u001b[0m         you want to opt out, set the `KEDRO_DISABLE_TELEMETRY` or `DO_NOT_TRACK` \u001b[2m             \u001b[0m\n",
       "\u001b[2;36m                    \u001b[0m         environment variables, or create a `.telemetry` file in the current      \u001b[2m             \u001b[0m\n",
       "\u001b[2;36m                    \u001b[0m         working directory with the contents `consent: false`. Read more at       \u001b[2m             \u001b[0m\n",
       "\u001b[2;36m                    \u001b[0m         \u001b[4;94mhttps://docs.kedro.org/en/stable/configuration/telemetry.html\u001b[0m            \u001b[2m             \u001b[0m\n"
      ]
     },
     "metadata": {},
     "output_type": "display_data"
    },
    {
     "data": {
      "text/html": [
       "<pre style=\"white-space:pre;overflow-x:auto;line-height:normal;font-family:Menlo,'DejaVu Sans Mono',consolas,'Courier New',monospace\"><span style=\"color: #7fbfbf; text-decoration-color: #7fbfbf\">[09/14/24 16:25:12] </span><span style=\"color: #000080; text-decoration-color: #000080\">INFO    </span> Using synchronous mode for loading and saving data. Use the    <a href=\"file://c:\\Users\\gufer\\miniconda3\\envs\\mtg_env\\Lib\\site-packages\\kedro\\runner\\sequential_runner.py\" target=\"_blank\"><span style=\"color: #7f7f7f; text-decoration-color: #7f7f7f\">sequential_runner.py</span></a><span style=\"color: #7f7f7f; text-decoration-color: #7f7f7f\">:</span><a href=\"file://c:\\Users\\gufer\\miniconda3\\envs\\mtg_env\\Lib\\site-packages\\kedro\\runner\\sequential_runner.py#67\" target=\"_blank\"><span style=\"color: #7f7f7f; text-decoration-color: #7f7f7f\">67</span></a>\n",
       "<span style=\"color: #7fbfbf; text-decoration-color: #7fbfbf\">                    </span>         --async flag for potential performance gains.                  <span style=\"color: #7f7f7f; text-decoration-color: #7f7f7f\">                       </span>\n",
       "<span style=\"color: #7fbfbf; text-decoration-color: #7fbfbf\">                    </span>         <span style=\"color: #0000ff; text-decoration-color: #0000ff; text-decoration: underline\">https://docs.kedro.org/en/stable/nodes_and_pipelines/run_a_pip</span> <span style=\"color: #7f7f7f; text-decoration-color: #7f7f7f\">                       </span>\n",
       "<span style=\"color: #7fbfbf; text-decoration-color: #7fbfbf\">                    </span>         <span style=\"color: #0000ff; text-decoration-color: #0000ff; text-decoration: underline\">eline.html#load-and-save-asynchronously</span>                        <span style=\"color: #7f7f7f; text-decoration-color: #7f7f7f\">                       </span>\n",
       "</pre>\n"
      ],
      "text/plain": [
       "\u001b[2;36m[09/14/24 16:25:12]\u001b[0m\u001b[2;36m \u001b[0m\u001b[34mINFO    \u001b[0m Using synchronous mode for loading and saving data. Use the    \u001b]8;id=661719;file://c:\\Users\\gufer\\miniconda3\\envs\\mtg_env\\Lib\\site-packages\\kedro\\runner\\sequential_runner.py\u001b\\\u001b[2msequential_runner.py\u001b[0m\u001b]8;;\u001b\\\u001b[2m:\u001b[0m\u001b]8;id=14689;file://c:\\Users\\gufer\\miniconda3\\envs\\mtg_env\\Lib\\site-packages\\kedro\\runner\\sequential_runner.py#67\u001b\\\u001b[2m67\u001b[0m\u001b]8;;\u001b\\\n",
       "\u001b[2;36m                    \u001b[0m         --async flag for potential performance gains.                  \u001b[2m                       \u001b[0m\n",
       "\u001b[2;36m                    \u001b[0m         \u001b[4;94mhttps://docs.kedro.org/en/stable/nodes_and_pipelines/run_a_pip\u001b[0m \u001b[2m                       \u001b[0m\n",
       "\u001b[2;36m                    \u001b[0m         \u001b[4;94meline.html#load-and-save-asynchronously\u001b[0m                        \u001b[2m                       \u001b[0m\n"
      ]
     },
     "metadata": {},
     "output_type": "display_data"
    },
    {
     "data": {
      "text/html": [
       "<pre style=\"white-space:pre;overflow-x:auto;line-height:normal;font-family:Menlo,'DejaVu Sans Mono',consolas,'Courier New',monospace\"><span style=\"color: #7fbfbf; text-decoration-color: #7fbfbf\">                    </span><span style=\"color: #000080; text-decoration-color: #000080\">INFO    </span> Loading data from <span style=\"color: #ff8700; text-decoration-color: #ff8700\">params:global.user.project_path</span>                  <a href=\"file://c:\\Users\\gufer\\miniconda3\\envs\\mtg_env\\Lib\\site-packages\\kedro\\io\\data_catalog.py\" target=\"_blank\"><span style=\"color: #7f7f7f; text-decoration-color: #7f7f7f\">data_catalog.py</span></a><span style=\"color: #7f7f7f; text-decoration-color: #7f7f7f\">:</span><a href=\"file://c:\\Users\\gufer\\miniconda3\\envs\\mtg_env\\Lib\\site-packages\\kedro\\io\\data_catalog.py#539\" target=\"_blank\"><span style=\"color: #7f7f7f; text-decoration-color: #7f7f7f\">539</span></a>\n",
       "<span style=\"color: #7fbfbf; text-decoration-color: #7fbfbf\">                    </span>         <span style=\"font-weight: bold\">(</span>MemoryDataset<span style=\"font-weight: bold\">)</span><span style=\"color: #808000; text-decoration-color: #808000\">...</span>                                                 <span style=\"color: #7f7f7f; text-decoration-color: #7f7f7f\">                   </span>\n",
       "</pre>\n"
      ],
      "text/plain": [
       "\u001b[2;36m                   \u001b[0m\u001b[2;36m \u001b[0m\u001b[34mINFO    \u001b[0m Loading data from \u001b[38;5;208mparams:global.user.project_path\u001b[0m                  \u001b]8;id=1100;file://c:\\Users\\gufer\\miniconda3\\envs\\mtg_env\\Lib\\site-packages\\kedro\\io\\data_catalog.py\u001b\\\u001b[2mdata_catalog.py\u001b[0m\u001b]8;;\u001b\\\u001b[2m:\u001b[0m\u001b]8;id=171812;file://c:\\Users\\gufer\\miniconda3\\envs\\mtg_env\\Lib\\site-packages\\kedro\\io\\data_catalog.py#539\u001b\\\u001b[2m539\u001b[0m\u001b]8;;\u001b\\\n",
       "\u001b[2;36m                    \u001b[0m         \u001b[1m(\u001b[0mMemoryDataset\u001b[1m)\u001b[0m\u001b[33m...\u001b[0m                                                 \u001b[2m                   \u001b[0m\n"
      ]
     },
     "metadata": {},
     "output_type": "display_data"
    },
    {
     "data": {
      "text/html": [
       "<pre style=\"white-space:pre;overflow-x:auto;line-height:normal;font-family:Menlo,'DejaVu Sans Mono',consolas,'Courier New',monospace\"><span style=\"color: #7fbfbf; text-decoration-color: #7fbfbf\">                    </span><span style=\"color: #000080; text-decoration-color: #000080\">INFO    </span> Loading data from <span style=\"color: #ff8700; text-decoration-color: #ff8700\">params:preprocessing.webscraper.zip_url</span>          <a href=\"file://c:\\Users\\gufer\\miniconda3\\envs\\mtg_env\\Lib\\site-packages\\kedro\\io\\data_catalog.py\" target=\"_blank\"><span style=\"color: #7f7f7f; text-decoration-color: #7f7f7f\">data_catalog.py</span></a><span style=\"color: #7f7f7f; text-decoration-color: #7f7f7f\">:</span><a href=\"file://c:\\Users\\gufer\\miniconda3\\envs\\mtg_env\\Lib\\site-packages\\kedro\\io\\data_catalog.py#539\" target=\"_blank\"><span style=\"color: #7f7f7f; text-decoration-color: #7f7f7f\">539</span></a>\n",
       "<span style=\"color: #7fbfbf; text-decoration-color: #7fbfbf\">                    </span>         <span style=\"font-weight: bold\">(</span>MemoryDataset<span style=\"font-weight: bold\">)</span><span style=\"color: #808000; text-decoration-color: #808000\">...</span>                                                 <span style=\"color: #7f7f7f; text-decoration-color: #7f7f7f\">                   </span>\n",
       "</pre>\n"
      ],
      "text/plain": [
       "\u001b[2;36m                   \u001b[0m\u001b[2;36m \u001b[0m\u001b[34mINFO    \u001b[0m Loading data from \u001b[38;5;208mparams:preprocessing.webscraper.zip_url\u001b[0m          \u001b]8;id=425146;file://c:\\Users\\gufer\\miniconda3\\envs\\mtg_env\\Lib\\site-packages\\kedro\\io\\data_catalog.py\u001b\\\u001b[2mdata_catalog.py\u001b[0m\u001b]8;;\u001b\\\u001b[2m:\u001b[0m\u001b]8;id=736705;file://c:\\Users\\gufer\\miniconda3\\envs\\mtg_env\\Lib\\site-packages\\kedro\\io\\data_catalog.py#539\u001b\\\u001b[2m539\u001b[0m\u001b]8;;\u001b\\\n",
       "\u001b[2;36m                    \u001b[0m         \u001b[1m(\u001b[0mMemoryDataset\u001b[1m)\u001b[0m\u001b[33m...\u001b[0m                                                 \u001b[2m                   \u001b[0m\n"
      ]
     },
     "metadata": {},
     "output_type": "display_data"
    },
    {
     "data": {
      "text/html": [
       "<pre style=\"white-space:pre;overflow-x:auto;line-height:normal;font-family:Menlo,'DejaVu Sans Mono',consolas,'Courier New',monospace\"><span style=\"color: #7fbfbf; text-decoration-color: #7fbfbf\">                    </span><span style=\"color: #000080; text-decoration-color: #000080\">INFO    </span> Loading data from <span style=\"color: #ff8700; text-decoration-color: #ff8700\">params:preprocessing.webscraper.zip_folder</span>       <a href=\"file://c:\\Users\\gufer\\miniconda3\\envs\\mtg_env\\Lib\\site-packages\\kedro\\io\\data_catalog.py\" target=\"_blank\"><span style=\"color: #7f7f7f; text-decoration-color: #7f7f7f\">data_catalog.py</span></a><span style=\"color: #7f7f7f; text-decoration-color: #7f7f7f\">:</span><a href=\"file://c:\\Users\\gufer\\miniconda3\\envs\\mtg_env\\Lib\\site-packages\\kedro\\io\\data_catalog.py#539\" target=\"_blank\"><span style=\"color: #7f7f7f; text-decoration-color: #7f7f7f\">539</span></a>\n",
       "<span style=\"color: #7fbfbf; text-decoration-color: #7fbfbf\">                    </span>         <span style=\"font-weight: bold\">(</span>MemoryDataset<span style=\"font-weight: bold\">)</span><span style=\"color: #808000; text-decoration-color: #808000\">...</span>                                                 <span style=\"color: #7f7f7f; text-decoration-color: #7f7f7f\">                   </span>\n",
       "</pre>\n"
      ],
      "text/plain": [
       "\u001b[2;36m                   \u001b[0m\u001b[2;36m \u001b[0m\u001b[34mINFO    \u001b[0m Loading data from \u001b[38;5;208mparams:preprocessing.webscraper.zip_folder\u001b[0m       \u001b]8;id=832130;file://c:\\Users\\gufer\\miniconda3\\envs\\mtg_env\\Lib\\site-packages\\kedro\\io\\data_catalog.py\u001b\\\u001b[2mdata_catalog.py\u001b[0m\u001b]8;;\u001b\\\u001b[2m:\u001b[0m\u001b]8;id=736229;file://c:\\Users\\gufer\\miniconda3\\envs\\mtg_env\\Lib\\site-packages\\kedro\\io\\data_catalog.py#539\u001b\\\u001b[2m539\u001b[0m\u001b]8;;\u001b\\\n",
       "\u001b[2;36m                    \u001b[0m         \u001b[1m(\u001b[0mMemoryDataset\u001b[1m)\u001b[0m\u001b[33m...\u001b[0m                                                 \u001b[2m                   \u001b[0m\n"
      ]
     },
     "metadata": {},
     "output_type": "display_data"
    },
    {
     "data": {
      "text/html": [
       "<pre style=\"white-space:pre;overflow-x:auto;line-height:normal;font-family:Menlo,'DejaVu Sans Mono',consolas,'Courier New',monospace\"><span style=\"color: #7fbfbf; text-decoration-color: #7fbfbf\">                    </span><span style=\"color: #000080; text-decoration-color: #000080\">INFO    </span> Running node: get_deck_zip_from_web_node:                                  <a href=\"file://c:\\Users\\gufer\\miniconda3\\envs\\mtg_env\\Lib\\site-packages\\kedro\\pipeline\\node.py\" target=\"_blank\"><span style=\"color: #7f7f7f; text-decoration-color: #7f7f7f\">node.py</span></a><span style=\"color: #7f7f7f; text-decoration-color: #7f7f7f\">:</span><a href=\"file://c:\\Users\\gufer\\miniconda3\\envs\\mtg_env\\Lib\\site-packages\\kedro\\pipeline\\node.py#364\" target=\"_blank\"><span style=\"color: #7f7f7f; text-decoration-color: #7f7f7f\">364</span></a>\n",
       "<span style=\"color: #7fbfbf; text-decoration-color: #7fbfbf\">                    </span>         <span style=\"color: #800080; text-decoration-color: #800080; font-weight: bold\">get_deck_zip_from_web</span><span style=\"font-weight: bold\">([</span>params:global.user.project_path;params:preprocessin <span style=\"color: #7f7f7f; text-decoration-color: #7f7f7f\">           </span>\n",
       "<span style=\"color: #7fbfbf; text-decoration-color: #7fbfbf\">                    </span>         g.webscraper.zip_url;params:preprocessing.webscraper.zip_folder<span style=\"font-weight: bold\">])</span> -&gt; <span style=\"color: #800080; text-decoration-color: #800080; font-style: italic\">None</span>  <span style=\"color: #7f7f7f; text-decoration-color: #7f7f7f\">           </span>\n",
       "</pre>\n"
      ],
      "text/plain": [
       "\u001b[2;36m                   \u001b[0m\u001b[2;36m \u001b[0m\u001b[34mINFO    \u001b[0m Running node: get_deck_zip_from_web_node:                                  \u001b]8;id=292990;file://c:\\Users\\gufer\\miniconda3\\envs\\mtg_env\\Lib\\site-packages\\kedro\\pipeline\\node.py\u001b\\\u001b[2mnode.py\u001b[0m\u001b]8;;\u001b\\\u001b[2m:\u001b[0m\u001b]8;id=715764;file://c:\\Users\\gufer\\miniconda3\\envs\\mtg_env\\Lib\\site-packages\\kedro\\pipeline\\node.py#364\u001b\\\u001b[2m364\u001b[0m\u001b]8;;\u001b\\\n",
       "\u001b[2;36m                    \u001b[0m         \u001b[1;35mget_deck_zip_from_web\u001b[0m\u001b[1m(\u001b[0m\u001b[1m[\u001b[0mparams:global.user.project_path;params:preprocessin \u001b[2m           \u001b[0m\n",
       "\u001b[2;36m                    \u001b[0m         g.webscraper.zip_url;params:preprocessing.webscraper.zip_folder\u001b[1m]\u001b[0m\u001b[1m)\u001b[0m -> \u001b[3;35mNone\u001b[0m  \u001b[2m           \u001b[0m\n"
      ]
     },
     "metadata": {},
     "output_type": "display_data"
    },
    {
     "name": "stderr",
     "output_type": "stream",
     "text": [
      "2024-09-14 16:25:14,562 - INFO - Zip dos decklists baixado com sucesso em: C:/Users/gufer/OneDrive/Documentos/FIAP/Fase_03/mtg-project\\data/01_raw/AllDeckFiles.zip\n",
      "2024-09-14 16:25:17,647 - INFO - Arquivos JSON extraídos com sucesso em: C:/Users/gufer/OneDrive/Documentos/FIAP/Fase_03/mtg-project\\data/01_raw/decks_json\n",
      "2024-09-14 16:25:17,658 - INFO - Arquivo ZIP removido após extração!\n"
     ]
    },
    {
     "data": {
      "text/html": [
       "<pre style=\"white-space:pre;overflow-x:auto;line-height:normal;font-family:Menlo,'DejaVu Sans Mono',consolas,'Courier New',monospace\"><span style=\"color: #7fbfbf; text-decoration-color: #7fbfbf\">[09/14/24 16:25:17] </span><span style=\"color: #000080; text-decoration-color: #000080\">INFO    </span> Completed <span style=\"color: #008080; text-decoration-color: #008080; font-weight: bold\">1</span> out of <span style=\"color: #008080; text-decoration-color: #008080; font-weight: bold\">3</span> tasks                                     <a href=\"file://c:\\Users\\gufer\\miniconda3\\envs\\mtg_env\\Lib\\site-packages\\kedro\\runner\\sequential_runner.py\" target=\"_blank\"><span style=\"color: #7f7f7f; text-decoration-color: #7f7f7f\">sequential_runner.py</span></a><span style=\"color: #7f7f7f; text-decoration-color: #7f7f7f\">:</span><a href=\"file://c:\\Users\\gufer\\miniconda3\\envs\\mtg_env\\Lib\\site-packages\\kedro\\runner\\sequential_runner.py#93\" target=\"_blank\"><span style=\"color: #7f7f7f; text-decoration-color: #7f7f7f\">93</span></a>\n",
       "</pre>\n"
      ],
      "text/plain": [
       "\u001b[2;36m[09/14/24 16:25:17]\u001b[0m\u001b[2;36m \u001b[0m\u001b[34mINFO    \u001b[0m Completed \u001b[1;36m1\u001b[0m out of \u001b[1;36m3\u001b[0m tasks                                     \u001b]8;id=610534;file://c:\\Users\\gufer\\miniconda3\\envs\\mtg_env\\Lib\\site-packages\\kedro\\runner\\sequential_runner.py\u001b\\\u001b[2msequential_runner.py\u001b[0m\u001b]8;;\u001b\\\u001b[2m:\u001b[0m\u001b]8;id=233474;file://c:\\Users\\gufer\\miniconda3\\envs\\mtg_env\\Lib\\site-packages\\kedro\\runner\\sequential_runner.py#93\u001b\\\u001b[2m93\u001b[0m\u001b]8;;\u001b\\\n"
      ]
     },
     "metadata": {},
     "output_type": "display_data"
    },
    {
     "data": {
      "text/html": [
       "<pre style=\"white-space:pre;overflow-x:auto;line-height:normal;font-family:Menlo,'DejaVu Sans Mono',consolas,'Courier New',monospace\"><span style=\"color: #7fbfbf; text-decoration-color: #7fbfbf\">                    </span><span style=\"color: #000080; text-decoration-color: #000080\">INFO    </span> Loading data from <span style=\"color: #ff8700; text-decoration-color: #ff8700\">decks_json_partitioned</span> <span style=\"font-weight: bold\">(</span>PartitionedDataset<span style=\"font-weight: bold\">)</span><span style=\"color: #808000; text-decoration-color: #808000\">...</span>   <a href=\"file://c:\\Users\\gufer\\miniconda3\\envs\\mtg_env\\Lib\\site-packages\\kedro\\io\\data_catalog.py\" target=\"_blank\"><span style=\"color: #7f7f7f; text-decoration-color: #7f7f7f\">data_catalog.py</span></a><span style=\"color: #7f7f7f; text-decoration-color: #7f7f7f\">:</span><a href=\"file://c:\\Users\\gufer\\miniconda3\\envs\\mtg_env\\Lib\\site-packages\\kedro\\io\\data_catalog.py#539\" target=\"_blank\"><span style=\"color: #7f7f7f; text-decoration-color: #7f7f7f\">539</span></a>\n",
       "</pre>\n"
      ],
      "text/plain": [
       "\u001b[2;36m                   \u001b[0m\u001b[2;36m \u001b[0m\u001b[34mINFO    \u001b[0m Loading data from \u001b[38;5;208mdecks_json_partitioned\u001b[0m \u001b[1m(\u001b[0mPartitionedDataset\u001b[1m)\u001b[0m\u001b[33m...\u001b[0m   \u001b]8;id=119767;file://c:\\Users\\gufer\\miniconda3\\envs\\mtg_env\\Lib\\site-packages\\kedro\\io\\data_catalog.py\u001b\\\u001b[2mdata_catalog.py\u001b[0m\u001b]8;;\u001b\\\u001b[2m:\u001b[0m\u001b]8;id=124265;file://c:\\Users\\gufer\\miniconda3\\envs\\mtg_env\\Lib\\site-packages\\kedro\\io\\data_catalog.py#539\u001b\\\u001b[2m539\u001b[0m\u001b]8;;\u001b\\\n"
      ]
     },
     "metadata": {},
     "output_type": "display_data"
    },
    {
     "data": {
      "text/html": [
       "<pre style=\"white-space:pre;overflow-x:auto;line-height:normal;font-family:Menlo,'DejaVu Sans Mono',consolas,'Courier New',monospace\"><span style=\"color: #7fbfbf; text-decoration-color: #7fbfbf\">                    </span><span style=\"color: #000080; text-decoration-color: #000080\">INFO    </span> Loading data from <span style=\"color: #ff8700; text-decoration-color: #ff8700\">params:preprocessing.webscraper.deck_cards</span>       <a href=\"file://c:\\Users\\gufer\\miniconda3\\envs\\mtg_env\\Lib\\site-packages\\kedro\\io\\data_catalog.py\" target=\"_blank\"><span style=\"color: #7f7f7f; text-decoration-color: #7f7f7f\">data_catalog.py</span></a><span style=\"color: #7f7f7f; text-decoration-color: #7f7f7f\">:</span><a href=\"file://c:\\Users\\gufer\\miniconda3\\envs\\mtg_env\\Lib\\site-packages\\kedro\\io\\data_catalog.py#539\" target=\"_blank\"><span style=\"color: #7f7f7f; text-decoration-color: #7f7f7f\">539</span></a>\n",
       "<span style=\"color: #7fbfbf; text-decoration-color: #7fbfbf\">                    </span>         <span style=\"font-weight: bold\">(</span>MemoryDataset<span style=\"font-weight: bold\">)</span><span style=\"color: #808000; text-decoration-color: #808000\">...</span>                                                 <span style=\"color: #7f7f7f; text-decoration-color: #7f7f7f\">                   </span>\n",
       "</pre>\n"
      ],
      "text/plain": [
       "\u001b[2;36m                   \u001b[0m\u001b[2;36m \u001b[0m\u001b[34mINFO    \u001b[0m Loading data from \u001b[38;5;208mparams:preprocessing.webscraper.deck_cards\u001b[0m       \u001b]8;id=274599;file://c:\\Users\\gufer\\miniconda3\\envs\\mtg_env\\Lib\\site-packages\\kedro\\io\\data_catalog.py\u001b\\\u001b[2mdata_catalog.py\u001b[0m\u001b]8;;\u001b\\\u001b[2m:\u001b[0m\u001b]8;id=560482;file://c:\\Users\\gufer\\miniconda3\\envs\\mtg_env\\Lib\\site-packages\\kedro\\io\\data_catalog.py#539\u001b\\\u001b[2m539\u001b[0m\u001b]8;;\u001b\\\n",
       "\u001b[2;36m                    \u001b[0m         \u001b[1m(\u001b[0mMemoryDataset\u001b[1m)\u001b[0m\u001b[33m...\u001b[0m                                                 \u001b[2m                   \u001b[0m\n"
      ]
     },
     "metadata": {},
     "output_type": "display_data"
    },
    {
     "data": {
      "text/html": [
       "<pre style=\"white-space:pre;overflow-x:auto;line-height:normal;font-family:Menlo,'DejaVu Sans Mono',consolas,'Courier New',monospace\"><span style=\"color: #7fbfbf; text-decoration-color: #7fbfbf\">                    </span><span style=\"color: #000080; text-decoration-color: #000080\">INFO    </span> Loading data from <span style=\"color: #ff8700; text-decoration-color: #ff8700\">params:preprocessing.webscraper.log_folder</span>       <a href=\"file://c:\\Users\\gufer\\miniconda3\\envs\\mtg_env\\Lib\\site-packages\\kedro\\io\\data_catalog.py\" target=\"_blank\"><span style=\"color: #7f7f7f; text-decoration-color: #7f7f7f\">data_catalog.py</span></a><span style=\"color: #7f7f7f; text-decoration-color: #7f7f7f\">:</span><a href=\"file://c:\\Users\\gufer\\miniconda3\\envs\\mtg_env\\Lib\\site-packages\\kedro\\io\\data_catalog.py#539\" target=\"_blank\"><span style=\"color: #7f7f7f; text-decoration-color: #7f7f7f\">539</span></a>\n",
       "<span style=\"color: #7fbfbf; text-decoration-color: #7fbfbf\">                    </span>         <span style=\"font-weight: bold\">(</span>MemoryDataset<span style=\"font-weight: bold\">)</span><span style=\"color: #808000; text-decoration-color: #808000\">...</span>                                                 <span style=\"color: #7f7f7f; text-decoration-color: #7f7f7f\">                   </span>\n",
       "</pre>\n"
      ],
      "text/plain": [
       "\u001b[2;36m                   \u001b[0m\u001b[2;36m \u001b[0m\u001b[34mINFO    \u001b[0m Loading data from \u001b[38;5;208mparams:preprocessing.webscraper.log_folder\u001b[0m       \u001b]8;id=530409;file://c:\\Users\\gufer\\miniconda3\\envs\\mtg_env\\Lib\\site-packages\\kedro\\io\\data_catalog.py\u001b\\\u001b[2mdata_catalog.py\u001b[0m\u001b]8;;\u001b\\\u001b[2m:\u001b[0m\u001b]8;id=180438;file://c:\\Users\\gufer\\miniconda3\\envs\\mtg_env\\Lib\\site-packages\\kedro\\io\\data_catalog.py#539\u001b\\\u001b[2m539\u001b[0m\u001b]8;;\u001b\\\n",
       "\u001b[2;36m                    \u001b[0m         \u001b[1m(\u001b[0mMemoryDataset\u001b[1m)\u001b[0m\u001b[33m...\u001b[0m                                                 \u001b[2m                   \u001b[0m\n"
      ]
     },
     "metadata": {},
     "output_type": "display_data"
    },
    {
     "data": {
      "text/html": [
       "<pre style=\"white-space:pre;overflow-x:auto;line-height:normal;font-family:Menlo,'DejaVu Sans Mono',consolas,'Courier New',monospace\"><span style=\"color: #7fbfbf; text-decoration-color: #7fbfbf\">                    </span><span style=\"color: #000080; text-decoration-color: #000080\">INFO    </span> Running node: pp_decks_from_json_files_node:                               <a href=\"file://c:\\Users\\gufer\\miniconda3\\envs\\mtg_env\\Lib\\site-packages\\kedro\\pipeline\\node.py\" target=\"_blank\"><span style=\"color: #7f7f7f; text-decoration-color: #7f7f7f\">node.py</span></a><span style=\"color: #7f7f7f; text-decoration-color: #7f7f7f\">:</span><a href=\"file://c:\\Users\\gufer\\miniconda3\\envs\\mtg_env\\Lib\\site-packages\\kedro\\pipeline\\node.py#364\" target=\"_blank\"><span style=\"color: #7f7f7f; text-decoration-color: #7f7f7f\">364</span></a>\n",
       "<span style=\"color: #7fbfbf; text-decoration-color: #7fbfbf\">                    </span>         <span style=\"color: #800080; text-decoration-color: #800080; font-weight: bold\">pp_decks_from_json_files</span><span style=\"font-weight: bold\">([</span>decks_json_partitioned;params:preprocessing.webs <span style=\"color: #7f7f7f; text-decoration-color: #7f7f7f\">           </span>\n",
       "<span style=\"color: #7fbfbf; text-decoration-color: #7fbfbf\">                    </span>         craper.deck_cards;params:preprocessing.webscraper.log_folder<span style=\"font-weight: bold\">])</span> -&gt;          <span style=\"color: #7f7f7f; text-decoration-color: #7f7f7f\">           </span>\n",
       "<span style=\"color: #7fbfbf; text-decoration-color: #7fbfbf\">                    </span>         <span style=\"font-weight: bold\">[</span>decks_txt_partitioned<span style=\"font-weight: bold\">]</span>                                                    <span style=\"color: #7f7f7f; text-decoration-color: #7f7f7f\">           </span>\n",
       "</pre>\n"
      ],
      "text/plain": [
       "\u001b[2;36m                   \u001b[0m\u001b[2;36m \u001b[0m\u001b[34mINFO    \u001b[0m Running node: pp_decks_from_json_files_node:                               \u001b]8;id=831708;file://c:\\Users\\gufer\\miniconda3\\envs\\mtg_env\\Lib\\site-packages\\kedro\\pipeline\\node.py\u001b\\\u001b[2mnode.py\u001b[0m\u001b]8;;\u001b\\\u001b[2m:\u001b[0m\u001b]8;id=975491;file://c:\\Users\\gufer\\miniconda3\\envs\\mtg_env\\Lib\\site-packages\\kedro\\pipeline\\node.py#364\u001b\\\u001b[2m364\u001b[0m\u001b]8;;\u001b\\\n",
       "\u001b[2;36m                    \u001b[0m         \u001b[1;35mpp_decks_from_json_files\u001b[0m\u001b[1m(\u001b[0m\u001b[1m[\u001b[0mdecks_json_partitioned;params:preprocessing.webs \u001b[2m           \u001b[0m\n",
       "\u001b[2;36m                    \u001b[0m         craper.deck_cards;params:preprocessing.webscraper.log_folder\u001b[1m]\u001b[0m\u001b[1m)\u001b[0m ->          \u001b[2m           \u001b[0m\n",
       "\u001b[2;36m                    \u001b[0m         \u001b[1m[\u001b[0mdecks_txt_partitioned\u001b[1m]\u001b[0m                                                    \u001b[2m           \u001b[0m\n"
      ]
     },
     "metadata": {},
     "output_type": "display_data"
    },
    {
     "data": {
      "text/html": [
       "<pre style=\"white-space:pre;overflow-x:auto;line-height:normal;font-family:Menlo,'DejaVu Sans Mono',consolas,'Courier New',monospace\"><span style=\"color: #7fbfbf; text-decoration-color: #7fbfbf\">[09/14/24 16:26:22] </span><span style=\"color: #000080; text-decoration-color: #000080\">INFO    </span> Saving data to <span style=\"color: #ff8700; text-decoration-color: #ff8700\">decks_txt_partitioned</span> <span style=\"font-weight: bold\">(</span>PartitionedDataset<span style=\"font-weight: bold\">)</span><span style=\"color: #808000; text-decoration-color: #808000\">...</span>       <a href=\"file://c:\\Users\\gufer\\miniconda3\\envs\\mtg_env\\Lib\\site-packages\\kedro\\io\\data_catalog.py\" target=\"_blank\"><span style=\"color: #7f7f7f; text-decoration-color: #7f7f7f\">data_catalog.py</span></a><span style=\"color: #7f7f7f; text-decoration-color: #7f7f7f\">:</span><a href=\"file://c:\\Users\\gufer\\miniconda3\\envs\\mtg_env\\Lib\\site-packages\\kedro\\io\\data_catalog.py#581\" target=\"_blank\"><span style=\"color: #7f7f7f; text-decoration-color: #7f7f7f\">581</span></a>\n",
       "</pre>\n"
      ],
      "text/plain": [
       "\u001b[2;36m[09/14/24 16:26:22]\u001b[0m\u001b[2;36m \u001b[0m\u001b[34mINFO    \u001b[0m Saving data to \u001b[38;5;208mdecks_txt_partitioned\u001b[0m \u001b[1m(\u001b[0mPartitionedDataset\u001b[1m)\u001b[0m\u001b[33m...\u001b[0m       \u001b]8;id=424097;file://c:\\Users\\gufer\\miniconda3\\envs\\mtg_env\\Lib\\site-packages\\kedro\\io\\data_catalog.py\u001b\\\u001b[2mdata_catalog.py\u001b[0m\u001b]8;;\u001b\\\u001b[2m:\u001b[0m\u001b]8;id=556557;file://c:\\Users\\gufer\\miniconda3\\envs\\mtg_env\\Lib\\site-packages\\kedro\\io\\data_catalog.py#581\u001b\\\u001b[2m581\u001b[0m\u001b]8;;\u001b\\\n"
      ]
     },
     "metadata": {},
     "output_type": "display_data"
    },
    {
     "data": {
      "text/html": [
       "<pre style=\"white-space:pre;overflow-x:auto;line-height:normal;font-family:Menlo,'DejaVu Sans Mono',consolas,'Courier New',monospace\"><span style=\"color: #7fbfbf; text-decoration-color: #7fbfbf\">[09/14/24 16:26:23] </span><span style=\"color: #000080; text-decoration-color: #000080\">INFO    </span> Completed <span style=\"color: #008080; text-decoration-color: #008080; font-weight: bold\">2</span> out of <span style=\"color: #008080; text-decoration-color: #008080; font-weight: bold\">3</span> tasks                                     <a href=\"file://c:\\Users\\gufer\\miniconda3\\envs\\mtg_env\\Lib\\site-packages\\kedro\\runner\\sequential_runner.py\" target=\"_blank\"><span style=\"color: #7f7f7f; text-decoration-color: #7f7f7f\">sequential_runner.py</span></a><span style=\"color: #7f7f7f; text-decoration-color: #7f7f7f\">:</span><a href=\"file://c:\\Users\\gufer\\miniconda3\\envs\\mtg_env\\Lib\\site-packages\\kedro\\runner\\sequential_runner.py#93\" target=\"_blank\"><span style=\"color: #7f7f7f; text-decoration-color: #7f7f7f\">93</span></a>\n",
       "</pre>\n"
      ],
      "text/plain": [
       "\u001b[2;36m[09/14/24 16:26:23]\u001b[0m\u001b[2;36m \u001b[0m\u001b[34mINFO    \u001b[0m Completed \u001b[1;36m2\u001b[0m out of \u001b[1;36m3\u001b[0m tasks                                     \u001b]8;id=265152;file://c:\\Users\\gufer\\miniconda3\\envs\\mtg_env\\Lib\\site-packages\\kedro\\runner\\sequential_runner.py\u001b\\\u001b[2msequential_runner.py\u001b[0m\u001b]8;;\u001b\\\u001b[2m:\u001b[0m\u001b]8;id=344023;file://c:\\Users\\gufer\\miniconda3\\envs\\mtg_env\\Lib\\site-packages\\kedro\\runner\\sequential_runner.py#93\u001b\\\u001b[2m93\u001b[0m\u001b]8;;\u001b\\\n"
      ]
     },
     "metadata": {},
     "output_type": "display_data"
    },
    {
     "data": {
      "text/html": [
       "<pre style=\"white-space:pre;overflow-x:auto;line-height:normal;font-family:Menlo,'DejaVu Sans Mono',consolas,'Courier New',monospace\"><span style=\"color: #7fbfbf; text-decoration-color: #7fbfbf\">                    </span><span style=\"color: #000080; text-decoration-color: #000080\">INFO    </span> Loading data from <span style=\"color: #ff8700; text-decoration-color: #ff8700\">decks_txt_partitioned</span> <span style=\"font-weight: bold\">(</span>PartitionedDataset<span style=\"font-weight: bold\">)</span><span style=\"color: #808000; text-decoration-color: #808000\">...</span>    <a href=\"file://c:\\Users\\gufer\\miniconda3\\envs\\mtg_env\\Lib\\site-packages\\kedro\\io\\data_catalog.py\" target=\"_blank\"><span style=\"color: #7f7f7f; text-decoration-color: #7f7f7f\">data_catalog.py</span></a><span style=\"color: #7f7f7f; text-decoration-color: #7f7f7f\">:</span><a href=\"file://c:\\Users\\gufer\\miniconda3\\envs\\mtg_env\\Lib\\site-packages\\kedro\\io\\data_catalog.py#539\" target=\"_blank\"><span style=\"color: #7f7f7f; text-decoration-color: #7f7f7f\">539</span></a>\n",
       "</pre>\n"
      ],
      "text/plain": [
       "\u001b[2;36m                   \u001b[0m\u001b[2;36m \u001b[0m\u001b[34mINFO    \u001b[0m Loading data from \u001b[38;5;208mdecks_txt_partitioned\u001b[0m \u001b[1m(\u001b[0mPartitionedDataset\u001b[1m)\u001b[0m\u001b[33m...\u001b[0m    \u001b]8;id=576065;file://c:\\Users\\gufer\\miniconda3\\envs\\mtg_env\\Lib\\site-packages\\kedro\\io\\data_catalog.py\u001b\\\u001b[2mdata_catalog.py\u001b[0m\u001b]8;;\u001b\\\u001b[2m:\u001b[0m\u001b]8;id=257539;file://c:\\Users\\gufer\\miniconda3\\envs\\mtg_env\\Lib\\site-packages\\kedro\\io\\data_catalog.py#539\u001b\\\u001b[2m539\u001b[0m\u001b]8;;\u001b\\\n"
      ]
     },
     "metadata": {},
     "output_type": "display_data"
    },
    {
     "data": {
      "text/html": [
       "<pre style=\"white-space:pre;overflow-x:auto;line-height:normal;font-family:Menlo,'DejaVu Sans Mono',consolas,'Courier New',monospace\"><span style=\"color: #7fbfbf; text-decoration-color: #7fbfbf\">                    </span><span style=\"color: #000080; text-decoration-color: #000080\">INFO    </span> Loading data from                                                  <a href=\"file://c:\\Users\\gufer\\miniconda3\\envs\\mtg_env\\Lib\\site-packages\\kedro\\io\\data_catalog.py\" target=\"_blank\"><span style=\"color: #7f7f7f; text-decoration-color: #7f7f7f\">data_catalog.py</span></a><span style=\"color: #7f7f7f; text-decoration-color: #7f7f7f\">:</span><a href=\"file://c:\\Users\\gufer\\miniconda3\\envs\\mtg_env\\Lib\\site-packages\\kedro\\io\\data_catalog.py#539\" target=\"_blank\"><span style=\"color: #7f7f7f; text-decoration-color: #7f7f7f\">539</span></a>\n",
       "<span style=\"color: #7fbfbf; text-decoration-color: #7fbfbf\">                    </span>         <span style=\"color: #ff8700; text-decoration-color: #ff8700\">params:preprocessing.webscraper.sample_size_ratio</span>                  <span style=\"color: #7f7f7f; text-decoration-color: #7f7f7f\">                   </span>\n",
       "<span style=\"color: #7fbfbf; text-decoration-color: #7fbfbf\">                    </span>         <span style=\"font-weight: bold\">(</span>MemoryDataset<span style=\"font-weight: bold\">)</span><span style=\"color: #808000; text-decoration-color: #808000\">...</span>                                                 <span style=\"color: #7f7f7f; text-decoration-color: #7f7f7f\">                   </span>\n",
       "</pre>\n"
      ],
      "text/plain": [
       "\u001b[2;36m                   \u001b[0m\u001b[2;36m \u001b[0m\u001b[34mINFO    \u001b[0m Loading data from                                                  \u001b]8;id=679648;file://c:\\Users\\gufer\\miniconda3\\envs\\mtg_env\\Lib\\site-packages\\kedro\\io\\data_catalog.py\u001b\\\u001b[2mdata_catalog.py\u001b[0m\u001b]8;;\u001b\\\u001b[2m:\u001b[0m\u001b]8;id=955034;file://c:\\Users\\gufer\\miniconda3\\envs\\mtg_env\\Lib\\site-packages\\kedro\\io\\data_catalog.py#539\u001b\\\u001b[2m539\u001b[0m\u001b]8;;\u001b\\\n",
       "\u001b[2;36m                    \u001b[0m         \u001b[38;5;208mparams:preprocessing.webscraper.sample_size_ratio\u001b[0m                  \u001b[2m                   \u001b[0m\n",
       "\u001b[2;36m                    \u001b[0m         \u001b[1m(\u001b[0mMemoryDataset\u001b[1m)\u001b[0m\u001b[33m...\u001b[0m                                                 \u001b[2m                   \u001b[0m\n"
      ]
     },
     "metadata": {},
     "output_type": "display_data"
    },
    {
     "data": {
      "text/html": [
       "<pre style=\"white-space:pre;overflow-x:auto;line-height:normal;font-family:Menlo,'DejaVu Sans Mono',consolas,'Courier New',monospace\"><span style=\"color: #7fbfbf; text-decoration-color: #7fbfbf\">                    </span><span style=\"color: #000080; text-decoration-color: #000080\">INFO    </span> Loading data from <span style=\"color: #ff8700; text-decoration-color: #ff8700\">params:preprocessing.webscraper.log_folder</span>       <a href=\"file://c:\\Users\\gufer\\miniconda3\\envs\\mtg_env\\Lib\\site-packages\\kedro\\io\\data_catalog.py\" target=\"_blank\"><span style=\"color: #7f7f7f; text-decoration-color: #7f7f7f\">data_catalog.py</span></a><span style=\"color: #7f7f7f; text-decoration-color: #7f7f7f\">:</span><a href=\"file://c:\\Users\\gufer\\miniconda3\\envs\\mtg_env\\Lib\\site-packages\\kedro\\io\\data_catalog.py#539\" target=\"_blank\"><span style=\"color: #7f7f7f; text-decoration-color: #7f7f7f\">539</span></a>\n",
       "<span style=\"color: #7fbfbf; text-decoration-color: #7fbfbf\">                    </span>         <span style=\"font-weight: bold\">(</span>MemoryDataset<span style=\"font-weight: bold\">)</span><span style=\"color: #808000; text-decoration-color: #808000\">...</span>                                                 <span style=\"color: #7f7f7f; text-decoration-color: #7f7f7f\">                   </span>\n",
       "</pre>\n"
      ],
      "text/plain": [
       "\u001b[2;36m                   \u001b[0m\u001b[2;36m \u001b[0m\u001b[34mINFO    \u001b[0m Loading data from \u001b[38;5;208mparams:preprocessing.webscraper.log_folder\u001b[0m       \u001b]8;id=265193;file://c:\\Users\\gufer\\miniconda3\\envs\\mtg_env\\Lib\\site-packages\\kedro\\io\\data_catalog.py\u001b\\\u001b[2mdata_catalog.py\u001b[0m\u001b]8;;\u001b\\\u001b[2m:\u001b[0m\u001b]8;id=885499;file://c:\\Users\\gufer\\miniconda3\\envs\\mtg_env\\Lib\\site-packages\\kedro\\io\\data_catalog.py#539\u001b\\\u001b[2m539\u001b[0m\u001b]8;;\u001b\\\n",
       "\u001b[2;36m                    \u001b[0m         \u001b[1m(\u001b[0mMemoryDataset\u001b[1m)\u001b[0m\u001b[33m...\u001b[0m                                                 \u001b[2m                   \u001b[0m\n"
      ]
     },
     "metadata": {},
     "output_type": "display_data"
    },
    {
     "data": {
      "text/html": [
       "<pre style=\"white-space:pre;overflow-x:auto;line-height:normal;font-family:Menlo,'DejaVu Sans Mono',consolas,'Courier New',monospace\"><span style=\"color: #7fbfbf; text-decoration-color: #7fbfbf\">                    </span><span style=\"color: #000080; text-decoration-color: #000080\">INFO    </span> Running node: sampling_decks_node:                                         <a href=\"file://c:\\Users\\gufer\\miniconda3\\envs\\mtg_env\\Lib\\site-packages\\kedro\\pipeline\\node.py\" target=\"_blank\"><span style=\"color: #7f7f7f; text-decoration-color: #7f7f7f\">node.py</span></a><span style=\"color: #7f7f7f; text-decoration-color: #7f7f7f\">:</span><a href=\"file://c:\\Users\\gufer\\miniconda3\\envs\\mtg_env\\Lib\\site-packages\\kedro\\pipeline\\node.py#364\" target=\"_blank\"><span style=\"color: #7f7f7f; text-decoration-color: #7f7f7f\">364</span></a>\n",
       "<span style=\"color: #7fbfbf; text-decoration-color: #7fbfbf\">                    </span>         <span style=\"color: #800080; text-decoration-color: #800080; font-weight: bold\">sample_decks</span><span style=\"font-weight: bold\">([</span>decks_txt_partitioned;params:preprocessing.webscraper.sample <span style=\"color: #7f7f7f; text-decoration-color: #7f7f7f\">           </span>\n",
       "<span style=\"color: #7fbfbf; text-decoration-color: #7fbfbf\">                    </span>         _size_ratio;params:preprocessing.webscraper.log_folder<span style=\"font-weight: bold\">])</span> -&gt;                <span style=\"color: #7f7f7f; text-decoration-color: #7f7f7f\">           </span>\n",
       "<span style=\"color: #7fbfbf; text-decoration-color: #7fbfbf\">                    </span>         <span style=\"font-weight: bold\">[</span>sampled_decks<span style=\"font-weight: bold\">]</span>                                                            <span style=\"color: #7f7f7f; text-decoration-color: #7f7f7f\">           </span>\n",
       "</pre>\n"
      ],
      "text/plain": [
       "\u001b[2;36m                   \u001b[0m\u001b[2;36m \u001b[0m\u001b[34mINFO    \u001b[0m Running node: sampling_decks_node:                                         \u001b]8;id=563850;file://c:\\Users\\gufer\\miniconda3\\envs\\mtg_env\\Lib\\site-packages\\kedro\\pipeline\\node.py\u001b\\\u001b[2mnode.py\u001b[0m\u001b]8;;\u001b\\\u001b[2m:\u001b[0m\u001b]8;id=908401;file://c:\\Users\\gufer\\miniconda3\\envs\\mtg_env\\Lib\\site-packages\\kedro\\pipeline\\node.py#364\u001b\\\u001b[2m364\u001b[0m\u001b]8;;\u001b\\\n",
       "\u001b[2;36m                    \u001b[0m         \u001b[1;35msample_decks\u001b[0m\u001b[1m(\u001b[0m\u001b[1m[\u001b[0mdecks_txt_partitioned;params:preprocessing.webscraper.sample \u001b[2m           \u001b[0m\n",
       "\u001b[2;36m                    \u001b[0m         _size_ratio;params:preprocessing.webscraper.log_folder\u001b[1m]\u001b[0m\u001b[1m)\u001b[0m ->                \u001b[2m           \u001b[0m\n",
       "\u001b[2;36m                    \u001b[0m         \u001b[1m[\u001b[0msampled_decks\u001b[1m]\u001b[0m                                                            \u001b[2m           \u001b[0m\n"
      ]
     },
     "metadata": {},
     "output_type": "display_data"
    },
    {
     "data": {
      "text/html": [
       "<pre style=\"white-space:pre;overflow-x:auto;line-height:normal;font-family:Menlo,'DejaVu Sans Mono',consolas,'Courier New',monospace\"><span style=\"color: #7fbfbf; text-decoration-color: #7fbfbf\">                    </span><span style=\"color: #000080; text-decoration-color: #000080\">INFO    </span> Saving data to <span style=\"color: #ff8700; text-decoration-color: #ff8700\">sampled_decks</span> <span style=\"font-weight: bold\">(</span>PickleDataset<span style=\"font-weight: bold\">)</span><span style=\"color: #808000; text-decoration-color: #808000\">...</span>                    <a href=\"file://c:\\Users\\gufer\\miniconda3\\envs\\mtg_env\\Lib\\site-packages\\kedro\\io\\data_catalog.py\" target=\"_blank\"><span style=\"color: #7f7f7f; text-decoration-color: #7f7f7f\">data_catalog.py</span></a><span style=\"color: #7f7f7f; text-decoration-color: #7f7f7f\">:</span><a href=\"file://c:\\Users\\gufer\\miniconda3\\envs\\mtg_env\\Lib\\site-packages\\kedro\\io\\data_catalog.py#581\" target=\"_blank\"><span style=\"color: #7f7f7f; text-decoration-color: #7f7f7f\">581</span></a>\n",
       "</pre>\n"
      ],
      "text/plain": [
       "\u001b[2;36m                   \u001b[0m\u001b[2;36m \u001b[0m\u001b[34mINFO    \u001b[0m Saving data to \u001b[38;5;208msampled_decks\u001b[0m \u001b[1m(\u001b[0mPickleDataset\u001b[1m)\u001b[0m\u001b[33m...\u001b[0m                    \u001b]8;id=105952;file://c:\\Users\\gufer\\miniconda3\\envs\\mtg_env\\Lib\\site-packages\\kedro\\io\\data_catalog.py\u001b\\\u001b[2mdata_catalog.py\u001b[0m\u001b]8;;\u001b\\\u001b[2m:\u001b[0m\u001b]8;id=500320;file://c:\\Users\\gufer\\miniconda3\\envs\\mtg_env\\Lib\\site-packages\\kedro\\io\\data_catalog.py#581\u001b\\\u001b[2m581\u001b[0m\u001b]8;;\u001b\\\n"
      ]
     },
     "metadata": {},
     "output_type": "display_data"
    },
    {
     "data": {
      "text/html": [
       "<pre style=\"white-space:pre;overflow-x:auto;line-height:normal;font-family:Menlo,'DejaVu Sans Mono',consolas,'Courier New',monospace\"><span style=\"color: #7fbfbf; text-decoration-color: #7fbfbf\">                    </span><span style=\"color: #000080; text-decoration-color: #000080\">INFO    </span> Completed <span style=\"color: #008080; text-decoration-color: #008080; font-weight: bold\">3</span> out of <span style=\"color: #008080; text-decoration-color: #008080; font-weight: bold\">3</span> tasks                                     <a href=\"file://c:\\Users\\gufer\\miniconda3\\envs\\mtg_env\\Lib\\site-packages\\kedro\\runner\\sequential_runner.py\" target=\"_blank\"><span style=\"color: #7f7f7f; text-decoration-color: #7f7f7f\">sequential_runner.py</span></a><span style=\"color: #7f7f7f; text-decoration-color: #7f7f7f\">:</span><a href=\"file://c:\\Users\\gufer\\miniconda3\\envs\\mtg_env\\Lib\\site-packages\\kedro\\runner\\sequential_runner.py#93\" target=\"_blank\"><span style=\"color: #7f7f7f; text-decoration-color: #7f7f7f\">93</span></a>\n",
       "</pre>\n"
      ],
      "text/plain": [
       "\u001b[2;36m                   \u001b[0m\u001b[2;36m \u001b[0m\u001b[34mINFO    \u001b[0m Completed \u001b[1;36m3\u001b[0m out of \u001b[1;36m3\u001b[0m tasks                                     \u001b]8;id=874970;file://c:\\Users\\gufer\\miniconda3\\envs\\mtg_env\\Lib\\site-packages\\kedro\\runner\\sequential_runner.py\u001b\\\u001b[2msequential_runner.py\u001b[0m\u001b]8;;\u001b\\\u001b[2m:\u001b[0m\u001b]8;id=813824;file://c:\\Users\\gufer\\miniconda3\\envs\\mtg_env\\Lib\\site-packages\\kedro\\runner\\sequential_runner.py#93\u001b\\\u001b[2m93\u001b[0m\u001b]8;;\u001b\\\n"
      ]
     },
     "metadata": {},
     "output_type": "display_data"
    },
    {
     "data": {
      "text/html": [
       "<pre style=\"white-space:pre;overflow-x:auto;line-height:normal;font-family:Menlo,'DejaVu Sans Mono',consolas,'Courier New',monospace\"><span style=\"color: #7fbfbf; text-decoration-color: #7fbfbf\">                    </span><span style=\"color: #000080; text-decoration-color: #000080\">INFO    </span> Pipeline execution completed successfully.                               <a href=\"file://c:\\Users\\gufer\\miniconda3\\envs\\mtg_env\\Lib\\site-packages\\kedro\\runner\\runner.py\" target=\"_blank\"><span style=\"color: #7f7f7f; text-decoration-color: #7f7f7f\">runner.py</span></a><span style=\"color: #7f7f7f; text-decoration-color: #7f7f7f\">:</span><a href=\"file://c:\\Users\\gufer\\miniconda3\\envs\\mtg_env\\Lib\\site-packages\\kedro\\runner\\runner.py#123\" target=\"_blank\"><span style=\"color: #7f7f7f; text-decoration-color: #7f7f7f\">123</span></a>\n",
       "</pre>\n"
      ],
      "text/plain": [
       "\u001b[2;36m                   \u001b[0m\u001b[2;36m \u001b[0m\u001b[34mINFO    \u001b[0m Pipeline execution completed successfully.                               \u001b]8;id=240448;file://c:\\Users\\gufer\\miniconda3\\envs\\mtg_env\\Lib\\site-packages\\kedro\\runner\\runner.py\u001b\\\u001b[2mrunner.py\u001b[0m\u001b]8;;\u001b\\\u001b[2m:\u001b[0m\u001b]8;id=445563;file://c:\\Users\\gufer\\miniconda3\\envs\\mtg_env\\Lib\\site-packages\\kedro\\runner\\runner.py#123\u001b\\\u001b[2m123\u001b[0m\u001b]8;;\u001b\\\n"
      ]
     },
     "metadata": {},
     "output_type": "display_data"
    }
   ],
   "source": [
    "with KedroSession.create(env=\"local\", project_path=project_path) as session:\n",
    "    session.run(pipeline_name=\"webscraping\")"
   ]
  },
  {
   "cell_type": "code",
   "execution_count": 2,
   "metadata": {},
   "outputs": [],
   "source": [
    "import logging\n",
    "\n",
    "def setup_logger(logger_name:str, \n",
    "                 log_folder: str = None) -> logging.Logger:\n",
    "    \"\"\"\n",
    "    Configura o logger para salvar os logs em um arquivo ou exibi-los no terminal.\n",
    "    \n",
    "    Args:\n",
    "        log_folder (str, optional): Caminho do arquivo onde os logs serão salvos. \n",
    "        Se for None, o logger exibirá as informações no terminal.\n",
    "    \n",
    "    Returns:\n",
    "        logging.Logger: Logger configurado para salvar logs em arquivo ou exibi-los no terminal.\n",
    "    \"\"\"\n",
    "    logger = logging.getLogger(logger_name)\n",
    "    logger.setLevel(logging.INFO)\n",
    "\n",
    "    # Desativa a propagação do logger para o logger raiz\n",
    "    logger.propagate = False\n",
    "\n",
    "    # Verifica se já existem handlers para evitar duplicação de logs\n",
    "    if not logger.hasHandlers():\n",
    "        if log_folder:\n",
    "            # Criar um handler para salvar o log em arquivo\n",
    "            file_handler = logging.FileHandler(log_folder, mode='w', encoding='utf-8')\n",
    "            file_handler.setLevel(logging.INFO)\n",
    "\n",
    "            # Criar um formato para o log\n",
    "            formatter = logging.Formatter('%(asctime)s - %(levelname)s - %(message)s')\n",
    "            file_handler.setFormatter(formatter)\n",
    "\n",
    "            # Adicionar o handler ao logger\n",
    "            logger.addHandler(file_handler)\n",
    "        else:\n",
    "            # Criar um StreamHandler para exibir os logs no terminal\n",
    "            console_handler = logging.StreamHandler()\n",
    "            console_handler.setLevel(logging.INFO)\n",
    "\n",
    "            # Criar um formato para o log no console\n",
    "            formatter = logging.Formatter('%(asctime)s - %(levelname)s - %(message)s')\n",
    "            console_handler.setFormatter(formatter)\n",
    "\n",
    "            # Adicionar o handler ao logger\n",
    "            logger.addHandler(console_handler)\n",
    "\n",
    "    return logger"
   ]
  },
  {
   "cell_type": "code",
   "execution_count": 6,
   "metadata": {},
   "outputs": [],
   "source": [
    "import os\n",
    "import requests\n",
    "import zipfile\n",
    "import json"
   ]
  },
  {
   "cell_type": "code",
   "execution_count": 7,
   "metadata": {},
   "outputs": [
    {
     "data": {
      "text/html": [
       "<pre style=\"white-space:pre;overflow-x:auto;line-height:normal;font-family:Menlo,'DejaVu Sans Mono',consolas,'Courier New',monospace\"><span style=\"color: #7fbfbf; text-decoration-color: #7fbfbf\">[09/28/24 15:43:00] </span><span style=\"color: #000080; text-decoration-color: #000080\">INFO    </span> Loading data from <span style=\"color: #ff8700; text-decoration-color: #ff8700\">params:global.user.project_path</span>                  <a href=\"file://c:\\Users\\gufer\\miniconda3\\envs\\mtg_env\\Lib\\site-packages\\kedro\\io\\data_catalog.py\" target=\"_blank\"><span style=\"color: #7f7f7f; text-decoration-color: #7f7f7f\">data_catalog.py</span></a><span style=\"color: #7f7f7f; text-decoration-color: #7f7f7f\">:</span><a href=\"file://c:\\Users\\gufer\\miniconda3\\envs\\mtg_env\\Lib\\site-packages\\kedro\\io\\data_catalog.py#539\" target=\"_blank\"><span style=\"color: #7f7f7f; text-decoration-color: #7f7f7f\">539</span></a>\n",
       "<span style=\"color: #7fbfbf; text-decoration-color: #7fbfbf\">                    </span>         <span style=\"font-weight: bold\">(</span>MemoryDataset<span style=\"font-weight: bold\">)</span><span style=\"color: #808000; text-decoration-color: #808000\">...</span>                                                 <span style=\"color: #7f7f7f; text-decoration-color: #7f7f7f\">                   </span>\n",
       "</pre>\n"
      ],
      "text/plain": [
       "\u001b[2;36m[09/28/24 15:43:00]\u001b[0m\u001b[2;36m \u001b[0m\u001b[34mINFO    \u001b[0m Loading data from \u001b[38;5;208mparams:global.user.project_path\u001b[0m                  \u001b]8;id=844360;file://c:\\Users\\gufer\\miniconda3\\envs\\mtg_env\\Lib\\site-packages\\kedro\\io\\data_catalog.py\u001b\\\u001b[2mdata_catalog.py\u001b[0m\u001b]8;;\u001b\\\u001b[2m:\u001b[0m\u001b]8;id=868128;file://c:\\Users\\gufer\\miniconda3\\envs\\mtg_env\\Lib\\site-packages\\kedro\\io\\data_catalog.py#539\u001b\\\u001b[2m539\u001b[0m\u001b]8;;\u001b\\\n",
       "\u001b[2;36m                    \u001b[0m         \u001b[1m(\u001b[0mMemoryDataset\u001b[1m)\u001b[0m\u001b[33m...\u001b[0m                                                 \u001b[2m                   \u001b[0m\n"
      ]
     },
     "metadata": {},
     "output_type": "display_data"
    },
    {
     "data": {
      "text/html": [
       "<pre style=\"white-space:pre;overflow-x:auto;line-height:normal;font-family:Menlo,'DejaVu Sans Mono',consolas,'Courier New',monospace\"><span style=\"color: #7fbfbf; text-decoration-color: #7fbfbf\">                    </span><span style=\"color: #000080; text-decoration-color: #000080\">INFO    </span> Loading data from <span style=\"color: #ff8700; text-decoration-color: #ff8700\">params:preprocessing.webscraper.zip_url</span>          <a href=\"file://c:\\Users\\gufer\\miniconda3\\envs\\mtg_env\\Lib\\site-packages\\kedro\\io\\data_catalog.py\" target=\"_blank\"><span style=\"color: #7f7f7f; text-decoration-color: #7f7f7f\">data_catalog.py</span></a><span style=\"color: #7f7f7f; text-decoration-color: #7f7f7f\">:</span><a href=\"file://c:\\Users\\gufer\\miniconda3\\envs\\mtg_env\\Lib\\site-packages\\kedro\\io\\data_catalog.py#539\" target=\"_blank\"><span style=\"color: #7f7f7f; text-decoration-color: #7f7f7f\">539</span></a>\n",
       "<span style=\"color: #7fbfbf; text-decoration-color: #7fbfbf\">                    </span>         <span style=\"font-weight: bold\">(</span>MemoryDataset<span style=\"font-weight: bold\">)</span><span style=\"color: #808000; text-decoration-color: #808000\">...</span>                                                 <span style=\"color: #7f7f7f; text-decoration-color: #7f7f7f\">                   </span>\n",
       "</pre>\n"
      ],
      "text/plain": [
       "\u001b[2;36m                   \u001b[0m\u001b[2;36m \u001b[0m\u001b[34mINFO    \u001b[0m Loading data from \u001b[38;5;208mparams:preprocessing.webscraper.zip_url\u001b[0m          \u001b]8;id=431879;file://c:\\Users\\gufer\\miniconda3\\envs\\mtg_env\\Lib\\site-packages\\kedro\\io\\data_catalog.py\u001b\\\u001b[2mdata_catalog.py\u001b[0m\u001b]8;;\u001b\\\u001b[2m:\u001b[0m\u001b]8;id=721493;file://c:\\Users\\gufer\\miniconda3\\envs\\mtg_env\\Lib\\site-packages\\kedro\\io\\data_catalog.py#539\u001b\\\u001b[2m539\u001b[0m\u001b]8;;\u001b\\\n",
       "\u001b[2;36m                    \u001b[0m         \u001b[1m(\u001b[0mMemoryDataset\u001b[1m)\u001b[0m\u001b[33m...\u001b[0m                                                 \u001b[2m                   \u001b[0m\n"
      ]
     },
     "metadata": {},
     "output_type": "display_data"
    },
    {
     "data": {
      "text/html": [
       "<pre style=\"white-space:pre;overflow-x:auto;line-height:normal;font-family:Menlo,'DejaVu Sans Mono',consolas,'Courier New',monospace\"><span style=\"color: #7fbfbf; text-decoration-color: #7fbfbf\">                    </span><span style=\"color: #000080; text-decoration-color: #000080\">INFO    </span> Loading data from <span style=\"color: #ff8700; text-decoration-color: #ff8700\">params:preprocessing.webscraper.zip_folder</span>       <a href=\"file://c:\\Users\\gufer\\miniconda3\\envs\\mtg_env\\Lib\\site-packages\\kedro\\io\\data_catalog.py\" target=\"_blank\"><span style=\"color: #7f7f7f; text-decoration-color: #7f7f7f\">data_catalog.py</span></a><span style=\"color: #7f7f7f; text-decoration-color: #7f7f7f\">:</span><a href=\"file://c:\\Users\\gufer\\miniconda3\\envs\\mtg_env\\Lib\\site-packages\\kedro\\io\\data_catalog.py#539\" target=\"_blank\"><span style=\"color: #7f7f7f; text-decoration-color: #7f7f7f\">539</span></a>\n",
       "<span style=\"color: #7fbfbf; text-decoration-color: #7fbfbf\">                    </span>         <span style=\"font-weight: bold\">(</span>MemoryDataset<span style=\"font-weight: bold\">)</span><span style=\"color: #808000; text-decoration-color: #808000\">...</span>                                                 <span style=\"color: #7f7f7f; text-decoration-color: #7f7f7f\">                   </span>\n",
       "</pre>\n"
      ],
      "text/plain": [
       "\u001b[2;36m                   \u001b[0m\u001b[2;36m \u001b[0m\u001b[34mINFO    \u001b[0m Loading data from \u001b[38;5;208mparams:preprocessing.webscraper.zip_folder\u001b[0m       \u001b]8;id=334994;file://c:\\Users\\gufer\\miniconda3\\envs\\mtg_env\\Lib\\site-packages\\kedro\\io\\data_catalog.py\u001b\\\u001b[2mdata_catalog.py\u001b[0m\u001b]8;;\u001b\\\u001b[2m:\u001b[0m\u001b]8;id=1747;file://c:\\Users\\gufer\\miniconda3\\envs\\mtg_env\\Lib\\site-packages\\kedro\\io\\data_catalog.py#539\u001b\\\u001b[2m539\u001b[0m\u001b]8;;\u001b\\\n",
       "\u001b[2;36m                    \u001b[0m         \u001b[1m(\u001b[0mMemoryDataset\u001b[1m)\u001b[0m\u001b[33m...\u001b[0m                                                 \u001b[2m                   \u001b[0m\n"
      ]
     },
     "metadata": {},
     "output_type": "display_data"
    },
    {
     "name": "stderr",
     "output_type": "stream",
     "text": [
      "2024-09-28 15:43:05,137 - INFO - Zip dos decklists baixado com sucesso em: C:/Users/gufer/OneDrive/Documentos/FIAP/Fase_03/mtg-project\\data/01_raw/AllDeckFiles.zip\n",
      "2024-09-28 15:43:08,319 - INFO - Arquivos JSON extraídos com sucesso em: C:/Users/gufer/OneDrive/Documentos/FIAP/Fase_03/mtg-project\\data/01_raw/decks_json\n",
      "2024-09-28 15:43:08,328 - INFO - Arquivo ZIP removido após extração!\n"
     ]
    }
   ],
   "source": [
    "\n",
    "def get_deck_zip_from_web(        \n",
    "        project_path: str,\n",
    "        zip_url: str,  \n",
    "        zip_folder: str) -> None:\n",
    "    \"\"\"\n",
    "    Baixa um arquivo ZIP de um URL, o descompacta em uma pasta temporária e salva os arquivos JSON\n",
    "    no subdiretório 'decks_json' dentro da pasta especificada.\n",
    "\n",
    "    Args:\n",
    "        project_path (str): Caminho base do projeto onde o zip_folder será concatenado.\n",
    "        zip_url (str): URL do arquivo ZIP a ser baixado.\n",
    "        zip_folder (str): Caminho relativo dentro do project_path onde o arquivo ZIP será salvo.\n",
    "\n",
    "    Returns:\n",
    "        None: A função salva os arquivos JSON na pasta especificada e não retorna nada.\n",
    "    \"\"\"\n",
    "    # Configura o logger geral com o nome \"get_deck_zip_logger\"\n",
    "    logger = setup_logger(\"get_deck_zip_logger\")\n",
    "\n",
    "    # Concatenar o caminho completo de zip_folder com project_path (que é a raiz)\n",
    "    full_output_path = os.path.join(project_path, zip_folder)\n",
    "    \n",
    "    # Criar a pasta raiz se ela não existir\n",
    "    os.makedirs(full_output_path, exist_ok=True)\n",
    "\n",
    "    # Criar o subdiretório 'decks_json' dentro da pasta especificada\n",
    "    decks_json_path = os.path.join(full_output_path, 'decks_json')\n",
    "    os.makedirs(decks_json_path, exist_ok=True)\n",
    "\n",
    "    # Função para baixar o arquivo zip\n",
    "    def download_file(url, folder):\n",
    "        local_filename = os.path.join(folder, url.split(\"/\")[-1])\n",
    "        with requests.get(url, stream=True) as r:\n",
    "            r.raise_for_status()\n",
    "            with open(local_filename, \"wb\") as f:\n",
    "                for chunk in r.iter_content(chunk_size=8192):\n",
    "                    f.write(chunk)\n",
    "        logger.info(f\"Zip dos decklists baixado com sucesso em: {local_filename}\")\n",
    "        return local_filename\n",
    "\n",
    "    # Baixar o arquivo zip\n",
    "    zip_file_path = download_file(zip_url, full_output_path)\n",
    "\n",
    "    # Descompactar o arquivo zip e salvar os arquivos JSON no subdiretório 'decks_json'\n",
    "    with zipfile.ZipFile(zip_file_path, 'r') as zip_ref:\n",
    "        for file_name in zip_ref.namelist():\n",
    "            if file_name.endswith('.json'):\n",
    "                # Definir o caminho de destino do arquivo extraído no subdiretório 'decks_json'\n",
    "                output_file_path = os.path.join(decks_json_path, file_name)\n",
    "                \n",
    "                # Ler e salvar o arquivo JSON diretamente no caminho especificado\n",
    "                with zip_ref.open(file_name) as json_file, open(output_file_path, \"wb\") as out_file:\n",
    "                    out_file.write(json_file.read())\n",
    "    \n",
    "    logger.info(f\"Arquivos JSON extraídos com sucesso em: {decks_json_path}\")\n",
    "\n",
    "    # Remover o arquivo zip após extração\n",
    "    os.remove(zip_file_path)\n",
    "    logger.info(f\"Arquivo ZIP removido após extração!\")\n",
    "\n",
    "    # Remover o handler para evitar problemas futuros\n",
    "    for handler in logger.handlers:\n",
    "        handler.close()\n",
    "        logger.removeHandler(handler)\n",
    "\n",
    "\n",
    "project_path = catalog.load(\"params:global.user.project_path\")\n",
    "zip_url = catalog.load(\"params:preprocessing.webscraper.zip_url\")\n",
    "zip_folder = catalog.load(\"params:preprocessing.webscraper.zip_folder\")\n",
    "\n",
    "get_deck_zip_from_web(project_path,zip_url, zip_folder)"
   ]
  },
  {
   "cell_type": "code",
   "execution_count": null,
   "metadata": {},
   "outputs": [],
   "source": [
    "def pp_decks_from_json_files(\n",
    "        decks_json_partitioned: dict, \n",
    "        deck_cards: int, \n",
    "        log_folder: str) -> dict:\n",
    "    \"\"\"\n",
    "    Processa todos os decks JSON fornecidos pelo PartitionedDataSet e salva no formato .txt.\n",
    "\n",
    "    Faz isso desde que contenham pelo menos o número mínimo de cartas definido em deck_cards (params).\n",
    "    O log dos decks processados é salvo em um arquivo no log_folder (params).\n",
    "\n",
    "    Args:\n",
    "        decks_json_partitioned (dict): Dicionário de decks carregados de arquivos JSON através de PartitionedDataSet.\n",
    "        deck_cards (int): Número mínimo de cartas no mainBoard para que o deck seja processado.\n",
    "        log_folder (str): Caminho do arquivo onde os logs serão salvos.\n",
    "\n",
    "    Returns:\n",
    "        dict: Dicionário de decks processados, onde as chaves são os nomes dos arquivos e os valores são as decklists.\n",
    "    \"\"\"\n",
    "    # Caminho do arquivo de log\n",
    "    log_filepath = os.path.join(log_folder, 'decks_selection_log.txt')\n",
    "\n",
    "    # Cria a pasta de log se ela não existir\n",
    "    os.makedirs(log_folder, exist_ok=True)\n",
    "\n",
    "    # Chama a função para configurar o logger\n",
    "    logger = setup_logger(\"pp_decks_from_json_files\", log_filepath)\n",
    "\n",
    "    # Função para extrair o nome do deck diretamente do JSON\n",
    "    def get_deck_name(data):\n",
    "        return data['data'].get('name', 'Unknown Deck')\n",
    "\n",
    "    # Função para contar o número de cartas no mainBoard\n",
    "    def count_mainboard_cards(data):\n",
    "        return sum(card['count'] for card in data['data']['mainBoard'])\n",
    "\n",
    "    # Função para gerar a decklist formatada\n",
    "    def generate_decklist(data):\n",
    "        decklist = []\n",
    "        deck_name = get_deck_name(data)\n",
    "        decklist.append(\"About\")\n",
    "        decklist.append(f\"Name {deck_name}\")\n",
    "        decklist.append(\"\\nDeck\")\n",
    "\n",
    "        for card in data['data']['mainBoard']:\n",
    "            name = card['name']\n",
    "            count = card['count']\n",
    "            decklist.append(f\"{count} {name}\")\n",
    "\n",
    "        return decklist\n",
    "\n",
    "    # Dicionário de saída para armazenar as decklists processadas\n",
    "    processed_decks = {}\n",
    "\n",
    "    # Percorrer os arquivos JSON no dicionário fornecido pelo PartitionedDataSet\n",
    "    for file_name, dataset in decks_json_partitioned.items():\n",
    "        # Carregar os dados chamando o método `load()` do dataset\n",
    "        data = dataset()\n",
    "\n",
    "        # Verificar se o deck tem pelo menos deck_cards no mainboard\n",
    "        if count_mainboard_cards(data) >= deck_cards:\n",
    "            \n",
    "            # Gerar a decklist\n",
    "            decklist = generate_decklist(data)\n",
    "\n",
    "            # Definir o nome do arquivo de saída .txt com base no nome do deck\n",
    "            deck_name = get_deck_name(data)\n",
    "            output_file_name = f\"{deck_name.replace(' ', '_')}.txt\"\n",
    "\n",
    "            # Salvar no dicionário de decks processados\n",
    "            processed_decks[output_file_name] = \"\\n\".join(decklist)\n",
    "\n",
    "            logger.info(f\"Decklist {output_file_name} gerada com sucesso!\")\n",
    "        else:\n",
    "            logger.info(f\"Deck {file_name} ignorado (menos de {deck_cards} cartas no mainBoard).\")\n",
    "\n",
    "    # Remover o handler para evitar problemas futuros\n",
    "    for handler in logger.handlers:\n",
    "        handler.close()\n",
    "        logger.removeHandler(handler)\n",
    "\n",
    "    return processed_decks\n",
    "\n",
    "decks_json_partitioned = catalog.load(\"decks_json_partitioned\")\n",
    "deck_cards = catalog.load(\"params:preprocessing.webscraper.deck_cards\")\n",
    "log_folder = catalog.load(\"params:preprocessing.webscraper.log_folder\")\n",
    "\n",
    "txt_decks_dict = pp_decks_from_json_files(decks_json_partitioned, deck_cards, log_folder)\n",
    "txt_decks_dict"
   ]
  },
  {
   "cell_type": "code",
   "execution_count": 16,
   "metadata": {},
   "outputs": [],
   "source": [
    "# Criando a pasta artificialmente aqui (para evitar rodar o pipeline)\n",
    "output_folder = project_path + '/data/01_raw/decks_txt'\n",
    "\n",
    "# Criar a pasta caso ela não exista\n",
    "os.makedirs(output_folder, exist_ok=True)\n",
    "\n",
    "# Iterar sobre o dicionário e salvar cada deck como um arquivo .txt\n",
    "for file_name, deck_content in txt_decks_dict.items():\n",
    "    # Caminho completo do arquivo de saída\n",
    "    output_file_path = os.path.join(output_folder, file_name)\n",
    "    \n",
    "    # Escrever o conteúdo do deck no arquivo .txt\n",
    "    with open(output_file_path, 'w', encoding='utf-8') as file:\n",
    "        file.write(deck_content)"
   ]
  },
  {
   "cell_type": "code",
   "execution_count": null,
   "metadata": {},
   "outputs": [],
   "source": [
    "import random\n",
    "\n",
    "def sample_decks(\n",
    "        decks_txt_partitioned: dict, \n",
    "        sample_size: float, \n",
    "        log_folder: str) -> dict:\n",
    "    \"\"\"\n",
    "    Amostra os decks no formato .txt com base no sample_size e retorna um dicionário de paths.\n",
    "\n",
    "    Args:\n",
    "        decks_txt_partitioned (dict): Dicionário de decks onde as chaves são nomes de arquivos e os valores são funções que retornam o conteúdo do deck.\n",
    "        sample_size (float): A fração da população original que será usada para amostragem (valor entre 0 e 1).\n",
    "        log_folder (str): Caminho da pasta para salvar os logs.\n",
    "\n",
    "    Returns:\n",
    "        dict: Dicionário com os caminhos dos decks amostrados.\n",
    "    \"\"\"\n",
    "\n",
    "    # Caminho do arquivo de log\n",
    "    log_filepath = os.path.join(log_folder, 'decks_sampling_log.txt')\n",
    "\n",
    "    # Cria a pasta de log se ela não existir\n",
    "    os.makedirs(log_folder, exist_ok=True)\n",
    "\n",
    "    # Configurar o logger para salvar no arquivo .txt\n",
    "    logger = setup_logger('decks_sampling_logger', log_filepath)\n",
    "\n",
    "    # Número total de decks disponíveis\n",
    "    total_decks = len(decks_txt_partitioned)\n",
    "    \n",
    "    # Calcular o tamanho da amostra\n",
    "    target_sample_size = int(total_decks * sample_size)\n",
    "\n",
    "    # Amostra aleatória da população\n",
    "    logger.info(f\"Amostrando {target_sample_size} decks de um total de {total_decks}.\")\n",
    "    sampled_keys = random.sample(list(decks_txt_partitioned.keys()), target_sample_size)\n",
    "    \n",
    "    # Criar dicionário contendo os paths dos decks amostrados\n",
    "    sampled_decks = {key: os.path.join('data/01_raw/decks_txt', key) for key in sampled_keys}\n",
    "\n",
    "    # Logar os decks escolhidos\n",
    "    logger.info(f\"Decks amostrados: {', '.join(sampled_keys)}\")\n",
    "    logger.info(f\"Amostragem completa. {len(sampled_decks)} decks selecionados.\")\n",
    "\n",
    "    return sampled_decks\n",
    "\n",
    "\n",
    "decks_txt = catalog.load(\"decks_txt_partitioned\")\n",
    "sample_size = catalog.load(\"params:preprocessing.webscraper.sample_size_ratio\")\n",
    "log_folder = catalog.load(\"params:preprocessing.webscraper.log_folder\")\n",
    "\n",
    "sample_decks_dict = sample_decks(decks_txt, sample_size, log_folder)\n",
    "catalog.save(\"sampled_decks\",sample_decks_dict)"
   ]
  }
 ],
 "metadata": {
  "kernelspec": {
   "display_name": "mtg_env",
   "language": "python",
   "name": "python3"
  },
  "language_info": {
   "codemirror_mode": {
    "name": "ipython",
    "version": 3
   },
   "file_extension": ".py",
   "mimetype": "text/x-python",
   "name": "python",
   "nbconvert_exporter": "python",
   "pygments_lexer": "ipython3",
   "version": "3.12.5"
  }
 },
 "nbformat": 4,
 "nbformat_minor": 2
}
