{
 "cells": [
  {
   "cell_type": "code",
   "execution_count": 1,
   "metadata": {},
   "outputs": [
    {
     "data": {
      "text/html": [
       "<pre style=\"white-space:pre;overflow-x:auto;line-height:normal;font-family:Menlo,'DejaVu Sans Mono',consolas,'Courier New',monospace\"><span style=\"color: #7fbfbf; text-decoration-color: #7fbfbf\">[09/18/24 22:50:53] </span><span style=\"color: #000080; text-decoration-color: #000080\">INFO    </span> Using                                                                  <a href=\"file://c:\\Users\\gufer\\miniconda3\\envs\\mtg_env\\Lib\\site-packages\\kedro\\framework\\project\\__init__.py\" target=\"_blank\"><span style=\"color: #7f7f7f; text-decoration-color: #7f7f7f\">__init__.py</span></a><span style=\"color: #7f7f7f; text-decoration-color: #7f7f7f\">:</span><a href=\"file://c:\\Users\\gufer\\miniconda3\\envs\\mtg_env\\Lib\\site-packages\\kedro\\framework\\project\\__init__.py#249\" target=\"_blank\"><span style=\"color: #7f7f7f; text-decoration-color: #7f7f7f\">249</span></a>\n",
       "<span style=\"color: #7fbfbf; text-decoration-color: #7fbfbf\">                    </span>         <span style=\"color: #008000; text-decoration-color: #008000\">'c:\\Users\\gufer\\miniconda3\\envs\\mtg_env\\Lib\\site-packages\\kedro\\framew</span> <span style=\"color: #7f7f7f; text-decoration-color: #7f7f7f\">               </span>\n",
       "<span style=\"color: #7fbfbf; text-decoration-color: #7fbfbf\">                    </span>         <span style=\"color: #008000; text-decoration-color: #008000\">ork\\project\\rich_logging.yml'</span> as logging configuration.                <span style=\"color: #7f7f7f; text-decoration-color: #7f7f7f\">               </span>\n",
       "</pre>\n"
      ],
      "text/plain": [
       "\u001b[2;36m[09/18/24 22:50:53]\u001b[0m\u001b[2;36m \u001b[0m\u001b[34mINFO    \u001b[0m Using                                                                  \u001b]8;id=161046;file://c:\\Users\\gufer\\miniconda3\\envs\\mtg_env\\Lib\\site-packages\\kedro\\framework\\project\\__init__.py\u001b\\\u001b[2m__init__.py\u001b[0m\u001b]8;;\u001b\\\u001b[2m:\u001b[0m\u001b]8;id=849567;file://c:\\Users\\gufer\\miniconda3\\envs\\mtg_env\\Lib\\site-packages\\kedro\\framework\\project\\__init__.py#249\u001b\\\u001b[2m249\u001b[0m\u001b]8;;\u001b\\\n",
       "\u001b[2;36m                    \u001b[0m         \u001b[32m'c:\\Users\\gufer\\miniconda3\\envs\\mtg_env\\Lib\\site-packages\\kedro\\framew\u001b[0m \u001b[2m               \u001b[0m\n",
       "\u001b[2;36m                    \u001b[0m         \u001b[32mork\\project\\rich_logging.yml'\u001b[0m as logging configuration.                \u001b[2m               \u001b[0m\n"
      ]
     },
     "metadata": {},
     "output_type": "display_data"
    },
    {
     "name": "stdout",
     "output_type": "stream",
     "text": [
      "Notebook current working directory: c:\\Users\\gufer\\OneDrive\\Documentos\\FIAP\\Fase_03\\mtg-project\\notebooks\\gmferratti\\pipeline\n",
      "Project path: c:\\Users\\gufer\\OneDrive\\Documentos\\FIAP\\Fase_03\\mtg-project\n"
     ]
    }
   ],
   "source": [
    "import os\n",
    "from kedro.framework.startup import bootstrap_project\n",
    "from kedro.framework.session import KedroSession\n",
    "import warnings\n",
    "\n",
    "warnings.filterwarnings(\"ignore\")\n",
    "\n",
    "# Encontrar o caminho absoluto do diretório atual\n",
    "notebook_cwd = os.getcwd()\n",
    "\n",
    "# Definir o caminho correto para a raiz do projeto Kedro\n",
    "project_path = r\"c:\\Users\\gufer\\OneDrive\\Documentos\\FIAP\\Fase_03\\mtg-project\"\n",
    "\n",
    "# Verificar o diretório atual e o caminho do projeto\n",
    "print(f\"Notebook current working directory: {notebook_cwd}\")\n",
    "print(f\"Project path: {project_path}\")\n",
    "\n",
    "# Alterar para o diretório raiz do projeto Kedro\n",
    "os.chdir(project_path)\n",
    "\n",
    "# Bootstrap o projeto Kedro\n",
    "bootstrap_project(project_path)\n",
    "\n",
    "# Inicialize o contexto do Kedro\n",
    "with KedroSession.create() as session:\n",
    "    context = session.load_context()\n",
    "\n",
    "# Recarregar o catálogo\n",
    "catalog = context.catalog\n",
    "\n",
    "# Acessar os parâmetros\n",
    "params = context.params\n",
    "\n",
    "# Listar o catálogo\n",
    "catalog.list()"
   ]
  },
  {
   "cell_type": "code",
   "execution_count": 2,
   "metadata": {},
   "outputs": [],
   "source": [
    "from typing import List, Dict\n",
    "from classes.deck import Deck\n",
    "from classes.player import Player\n",
    "from classes.player_tracker import PlayerTracker\n",
    "from src.mtg_project.pipelines.utils import setup_logger\n",
    "import pandas as pd\n",
    "import numpy as np\n",
    "from faker import Faker\n",
    "import random"
   ]
  },
  {
   "cell_type": "code",
   "execution_count": 3,
   "metadata": {},
   "outputs": [],
   "source": [
    "\n",
    "def get_last_file(partitioned_data):\n",
    "    \"\"\"\n",
    "    Obtém o last file da partição mais recente de um PartitionedDataset.\n",
    "\n",
    "    Args:\n",
    "        partitioned_data (dict): Dicionário com as partições de dados.\n",
    "\n",
    "    Returns:\n",
    "        Any: O ultimo arquivo da partição mais recente.\n",
    "    \"\"\"\n",
    "    # Obter a chave da partição mais recente\n",
    "    latest_partition = max(partitioned_data.keys())\n",
    "    \n",
    "    # Obter os dados da partição mais recente\n",
    "    data = partitioned_data[latest_partition]\n",
    "    \n",
    "    return data"
   ]
  },
  {
   "cell_type": "code",
   "execution_count": 6,
   "metadata": {},
   "outputs": [
    {
     "data": {
      "text/html": [
       "<pre style=\"white-space:pre;overflow-x:auto;line-height:normal;font-family:Menlo,'DejaVu Sans Mono',consolas,'Courier New',monospace\"><span style=\"color: #7fbfbf; text-decoration-color: #7fbfbf\">[09/18/24 22:46:01] </span><span style=\"color: #000080; text-decoration-color: #000080\">INFO    </span> Kedro project mtg-project                                               <a href=\"file://c:\\Users\\gufer\\miniconda3\\envs\\mtg_env\\Lib\\site-packages\\kedro\\framework\\session\\session.py\" target=\"_blank\"><span style=\"color: #7f7f7f; text-decoration-color: #7f7f7f\">session.py</span></a><span style=\"color: #7f7f7f; text-decoration-color: #7f7f7f\">:</span><a href=\"file://c:\\Users\\gufer\\miniconda3\\envs\\mtg_env\\Lib\\site-packages\\kedro\\framework\\session\\session.py#327\" target=\"_blank\"><span style=\"color: #7f7f7f; text-decoration-color: #7f7f7f\">327</span></a>\n",
       "</pre>\n"
      ],
      "text/plain": [
       "\u001b[2;36m[09/18/24 22:46:01]\u001b[0m\u001b[2;36m \u001b[0m\u001b[34mINFO    \u001b[0m Kedro project mtg-project                                               \u001b]8;id=588402;file://c:\\Users\\gufer\\miniconda3\\envs\\mtg_env\\Lib\\site-packages\\kedro\\framework\\session\\session.py\u001b\\\u001b[2msession.py\u001b[0m\u001b]8;;\u001b\\\u001b[2m:\u001b[0m\u001b]8;id=173588;file://c:\\Users\\gufer\\miniconda3\\envs\\mtg_env\\Lib\\site-packages\\kedro\\framework\\session\\session.py#327\u001b\\\u001b[2m327\u001b[0m\u001b]8;;\u001b\\\n"
      ]
     },
     "metadata": {},
     "output_type": "display_data"
    },
    {
     "data": {
      "text/html": [
       "<pre style=\"white-space:pre;overflow-x:auto;line-height:normal;font-family:Menlo,'DejaVu Sans Mono',consolas,'Courier New',monospace\"><span style=\"color: #7fbfbf; text-decoration-color: #7fbfbf\">                    </span><span style=\"color: #000080; text-decoration-color: #000080\">INFO    </span> Kedro is sending anonymous usage data with the sole purpose of improving <a href=\"file://c:\\Users\\gufer\\miniconda3\\envs\\mtg_env\\Lib\\site-packages\\kedro_telemetry\\plugin.py\" target=\"_blank\"><span style=\"color: #7f7f7f; text-decoration-color: #7f7f7f\">plugin.py</span></a><span style=\"color: #7f7f7f; text-decoration-color: #7f7f7f\">:</span><a href=\"file://c:\\Users\\gufer\\miniconda3\\envs\\mtg_env\\Lib\\site-packages\\kedro_telemetry\\plugin.py#233\" target=\"_blank\"><span style=\"color: #7f7f7f; text-decoration-color: #7f7f7f\">233</span></a>\n",
       "<span style=\"color: #7fbfbf; text-decoration-color: #7fbfbf\">                    </span>         the product. No personal data or IP addresses are stored on our side. If <span style=\"color: #7f7f7f; text-decoration-color: #7f7f7f\">             </span>\n",
       "<span style=\"color: #7fbfbf; text-decoration-color: #7fbfbf\">                    </span>         you want to opt out, set the `KEDRO_DISABLE_TELEMETRY` or `DO_NOT_TRACK` <span style=\"color: #7f7f7f; text-decoration-color: #7f7f7f\">             </span>\n",
       "<span style=\"color: #7fbfbf; text-decoration-color: #7fbfbf\">                    </span>         environment variables, or create a `.telemetry` file in the current      <span style=\"color: #7f7f7f; text-decoration-color: #7f7f7f\">             </span>\n",
       "<span style=\"color: #7fbfbf; text-decoration-color: #7fbfbf\">                    </span>         working directory with the contents `consent: false`. Read more at       <span style=\"color: #7f7f7f; text-decoration-color: #7f7f7f\">             </span>\n",
       "<span style=\"color: #7fbfbf; text-decoration-color: #7fbfbf\">                    </span>         <span style=\"color: #0000ff; text-decoration-color: #0000ff; text-decoration: underline\">https://docs.kedro.org/en/stable/configuration/telemetry.html</span>            <span style=\"color: #7f7f7f; text-decoration-color: #7f7f7f\">             </span>\n",
       "</pre>\n"
      ],
      "text/plain": [
       "\u001b[2;36m                   \u001b[0m\u001b[2;36m \u001b[0m\u001b[34mINFO    \u001b[0m Kedro is sending anonymous usage data with the sole purpose of improving \u001b]8;id=826636;file://c:\\Users\\gufer\\miniconda3\\envs\\mtg_env\\Lib\\site-packages\\kedro_telemetry\\plugin.py\u001b\\\u001b[2mplugin.py\u001b[0m\u001b]8;;\u001b\\\u001b[2m:\u001b[0m\u001b]8;id=160288;file://c:\\Users\\gufer\\miniconda3\\envs\\mtg_env\\Lib\\site-packages\\kedro_telemetry\\plugin.py#233\u001b\\\u001b[2m233\u001b[0m\u001b]8;;\u001b\\\n",
       "\u001b[2;36m                    \u001b[0m         the product. No personal data or IP addresses are stored on our side. If \u001b[2m             \u001b[0m\n",
       "\u001b[2;36m                    \u001b[0m         you want to opt out, set the `KEDRO_DISABLE_TELEMETRY` or `DO_NOT_TRACK` \u001b[2m             \u001b[0m\n",
       "\u001b[2;36m                    \u001b[0m         environment variables, or create a `.telemetry` file in the current      \u001b[2m             \u001b[0m\n",
       "\u001b[2;36m                    \u001b[0m         working directory with the contents `consent: false`. Read more at       \u001b[2m             \u001b[0m\n",
       "\u001b[2;36m                    \u001b[0m         \u001b[4;94mhttps://docs.kedro.org/en/stable/configuration/telemetry.html\u001b[0m            \u001b[2m             \u001b[0m\n"
      ]
     },
     "metadata": {},
     "output_type": "display_data"
    },
    {
     "data": {
      "text/html": [
       "<pre style=\"white-space:pre;overflow-x:auto;line-height:normal;font-family:Menlo,'DejaVu Sans Mono',consolas,'Courier New',monospace\"><span style=\"color: #7fbfbf; text-decoration-color: #7fbfbf\">[09/18/24 22:46:02] </span><span style=\"color: #000080; text-decoration-color: #000080\">INFO    </span> Using synchronous mode for loading and saving data. Use the    <a href=\"file://c:\\Users\\gufer\\miniconda3\\envs\\mtg_env\\Lib\\site-packages\\kedro\\runner\\sequential_runner.py\" target=\"_blank\"><span style=\"color: #7f7f7f; text-decoration-color: #7f7f7f\">sequential_runner.py</span></a><span style=\"color: #7f7f7f; text-decoration-color: #7f7f7f\">:</span><a href=\"file://c:\\Users\\gufer\\miniconda3\\envs\\mtg_env\\Lib\\site-packages\\kedro\\runner\\sequential_runner.py#67\" target=\"_blank\"><span style=\"color: #7f7f7f; text-decoration-color: #7f7f7f\">67</span></a>\n",
       "<span style=\"color: #7fbfbf; text-decoration-color: #7fbfbf\">                    </span>         --async flag for potential performance gains.                  <span style=\"color: #7f7f7f; text-decoration-color: #7f7f7f\">                       </span>\n",
       "<span style=\"color: #7fbfbf; text-decoration-color: #7fbfbf\">                    </span>         <span style=\"color: #0000ff; text-decoration-color: #0000ff; text-decoration: underline\">https://docs.kedro.org/en/stable/nodes_and_pipelines/run_a_pip</span> <span style=\"color: #7f7f7f; text-decoration-color: #7f7f7f\">                       </span>\n",
       "<span style=\"color: #7fbfbf; text-decoration-color: #7fbfbf\">                    </span>         <span style=\"color: #0000ff; text-decoration-color: #0000ff; text-decoration: underline\">eline.html#load-and-save-asynchronously</span>                        <span style=\"color: #7f7f7f; text-decoration-color: #7f7f7f\">                       </span>\n",
       "</pre>\n"
      ],
      "text/plain": [
       "\u001b[2;36m[09/18/24 22:46:02]\u001b[0m\u001b[2;36m \u001b[0m\u001b[34mINFO    \u001b[0m Using synchronous mode for loading and saving data. Use the    \u001b]8;id=177242;file://c:\\Users\\gufer\\miniconda3\\envs\\mtg_env\\Lib\\site-packages\\kedro\\runner\\sequential_runner.py\u001b\\\u001b[2msequential_runner.py\u001b[0m\u001b]8;;\u001b\\\u001b[2m:\u001b[0m\u001b]8;id=757103;file://c:\\Users\\gufer\\miniconda3\\envs\\mtg_env\\Lib\\site-packages\\kedro\\runner\\sequential_runner.py#67\u001b\\\u001b[2m67\u001b[0m\u001b]8;;\u001b\\\n",
       "\u001b[2;36m                    \u001b[0m         --async flag for potential performance gains.                  \u001b[2m                       \u001b[0m\n",
       "\u001b[2;36m                    \u001b[0m         \u001b[4;94mhttps://docs.kedro.org/en/stable/nodes_and_pipelines/run_a_pip\u001b[0m \u001b[2m                       \u001b[0m\n",
       "\u001b[2;36m                    \u001b[0m         \u001b[4;94meline.html#load-and-save-asynchronously\u001b[0m                        \u001b[2m                       \u001b[0m\n"
      ]
     },
     "metadata": {},
     "output_type": "display_data"
    },
    {
     "data": {
      "text/html": [
       "<pre style=\"white-space:pre;overflow-x:auto;line-height:normal;font-family:Menlo,'DejaVu Sans Mono',consolas,'Courier New',monospace\"><span style=\"color: #7fbfbf; text-decoration-color: #7fbfbf\">                    </span><span style=\"color: #000080; text-decoration-color: #000080\">INFO    </span> Loading data from <span style=\"color: #ff8700; text-decoration-color: #ff8700\">matches_df</span> <span style=\"font-weight: bold\">(</span>PartitionedDataset<span style=\"font-weight: bold\">)</span><span style=\"color: #808000; text-decoration-color: #808000\">...</span>               <a href=\"file://c:\\Users\\gufer\\miniconda3\\envs\\mtg_env\\Lib\\site-packages\\kedro\\io\\data_catalog.py\" target=\"_blank\"><span style=\"color: #7f7f7f; text-decoration-color: #7f7f7f\">data_catalog.py</span></a><span style=\"color: #7f7f7f; text-decoration-color: #7f7f7f\">:</span><a href=\"file://c:\\Users\\gufer\\miniconda3\\envs\\mtg_env\\Lib\\site-packages\\kedro\\io\\data_catalog.py#539\" target=\"_blank\"><span style=\"color: #7f7f7f; text-decoration-color: #7f7f7f\">539</span></a>\n",
       "</pre>\n"
      ],
      "text/plain": [
       "\u001b[2;36m                   \u001b[0m\u001b[2;36m \u001b[0m\u001b[34mINFO    \u001b[0m Loading data from \u001b[38;5;208mmatches_df\u001b[0m \u001b[1m(\u001b[0mPartitionedDataset\u001b[1m)\u001b[0m\u001b[33m...\u001b[0m               \u001b]8;id=672806;file://c:\\Users\\gufer\\miniconda3\\envs\\mtg_env\\Lib\\site-packages\\kedro\\io\\data_catalog.py\u001b\\\u001b[2mdata_catalog.py\u001b[0m\u001b]8;;\u001b\\\u001b[2m:\u001b[0m\u001b]8;id=933415;file://c:\\Users\\gufer\\miniconda3\\envs\\mtg_env\\Lib\\site-packages\\kedro\\io\\data_catalog.py#539\u001b\\\u001b[2m539\u001b[0m\u001b]8;;\u001b\\\n"
      ]
     },
     "metadata": {},
     "output_type": "display_data"
    },
    {
     "data": {
      "text/html": [
       "<pre style=\"white-space:pre;overflow-x:auto;line-height:normal;font-family:Menlo,'DejaVu Sans Mono',consolas,'Courier New',monospace\"><span style=\"color: #7fbfbf; text-decoration-color: #7fbfbf\">                    </span><span style=\"color: #000080; text-decoration-color: #000080\">INFO    </span> Running node: feature_engineering_node: <span style=\"color: #800080; text-decoration-color: #800080; font-weight: bold\">feature_engineering</span><span style=\"font-weight: bold\">([</span>matches_df<span style=\"font-weight: bold\">])</span>  <a href=\"file://c:\\Users\\gufer\\miniconda3\\envs\\mtg_env\\Lib\\site-packages\\kedro\\pipeline\\node.py\" target=\"_blank\"><span style=\"color: #7f7f7f; text-decoration-color: #7f7f7f\">node.py</span></a><span style=\"color: #7f7f7f; text-decoration-color: #7f7f7f\">:</span><a href=\"file://c:\\Users\\gufer\\miniconda3\\envs\\mtg_env\\Lib\\site-packages\\kedro\\pipeline\\node.py#364\" target=\"_blank\"><span style=\"color: #7f7f7f; text-decoration-color: #7f7f7f\">364</span></a>\n",
       "<span style=\"color: #7fbfbf; text-decoration-color: #7fbfbf\">                    </span>         -&gt; <span style=\"font-weight: bold\">[</span>features_df<span style=\"font-weight: bold\">]</span>                                                           <span style=\"color: #7f7f7f; text-decoration-color: #7f7f7f\">           </span>\n",
       "</pre>\n"
      ],
      "text/plain": [
       "\u001b[2;36m                   \u001b[0m\u001b[2;36m \u001b[0m\u001b[34mINFO    \u001b[0m Running node: feature_engineering_node: \u001b[1;35mfeature_engineering\u001b[0m\u001b[1m(\u001b[0m\u001b[1m[\u001b[0mmatches_df\u001b[1m]\u001b[0m\u001b[1m)\u001b[0m  \u001b]8;id=384241;file://c:\\Users\\gufer\\miniconda3\\envs\\mtg_env\\Lib\\site-packages\\kedro\\pipeline\\node.py\u001b\\\u001b[2mnode.py\u001b[0m\u001b]8;;\u001b\\\u001b[2m:\u001b[0m\u001b]8;id=701912;file://c:\\Users\\gufer\\miniconda3\\envs\\mtg_env\\Lib\\site-packages\\kedro\\pipeline\\node.py#364\u001b\\\u001b[2m364\u001b[0m\u001b]8;;\u001b\\\n",
       "\u001b[2;36m                    \u001b[0m         -> \u001b[1m[\u001b[0mfeatures_df\u001b[1m]\u001b[0m                                                           \u001b[2m           \u001b[0m\n"
      ]
     },
     "metadata": {},
     "output_type": "display_data"
    },
    {
     "data": {
      "text/html": [
       "<pre style=\"white-space:pre;overflow-x:auto;line-height:normal;font-family:Menlo,'DejaVu Sans Mono',consolas,'Courier New',monospace\"><span style=\"color: #7fbfbf; text-decoration-color: #7fbfbf\">                    </span><span style=\"color: #800000; text-decoration-color: #800000; font-weight: bold\">ERROR   </span> Node feature_engineering_node: <span style=\"color: #800080; text-decoration-color: #800080; font-weight: bold\">feature_engineering</span><span style=\"font-weight: bold\">()</span> -&gt;  failed with       <a href=\"file://c:\\Users\\gufer\\miniconda3\\envs\\mtg_env\\Lib\\site-packages\\kedro\\pipeline\\node.py\" target=\"_blank\"><span style=\"color: #7f7f7f; text-decoration-color: #7f7f7f\">node.py</span></a><span style=\"color: #7f7f7f; text-decoration-color: #7f7f7f\">:</span><a href=\"file://c:\\Users\\gufer\\miniconda3\\envs\\mtg_env\\Lib\\site-packages\\kedro\\pipeline\\node.py#389\" target=\"_blank\"><span style=\"color: #7f7f7f; text-decoration-color: #7f7f7f\">389</span></a>\n",
       "<span style=\"color: #7fbfbf; text-decoration-color: #7fbfbf\">                    </span>         error:                                                                     <span style=\"color: #7f7f7f; text-decoration-color: #7f7f7f\">           </span>\n",
       "<span style=\"color: #7fbfbf; text-decoration-color: #7fbfbf\">                    </span>         category type does not support sum operations                              <span style=\"color: #7f7f7f; text-decoration-color: #7f7f7f\">           </span>\n",
       "</pre>\n"
      ],
      "text/plain": [
       "\u001b[2;36m                   \u001b[0m\u001b[2;36m \u001b[0m\u001b[1;31mERROR   \u001b[0m Node feature_engineering_node: \u001b[1;35mfeature_engineering\u001b[0m\u001b[1m(\u001b[0m\u001b[1m)\u001b[0m ->  failed with       \u001b]8;id=884111;file://c:\\Users\\gufer\\miniconda3\\envs\\mtg_env\\Lib\\site-packages\\kedro\\pipeline\\node.py\u001b\\\u001b[2mnode.py\u001b[0m\u001b]8;;\u001b\\\u001b[2m:\u001b[0m\u001b]8;id=287706;file://c:\\Users\\gufer\\miniconda3\\envs\\mtg_env\\Lib\\site-packages\\kedro\\pipeline\\node.py#389\u001b\\\u001b[2m389\u001b[0m\u001b]8;;\u001b\\\n",
       "\u001b[2;36m                    \u001b[0m         error:                                                                     \u001b[2m           \u001b[0m\n",
       "\u001b[2;36m                    \u001b[0m         category type does not support sum operations                              \u001b[2m           \u001b[0m\n"
      ]
     },
     "metadata": {},
     "output_type": "display_data"
    },
    {
     "data": {
      "text/html": [
       "<pre style=\"white-space:pre;overflow-x:auto;line-height:normal;font-family:Menlo,'DejaVu Sans Mono',consolas,'Courier New',monospace\"><span style=\"color: #7fbfbf; text-decoration-color: #7fbfbf\">                    </span><span style=\"color: #808000; text-decoration-color: #808000\">WARNING </span> No nodes ran. Repeat the previous command to attempt a new run.          <a href=\"file://c:\\Users\\gufer\\miniconda3\\envs\\mtg_env\\Lib\\site-packages\\kedro\\runner\\runner.py\" target=\"_blank\"><span style=\"color: #7f7f7f; text-decoration-color: #7f7f7f\">runner.py</span></a><span style=\"color: #7f7f7f; text-decoration-color: #7f7f7f\">:</span><a href=\"file://c:\\Users\\gufer\\miniconda3\\envs\\mtg_env\\Lib\\site-packages\\kedro\\runner\\runner.py#214\" target=\"_blank\"><span style=\"color: #7f7f7f; text-decoration-color: #7f7f7f\">214</span></a>\n",
       "</pre>\n"
      ],
      "text/plain": [
       "\u001b[2;36m                   \u001b[0m\u001b[2;36m \u001b[0m\u001b[33mWARNING \u001b[0m No nodes ran. Repeat the previous command to attempt a new run.          \u001b]8;id=760420;file://c:\\Users\\gufer\\miniconda3\\envs\\mtg_env\\Lib\\site-packages\\kedro\\runner\\runner.py\u001b\\\u001b[2mrunner.py\u001b[0m\u001b]8;;\u001b\\\u001b[2m:\u001b[0m\u001b]8;id=823813;file://c:\\Users\\gufer\\miniconda3\\envs\\mtg_env\\Lib\\site-packages\\kedro\\runner\\runner.py#214\u001b\\\u001b[2m214\u001b[0m\u001b]8;;\u001b\\\n"
      ]
     },
     "metadata": {},
     "output_type": "display_data"
    },
    {
     "data": {
      "text/html": [
       "<pre style=\"white-space:pre;overflow-x:auto;line-height:normal;font-family:Menlo,'DejaVu Sans Mono',consolas,'Courier New',monospace\"><span style=\"color: #800000; text-decoration-color: #800000\">╭─────────────────────────────── </span><span style=\"color: #800000; text-decoration-color: #800000; font-weight: bold\">Traceback </span><span style=\"color: #bf7f7f; text-decoration-color: #bf7f7f; font-weight: bold\">(most recent call last)</span><span style=\"color: #800000; text-decoration-color: #800000\"> ────────────────────────────────╮</span>\n",
       "<span style=\"color: #800000; text-decoration-color: #800000\">│</span> in <span style=\"color: #00ff00; text-decoration-color: #00ff00\">&lt;module&gt;</span>:<span style=\"color: #0000ff; text-decoration-color: #0000ff\">2</span>                                                                                    <span style=\"color: #800000; text-decoration-color: #800000\">│</span>\n",
       "<span style=\"color: #800000; text-decoration-color: #800000\">│</span>                                                                                                  <span style=\"color: #800000; text-decoration-color: #800000\">│</span>\n",
       "<span style=\"color: #800000; text-decoration-color: #800000\">│</span>   <span style=\"color: #7f7f7f; text-decoration-color: #7f7f7f\">1 </span><span style=\"color: #0000ff; text-decoration-color: #0000ff\">with</span> KedroSession.create(env=<span style=\"color: #808000; text-decoration-color: #808000\">\"local\"</span>, project_path=project_path) <span style=\"color: #0000ff; text-decoration-color: #0000ff\">as</span> session:                 <span style=\"color: #800000; text-decoration-color: #800000\">│</span>\n",
       "<span style=\"color: #800000; text-decoration-color: #800000\">│</span> <span style=\"color: #800000; text-decoration-color: #800000\">❱ </span>2 <span style=\"color: #7f7f7f; text-decoration-color: #7f7f7f\">│   </span>session.run(pipeline_name=<span style=\"color: #808000; text-decoration-color: #808000\">\"modeling\"</span>)                                                    <span style=\"color: #800000; text-decoration-color: #800000\">│</span>\n",
       "<span style=\"color: #800000; text-decoration-color: #800000\">│</span>   <span style=\"color: #7f7f7f; text-decoration-color: #7f7f7f\">3 </span>                                                                                             <span style=\"color: #800000; text-decoration-color: #800000\">│</span>\n",
       "<span style=\"color: #800000; text-decoration-color: #800000\">│</span>                                                                                                  <span style=\"color: #800000; text-decoration-color: #800000\">│</span>\n",
       "<span style=\"color: #800000; text-decoration-color: #800000\">│</span> <span style=\"color: #808000; text-decoration-color: #808000\">c:\\Users\\gufer\\miniconda3\\envs\\mtg_env\\Lib\\site-packages\\kedro\\framework\\session\\session.py</span>:<span style=\"color: #0000ff; text-decoration-color: #0000ff\">398</span>  <span style=\"color: #800000; text-decoration-color: #800000\">│</span>\n",
       "<span style=\"color: #800000; text-decoration-color: #800000\">│</span> in <span style=\"color: #00ff00; text-decoration-color: #00ff00\">run</span>                                                                                           <span style=\"color: #800000; text-decoration-color: #800000\">│</span>\n",
       "<span style=\"color: #800000; text-decoration-color: #800000\">│</span>                                                                                                  <span style=\"color: #800000; text-decoration-color: #800000\">│</span>\n",
       "<span style=\"color: #800000; text-decoration-color: #800000\">│</span> <span style=\"color: #808000; text-decoration-color: #808000\">c:\\Users\\gufer\\miniconda3\\envs\\mtg_env\\Lib\\site-packages\\kedro\\runner\\runner.py</span>:<span style=\"color: #0000ff; text-decoration-color: #0000ff\">121</span> in <span style=\"color: #00ff00; text-decoration-color: #00ff00\">run</span>       <span style=\"color: #800000; text-decoration-color: #800000\">│</span>\n",
       "<span style=\"color: #800000; text-decoration-color: #800000\">│</span>                                                                                                  <span style=\"color: #800000; text-decoration-color: #800000\">│</span>\n",
       "<span style=\"color: #800000; text-decoration-color: #800000\">│</span> <span style=\"color: #808000; text-decoration-color: #808000\">c:\\Users\\gufer\\miniconda3\\envs\\mtg_env\\Lib\\site-packages\\kedro\\runner\\sequential_runner.py</span>:<span style=\"color: #0000ff; text-decoration-color: #0000ff\">78</span> in <span style=\"color: #800000; text-decoration-color: #800000\">│</span>\n",
       "<span style=\"color: #800000; text-decoration-color: #800000\">│</span> <span style=\"color: #00ff00; text-decoration-color: #00ff00\">_run</span>                                                                                             <span style=\"color: #800000; text-decoration-color: #800000\">│</span>\n",
       "<span style=\"color: #800000; text-decoration-color: #800000\">│</span>                                                                                                  <span style=\"color: #800000; text-decoration-color: #800000\">│</span>\n",
       "<span style=\"color: #800000; text-decoration-color: #800000\">│</span> <span style=\"color: #808000; text-decoration-color: #808000\">c:\\Users\\gufer\\miniconda3\\envs\\mtg_env\\Lib\\site-packages\\kedro\\runner\\runner.py</span>:<span style=\"color: #0000ff; text-decoration-color: #0000ff\">417</span> in <span style=\"color: #00ff00; text-decoration-color: #00ff00\">run_node</span>  <span style=\"color: #800000; text-decoration-color: #800000\">│</span>\n",
       "<span style=\"color: #800000; text-decoration-color: #800000\">│</span>                                                                                                  <span style=\"color: #800000; text-decoration-color: #800000\">│</span>\n",
       "<span style=\"color: #800000; text-decoration-color: #800000\">│</span> <span style=\"color: #808000; text-decoration-color: #808000\">c:\\Users\\gufer\\miniconda3\\envs\\mtg_env\\Lib\\site-packages\\kedro\\runner\\runner.py</span>:<span style=\"color: #0000ff; text-decoration-color: #0000ff\">510</span> in           <span style=\"color: #800000; text-decoration-color: #800000\">│</span>\n",
       "<span style=\"color: #800000; text-decoration-color: #800000\">│</span> <span style=\"color: #00ff00; text-decoration-color: #00ff00\">_run_node_sequential</span>                                                                             <span style=\"color: #800000; text-decoration-color: #800000\">│</span>\n",
       "<span style=\"color: #800000; text-decoration-color: #800000\">│</span>                                                                                                  <span style=\"color: #800000; text-decoration-color: #800000\">│</span>\n",
       "<span style=\"color: #800000; text-decoration-color: #800000\">│</span> <span style=\"color: #808000; text-decoration-color: #808000\">c:\\Users\\gufer\\miniconda3\\envs\\mtg_env\\Lib\\site-packages\\kedro\\runner\\runner.py</span>:<span style=\"color: #0000ff; text-decoration-color: #0000ff\">476</span> in           <span style=\"color: #800000; text-decoration-color: #800000\">│</span>\n",
       "<span style=\"color: #800000; text-decoration-color: #800000\">│</span> <span style=\"color: #00ff00; text-decoration-color: #00ff00\">_call_node_run</span>                                                                                   <span style=\"color: #800000; text-decoration-color: #800000\">│</span>\n",
       "<span style=\"color: #800000; text-decoration-color: #800000\">│</span>                                                                                                  <span style=\"color: #800000; text-decoration-color: #800000\">│</span>\n",
       "<span style=\"color: #800000; text-decoration-color: #800000\">│</span> <span style=\"color: #808000; text-decoration-color: #808000\">c:\\Users\\gufer\\miniconda3\\envs\\mtg_env\\Lib\\site-packages\\kedro\\runner\\runner.py</span>:<span style=\"color: #0000ff; text-decoration-color: #0000ff\">466</span> in           <span style=\"color: #800000; text-decoration-color: #800000\">│</span>\n",
       "<span style=\"color: #800000; text-decoration-color: #800000\">│</span> <span style=\"color: #00ff00; text-decoration-color: #00ff00\">_call_node_run</span>                                                                                   <span style=\"color: #800000; text-decoration-color: #800000\">│</span>\n",
       "<span style=\"color: #800000; text-decoration-color: #800000\">│</span>                                                                                                  <span style=\"color: #800000; text-decoration-color: #800000\">│</span>\n",
       "<span style=\"color: #800000; text-decoration-color: #800000\">│</span> <span style=\"color: #808000; text-decoration-color: #808000\">c:\\Users\\gufer\\miniconda3\\envs\\mtg_env\\Lib\\site-packages\\kedro\\pipeline\\node.py</span>:<span style=\"color: #0000ff; text-decoration-color: #0000ff\">395</span> in <span style=\"color: #00ff00; text-decoration-color: #00ff00\">run</span>       <span style=\"color: #800000; text-decoration-color: #800000\">│</span>\n",
       "<span style=\"color: #800000; text-decoration-color: #800000\">│</span>                                                                                                  <span style=\"color: #800000; text-decoration-color: #800000\">│</span>\n",
       "<span style=\"color: #800000; text-decoration-color: #800000\">│</span> <span style=\"color: #808000; text-decoration-color: #808000\">c:\\Users\\gufer\\miniconda3\\envs\\mtg_env\\Lib\\site-packages\\kedro\\pipeline\\node.py</span>:<span style=\"color: #0000ff; text-decoration-color: #0000ff\">381</span> in <span style=\"color: #00ff00; text-decoration-color: #00ff00\">run</span>       <span style=\"color: #800000; text-decoration-color: #800000\">│</span>\n",
       "<span style=\"color: #800000; text-decoration-color: #800000\">│</span>                                                                                                  <span style=\"color: #800000; text-decoration-color: #800000\">│</span>\n",
       "<span style=\"color: #800000; text-decoration-color: #800000\">│</span> <span style=\"color: #808000; text-decoration-color: #808000\">c:\\Users\\gufer\\miniconda3\\envs\\mtg_env\\Lib\\site-packages\\kedro\\pipeline\\node.py</span>:<span style=\"color: #0000ff; text-decoration-color: #0000ff\">426</span> in           <span style=\"color: #800000; text-decoration-color: #800000\">│</span>\n",
       "<span style=\"color: #800000; text-decoration-color: #800000\">│</span> <span style=\"color: #00ff00; text-decoration-color: #00ff00\">_run_with_list</span>                                                                                   <span style=\"color: #800000; text-decoration-color: #800000\">│</span>\n",
       "<span style=\"color: #800000; text-decoration-color: #800000\">│</span>                                                                                                  <span style=\"color: #800000; text-decoration-color: #800000\">│</span>\n",
       "<span style=\"color: #800000; text-decoration-color: #800000\">│</span> <span style=\"color: #808000; text-decoration-color: #808000\">c:\\Users\\gufer\\OneDrive\\Documentos\\FIAP\\Fase_03\\mtg-project\\src\\mtg_project\\pipelines\\modeling\\n</span> <span style=\"color: #800000; text-decoration-color: #800000\">│</span>\n",
       "<span style=\"color: #800000; text-decoration-color: #800000\">│</span> <span style=\"color: #808000; text-decoration-color: #808000\">odes.py</span>:<span style=\"color: #0000ff; text-decoration-color: #0000ff\">96</span> in <span style=\"color: #00ff00; text-decoration-color: #00ff00\">feature_engineering</span>                                                                <span style=\"color: #800000; text-decoration-color: #800000\">│</span>\n",
       "<span style=\"color: #800000; text-decoration-color: #800000\">│</span>                                                                                                  <span style=\"color: #800000; text-decoration-color: #800000\">│</span>\n",
       "<span style=\"color: #800000; text-decoration-color: #800000\">│</span>   <span style=\"color: #7f7f7f; text-decoration-color: #7f7f7f\"> 93 </span><span style=\"color: #7f7f7f; text-decoration-color: #7f7f7f\">│   </span>matches_df.drop(columns=[<span style=\"color: #808000; text-decoration-color: #808000\">'deck_colors'</span>], inplace=<span style=\"color: #0000ff; text-decoration-color: #0000ff\">True</span>)                                 <span style=\"color: #800000; text-decoration-color: #800000\">│</span>\n",
       "<span style=\"color: #800000; text-decoration-color: #800000\">│</span>   <span style=\"color: #7f7f7f; text-decoration-color: #7f7f7f\"> 94 </span><span style=\"color: #7f7f7f; text-decoration-color: #7f7f7f\">│   </span>                                                                                       <span style=\"color: #800000; text-decoration-color: #800000\">│</span>\n",
       "<span style=\"color: #800000; text-decoration-color: #800000\">│</span>   <span style=\"color: #7f7f7f; text-decoration-color: #7f7f7f\"> 95 </span><span style=\"color: #7f7f7f; text-decoration-color: #7f7f7f\">│   </span><span style=\"color: #7f7f7f; text-decoration-color: #7f7f7f\"># Cria uma coluna com a quantidade de cores total do deck</span>                              <span style=\"color: #800000; text-decoration-color: #800000\">│</span>\n",
       "<span style=\"color: #800000; text-decoration-color: #800000\">│</span> <span style=\"color: #800000; text-decoration-color: #800000\">❱ </span> 96 <span style=\"color: #7f7f7f; text-decoration-color: #7f7f7f\">│   </span>matches_df[<span style=\"color: #808000; text-decoration-color: #808000\">'n_colors'</span>] = matches_df[all_colors].sum(axis=<span style=\"color: #0000ff; text-decoration-color: #0000ff\">1</span>)                            <span style=\"color: #800000; text-decoration-color: #800000\">│</span>\n",
       "<span style=\"color: #800000; text-decoration-color: #800000\">│</span>   <span style=\"color: #7f7f7f; text-decoration-color: #7f7f7f\"> 97 </span><span style=\"color: #7f7f7f; text-decoration-color: #7f7f7f\">│   </span>                                                                                       <span style=\"color: #800000; text-decoration-color: #800000\">│</span>\n",
       "<span style=\"color: #800000; text-decoration-color: #800000\">│</span>   <span style=\"color: #7f7f7f; text-decoration-color: #7f7f7f\"> 98 </span><span style=\"color: #7f7f7f; text-decoration-color: #7f7f7f\">│   </span>logger.info(<span style=\"color: #808000; text-decoration-color: #808000\">\"Criando lag features...\"</span>)                                                 <span style=\"color: #800000; text-decoration-color: #800000\">│</span>\n",
       "<span style=\"color: #800000; text-decoration-color: #800000\">│</span>   <span style=\"color: #7f7f7f; text-decoration-color: #7f7f7f\"> 99 </span>                                                                                           <span style=\"color: #800000; text-decoration-color: #800000\">│</span>\n",
       "<span style=\"color: #800000; text-decoration-color: #800000\">│</span>                                                                                                  <span style=\"color: #800000; text-decoration-color: #800000\">│</span>\n",
       "<span style=\"color: #800000; text-decoration-color: #800000\">│</span> <span style=\"color: #808000; text-decoration-color: #808000\">c:\\Users\\gufer\\miniconda3\\envs\\mtg_env\\Lib\\site-packages\\pandas\\core\\frame.py</span>:<span style=\"color: #0000ff; text-decoration-color: #0000ff\">11670</span> in <span style=\"color: #00ff00; text-decoration-color: #00ff00\">sum</span>       <span style=\"color: #800000; text-decoration-color: #800000\">│</span>\n",
       "<span style=\"color: #800000; text-decoration-color: #800000\">│</span>                                                                                                  <span style=\"color: #800000; text-decoration-color: #800000\">│</span>\n",
       "<span style=\"color: #800000; text-decoration-color: #800000\">│</span> <span style=\"color: #808000; text-decoration-color: #808000\">c:\\Users\\gufer\\miniconda3\\envs\\mtg_env\\Lib\\site-packages\\pandas\\core\\generic.py</span>:<span style=\"color: #0000ff; text-decoration-color: #0000ff\">12506</span> in <span style=\"color: #00ff00; text-decoration-color: #00ff00\">sum</span>     <span style=\"color: #800000; text-decoration-color: #800000\">│</span>\n",
       "<span style=\"color: #800000; text-decoration-color: #800000\">│</span>                                                                                                  <span style=\"color: #800000; text-decoration-color: #800000\">│</span>\n",
       "<span style=\"color: #800000; text-decoration-color: #800000\">│</span> <span style=\"color: #808000; text-decoration-color: #808000\">c:\\Users\\gufer\\miniconda3\\envs\\mtg_env\\Lib\\site-packages\\pandas\\core\\generic.py</span>:<span style=\"color: #0000ff; text-decoration-color: #0000ff\">12489</span> in         <span style=\"color: #800000; text-decoration-color: #800000\">│</span>\n",
       "<span style=\"color: #800000; text-decoration-color: #800000\">│</span> <span style=\"color: #00ff00; text-decoration-color: #00ff00\">_min_count_stat_function</span>                                                                         <span style=\"color: #800000; text-decoration-color: #800000\">│</span>\n",
       "<span style=\"color: #800000; text-decoration-color: #800000\">│</span>                                                                                                  <span style=\"color: #800000; text-decoration-color: #800000\">│</span>\n",
       "<span style=\"color: #800000; text-decoration-color: #800000\">│</span> <span style=\"color: #808000; text-decoration-color: #808000\">c:\\Users\\gufer\\miniconda3\\envs\\mtg_env\\Lib\\site-packages\\pandas\\core\\frame.py</span>:<span style=\"color: #0000ff; text-decoration-color: #0000ff\">11550</span> in <span style=\"color: #00ff00; text-decoration-color: #00ff00\">_reduce</span>   <span style=\"color: #800000; text-decoration-color: #800000\">│</span>\n",
       "<span style=\"color: #800000; text-decoration-color: #800000\">│</span>                                                                                                  <span style=\"color: #800000; text-decoration-color: #800000\">│</span>\n",
       "<span style=\"color: #800000; text-decoration-color: #800000\">│</span> <span style=\"color: #808000; text-decoration-color: #808000\">c:\\Users\\gufer\\miniconda3\\envs\\mtg_env\\Lib\\site-packages\\pandas\\core\\groupby\\generic.py</span>:<span style=\"color: #0000ff; text-decoration-color: #0000ff\">249</span> in   <span style=\"color: #800000; text-decoration-color: #800000\">│</span>\n",
       "<span style=\"color: #800000; text-decoration-color: #800000\">│</span> <span style=\"color: #00ff00; text-decoration-color: #00ff00\">aggregate</span>                                                                                        <span style=\"color: #800000; text-decoration-color: #800000\">│</span>\n",
       "<span style=\"color: #800000; text-decoration-color: #800000\">│</span>                                                                                                  <span style=\"color: #800000; text-decoration-color: #800000\">│</span>\n",
       "<span style=\"color: #800000; text-decoration-color: #800000\">│</span> <span style=\"color: #808000; text-decoration-color: #808000\">c:\\Users\\gufer\\miniconda3\\envs\\mtg_env\\Lib\\site-packages\\pandas\\core\\groupby\\groupby.py</span>:<span style=\"color: #0000ff; text-decoration-color: #0000ff\">3146</span> in  <span style=\"color: #800000; text-decoration-color: #800000\">│</span>\n",
       "<span style=\"color: #800000; text-decoration-color: #800000\">│</span> <span style=\"color: #00ff00; text-decoration-color: #00ff00\">sum</span>                                                                                              <span style=\"color: #800000; text-decoration-color: #800000\">│</span>\n",
       "<span style=\"color: #800000; text-decoration-color: #800000\">│</span>                                                                                                  <span style=\"color: #800000; text-decoration-color: #800000\">│</span>\n",
       "<span style=\"color: #800000; text-decoration-color: #800000\">│</span> <span style=\"color: #808000; text-decoration-color: #808000\">c:\\Users\\gufer\\miniconda3\\envs\\mtg_env\\Lib\\site-packages\\pandas\\core\\groupby\\groupby.py</span>:<span style=\"color: #0000ff; text-decoration-color: #0000ff\">1906</span> in  <span style=\"color: #800000; text-decoration-color: #800000\">│</span>\n",
       "<span style=\"color: #800000; text-decoration-color: #800000\">│</span> <span style=\"color: #00ff00; text-decoration-color: #00ff00\">_agg_general</span>                                                                                     <span style=\"color: #800000; text-decoration-color: #800000\">│</span>\n",
       "<span style=\"color: #800000; text-decoration-color: #800000\">│</span>                                                                                                  <span style=\"color: #800000; text-decoration-color: #800000\">│</span>\n",
       "<span style=\"color: #800000; text-decoration-color: #800000\">│</span> <span style=\"color: #808000; text-decoration-color: #808000\">c:\\Users\\gufer\\miniconda3\\envs\\mtg_env\\Lib\\site-packages\\pandas\\core\\groupby\\groupby.py</span>:<span style=\"color: #0000ff; text-decoration-color: #0000ff\">1998</span> in  <span style=\"color: #800000; text-decoration-color: #800000\">│</span>\n",
       "<span style=\"color: #800000; text-decoration-color: #800000\">│</span> <span style=\"color: #00ff00; text-decoration-color: #00ff00\">_cython_agg_general</span>                                                                              <span style=\"color: #800000; text-decoration-color: #800000\">│</span>\n",
       "<span style=\"color: #800000; text-decoration-color: #800000\">│</span>                                                                                                  <span style=\"color: #800000; text-decoration-color: #800000\">│</span>\n",
       "<span style=\"color: #800000; text-decoration-color: #800000\">│</span> <span style=\"color: #808000; text-decoration-color: #808000\">c:\\Users\\gufer\\miniconda3\\envs\\mtg_env\\Lib\\site-packages\\pandas\\core\\internals\\base.py</span>:<span style=\"color: #0000ff; text-decoration-color: #0000ff\">367</span> in    <span style=\"color: #800000; text-decoration-color: #800000\">│</span>\n",
       "<span style=\"color: #800000; text-decoration-color: #800000\">│</span> <span style=\"color: #00ff00; text-decoration-color: #00ff00\">grouped_reduce</span>                                                                                   <span style=\"color: #800000; text-decoration-color: #800000\">│</span>\n",
       "<span style=\"color: #800000; text-decoration-color: #800000\">│</span>                                                                                                  <span style=\"color: #800000; text-decoration-color: #800000\">│</span>\n",
       "<span style=\"color: #800000; text-decoration-color: #800000\">│</span> <span style=\"color: #808000; text-decoration-color: #808000\">c:\\Users\\gufer\\miniconda3\\envs\\mtg_env\\Lib\\site-packages\\pandas\\core\\groupby\\groupby.py</span>:<span style=\"color: #0000ff; text-decoration-color: #0000ff\">1973</span> in  <span style=\"color: #800000; text-decoration-color: #800000\">│</span>\n",
       "<span style=\"color: #800000; text-decoration-color: #800000\">│</span> <span style=\"color: #00ff00; text-decoration-color: #00ff00\">array_func</span>                                                                                       <span style=\"color: #800000; text-decoration-color: #800000\">│</span>\n",
       "<span style=\"color: #800000; text-decoration-color: #800000\">│</span>                                                                                                  <span style=\"color: #800000; text-decoration-color: #800000\">│</span>\n",
       "<span style=\"color: #800000; text-decoration-color: #800000\">│</span> <span style=\"color: #808000; text-decoration-color: #808000\">c:\\Users\\gufer\\miniconda3\\envs\\mtg_env\\Lib\\site-packages\\pandas\\core\\groupby\\ops.py</span>:<span style=\"color: #0000ff; text-decoration-color: #0000ff\">831</span> in       <span style=\"color: #800000; text-decoration-color: #800000\">│</span>\n",
       "<span style=\"color: #800000; text-decoration-color: #800000\">│</span> <span style=\"color: #00ff00; text-decoration-color: #00ff00\">_cython_operation</span>                                                                                <span style=\"color: #800000; text-decoration-color: #800000\">│</span>\n",
       "<span style=\"color: #800000; text-decoration-color: #800000\">│</span>                                                                                                  <span style=\"color: #800000; text-decoration-color: #800000\">│</span>\n",
       "<span style=\"color: #800000; text-decoration-color: #800000\">│</span> <span style=\"color: #808000; text-decoration-color: #808000\">c:\\Users\\gufer\\miniconda3\\envs\\mtg_env\\Lib\\site-packages\\pandas\\core\\groupby\\ops.py</span>:<span style=\"color: #0000ff; text-decoration-color: #0000ff\">541</span> in       <span style=\"color: #800000; text-decoration-color: #800000\">│</span>\n",
       "<span style=\"color: #800000; text-decoration-color: #800000\">│</span> <span style=\"color: #00ff00; text-decoration-color: #00ff00\">cython_operation</span>                                                                                 <span style=\"color: #800000; text-decoration-color: #800000\">│</span>\n",
       "<span style=\"color: #800000; text-decoration-color: #800000\">│</span>                                                                                                  <span style=\"color: #800000; text-decoration-color: #800000\">│</span>\n",
       "<span style=\"color: #800000; text-decoration-color: #800000\">│</span> <span style=\"color: #808000; text-decoration-color: #808000\">c:\\Users\\gufer\\miniconda3\\envs\\mtg_env\\Lib\\site-packages\\pandas\\core\\arrays\\categorical.py</span>:<span style=\"color: #0000ff; text-decoration-color: #0000ff\">2721</span>  <span style=\"color: #800000; text-decoration-color: #800000\">│</span>\n",
       "<span style=\"color: #800000; text-decoration-color: #800000\">│</span> in <span style=\"color: #00ff00; text-decoration-color: #00ff00\">_groupby_op</span>                                                                                   <span style=\"color: #800000; text-decoration-color: #800000\">│</span>\n",
       "<span style=\"color: #800000; text-decoration-color: #800000\">╰──────────────────────────────────────────────────────────────────────────────────────────────────╯</span>\n",
       "<span style=\"color: #ff0000; text-decoration-color: #ff0000; font-weight: bold\">TypeError: </span>category type does not support sum operations\n",
       "</pre>\n"
      ],
      "text/plain": [
       "\u001b[31m╭─\u001b[0m\u001b[31m──────────────────────────────\u001b[0m\u001b[31m \u001b[0m\u001b[1;31mTraceback \u001b[0m\u001b[1;2;31m(most recent call last)\u001b[0m\u001b[31m \u001b[0m\u001b[31m───────────────────────────────\u001b[0m\u001b[31m─╮\u001b[0m\n",
       "\u001b[31m│\u001b[0m in \u001b[92m<module>\u001b[0m:\u001b[94m2\u001b[0m                                                                                    \u001b[31m│\u001b[0m\n",
       "\u001b[31m│\u001b[0m                                                                                                  \u001b[31m│\u001b[0m\n",
       "\u001b[31m│\u001b[0m   \u001b[2m1 \u001b[0m\u001b[94mwith\u001b[0m KedroSession.create(env=\u001b[33m\"\u001b[0m\u001b[33mlocal\u001b[0m\u001b[33m\"\u001b[0m, project_path=project_path) \u001b[94mas\u001b[0m session:                 \u001b[31m│\u001b[0m\n",
       "\u001b[31m│\u001b[0m \u001b[31m❱ \u001b[0m2 \u001b[2m│   \u001b[0msession.run(pipeline_name=\u001b[33m\"\u001b[0m\u001b[33mmodeling\u001b[0m\u001b[33m\"\u001b[0m)                                                    \u001b[31m│\u001b[0m\n",
       "\u001b[31m│\u001b[0m   \u001b[2m3 \u001b[0m                                                                                             \u001b[31m│\u001b[0m\n",
       "\u001b[31m│\u001b[0m                                                                                                  \u001b[31m│\u001b[0m\n",
       "\u001b[31m│\u001b[0m \u001b[33mc:\\Users\\gufer\\miniconda3\\envs\\mtg_env\\Lib\\site-packages\\kedro\\framework\\session\\session.py\u001b[0m:\u001b[94m398\u001b[0m  \u001b[31m│\u001b[0m\n",
       "\u001b[31m│\u001b[0m in \u001b[92mrun\u001b[0m                                                                                           \u001b[31m│\u001b[0m\n",
       "\u001b[31m│\u001b[0m                                                                                                  \u001b[31m│\u001b[0m\n",
       "\u001b[31m│\u001b[0m \u001b[33mc:\\Users\\gufer\\miniconda3\\envs\\mtg_env\\Lib\\site-packages\\kedro\\runner\\runner.py\u001b[0m:\u001b[94m121\u001b[0m in \u001b[92mrun\u001b[0m       \u001b[31m│\u001b[0m\n",
       "\u001b[31m│\u001b[0m                                                                                                  \u001b[31m│\u001b[0m\n",
       "\u001b[31m│\u001b[0m \u001b[33mc:\\Users\\gufer\\miniconda3\\envs\\mtg_env\\Lib\\site-packages\\kedro\\runner\\sequential_runner.py\u001b[0m:\u001b[94m78\u001b[0m in \u001b[31m│\u001b[0m\n",
       "\u001b[31m│\u001b[0m \u001b[92m_run\u001b[0m                                                                                             \u001b[31m│\u001b[0m\n",
       "\u001b[31m│\u001b[0m                                                                                                  \u001b[31m│\u001b[0m\n",
       "\u001b[31m│\u001b[0m \u001b[33mc:\\Users\\gufer\\miniconda3\\envs\\mtg_env\\Lib\\site-packages\\kedro\\runner\\runner.py\u001b[0m:\u001b[94m417\u001b[0m in \u001b[92mrun_node\u001b[0m  \u001b[31m│\u001b[0m\n",
       "\u001b[31m│\u001b[0m                                                                                                  \u001b[31m│\u001b[0m\n",
       "\u001b[31m│\u001b[0m \u001b[33mc:\\Users\\gufer\\miniconda3\\envs\\mtg_env\\Lib\\site-packages\\kedro\\runner\\runner.py\u001b[0m:\u001b[94m510\u001b[0m in           \u001b[31m│\u001b[0m\n",
       "\u001b[31m│\u001b[0m \u001b[92m_run_node_sequential\u001b[0m                                                                             \u001b[31m│\u001b[0m\n",
       "\u001b[31m│\u001b[0m                                                                                                  \u001b[31m│\u001b[0m\n",
       "\u001b[31m│\u001b[0m \u001b[33mc:\\Users\\gufer\\miniconda3\\envs\\mtg_env\\Lib\\site-packages\\kedro\\runner\\runner.py\u001b[0m:\u001b[94m476\u001b[0m in           \u001b[31m│\u001b[0m\n",
       "\u001b[31m│\u001b[0m \u001b[92m_call_node_run\u001b[0m                                                                                   \u001b[31m│\u001b[0m\n",
       "\u001b[31m│\u001b[0m                                                                                                  \u001b[31m│\u001b[0m\n",
       "\u001b[31m│\u001b[0m \u001b[33mc:\\Users\\gufer\\miniconda3\\envs\\mtg_env\\Lib\\site-packages\\kedro\\runner\\runner.py\u001b[0m:\u001b[94m466\u001b[0m in           \u001b[31m│\u001b[0m\n",
       "\u001b[31m│\u001b[0m \u001b[92m_call_node_run\u001b[0m                                                                                   \u001b[31m│\u001b[0m\n",
       "\u001b[31m│\u001b[0m                                                                                                  \u001b[31m│\u001b[0m\n",
       "\u001b[31m│\u001b[0m \u001b[33mc:\\Users\\gufer\\miniconda3\\envs\\mtg_env\\Lib\\site-packages\\kedro\\pipeline\\node.py\u001b[0m:\u001b[94m395\u001b[0m in \u001b[92mrun\u001b[0m       \u001b[31m│\u001b[0m\n",
       "\u001b[31m│\u001b[0m                                                                                                  \u001b[31m│\u001b[0m\n",
       "\u001b[31m│\u001b[0m \u001b[33mc:\\Users\\gufer\\miniconda3\\envs\\mtg_env\\Lib\\site-packages\\kedro\\pipeline\\node.py\u001b[0m:\u001b[94m381\u001b[0m in \u001b[92mrun\u001b[0m       \u001b[31m│\u001b[0m\n",
       "\u001b[31m│\u001b[0m                                                                                                  \u001b[31m│\u001b[0m\n",
       "\u001b[31m│\u001b[0m \u001b[33mc:\\Users\\gufer\\miniconda3\\envs\\mtg_env\\Lib\\site-packages\\kedro\\pipeline\\node.py\u001b[0m:\u001b[94m426\u001b[0m in           \u001b[31m│\u001b[0m\n",
       "\u001b[31m│\u001b[0m \u001b[92m_run_with_list\u001b[0m                                                                                   \u001b[31m│\u001b[0m\n",
       "\u001b[31m│\u001b[0m                                                                                                  \u001b[31m│\u001b[0m\n",
       "\u001b[31m│\u001b[0m \u001b[33mc:\\Users\\gufer\\OneDrive\\Documentos\\FIAP\\Fase_03\\mtg-project\\src\\mtg_project\\pipelines\\modeling\\n\u001b[0m \u001b[31m│\u001b[0m\n",
       "\u001b[31m│\u001b[0m \u001b[33modes.py\u001b[0m:\u001b[94m96\u001b[0m in \u001b[92mfeature_engineering\u001b[0m                                                                \u001b[31m│\u001b[0m\n",
       "\u001b[31m│\u001b[0m                                                                                                  \u001b[31m│\u001b[0m\n",
       "\u001b[31m│\u001b[0m   \u001b[2m 93 \u001b[0m\u001b[2m│   \u001b[0mmatches_df.drop(columns=[\u001b[33m'\u001b[0m\u001b[33mdeck_colors\u001b[0m\u001b[33m'\u001b[0m], inplace=\u001b[94mTrue\u001b[0m)                                 \u001b[31m│\u001b[0m\n",
       "\u001b[31m│\u001b[0m   \u001b[2m 94 \u001b[0m\u001b[2m│   \u001b[0m                                                                                       \u001b[31m│\u001b[0m\n",
       "\u001b[31m│\u001b[0m   \u001b[2m 95 \u001b[0m\u001b[2m│   \u001b[0m\u001b[2m# Cria uma coluna com a quantidade de cores total do deck\u001b[0m                              \u001b[31m│\u001b[0m\n",
       "\u001b[31m│\u001b[0m \u001b[31m❱ \u001b[0m 96 \u001b[2m│   \u001b[0mmatches_df[\u001b[33m'\u001b[0m\u001b[33mn_colors\u001b[0m\u001b[33m'\u001b[0m] = matches_df[all_colors].sum(axis=\u001b[94m1\u001b[0m)                            \u001b[31m│\u001b[0m\n",
       "\u001b[31m│\u001b[0m   \u001b[2m 97 \u001b[0m\u001b[2m│   \u001b[0m                                                                                       \u001b[31m│\u001b[0m\n",
       "\u001b[31m│\u001b[0m   \u001b[2m 98 \u001b[0m\u001b[2m│   \u001b[0mlogger.info(\u001b[33m\"\u001b[0m\u001b[33mCriando lag features...\u001b[0m\u001b[33m\"\u001b[0m)                                                 \u001b[31m│\u001b[0m\n",
       "\u001b[31m│\u001b[0m   \u001b[2m 99 \u001b[0m                                                                                           \u001b[31m│\u001b[0m\n",
       "\u001b[31m│\u001b[0m                                                                                                  \u001b[31m│\u001b[0m\n",
       "\u001b[31m│\u001b[0m \u001b[33mc:\\Users\\gufer\\miniconda3\\envs\\mtg_env\\Lib\\site-packages\\pandas\\core\\frame.py\u001b[0m:\u001b[94m11670\u001b[0m in \u001b[92msum\u001b[0m       \u001b[31m│\u001b[0m\n",
       "\u001b[31m│\u001b[0m                                                                                                  \u001b[31m│\u001b[0m\n",
       "\u001b[31m│\u001b[0m \u001b[33mc:\\Users\\gufer\\miniconda3\\envs\\mtg_env\\Lib\\site-packages\\pandas\\core\\generic.py\u001b[0m:\u001b[94m12506\u001b[0m in \u001b[92msum\u001b[0m     \u001b[31m│\u001b[0m\n",
       "\u001b[31m│\u001b[0m                                                                                                  \u001b[31m│\u001b[0m\n",
       "\u001b[31m│\u001b[0m \u001b[33mc:\\Users\\gufer\\miniconda3\\envs\\mtg_env\\Lib\\site-packages\\pandas\\core\\generic.py\u001b[0m:\u001b[94m12489\u001b[0m in         \u001b[31m│\u001b[0m\n",
       "\u001b[31m│\u001b[0m \u001b[92m_min_count_stat_function\u001b[0m                                                                         \u001b[31m│\u001b[0m\n",
       "\u001b[31m│\u001b[0m                                                                                                  \u001b[31m│\u001b[0m\n",
       "\u001b[31m│\u001b[0m \u001b[33mc:\\Users\\gufer\\miniconda3\\envs\\mtg_env\\Lib\\site-packages\\pandas\\core\\frame.py\u001b[0m:\u001b[94m11550\u001b[0m in \u001b[92m_reduce\u001b[0m   \u001b[31m│\u001b[0m\n",
       "\u001b[31m│\u001b[0m                                                                                                  \u001b[31m│\u001b[0m\n",
       "\u001b[31m│\u001b[0m \u001b[33mc:\\Users\\gufer\\miniconda3\\envs\\mtg_env\\Lib\\site-packages\\pandas\\core\\groupby\\generic.py\u001b[0m:\u001b[94m249\u001b[0m in   \u001b[31m│\u001b[0m\n",
       "\u001b[31m│\u001b[0m \u001b[92maggregate\u001b[0m                                                                                        \u001b[31m│\u001b[0m\n",
       "\u001b[31m│\u001b[0m                                                                                                  \u001b[31m│\u001b[0m\n",
       "\u001b[31m│\u001b[0m \u001b[33mc:\\Users\\gufer\\miniconda3\\envs\\mtg_env\\Lib\\site-packages\\pandas\\core\\groupby\\groupby.py\u001b[0m:\u001b[94m3146\u001b[0m in  \u001b[31m│\u001b[0m\n",
       "\u001b[31m│\u001b[0m \u001b[92msum\u001b[0m                                                                                              \u001b[31m│\u001b[0m\n",
       "\u001b[31m│\u001b[0m                                                                                                  \u001b[31m│\u001b[0m\n",
       "\u001b[31m│\u001b[0m \u001b[33mc:\\Users\\gufer\\miniconda3\\envs\\mtg_env\\Lib\\site-packages\\pandas\\core\\groupby\\groupby.py\u001b[0m:\u001b[94m1906\u001b[0m in  \u001b[31m│\u001b[0m\n",
       "\u001b[31m│\u001b[0m \u001b[92m_agg_general\u001b[0m                                                                                     \u001b[31m│\u001b[0m\n",
       "\u001b[31m│\u001b[0m                                                                                                  \u001b[31m│\u001b[0m\n",
       "\u001b[31m│\u001b[0m \u001b[33mc:\\Users\\gufer\\miniconda3\\envs\\mtg_env\\Lib\\site-packages\\pandas\\core\\groupby\\groupby.py\u001b[0m:\u001b[94m1998\u001b[0m in  \u001b[31m│\u001b[0m\n",
       "\u001b[31m│\u001b[0m \u001b[92m_cython_agg_general\u001b[0m                                                                              \u001b[31m│\u001b[0m\n",
       "\u001b[31m│\u001b[0m                                                                                                  \u001b[31m│\u001b[0m\n",
       "\u001b[31m│\u001b[0m \u001b[33mc:\\Users\\gufer\\miniconda3\\envs\\mtg_env\\Lib\\site-packages\\pandas\\core\\internals\\base.py\u001b[0m:\u001b[94m367\u001b[0m in    \u001b[31m│\u001b[0m\n",
       "\u001b[31m│\u001b[0m \u001b[92mgrouped_reduce\u001b[0m                                                                                   \u001b[31m│\u001b[0m\n",
       "\u001b[31m│\u001b[0m                                                                                                  \u001b[31m│\u001b[0m\n",
       "\u001b[31m│\u001b[0m \u001b[33mc:\\Users\\gufer\\miniconda3\\envs\\mtg_env\\Lib\\site-packages\\pandas\\core\\groupby\\groupby.py\u001b[0m:\u001b[94m1973\u001b[0m in  \u001b[31m│\u001b[0m\n",
       "\u001b[31m│\u001b[0m \u001b[92marray_func\u001b[0m                                                                                       \u001b[31m│\u001b[0m\n",
       "\u001b[31m│\u001b[0m                                                                                                  \u001b[31m│\u001b[0m\n",
       "\u001b[31m│\u001b[0m \u001b[33mc:\\Users\\gufer\\miniconda3\\envs\\mtg_env\\Lib\\site-packages\\pandas\\core\\groupby\\ops.py\u001b[0m:\u001b[94m831\u001b[0m in       \u001b[31m│\u001b[0m\n",
       "\u001b[31m│\u001b[0m \u001b[92m_cython_operation\u001b[0m                                                                                \u001b[31m│\u001b[0m\n",
       "\u001b[31m│\u001b[0m                                                                                                  \u001b[31m│\u001b[0m\n",
       "\u001b[31m│\u001b[0m \u001b[33mc:\\Users\\gufer\\miniconda3\\envs\\mtg_env\\Lib\\site-packages\\pandas\\core\\groupby\\ops.py\u001b[0m:\u001b[94m541\u001b[0m in       \u001b[31m│\u001b[0m\n",
       "\u001b[31m│\u001b[0m \u001b[92mcython_operation\u001b[0m                                                                                 \u001b[31m│\u001b[0m\n",
       "\u001b[31m│\u001b[0m                                                                                                  \u001b[31m│\u001b[0m\n",
       "\u001b[31m│\u001b[0m \u001b[33mc:\\Users\\gufer\\miniconda3\\envs\\mtg_env\\Lib\\site-packages\\pandas\\core\\arrays\\categorical.py\u001b[0m:\u001b[94m2721\u001b[0m  \u001b[31m│\u001b[0m\n",
       "\u001b[31m│\u001b[0m in \u001b[92m_groupby_op\u001b[0m                                                                                   \u001b[31m│\u001b[0m\n",
       "\u001b[31m╰──────────────────────────────────────────────────────────────────────────────────────────────────╯\u001b[0m\n",
       "\u001b[1;91mTypeError: \u001b[0mcategory type does not support sum operations\n"
      ]
     },
     "metadata": {},
     "output_type": "display_data"
    }
   ],
   "source": [
    "with KedroSession.create(env=\"local\", project_path=project_path) as session:\n",
    "    session.run(pipeline_name=\"modeling\")"
   ]
  },
  {
   "cell_type": "code",
   "execution_count": 10,
   "metadata": {},
   "outputs": [
    {
     "data": {
      "text/html": [
       "<pre style=\"white-space:pre;overflow-x:auto;line-height:normal;font-family:Menlo,'DejaVu Sans Mono',consolas,'Courier New',monospace\"><span style=\"color: #7fbfbf; text-decoration-color: #7fbfbf\">[09/18/24 22:03:40] </span><span style=\"color: #000080; text-decoration-color: #000080\">INFO    </span> Loading data from <span style=\"color: #ff8700; text-decoration-color: #ff8700\">sampled_decks</span> <span style=\"font-weight: bold\">(</span>PickleDataset<span style=\"font-weight: bold\">)</span><span style=\"color: #808000; text-decoration-color: #808000\">...</span>                 <a href=\"file://c:\\Users\\gufer\\miniconda3\\envs\\mtg_env\\Lib\\site-packages\\kedro\\io\\data_catalog.py\" target=\"_blank\"><span style=\"color: #7f7f7f; text-decoration-color: #7f7f7f\">data_catalog.py</span></a><span style=\"color: #7f7f7f; text-decoration-color: #7f7f7f\">:</span><a href=\"file://c:\\Users\\gufer\\miniconda3\\envs\\mtg_env\\Lib\\site-packages\\kedro\\io\\data_catalog.py#539\" target=\"_blank\"><span style=\"color: #7f7f7f; text-decoration-color: #7f7f7f\">539</span></a>\n",
       "</pre>\n"
      ],
      "text/plain": [
       "\u001b[2;36m[09/18/24 22:03:40]\u001b[0m\u001b[2;36m \u001b[0m\u001b[34mINFO    \u001b[0m Loading data from \u001b[38;5;208msampled_decks\u001b[0m \u001b[1m(\u001b[0mPickleDataset\u001b[1m)\u001b[0m\u001b[33m...\u001b[0m                 \u001b]8;id=476841;file://c:\\Users\\gufer\\miniconda3\\envs\\mtg_env\\Lib\\site-packages\\kedro\\io\\data_catalog.py\u001b\\\u001b[2mdata_catalog.py\u001b[0m\u001b]8;;\u001b\\\u001b[2m:\u001b[0m\u001b]8;id=268633;file://c:\\Users\\gufer\\miniconda3\\envs\\mtg_env\\Lib\\site-packages\\kedro\\io\\data_catalog.py#539\u001b\\\u001b[2m539\u001b[0m\u001b]8;;\u001b\\\n"
      ]
     },
     "metadata": {},
     "output_type": "display_data"
    },
    {
     "data": {
      "text/html": [
       "<pre style=\"white-space:pre;overflow-x:auto;line-height:normal;font-family:Menlo,'DejaVu Sans Mono',consolas,'Courier New',monospace\"></pre>\n"
      ],
      "text/plain": []
     },
     "metadata": {},
     "output_type": "display_data"
    },
    {
     "data": {
      "text/plain": [
       "\n",
       "\u001b[1m[\u001b[0m\n",
       "    Player:\n",
       "  Name: William Clark\n",
       "  Deck: \u001b[3;35mNone\u001b[0m\n",
       "  Turn: \u001b[1;36m0\u001b[0m\n",
       "  Hand: \u001b[1;36m0\u001b[0m cards\n",
       "  Library: \u001b[1;36m0\u001b[0m cards\n",
       "  Lands played: \u001b[1;36m0\u001b[0m\n",
       "  Mana pool: \u001b[1;36m0\u001b[0m\n",
       "  Spells played: \u001b[1;36m0\u001b[0m\n",
       ",\n",
       "    Player:\n",
       "  Name: Tara White\n",
       "  Deck: \u001b[3;35mNone\u001b[0m\n",
       "  Turn: \u001b[1;36m0\u001b[0m\n",
       "  Hand: \u001b[1;36m0\u001b[0m cards\n",
       "  Library: \u001b[1;36m0\u001b[0m cards\n",
       "  Lands played: \u001b[1;36m0\u001b[0m\n",
       "  Mana pool: \u001b[1;36m0\u001b[0m\n",
       "  Spells played: \u001b[1;36m0\u001b[0m\n",
       ",\n",
       "    Player:\n",
       "  Name: Christine Parrish\n",
       "  Deck: \u001b[3;35mNone\u001b[0m\n",
       "  Turn: \u001b[1;36m0\u001b[0m\n",
       "  Hand: \u001b[1;36m0\u001b[0m cards\n",
       "  Library: \u001b[1;36m0\u001b[0m cards\n",
       "  Lands played: \u001b[1;36m0\u001b[0m\n",
       "  Mana pool: \u001b[1;36m0\u001b[0m\n",
       "  Spells played: \u001b[1;36m0\u001b[0m\n",
       ",\n",
       "    Player:\n",
       "  Name: Katie Meyer\n",
       "  Deck: \u001b[3;35mNone\u001b[0m\n",
       "  Turn: \u001b[1;36m0\u001b[0m\n",
       "  Hand: \u001b[1;36m0\u001b[0m cards\n",
       "  Library: \u001b[1;36m0\u001b[0m cards\n",
       "  Lands played: \u001b[1;36m0\u001b[0m\n",
       "  Mana pool: \u001b[1;36m0\u001b[0m\n",
       "  Spells played: \u001b[1;36m0\u001b[0m\n",
       "\n",
       "\u001b[1m]\u001b[0m"
      ]
     },
     "execution_count": 10,
     "metadata": {},
     "output_type": "execute_result"
    }
   ],
   "source": [
    "catalog.load(\"sampled_decks\")"
   ]
  },
  {
   "cell_type": "code",
   "execution_count": 4,
   "metadata": {},
   "outputs": [
    {
     "data": {
      "text/html": [
       "<pre style=\"white-space:pre;overflow-x:auto;line-height:normal;font-family:Menlo,'DejaVu Sans Mono',consolas,'Courier New',monospace\"><span style=\"color: #7fbfbf; text-decoration-color: #7fbfbf\">                    </span><span style=\"color: #000080; text-decoration-color: #000080\">INFO    </span> Loading data from <span style=\"color: #ff8700; text-decoration-color: #ff8700\">params:simulation.n_players</span> <span style=\"font-weight: bold\">(</span>MemoryDataset<span style=\"font-weight: bold\">)</span><span style=\"color: #808000; text-decoration-color: #808000\">...</span>   <a href=\"file://c:\\Users\\gufer\\miniconda3\\envs\\mtg_env\\Lib\\site-packages\\kedro\\io\\data_catalog.py\" target=\"_blank\"><span style=\"color: #7f7f7f; text-decoration-color: #7f7f7f\">data_catalog.py</span></a><span style=\"color: #7f7f7f; text-decoration-color: #7f7f7f\">:</span><a href=\"file://c:\\Users\\gufer\\miniconda3\\envs\\mtg_env\\Lib\\site-packages\\kedro\\io\\data_catalog.py#539\" target=\"_blank\"><span style=\"color: #7f7f7f; text-decoration-color: #7f7f7f\">539</span></a>\n",
       "</pre>\n"
      ],
      "text/plain": [
       "\u001b[2;36m                   \u001b[0m\u001b[2;36m \u001b[0m\u001b[34mINFO    \u001b[0m Loading data from \u001b[38;5;208mparams:simulation.n_players\u001b[0m \u001b[1m(\u001b[0mMemoryDataset\u001b[1m)\u001b[0m\u001b[33m...\u001b[0m   \u001b]8;id=590216;file://c:\\Users\\gufer\\miniconda3\\envs\\mtg_env\\Lib\\site-packages\\kedro\\io\\data_catalog.py\u001b\\\u001b[2mdata_catalog.py\u001b[0m\u001b]8;;\u001b\\\u001b[2m:\u001b[0m\u001b]8;id=262249;file://c:\\Users\\gufer\\miniconda3\\envs\\mtg_env\\Lib\\site-packages\\kedro\\io\\data_catalog.py#539\u001b\\\u001b[2m539\u001b[0m\u001b]8;;\u001b\\\n"
      ]
     },
     "metadata": {},
     "output_type": "display_data"
    },
    {
     "data": {
      "text/html": [
       "<pre style=\"white-space:pre;overflow-x:auto;line-height:normal;font-family:Menlo,'DejaVu Sans Mono',consolas,'Courier New',monospace\"><span style=\"color: #7fbfbf; text-decoration-color: #7fbfbf\">                    </span><span style=\"color: #000080; text-decoration-color: #000080\">INFO    </span> Saving data to <span style=\"color: #ff8700; text-decoration-color: #ff8700\">players</span> <span style=\"font-weight: bold\">(</span>PickleDataset<span style=\"font-weight: bold\">)</span><span style=\"color: #808000; text-decoration-color: #808000\">...</span>                          <a href=\"file://c:\\Users\\gufer\\miniconda3\\envs\\mtg_env\\Lib\\site-packages\\kedro\\io\\data_catalog.py\" target=\"_blank\"><span style=\"color: #7f7f7f; text-decoration-color: #7f7f7f\">data_catalog.py</span></a><span style=\"color: #7f7f7f; text-decoration-color: #7f7f7f\">:</span><a href=\"file://c:\\Users\\gufer\\miniconda3\\envs\\mtg_env\\Lib\\site-packages\\kedro\\io\\data_catalog.py#581\" target=\"_blank\"><span style=\"color: #7f7f7f; text-decoration-color: #7f7f7f\">581</span></a>\n",
       "</pre>\n"
      ],
      "text/plain": [
       "\u001b[2;36m                   \u001b[0m\u001b[2;36m \u001b[0m\u001b[34mINFO    \u001b[0m Saving data to \u001b[38;5;208mplayers\u001b[0m \u001b[1m(\u001b[0mPickleDataset\u001b[1m)\u001b[0m\u001b[33m...\u001b[0m                          \u001b]8;id=294692;file://c:\\Users\\gufer\\miniconda3\\envs\\mtg_env\\Lib\\site-packages\\kedro\\io\\data_catalog.py\u001b\\\u001b[2mdata_catalog.py\u001b[0m\u001b]8;;\u001b\\\u001b[2m:\u001b[0m\u001b]8;id=786312;file://c:\\Users\\gufer\\miniconda3\\envs\\mtg_env\\Lib\\site-packages\\kedro\\io\\data_catalog.py#581\u001b\\\u001b[2m581\u001b[0m\u001b]8;;\u001b\\\n"
      ]
     },
     "metadata": {},
     "output_type": "display_data"
    }
   ],
   "source": [
    "def create_players(n_players: int):\n",
    "    \"\"\"\n",
    "    Cria uma lista de objetos Player com nomes aleatórios.\n",
    "\n",
    "    Args:\n",
    "        n_players (int): Número de jogadores a serem criados.\n",
    "\n",
    "    Returns:\n",
    "        List[Player]: Lista de objetos Player com nomes gerados aleatoriamente.\n",
    "    \"\"\"\n",
    "    # Inicializando o gerador de dados falsos Faker\n",
    "    fake = Faker()\n",
    "    \n",
    "    # Gerando uma lista de nomes aleatórios usando o Faker\n",
    "    player_names = [fake.first_name() + \" \" + fake.last_name() for _ in range(n_players)]\n",
    "    \n",
    "    # Criando uma lista de objetos Player a partir dos nomes gerados\n",
    "    players = [Player(name) for name in player_names]\n",
    "\n",
    "    # Retornando a lista de objetos Player\n",
    "    return players\n",
    "\n",
    "n_players = catalog.load(\"params:simulation.n_players\")\n",
    "players = create_players(n_players)\n",
    "catalog.save(\"players\", players)"
   ]
  },
  {
   "cell_type": "code",
   "execution_count": 5,
   "metadata": {},
   "outputs": [
    {
     "data": {
      "text/html": [
       "<pre style=\"white-space:pre;overflow-x:auto;line-height:normal;font-family:Menlo,'DejaVu Sans Mono',consolas,'Courier New',monospace\"><span style=\"color: #7fbfbf; text-decoration-color: #7fbfbf\">                    </span><span style=\"color: #000080; text-decoration-color: #000080\">INFO    </span> Loading data from <span style=\"color: #ff8700; text-decoration-color: #ff8700\">players</span> <span style=\"font-weight: bold\">(</span>PickleDataset<span style=\"font-weight: bold\">)</span><span style=\"color: #808000; text-decoration-color: #808000\">...</span>                       <a href=\"file://c:\\Users\\gufer\\miniconda3\\envs\\mtg_env\\Lib\\site-packages\\kedro\\io\\data_catalog.py\" target=\"_blank\"><span style=\"color: #7f7f7f; text-decoration-color: #7f7f7f\">data_catalog.py</span></a><span style=\"color: #7f7f7f; text-decoration-color: #7f7f7f\">:</span><a href=\"file://c:\\Users\\gufer\\miniconda3\\envs\\mtg_env\\Lib\\site-packages\\kedro\\io\\data_catalog.py#539\" target=\"_blank\"><span style=\"color: #7f7f7f; text-decoration-color: #7f7f7f\">539</span></a>\n",
       "</pre>\n"
      ],
      "text/plain": [
       "\u001b[2;36m                   \u001b[0m\u001b[2;36m \u001b[0m\u001b[34mINFO    \u001b[0m Loading data from \u001b[38;5;208mplayers\u001b[0m \u001b[1m(\u001b[0mPickleDataset\u001b[1m)\u001b[0m\u001b[33m...\u001b[0m                       \u001b]8;id=392647;file://c:\\Users\\gufer\\miniconda3\\envs\\mtg_env\\Lib\\site-packages\\kedro\\io\\data_catalog.py\u001b\\\u001b[2mdata_catalog.py\u001b[0m\u001b]8;;\u001b\\\u001b[2m:\u001b[0m\u001b]8;id=413235;file://c:\\Users\\gufer\\miniconda3\\envs\\mtg_env\\Lib\\site-packages\\kedro\\io\\data_catalog.py#539\u001b\\\u001b[2m539\u001b[0m\u001b]8;;\u001b\\\n"
      ]
     },
     "metadata": {},
     "output_type": "display_data"
    },
    {
     "data": {
      "text/html": [
       "<pre style=\"white-space:pre;overflow-x:auto;line-height:normal;font-family:Menlo,'DejaVu Sans Mono',consolas,'Courier New',monospace\"><span style=\"color: #7fbfbf; text-decoration-color: #7fbfbf\">                    </span><span style=\"color: #000080; text-decoration-color: #000080\">INFO    </span> Loading data from <span style=\"color: #ff8700; text-decoration-color: #ff8700\">sampled_decks</span> <span style=\"font-weight: bold\">(</span>PickleDataset<span style=\"font-weight: bold\">)</span><span style=\"color: #808000; text-decoration-color: #808000\">...</span>                 <a href=\"file://c:\\Users\\gufer\\miniconda3\\envs\\mtg_env\\Lib\\site-packages\\kedro\\io\\data_catalog.py\" target=\"_blank\"><span style=\"color: #7f7f7f; text-decoration-color: #7f7f7f\">data_catalog.py</span></a><span style=\"color: #7f7f7f; text-decoration-color: #7f7f7f\">:</span><a href=\"file://c:\\Users\\gufer\\miniconda3\\envs\\mtg_env\\Lib\\site-packages\\kedro\\io\\data_catalog.py#539\" target=\"_blank\"><span style=\"color: #7f7f7f; text-decoration-color: #7f7f7f\">539</span></a>\n",
       "</pre>\n"
      ],
      "text/plain": [
       "\u001b[2;36m                   \u001b[0m\u001b[2;36m \u001b[0m\u001b[34mINFO    \u001b[0m Loading data from \u001b[38;5;208msampled_decks\u001b[0m \u001b[1m(\u001b[0mPickleDataset\u001b[1m)\u001b[0m\u001b[33m...\u001b[0m                 \u001b]8;id=203395;file://c:\\Users\\gufer\\miniconda3\\envs\\mtg_env\\Lib\\site-packages\\kedro\\io\\data_catalog.py\u001b\\\u001b[2mdata_catalog.py\u001b[0m\u001b]8;;\u001b\\\u001b[2m:\u001b[0m\u001b]8;id=542965;file://c:\\Users\\gufer\\miniconda3\\envs\\mtg_env\\Lib\\site-packages\\kedro\\io\\data_catalog.py#539\u001b\\\u001b[2m539\u001b[0m\u001b]8;;\u001b\\\n"
      ]
     },
     "metadata": {},
     "output_type": "display_data"
    },
    {
     "data": {
      "text/html": [
       "<pre style=\"white-space:pre;overflow-x:auto;line-height:normal;font-family:Menlo,'DejaVu Sans Mono',consolas,'Courier New',monospace\"><span style=\"color: #7fbfbf; text-decoration-color: #7fbfbf\">                    </span><span style=\"color: #000080; text-decoration-color: #000080\">INFO    </span> Loading data from <span style=\"color: #ff8700; text-decoration-color: #ff8700\">params:simulation.log_folder</span> <span style=\"font-weight: bold\">(</span>MemoryDataset<span style=\"font-weight: bold\">)</span><span style=\"color: #808000; text-decoration-color: #808000\">...</span>  <a href=\"file://c:\\Users\\gufer\\miniconda3\\envs\\mtg_env\\Lib\\site-packages\\kedro\\io\\data_catalog.py\" target=\"_blank\"><span style=\"color: #7f7f7f; text-decoration-color: #7f7f7f\">data_catalog.py</span></a><span style=\"color: #7f7f7f; text-decoration-color: #7f7f7f\">:</span><a href=\"file://c:\\Users\\gufer\\miniconda3\\envs\\mtg_env\\Lib\\site-packages\\kedro\\io\\data_catalog.py#539\" target=\"_blank\"><span style=\"color: #7f7f7f; text-decoration-color: #7f7f7f\">539</span></a>\n",
       "</pre>\n"
      ],
      "text/plain": [
       "\u001b[2;36m                   \u001b[0m\u001b[2;36m \u001b[0m\u001b[34mINFO    \u001b[0m Loading data from \u001b[38;5;208mparams:simulation.log_folder\u001b[0m \u001b[1m(\u001b[0mMemoryDataset\u001b[1m)\u001b[0m\u001b[33m...\u001b[0m  \u001b]8;id=624783;file://c:\\Users\\gufer\\miniconda3\\envs\\mtg_env\\Lib\\site-packages\\kedro\\io\\data_catalog.py\u001b\\\u001b[2mdata_catalog.py\u001b[0m\u001b]8;;\u001b\\\u001b[2m:\u001b[0m\u001b]8;id=868242;file://c:\\Users\\gufer\\miniconda3\\envs\\mtg_env\\Lib\\site-packages\\kedro\\io\\data_catalog.py#539\u001b\\\u001b[2m539\u001b[0m\u001b]8;;\u001b\\\n"
      ]
     },
     "metadata": {},
     "output_type": "display_data"
    }
   ],
   "source": [
    "import random\n",
    "import os\n",
    "from typing import List, Dict\n",
    "\n",
    "def assign_decks_to_players(\n",
    "        players: List[Player], \n",
    "        sampled_decks: Dict[str, str],\n",
    "        log_folder: str) -> List[Player]:\n",
    "    \"\"\"\n",
    "    Função para atribuir decks aleatórios a cada player na lista de players.\n",
    "\n",
    "    A função tentará atribuir um deck a cada player chamando o método assign_deck().\n",
    "    Caso ocorra algum erro na atribuição, tentará com outro deck disponível.\n",
    "\n",
    "    Args:\n",
    "        players (list): Lista de objetos Player.\n",
    "        sampled_decks (dict): Dicionário com os nomes e caminhos dos decks.\n",
    "        log_folder (str): Caminho da pasta para salvar o log.\n",
    "\n",
    "    Returns:\n",
    "        List[Player]: Lista de objetos Player com decks atribuídos.\n",
    "    \"\"\"\n",
    "    # Caminho do arquivo de log\n",
    "    log_filepath = os.path.join(log_folder, 'decks_assignment.txt')\n",
    "\n",
    "    # Cria a pasta de log se ela não existir\n",
    "    os.makedirs(log_folder, exist_ok=True)\n",
    "\n",
    "    # Configura o logger geral\n",
    "    logger = setup_logger(\"validate_decks\", log_filepath)\n",
    "    \n",
    "    # Log de início da validação\n",
    "    logger.info(\"Validating decks...\")\n",
    "\n",
    "    # Convertemos as chaves do dicionário para uma lista de nomes de decks disponíveis\n",
    "    available_decks = list(sampled_decks.keys())\n",
    "    \n",
    "    for player in players:\n",
    "        assigned = False\n",
    "        while not assigned and available_decks:\n",
    "            try:\n",
    "                # Seleciona um deck aleatório da lista de decks disponíveis\n",
    "                deck_name = random.choice(available_decks)\n",
    "\n",
    "                # Obter o caminho completo do deck a partir do dicionário sampled_decks\n",
    "                deck_path = sampled_decks[deck_name]\n",
    "\n",
    "                # Cria um novo objeto Deck\n",
    "                deck = Deck()\n",
    "\n",
    "                # Carrega o deck a partir do arquivo .txt no caminho obtido\n",
    "                deck.load_deck_from_txt(deck_path)\n",
    "\n",
    "                # Atribui o deck ao player\n",
    "                player.assign_deck(deck)\n",
    "                logger.info(f\"Deck '{deck_name}' assigned to player '{player.name}'\")\n",
    "                \n",
    "                # Remove o deck da lista de decks disponíveis para evitar reutilização\n",
    "                available_decks.remove(deck_name)\n",
    "\n",
    "                assigned = True  # Deck atribuído com sucesso\n",
    "            except Exception as e:\n",
    "                # Em caso de erro, tenta outro deck\n",
    "                logger.error(f\"Failed to assign deck '{deck_name}' to player '{player.name}': {e}\")\n",
    "                continue\n",
    "        \n",
    "        \n",
    "        # Se não houver mais decks disponíveis e não conseguir atribuir, lança um erro\n",
    "        if not assigned:\n",
    "            raise ValueError(f\"No available decks left to assign to player '{player.name}'.\")\n",
    "\n",
    "    logger.info(\"Deck assignment process completed.\")\n",
    "\n",
    "    return players\n",
    "\n",
    "players = catalog.load(\"players\")\n",
    "sampled_decks = catalog.load(\"sampled_decks\")\n",
    "log_folder = catalog.load(\"params:simulation.log_folder\")\n",
    "# players_with_decks = assign_decks_to_players(players, sampled_decks, log_folder)\n",
    "# catalog.save(\"players_with_decks\", players_with_decks)"
   ]
  },
  {
   "cell_type": "code",
   "execution_count": 6,
   "metadata": {},
   "outputs": [
    {
     "data": {
      "text/html": [
       "<pre style=\"white-space:pre;overflow-x:auto;line-height:normal;font-family:Menlo,'DejaVu Sans Mono',consolas,'Courier New',monospace\"><span style=\"color: #7fbfbf; text-decoration-color: #7fbfbf\">                    </span><span style=\"color: #000080; text-decoration-color: #000080\">INFO    </span> Loading data from <span style=\"color: #ff8700; text-decoration-color: #ff8700\">params:simulation</span> <span style=\"font-weight: bold\">(</span>MemoryDataset<span style=\"font-weight: bold\">)</span><span style=\"color: #808000; text-decoration-color: #808000\">...</span>             <a href=\"file://c:\\Users\\gufer\\miniconda3\\envs\\mtg_env\\Lib\\site-packages\\kedro\\io\\data_catalog.py\" target=\"_blank\"><span style=\"color: #7f7f7f; text-decoration-color: #7f7f7f\">data_catalog.py</span></a><span style=\"color: #7f7f7f; text-decoration-color: #7f7f7f\">:</span><a href=\"file://c:\\Users\\gufer\\miniconda3\\envs\\mtg_env\\Lib\\site-packages\\kedro\\io\\data_catalog.py#539\" target=\"_blank\"><span style=\"color: #7f7f7f; text-decoration-color: #7f7f7f\">539</span></a>\n",
       "</pre>\n"
      ],
      "text/plain": [
       "\u001b[2;36m                   \u001b[0m\u001b[2;36m \u001b[0m\u001b[34mINFO    \u001b[0m Loading data from \u001b[38;5;208mparams:simulation\u001b[0m \u001b[1m(\u001b[0mMemoryDataset\u001b[1m)\u001b[0m\u001b[33m...\u001b[0m             \u001b]8;id=389993;file://c:\\Users\\gufer\\miniconda3\\envs\\mtg_env\\Lib\\site-packages\\kedro\\io\\data_catalog.py\u001b\\\u001b[2mdata_catalog.py\u001b[0m\u001b]8;;\u001b\\\u001b[2m:\u001b[0m\u001b]8;id=409035;file://c:\\Users\\gufer\\miniconda3\\envs\\mtg_env\\Lib\\site-packages\\kedro\\io\\data_catalog.py#539\u001b\\\u001b[2m539\u001b[0m\u001b]8;;\u001b\\\n"
      ]
     },
     "metadata": {},
     "output_type": "display_data"
    },
    {
     "data": {
      "text/html": [
       "<pre style=\"white-space:pre;overflow-x:auto;line-height:normal;font-family:Menlo,'DejaVu Sans Mono',consolas,'Courier New',monospace\"><span style=\"color: #7fbfbf; text-decoration-color: #7fbfbf\">                    </span><span style=\"color: #000080; text-decoration-color: #000080\">INFO    </span> Loading data from <span style=\"color: #ff8700; text-decoration-color: #ff8700\">players_with_decks</span> <span style=\"font-weight: bold\">(</span>PickleDataset<span style=\"font-weight: bold\">)</span><span style=\"color: #808000; text-decoration-color: #808000\">...</span>            <a href=\"file://c:\\Users\\gufer\\miniconda3\\envs\\mtg_env\\Lib\\site-packages\\kedro\\io\\data_catalog.py\" target=\"_blank\"><span style=\"color: #7f7f7f; text-decoration-color: #7f7f7f\">data_catalog.py</span></a><span style=\"color: #7f7f7f; text-decoration-color: #7f7f7f\">:</span><a href=\"file://c:\\Users\\gufer\\miniconda3\\envs\\mtg_env\\Lib\\site-packages\\kedro\\io\\data_catalog.py#539\" target=\"_blank\"><span style=\"color: #7f7f7f; text-decoration-color: #7f7f7f\">539</span></a>\n",
       "</pre>\n"
      ],
      "text/plain": [
       "\u001b[2;36m                   \u001b[0m\u001b[2;36m \u001b[0m\u001b[34mINFO    \u001b[0m Loading data from \u001b[38;5;208mplayers_with_decks\u001b[0m \u001b[1m(\u001b[0mPickleDataset\u001b[1m)\u001b[0m\u001b[33m...\u001b[0m            \u001b]8;id=537620;file://c:\\Users\\gufer\\miniconda3\\envs\\mtg_env\\Lib\\site-packages\\kedro\\io\\data_catalog.py\u001b\\\u001b[2mdata_catalog.py\u001b[0m\u001b]8;;\u001b\\\u001b[2m:\u001b[0m\u001b]8;id=164807;file://c:\\Users\\gufer\\miniconda3\\envs\\mtg_env\\Lib\\site-packages\\kedro\\io\\data_catalog.py#539\u001b\\\u001b[2m539\u001b[0m\u001b]8;;\u001b\\\n"
      ]
     },
     "metadata": {},
     "output_type": "display_data"
    },
    {
     "data": {
      "text/html": [
       "<pre style=\"white-space:pre;overflow-x:auto;line-height:normal;font-family:Menlo,'DejaVu Sans Mono',consolas,'Courier New',monospace\"><span style=\"color: #7fbfbf; text-decoration-color: #7fbfbf\">                    </span><span style=\"color: #808000; text-decoration-color: #808000\">WARNING </span> Shari Grant couldn't play any spells.                                    <a href=\"file://c:\\Users\\gufer\\OneDrive\\Documentos\\FIAP\\Fase_03\\mtg-project\\classes\\player.py\" target=\"_blank\"><span style=\"color: #7f7f7f; text-decoration-color: #7f7f7f\">player.py</span></a><span style=\"color: #7f7f7f; text-decoration-color: #7f7f7f\">:</span><a href=\"file://c:\\Users\\gufer\\OneDrive\\Documentos\\FIAP\\Fase_03\\mtg-project\\classes\\player.py#372\" target=\"_blank\"><span style=\"color: #7f7f7f; text-decoration-color: #7f7f7f\">372</span></a>\n",
       "</pre>\n"
      ],
      "text/plain": [
       "\u001b[2;36m                   \u001b[0m\u001b[2;36m \u001b[0m\u001b[33mWARNING \u001b[0m Shari Grant couldn't play any spells.                                    \u001b]8;id=753828;file://c:\\Users\\gufer\\OneDrive\\Documentos\\FIAP\\Fase_03\\mtg-project\\classes\\player.py\u001b\\\u001b[2mplayer.py\u001b[0m\u001b]8;;\u001b\\\u001b[2m:\u001b[0m\u001b]8;id=294459;file://c:\\Users\\gufer\\OneDrive\\Documentos\\FIAP\\Fase_03\\mtg-project\\classes\\player.py#372\u001b\\\u001b[2m372\u001b[0m\u001b]8;;\u001b\\\n"
      ]
     },
     "metadata": {},
     "output_type": "display_data"
    },
    {
     "data": {
      "text/html": [
       "<pre style=\"white-space:pre;overflow-x:auto;line-height:normal;font-family:Menlo,'DejaVu Sans Mono',consolas,'Courier New',monospace\"><span style=\"color: #7fbfbf; text-decoration-color: #7fbfbf\">                    </span><span style=\"color: #808000; text-decoration-color: #808000\">WARNING </span> Shari Grant couldn't play any spells.                                    <a href=\"file://c:\\Users\\gufer\\OneDrive\\Documentos\\FIAP\\Fase_03\\mtg-project\\classes\\player.py\" target=\"_blank\"><span style=\"color: #7f7f7f; text-decoration-color: #7f7f7f\">player.py</span></a><span style=\"color: #7f7f7f; text-decoration-color: #7f7f7f\">:</span><a href=\"file://c:\\Users\\gufer\\OneDrive\\Documentos\\FIAP\\Fase_03\\mtg-project\\classes\\player.py#372\" target=\"_blank\"><span style=\"color: #7f7f7f; text-decoration-color: #7f7f7f\">372</span></a>\n",
       "</pre>\n"
      ],
      "text/plain": [
       "\u001b[2;36m                   \u001b[0m\u001b[2;36m \u001b[0m\u001b[33mWARNING \u001b[0m Shari Grant couldn't play any spells.                                    \u001b]8;id=585435;file://c:\\Users\\gufer\\OneDrive\\Documentos\\FIAP\\Fase_03\\mtg-project\\classes\\player.py\u001b\\\u001b[2mplayer.py\u001b[0m\u001b]8;;\u001b\\\u001b[2m:\u001b[0m\u001b]8;id=168810;file://c:\\Users\\gufer\\OneDrive\\Documentos\\FIAP\\Fase_03\\mtg-project\\classes\\player.py#372\u001b\\\u001b[2m372\u001b[0m\u001b]8;;\u001b\\\n"
      ]
     },
     "metadata": {},
     "output_type": "display_data"
    },
    {
     "data": {
      "text/html": [
       "<pre style=\"white-space:pre;overflow-x:auto;line-height:normal;font-family:Menlo,'DejaVu Sans Mono',consolas,'Courier New',monospace\"><span style=\"color: #7fbfbf; text-decoration-color: #7fbfbf\">                    </span><span style=\"color: #808000; text-decoration-color: #808000\">WARNING </span> Shari Grant couldn't play any spells.                                    <a href=\"file://c:\\Users\\gufer\\OneDrive\\Documentos\\FIAP\\Fase_03\\mtg-project\\classes\\player.py\" target=\"_blank\"><span style=\"color: #7f7f7f; text-decoration-color: #7f7f7f\">player.py</span></a><span style=\"color: #7f7f7f; text-decoration-color: #7f7f7f\">:</span><a href=\"file://c:\\Users\\gufer\\OneDrive\\Documentos\\FIAP\\Fase_03\\mtg-project\\classes\\player.py#372\" target=\"_blank\"><span style=\"color: #7f7f7f; text-decoration-color: #7f7f7f\">372</span></a>\n",
       "</pre>\n"
      ],
      "text/plain": [
       "\u001b[2;36m                   \u001b[0m\u001b[2;36m \u001b[0m\u001b[33mWARNING \u001b[0m Shari Grant couldn't play any spells.                                    \u001b]8;id=926747;file://c:\\Users\\gufer\\OneDrive\\Documentos\\FIAP\\Fase_03\\mtg-project\\classes\\player.py\u001b\\\u001b[2mplayer.py\u001b[0m\u001b]8;;\u001b\\\u001b[2m:\u001b[0m\u001b]8;id=206845;file://c:\\Users\\gufer\\OneDrive\\Documentos\\FIAP\\Fase_03\\mtg-project\\classes\\player.py#372\u001b\\\u001b[2m372\u001b[0m\u001b]8;;\u001b\\\n"
      ]
     },
     "metadata": {},
     "output_type": "display_data"
    },
    {
     "data": {
      "text/html": [
       "<pre style=\"white-space:pre;overflow-x:auto;line-height:normal;font-family:Menlo,'DejaVu Sans Mono',consolas,'Courier New',monospace\"><span style=\"color: #7fbfbf; text-decoration-color: #7fbfbf\">                    </span><span style=\"color: #808000; text-decoration-color: #808000\">WARNING </span> Shari Grant couldn't play any spells.                                    <a href=\"file://c:\\Users\\gufer\\OneDrive\\Documentos\\FIAP\\Fase_03\\mtg-project\\classes\\player.py\" target=\"_blank\"><span style=\"color: #7f7f7f; text-decoration-color: #7f7f7f\">player.py</span></a><span style=\"color: #7f7f7f; text-decoration-color: #7f7f7f\">:</span><a href=\"file://c:\\Users\\gufer\\OneDrive\\Documentos\\FIAP\\Fase_03\\mtg-project\\classes\\player.py#372\" target=\"_blank\"><span style=\"color: #7f7f7f; text-decoration-color: #7f7f7f\">372</span></a>\n",
       "</pre>\n"
      ],
      "text/plain": [
       "\u001b[2;36m                   \u001b[0m\u001b[2;36m \u001b[0m\u001b[33mWARNING \u001b[0m Shari Grant couldn't play any spells.                                    \u001b]8;id=937034;file://c:\\Users\\gufer\\OneDrive\\Documentos\\FIAP\\Fase_03\\mtg-project\\classes\\player.py\u001b\\\u001b[2mplayer.py\u001b[0m\u001b]8;;\u001b\\\u001b[2m:\u001b[0m\u001b]8;id=731100;file://c:\\Users\\gufer\\OneDrive\\Documentos\\FIAP\\Fase_03\\mtg-project\\classes\\player.py#372\u001b\\\u001b[2m372\u001b[0m\u001b]8;;\u001b\\\n"
      ]
     },
     "metadata": {},
     "output_type": "display_data"
    },
    {
     "data": {
      "text/html": [
       "<pre style=\"white-space:pre;overflow-x:auto;line-height:normal;font-family:Menlo,'DejaVu Sans Mono',consolas,'Courier New',monospace\"><span style=\"color: #7fbfbf; text-decoration-color: #7fbfbf\">                    </span><span style=\"color: #808000; text-decoration-color: #808000\">WARNING </span> Shari Grant couldn't play any spells.                                    <a href=\"file://c:\\Users\\gufer\\OneDrive\\Documentos\\FIAP\\Fase_03\\mtg-project\\classes\\player.py\" target=\"_blank\"><span style=\"color: #7f7f7f; text-decoration-color: #7f7f7f\">player.py</span></a><span style=\"color: #7f7f7f; text-decoration-color: #7f7f7f\">:</span><a href=\"file://c:\\Users\\gufer\\OneDrive\\Documentos\\FIAP\\Fase_03\\mtg-project\\classes\\player.py#372\" target=\"_blank\"><span style=\"color: #7f7f7f; text-decoration-color: #7f7f7f\">372</span></a>\n",
       "</pre>\n"
      ],
      "text/plain": [
       "\u001b[2;36m                   \u001b[0m\u001b[2;36m \u001b[0m\u001b[33mWARNING \u001b[0m Shari Grant couldn't play any spells.                                    \u001b]8;id=666333;file://c:\\Users\\gufer\\OneDrive\\Documentos\\FIAP\\Fase_03\\mtg-project\\classes\\player.py\u001b\\\u001b[2mplayer.py\u001b[0m\u001b]8;;\u001b\\\u001b[2m:\u001b[0m\u001b]8;id=886431;file://c:\\Users\\gufer\\OneDrive\\Documentos\\FIAP\\Fase_03\\mtg-project\\classes\\player.py#372\u001b\\\u001b[2m372\u001b[0m\u001b]8;;\u001b\\\n"
      ]
     },
     "metadata": {},
     "output_type": "display_data"
    },
    {
     "data": {
      "text/html": [
       "<pre style=\"white-space:pre;overflow-x:auto;line-height:normal;font-family:Menlo,'DejaVu Sans Mono',consolas,'Courier New',monospace\"><span style=\"color: #7fbfbf; text-decoration-color: #7fbfbf\">                    </span><span style=\"color: #808000; text-decoration-color: #808000\">WARNING </span> Shari Grant couldn't play any spells.                                    <a href=\"file://c:\\Users\\gufer\\OneDrive\\Documentos\\FIAP\\Fase_03\\mtg-project\\classes\\player.py\" target=\"_blank\"><span style=\"color: #7f7f7f; text-decoration-color: #7f7f7f\">player.py</span></a><span style=\"color: #7f7f7f; text-decoration-color: #7f7f7f\">:</span><a href=\"file://c:\\Users\\gufer\\OneDrive\\Documentos\\FIAP\\Fase_03\\mtg-project\\classes\\player.py#372\" target=\"_blank\"><span style=\"color: #7f7f7f; text-decoration-color: #7f7f7f\">372</span></a>\n",
       "</pre>\n"
      ],
      "text/plain": [
       "\u001b[2;36m                   \u001b[0m\u001b[2;36m \u001b[0m\u001b[33mWARNING \u001b[0m Shari Grant couldn't play any spells.                                    \u001b]8;id=723330;file://c:\\Users\\gufer\\OneDrive\\Documentos\\FIAP\\Fase_03\\mtg-project\\classes\\player.py\u001b\\\u001b[2mplayer.py\u001b[0m\u001b]8;;\u001b\\\u001b[2m:\u001b[0m\u001b]8;id=87390;file://c:\\Users\\gufer\\OneDrive\\Documentos\\FIAP\\Fase_03\\mtg-project\\classes\\player.py#372\u001b\\\u001b[2m372\u001b[0m\u001b]8;;\u001b\\\n"
      ]
     },
     "metadata": {},
     "output_type": "display_data"
    },
    {
     "data": {
      "text/html": [
       "<pre style=\"white-space:pre;overflow-x:auto;line-height:normal;font-family:Menlo,'DejaVu Sans Mono',consolas,'Courier New',monospace\"><span style=\"color: #7fbfbf; text-decoration-color: #7fbfbf\">                    </span><span style=\"color: #808000; text-decoration-color: #808000\">WARNING </span> Shari Grant couldn't play any spells.                                    <a href=\"file://c:\\Users\\gufer\\OneDrive\\Documentos\\FIAP\\Fase_03\\mtg-project\\classes\\player.py\" target=\"_blank\"><span style=\"color: #7f7f7f; text-decoration-color: #7f7f7f\">player.py</span></a><span style=\"color: #7f7f7f; text-decoration-color: #7f7f7f\">:</span><a href=\"file://c:\\Users\\gufer\\OneDrive\\Documentos\\FIAP\\Fase_03\\mtg-project\\classes\\player.py#372\" target=\"_blank\"><span style=\"color: #7f7f7f; text-decoration-color: #7f7f7f\">372</span></a>\n",
       "</pre>\n"
      ],
      "text/plain": [
       "\u001b[2;36m                   \u001b[0m\u001b[2;36m \u001b[0m\u001b[33mWARNING \u001b[0m Shari Grant couldn't play any spells.                                    \u001b]8;id=943709;file://c:\\Users\\gufer\\OneDrive\\Documentos\\FIAP\\Fase_03\\mtg-project\\classes\\player.py\u001b\\\u001b[2mplayer.py\u001b[0m\u001b]8;;\u001b\\\u001b[2m:\u001b[0m\u001b]8;id=753817;file://c:\\Users\\gufer\\OneDrive\\Documentos\\FIAP\\Fase_03\\mtg-project\\classes\\player.py#372\u001b\\\u001b[2m372\u001b[0m\u001b]8;;\u001b\\\n"
      ]
     },
     "metadata": {},
     "output_type": "display_data"
    },
    {
     "data": {
      "text/html": [
       "<pre style=\"white-space:pre;overflow-x:auto;line-height:normal;font-family:Menlo,'DejaVu Sans Mono',consolas,'Courier New',monospace\"><span style=\"color: #7fbfbf; text-decoration-color: #7fbfbf\">                    </span><span style=\"color: #808000; text-decoration-color: #808000\">WARNING </span> Shari Grant couldn't play any spells.                                    <a href=\"file://c:\\Users\\gufer\\OneDrive\\Documentos\\FIAP\\Fase_03\\mtg-project\\classes\\player.py\" target=\"_blank\"><span style=\"color: #7f7f7f; text-decoration-color: #7f7f7f\">player.py</span></a><span style=\"color: #7f7f7f; text-decoration-color: #7f7f7f\">:</span><a href=\"file://c:\\Users\\gufer\\OneDrive\\Documentos\\FIAP\\Fase_03\\mtg-project\\classes\\player.py#372\" target=\"_blank\"><span style=\"color: #7f7f7f; text-decoration-color: #7f7f7f\">372</span></a>\n",
       "</pre>\n"
      ],
      "text/plain": [
       "\u001b[2;36m                   \u001b[0m\u001b[2;36m \u001b[0m\u001b[33mWARNING \u001b[0m Shari Grant couldn't play any spells.                                    \u001b]8;id=515827;file://c:\\Users\\gufer\\OneDrive\\Documentos\\FIAP\\Fase_03\\mtg-project\\classes\\player.py\u001b\\\u001b[2mplayer.py\u001b[0m\u001b]8;;\u001b\\\u001b[2m:\u001b[0m\u001b]8;id=733266;file://c:\\Users\\gufer\\OneDrive\\Documentos\\FIAP\\Fase_03\\mtg-project\\classes\\player.py#372\u001b\\\u001b[2m372\u001b[0m\u001b]8;;\u001b\\\n"
      ]
     },
     "metadata": {},
     "output_type": "display_data"
    },
    {
     "data": {
      "text/html": [
       "<pre style=\"white-space:pre;overflow-x:auto;line-height:normal;font-family:Menlo,'DejaVu Sans Mono',consolas,'Courier New',monospace\"><span style=\"color: #7fbfbf; text-decoration-color: #7fbfbf\">[09/18/24 20:34:35] </span><span style=\"color: #808000; text-decoration-color: #808000\">WARNING </span> Shari Grant couldn't play any spells.                                    <a href=\"file://c:\\Users\\gufer\\OneDrive\\Documentos\\FIAP\\Fase_03\\mtg-project\\classes\\player.py\" target=\"_blank\"><span style=\"color: #7f7f7f; text-decoration-color: #7f7f7f\">player.py</span></a><span style=\"color: #7f7f7f; text-decoration-color: #7f7f7f\">:</span><a href=\"file://c:\\Users\\gufer\\OneDrive\\Documentos\\FIAP\\Fase_03\\mtg-project\\classes\\player.py#372\" target=\"_blank\"><span style=\"color: #7f7f7f; text-decoration-color: #7f7f7f\">372</span></a>\n",
       "</pre>\n"
      ],
      "text/plain": [
       "\u001b[2;36m[09/18/24 20:34:35]\u001b[0m\u001b[2;36m \u001b[0m\u001b[33mWARNING \u001b[0m Shari Grant couldn't play any spells.                                    \u001b]8;id=493927;file://c:\\Users\\gufer\\OneDrive\\Documentos\\FIAP\\Fase_03\\mtg-project\\classes\\player.py\u001b\\\u001b[2mplayer.py\u001b[0m\u001b]8;;\u001b\\\u001b[2m:\u001b[0m\u001b]8;id=386017;file://c:\\Users\\gufer\\OneDrive\\Documentos\\FIAP\\Fase_03\\mtg-project\\classes\\player.py#372\u001b\\\u001b[2m372\u001b[0m\u001b]8;;\u001b\\\n"
      ]
     },
     "metadata": {},
     "output_type": "display_data"
    },
    {
     "data": {
      "text/html": [
       "<pre style=\"white-space:pre;overflow-x:auto;line-height:normal;font-family:Menlo,'DejaVu Sans Mono',consolas,'Courier New',monospace\"><span style=\"color: #7fbfbf; text-decoration-color: #7fbfbf\">                    </span><span style=\"color: #808000; text-decoration-color: #808000\">WARNING </span> Shari Grant couldn't play any spells.                                    <a href=\"file://c:\\Users\\gufer\\OneDrive\\Documentos\\FIAP\\Fase_03\\mtg-project\\classes\\player.py\" target=\"_blank\"><span style=\"color: #7f7f7f; text-decoration-color: #7f7f7f\">player.py</span></a><span style=\"color: #7f7f7f; text-decoration-color: #7f7f7f\">:</span><a href=\"file://c:\\Users\\gufer\\OneDrive\\Documentos\\FIAP\\Fase_03\\mtg-project\\classes\\player.py#372\" target=\"_blank\"><span style=\"color: #7f7f7f; text-decoration-color: #7f7f7f\">372</span></a>\n",
       "</pre>\n"
      ],
      "text/plain": [
       "\u001b[2;36m                   \u001b[0m\u001b[2;36m \u001b[0m\u001b[33mWARNING \u001b[0m Shari Grant couldn't play any spells.                                    \u001b]8;id=101962;file://c:\\Users\\gufer\\OneDrive\\Documentos\\FIAP\\Fase_03\\mtg-project\\classes\\player.py\u001b\\\u001b[2mplayer.py\u001b[0m\u001b]8;;\u001b\\\u001b[2m:\u001b[0m\u001b]8;id=979781;file://c:\\Users\\gufer\\OneDrive\\Documentos\\FIAP\\Fase_03\\mtg-project\\classes\\player.py#372\u001b\\\u001b[2m372\u001b[0m\u001b]8;;\u001b\\\n"
      ]
     },
     "metadata": {},
     "output_type": "display_data"
    },
    {
     "data": {
      "text/html": [
       "<pre style=\"white-space:pre;overflow-x:auto;line-height:normal;font-family:Menlo,'DejaVu Sans Mono',consolas,'Courier New',monospace\"><span style=\"color: #7fbfbf; text-decoration-color: #7fbfbf\">                    </span><span style=\"color: #808000; text-decoration-color: #808000\">WARNING </span> Shari Grant couldn't play any spells.                                    <a href=\"file://c:\\Users\\gufer\\OneDrive\\Documentos\\FIAP\\Fase_03\\mtg-project\\classes\\player.py\" target=\"_blank\"><span style=\"color: #7f7f7f; text-decoration-color: #7f7f7f\">player.py</span></a><span style=\"color: #7f7f7f; text-decoration-color: #7f7f7f\">:</span><a href=\"file://c:\\Users\\gufer\\OneDrive\\Documentos\\FIAP\\Fase_03\\mtg-project\\classes\\player.py#372\" target=\"_blank\"><span style=\"color: #7f7f7f; text-decoration-color: #7f7f7f\">372</span></a>\n",
       "</pre>\n"
      ],
      "text/plain": [
       "\u001b[2;36m                   \u001b[0m\u001b[2;36m \u001b[0m\u001b[33mWARNING \u001b[0m Shari Grant couldn't play any spells.                                    \u001b]8;id=667717;file://c:\\Users\\gufer\\OneDrive\\Documentos\\FIAP\\Fase_03\\mtg-project\\classes\\player.py\u001b\\\u001b[2mplayer.py\u001b[0m\u001b]8;;\u001b\\\u001b[2m:\u001b[0m\u001b]8;id=115785;file://c:\\Users\\gufer\\OneDrive\\Documentos\\FIAP\\Fase_03\\mtg-project\\classes\\player.py#372\u001b\\\u001b[2m372\u001b[0m\u001b]8;;\u001b\\\n"
      ]
     },
     "metadata": {},
     "output_type": "display_data"
    },
    {
     "data": {
      "text/html": [
       "<pre style=\"white-space:pre;overflow-x:auto;line-height:normal;font-family:Menlo,'DejaVu Sans Mono',consolas,'Courier New',monospace\"><span style=\"color: #7fbfbf; text-decoration-color: #7fbfbf\">                    </span><span style=\"color: #808000; text-decoration-color: #808000\">WARNING </span> Shari Grant couldn't play any spells.                                    <a href=\"file://c:\\Users\\gufer\\OneDrive\\Documentos\\FIAP\\Fase_03\\mtg-project\\classes\\player.py\" target=\"_blank\"><span style=\"color: #7f7f7f; text-decoration-color: #7f7f7f\">player.py</span></a><span style=\"color: #7f7f7f; text-decoration-color: #7f7f7f\">:</span><a href=\"file://c:\\Users\\gufer\\OneDrive\\Documentos\\FIAP\\Fase_03\\mtg-project\\classes\\player.py#372\" target=\"_blank\"><span style=\"color: #7f7f7f; text-decoration-color: #7f7f7f\">372</span></a>\n",
       "</pre>\n"
      ],
      "text/plain": [
       "\u001b[2;36m                   \u001b[0m\u001b[2;36m \u001b[0m\u001b[33mWARNING \u001b[0m Shari Grant couldn't play any spells.                                    \u001b]8;id=777426;file://c:\\Users\\gufer\\OneDrive\\Documentos\\FIAP\\Fase_03\\mtg-project\\classes\\player.py\u001b\\\u001b[2mplayer.py\u001b[0m\u001b]8;;\u001b\\\u001b[2m:\u001b[0m\u001b]8;id=577930;file://c:\\Users\\gufer\\OneDrive\\Documentos\\FIAP\\Fase_03\\mtg-project\\classes\\player.py#372\u001b\\\u001b[2m372\u001b[0m\u001b]8;;\u001b\\\n"
      ]
     },
     "metadata": {},
     "output_type": "display_data"
    },
    {
     "data": {
      "text/html": [
       "<pre style=\"white-space:pre;overflow-x:auto;line-height:normal;font-family:Menlo,'DejaVu Sans Mono',consolas,'Courier New',monospace\"><span style=\"color: #7fbfbf; text-decoration-color: #7fbfbf\">                    </span><span style=\"color: #808000; text-decoration-color: #808000\">WARNING </span> David Walsh couldn't play any spells.                                    <a href=\"file://c:\\Users\\gufer\\OneDrive\\Documentos\\FIAP\\Fase_03\\mtg-project\\classes\\player.py\" target=\"_blank\"><span style=\"color: #7f7f7f; text-decoration-color: #7f7f7f\">player.py</span></a><span style=\"color: #7f7f7f; text-decoration-color: #7f7f7f\">:</span><a href=\"file://c:\\Users\\gufer\\OneDrive\\Documentos\\FIAP\\Fase_03\\mtg-project\\classes\\player.py#372\" target=\"_blank\"><span style=\"color: #7f7f7f; text-decoration-color: #7f7f7f\">372</span></a>\n",
       "</pre>\n"
      ],
      "text/plain": [
       "\u001b[2;36m                   \u001b[0m\u001b[2;36m \u001b[0m\u001b[33mWARNING \u001b[0m David Walsh couldn't play any spells.                                    \u001b]8;id=112867;file://c:\\Users\\gufer\\OneDrive\\Documentos\\FIAP\\Fase_03\\mtg-project\\classes\\player.py\u001b\\\u001b[2mplayer.py\u001b[0m\u001b]8;;\u001b\\\u001b[2m:\u001b[0m\u001b]8;id=25069;file://c:\\Users\\gufer\\OneDrive\\Documentos\\FIAP\\Fase_03\\mtg-project\\classes\\player.py#372\u001b\\\u001b[2m372\u001b[0m\u001b]8;;\u001b\\\n"
      ]
     },
     "metadata": {},
     "output_type": "display_data"
    },
    {
     "data": {
      "text/html": [
       "<pre style=\"white-space:pre;overflow-x:auto;line-height:normal;font-family:Menlo,'DejaVu Sans Mono',consolas,'Courier New',monospace\"><span style=\"color: #7fbfbf; text-decoration-color: #7fbfbf\">                    </span><span style=\"color: #808000; text-decoration-color: #808000\">WARNING </span> David Walsh couldn't play any spells.                                    <a href=\"file://c:\\Users\\gufer\\OneDrive\\Documentos\\FIAP\\Fase_03\\mtg-project\\classes\\player.py\" target=\"_blank\"><span style=\"color: #7f7f7f; text-decoration-color: #7f7f7f\">player.py</span></a><span style=\"color: #7f7f7f; text-decoration-color: #7f7f7f\">:</span><a href=\"file://c:\\Users\\gufer\\OneDrive\\Documentos\\FIAP\\Fase_03\\mtg-project\\classes\\player.py#372\" target=\"_blank\"><span style=\"color: #7f7f7f; text-decoration-color: #7f7f7f\">372</span></a>\n",
       "</pre>\n"
      ],
      "text/plain": [
       "\u001b[2;36m                   \u001b[0m\u001b[2;36m \u001b[0m\u001b[33mWARNING \u001b[0m David Walsh couldn't play any spells.                                    \u001b]8;id=958927;file://c:\\Users\\gufer\\OneDrive\\Documentos\\FIAP\\Fase_03\\mtg-project\\classes\\player.py\u001b\\\u001b[2mplayer.py\u001b[0m\u001b]8;;\u001b\\\u001b[2m:\u001b[0m\u001b]8;id=548505;file://c:\\Users\\gufer\\OneDrive\\Documentos\\FIAP\\Fase_03\\mtg-project\\classes\\player.py#372\u001b\\\u001b[2m372\u001b[0m\u001b]8;;\u001b\\\n"
      ]
     },
     "metadata": {},
     "output_type": "display_data"
    },
    {
     "data": {
      "text/html": [
       "<pre style=\"white-space:pre;overflow-x:auto;line-height:normal;font-family:Menlo,'DejaVu Sans Mono',consolas,'Courier New',monospace\"><span style=\"color: #7fbfbf; text-decoration-color: #7fbfbf\">                    </span><span style=\"color: #808000; text-decoration-color: #808000\">WARNING </span> David Walsh couldn't play any spells.                                    <a href=\"file://c:\\Users\\gufer\\OneDrive\\Documentos\\FIAP\\Fase_03\\mtg-project\\classes\\player.py\" target=\"_blank\"><span style=\"color: #7f7f7f; text-decoration-color: #7f7f7f\">player.py</span></a><span style=\"color: #7f7f7f; text-decoration-color: #7f7f7f\">:</span><a href=\"file://c:\\Users\\gufer\\OneDrive\\Documentos\\FIAP\\Fase_03\\mtg-project\\classes\\player.py#372\" target=\"_blank\"><span style=\"color: #7f7f7f; text-decoration-color: #7f7f7f\">372</span></a>\n",
       "</pre>\n"
      ],
      "text/plain": [
       "\u001b[2;36m                   \u001b[0m\u001b[2;36m \u001b[0m\u001b[33mWARNING \u001b[0m David Walsh couldn't play any spells.                                    \u001b]8;id=208436;file://c:\\Users\\gufer\\OneDrive\\Documentos\\FIAP\\Fase_03\\mtg-project\\classes\\player.py\u001b\\\u001b[2mplayer.py\u001b[0m\u001b]8;;\u001b\\\u001b[2m:\u001b[0m\u001b]8;id=182071;file://c:\\Users\\gufer\\OneDrive\\Documentos\\FIAP\\Fase_03\\mtg-project\\classes\\player.py#372\u001b\\\u001b[2m372\u001b[0m\u001b]8;;\u001b\\\n"
      ]
     },
     "metadata": {},
     "output_type": "display_data"
    },
    {
     "data": {
      "text/html": [
       "<pre style=\"white-space:pre;overflow-x:auto;line-height:normal;font-family:Menlo,'DejaVu Sans Mono',consolas,'Courier New',monospace\"><span style=\"color: #7fbfbf; text-decoration-color: #7fbfbf\">                    </span><span style=\"color: #808000; text-decoration-color: #808000\">WARNING </span> David Walsh couldn't play any spells.                                    <a href=\"file://c:\\Users\\gufer\\OneDrive\\Documentos\\FIAP\\Fase_03\\mtg-project\\classes\\player.py\" target=\"_blank\"><span style=\"color: #7f7f7f; text-decoration-color: #7f7f7f\">player.py</span></a><span style=\"color: #7f7f7f; text-decoration-color: #7f7f7f\">:</span><a href=\"file://c:\\Users\\gufer\\OneDrive\\Documentos\\FIAP\\Fase_03\\mtg-project\\classes\\player.py#372\" target=\"_blank\"><span style=\"color: #7f7f7f; text-decoration-color: #7f7f7f\">372</span></a>\n",
       "</pre>\n"
      ],
      "text/plain": [
       "\u001b[2;36m                   \u001b[0m\u001b[2;36m \u001b[0m\u001b[33mWARNING \u001b[0m David Walsh couldn't play any spells.                                    \u001b]8;id=968207;file://c:\\Users\\gufer\\OneDrive\\Documentos\\FIAP\\Fase_03\\mtg-project\\classes\\player.py\u001b\\\u001b[2mplayer.py\u001b[0m\u001b]8;;\u001b\\\u001b[2m:\u001b[0m\u001b]8;id=71443;file://c:\\Users\\gufer\\OneDrive\\Documentos\\FIAP\\Fase_03\\mtg-project\\classes\\player.py#372\u001b\\\u001b[2m372\u001b[0m\u001b]8;;\u001b\\\n"
      ]
     },
     "metadata": {},
     "output_type": "display_data"
    },
    {
     "data": {
      "text/html": [
       "<pre style=\"white-space:pre;overflow-x:auto;line-height:normal;font-family:Menlo,'DejaVu Sans Mono',consolas,'Courier New',monospace\"><span style=\"color: #7fbfbf; text-decoration-color: #7fbfbf\">                    </span><span style=\"color: #808000; text-decoration-color: #808000\">WARNING </span> David Walsh couldn't play any spells.                                    <a href=\"file://c:\\Users\\gufer\\OneDrive\\Documentos\\FIAP\\Fase_03\\mtg-project\\classes\\player.py\" target=\"_blank\"><span style=\"color: #7f7f7f; text-decoration-color: #7f7f7f\">player.py</span></a><span style=\"color: #7f7f7f; text-decoration-color: #7f7f7f\">:</span><a href=\"file://c:\\Users\\gufer\\OneDrive\\Documentos\\FIAP\\Fase_03\\mtg-project\\classes\\player.py#372\" target=\"_blank\"><span style=\"color: #7f7f7f; text-decoration-color: #7f7f7f\">372</span></a>\n",
       "</pre>\n"
      ],
      "text/plain": [
       "\u001b[2;36m                   \u001b[0m\u001b[2;36m \u001b[0m\u001b[33mWARNING \u001b[0m David Walsh couldn't play any spells.                                    \u001b]8;id=224414;file://c:\\Users\\gufer\\OneDrive\\Documentos\\FIAP\\Fase_03\\mtg-project\\classes\\player.py\u001b\\\u001b[2mplayer.py\u001b[0m\u001b]8;;\u001b\\\u001b[2m:\u001b[0m\u001b]8;id=391435;file://c:\\Users\\gufer\\OneDrive\\Documentos\\FIAP\\Fase_03\\mtg-project\\classes\\player.py#372\u001b\\\u001b[2m372\u001b[0m\u001b]8;;\u001b\\\n"
      ]
     },
     "metadata": {},
     "output_type": "display_data"
    },
    {
     "data": {
      "text/html": [
       "<pre style=\"white-space:pre;overflow-x:auto;line-height:normal;font-family:Menlo,'DejaVu Sans Mono',consolas,'Courier New',monospace\"><span style=\"color: #7fbfbf; text-decoration-color: #7fbfbf\">                    </span><span style=\"color: #808000; text-decoration-color: #808000\">WARNING </span> David Walsh couldn't play any spells.                                    <a href=\"file://c:\\Users\\gufer\\OneDrive\\Documentos\\FIAP\\Fase_03\\mtg-project\\classes\\player.py\" target=\"_blank\"><span style=\"color: #7f7f7f; text-decoration-color: #7f7f7f\">player.py</span></a><span style=\"color: #7f7f7f; text-decoration-color: #7f7f7f\">:</span><a href=\"file://c:\\Users\\gufer\\OneDrive\\Documentos\\FIAP\\Fase_03\\mtg-project\\classes\\player.py#372\" target=\"_blank\"><span style=\"color: #7f7f7f; text-decoration-color: #7f7f7f\">372</span></a>\n",
       "</pre>\n"
      ],
      "text/plain": [
       "\u001b[2;36m                   \u001b[0m\u001b[2;36m \u001b[0m\u001b[33mWARNING \u001b[0m David Walsh couldn't play any spells.                                    \u001b]8;id=466527;file://c:\\Users\\gufer\\OneDrive\\Documentos\\FIAP\\Fase_03\\mtg-project\\classes\\player.py\u001b\\\u001b[2mplayer.py\u001b[0m\u001b]8;;\u001b\\\u001b[2m:\u001b[0m\u001b]8;id=383968;file://c:\\Users\\gufer\\OneDrive\\Documentos\\FIAP\\Fase_03\\mtg-project\\classes\\player.py#372\u001b\\\u001b[2m372\u001b[0m\u001b]8;;\u001b\\\n"
      ]
     },
     "metadata": {},
     "output_type": "display_data"
    },
    {
     "data": {
      "text/html": [
       "<pre style=\"white-space:pre;overflow-x:auto;line-height:normal;font-family:Menlo,'DejaVu Sans Mono',consolas,'Courier New',monospace\"><span style=\"color: #7fbfbf; text-decoration-color: #7fbfbf\">                    </span><span style=\"color: #808000; text-decoration-color: #808000\">WARNING </span> David Walsh couldn't play any spells.                                    <a href=\"file://c:\\Users\\gufer\\OneDrive\\Documentos\\FIAP\\Fase_03\\mtg-project\\classes\\player.py\" target=\"_blank\"><span style=\"color: #7f7f7f; text-decoration-color: #7f7f7f\">player.py</span></a><span style=\"color: #7f7f7f; text-decoration-color: #7f7f7f\">:</span><a href=\"file://c:\\Users\\gufer\\OneDrive\\Documentos\\FIAP\\Fase_03\\mtg-project\\classes\\player.py#372\" target=\"_blank\"><span style=\"color: #7f7f7f; text-decoration-color: #7f7f7f\">372</span></a>\n",
       "</pre>\n"
      ],
      "text/plain": [
       "\u001b[2;36m                   \u001b[0m\u001b[2;36m \u001b[0m\u001b[33mWARNING \u001b[0m David Walsh couldn't play any spells.                                    \u001b]8;id=63635;file://c:\\Users\\gufer\\OneDrive\\Documentos\\FIAP\\Fase_03\\mtg-project\\classes\\player.py\u001b\\\u001b[2mplayer.py\u001b[0m\u001b]8;;\u001b\\\u001b[2m:\u001b[0m\u001b]8;id=392418;file://c:\\Users\\gufer\\OneDrive\\Documentos\\FIAP\\Fase_03\\mtg-project\\classes\\player.py#372\u001b\\\u001b[2m372\u001b[0m\u001b]8;;\u001b\\\n"
      ]
     },
     "metadata": {},
     "output_type": "display_data"
    },
    {
     "data": {
      "text/html": [
       "<pre style=\"white-space:pre;overflow-x:auto;line-height:normal;font-family:Menlo,'DejaVu Sans Mono',consolas,'Courier New',monospace\"><span style=\"color: #7fbfbf; text-decoration-color: #7fbfbf\">                    </span><span style=\"color: #808000; text-decoration-color: #808000\">WARNING </span> David Walsh couldn't play any spells.                                    <a href=\"file://c:\\Users\\gufer\\OneDrive\\Documentos\\FIAP\\Fase_03\\mtg-project\\classes\\player.py\" target=\"_blank\"><span style=\"color: #7f7f7f; text-decoration-color: #7f7f7f\">player.py</span></a><span style=\"color: #7f7f7f; text-decoration-color: #7f7f7f\">:</span><a href=\"file://c:\\Users\\gufer\\OneDrive\\Documentos\\FIAP\\Fase_03\\mtg-project\\classes\\player.py#372\" target=\"_blank\"><span style=\"color: #7f7f7f; text-decoration-color: #7f7f7f\">372</span></a>\n",
       "</pre>\n"
      ],
      "text/plain": [
       "\u001b[2;36m                   \u001b[0m\u001b[2;36m \u001b[0m\u001b[33mWARNING \u001b[0m David Walsh couldn't play any spells.                                    \u001b]8;id=986601;file://c:\\Users\\gufer\\OneDrive\\Documentos\\FIAP\\Fase_03\\mtg-project\\classes\\player.py\u001b\\\u001b[2mplayer.py\u001b[0m\u001b]8;;\u001b\\\u001b[2m:\u001b[0m\u001b]8;id=797720;file://c:\\Users\\gufer\\OneDrive\\Documentos\\FIAP\\Fase_03\\mtg-project\\classes\\player.py#372\u001b\\\u001b[2m372\u001b[0m\u001b]8;;\u001b\\\n"
      ]
     },
     "metadata": {},
     "output_type": "display_data"
    },
    {
     "data": {
      "text/html": [
       "<pre style=\"white-space:pre;overflow-x:auto;line-height:normal;font-family:Menlo,'DejaVu Sans Mono',consolas,'Courier New',monospace\"><span style=\"color: #7fbfbf; text-decoration-color: #7fbfbf\">                    </span><span style=\"color: #808000; text-decoration-color: #808000\">WARNING </span> David Walsh couldn't play any spells.                                    <a href=\"file://c:\\Users\\gufer\\OneDrive\\Documentos\\FIAP\\Fase_03\\mtg-project\\classes\\player.py\" target=\"_blank\"><span style=\"color: #7f7f7f; text-decoration-color: #7f7f7f\">player.py</span></a><span style=\"color: #7f7f7f; text-decoration-color: #7f7f7f\">:</span><a href=\"file://c:\\Users\\gufer\\OneDrive\\Documentos\\FIAP\\Fase_03\\mtg-project\\classes\\player.py#372\" target=\"_blank\"><span style=\"color: #7f7f7f; text-decoration-color: #7f7f7f\">372</span></a>\n",
       "</pre>\n"
      ],
      "text/plain": [
       "\u001b[2;36m                   \u001b[0m\u001b[2;36m \u001b[0m\u001b[33mWARNING \u001b[0m David Walsh couldn't play any spells.                                    \u001b]8;id=512541;file://c:\\Users\\gufer\\OneDrive\\Documentos\\FIAP\\Fase_03\\mtg-project\\classes\\player.py\u001b\\\u001b[2mplayer.py\u001b[0m\u001b]8;;\u001b\\\u001b[2m:\u001b[0m\u001b]8;id=665712;file://c:\\Users\\gufer\\OneDrive\\Documentos\\FIAP\\Fase_03\\mtg-project\\classes\\player.py#372\u001b\\\u001b[2m372\u001b[0m\u001b]8;;\u001b\\\n"
      ]
     },
     "metadata": {},
     "output_type": "display_data"
    },
    {
     "data": {
      "text/html": [
       "<pre style=\"white-space:pre;overflow-x:auto;line-height:normal;font-family:Menlo,'DejaVu Sans Mono',consolas,'Courier New',monospace\"><span style=\"color: #7fbfbf; text-decoration-color: #7fbfbf\">                    </span><span style=\"color: #808000; text-decoration-color: #808000\">WARNING </span> David Walsh couldn't play any spells.                                    <a href=\"file://c:\\Users\\gufer\\OneDrive\\Documentos\\FIAP\\Fase_03\\mtg-project\\classes\\player.py\" target=\"_blank\"><span style=\"color: #7f7f7f; text-decoration-color: #7f7f7f\">player.py</span></a><span style=\"color: #7f7f7f; text-decoration-color: #7f7f7f\">:</span><a href=\"file://c:\\Users\\gufer\\OneDrive\\Documentos\\FIAP\\Fase_03\\mtg-project\\classes\\player.py#372\" target=\"_blank\"><span style=\"color: #7f7f7f; text-decoration-color: #7f7f7f\">372</span></a>\n",
       "</pre>\n"
      ],
      "text/plain": [
       "\u001b[2;36m                   \u001b[0m\u001b[2;36m \u001b[0m\u001b[33mWARNING \u001b[0m David Walsh couldn't play any spells.                                    \u001b]8;id=191720;file://c:\\Users\\gufer\\OneDrive\\Documentos\\FIAP\\Fase_03\\mtg-project\\classes\\player.py\u001b\\\u001b[2mplayer.py\u001b[0m\u001b]8;;\u001b\\\u001b[2m:\u001b[0m\u001b]8;id=431549;file://c:\\Users\\gufer\\OneDrive\\Documentos\\FIAP\\Fase_03\\mtg-project\\classes\\player.py#372\u001b\\\u001b[2m372\u001b[0m\u001b]8;;\u001b\\\n"
      ]
     },
     "metadata": {},
     "output_type": "display_data"
    },
    {
     "data": {
      "text/html": [
       "<pre style=\"white-space:pre;overflow-x:auto;line-height:normal;font-family:Menlo,'DejaVu Sans Mono',consolas,'Courier New',monospace\"><span style=\"color: #7fbfbf; text-decoration-color: #7fbfbf\">                    </span><span style=\"color: #808000; text-decoration-color: #808000\">WARNING </span> David Walsh couldn't play any spells.                                    <a href=\"file://c:\\Users\\gufer\\OneDrive\\Documentos\\FIAP\\Fase_03\\mtg-project\\classes\\player.py\" target=\"_blank\"><span style=\"color: #7f7f7f; text-decoration-color: #7f7f7f\">player.py</span></a><span style=\"color: #7f7f7f; text-decoration-color: #7f7f7f\">:</span><a href=\"file://c:\\Users\\gufer\\OneDrive\\Documentos\\FIAP\\Fase_03\\mtg-project\\classes\\player.py#372\" target=\"_blank\"><span style=\"color: #7f7f7f; text-decoration-color: #7f7f7f\">372</span></a>\n",
       "</pre>\n"
      ],
      "text/plain": [
       "\u001b[2;36m                   \u001b[0m\u001b[2;36m \u001b[0m\u001b[33mWARNING \u001b[0m David Walsh couldn't play any spells.                                    \u001b]8;id=534127;file://c:\\Users\\gufer\\OneDrive\\Documentos\\FIAP\\Fase_03\\mtg-project\\classes\\player.py\u001b\\\u001b[2mplayer.py\u001b[0m\u001b]8;;\u001b\\\u001b[2m:\u001b[0m\u001b]8;id=480732;file://c:\\Users\\gufer\\OneDrive\\Documentos\\FIAP\\Fase_03\\mtg-project\\classes\\player.py#372\u001b\\\u001b[2m372\u001b[0m\u001b]8;;\u001b\\\n"
      ]
     },
     "metadata": {},
     "output_type": "display_data"
    },
    {
     "data": {
      "text/html": [
       "<pre style=\"white-space:pre;overflow-x:auto;line-height:normal;font-family:Menlo,'DejaVu Sans Mono',consolas,'Courier New',monospace\"><span style=\"color: #7fbfbf; text-decoration-color: #7fbfbf\">                    </span><span style=\"color: #808000; text-decoration-color: #808000\">WARNING </span> David Walsh couldn't play any spells.                                    <a href=\"file://c:\\Users\\gufer\\OneDrive\\Documentos\\FIAP\\Fase_03\\mtg-project\\classes\\player.py\" target=\"_blank\"><span style=\"color: #7f7f7f; text-decoration-color: #7f7f7f\">player.py</span></a><span style=\"color: #7f7f7f; text-decoration-color: #7f7f7f\">:</span><a href=\"file://c:\\Users\\gufer\\OneDrive\\Documentos\\FIAP\\Fase_03\\mtg-project\\classes\\player.py#372\" target=\"_blank\"><span style=\"color: #7f7f7f; text-decoration-color: #7f7f7f\">372</span></a>\n",
       "</pre>\n"
      ],
      "text/plain": [
       "\u001b[2;36m                   \u001b[0m\u001b[2;36m \u001b[0m\u001b[33mWARNING \u001b[0m David Walsh couldn't play any spells.                                    \u001b]8;id=2397;file://c:\\Users\\gufer\\OneDrive\\Documentos\\FIAP\\Fase_03\\mtg-project\\classes\\player.py\u001b\\\u001b[2mplayer.py\u001b[0m\u001b]8;;\u001b\\\u001b[2m:\u001b[0m\u001b]8;id=80346;file://c:\\Users\\gufer\\OneDrive\\Documentos\\FIAP\\Fase_03\\mtg-project\\classes\\player.py#372\u001b\\\u001b[2m372\u001b[0m\u001b]8;;\u001b\\\n"
      ]
     },
     "metadata": {},
     "output_type": "display_data"
    },
    {
     "data": {
      "text/html": [
       "<pre style=\"white-space:pre;overflow-x:auto;line-height:normal;font-family:Menlo,'DejaVu Sans Mono',consolas,'Courier New',monospace\"><span style=\"color: #7fbfbf; text-decoration-color: #7fbfbf\">                    </span><span style=\"color: #808000; text-decoration-color: #808000\">WARNING </span> David Walsh couldn't play any spells.                                    <a href=\"file://c:\\Users\\gufer\\OneDrive\\Documentos\\FIAP\\Fase_03\\mtg-project\\classes\\player.py\" target=\"_blank\"><span style=\"color: #7f7f7f; text-decoration-color: #7f7f7f\">player.py</span></a><span style=\"color: #7f7f7f; text-decoration-color: #7f7f7f\">:</span><a href=\"file://c:\\Users\\gufer\\OneDrive\\Documentos\\FIAP\\Fase_03\\mtg-project\\classes\\player.py#372\" target=\"_blank\"><span style=\"color: #7f7f7f; text-decoration-color: #7f7f7f\">372</span></a>\n",
       "</pre>\n"
      ],
      "text/plain": [
       "\u001b[2;36m                   \u001b[0m\u001b[2;36m \u001b[0m\u001b[33mWARNING \u001b[0m David Walsh couldn't play any spells.                                    \u001b]8;id=533817;file://c:\\Users\\gufer\\OneDrive\\Documentos\\FIAP\\Fase_03\\mtg-project\\classes\\player.py\u001b\\\u001b[2mplayer.py\u001b[0m\u001b]8;;\u001b\\\u001b[2m:\u001b[0m\u001b]8;id=41850;file://c:\\Users\\gufer\\OneDrive\\Documentos\\FIAP\\Fase_03\\mtg-project\\classes\\player.py#372\u001b\\\u001b[2m372\u001b[0m\u001b]8;;\u001b\\\n"
      ]
     },
     "metadata": {},
     "output_type": "display_data"
    },
    {
     "data": {
      "text/html": [
       "<pre style=\"white-space:pre;overflow-x:auto;line-height:normal;font-family:Menlo,'DejaVu Sans Mono',consolas,'Courier New',monospace\"><span style=\"color: #7fbfbf; text-decoration-color: #7fbfbf\">                    </span><span style=\"color: #808000; text-decoration-color: #808000\">WARNING </span> David Walsh couldn't play any spells.                                    <a href=\"file://c:\\Users\\gufer\\OneDrive\\Documentos\\FIAP\\Fase_03\\mtg-project\\classes\\player.py\" target=\"_blank\"><span style=\"color: #7f7f7f; text-decoration-color: #7f7f7f\">player.py</span></a><span style=\"color: #7f7f7f; text-decoration-color: #7f7f7f\">:</span><a href=\"file://c:\\Users\\gufer\\OneDrive\\Documentos\\FIAP\\Fase_03\\mtg-project\\classes\\player.py#372\" target=\"_blank\"><span style=\"color: #7f7f7f; text-decoration-color: #7f7f7f\">372</span></a>\n",
       "</pre>\n"
      ],
      "text/plain": [
       "\u001b[2;36m                   \u001b[0m\u001b[2;36m \u001b[0m\u001b[33mWARNING \u001b[0m David Walsh couldn't play any spells.                                    \u001b]8;id=154377;file://c:\\Users\\gufer\\OneDrive\\Documentos\\FIAP\\Fase_03\\mtg-project\\classes\\player.py\u001b\\\u001b[2mplayer.py\u001b[0m\u001b]8;;\u001b\\\u001b[2m:\u001b[0m\u001b]8;id=508930;file://c:\\Users\\gufer\\OneDrive\\Documentos\\FIAP\\Fase_03\\mtg-project\\classes\\player.py#372\u001b\\\u001b[2m372\u001b[0m\u001b]8;;\u001b\\\n"
      ]
     },
     "metadata": {},
     "output_type": "display_data"
    },
    {
     "data": {
      "text/html": [
       "<pre style=\"white-space:pre;overflow-x:auto;line-height:normal;font-family:Menlo,'DejaVu Sans Mono',consolas,'Courier New',monospace\"><span style=\"color: #7fbfbf; text-decoration-color: #7fbfbf\">                    </span><span style=\"color: #808000; text-decoration-color: #808000\">WARNING </span> David Walsh couldn't play any spells.                                    <a href=\"file://c:\\Users\\gufer\\OneDrive\\Documentos\\FIAP\\Fase_03\\mtg-project\\classes\\player.py\" target=\"_blank\"><span style=\"color: #7f7f7f; text-decoration-color: #7f7f7f\">player.py</span></a><span style=\"color: #7f7f7f; text-decoration-color: #7f7f7f\">:</span><a href=\"file://c:\\Users\\gufer\\OneDrive\\Documentos\\FIAP\\Fase_03\\mtg-project\\classes\\player.py#372\" target=\"_blank\"><span style=\"color: #7f7f7f; text-decoration-color: #7f7f7f\">372</span></a>\n",
       "</pre>\n"
      ],
      "text/plain": [
       "\u001b[2;36m                   \u001b[0m\u001b[2;36m \u001b[0m\u001b[33mWARNING \u001b[0m David Walsh couldn't play any spells.                                    \u001b]8;id=395598;file://c:\\Users\\gufer\\OneDrive\\Documentos\\FIAP\\Fase_03\\mtg-project\\classes\\player.py\u001b\\\u001b[2mplayer.py\u001b[0m\u001b]8;;\u001b\\\u001b[2m:\u001b[0m\u001b]8;id=748036;file://c:\\Users\\gufer\\OneDrive\\Documentos\\FIAP\\Fase_03\\mtg-project\\classes\\player.py#372\u001b\\\u001b[2m372\u001b[0m\u001b]8;;\u001b\\\n"
      ]
     },
     "metadata": {},
     "output_type": "display_data"
    },
    {
     "data": {
      "text/html": [
       "<pre style=\"white-space:pre;overflow-x:auto;line-height:normal;font-family:Menlo,'DejaVu Sans Mono',consolas,'Courier New',monospace\"><span style=\"color: #7fbfbf; text-decoration-color: #7fbfbf\">                    </span><span style=\"color: #808000; text-decoration-color: #808000\">WARNING </span> Manuel Collins couldn't play any spells.                                 <a href=\"file://c:\\Users\\gufer\\OneDrive\\Documentos\\FIAP\\Fase_03\\mtg-project\\classes\\player.py\" target=\"_blank\"><span style=\"color: #7f7f7f; text-decoration-color: #7f7f7f\">player.py</span></a><span style=\"color: #7f7f7f; text-decoration-color: #7f7f7f\">:</span><a href=\"file://c:\\Users\\gufer\\OneDrive\\Documentos\\FIAP\\Fase_03\\mtg-project\\classes\\player.py#372\" target=\"_blank\"><span style=\"color: #7f7f7f; text-decoration-color: #7f7f7f\">372</span></a>\n",
       "</pre>\n"
      ],
      "text/plain": [
       "\u001b[2;36m                   \u001b[0m\u001b[2;36m \u001b[0m\u001b[33mWARNING \u001b[0m Manuel Collins couldn't play any spells.                                 \u001b]8;id=809703;file://c:\\Users\\gufer\\OneDrive\\Documentos\\FIAP\\Fase_03\\mtg-project\\classes\\player.py\u001b\\\u001b[2mplayer.py\u001b[0m\u001b]8;;\u001b\\\u001b[2m:\u001b[0m\u001b]8;id=335214;file://c:\\Users\\gufer\\OneDrive\\Documentos\\FIAP\\Fase_03\\mtg-project\\classes\\player.py#372\u001b\\\u001b[2m372\u001b[0m\u001b]8;;\u001b\\\n"
      ]
     },
     "metadata": {},
     "output_type": "display_data"
    },
    {
     "data": {
      "text/html": [
       "<pre style=\"white-space:pre;overflow-x:auto;line-height:normal;font-family:Menlo,'DejaVu Sans Mono',consolas,'Courier New',monospace\"><span style=\"color: #7fbfbf; text-decoration-color: #7fbfbf\">                    </span><span style=\"color: #808000; text-decoration-color: #808000\">WARNING </span> Manuel Collins couldn't play any spells.                                 <a href=\"file://c:\\Users\\gufer\\OneDrive\\Documentos\\FIAP\\Fase_03\\mtg-project\\classes\\player.py\" target=\"_blank\"><span style=\"color: #7f7f7f; text-decoration-color: #7f7f7f\">player.py</span></a><span style=\"color: #7f7f7f; text-decoration-color: #7f7f7f\">:</span><a href=\"file://c:\\Users\\gufer\\OneDrive\\Documentos\\FIAP\\Fase_03\\mtg-project\\classes\\player.py#372\" target=\"_blank\"><span style=\"color: #7f7f7f; text-decoration-color: #7f7f7f\">372</span></a>\n",
       "</pre>\n"
      ],
      "text/plain": [
       "\u001b[2;36m                   \u001b[0m\u001b[2;36m \u001b[0m\u001b[33mWARNING \u001b[0m Manuel Collins couldn't play any spells.                                 \u001b]8;id=559443;file://c:\\Users\\gufer\\OneDrive\\Documentos\\FIAP\\Fase_03\\mtg-project\\classes\\player.py\u001b\\\u001b[2mplayer.py\u001b[0m\u001b]8;;\u001b\\\u001b[2m:\u001b[0m\u001b]8;id=76683;file://c:\\Users\\gufer\\OneDrive\\Documentos\\FIAP\\Fase_03\\mtg-project\\classes\\player.py#372\u001b\\\u001b[2m372\u001b[0m\u001b]8;;\u001b\\\n"
      ]
     },
     "metadata": {},
     "output_type": "display_data"
    },
    {
     "data": {
      "text/html": [
       "<pre style=\"white-space:pre;overflow-x:auto;line-height:normal;font-family:Menlo,'DejaVu Sans Mono',consolas,'Courier New',monospace\"><span style=\"color: #7fbfbf; text-decoration-color: #7fbfbf\">                    </span><span style=\"color: #808000; text-decoration-color: #808000\">WARNING </span> Manuel Collins couldn't play any spells.                                 <a href=\"file://c:\\Users\\gufer\\OneDrive\\Documentos\\FIAP\\Fase_03\\mtg-project\\classes\\player.py\" target=\"_blank\"><span style=\"color: #7f7f7f; text-decoration-color: #7f7f7f\">player.py</span></a><span style=\"color: #7f7f7f; text-decoration-color: #7f7f7f\">:</span><a href=\"file://c:\\Users\\gufer\\OneDrive\\Documentos\\FIAP\\Fase_03\\mtg-project\\classes\\player.py#372\" target=\"_blank\"><span style=\"color: #7f7f7f; text-decoration-color: #7f7f7f\">372</span></a>\n",
       "</pre>\n"
      ],
      "text/plain": [
       "\u001b[2;36m                   \u001b[0m\u001b[2;36m \u001b[0m\u001b[33mWARNING \u001b[0m Manuel Collins couldn't play any spells.                                 \u001b]8;id=678069;file://c:\\Users\\gufer\\OneDrive\\Documentos\\FIAP\\Fase_03\\mtg-project\\classes\\player.py\u001b\\\u001b[2mplayer.py\u001b[0m\u001b]8;;\u001b\\\u001b[2m:\u001b[0m\u001b]8;id=743720;file://c:\\Users\\gufer\\OneDrive\\Documentos\\FIAP\\Fase_03\\mtg-project\\classes\\player.py#372\u001b\\\u001b[2m372\u001b[0m\u001b]8;;\u001b\\\n"
      ]
     },
     "metadata": {},
     "output_type": "display_data"
    },
    {
     "data": {
      "text/html": [
       "<pre style=\"white-space:pre;overflow-x:auto;line-height:normal;font-family:Menlo,'DejaVu Sans Mono',consolas,'Courier New',monospace\"><span style=\"color: #7fbfbf; text-decoration-color: #7fbfbf\">                    </span><span style=\"color: #808000; text-decoration-color: #808000\">WARNING </span> Manuel Collins couldn't play any spells.                                 <a href=\"file://c:\\Users\\gufer\\OneDrive\\Documentos\\FIAP\\Fase_03\\mtg-project\\classes\\player.py\" target=\"_blank\"><span style=\"color: #7f7f7f; text-decoration-color: #7f7f7f\">player.py</span></a><span style=\"color: #7f7f7f; text-decoration-color: #7f7f7f\">:</span><a href=\"file://c:\\Users\\gufer\\OneDrive\\Documentos\\FIAP\\Fase_03\\mtg-project\\classes\\player.py#372\" target=\"_blank\"><span style=\"color: #7f7f7f; text-decoration-color: #7f7f7f\">372</span></a>\n",
       "</pre>\n"
      ],
      "text/plain": [
       "\u001b[2;36m                   \u001b[0m\u001b[2;36m \u001b[0m\u001b[33mWARNING \u001b[0m Manuel Collins couldn't play any spells.                                 \u001b]8;id=158421;file://c:\\Users\\gufer\\OneDrive\\Documentos\\FIAP\\Fase_03\\mtg-project\\classes\\player.py\u001b\\\u001b[2mplayer.py\u001b[0m\u001b]8;;\u001b\\\u001b[2m:\u001b[0m\u001b]8;id=736651;file://c:\\Users\\gufer\\OneDrive\\Documentos\\FIAP\\Fase_03\\mtg-project\\classes\\player.py#372\u001b\\\u001b[2m372\u001b[0m\u001b]8;;\u001b\\\n"
      ]
     },
     "metadata": {},
     "output_type": "display_data"
    },
    {
     "data": {
      "text/html": [
       "<pre style=\"white-space:pre;overflow-x:auto;line-height:normal;font-family:Menlo,'DejaVu Sans Mono',consolas,'Courier New',monospace\"><span style=\"color: #7fbfbf; text-decoration-color: #7fbfbf\">                    </span><span style=\"color: #808000; text-decoration-color: #808000\">WARNING </span> Manuel Collins couldn't play any spells.                                 <a href=\"file://c:\\Users\\gufer\\OneDrive\\Documentos\\FIAP\\Fase_03\\mtg-project\\classes\\player.py\" target=\"_blank\"><span style=\"color: #7f7f7f; text-decoration-color: #7f7f7f\">player.py</span></a><span style=\"color: #7f7f7f; text-decoration-color: #7f7f7f\">:</span><a href=\"file://c:\\Users\\gufer\\OneDrive\\Documentos\\FIAP\\Fase_03\\mtg-project\\classes\\player.py#372\" target=\"_blank\"><span style=\"color: #7f7f7f; text-decoration-color: #7f7f7f\">372</span></a>\n",
       "</pre>\n"
      ],
      "text/plain": [
       "\u001b[2;36m                   \u001b[0m\u001b[2;36m \u001b[0m\u001b[33mWARNING \u001b[0m Manuel Collins couldn't play any spells.                                 \u001b]8;id=924296;file://c:\\Users\\gufer\\OneDrive\\Documentos\\FIAP\\Fase_03\\mtg-project\\classes\\player.py\u001b\\\u001b[2mplayer.py\u001b[0m\u001b]8;;\u001b\\\u001b[2m:\u001b[0m\u001b]8;id=89590;file://c:\\Users\\gufer\\OneDrive\\Documentos\\FIAP\\Fase_03\\mtg-project\\classes\\player.py#372\u001b\\\u001b[2m372\u001b[0m\u001b]8;;\u001b\\\n"
      ]
     },
     "metadata": {},
     "output_type": "display_data"
    },
    {
     "data": {
      "text/html": [
       "<pre style=\"white-space:pre;overflow-x:auto;line-height:normal;font-family:Menlo,'DejaVu Sans Mono',consolas,'Courier New',monospace\"><span style=\"color: #7fbfbf; text-decoration-color: #7fbfbf\">                    </span><span style=\"color: #808000; text-decoration-color: #808000\">WARNING </span> Manuel Collins couldn't play any spells.                                 <a href=\"file://c:\\Users\\gufer\\OneDrive\\Documentos\\FIAP\\Fase_03\\mtg-project\\classes\\player.py\" target=\"_blank\"><span style=\"color: #7f7f7f; text-decoration-color: #7f7f7f\">player.py</span></a><span style=\"color: #7f7f7f; text-decoration-color: #7f7f7f\">:</span><a href=\"file://c:\\Users\\gufer\\OneDrive\\Documentos\\FIAP\\Fase_03\\mtg-project\\classes\\player.py#372\" target=\"_blank\"><span style=\"color: #7f7f7f; text-decoration-color: #7f7f7f\">372</span></a>\n",
       "</pre>\n"
      ],
      "text/plain": [
       "\u001b[2;36m                   \u001b[0m\u001b[2;36m \u001b[0m\u001b[33mWARNING \u001b[0m Manuel Collins couldn't play any spells.                                 \u001b]8;id=764534;file://c:\\Users\\gufer\\OneDrive\\Documentos\\FIAP\\Fase_03\\mtg-project\\classes\\player.py\u001b\\\u001b[2mplayer.py\u001b[0m\u001b]8;;\u001b\\\u001b[2m:\u001b[0m\u001b]8;id=194234;file://c:\\Users\\gufer\\OneDrive\\Documentos\\FIAP\\Fase_03\\mtg-project\\classes\\player.py#372\u001b\\\u001b[2m372\u001b[0m\u001b]8;;\u001b\\\n"
      ]
     },
     "metadata": {},
     "output_type": "display_data"
    },
    {
     "data": {
      "text/html": [
       "<pre style=\"white-space:pre;overflow-x:auto;line-height:normal;font-family:Menlo,'DejaVu Sans Mono',consolas,'Courier New',monospace\"><span style=\"color: #7fbfbf; text-decoration-color: #7fbfbf\">                    </span><span style=\"color: #808000; text-decoration-color: #808000\">WARNING </span> Manuel Collins couldn't play any spells.                                 <a href=\"file://c:\\Users\\gufer\\OneDrive\\Documentos\\FIAP\\Fase_03\\mtg-project\\classes\\player.py\" target=\"_blank\"><span style=\"color: #7f7f7f; text-decoration-color: #7f7f7f\">player.py</span></a><span style=\"color: #7f7f7f; text-decoration-color: #7f7f7f\">:</span><a href=\"file://c:\\Users\\gufer\\OneDrive\\Documentos\\FIAP\\Fase_03\\mtg-project\\classes\\player.py#372\" target=\"_blank\"><span style=\"color: #7f7f7f; text-decoration-color: #7f7f7f\">372</span></a>\n",
       "</pre>\n"
      ],
      "text/plain": [
       "\u001b[2;36m                   \u001b[0m\u001b[2;36m \u001b[0m\u001b[33mWARNING \u001b[0m Manuel Collins couldn't play any spells.                                 \u001b]8;id=440484;file://c:\\Users\\gufer\\OneDrive\\Documentos\\FIAP\\Fase_03\\mtg-project\\classes\\player.py\u001b\\\u001b[2mplayer.py\u001b[0m\u001b]8;;\u001b\\\u001b[2m:\u001b[0m\u001b]8;id=546831;file://c:\\Users\\gufer\\OneDrive\\Documentos\\FIAP\\Fase_03\\mtg-project\\classes\\player.py#372\u001b\\\u001b[2m372\u001b[0m\u001b]8;;\u001b\\\n"
      ]
     },
     "metadata": {},
     "output_type": "display_data"
    },
    {
     "data": {
      "text/html": [
       "<pre style=\"white-space:pre;overflow-x:auto;line-height:normal;font-family:Menlo,'DejaVu Sans Mono',consolas,'Courier New',monospace\"><span style=\"color: #7fbfbf; text-decoration-color: #7fbfbf\">                    </span><span style=\"color: #808000; text-decoration-color: #808000\">WARNING </span> Manuel Collins couldn't play any spells.                                 <a href=\"file://c:\\Users\\gufer\\OneDrive\\Documentos\\FIAP\\Fase_03\\mtg-project\\classes\\player.py\" target=\"_blank\"><span style=\"color: #7f7f7f; text-decoration-color: #7f7f7f\">player.py</span></a><span style=\"color: #7f7f7f; text-decoration-color: #7f7f7f\">:</span><a href=\"file://c:\\Users\\gufer\\OneDrive\\Documentos\\FIAP\\Fase_03\\mtg-project\\classes\\player.py#372\" target=\"_blank\"><span style=\"color: #7f7f7f; text-decoration-color: #7f7f7f\">372</span></a>\n",
       "</pre>\n"
      ],
      "text/plain": [
       "\u001b[2;36m                   \u001b[0m\u001b[2;36m \u001b[0m\u001b[33mWARNING \u001b[0m Manuel Collins couldn't play any spells.                                 \u001b]8;id=982561;file://c:\\Users\\gufer\\OneDrive\\Documentos\\FIAP\\Fase_03\\mtg-project\\classes\\player.py\u001b\\\u001b[2mplayer.py\u001b[0m\u001b]8;;\u001b\\\u001b[2m:\u001b[0m\u001b]8;id=843159;file://c:\\Users\\gufer\\OneDrive\\Documentos\\FIAP\\Fase_03\\mtg-project\\classes\\player.py#372\u001b\\\u001b[2m372\u001b[0m\u001b]8;;\u001b\\\n"
      ]
     },
     "metadata": {},
     "output_type": "display_data"
    },
    {
     "data": {
      "text/html": [
       "<pre style=\"white-space:pre;overflow-x:auto;line-height:normal;font-family:Menlo,'DejaVu Sans Mono',consolas,'Courier New',monospace\"><span style=\"color: #7fbfbf; text-decoration-color: #7fbfbf\">                    </span><span style=\"color: #808000; text-decoration-color: #808000\">WARNING </span> Manuel Collins couldn't play any spells.                                 <a href=\"file://c:\\Users\\gufer\\OneDrive\\Documentos\\FIAP\\Fase_03\\mtg-project\\classes\\player.py\" target=\"_blank\"><span style=\"color: #7f7f7f; text-decoration-color: #7f7f7f\">player.py</span></a><span style=\"color: #7f7f7f; text-decoration-color: #7f7f7f\">:</span><a href=\"file://c:\\Users\\gufer\\OneDrive\\Documentos\\FIAP\\Fase_03\\mtg-project\\classes\\player.py#372\" target=\"_blank\"><span style=\"color: #7f7f7f; text-decoration-color: #7f7f7f\">372</span></a>\n",
       "</pre>\n"
      ],
      "text/plain": [
       "\u001b[2;36m                   \u001b[0m\u001b[2;36m \u001b[0m\u001b[33mWARNING \u001b[0m Manuel Collins couldn't play any spells.                                 \u001b]8;id=957780;file://c:\\Users\\gufer\\OneDrive\\Documentos\\FIAP\\Fase_03\\mtg-project\\classes\\player.py\u001b\\\u001b[2mplayer.py\u001b[0m\u001b]8;;\u001b\\\u001b[2m:\u001b[0m\u001b]8;id=374958;file://c:\\Users\\gufer\\OneDrive\\Documentos\\FIAP\\Fase_03\\mtg-project\\classes\\player.py#372\u001b\\\u001b[2m372\u001b[0m\u001b]8;;\u001b\\\n"
      ]
     },
     "metadata": {},
     "output_type": "display_data"
    },
    {
     "data": {
      "text/html": [
       "<pre style=\"white-space:pre;overflow-x:auto;line-height:normal;font-family:Menlo,'DejaVu Sans Mono',consolas,'Courier New',monospace\"><span style=\"color: #7fbfbf; text-decoration-color: #7fbfbf\">                    </span><span style=\"color: #808000; text-decoration-color: #808000\">WARNING </span> Manuel Collins couldn't play any spells.                                 <a href=\"file://c:\\Users\\gufer\\OneDrive\\Documentos\\FIAP\\Fase_03\\mtg-project\\classes\\player.py\" target=\"_blank\"><span style=\"color: #7f7f7f; text-decoration-color: #7f7f7f\">player.py</span></a><span style=\"color: #7f7f7f; text-decoration-color: #7f7f7f\">:</span><a href=\"file://c:\\Users\\gufer\\OneDrive\\Documentos\\FIAP\\Fase_03\\mtg-project\\classes\\player.py#372\" target=\"_blank\"><span style=\"color: #7f7f7f; text-decoration-color: #7f7f7f\">372</span></a>\n",
       "</pre>\n"
      ],
      "text/plain": [
       "\u001b[2;36m                   \u001b[0m\u001b[2;36m \u001b[0m\u001b[33mWARNING \u001b[0m Manuel Collins couldn't play any spells.                                 \u001b]8;id=361652;file://c:\\Users\\gufer\\OneDrive\\Documentos\\FIAP\\Fase_03\\mtg-project\\classes\\player.py\u001b\\\u001b[2mplayer.py\u001b[0m\u001b]8;;\u001b\\\u001b[2m:\u001b[0m\u001b]8;id=782697;file://c:\\Users\\gufer\\OneDrive\\Documentos\\FIAP\\Fase_03\\mtg-project\\classes\\player.py#372\u001b\\\u001b[2m372\u001b[0m\u001b]8;;\u001b\\\n"
      ]
     },
     "metadata": {},
     "output_type": "display_data"
    },
    {
     "data": {
      "text/html": [
       "<pre style=\"white-space:pre;overflow-x:auto;line-height:normal;font-family:Menlo,'DejaVu Sans Mono',consolas,'Courier New',monospace\"><span style=\"color: #7fbfbf; text-decoration-color: #7fbfbf\">                    </span><span style=\"color: #808000; text-decoration-color: #808000\">WARNING </span> Manuel Collins couldn't play any spells.                                 <a href=\"file://c:\\Users\\gufer\\OneDrive\\Documentos\\FIAP\\Fase_03\\mtg-project\\classes\\player.py\" target=\"_blank\"><span style=\"color: #7f7f7f; text-decoration-color: #7f7f7f\">player.py</span></a><span style=\"color: #7f7f7f; text-decoration-color: #7f7f7f\">:</span><a href=\"file://c:\\Users\\gufer\\OneDrive\\Documentos\\FIAP\\Fase_03\\mtg-project\\classes\\player.py#372\" target=\"_blank\"><span style=\"color: #7f7f7f; text-decoration-color: #7f7f7f\">372</span></a>\n",
       "</pre>\n"
      ],
      "text/plain": [
       "\u001b[2;36m                   \u001b[0m\u001b[2;36m \u001b[0m\u001b[33mWARNING \u001b[0m Manuel Collins couldn't play any spells.                                 \u001b]8;id=406873;file://c:\\Users\\gufer\\OneDrive\\Documentos\\FIAP\\Fase_03\\mtg-project\\classes\\player.py\u001b\\\u001b[2mplayer.py\u001b[0m\u001b]8;;\u001b\\\u001b[2m:\u001b[0m\u001b]8;id=593908;file://c:\\Users\\gufer\\OneDrive\\Documentos\\FIAP\\Fase_03\\mtg-project\\classes\\player.py#372\u001b\\\u001b[2m372\u001b[0m\u001b]8;;\u001b\\\n"
      ]
     },
     "metadata": {},
     "output_type": "display_data"
    },
    {
     "data": {
      "text/html": [
       "<pre style=\"white-space:pre;overflow-x:auto;line-height:normal;font-family:Menlo,'DejaVu Sans Mono',consolas,'Courier New',monospace\"><span style=\"color: #7fbfbf; text-decoration-color: #7fbfbf\">                    </span><span style=\"color: #808000; text-decoration-color: #808000\">WARNING </span> Manuel Collins couldn't play any spells.                                 <a href=\"file://c:\\Users\\gufer\\OneDrive\\Documentos\\FIAP\\Fase_03\\mtg-project\\classes\\player.py\" target=\"_blank\"><span style=\"color: #7f7f7f; text-decoration-color: #7f7f7f\">player.py</span></a><span style=\"color: #7f7f7f; text-decoration-color: #7f7f7f\">:</span><a href=\"file://c:\\Users\\gufer\\OneDrive\\Documentos\\FIAP\\Fase_03\\mtg-project\\classes\\player.py#372\" target=\"_blank\"><span style=\"color: #7f7f7f; text-decoration-color: #7f7f7f\">372</span></a>\n",
       "</pre>\n"
      ],
      "text/plain": [
       "\u001b[2;36m                   \u001b[0m\u001b[2;36m \u001b[0m\u001b[33mWARNING \u001b[0m Manuel Collins couldn't play any spells.                                 \u001b]8;id=841774;file://c:\\Users\\gufer\\OneDrive\\Documentos\\FIAP\\Fase_03\\mtg-project\\classes\\player.py\u001b\\\u001b[2mplayer.py\u001b[0m\u001b]8;;\u001b\\\u001b[2m:\u001b[0m\u001b]8;id=609253;file://c:\\Users\\gufer\\OneDrive\\Documentos\\FIAP\\Fase_03\\mtg-project\\classes\\player.py#372\u001b\\\u001b[2m372\u001b[0m\u001b]8;;\u001b\\\n"
      ]
     },
     "metadata": {},
     "output_type": "display_data"
    },
    {
     "data": {
      "text/html": [
       "<pre style=\"white-space:pre;overflow-x:auto;line-height:normal;font-family:Menlo,'DejaVu Sans Mono',consolas,'Courier New',monospace\"><span style=\"color: #7fbfbf; text-decoration-color: #7fbfbf\">                    </span><span style=\"color: #808000; text-decoration-color: #808000\">WARNING </span> Manuel Collins couldn't play any spells.                                 <a href=\"file://c:\\Users\\gufer\\OneDrive\\Documentos\\FIAP\\Fase_03\\mtg-project\\classes\\player.py\" target=\"_blank\"><span style=\"color: #7f7f7f; text-decoration-color: #7f7f7f\">player.py</span></a><span style=\"color: #7f7f7f; text-decoration-color: #7f7f7f\">:</span><a href=\"file://c:\\Users\\gufer\\OneDrive\\Documentos\\FIAP\\Fase_03\\mtg-project\\classes\\player.py#372\" target=\"_blank\"><span style=\"color: #7f7f7f; text-decoration-color: #7f7f7f\">372</span></a>\n",
       "</pre>\n"
      ],
      "text/plain": [
       "\u001b[2;36m                   \u001b[0m\u001b[2;36m \u001b[0m\u001b[33mWARNING \u001b[0m Manuel Collins couldn't play any spells.                                 \u001b]8;id=918234;file://c:\\Users\\gufer\\OneDrive\\Documentos\\FIAP\\Fase_03\\mtg-project\\classes\\player.py\u001b\\\u001b[2mplayer.py\u001b[0m\u001b]8;;\u001b\\\u001b[2m:\u001b[0m\u001b]8;id=850095;file://c:\\Users\\gufer\\OneDrive\\Documentos\\FIAP\\Fase_03\\mtg-project\\classes\\player.py#372\u001b\\\u001b[2m372\u001b[0m\u001b]8;;\u001b\\\n"
      ]
     },
     "metadata": {},
     "output_type": "display_data"
    },
    {
     "data": {
      "text/html": [
       "<pre style=\"white-space:pre;overflow-x:auto;line-height:normal;font-family:Menlo,'DejaVu Sans Mono',consolas,'Courier New',monospace\"><span style=\"color: #7fbfbf; text-decoration-color: #7fbfbf\">                    </span><span style=\"color: #808000; text-decoration-color: #808000\">WARNING </span> Manuel Collins couldn't play any spells.                                 <a href=\"file://c:\\Users\\gufer\\OneDrive\\Documentos\\FIAP\\Fase_03\\mtg-project\\classes\\player.py\" target=\"_blank\"><span style=\"color: #7f7f7f; text-decoration-color: #7f7f7f\">player.py</span></a><span style=\"color: #7f7f7f; text-decoration-color: #7f7f7f\">:</span><a href=\"file://c:\\Users\\gufer\\OneDrive\\Documentos\\FIAP\\Fase_03\\mtg-project\\classes\\player.py#372\" target=\"_blank\"><span style=\"color: #7f7f7f; text-decoration-color: #7f7f7f\">372</span></a>\n",
       "</pre>\n"
      ],
      "text/plain": [
       "\u001b[2;36m                   \u001b[0m\u001b[2;36m \u001b[0m\u001b[33mWARNING \u001b[0m Manuel Collins couldn't play any spells.                                 \u001b]8;id=985618;file://c:\\Users\\gufer\\OneDrive\\Documentos\\FIAP\\Fase_03\\mtg-project\\classes\\player.py\u001b\\\u001b[2mplayer.py\u001b[0m\u001b]8;;\u001b\\\u001b[2m:\u001b[0m\u001b]8;id=134547;file://c:\\Users\\gufer\\OneDrive\\Documentos\\FIAP\\Fase_03\\mtg-project\\classes\\player.py#372\u001b\\\u001b[2m372\u001b[0m\u001b]8;;\u001b\\\n"
      ]
     },
     "metadata": {},
     "output_type": "display_data"
    },
    {
     "data": {
      "text/html": [
       "<pre style=\"white-space:pre;overflow-x:auto;line-height:normal;font-family:Menlo,'DejaVu Sans Mono',consolas,'Courier New',monospace\"><span style=\"color: #7fbfbf; text-decoration-color: #7fbfbf\">                    </span><span style=\"color: #808000; text-decoration-color: #808000\">WARNING </span> Kathryn Henry couldn't play any spells.                                  <a href=\"file://c:\\Users\\gufer\\OneDrive\\Documentos\\FIAP\\Fase_03\\mtg-project\\classes\\player.py\" target=\"_blank\"><span style=\"color: #7f7f7f; text-decoration-color: #7f7f7f\">player.py</span></a><span style=\"color: #7f7f7f; text-decoration-color: #7f7f7f\">:</span><a href=\"file://c:\\Users\\gufer\\OneDrive\\Documentos\\FIAP\\Fase_03\\mtg-project\\classes\\player.py#372\" target=\"_blank\"><span style=\"color: #7f7f7f; text-decoration-color: #7f7f7f\">372</span></a>\n",
       "</pre>\n"
      ],
      "text/plain": [
       "\u001b[2;36m                   \u001b[0m\u001b[2;36m \u001b[0m\u001b[33mWARNING \u001b[0m Kathryn Henry couldn't play any spells.                                  \u001b]8;id=581191;file://c:\\Users\\gufer\\OneDrive\\Documentos\\FIAP\\Fase_03\\mtg-project\\classes\\player.py\u001b\\\u001b[2mplayer.py\u001b[0m\u001b]8;;\u001b\\\u001b[2m:\u001b[0m\u001b]8;id=159161;file://c:\\Users\\gufer\\OneDrive\\Documentos\\FIAP\\Fase_03\\mtg-project\\classes\\player.py#372\u001b\\\u001b[2m372\u001b[0m\u001b]8;;\u001b\\\n"
      ]
     },
     "metadata": {},
     "output_type": "display_data"
    },
    {
     "data": {
      "text/html": [
       "<pre style=\"white-space:pre;overflow-x:auto;line-height:normal;font-family:Menlo,'DejaVu Sans Mono',consolas,'Courier New',monospace\"><span style=\"color: #7fbfbf; text-decoration-color: #7fbfbf\">                    </span><span style=\"color: #808000; text-decoration-color: #808000\">WARNING </span> Kathryn Henry couldn't play any spells.                                  <a href=\"file://c:\\Users\\gufer\\OneDrive\\Documentos\\FIAP\\Fase_03\\mtg-project\\classes\\player.py\" target=\"_blank\"><span style=\"color: #7f7f7f; text-decoration-color: #7f7f7f\">player.py</span></a><span style=\"color: #7f7f7f; text-decoration-color: #7f7f7f\">:</span><a href=\"file://c:\\Users\\gufer\\OneDrive\\Documentos\\FIAP\\Fase_03\\mtg-project\\classes\\player.py#372\" target=\"_blank\"><span style=\"color: #7f7f7f; text-decoration-color: #7f7f7f\">372</span></a>\n",
       "</pre>\n"
      ],
      "text/plain": [
       "\u001b[2;36m                   \u001b[0m\u001b[2;36m \u001b[0m\u001b[33mWARNING \u001b[0m Kathryn Henry couldn't play any spells.                                  \u001b]8;id=975048;file://c:\\Users\\gufer\\OneDrive\\Documentos\\FIAP\\Fase_03\\mtg-project\\classes\\player.py\u001b\\\u001b[2mplayer.py\u001b[0m\u001b]8;;\u001b\\\u001b[2m:\u001b[0m\u001b]8;id=923513;file://c:\\Users\\gufer\\OneDrive\\Documentos\\FIAP\\Fase_03\\mtg-project\\classes\\player.py#372\u001b\\\u001b[2m372\u001b[0m\u001b]8;;\u001b\\\n"
      ]
     },
     "metadata": {},
     "output_type": "display_data"
    },
    {
     "data": {
      "text/html": [
       "<pre style=\"white-space:pre;overflow-x:auto;line-height:normal;font-family:Menlo,'DejaVu Sans Mono',consolas,'Courier New',monospace\"><span style=\"color: #7fbfbf; text-decoration-color: #7fbfbf\">                    </span><span style=\"color: #808000; text-decoration-color: #808000\">WARNING </span> Kathryn Henry couldn't play any spells.                                  <a href=\"file://c:\\Users\\gufer\\OneDrive\\Documentos\\FIAP\\Fase_03\\mtg-project\\classes\\player.py\" target=\"_blank\"><span style=\"color: #7f7f7f; text-decoration-color: #7f7f7f\">player.py</span></a><span style=\"color: #7f7f7f; text-decoration-color: #7f7f7f\">:</span><a href=\"file://c:\\Users\\gufer\\OneDrive\\Documentos\\FIAP\\Fase_03\\mtg-project\\classes\\player.py#372\" target=\"_blank\"><span style=\"color: #7f7f7f; text-decoration-color: #7f7f7f\">372</span></a>\n",
       "</pre>\n"
      ],
      "text/plain": [
       "\u001b[2;36m                   \u001b[0m\u001b[2;36m \u001b[0m\u001b[33mWARNING \u001b[0m Kathryn Henry couldn't play any spells.                                  \u001b]8;id=420187;file://c:\\Users\\gufer\\OneDrive\\Documentos\\FIAP\\Fase_03\\mtg-project\\classes\\player.py\u001b\\\u001b[2mplayer.py\u001b[0m\u001b]8;;\u001b\\\u001b[2m:\u001b[0m\u001b]8;id=566726;file://c:\\Users\\gufer\\OneDrive\\Documentos\\FIAP\\Fase_03\\mtg-project\\classes\\player.py#372\u001b\\\u001b[2m372\u001b[0m\u001b]8;;\u001b\\\n"
      ]
     },
     "metadata": {},
     "output_type": "display_data"
    },
    {
     "data": {
      "text/html": [
       "<pre style=\"white-space:pre;overflow-x:auto;line-height:normal;font-family:Menlo,'DejaVu Sans Mono',consolas,'Courier New',monospace\"><span style=\"color: #7fbfbf; text-decoration-color: #7fbfbf\">                    </span><span style=\"color: #808000; text-decoration-color: #808000\">WARNING </span> Kathryn Henry couldn't play any spells.                                  <a href=\"file://c:\\Users\\gufer\\OneDrive\\Documentos\\FIAP\\Fase_03\\mtg-project\\classes\\player.py\" target=\"_blank\"><span style=\"color: #7f7f7f; text-decoration-color: #7f7f7f\">player.py</span></a><span style=\"color: #7f7f7f; text-decoration-color: #7f7f7f\">:</span><a href=\"file://c:\\Users\\gufer\\OneDrive\\Documentos\\FIAP\\Fase_03\\mtg-project\\classes\\player.py#372\" target=\"_blank\"><span style=\"color: #7f7f7f; text-decoration-color: #7f7f7f\">372</span></a>\n",
       "</pre>\n"
      ],
      "text/plain": [
       "\u001b[2;36m                   \u001b[0m\u001b[2;36m \u001b[0m\u001b[33mWARNING \u001b[0m Kathryn Henry couldn't play any spells.                                  \u001b]8;id=420755;file://c:\\Users\\gufer\\OneDrive\\Documentos\\FIAP\\Fase_03\\mtg-project\\classes\\player.py\u001b\\\u001b[2mplayer.py\u001b[0m\u001b]8;;\u001b\\\u001b[2m:\u001b[0m\u001b]8;id=370070;file://c:\\Users\\gufer\\OneDrive\\Documentos\\FIAP\\Fase_03\\mtg-project\\classes\\player.py#372\u001b\\\u001b[2m372\u001b[0m\u001b]8;;\u001b\\\n"
      ]
     },
     "metadata": {},
     "output_type": "display_data"
    },
    {
     "data": {
      "text/html": [
       "<pre style=\"white-space:pre;overflow-x:auto;line-height:normal;font-family:Menlo,'DejaVu Sans Mono',consolas,'Courier New',monospace\"><span style=\"color: #7fbfbf; text-decoration-color: #7fbfbf\">                    </span><span style=\"color: #000080; text-decoration-color: #000080\">INFO    </span> Saving data to <span style=\"color: #ff8700; text-decoration-color: #ff8700\">matches_df</span> <span style=\"font-weight: bold\">(</span>ParquetDataset<span style=\"font-weight: bold\">)</span><span style=\"color: #808000; text-decoration-color: #808000\">...</span>                      <a href=\"file://c:\\Users\\gufer\\miniconda3\\envs\\mtg_env\\Lib\\site-packages\\kedro\\io\\data_catalog.py\" target=\"_blank\"><span style=\"color: #7f7f7f; text-decoration-color: #7f7f7f\">data_catalog.py</span></a><span style=\"color: #7f7f7f; text-decoration-color: #7f7f7f\">:</span><a href=\"file://c:\\Users\\gufer\\miniconda3\\envs\\mtg_env\\Lib\\site-packages\\kedro\\io\\data_catalog.py#581\" target=\"_blank\"><span style=\"color: #7f7f7f; text-decoration-color: #7f7f7f\">581</span></a>\n",
       "</pre>\n"
      ],
      "text/plain": [
       "\u001b[2;36m                   \u001b[0m\u001b[2;36m \u001b[0m\u001b[34mINFO    \u001b[0m Saving data to \u001b[38;5;208mmatches_df\u001b[0m \u001b[1m(\u001b[0mParquetDataset\u001b[1m)\u001b[0m\u001b[33m...\u001b[0m                      \u001b]8;id=967659;file://c:\\Users\\gufer\\miniconda3\\envs\\mtg_env\\Lib\\site-packages\\kedro\\io\\data_catalog.py\u001b\\\u001b[2mdata_catalog.py\u001b[0m\u001b]8;;\u001b\\\u001b[2m:\u001b[0m\u001b]8;id=331234;file://c:\\Users\\gufer\\miniconda3\\envs\\mtg_env\\Lib\\site-packages\\kedro\\io\\data_catalog.py#581\u001b\\\u001b[2m581\u001b[0m\u001b]8;;\u001b\\\n"
      ]
     },
     "metadata": {},
     "output_type": "display_data"
    }
   ],
   "source": [
    "def simulate_player_matches(params: dict, players_with_decks: list) -> pd.DataFrame:\n",
    "    \"\"\"\n",
    "    Simulates Magic: The Gathering matches for a list of players based on the provided simulation parameters.\n",
    "\n",
    "    Parameters:\n",
    "    -----------\n",
    "    params : dict\n",
    "        A dictionary containing the simulation parameters, including:\n",
    "        - 'max_mulligans': Maximum number of mulligans allowed per player.\n",
    "        - 'mulligan_prob': Probability of a player choosing to mulligan.\n",
    "        - 'hand_size_stop': Minimum hand size at which the simulation will stop.\n",
    "        - 'max_turns': Maximum number of turns per match.\n",
    "        - 'extra_land_prob': Probability of playing an extra land during a turn.\n",
    "        - 'matches_per_player': Number of matches to simulate per player.\n",
    "        - 'log_folder': Folder path for logging the simulation process.\n",
    "    \n",
    "    players_with_decks : list\n",
    "        A list of Player objects, each with an assigned deck to be used in the simulation.\n",
    "\n",
    "    Returns:\n",
    "    --------\n",
    "    pd.DataFrame\n",
    "        A DataFrame containing the match data for all players across all matches and turns, including:\n",
    "        - Player attributes at each turn.\n",
    "        - Match number for each simulation.\n",
    "    \"\"\"\n",
    "    \n",
    "    # Atribuir os parâmetros\n",
    "    max_mulligans = params[\"max_mulligans\"]\n",
    "    mulligan_prob = params[\"mulligan_prob\"]\n",
    "    hand_size_stop = params[\"hand_size_stop\"]\n",
    "    max_turns = params[\"max_turns\"]\n",
    "    extra_land_prob = params[\"extra_land_prob\"]\n",
    "    matches_per_player = params[\"matches_per_player\"]\n",
    "    log_folder = params[\"log_folder\"]\n",
    "\n",
    "    # Caminho do arquivo de log\n",
    "    log_filepath = os.path.join(log_folder, 'player_matches.txt')\n",
    "\n",
    "    # Cria a pasta de log se ela não existir\n",
    "    os.makedirs(log_folder, exist_ok=True)\n",
    "\n",
    "    # Configura o logger geral\n",
    "    logger = setup_logger(\"player_matches\", log_filepath)\n",
    "\n",
    "    # Log de início da validação\n",
    "    logger.info(\"Initiating simulations...\")\n",
    "\n",
    "    # Inicializa o tracker para armazenar os dados\n",
    "    tracker = PlayerTracker()\n",
    "\n",
    "    # Loop através dos jogadores e realizar as simulações de partidas\n",
    "    for player in players_with_decks:\n",
    "        for match in range(matches_per_player):\n",
    "            # Simular várias partidas para o jogador\n",
    "            player.play_a_match(tracker, \n",
    "                                max_mulligans, \n",
    "                                mulligan_prob, \n",
    "                                max_turns, \n",
    "                                hand_size_stop, \n",
    "                                extra_land_prob)\n",
    "\n",
    "    # Obter os dados de todas as partidas e turnos\n",
    "    matches_df = tracker.get_data()\n",
    "    \n",
    "    return matches_df\n",
    "\n",
    "# Chamada da função\n",
    "params = catalog.load(\"params:simulation\")\n",
    "players_with_decks = catalog.load(\"players_with_decks\")\n",
    "selected_features_df = simulate_player_matches(params, players_with_decks)\n",
    "catalog.save(\"matches_df\",selected_features_df)"
   ]
  },
  {
   "cell_type": "code",
   "execution_count": 7,
   "metadata": {},
   "outputs": [
    {
     "data": {
      "text/html": [
       "<pre style=\"white-space:pre;overflow-x:auto;line-height:normal;font-family:Menlo,'DejaVu Sans Mono',consolas,'Courier New',monospace\"><span style=\"color: #7fbfbf; text-decoration-color: #7fbfbf\">                    </span><span style=\"color: #000080; text-decoration-color: #000080\">INFO    </span> Loading data from <span style=\"color: #ff8700; text-decoration-color: #ff8700\">matches_df</span> <span style=\"font-weight: bold\">(</span>ParquetDataset<span style=\"font-weight: bold\">)</span><span style=\"color: #808000; text-decoration-color: #808000\">...</span>                   <a href=\"file://c:\\Users\\gufer\\miniconda3\\envs\\mtg_env\\Lib\\site-packages\\kedro\\io\\data_catalog.py\" target=\"_blank\"><span style=\"color: #7f7f7f; text-decoration-color: #7f7f7f\">data_catalog.py</span></a><span style=\"color: #7f7f7f; text-decoration-color: #7f7f7f\">:</span><a href=\"file://c:\\Users\\gufer\\miniconda3\\envs\\mtg_env\\Lib\\site-packages\\kedro\\io\\data_catalog.py#539\" target=\"_blank\"><span style=\"color: #7f7f7f; text-decoration-color: #7f7f7f\">539</span></a>\n",
       "</pre>\n"
      ],
      "text/plain": [
       "\u001b[2;36m                   \u001b[0m\u001b[2;36m \u001b[0m\u001b[34mINFO    \u001b[0m Loading data from \u001b[38;5;208mmatches_df\u001b[0m \u001b[1m(\u001b[0mParquetDataset\u001b[1m)\u001b[0m\u001b[33m...\u001b[0m                   \u001b]8;id=261877;file://c:\\Users\\gufer\\miniconda3\\envs\\mtg_env\\Lib\\site-packages\\kedro\\io\\data_catalog.py\u001b\\\u001b[2mdata_catalog.py\u001b[0m\u001b]8;;\u001b\\\u001b[2m:\u001b[0m\u001b]8;id=967556;file://c:\\Users\\gufer\\miniconda3\\envs\\mtg_env\\Lib\\site-packages\\kedro\\io\\data_catalog.py#539\u001b\\\u001b[2m539\u001b[0m\u001b]8;;\u001b\\\n"
      ]
     },
     "metadata": {},
     "output_type": "display_data"
    },
    {
     "data": {
      "text/html": [
       "<pre style=\"white-space:pre;overflow-x:auto;line-height:normal;font-family:Menlo,'DejaVu Sans Mono',consolas,'Courier New',monospace\"><span style=\"color: #7fbfbf; text-decoration-color: #7fbfbf\">                    </span><span style=\"color: #000080; text-decoration-color: #000080\">INFO    </span> Saving data to <span style=\"color: #ff8700; text-decoration-color: #ff8700\">features_df</span> <span style=\"font-weight: bold\">(</span>ParquetDataset<span style=\"font-weight: bold\">)</span><span style=\"color: #808000; text-decoration-color: #808000\">...</span>                     <a href=\"file://c:\\Users\\gufer\\miniconda3\\envs\\mtg_env\\Lib\\site-packages\\kedro\\io\\data_catalog.py\" target=\"_blank\"><span style=\"color: #7f7f7f; text-decoration-color: #7f7f7f\">data_catalog.py</span></a><span style=\"color: #7f7f7f; text-decoration-color: #7f7f7f\">:</span><a href=\"file://c:\\Users\\gufer\\miniconda3\\envs\\mtg_env\\Lib\\site-packages\\kedro\\io\\data_catalog.py#581\" target=\"_blank\"><span style=\"color: #7f7f7f; text-decoration-color: #7f7f7f\">581</span></a>\n",
       "</pre>\n"
      ],
      "text/plain": [
       "\u001b[2;36m                   \u001b[0m\u001b[2;36m \u001b[0m\u001b[34mINFO    \u001b[0m Saving data to \u001b[38;5;208mfeatures_df\u001b[0m \u001b[1m(\u001b[0mParquetDataset\u001b[1m)\u001b[0m\u001b[33m...\u001b[0m                     \u001b]8;id=344534;file://c:\\Users\\gufer\\miniconda3\\envs\\mtg_env\\Lib\\site-packages\\kedro\\io\\data_catalog.py\u001b\\\u001b[2mdata_catalog.py\u001b[0m\u001b]8;;\u001b\\\u001b[2m:\u001b[0m\u001b]8;id=329189;file://c:\\Users\\gufer\\miniconda3\\envs\\mtg_env\\Lib\\site-packages\\kedro\\io\\data_catalog.py#581\u001b\\\u001b[2m581\u001b[0m\u001b]8;;\u001b\\\n"
      ]
     },
     "metadata": {},
     "output_type": "display_data"
    }
   ],
   "source": [
    "import pandas as pd\n",
    "\n",
    "def feature_engineering(matches_df: pd.DataFrame) -> pd.DataFrame:\n",
    "    \"\"\"\n",
    "    Realiza engenharia de features nos dados das partidas de Magic: The Gathering, com lag features \n",
    "    e rolling features aplicadas separadamente por jogador e partida, iniciando a contagem a partir\n",
    "    do último turno 0 em caso de mulligan.\n",
    "\n",
    "    Args:\n",
    "        matches_df (pd.DataFrame): DataFrame contendo os dados das partidas.\n",
    "\n",
    "    Retorna:\n",
    "        pd.DataFrame: DataFrame com novas features calculadas.\n",
    "    \"\"\"\n",
    "\n",
    "    # Configura o logger geral\n",
    "    logger = setup_logger(\"feature_engineering\")\n",
    "\n",
    "    logger.info(\"Criando variáveis cumulativas por jogador e partida...\")\n",
    "\n",
    "    # Garantir que 'spent_mana' esteja no formato correto\n",
    "    matches_df[\"spent_mana\"] = matches_df[\"spent_mana\"].astype(int)\n",
    "\n",
    "    # Criação de variáveis cumulativas por 'name' e 'match'\n",
    "    matches_df['cum_mana_pool'] = matches_df.groupby(['name', 'match'])['mana_pool'].cumsum()\n",
    "    matches_df[\"cum_spent_mana\"] = matches_df.groupby(['name', 'match'])[\"spent_mana\"].cumsum()\n",
    "\n",
    "    logger.info(\"Criando variáveis de razão...\")\n",
    "\n",
    "    # Criação de variáveis baseadas em razões: feitiços por turno e terrenos por turno\n",
    "    matches_df['spell_ratio'] = (matches_df['spells_played'] / (matches_df['turn'] + 1)).round(2)\n",
    "    matches_df['land_ratio'] = (matches_df['lands_played'] / (matches_df['turn'] + 1)).round(2)\n",
    "\n",
    "    logger.info(\"Criando variável de eficiência da curva de mana...\")\n",
    "\n",
    "    # Criação da variável de eficiência da curva de mana (razão entre mana gasto e mana acumulado)\n",
    "    matches_df['mana_curve_efficiency'] = matches_df['cum_spent_mana'] / matches_df['cum_mana_pool']\n",
    "\n",
    "    # Tratamento de valores infinitos e valores ausentes\n",
    "    matches_df['mana_curve_efficiency'].replace([float('inf'), -float('inf')], 0, inplace=True)\n",
    "    matches_df['mana_curve_efficiency'].fillna(0, inplace=True)\n",
    "    matches_df['mana_curve_efficiency'] = matches_df['mana_curve_efficiency'].round(2)\n",
    "\n",
    "    logger.info(\"Identificando o último turno 0 por jogador e partida...\")\n",
    "\n",
    "    # Encontrar o último turno 0 em cada partida\n",
    "    matches_df['is_last_turn_0'] = matches_df.groupby(['name', 'match'])['turn'].transform(lambda x: (x == 0).cumsum())\n",
    "\n",
    "    # Criar uma máscara para selecionar apenas os turnos após o último turno 0\n",
    "    valid_turns_mask = matches_df.groupby(['name', 'match'])['is_last_turn_0'].transform(max) == matches_df['is_last_turn_0']\n",
    "\n",
    "    logger.info(\"Criando lag features a partir do último turno 0...\")\n",
    "\n",
    "    # Aplicar as lag features apenas nos turnos válidos (após o último turno 0)\n",
    "    matches_df.loc[valid_turns_mask, 'mana_curve_efficiency_lag_1'] = matches_df.groupby(['name', 'match'])['mana_curve_efficiency'].shift(1)\n",
    "    matches_df.loc[valid_turns_mask, 'mana_curve_efficiency_lag_2'] = matches_df.groupby(['name', 'match'])['mana_curve_efficiency'].shift(2)\n",
    "    matches_df.loc[valid_turns_mask, 'spell_ratio_lag_1'] = matches_df.groupby(['name', 'match'])['spell_ratio'].shift(1)\n",
    "    matches_df.loc[valid_turns_mask, 'land_ratio_lag_1'] = matches_df.groupby(['name', 'match'])['land_ratio'].shift(1)\n",
    "\n",
    "    logger.info(\"Criando rolling features a partir do último turno 0...\")\n",
    "\n",
    "    # Aplicar rolling features a partir do último turno 0\n",
    "    matches_df.loc[valid_turns_mask, 'rolling_mean_mana_curve_efficiency_3'] = matches_df.groupby(['name', 'match'])['mana_curve_efficiency'].rolling(window=3).mean().reset_index(level=[0,1], drop=True)\n",
    "    matches_df.loc[valid_turns_mask, 'rolling_mean_spell_ratio_3'] = matches_df.groupby(['name', 'match'])['spell_ratio'].rolling(window=3).mean().reset_index(level=[0,1], drop=True)\n",
    "    matches_df.loc[valid_turns_mask, 'rolling_mean_land_ratio_3'] = matches_df.groupby(['name', 'match'])['land_ratio'].rolling(window=3).mean().reset_index(level=[0,1], drop=True)\n",
    "\n",
    "    # Tratamento de valores nulos gerados pelos shifts e rolling\n",
    "    matches_df.fillna(0, inplace=True)\n",
    "\n",
    "    # Remover a coluna auxiliar 'is_last_turn_0'\n",
    "    matches_df.drop(columns=['is_last_turn_0'], inplace=True)\n",
    "\n",
    "    logger.info(\"Engenharia de features concluída.\")\n",
    "\n",
    "    return matches_df\n",
    "\n",
    "\n",
    "pd.set_option('display.max_columns', None)\n",
    "    \n",
    "# Chamada da função\n",
    "matches_df = catalog.load(\"matches_df\")\n",
    "features_df = feature_engineering(matches_df)\n",
    "catalog.save(\"features_df\", features_df)"
   ]
  },
  {
   "cell_type": "code",
   "execution_count": 8,
   "metadata": {},
   "outputs": [
    {
     "data": {
      "text/html": [
       "<pre style=\"white-space:pre;overflow-x:auto;line-height:normal;font-family:Menlo,'DejaVu Sans Mono',consolas,'Courier New',monospace\"><span style=\"color: #7fbfbf; text-decoration-color: #7fbfbf\">                    </span><span style=\"color: #000080; text-decoration-color: #000080\">INFO    </span> Loading data from <span style=\"color: #ff8700; text-decoration-color: #ff8700\">features_df</span> <span style=\"font-weight: bold\">(</span>ParquetDataset<span style=\"font-weight: bold\">)</span><span style=\"color: #808000; text-decoration-color: #808000\">...</span>                  <a href=\"file://c:\\Users\\gufer\\miniconda3\\envs\\mtg_env\\Lib\\site-packages\\kedro\\io\\data_catalog.py\" target=\"_blank\"><span style=\"color: #7f7f7f; text-decoration-color: #7f7f7f\">data_catalog.py</span></a><span style=\"color: #7f7f7f; text-decoration-color: #7f7f7f\">:</span><a href=\"file://c:\\Users\\gufer\\miniconda3\\envs\\mtg_env\\Lib\\site-packages\\kedro\\io\\data_catalog.py#539\" target=\"_blank\"><span style=\"color: #7f7f7f; text-decoration-color: #7f7f7f\">539</span></a>\n",
       "</pre>\n"
      ],
      "text/plain": [
       "\u001b[2;36m                   \u001b[0m\u001b[2;36m \u001b[0m\u001b[34mINFO    \u001b[0m Loading data from \u001b[38;5;208mfeatures_df\u001b[0m \u001b[1m(\u001b[0mParquetDataset\u001b[1m)\u001b[0m\u001b[33m...\u001b[0m                  \u001b]8;id=297225;file://c:\\Users\\gufer\\miniconda3\\envs\\mtg_env\\Lib\\site-packages\\kedro\\io\\data_catalog.py\u001b\\\u001b[2mdata_catalog.py\u001b[0m\u001b]8;;\u001b\\\u001b[2m:\u001b[0m\u001b]8;id=192851;file://c:\\Users\\gufer\\miniconda3\\envs\\mtg_env\\Lib\\site-packages\\kedro\\io\\data_catalog.py#539\u001b\\\u001b[2m539\u001b[0m\u001b]8;;\u001b\\\n"
      ]
     },
     "metadata": {},
     "output_type": "display_data"
    },
    {
     "data": {
      "text/html": [
       "<pre style=\"white-space:pre;overflow-x:auto;line-height:normal;font-family:Menlo,'DejaVu Sans Mono',consolas,'Courier New',monospace\"><span style=\"color: #7fbfbf; text-decoration-color: #7fbfbf\">                    </span><span style=\"color: #000080; text-decoration-color: #000080\">INFO    </span> Loading data from                                                  <a href=\"file://c:\\Users\\gufer\\miniconda3\\envs\\mtg_env\\Lib\\site-packages\\kedro\\io\\data_catalog.py\" target=\"_blank\"><span style=\"color: #7f7f7f; text-decoration-color: #7f7f7f\">data_catalog.py</span></a><span style=\"color: #7f7f7f; text-decoration-color: #7f7f7f\">:</span><a href=\"file://c:\\Users\\gufer\\miniconda3\\envs\\mtg_env\\Lib\\site-packages\\kedro\\io\\data_catalog.py#539\" target=\"_blank\"><span style=\"color: #7f7f7f; text-decoration-color: #7f7f7f\">539</span></a>\n",
       "<span style=\"color: #7fbfbf; text-decoration-color: #7fbfbf\">                    </span>         <span style=\"color: #ff8700; text-decoration-color: #ff8700\">params:modeling.feature_engineering.feat_corr_threshold</span>            <span style=\"color: #7f7f7f; text-decoration-color: #7f7f7f\">                   </span>\n",
       "<span style=\"color: #7fbfbf; text-decoration-color: #7fbfbf\">                    </span>         <span style=\"font-weight: bold\">(</span>MemoryDataset<span style=\"font-weight: bold\">)</span><span style=\"color: #808000; text-decoration-color: #808000\">...</span>                                                 <span style=\"color: #7f7f7f; text-decoration-color: #7f7f7f\">                   </span>\n",
       "</pre>\n"
      ],
      "text/plain": [
       "\u001b[2;36m                   \u001b[0m\u001b[2;36m \u001b[0m\u001b[34mINFO    \u001b[0m Loading data from                                                  \u001b]8;id=106271;file://c:\\Users\\gufer\\miniconda3\\envs\\mtg_env\\Lib\\site-packages\\kedro\\io\\data_catalog.py\u001b\\\u001b[2mdata_catalog.py\u001b[0m\u001b]8;;\u001b\\\u001b[2m:\u001b[0m\u001b]8;id=214090;file://c:\\Users\\gufer\\miniconda3\\envs\\mtg_env\\Lib\\site-packages\\kedro\\io\\data_catalog.py#539\u001b\\\u001b[2m539\u001b[0m\u001b]8;;\u001b\\\n",
       "\u001b[2;36m                    \u001b[0m         \u001b[38;5;208mparams:modeling.feature_engineering.feat_corr_threshold\u001b[0m            \u001b[2m                   \u001b[0m\n",
       "\u001b[2;36m                    \u001b[0m         \u001b[1m(\u001b[0mMemoryDataset\u001b[1m)\u001b[0m\u001b[33m...\u001b[0m                                                 \u001b[2m                   \u001b[0m\n"
      ]
     },
     "metadata": {},
     "output_type": "display_data"
    },
    {
     "data": {
      "text/html": [
       "<pre style=\"white-space:pre;overflow-x:auto;line-height:normal;font-family:Menlo,'DejaVu Sans Mono',consolas,'Courier New',monospace\"><span style=\"color: #7fbfbf; text-decoration-color: #7fbfbf\">                    </span><span style=\"color: #000080; text-decoration-color: #000080\">INFO    </span> Saving data to <span style=\"color: #ff8700; text-decoration-color: #ff8700\">selected_features_df</span> <span style=\"font-weight: bold\">(</span>ParquetDataset<span style=\"font-weight: bold\">)</span><span style=\"color: #808000; text-decoration-color: #808000\">...</span>            <a href=\"file://c:\\Users\\gufer\\miniconda3\\envs\\mtg_env\\Lib\\site-packages\\kedro\\io\\data_catalog.py\" target=\"_blank\"><span style=\"color: #7f7f7f; text-decoration-color: #7f7f7f\">data_catalog.py</span></a><span style=\"color: #7f7f7f; text-decoration-color: #7f7f7f\">:</span><a href=\"file://c:\\Users\\gufer\\miniconda3\\envs\\mtg_env\\Lib\\site-packages\\kedro\\io\\data_catalog.py#581\" target=\"_blank\"><span style=\"color: #7f7f7f; text-decoration-color: #7f7f7f\">581</span></a>\n",
       "</pre>\n"
      ],
      "text/plain": [
       "\u001b[2;36m                   \u001b[0m\u001b[2;36m \u001b[0m\u001b[34mINFO    \u001b[0m Saving data to \u001b[38;5;208mselected_features_df\u001b[0m \u001b[1m(\u001b[0mParquetDataset\u001b[1m)\u001b[0m\u001b[33m...\u001b[0m            \u001b]8;id=667790;file://c:\\Users\\gufer\\miniconda3\\envs\\mtg_env\\Lib\\site-packages\\kedro\\io\\data_catalog.py\u001b\\\u001b[2mdata_catalog.py\u001b[0m\u001b]8;;\u001b\\\u001b[2m:\u001b[0m\u001b]8;id=680765;file://c:\\Users\\gufer\\miniconda3\\envs\\mtg_env\\Lib\\site-packages\\kedro\\io\\data_catalog.py#581\u001b\\\u001b[2m581\u001b[0m\u001b]8;;\u001b\\\n"
      ]
     },
     "metadata": {},
     "output_type": "display_data"
    },
    {
     "data": {
      "text/html": [
       "<pre style=\"white-space:pre;overflow-x:auto;line-height:normal;font-family:Menlo,'DejaVu Sans Mono',consolas,'Courier New',monospace\"><span style=\"color: #7fbfbf; text-decoration-color: #7fbfbf\">                    </span><span style=\"color: #000080; text-decoration-color: #000080\">INFO    </span> Saving data to <span style=\"color: #ff8700; text-decoration-color: #ff8700\">selected_features_cols</span> <span style=\"font-weight: bold\">(</span>PickleDataset<span style=\"font-weight: bold\">)</span><span style=\"color: #808000; text-decoration-color: #808000\">...</span>           <a href=\"file://c:\\Users\\gufer\\miniconda3\\envs\\mtg_env\\Lib\\site-packages\\kedro\\io\\data_catalog.py\" target=\"_blank\"><span style=\"color: #7f7f7f; text-decoration-color: #7f7f7f\">data_catalog.py</span></a><span style=\"color: #7f7f7f; text-decoration-color: #7f7f7f\">:</span><a href=\"file://c:\\Users\\gufer\\miniconda3\\envs\\mtg_env\\Lib\\site-packages\\kedro\\io\\data_catalog.py#581\" target=\"_blank\"><span style=\"color: #7f7f7f; text-decoration-color: #7f7f7f\">581</span></a>\n",
       "</pre>\n"
      ],
      "text/plain": [
       "\u001b[2;36m                   \u001b[0m\u001b[2;36m \u001b[0m\u001b[34mINFO    \u001b[0m Saving data to \u001b[38;5;208mselected_features_cols\u001b[0m \u001b[1m(\u001b[0mPickleDataset\u001b[1m)\u001b[0m\u001b[33m...\u001b[0m           \u001b]8;id=564900;file://c:\\Users\\gufer\\miniconda3\\envs\\mtg_env\\Lib\\site-packages\\kedro\\io\\data_catalog.py\u001b\\\u001b[2mdata_catalog.py\u001b[0m\u001b]8;;\u001b\\\u001b[2m:\u001b[0m\u001b]8;id=20279;file://c:\\Users\\gufer\\miniconda3\\envs\\mtg_env\\Lib\\site-packages\\kedro\\io\\data_catalog.py#581\u001b\\\u001b[2m581\u001b[0m\u001b]8;;\u001b\\\n"
      ]
     },
     "metadata": {},
     "output_type": "display_data"
    }
   ],
   "source": [
    "def feature_selection(\n",
    "        features_df: pd.DataFrame,\n",
    "        target: str,\n",
    "        threshold_features: float,\n",
    "        derived_features: list = None,\n",
    "        key_columns: list = None,\n",
    "        cols_to_keep: list= None) -> pd.DataFrame:\n",
    "    \"\"\"\n",
    "    Auxilia na seleção de features, removendo aquelas diretamente derivadas do target, \n",
    "    colunas-chave, e features altamente correlacionadas entre si.\n",
    "\n",
    "    Args:\n",
    "        features_df (pd.DataFrame): DataFrame contendo as features.\n",
    "        target (str): Nome da variável alvo.\n",
    "        threshold_features (float): Limiar para remover features com alta correlação.\n",
    "        derived_features (list, optional): Lista de features derivadas do target para serem removidas.\n",
    "        key_columns (list, optional): Lista de colunas-chave para serem removidas (ex: 'match', 'turn').\n",
    "\n",
    "    Returns:\n",
    "        pd.DataFrame: DataFrame com as features selecionadas.\n",
    "    \"\"\"\n",
    "    # Configura o logger geral\n",
    "    logger = setup_logger(\"feature_selection\")\n",
    "    logger.info(\"Iniciando o processo de seleção de features...\")\n",
    "\n",
    "    # Separar apenas colunas numéricas para o cálculo da correlação\n",
    "    numeric_features_df = features_df.select_dtypes(include=[np.number])\n",
    "\n",
    "    logger.info(f\"Número inicial de features numéricas: {numeric_features_df.shape[1]}\")\n",
    "\n",
    "    # Remover features derivadas do target, se fornecidas\n",
    "    if derived_features:\n",
    "        numeric_features_df = numeric_features_df.drop(columns=derived_features, errors='ignore')\n",
    "        logger.info(f\"Features derivadas do target removidas: {derived_features}\")\n",
    "\n",
    "    # Remover colunas-chave nao categoricas ou string\n",
    "    if key_columns:\n",
    "        numeric_features_df = numeric_features_df.drop(columns=key_columns, errors='ignore')\n",
    "        logger.info(f\"Colunas-chave removidas: {key_columns}\")\n",
    "\n",
    "    # Remover a variável alvo do conjunto de features\n",
    "    features_without_target = numeric_features_df.drop(columns=[target], errors='ignore')\n",
    "\n",
    "    # Calcular a matriz de correlação entre as features (excluindo o target)\n",
    "    corr_matrix = features_without_target.corr().abs()\n",
    "\n",
    "    # Criar uma máscara para identificar as correlações acima do limiar entre as features, excluindo a diagonal\n",
    "    upper = corr_matrix.where(np.triu(np.ones(corr_matrix.shape), k=1).astype(bool))\n",
    "\n",
    "    # Identificar colunas com alta correlação entre si, usando o limiar definido\n",
    "    to_drop_features = [column for column in upper.columns if any(upper[column] > threshold_features)]\n",
    "\n",
    "    # Manter compulsoriamente algumas colunas\n",
    "    if cols_to_keep:\n",
    "        to_drop_features = [col for col in to_drop_features if col not in cols_to_keep]\n",
    "\n",
    "    # Remover as colunas altamente correlacionadas entre si\n",
    "    features_cleaned = features_without_target.drop(columns=to_drop_features)\n",
    "\n",
    "    logger.info(f\"Número de features após a remoção de correlação maior que {threshold_features}: {features_cleaned.shape[1]}\")    \n",
    "\n",
    "    # Selecionar as colunas finais de features\n",
    "    selected_features_cols = features_cleaned.columns.tolist()\n",
    "\n",
    "    # Reconstruir o DataFrame final, reinserindo key_columns e target\n",
    "    features_cleaned = pd.concat([features_cleaned, features_df[key_columns], features_df[[target]]], axis=1)\n",
    "\n",
    "    logger.info(\"Processo de seleção de features concluído.\")\n",
    "\n",
    "    return features_cleaned, selected_features_cols\n",
    "\n",
    "\n",
    "derived_features = [\n",
    "    \"cum_spent_mana\", \n",
    "    \"cum_mana_pool\", \n",
    "    \"spent_mana\", \n",
    "    \"mana_pool\"\n",
    "]\n",
    "\n",
    "key_cols = [\n",
    "    \"name\",\n",
    "    \"deck_name\",\n",
    "    \"match\",\n",
    "    \"turn\"\n",
    "]\n",
    "\n",
    "selected_features_df = catalog.load(\"features_df\")\n",
    "threshold_features = catalog.load(\"params:modeling.feature_engineering.feat_corr_threshold\")\n",
    "\n",
    "selected_features_df, selected_features_cols = feature_selection(\n",
    "    features_df=selected_features_df,         \n",
    "    target=\"mana_curve_efficiency\", \n",
    "    threshold_features=threshold_features,        \n",
    "    derived_features=derived_features, \n",
    "    key_columns=key_cols,\n",
    "    cols_to_keep=[\"W\",\"U\",\"B\",\"R\",\"G\"]     \n",
    ")\n",
    "\n",
    "# Salvando o DataFrame de features selecionadas\n",
    "catalog.save(\"selected_features_df\", selected_features_df)\n",
    "catalog.save(\"selected_features_cols\", selected_features_cols)"
   ]
  },
  {
   "cell_type": "code",
   "execution_count": 9,
   "metadata": {},
   "outputs": [
    {
     "data": {
      "text/html": [
       "<pre style=\"white-space:pre;overflow-x:auto;line-height:normal;font-family:Menlo,'DejaVu Sans Mono',consolas,'Courier New',monospace\"><span style=\"color: #7fbfbf; text-decoration-color: #7fbfbf\">                    </span><span style=\"color: #000080; text-decoration-color: #000080\">INFO    </span> Loading data from <span style=\"color: #ff8700; text-decoration-color: #ff8700\">selected_features_df</span> <span style=\"font-weight: bold\">(</span>ParquetDataset<span style=\"font-weight: bold\">)</span><span style=\"color: #808000; text-decoration-color: #808000\">...</span>         <a href=\"file://c:\\Users\\gufer\\miniconda3\\envs\\mtg_env\\Lib\\site-packages\\kedro\\io\\data_catalog.py\" target=\"_blank\"><span style=\"color: #7f7f7f; text-decoration-color: #7f7f7f\">data_catalog.py</span></a><span style=\"color: #7f7f7f; text-decoration-color: #7f7f7f\">:</span><a href=\"file://c:\\Users\\gufer\\miniconda3\\envs\\mtg_env\\Lib\\site-packages\\kedro\\io\\data_catalog.py#539\" target=\"_blank\"><span style=\"color: #7f7f7f; text-decoration-color: #7f7f7f\">539</span></a>\n",
       "</pre>\n"
      ],
      "text/plain": [
       "\u001b[2;36m                   \u001b[0m\u001b[2;36m \u001b[0m\u001b[34mINFO    \u001b[0m Loading data from \u001b[38;5;208mselected_features_df\u001b[0m \u001b[1m(\u001b[0mParquetDataset\u001b[1m)\u001b[0m\u001b[33m...\u001b[0m         \u001b]8;id=442286;file://c:\\Users\\gufer\\miniconda3\\envs\\mtg_env\\Lib\\site-packages\\kedro\\io\\data_catalog.py\u001b\\\u001b[2mdata_catalog.py\u001b[0m\u001b]8;;\u001b\\\u001b[2m:\u001b[0m\u001b]8;id=777220;file://c:\\Users\\gufer\\miniconda3\\envs\\mtg_env\\Lib\\site-packages\\kedro\\io\\data_catalog.py#539\u001b\\\u001b[2m539\u001b[0m\u001b]8;;\u001b\\\n"
      ]
     },
     "metadata": {},
     "output_type": "display_data"
    },
    {
     "data": {
      "text/html": [
       "<pre style=\"white-space:pre;overflow-x:auto;line-height:normal;font-family:Menlo,'DejaVu Sans Mono',consolas,'Courier New',monospace\"><span style=\"color: #7fbfbf; text-decoration-color: #7fbfbf\">                    </span><span style=\"color: #000080; text-decoration-color: #000080\">INFO    </span> Loading data from <span style=\"color: #ff8700; text-decoration-color: #ff8700\">params:modeling.feature_selection.n_test_players</span> <a href=\"file://c:\\Users\\gufer\\miniconda3\\envs\\mtg_env\\Lib\\site-packages\\kedro\\io\\data_catalog.py\" target=\"_blank\"><span style=\"color: #7f7f7f; text-decoration-color: #7f7f7f\">data_catalog.py</span></a><span style=\"color: #7f7f7f; text-decoration-color: #7f7f7f\">:</span><a href=\"file://c:\\Users\\gufer\\miniconda3\\envs\\mtg_env\\Lib\\site-packages\\kedro\\io\\data_catalog.py#539\" target=\"_blank\"><span style=\"color: #7f7f7f; text-decoration-color: #7f7f7f\">539</span></a>\n",
       "<span style=\"color: #7fbfbf; text-decoration-color: #7fbfbf\">                    </span>         <span style=\"font-weight: bold\">(</span>MemoryDataset<span style=\"font-weight: bold\">)</span><span style=\"color: #808000; text-decoration-color: #808000\">...</span>                                                 <span style=\"color: #7f7f7f; text-decoration-color: #7f7f7f\">                   </span>\n",
       "</pre>\n"
      ],
      "text/plain": [
       "\u001b[2;36m                   \u001b[0m\u001b[2;36m \u001b[0m\u001b[34mINFO    \u001b[0m Loading data from \u001b[38;5;208mparams:modeling.feature_selection.n_test_players\u001b[0m \u001b]8;id=26410;file://c:\\Users\\gufer\\miniconda3\\envs\\mtg_env\\Lib\\site-packages\\kedro\\io\\data_catalog.py\u001b\\\u001b[2mdata_catalog.py\u001b[0m\u001b]8;;\u001b\\\u001b[2m:\u001b[0m\u001b]8;id=275667;file://c:\\Users\\gufer\\miniconda3\\envs\\mtg_env\\Lib\\site-packages\\kedro\\io\\data_catalog.py#539\u001b\\\u001b[2m539\u001b[0m\u001b]8;;\u001b\\\n",
       "\u001b[2;36m                    \u001b[0m         \u001b[1m(\u001b[0mMemoryDataset\u001b[1m)\u001b[0m\u001b[33m...\u001b[0m                                                 \u001b[2m                   \u001b[0m\n"
      ]
     },
     "metadata": {},
     "output_type": "display_data"
    },
    {
     "data": {
      "text/html": [
       "<pre style=\"white-space:pre;overflow-x:auto;line-height:normal;font-family:Menlo,'DejaVu Sans Mono',consolas,'Courier New',monospace\"><span style=\"color: #7fbfbf; text-decoration-color: #7fbfbf\">                    </span><span style=\"color: #000080; text-decoration-color: #000080\">INFO    </span> Loading data from <span style=\"color: #ff8700; text-decoration-color: #ff8700\">params:modeling.feature_selection.turn_threshold</span> <a href=\"file://c:\\Users\\gufer\\miniconda3\\envs\\mtg_env\\Lib\\site-packages\\kedro\\io\\data_catalog.py\" target=\"_blank\"><span style=\"color: #7f7f7f; text-decoration-color: #7f7f7f\">data_catalog.py</span></a><span style=\"color: #7f7f7f; text-decoration-color: #7f7f7f\">:</span><a href=\"file://c:\\Users\\gufer\\miniconda3\\envs\\mtg_env\\Lib\\site-packages\\kedro\\io\\data_catalog.py#539\" target=\"_blank\"><span style=\"color: #7f7f7f; text-decoration-color: #7f7f7f\">539</span></a>\n",
       "<span style=\"color: #7fbfbf; text-decoration-color: #7fbfbf\">                    </span>         <span style=\"font-weight: bold\">(</span>MemoryDataset<span style=\"font-weight: bold\">)</span><span style=\"color: #808000; text-decoration-color: #808000\">...</span>                                                 <span style=\"color: #7f7f7f; text-decoration-color: #7f7f7f\">                   </span>\n",
       "</pre>\n"
      ],
      "text/plain": [
       "\u001b[2;36m                   \u001b[0m\u001b[2;36m \u001b[0m\u001b[34mINFO    \u001b[0m Loading data from \u001b[38;5;208mparams:modeling.feature_selection.turn_threshold\u001b[0m \u001b]8;id=293826;file://c:\\Users\\gufer\\miniconda3\\envs\\mtg_env\\Lib\\site-packages\\kedro\\io\\data_catalog.py\u001b\\\u001b[2mdata_catalog.py\u001b[0m\u001b]8;;\u001b\\\u001b[2m:\u001b[0m\u001b]8;id=778736;file://c:\\Users\\gufer\\miniconda3\\envs\\mtg_env\\Lib\\site-packages\\kedro\\io\\data_catalog.py#539\u001b\\\u001b[2m539\u001b[0m\u001b]8;;\u001b\\\n",
       "\u001b[2;36m                    \u001b[0m         \u001b[1m(\u001b[0mMemoryDataset\u001b[1m)\u001b[0m\u001b[33m...\u001b[0m                                                 \u001b[2m                   \u001b[0m\n"
      ]
     },
     "metadata": {},
     "output_type": "display_data"
    },
    {
     "data": {
      "text/html": [
       "<pre style=\"white-space:pre;overflow-x:auto;line-height:normal;font-family:Menlo,'DejaVu Sans Mono',consolas,'Courier New',monospace\"><span style=\"color: #7fbfbf; text-decoration-color: #7fbfbf\">                    </span><span style=\"color: #000080; text-decoration-color: #000080\">INFO    </span> Loading data from                                                  <a href=\"file://c:\\Users\\gufer\\miniconda3\\envs\\mtg_env\\Lib\\site-packages\\kedro\\io\\data_catalog.py\" target=\"_blank\"><span style=\"color: #7f7f7f; text-decoration-color: #7f7f7f\">data_catalog.py</span></a><span style=\"color: #7f7f7f; text-decoration-color: #7f7f7f\">:</span><a href=\"file://c:\\Users\\gufer\\miniconda3\\envs\\mtg_env\\Lib\\site-packages\\kedro\\io\\data_catalog.py#539\" target=\"_blank\"><span style=\"color: #7f7f7f; text-decoration-color: #7f7f7f\">539</span></a>\n",
       "<span style=\"color: #7fbfbf; text-decoration-color: #7fbfbf\">                    </span>         <span style=\"color: #ff8700; text-decoration-color: #ff8700\">params:modeling.feature_selection.hide_advanced_turns</span>              <span style=\"color: #7f7f7f; text-decoration-color: #7f7f7f\">                   </span>\n",
       "<span style=\"color: #7fbfbf; text-decoration-color: #7fbfbf\">                    </span>         <span style=\"font-weight: bold\">(</span>MemoryDataset<span style=\"font-weight: bold\">)</span><span style=\"color: #808000; text-decoration-color: #808000\">...</span>                                                 <span style=\"color: #7f7f7f; text-decoration-color: #7f7f7f\">                   </span>\n",
       "</pre>\n"
      ],
      "text/plain": [
       "\u001b[2;36m                   \u001b[0m\u001b[2;36m \u001b[0m\u001b[34mINFO    \u001b[0m Loading data from                                                  \u001b]8;id=8700;file://c:\\Users\\gufer\\miniconda3\\envs\\mtg_env\\Lib\\site-packages\\kedro\\io\\data_catalog.py\u001b\\\u001b[2mdata_catalog.py\u001b[0m\u001b]8;;\u001b\\\u001b[2m:\u001b[0m\u001b]8;id=688309;file://c:\\Users\\gufer\\miniconda3\\envs\\mtg_env\\Lib\\site-packages\\kedro\\io\\data_catalog.py#539\u001b\\\u001b[2m539\u001b[0m\u001b]8;;\u001b\\\n",
       "\u001b[2;36m                    \u001b[0m         \u001b[38;5;208mparams:modeling.feature_selection.hide_advanced_turns\u001b[0m              \u001b[2m                   \u001b[0m\n",
       "\u001b[2;36m                    \u001b[0m         \u001b[1m(\u001b[0mMemoryDataset\u001b[1m)\u001b[0m\u001b[33m...\u001b[0m                                                 \u001b[2m                   \u001b[0m\n"
      ]
     },
     "metadata": {},
     "output_type": "display_data"
    },
    {
     "data": {
      "text/html": [
       "<pre style=\"white-space:pre;overflow-x:auto;line-height:normal;font-family:Menlo,'DejaVu Sans Mono',consolas,'Courier New',monospace\"><span style=\"color: #7fbfbf; text-decoration-color: #7fbfbf\">                    </span><span style=\"color: #000080; text-decoration-color: #000080\">INFO    </span> Loading data from <span style=\"color: #ff8700; text-decoration-color: #ff8700\">params:modeling.feature_selection.hide_players</span>   <a href=\"file://c:\\Users\\gufer\\miniconda3\\envs\\mtg_env\\Lib\\site-packages\\kedro\\io\\data_catalog.py\" target=\"_blank\"><span style=\"color: #7f7f7f; text-decoration-color: #7f7f7f\">data_catalog.py</span></a><span style=\"color: #7f7f7f; text-decoration-color: #7f7f7f\">:</span><a href=\"file://c:\\Users\\gufer\\miniconda3\\envs\\mtg_env\\Lib\\site-packages\\kedro\\io\\data_catalog.py#539\" target=\"_blank\"><span style=\"color: #7f7f7f; text-decoration-color: #7f7f7f\">539</span></a>\n",
       "<span style=\"color: #7fbfbf; text-decoration-color: #7fbfbf\">                    </span>         <span style=\"font-weight: bold\">(</span>MemoryDataset<span style=\"font-weight: bold\">)</span><span style=\"color: #808000; text-decoration-color: #808000\">...</span>                                                 <span style=\"color: #7f7f7f; text-decoration-color: #7f7f7f\">                   </span>\n",
       "</pre>\n"
      ],
      "text/plain": [
       "\u001b[2;36m                   \u001b[0m\u001b[2;36m \u001b[0m\u001b[34mINFO    \u001b[0m Loading data from \u001b[38;5;208mparams:modeling.feature_selection.hide_players\u001b[0m   \u001b]8;id=19725;file://c:\\Users\\gufer\\miniconda3\\envs\\mtg_env\\Lib\\site-packages\\kedro\\io\\data_catalog.py\u001b\\\u001b[2mdata_catalog.py\u001b[0m\u001b]8;;\u001b\\\u001b[2m:\u001b[0m\u001b]8;id=430177;file://c:\\Users\\gufer\\miniconda3\\envs\\mtg_env\\Lib\\site-packages\\kedro\\io\\data_catalog.py#539\u001b\\\u001b[2m539\u001b[0m\u001b]8;;\u001b\\\n",
       "\u001b[2;36m                    \u001b[0m         \u001b[1m(\u001b[0mMemoryDataset\u001b[1m)\u001b[0m\u001b[33m...\u001b[0m                                                 \u001b[2m                   \u001b[0m\n"
      ]
     },
     "metadata": {},
     "output_type": "display_data"
    },
    {
     "data": {
      "text/html": [
       "<pre style=\"white-space:pre;overflow-x:auto;line-height:normal;font-family:Menlo,'DejaVu Sans Mono',consolas,'Courier New',monospace\"><span style=\"color: #7fbfbf; text-decoration-color: #7fbfbf\">                    </span><span style=\"color: #000080; text-decoration-color: #000080\">INFO    </span> Loading data from <span style=\"color: #ff8700; text-decoration-color: #ff8700\">selected_features_cols</span> <span style=\"font-weight: bold\">(</span>PickleDataset<span style=\"font-weight: bold\">)</span><span style=\"color: #808000; text-decoration-color: #808000\">...</span>        <a href=\"file://c:\\Users\\gufer\\miniconda3\\envs\\mtg_env\\Lib\\site-packages\\kedro\\io\\data_catalog.py\" target=\"_blank\"><span style=\"color: #7f7f7f; text-decoration-color: #7f7f7f\">data_catalog.py</span></a><span style=\"color: #7f7f7f; text-decoration-color: #7f7f7f\">:</span><a href=\"file://c:\\Users\\gufer\\miniconda3\\envs\\mtg_env\\Lib\\site-packages\\kedro\\io\\data_catalog.py#539\" target=\"_blank\"><span style=\"color: #7f7f7f; text-decoration-color: #7f7f7f\">539</span></a>\n",
       "</pre>\n"
      ],
      "text/plain": [
       "\u001b[2;36m                   \u001b[0m\u001b[2;36m \u001b[0m\u001b[34mINFO    \u001b[0m Loading data from \u001b[38;5;208mselected_features_cols\u001b[0m \u001b[1m(\u001b[0mPickleDataset\u001b[1m)\u001b[0m\u001b[33m...\u001b[0m        \u001b]8;id=289724;file://c:\\Users\\gufer\\miniconda3\\envs\\mtg_env\\Lib\\site-packages\\kedro\\io\\data_catalog.py\u001b\\\u001b[2mdata_catalog.py\u001b[0m\u001b]8;;\u001b\\\u001b[2m:\u001b[0m\u001b]8;id=881172;file://c:\\Users\\gufer\\miniconda3\\envs\\mtg_env\\Lib\\site-packages\\kedro\\io\\data_catalog.py#539\u001b\\\u001b[2m539\u001b[0m\u001b]8;;\u001b\\\n"
      ]
     },
     "metadata": {},
     "output_type": "display_data"
    },
    {
     "data": {
      "text/html": [
       "<pre style=\"white-space:pre;overflow-x:auto;line-height:normal;font-family:Menlo,'DejaVu Sans Mono',consolas,'Courier New',monospace\"><span style=\"color: #7fbfbf; text-decoration-color: #7fbfbf\">                    </span><span style=\"color: #000080; text-decoration-color: #000080\">INFO    </span> Saving data to <span style=\"color: #ff8700; text-decoration-color: #ff8700\">train_features</span> <span style=\"font-weight: bold\">(</span>ParquetDataset<span style=\"font-weight: bold\">)</span><span style=\"color: #808000; text-decoration-color: #808000\">...</span>                  <a href=\"file://c:\\Users\\gufer\\miniconda3\\envs\\mtg_env\\Lib\\site-packages\\kedro\\io\\data_catalog.py\" target=\"_blank\"><span style=\"color: #7f7f7f; text-decoration-color: #7f7f7f\">data_catalog.py</span></a><span style=\"color: #7f7f7f; text-decoration-color: #7f7f7f\">:</span><a href=\"file://c:\\Users\\gufer\\miniconda3\\envs\\mtg_env\\Lib\\site-packages\\kedro\\io\\data_catalog.py#581\" target=\"_blank\"><span style=\"color: #7f7f7f; text-decoration-color: #7f7f7f\">581</span></a>\n",
       "</pre>\n"
      ],
      "text/plain": [
       "\u001b[2;36m                   \u001b[0m\u001b[2;36m \u001b[0m\u001b[34mINFO    \u001b[0m Saving data to \u001b[38;5;208mtrain_features\u001b[0m \u001b[1m(\u001b[0mParquetDataset\u001b[1m)\u001b[0m\u001b[33m...\u001b[0m                  \u001b]8;id=178243;file://c:\\Users\\gufer\\miniconda3\\envs\\mtg_env\\Lib\\site-packages\\kedro\\io\\data_catalog.py\u001b\\\u001b[2mdata_catalog.py\u001b[0m\u001b]8;;\u001b\\\u001b[2m:\u001b[0m\u001b]8;id=29899;file://c:\\Users\\gufer\\miniconda3\\envs\\mtg_env\\Lib\\site-packages\\kedro\\io\\data_catalog.py#581\u001b\\\u001b[2m581\u001b[0m\u001b]8;;\u001b\\\n"
      ]
     },
     "metadata": {},
     "output_type": "display_data"
    },
    {
     "data": {
      "text/html": [
       "<pre style=\"white-space:pre;overflow-x:auto;line-height:normal;font-family:Menlo,'DejaVu Sans Mono',consolas,'Courier New',monospace\"><span style=\"color: #7fbfbf; text-decoration-color: #7fbfbf\">                    </span><span style=\"color: #000080; text-decoration-color: #000080\">INFO    </span> Saving data to <span style=\"color: #ff8700; text-decoration-color: #ff8700\">test_features</span> <span style=\"font-weight: bold\">(</span>ParquetDataset<span style=\"font-weight: bold\">)</span><span style=\"color: #808000; text-decoration-color: #808000\">...</span>                   <a href=\"file://c:\\Users\\gufer\\miniconda3\\envs\\mtg_env\\Lib\\site-packages\\kedro\\io\\data_catalog.py\" target=\"_blank\"><span style=\"color: #7f7f7f; text-decoration-color: #7f7f7f\">data_catalog.py</span></a><span style=\"color: #7f7f7f; text-decoration-color: #7f7f7f\">:</span><a href=\"file://c:\\Users\\gufer\\miniconda3\\envs\\mtg_env\\Lib\\site-packages\\kedro\\io\\data_catalog.py#581\" target=\"_blank\"><span style=\"color: #7f7f7f; text-decoration-color: #7f7f7f\">581</span></a>\n",
       "</pre>\n"
      ],
      "text/plain": [
       "\u001b[2;36m                   \u001b[0m\u001b[2;36m \u001b[0m\u001b[34mINFO    \u001b[0m Saving data to \u001b[38;5;208mtest_features\u001b[0m \u001b[1m(\u001b[0mParquetDataset\u001b[1m)\u001b[0m\u001b[33m...\u001b[0m                   \u001b]8;id=552414;file://c:\\Users\\gufer\\miniconda3\\envs\\mtg_env\\Lib\\site-packages\\kedro\\io\\data_catalog.py\u001b\\\u001b[2mdata_catalog.py\u001b[0m\u001b]8;;\u001b\\\u001b[2m:\u001b[0m\u001b]8;id=117240;file://c:\\Users\\gufer\\miniconda3\\envs\\mtg_env\\Lib\\site-packages\\kedro\\io\\data_catalog.py#581\u001b\\\u001b[2m581\u001b[0m\u001b]8;;\u001b\\\n"
      ]
     },
     "metadata": {},
     "output_type": "display_data"
    },
    {
     "data": {
      "text/html": [
       "<pre style=\"white-space:pre;overflow-x:auto;line-height:normal;font-family:Menlo,'DejaVu Sans Mono',consolas,'Courier New',monospace\"><span style=\"color: #7fbfbf; text-decoration-color: #7fbfbf\">                    </span><span style=\"color: #000080; text-decoration-color: #000080\">INFO    </span> Saving data to <span style=\"color: #ff8700; text-decoration-color: #ff8700\">train_target</span> <span style=\"font-weight: bold\">(</span>ParquetDataset<span style=\"font-weight: bold\">)</span><span style=\"color: #808000; text-decoration-color: #808000\">...</span>                    <a href=\"file://c:\\Users\\gufer\\miniconda3\\envs\\mtg_env\\Lib\\site-packages\\kedro\\io\\data_catalog.py\" target=\"_blank\"><span style=\"color: #7f7f7f; text-decoration-color: #7f7f7f\">data_catalog.py</span></a><span style=\"color: #7f7f7f; text-decoration-color: #7f7f7f\">:</span><a href=\"file://c:\\Users\\gufer\\miniconda3\\envs\\mtg_env\\Lib\\site-packages\\kedro\\io\\data_catalog.py#581\" target=\"_blank\"><span style=\"color: #7f7f7f; text-decoration-color: #7f7f7f\">581</span></a>\n",
       "</pre>\n"
      ],
      "text/plain": [
       "\u001b[2;36m                   \u001b[0m\u001b[2;36m \u001b[0m\u001b[34mINFO    \u001b[0m Saving data to \u001b[38;5;208mtrain_target\u001b[0m \u001b[1m(\u001b[0mParquetDataset\u001b[1m)\u001b[0m\u001b[33m...\u001b[0m                    \u001b]8;id=527574;file://c:\\Users\\gufer\\miniconda3\\envs\\mtg_env\\Lib\\site-packages\\kedro\\io\\data_catalog.py\u001b\\\u001b[2mdata_catalog.py\u001b[0m\u001b]8;;\u001b\\\u001b[2m:\u001b[0m\u001b]8;id=954086;file://c:\\Users\\gufer\\miniconda3\\envs\\mtg_env\\Lib\\site-packages\\kedro\\io\\data_catalog.py#581\u001b\\\u001b[2m581\u001b[0m\u001b]8;;\u001b\\\n"
      ]
     },
     "metadata": {},
     "output_type": "display_data"
    },
    {
     "data": {
      "text/html": [
       "<pre style=\"white-space:pre;overflow-x:auto;line-height:normal;font-family:Menlo,'DejaVu Sans Mono',consolas,'Courier New',monospace\"><span style=\"color: #7fbfbf; text-decoration-color: #7fbfbf\">                    </span><span style=\"color: #000080; text-decoration-color: #000080\">INFO    </span> Saving data to <span style=\"color: #ff8700; text-decoration-color: #ff8700\">test_target</span> <span style=\"font-weight: bold\">(</span>ParquetDataset<span style=\"font-weight: bold\">)</span><span style=\"color: #808000; text-decoration-color: #808000\">...</span>                     <a href=\"file://c:\\Users\\gufer\\miniconda3\\envs\\mtg_env\\Lib\\site-packages\\kedro\\io\\data_catalog.py\" target=\"_blank\"><span style=\"color: #7f7f7f; text-decoration-color: #7f7f7f\">data_catalog.py</span></a><span style=\"color: #7f7f7f; text-decoration-color: #7f7f7f\">:</span><a href=\"file://c:\\Users\\gufer\\miniconda3\\envs\\mtg_env\\Lib\\site-packages\\kedro\\io\\data_catalog.py#581\" target=\"_blank\"><span style=\"color: #7f7f7f; text-decoration-color: #7f7f7f\">581</span></a>\n",
       "</pre>\n"
      ],
      "text/plain": [
       "\u001b[2;36m                   \u001b[0m\u001b[2;36m \u001b[0m\u001b[34mINFO    \u001b[0m Saving data to \u001b[38;5;208mtest_target\u001b[0m \u001b[1m(\u001b[0mParquetDataset\u001b[1m)\u001b[0m\u001b[33m...\u001b[0m                     \u001b]8;id=345111;file://c:\\Users\\gufer\\miniconda3\\envs\\mtg_env\\Lib\\site-packages\\kedro\\io\\data_catalog.py\u001b\\\u001b[2mdata_catalog.py\u001b[0m\u001b]8;;\u001b\\\u001b[2m:\u001b[0m\u001b]8;id=499979;file://c:\\Users\\gufer\\miniconda3\\envs\\mtg_env\\Lib\\site-packages\\kedro\\io\\data_catalog.py#581\u001b\\\u001b[2m581\u001b[0m\u001b]8;;\u001b\\\n"
      ]
     },
     "metadata": {},
     "output_type": "display_data"
    }
   ],
   "source": [
    "import random\n",
    "import pandas as pd\n",
    "from typing import List\n",
    "\n",
    "def train_test_split(\n",
    "        selected_features_df: pd.DataFrame,\n",
    "        target_column: str,\n",
    "        final_features_list: List[str] = selected_features_cols, \n",
    "        hide_players: bool = False, \n",
    "        n_test_players: int = None, \n",
    "        hide_advanced_turns: bool = False,\n",
    "        turn_threshold: int = None,) -> None:\n",
    "    \"\"\"\n",
    "    Segrega as partidas em treino e teste, permitindo que o modelo nunca veja um determinado grupo de jogadores ou\n",
    "    escondendo os turnos mais avançados de cada jogador durante o treino.\n",
    "\n",
    "    Filtra o DataFrame pelas features selecionadas e produz os DataFrames de treino e teste para features e targets.\n",
    "\n",
    "    Args:\n",
    "        features_df (pd.DataFrame): O DataFrame contendo as features selecionadas do DF das partidas.\n",
    "        final_features_list (List[str]): Lista das features selecionadas para o modelo.\n",
    "        target_column (str): Nome da coluna target.\n",
    "        n_test_players (int, opcional): Número de jogadores a serem amostrados aleatoriamente para o conjunto de teste.\n",
    "        hide_advanced_turns (bool, opcional): Se True, usa a estratégia de esconder os turnos mais avançados no conjunto de teste.\n",
    "        turn_threshold (int, opcional): Limite de turnos para segregar treino e teste. Os turnos maiores que esse valor serão usados como teste.\n",
    "        hide_players (bool, opcional): Se True, usa a estratégia de esconder jogadores do conjunto de teste.\n",
    "\n",
    "    Retorna:\n",
    "        Tuple: DataFrames de treino e teste para features e targets.\n",
    "    \"\"\"\n",
    "    # Configura o logger geral\n",
    "    logger = setup_logger(\"train_test_split\")\n",
    "    \n",
    "    if hide_advanced_turns and turn_threshold is None:\n",
    "        raise ValueError(\"Se `hide_advanced_turns` for True, `turn_threshold` deve ser fornecido.\")\n",
    "    \n",
    "    if hide_players and n_test_players is None:\n",
    "        raise ValueError(\"Se `hide_players` for True, `n_test_players` deve ser fornecido.\")\n",
    "    \n",
    "    if hide_advanced_turns and hide_players:\n",
    "        raise ValueError(\"Apenas uma estratégia pode ser usada de cada vez: `hide_advanced_turns` ou `hide_players`.\")\n",
    "    \n",
    "    if hide_advanced_turns:\n",
    "        # Estratégia de esconder turnos mais avançados\n",
    "        logger.info(f\"Usando a estratégia de esconder turnos mais avançados (turnos > {turn_threshold}).\")\n",
    "        \n",
    "        # Dividir os dados entre treino e teste com base no turn_threshold\n",
    "        train_df = selected_features_df[selected_features_df['turn'] <= turn_threshold]\n",
    "        test_df = selected_features_df[selected_features_df['turn'] > turn_threshold]\n",
    "    \n",
    "    elif hide_players:\n",
    "        # Estratégia de esconder jogadores\n",
    "        logger.info(f\"Usando a estratégia de esconder {n_test_players} jogadores.\")\n",
    "        \n",
    "        # Verifica se a quantidade de jogadores para o teste é válida\n",
    "        unique_players = selected_features_df['name'].unique()\n",
    "        if n_test_players > len(unique_players):\n",
    "            raise ValueError(f\"O número de jogadores de teste ({n_test_players}) excede o número de jogadores únicos ({len(unique_players)}).\")\n",
    "        \n",
    "        # Amostrando jogadores aleatoriamente\n",
    "        test_players = random.sample(list(unique_players), n_test_players)\n",
    "        logger.info(f\"Jogadores selecionados para o conjunto de teste: {test_players}\")\n",
    "        \n",
    "        # Segregar os dados entre treino e teste com base nos jogadores amostrados\n",
    "        test_df = selected_features_df[selected_features_df['name'].isin(test_players)]\n",
    "        train_df = selected_features_df[~selected_features_df['name'].isin(test_players)]\n",
    "    \n",
    "    else:\n",
    "        raise ValueError(\"Nenhuma estratégia foi selecionada. Use `hide_advanced_turns` ou `hide_players`.\")\n",
    "    \n",
    "    # Filtrando apenas as features selecionadas\n",
    "    train_features = train_df[final_features_list]\n",
    "    test_features = test_df[final_features_list]\n",
    "\n",
    "    # Extraindo os targets\n",
    "    train_target = train_df[[target_column]]\n",
    "    test_target = test_df[[target_column]]\n",
    "\n",
    "    return train_features, test_features, train_target, test_target\n",
    "\n",
    "selected_features_df = catalog.load(\"selected_features_df\")\n",
    "n_test_players = catalog.load(\"params:modeling.feature_selection.n_test_players\")\n",
    "turn_threshold = catalog.load(\"params:modeling.feature_selection.turn_threshold\")\n",
    "hide_advanced_turns = catalog.load(\"params:modeling.feature_selection.hide_advanced_turns\")\n",
    "hide_players = catalog.load(\"params:modeling.feature_selection.hide_players\")\n",
    "selected_features_cols = catalog.load(\"selected_features_cols\")\n",
    "\n",
    "(train_features, test_features, train_target, test_target) = train_test_split(\n",
    "    selected_features_df=selected_features_df,\n",
    "    target_column=\"mana_curve_efficiency\",\n",
    "    hide_advanced_turns=hide_advanced_turns,\n",
    "    turn_threshold=turn_threshold,\n",
    "    hide_players=hide_players,\n",
    "    n_test_players=n_test_players\n",
    ")\n",
    "\n",
    "# Salvando as features e targets no catálogo\n",
    "catalog.save(\"train_features\", train_features)\n",
    "catalog.save(\"test_features\", test_features)\n",
    "catalog.save(\"train_target\", train_target)\n",
    "catalog.save(\"test_target\", test_target)"
   ]
  },
  {
   "cell_type": "code",
   "execution_count": 10,
   "metadata": {},
   "outputs": [
    {
     "data": {
      "text/html": [
       "<pre style=\"white-space:pre;overflow-x:auto;line-height:normal;font-family:Menlo,'DejaVu Sans Mono',consolas,'Courier New',monospace\"></pre>\n"
      ],
      "text/plain": []
     },
     "metadata": {},
     "output_type": "display_data"
    },
    {
     "data": {
      "text/html": [
       "<div>\n",
       "<style scoped>\n",
       "    .dataframe tbody tr th:only-of-type {\n",
       "        vertical-align: middle;\n",
       "    }\n",
       "\n",
       "    .dataframe tbody tr th {\n",
       "        vertical-align: top;\n",
       "    }\n",
       "\n",
       "    .dataframe thead th {\n",
       "        text-align: right;\n",
       "    }\n",
       "</style>\n",
       "<table border=\"1\" class=\"dataframe\">\n",
       "  <thead>\n",
       "    <tr style=\"text-align: right;\">\n",
       "      <th></th>\n",
       "      <th>mana_curve_efficiency</th>\n",
       "    </tr>\n",
       "  </thead>\n",
       "  <tbody>\n",
       "    <tr>\n",
       "      <th>count</th>\n",
       "      <td>244.000000</td>\n",
       "    </tr>\n",
       "    <tr>\n",
       "      <th>mean</th>\n",
       "      <td>0.566803</td>\n",
       "    </tr>\n",
       "    <tr>\n",
       "      <th>std</th>\n",
       "      <td>0.399955</td>\n",
       "    </tr>\n",
       "    <tr>\n",
       "      <th>min</th>\n",
       "      <td>0.000000</td>\n",
       "    </tr>\n",
       "    <tr>\n",
       "      <th>25%</th>\n",
       "      <td>0.000000</td>\n",
       "    </tr>\n",
       "    <tr>\n",
       "      <th>50%</th>\n",
       "      <td>0.710000</td>\n",
       "    </tr>\n",
       "    <tr>\n",
       "      <th>75%</th>\n",
       "      <td>0.900000</td>\n",
       "    </tr>\n",
       "    <tr>\n",
       "      <th>max</th>\n",
       "      <td>1.000000</td>\n",
       "    </tr>\n",
       "  </tbody>\n",
       "</table>\n",
       "</div>"
      ],
      "text/plain": [
       "\n",
       "       mana_curve_efficiency\n",
       "count             \u001b[1;36m244.000000\u001b[0m\n",
       "mean                \u001b[1;36m0.566803\u001b[0m\n",
       "std                 \u001b[1;36m0.399955\u001b[0m\n",
       "min                 \u001b[1;36m0.000000\u001b[0m\n",
       "\u001b[1;36m25\u001b[0m%                 \u001b[1;36m0.000000\u001b[0m\n",
       "\u001b[1;36m50\u001b[0m%                 \u001b[1;36m0.710000\u001b[0m\n",
       "\u001b[1;36m75\u001b[0m%                 \u001b[1;36m0.900000\u001b[0m\n",
       "max                 \u001b[1;36m1.000000\u001b[0m"
      ]
     },
     "execution_count": 10,
     "metadata": {},
     "output_type": "execute_result"
    }
   ],
   "source": [
    "train_target.describe()"
   ]
  },
  {
   "cell_type": "code",
   "execution_count": 11,
   "metadata": {},
   "outputs": [
    {
     "data": {
      "text/html": [
       "<pre style=\"white-space:pre;overflow-x:auto;line-height:normal;font-family:Menlo,'DejaVu Sans Mono',consolas,'Courier New',monospace\"><span style=\"color: #7fbfbf; text-decoration-color: #7fbfbf\">                    </span><span style=\"color: #000080; text-decoration-color: #000080\">INFO    </span> Loading data from <span style=\"color: #ff8700; text-decoration-color: #ff8700\">train_features</span> <span style=\"font-weight: bold\">(</span>ParquetDataset<span style=\"font-weight: bold\">)</span><span style=\"color: #808000; text-decoration-color: #808000\">...</span>               <a href=\"file://c:\\Users\\gufer\\miniconda3\\envs\\mtg_env\\Lib\\site-packages\\kedro\\io\\data_catalog.py\" target=\"_blank\"><span style=\"color: #7f7f7f; text-decoration-color: #7f7f7f\">data_catalog.py</span></a><span style=\"color: #7f7f7f; text-decoration-color: #7f7f7f\">:</span><a href=\"file://c:\\Users\\gufer\\miniconda3\\envs\\mtg_env\\Lib\\site-packages\\kedro\\io\\data_catalog.py#539\" target=\"_blank\"><span style=\"color: #7f7f7f; text-decoration-color: #7f7f7f\">539</span></a>\n",
       "</pre>\n"
      ],
      "text/plain": [
       "\u001b[2;36m                   \u001b[0m\u001b[2;36m \u001b[0m\u001b[34mINFO    \u001b[0m Loading data from \u001b[38;5;208mtrain_features\u001b[0m \u001b[1m(\u001b[0mParquetDataset\u001b[1m)\u001b[0m\u001b[33m...\u001b[0m               \u001b]8;id=199778;file://c:\\Users\\gufer\\miniconda3\\envs\\mtg_env\\Lib\\site-packages\\kedro\\io\\data_catalog.py\u001b\\\u001b[2mdata_catalog.py\u001b[0m\u001b]8;;\u001b\\\u001b[2m:\u001b[0m\u001b]8;id=668208;file://c:\\Users\\gufer\\miniconda3\\envs\\mtg_env\\Lib\\site-packages\\kedro\\io\\data_catalog.py#539\u001b\\\u001b[2m539\u001b[0m\u001b]8;;\u001b\\\n"
      ]
     },
     "metadata": {},
     "output_type": "display_data"
    },
    {
     "data": {
      "text/html": [
       "<pre style=\"white-space:pre;overflow-x:auto;line-height:normal;font-family:Menlo,'DejaVu Sans Mono',consolas,'Courier New',monospace\"><span style=\"color: #7fbfbf; text-decoration-color: #7fbfbf\">                    </span><span style=\"color: #000080; text-decoration-color: #000080\">INFO    </span> Loading data from <span style=\"color: #ff8700; text-decoration-color: #ff8700\">train_target</span> <span style=\"font-weight: bold\">(</span>ParquetDataset<span style=\"font-weight: bold\">)</span><span style=\"color: #808000; text-decoration-color: #808000\">...</span>                 <a href=\"file://c:\\Users\\gufer\\miniconda3\\envs\\mtg_env\\Lib\\site-packages\\kedro\\io\\data_catalog.py\" target=\"_blank\"><span style=\"color: #7f7f7f; text-decoration-color: #7f7f7f\">data_catalog.py</span></a><span style=\"color: #7f7f7f; text-decoration-color: #7f7f7f\">:</span><a href=\"file://c:\\Users\\gufer\\miniconda3\\envs\\mtg_env\\Lib\\site-packages\\kedro\\io\\data_catalog.py#539\" target=\"_blank\"><span style=\"color: #7f7f7f; text-decoration-color: #7f7f7f\">539</span></a>\n",
       "</pre>\n"
      ],
      "text/plain": [
       "\u001b[2;36m                   \u001b[0m\u001b[2;36m \u001b[0m\u001b[34mINFO    \u001b[0m Loading data from \u001b[38;5;208mtrain_target\u001b[0m \u001b[1m(\u001b[0mParquetDataset\u001b[1m)\u001b[0m\u001b[33m...\u001b[0m                 \u001b]8;id=167991;file://c:\\Users\\gufer\\miniconda3\\envs\\mtg_env\\Lib\\site-packages\\kedro\\io\\data_catalog.py\u001b\\\u001b[2mdata_catalog.py\u001b[0m\u001b]8;;\u001b\\\u001b[2m:\u001b[0m\u001b]8;id=739444;file://c:\\Users\\gufer\\miniconda3\\envs\\mtg_env\\Lib\\site-packages\\kedro\\io\\data_catalog.py#539\u001b\\\u001b[2m539\u001b[0m\u001b]8;;\u001b\\\n"
      ]
     },
     "metadata": {},
     "output_type": "display_data"
    },
    {
     "data": {
      "text/html": [
       "<pre style=\"white-space:pre;overflow-x:auto;line-height:normal;font-family:Menlo,'DejaVu Sans Mono',consolas,'Courier New',monospace\"><span style=\"color: #7fbfbf; text-decoration-color: #7fbfbf\">                    </span><span style=\"color: #000080; text-decoration-color: #000080\">INFO    </span> Loading data from <span style=\"color: #ff8700; text-decoration-color: #ff8700\">params:modeling.model_selection.params_grid</span>      <a href=\"file://c:\\Users\\gufer\\miniconda3\\envs\\mtg_env\\Lib\\site-packages\\kedro\\io\\data_catalog.py\" target=\"_blank\"><span style=\"color: #7f7f7f; text-decoration-color: #7f7f7f\">data_catalog.py</span></a><span style=\"color: #7f7f7f; text-decoration-color: #7f7f7f\">:</span><a href=\"file://c:\\Users\\gufer\\miniconda3\\envs\\mtg_env\\Lib\\site-packages\\kedro\\io\\data_catalog.py#539\" target=\"_blank\"><span style=\"color: #7f7f7f; text-decoration-color: #7f7f7f\">539</span></a>\n",
       "<span style=\"color: #7fbfbf; text-decoration-color: #7fbfbf\">                    </span>         <span style=\"font-weight: bold\">(</span>MemoryDataset<span style=\"font-weight: bold\">)</span><span style=\"color: #808000; text-decoration-color: #808000\">...</span>                                                 <span style=\"color: #7f7f7f; text-decoration-color: #7f7f7f\">                   </span>\n",
       "</pre>\n"
      ],
      "text/plain": [
       "\u001b[2;36m                   \u001b[0m\u001b[2;36m \u001b[0m\u001b[34mINFO    \u001b[0m Loading data from \u001b[38;5;208mparams:modeling.model_selection.params_grid\u001b[0m      \u001b]8;id=578462;file://c:\\Users\\gufer\\miniconda3\\envs\\mtg_env\\Lib\\site-packages\\kedro\\io\\data_catalog.py\u001b\\\u001b[2mdata_catalog.py\u001b[0m\u001b]8;;\u001b\\\u001b[2m:\u001b[0m\u001b]8;id=530408;file://c:\\Users\\gufer\\miniconda3\\envs\\mtg_env\\Lib\\site-packages\\kedro\\io\\data_catalog.py#539\u001b\\\u001b[2m539\u001b[0m\u001b]8;;\u001b\\\n",
       "\u001b[2;36m                    \u001b[0m         \u001b[1m(\u001b[0mMemoryDataset\u001b[1m)\u001b[0m\u001b[33m...\u001b[0m                                                 \u001b[2m                   \u001b[0m\n"
      ]
     },
     "metadata": {},
     "output_type": "display_data"
    },
    {
     "name": "stdout",
     "output_type": "stream",
     "text": [
      "Fitting 5 folds for each of 1620 candidates, totalling 8100 fits\n"
     ]
    },
    {
     "data": {
      "text/html": [
       "<pre style=\"white-space:pre;overflow-x:auto;line-height:normal;font-family:Menlo,'DejaVu Sans Mono',consolas,'Courier New',monospace\"><span style=\"color: #7fbfbf; text-decoration-color: #7fbfbf\">[09/18/24 20:34:52] </span><span style=\"color: #000080; text-decoration-color: #000080\">INFO    </span> Saving data to <span style=\"color: #ff8700; text-decoration-color: #ff8700\">best_model</span> <span style=\"font-weight: bold\">(</span>PartitionedDataset<span style=\"font-weight: bold\">)</span><span style=\"color: #808000; text-decoration-color: #808000\">...</span>                  <a href=\"file://c:\\Users\\gufer\\miniconda3\\envs\\mtg_env\\Lib\\site-packages\\kedro\\io\\data_catalog.py\" target=\"_blank\"><span style=\"color: #7f7f7f; text-decoration-color: #7f7f7f\">data_catalog.py</span></a><span style=\"color: #7f7f7f; text-decoration-color: #7f7f7f\">:</span><a href=\"file://c:\\Users\\gufer\\miniconda3\\envs\\mtg_env\\Lib\\site-packages\\kedro\\io\\data_catalog.py#581\" target=\"_blank\"><span style=\"color: #7f7f7f; text-decoration-color: #7f7f7f\">581</span></a>\n",
       "</pre>\n"
      ],
      "text/plain": [
       "\u001b[2;36m[09/18/24 20:34:52]\u001b[0m\u001b[2;36m \u001b[0m\u001b[34mINFO    \u001b[0m Saving data to \u001b[38;5;208mbest_model\u001b[0m \u001b[1m(\u001b[0mPartitionedDataset\u001b[1m)\u001b[0m\u001b[33m...\u001b[0m                  \u001b]8;id=293957;file://c:\\Users\\gufer\\miniconda3\\envs\\mtg_env\\Lib\\site-packages\\kedro\\io\\data_catalog.py\u001b\\\u001b[2mdata_catalog.py\u001b[0m\u001b]8;;\u001b\\\u001b[2m:\u001b[0m\u001b]8;id=21708;file://c:\\Users\\gufer\\miniconda3\\envs\\mtg_env\\Lib\\site-packages\\kedro\\io\\data_catalog.py#581\u001b\\\u001b[2m581\u001b[0m\u001b]8;;\u001b\\\n"
      ]
     },
     "metadata": {},
     "output_type": "display_data"
    },
    {
     "data": {
      "text/html": [
       "<pre style=\"white-space:pre;overflow-x:auto;line-height:normal;font-family:Menlo,'DejaVu Sans Mono',consolas,'Courier New',monospace\"><span style=\"color: #7fbfbf; text-decoration-color: #7fbfbf\">                    </span><span style=\"color: #000080; text-decoration-color: #000080\">INFO    </span> Saving data to <span style=\"color: #ff8700; text-decoration-color: #ff8700\">best_hiper_params</span> <span style=\"font-weight: bold\">(</span>PartitionedDataset<span style=\"font-weight: bold\">)</span><span style=\"color: #808000; text-decoration-color: #808000\">...</span>           <a href=\"file://c:\\Users\\gufer\\miniconda3\\envs\\mtg_env\\Lib\\site-packages\\kedro\\io\\data_catalog.py\" target=\"_blank\"><span style=\"color: #7f7f7f; text-decoration-color: #7f7f7f\">data_catalog.py</span></a><span style=\"color: #7f7f7f; text-decoration-color: #7f7f7f\">:</span><a href=\"file://c:\\Users\\gufer\\miniconda3\\envs\\mtg_env\\Lib\\site-packages\\kedro\\io\\data_catalog.py#581\" target=\"_blank\"><span style=\"color: #7f7f7f; text-decoration-color: #7f7f7f\">581</span></a>\n",
       "</pre>\n"
      ],
      "text/plain": [
       "\u001b[2;36m                   \u001b[0m\u001b[2;36m \u001b[0m\u001b[34mINFO    \u001b[0m Saving data to \u001b[38;5;208mbest_hiper_params\u001b[0m \u001b[1m(\u001b[0mPartitionedDataset\u001b[1m)\u001b[0m\u001b[33m...\u001b[0m           \u001b]8;id=763651;file://c:\\Users\\gufer\\miniconda3\\envs\\mtg_env\\Lib\\site-packages\\kedro\\io\\data_catalog.py\u001b\\\u001b[2mdata_catalog.py\u001b[0m\u001b]8;;\u001b\\\u001b[2m:\u001b[0m\u001b]8;id=389885;file://c:\\Users\\gufer\\miniconda3\\envs\\mtg_env\\Lib\\site-packages\\kedro\\io\\data_catalog.py#581\u001b\\\u001b[2m581\u001b[0m\u001b]8;;\u001b\\\n"
      ]
     },
     "metadata": {},
     "output_type": "display_data"
    }
   ],
   "source": [
    "import logging\n",
    "import pickle\n",
    "from sklearn.tree import DecisionTreeRegressor\n",
    "from sklearn.model_selection import GridSearchCV\n",
    "from datetime import datetime\n",
    "\n",
    "# Configuração do logger\n",
    "logger = logging.getLogger(__name__)\n",
    "logging.basicConfig(level=logging.INFO)\n",
    "\n",
    "\n",
    "# Obter a data e hora atuais\n",
    "now = datetime.now()\n",
    "\n",
    "# Definir as constantes para data e hora de execução\n",
    "RUN_DATE = now.strftime('%Y-%m-%d')  # Formato: 'YYYY-MM-DD'\n",
    "RUN_TIME = now.strftime('%H:%M')  # Formato: 'HH:MM'\n",
    "\n",
    "def fit_model(\n",
    "    train_features: pd.DataFrame,\n",
    "    train_target: pd.DataFrame,\n",
    "    param_grid: dict,\n",
    ") -> str:\n",
    "    \"\"\"\n",
    "    Ajusta um modelo de árvore de decisão com suporte a features temporais e realiza tuning de hiperparâmetros com GridSearchCV.\n",
    "    O modelo ajustado é salvo em um arquivo .pkl.\n",
    "\n",
    "    Args:\n",
    "        train_features (pd.DataFrame): DataFrame com as features de treino.\n",
    "        train_target (pd.DataFrame): DataFrame com a variável target de treino.\n",
    "        param_grid (dict): Dicionário com os hiperparâmetros a serem ajustados.\n",
    "        model_path (str): Caminho para salvar o modelo ajustado (.pkl).\n",
    "\n",
    "    Returns:\n",
    "        model_path (str): Caminho do arquivo do modelo ajustado salvo.\n",
    "    \"\"\"\n",
    "    logger.info(\"Iniciando o ajuste do modelo e o tuning de hiperparâmetros.\")\n",
    "\n",
    "    # Criando o modelo base\n",
    "    model = DecisionTreeRegressor(random_state=42)\n",
    "    \n",
    "    logger.info(\"Configurando o GridSearchCV com a seguinte grade de hiperparâmetros:\")\n",
    "    logger.info(param_grid)\n",
    "\n",
    "    # Configurando o GridSearchCV para tuning de hiperparâmetros\n",
    "    grid_search = GridSearchCV(\n",
    "        estimator=model,\n",
    "        param_grid=param_grid,\n",
    "        scoring='neg_mean_squared_error',\n",
    "        cv=5,\n",
    "        verbose=1\n",
    "    )\n",
    "    \n",
    "    # Ajustando o modelo com os dados de treino e realizando tuning\n",
    "    grid_search.fit(train_features, train_target)\n",
    "    \n",
    "    # Extraindo o melhor modelo e seus parâmetros\n",
    "    best_model = {run_key:grid_search.best_estimator_}\n",
    "    best_hiper_params = {run_key:grid_search.best_params_}\n",
    "\n",
    "    logger.info(\"O melhor modelo foi encontrado com os seguintes hiperparâmetros:\")\n",
    "    logger.info(best_hiper_params)\n",
    "\n",
    "    return best_model, best_hiper_params\n",
    "\n",
    "train_features = catalog.load(\"train_features\")\n",
    "train_target = catalog.load(\"train_target\")\n",
    "param_grid = catalog.load(\"params:modeling.model_selection.params_grid\")\n",
    "best_model, best_hiper_params = fit_model(train_features, train_target, param_grid)\n",
    "catalog.save(\"best_model\", best_model)\n",
    "catalog.save(\"best_hiper_params\", best_hiper_params)"
   ]
  },
  {
   "cell_type": "code",
   "execution_count": 13,
   "metadata": {},
   "outputs": [
    {
     "data": {
      "text/html": [
       "<pre style=\"white-space:pre;overflow-x:auto;line-height:normal;font-family:Menlo,'DejaVu Sans Mono',consolas,'Courier New',monospace\"></pre>\n"
      ],
      "text/plain": []
     },
     "metadata": {},
     "output_type": "display_data"
    },
    {
     "data": {
      "text/plain": [
       "\n",
       "\u001b[1m{\u001b[0m\n",
       "    \u001b[32m'max_depth'\u001b[0m: \u001b[1;36m10\u001b[0m,\n",
       "    \u001b[32m'max_features'\u001b[0m: \u001b[32m'sqrt'\u001b[0m,\n",
       "    \u001b[32m'max_leaf_nodes'\u001b[0m: \u001b[1;36m20\u001b[0m,\n",
       "    \u001b[32m'min_samples_leaf'\u001b[0m: \u001b[1;36m1\u001b[0m,\n",
       "    \u001b[32m'min_samples_split'\u001b[0m: \u001b[1;36m20\u001b[0m,\n",
       "    \u001b[32m'min_weight_fraction_leaf'\u001b[0m: \u001b[1;36m0.0\u001b[0m\n",
       "\u001b[1m}\u001b[0m"
      ]
     },
     "execution_count": 13,
     "metadata": {},
     "output_type": "execute_result"
    }
   ],
   "source": [
    "best_hiper_params"
   ]
  },
  {
   "cell_type": "code",
   "execution_count": null,
   "metadata": {},
   "outputs": [],
   "source": [
    "def predict_and_evaluate_model(\n",
    "        model: pickle, \n",
    "        test_features: pd.DataFrame) -> pd.Series:\n",
    "    \"\"\"\n",
    "    Carrega o modelo salvo e faz previsões nos dados de teste.\n",
    "\n",
    "    Args:\n",
    "        model (pickle): Arquivo do modelo ajustado.\n",
    "        test_features (pd.DataFrame): DataFrame com as features de teste.\n",
    "\n",
    "    Returns:\n",
    "        y_pred (pd.Series): Previsões do modelo.\n",
    "    \"\"\"\n",
    "    logger.info(f\"Carregando o modelo...\")\n",
    "    logger.info(\"Fazendo previsões nos dados de teste.\")\n",
    "    \n",
    "    # Fazendo previsões\n",
    "    y_pred = model.predict(test_features)\n",
    "    \n",
    "    # Calculando todas as metricas de erro\n",
    "\n",
    "    # Calculando os shap_value\n",
    "\n",
    "    return y_pred, shap_values, error_metrics\n",
    "\n",
    "\n",
    "#model = catalog.load(\"model_pkl\")"
   ]
  }
 ],
 "metadata": {
  "kernelspec": {
   "display_name": "mtg_env",
   "language": "python",
   "name": "python3"
  },
  "language_info": {
   "codemirror_mode": {
    "name": "ipython",
    "version": 3
   },
   "file_extension": ".py",
   "mimetype": "text/x-python",
   "name": "python",
   "nbconvert_exporter": "python",
   "pygments_lexer": "ipython3",
   "version": "3.12.5"
  }
 },
 "nbformat": 4,
 "nbformat_minor": 2
}
